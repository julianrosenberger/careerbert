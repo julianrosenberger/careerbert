{
 "cells": [
  {
   "cell_type": "markdown",
   "metadata": {
    "id": "vWc0eKAkvQ4N"
   },
   "source": [
    "# Imports"
   ]
  },
  {
   "cell_type": "code",
   "execution_count": 1,
   "metadata": {
    "colab": {
     "base_uri": "https://localhost:8080/"
    },
    "executionInfo": {
     "elapsed": 28401,
     "status": "ok",
     "timestamp": 1690208129260,
     "user": {
      "displayName": "Lukas Wolfrum",
      "userId": "10737638498661133063"
     },
     "user_tz": -120
    },
    "id": "3T332_EwupGs",
    "outputId": "017a604f-45ad-44f1-c03b-cf9d63a890a2"
   },
   "outputs": [],
   "source": [
    "# from google.colab import drive\n",
    "# drive.mount('/content/drive')\n",
    "# %cd /content/drive/MyDrive/TRAINING"
   ]
  },
  {
   "cell_type": "code",
   "execution_count": null,
   "metadata": {},
   "outputs": [],
   "source": [
    "import sys\n",
    "sys.path.append('..')\n",
    "from _utils import load_json, load_pickle, flatten_list"
   ]
  },
  {
   "cell_type": "code",
   "execution_count": null,
   "metadata": {
    "executionInfo": {
     "elapsed": 8019,
     "status": "ok",
     "timestamp": 1690208410199,
     "user": {
      "displayName": "Lukas Wolfrum",
      "userId": "10737638498661133063"
     },
     "user_tz": -120
    },
    "id": "9ecegc_5vLgd"
   },
   "outputs": [],
   "source": [
    "# Import necessary libraries\n",
    "from sklearn.feature_extraction.text import TfidfVectorizer\n",
    "from sklearn.feature_extraction.text import CountVectorizer\n",
    "from pypdf import PdfReader\n",
    "from sklearn.metrics.pairwise import cosine_similarity\n",
    "from helpers import *\n",
    "import pandas as pd\n",
    "import nltk\n",
    "nltk.download('stopwords')\n",
    "from nltk.corpus import stopwords\n",
    "import numpy as np"
   ]
  },
  {
   "cell_type": "code",
   "execution_count": null,
   "metadata": {
    "id": "ZHZ5Kqsc2qTx"
   },
   "outputs": [],
   "source": [
    "# Define a function to calculate similarity between user skills and job titles\n",
    "def calculate_similarity_user_skills(input_text, top_n=10):\n",
    "    \"\"\"\n",
    "    Calculate similarity between user input and job titles using TF-IDF.\n",
    "    Args:\n",
    "        input_text (str): User input text.\n",
    "        top_n (int): Number of top matches to return.\n",
    "    Returns:\n",
    "        DataFrame: Similarity scores for top matches.\n",
    "    \"\"\"\n",
    "    if isinstance(input_text, str):\n",
    "        input_text = [input_text]\n",
    "    path = \"../00_data/TF-IDF_Vectorizer\"\n",
    "    vectorizer = load_pickle(path + \"1_vectorizer.pkl\")\n",
    "    tfidf_matrix = load_pickle(path + \"1_tfidf_matrix.pkl\")\n",
    "    job_titles = load_pickle(path + \"1_jobnames.pkl\")\n",
    "    input_tfidf = vectorizer.transform(input_text)\n",
    "    cosine_sim = cosine_similarity(tfidf_matrix, input_tfidf)\n",
    "    similarity_df = pd.DataFrame(\n",
    "        cosine_sim, index=job_titles, columns=[\"Similarity\"]\n",
    "    ).sort_values(by=\"Similarity\", ascending=False)\n",
    "    return similarity_df.head(top_n)"
   ]
  },
  {
   "cell_type": "code",
   "execution_count": 1,
   "metadata": {
    "id": "YDxJXb8-L4yK"
   },
   "outputs": [],
   "source": [
    "def get_similarity_userskills_input(inputtext,vectorizer,tfidf_matrix):\n",
    "  \"\"\"\n",
    "    Calculates the cosine similarity between input text and a TF-IDF matrix representing job skills.\n",
    "\n",
    "    This function transforms the input text into a TF-IDF vector using a provided vectorizer,\n",
    "    and then computes the cosine similarity between this vector and a pre-computed TF-IDF matrix The function is designed to assess\n",
    "    how well the input text aligns with the content represented in the TF-IDF matrix.\n",
    "\n",
    "    Args:\n",
    "        inputtext (str or list of str): The input text (e.g., a job seeker's resume) to compare against the job skills matrix.\n",
    "                                     If a string is provided, it is converted into a list containing that single string.\n",
    "        vectorizer: A fitted TF-IDF vectorizer object (e.g., `sklearn.feature_extraction.text.TfidfVectorizer`)\n",
    "                    that has been trained on the vocabulary of the job skills matrix.  This vectorizer is used to\n",
    "                    transform the input text into a TF-IDF vector with the same feature space as the matrix.\n",
    "        tfidf_matrix: A pre-computed TF-IDF matrix representing job skills or descriptions.  Each row of the matrix\n",
    "                      corresponds to a different job or skill set.\n",
    "\n",
    "    Returns:\n",
    "        numpy.ndarray: A 2D numpy array containing the cosine similarity scores.  The shape of the array is\n",
    "                       (number of input texts, number of jobs/skillsets in the TF-IDF matrix).  Each element [i, j]\n",
    "                       represents the cosine similarity between the i-th input text and the j-th job/skillset.\n",
    "    \"\"\"\n",
    "  if isinstance(inputtext,str):\n",
    "    inputtext = [inputtext]\n",
    "\n",
    "  jobtitles = load_pickle(r\"../00_data/TF-IDF_Vectorizer/1_jobnames.pkl\")\n",
    "  inputtfidf = vectorizer.transform(inputtext)\n",
    "  cosine_sim = cosine_similarity(inputtfidf,tfidf_matrix)\n",
    "\n",
    "  return cosine_sim"
   ]
  },
  {
   "cell_type": "code",
   "execution_count": null,
   "metadata": {},
   "outputs": [],
   "source": []
  },
  {
   "cell_type": "code",
   "execution_count": null,
   "metadata": {
    "id": "9l2Uv3xeymGr"
   },
   "outputs": [],
   "source": [
    "def evaluate(cosine_sim):\n",
    "  \"\"\"\n",
    "    Evaluates the performance of a cosine similarity-based job recommendation system using Mean Reciprocal Rank (MRR).\n",
    "\n",
    "    This function takes a matrix of cosine similarity scores between job advertisements and job postings,\n",
    "    and calculates the MRR@100 metric.  For each job advertisement, it identifies the rank of the\n",
    "    correct job posting based on the similarity scores, and computes the reciprocal of this rank.\n",
    "    If the correct job posting is not within the top 100 recommendations, it assigns a reciprocal rank of 0.\n",
    "    The MRR@100 is then calculated as the average of these reciprocal ranks across all job advertisements.\n",
    "\n",
    "    Args:\n",
    "        cosine_sim (numpy.ndarray): A 2D numpy array representing the cosine similarity scores between\n",
    "                                     job advertisements and job postings. Rows correspond to job advertisements,\n",
    "                                     and columns correspond to job postings.\n",
    "\n",
    "    Returns:\n",
    "        float: The Mean Reciprocal Rank at 100 (MRR@100) score, representing the average reciprocal rank\n",
    "               of the correct job posting for each job advertisement, considering only the top 100 recommendations.\n",
    "    \"\"\"\n",
    "  ranks = []\n",
    "  simdf = pd.DataFrame(cosine_sim, columns=job_ids, index=testad_ids)\n",
    "  for i in (range(len(simdf))):\n",
    "    id = simdf.iloc[i].name\n",
    "    series = simdf.iloc[i].sort_values(ascending=False).reset_index()\n",
    "    rank = series[series[\"index\"]==id].index.item()+1\n",
    "    if rank > 100:\n",
    "      ranks.append(0)\n",
    "      continue\n",
    "    else:\n",
    "      ranks.append(1/rank)\n",
    "  return np.mean(ranks)"
   ]
  },
  {
   "cell_type": "code",
   "execution_count": null,
   "metadata": {
    "id": "A3f1iWy6wCqW"
   },
   "outputs": [],
   "source": [
    "# Load German stop words\n",
    "german_stop_words = stopwords.words('german')"
   ]
  },
  {
   "cell_type": "markdown",
   "metadata": {
    "id": "sI4XBeqKvTc7"
   },
   "source": [
    "# Data"
   ]
  },
  {
   "cell_type": "code",
   "execution_count": null,
   "metadata": {
    "colab": {
     "base_uri": "https://localhost:8080/"
    },
    "executionInfo": {
     "elapsed": 2710,
     "status": "ok",
     "timestamp": 1690208142762,
     "user": {
      "displayName": "Lukas Wolfrum",
      "userId": "10737638498661133063"
     },
     "user_tz": -120
    },
    "id": "vYE6KN2VvTVg",
    "outputId": "d43723f3-579c-4af3-f4f1-ac20487d99b2"
   },
   "outputs": [
    {
     "name": "stdout",
     "output_type": "stream",
     "text": []
    }
   ],
   "source": [
    "# Load job data\n",
    "jobs = pd.DataFrame(load_json(r\"../00_data/ESCO/ESCO_JOBS_ALL.json\"))\n",
    "jobs.columns"
   ]
  },
  {
   "cell_type": "code",
   "execution_count": null,
   "metadata": {
    "id": "JONg3N0anAtc"
   },
   "outputs": [],
   "source": [
    "# Extract job titles and IDs\n",
    "job_titles = list(jobs[\"jobtitle\"])\n",
    "job_ids = list(jobs[\"jobid_esco\"])"
   ]
  },
  {
   "cell_type": "markdown",
   "metadata": {
    "id": "Xp6om0PIUwd3"
   },
   "source": [
    "## Synonyms"
   ]
  },
  {
   "cell_type": "code",
   "execution_count": 10,
   "metadata": {
    "id": "ieGOCmg4RagL"
   },
   "outputs": [],
   "source": [
    "def insert_jobtitle_to_synonyms(ad):\n",
    "  if ad[\"synonyms\"] == None:\n",
    "    return ad[\"jobtitle\"].split(\"/\")\n",
    "  else:\n",
    "    return ad[\"synonyms\"]\n",
    "jobs[\"synonyms_altered\"] = jobs.apply(insert_jobtitle_to_synonyms,axis=1)"
   ]
  },
  {
   "cell_type": "code",
   "execution_count": 11,
   "metadata": {
    "id": "48udbX_sQKvP"
   },
   "outputs": [],
   "source": [
    "unique_synonyms = list(set(flatten_list([x for x in jobs[\"synonyms_altered\"] if x != None])))\n",
    "len(unique_synonyms)\n",
    "synonym_l_of_l = [\" \".join(x) for x in jobs[\"synonyms_altered\"]]"
   ]
  },
  {
   "cell_type": "code",
   "execution_count": 12,
   "metadata": {
    "id": "l_DgFXij7YAF"
   },
   "outputs": [],
   "source": [
    "vectorizer = TfidfVectorizer(ngram_range=(1,2), stop_words=german_stop_words)\n",
    "vectorizer = vectorizer.fit(unique_synonyms)\n",
    "tfidf_matrix = vectorizer.transform(synonym_l_of_l)\n",
    "features = vectorizer.get_feature_names_out()"
   ]
  },
  {
   "cell_type": "markdown",
   "metadata": {
    "id": "Qu6IIoO9Uuyu"
   },
   "source": [
    "## Skills"
   ]
  },
  {
   "cell_type": "code",
   "execution_count": 13,
   "metadata": {
    "colab": {
     "base_uri": "https://localhost:8080/"
    },
    "executionInfo": {
     "elapsed": 15,
     "status": "ok",
     "timestamp": 1690208142765,
     "user": {
      "displayName": "Lukas Wolfrum",
      "userId": "10737638498661133063"
     },
     "user_tz": -120
    },
    "id": "CjL0y6KqvgR1",
    "outputId": "f7284e4b-b5a7-40d5-d9f5-dba015a37f09"
   },
   "outputs": [
    {
     "data": {},
     "execution_count": 13,
     "metadata": {},
     "output_type": "execute_result"
    }
   ],
   "source": [
    "skilllist = set(flatten_list(jobs[\"full_skills\"]))\n",
    "len(skilllist)"
   ]
  },
  {
   "cell_type": "code",
   "execution_count": 14,
   "metadata": {
    "id": "_RvGLw8oxylY"
   },
   "outputs": [],
   "source": [
    "fullskills_jobs = [\" \".join(skillset) for skillset in jobs[\"full_skills\"]]\n",
    "\n",
    "# print(len(fullskills_jobs))\n",
    "# print(jobtitle[0])\n",
    "# fullskills_jobs[0]"
   ]
  },
  {
   "cell_type": "code",
   "execution_count": 15,
   "metadata": {
    "colab": {
     "base_uri": "https://localhost:8080/"
    },
    "executionInfo": {
     "elapsed": 637,
     "status": "ok",
     "timestamp": 1690208144896,
     "user": {
      "displayName": "Lukas Wolfrum",
      "userId": "10737638498661133063"
     },
     "user_tz": -120
    },
    "id": "wH8utJ7SuMmD",
    "outputId": "6241db61-2cb6-4eae-98df-777341a2dad7"
   },
   "outputs": [
    {
     "data": {},
     "execution_count": 15,
     "metadata": {},
     "output_type": "execute_result"
    }
   ],
   "source": [
    "vectorizer = TfidfVectorizer(ngram_range=(1,2), stop_words=german_stop_words)\n",
    "vectorizer = vectorizer.fit(skilllist)\n",
    "\n",
    "tfidf_matrix = vectorizer.transform(fullskills_jobs)\n",
    "features = vectorizer.get_feature_names_out()\n",
    "tfidf_matrix"
   ]
  },
  {
   "cell_type": "markdown",
   "metadata": {
    "id": "DhFEtCLNU9he"
   },
   "source": [
    "## Combination\n"
   ]
  },
  {
   "cell_type": "code",
   "execution_count": 16,
   "metadata": {
    "id": "h7aZlGRiU9PP"
   },
   "outputs": [],
   "source": [
    "# info_unique_concat = list(unique_synonyms) + list(skilllist)\n",
    "# total_l_of_l = []\n",
    "\n",
    "# for syns, skills in zip(jobs[\"synonyms_altered\"],jobs[\"full_skills\"]):\n",
    "#   total_l_of_l.append(\" \".join(syns+skills))"
   ]
  },
  {
   "cell_type": "code",
   "execution_count": 17,
   "metadata": {
    "colab": {
     "base_uri": "https://localhost:8080/"
    },
    "executionInfo": {
     "elapsed": 3715,
     "status": "ok",
     "timestamp": 1685694924852,
     "user": {
      "displayName": "Lukas Wolfrum",
      "userId": "10737638498661133063"
     },
     "user_tz": -120
    },
    "id": "ywKfp62sx1nP",
    "outputId": "62ec34b0-39a8-4fef-8313-ed334d942cbf"
   },
   "outputs": [],
   "source": [
    "# vectorizer = TfidfVectorizer(ngram_range=(1,2), stop_words=german_stop_words)\n",
    "# vectorizer = vectorizer.fit(info_unique_concat)\n",
    "# tfidf_matrix = vectorizer.transform(total_l_of_l)\n",
    "# features = vectorizer.get_feature_names_out()\n",
    "# tfidf_matrix"
   ]
  },
  {
   "cell_type": "markdown",
   "metadata": {
    "id": "iQ5Vof40saSu"
   },
   "source": [
    "## Descriptions"
   ]
  },
  {
   "cell_type": "code",
   "execution_count": 18,
   "metadata": {
    "id": "g7tUhSQTsY10"
   },
   "outputs": [],
   "source": [
    "# unique_desc = (jobs[\"jobdescription\"])\n",
    "# vectorizer = TfidfVectorizer(ngram_range=(1,1), stop_words=german_stop_words)\n",
    "# tfidf_matrix = vectorizer.fit_transform(unique_desc)\n",
    "# features = vectorizer.get_feature_names_out()"
   ]
  },
  {
   "cell_type": "markdown",
   "metadata": {
    "id": "y0jLFJviU_jD"
   },
   "source": [
    "# Application"
   ]
  },
  {
   "cell_type": "code",
   "execution_count": 19,
   "metadata": {
    "executionInfo": {
     "elapsed": 5,
     "status": "ok",
     "timestamp": 1690208573282,
     "user": {
      "displayName": "Lukas Wolfrum",
      "userId": "10737638498661133063"
     },
     "user_tz": -120
    },
    "id": "bbGqYiwBy0V7"
   },
   "outputs": [],
   "source": [
    "path = \"../00_data/TF-IDF_Vectorizer/\""
   ]
  },
  {
   "cell_type": "code",
   "execution_count": 20,
   "metadata": {
    "id": "XP2OdBdWvJ82"
   },
   "outputs": [],
   "source": [
    "# idf_list = []\n",
    "# for idf, word in zip(vectorizer.idf_, vectorizer.get_feature_names_out()):\n",
    "#   idf_list.append({\"idf\":idf,\"word\":word})\n",
    "# pd.DataFrame(idf_list).sort_values(\"idf\")"
   ]
  },
  {
   "cell_type": "code",
   "execution_count": 36,
   "metadata": {
    "colab": {
     "base_uri": "https://localhost:8080/"
    },
    "executionInfo": {
     "elapsed": 436,
     "status": "ok",
     "timestamp": 1690208160037,
     "user": {
      "displayName": "Lukas Wolfrum",
      "userId": "10737638498661133063"
     },
     "user_tz": -120
    },
    "id": "q54uIPSDyxtr",
    "outputId": "0715af55-23b2-4817-a47e-df22187f6cd3"
   },
   "outputs": [
    {
     "name": "stdout",
     "output_type": "stream",
     "text": []
    }
   ],
   "source": [
    "write_pickle(f\"{path}1_vectorizer.pkl\", vectorizer)\n",
    "write_pickle(f\"{path}1_tfidf_matrix.pkl\", tfidf_matrix)\n",
    "write_pickle(f\"{path}1_jobnames.pkl\", jobtitle)\n",
    "write_pickle(f\"{path}1_escoids.pkl\", job_ids)"
   ]
  },
  {
   "cell_type": "code",
   "execution_count": 22,
   "metadata": {
    "id": "Y8BGQ4Up22OH"
   },
   "outputs": [],
   "source": [
    "testads = pd.DataFrame(load_json(r\"../00_data/EURES/eures_testads_final_short.json\"))"
   ]
  },
  {
   "cell_type": "code",
   "execution_count": 23,
   "metadata": {
    "id": "PE4xJHcf3WUm"
   },
   "outputs": [],
   "source": [
    "testad_texts = list(testads[\"short_texts\"])\n",
    "testad_ids = list(testads[\"esco_id\"])"
   ]
  },
  {
   "cell_type": "markdown",
   "metadata": {
    "id": "2dd6fOeJwU1x"
   },
   "source": [
    "# Setup Vec & Matrix"
   ]
  },
  {
   "cell_type": "code",
   "execution_count": 24,
   "metadata": {
    "colab": {
     "base_uri": "https://localhost:8080/",
     "height": 363
    },
    "executionInfo": {
     "elapsed": 92328,
     "status": "ok",
     "timestamp": 1685695022117,
     "user": {
      "displayName": "Lukas Wolfrum",
      "userId": "10737638498661133063"
     },
     "user_tz": -120
    },
    "id": "cA-2iNkcyEhw",
    "outputId": "8213290b-e2c0-4c1a-8cf7-0182eeb22acc"
   },
   "outputs": [
    {
     "data": {},
     "metadata": {},
     "output_type": "display_data"
    }
   ],
   "source": [
    "evaluation = []\n",
    "for vec in [TfidfVectorizer]:#, CountVectorizer]:\n",
    "  for ngram in [(1,1),(1,2),(1,3)]:\n",
    "    for stopword_removal in [True, False]:\n",
    "      if stopword_removal == True:\n",
    "        vectorizer = vec(ngram_range=ngram, stop_words=german_stop_words)\n",
    "      else:\n",
    "        vectorizer = vec(ngram_range=ngram)\n",
    "      vectorizer = vectorizer.fit(skilllist)\n",
    "      tfidf_matrix = vectorizer.transform(fullskills_jobs)\n",
    "      #tfidf_matrix = vectorizer.fit_transform(unique_desc)\n",
    "      cosine_sim = get_similarity_userskills_input(testad_texts,vectorizer,tfidf_matrix)\n",
    "      max_value = (max(map(max, cosine_sim)))\n",
    "      MRR = evaluate(cosine_sim)\n",
    "      evaluation.append({\"vectorizer\":str(vec).split(\".\")[-1][:-2],\"n-gram range\":ngram,\n",
    "                         \"stopword_removal\":stopword_removal,\"MRR@100\":MRR,\"max_similarity\":max_value})\n",
    "display(pd.DataFrame(evaluation))"
   ]
  },
  {
   "cell_type": "code",
   "execution_count": 25,
   "metadata": {
    "colab": {
     "base_uri": "https://localhost:8080/",
     "height": 565
    },
    "executionInfo": {
     "elapsed": 530,
     "status": "ok",
     "timestamp": 1685695022637,
     "user": {
      "displayName": "Lukas Wolfrum",
      "userId": "10737638498661133063"
     },
     "user_tz": -120
    },
    "id": "GGbOJVMy0H5p",
    "outputId": "4c203f38-451b-4d01-991e-ecb712e80933"
   },
   "outputs": [
    {
     "name": "stdout",
     "output_type": "stream",
     "text": []
    },
    {
     "data": {},
     "metadata": {},
     "output_type": "display_data"
    }
   ],
   "source": [
    "df = pd.DataFrame(evaluation)\n",
    "df[\"MRR@100\"] = df[\"MRR@100\"].round(3)\n",
    "ax = df[df[\"vectorizer\"]==\"TfidfVectorizer\"].pivot(\"n-gram range\",\"stopword_removal\",values=\"MRR@100\").plot(kind=\"bar\", figsize=(12, 5),ylabel=\"MRR@100\",title=\"Comparison of TFIDF Settings\")\n",
    "for container in ax.containers:\n",
    "    ax.bar_label(container)"
   ]
  },
  {
   "cell_type": "code",
   "execution_count": 26,
   "metadata": {
    "id": "deM9pV1h2oHp"
   },
   "outputs": [],
   "source": [
    "cvs = load_cvs()"
   ]
  },
  {
   "cell_type": "code",
   "execution_count": 27,
   "metadata": {
    "id": "o_dqxx1hZRaE"
   },
   "outputs": [],
   "source": [
    "def get_similarity_userskills(inputtext,vectorizer,tfidf_matrix, topn = 10):\n",
    "  if isinstance(inputtext,str):\n",
    "    inputtext = [inputtext]\n",
    "  jobtitles = load_pickle(r\"../00_data/TF-IDF_Vectorizer/1_jobnames.pkl\")\n",
    "  inputtfidf = vectorizer.transform(inputtext)\n",
    "  cosine_sim = cosine_similarity(tfidf_matrix,inputtfidf)\n",
    "  cossim_df = pd.DataFrame(cosine_sim, index = jobtitles, columns=[\"Similarity\"]).sort_values(by=\"Similarity\",ascending=False)\n",
    "  return cossim_df"
   ]
  },
  {
   "cell_type": "code",
   "execution_count": 28,
   "metadata": {
    "id": "NqTkbKnDvC26"
   },
   "outputs": [],
   "source": [
    "text = cvs[1]"
   ]
  },
  {
   "cell_type": "code",
   "execution_count": 29,
   "metadata": {
    "colab": {
     "base_uri": "https://localhost:8080/",
     "height": 551
    },
    "executionInfo": {
     "elapsed": 13,
     "status": "ok",
     "timestamp": 1685695025424,
     "user": {
      "displayName": "Lukas Wolfrum",
      "userId": "10737638498661133063"
     },
     "user_tz": -120
    },
    "id": "lplnrgel2rOc",
    "outputId": "8f2b1312-29ed-4ced-fd2b-df615e250e60"
   },
   "outputs": [
    {
     "data": {},
     "execution_count": 29,
     "metadata": {},
     "output_type": "execute_result"
    }
   ],
   "source": [
    "inputtfidf = vectorizer.transform([text])\n",
    "features = vectorizer.get_feature_names_out()\n",
    "df = pd.DataFrame(inputtfidf.toarray(),index =[\"input\"], columns = features).T.sort_values(by=\"input\",ascending=False)\n",
    "df[df[\"input\"]!=0]"
   ]
  },
  {
   "cell_type": "code",
   "execution_count": 30,
   "metadata": {
    "colab": {
     "base_uri": "https://localhost:8080/",
     "height": 677
    },
    "executionInfo": {
     "elapsed": 772,
     "status": "ok",
     "timestamp": 1685695026185,
     "user": {
      "displayName": "Lukas Wolfrum",
      "userId": "10737638498661133063"
     },
     "user_tz": -120
    },
    "id": "dCguTiNZvAKE",
    "outputId": "2576d4b5-9305-4425-b5e1-3d517cb82669"
   },
   "outputs": [
    {
     "data": {},
     "execution_count": 30,
     "metadata": {},
     "output_type": "execute_result"
    }
   ],
   "source": [
    "get_similarity_userskills(text, vectorizer,tfidf_matrix).iloc[:20]"
   ]
  },
  {
   "cell_type": "code",
   "execution_count": 31,
   "metadata": {
    "id": "v0cYGbgwwadW"
   },
   "outputs": [],
   "source": [
    "def get_tfidf_features_job(job, tfidf_matrix):\n",
    "    index = jobtitle.index(job)\n",
    "    feature_dict = {}\n",
    "    for v, feature in zip(tfidf_matrix[index].toarray()[0], features):\n",
    "        if v != 0:\n",
    "            feature_dict[feature] = v\n",
    "    return (feature_dict)"
   ]
  },
  {
   "cell_type": "code",
   "execution_count": 32,
   "metadata": {
    "id": "53F25NJkwvTN"
   },
   "outputs": [],
   "source": [
    "def get_tfidf_features(text):\n",
    "    inputtfidf = vectorizer.transform([(text)])\n",
    "    features = vectorizer.get_feature_names_out()\n",
    "    input_dict = {}\n",
    "    for v, feature in zip(inputtfidf.toarray()[0], features):\n",
    "            if v != 0:\n",
    "                input_dict[feature] = v\n",
    "    return (input_dict)"
   ]
  },
  {
   "cell_type": "code",
   "execution_count": 33,
   "metadata": {
    "id": "QsnF7koWwy0W"
   },
   "outputs": [],
   "source": [
    "def compare_tfidf(text, job, tfidf_matrix):\n",
    "    input_tfidf = get_tfidf_features(text)\n",
    "    #print(input_tfidf)\n",
    "    jobfeatures = get_tfidf_features_job(job, tfidf_matrix)\n",
    "    #print(jobfeatures)\n",
    "    output_dict = {}\n",
    "    for k in jobfeatures:\n",
    "        if k in input_tfidf:\n",
    "            output_dict[k] = input_tfidf[k]\n",
    "    return output_dict"
   ]
  },
  {
   "cell_type": "code",
   "execution_count": 34,
   "metadata": {
    "colab": {
     "base_uri": "https://localhost:8080/"
    },
    "executionInfo": {
     "elapsed": 31,
     "status": "ok",
     "timestamp": 1685695026187,
     "user": {
      "displayName": "Lukas Wolfrum",
      "userId": "10737638498661133063"
     },
     "user_tz": -120
    },
    "id": "UR5z8Ge-wxJh",
    "outputId": "d10efa70-6d5b-4268-99a4-3161eb843fc1"
   },
   "outputs": [
    {
     "data": {},
     "execution_count": 34,
     "metadata": {},
     "output_type": "execute_result"
    }
   ],
   "source": [
    "compare_tfidf(text,\"Spieleentwickler/Spieleentwicklerin\",tfidf_matrix)"
   ]
  }
 ],
 "metadata": {
  "colab": {
   "authorship_tag": "ABX9TyNUcXuK532GB05kP3dIzNTl",
   "provenance": []
  },
  "gpuClass": "standard",
  "kernelspec": {
   "display_name": "careerbert",
   "language": "python",
   "name": "python3"
  },
  "language_info": {
   "codemirror_mode": {
    "name": "ipython",
    "version": 3
   },
   "file_extension": ".py",
   "mimetype": "text/x-python",
   "name": "python",
   "nbconvert_exporter": "python",
   "pygments_lexer": "ipython3",
   "version": "3.13.2"
  }
 },
 "nbformat": 4,
 "nbformat_minor": 4
}
