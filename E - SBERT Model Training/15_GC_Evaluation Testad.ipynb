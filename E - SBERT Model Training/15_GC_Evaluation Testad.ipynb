{
 "cells": [
  {
   "cell_type": "code",
   "execution_count": null,
   "metadata": {
    "colab": {
     "base_uri": "https://localhost:8080/"
    },
    "executionInfo": {
     "elapsed": 27060,
     "status": "ok",
     "timestamp": 1684238812705,
     "user": {
      "displayName": "Lukas Wolfrum",
      "userId": "10737638498661133063"
     },
     "user_tz": -120
    },
    "id": "0t74FaNzNYLh",
    "outputId": "cceade98-785a-432a-aee3-c829c1b41dfb"
   },
   "outputs": [],
   "source": [
    "# from google.colab import drive\n",
    "# drive.mount('/content/drive')\n",
    "# %cd /content/drive/MyDrive/TRAINING"
   ]
  },
  {
   "cell_type": "code",
   "execution_count": null,
   "metadata": {
    "executionInfo": {
     "elapsed": 25781,
     "status": "ok",
     "timestamp": 1684238838479,
     "user": {
      "displayName": "Lukas Wolfrum",
      "userId": "10737638498661133063"
     },
     "user_tz": -120
    },
    "id": "xTK4iRKPNsmr"
   },
   "outputs": [],
   "source": [
    "# %%capture\n",
    "# !pip install sentence_transformers\n",
    "# !pip install pypdf\n",
    "# !pip install xlsxwriter"
   ]
  },
  {
   "cell_type": "code",
   "execution_count": null,
   "metadata": {
    "colab": {
     "base_uri": "https://localhost:8080/"
    },
    "executionInfo": {
     "elapsed": 11232,
     "status": "ok",
     "timestamp": 1684238849705,
     "user": {
      "displayName": "Lukas Wolfrum",
      "userId": "10737638498661133063"
     },
     "user_tz": -120
    },
    "id": "nSJ_xOTyNe79",
    "outputId": "1bf2344e-6aa9-4771-ac7d-dd4cce459371"
   },
   "outputs": [],
   "source": [
    "from sentence_transformers import SentenceTransformer, util\n",
    "from datetime import datetime\n",
    "from IPython.core.display import display, HTML\n",
    "\n",
    "import os\n",
    "\n",
    "import random\n",
    "random.seed(42)\n",
    "import pandas as pd\n",
    "from helpers import *\n",
    "import pickle\n",
    "import numpy as np\n",
    "import torch\n",
    "from pypdf import PdfReader\n",
    "from sklearn.metrics.pairwise import cosine_similarity\n",
    "from tqdm import tqdm \n",
    "from collections import Counter\n",
    "import math\n",
    "from nltk import word_tokenize\n",
    "from transformers import AutoModelForSequenceClassification, AutoTokenizer,pipeline\n",
    "import nltk\n",
    "nltk.download('punkt')"
   ]
  },
  {
   "cell_type": "markdown",
   "metadata": {
    "id": "hr-iUSpfKNxD"
   },
   "source": [
    "# Functions"
   ]
  },
  {
   "cell_type": "code",
   "execution_count": null,
   "metadata": {
    "executionInfo": {
     "elapsed": 9,
     "status": "ok",
     "timestamp": 1684238849706,
     "user": {
      "displayName": "Lukas Wolfrum",
      "userId": "10737638498661133063"
     },
     "user_tz": -120
    },
    "id": "XfGrYGfhujsN"
   },
   "outputs": [],
   "source": [
    "def load_cvs():\n",
    "    cvs = []\n",
    "    for i in range(1,6):\n",
    "        cv = \"\"\n",
    "        reader = PdfReader(f\"../00_data/CVs/CV_{i}.pdf\")\n",
    "\n",
    "        pages = reader.pages\n",
    "        for i in range(len(pages)):\n",
    "            page = reader.pages[i].extract_text().strip()\n",
    "            cv +=page\n",
    "        cvs.append(cv)\n",
    "    return cvs"
   ]
  },
  {
   "cell_type": "code",
   "execution_count": null,
   "metadata": {
    "executionInfo": {
     "elapsed": 8,
     "status": "ok",
     "timestamp": 1684238849706,
     "user": {
      "displayName": "Lukas Wolfrum",
      "userId": "10737638498661133063"
     },
     "user_tz": -120
    },
    "id": "l_8YywleOER5"
   },
   "outputs": [],
   "source": [
    "def load_pickle(filepath):\n",
    "  with open(filepath, \"rb\") as fIn:\n",
    "      stored_data = pickle.load(fIn)\n",
    "  return stored_data"
   ]
  },
  {
   "cell_type": "code",
   "execution_count": null,
   "metadata": {
    "executionInfo": {
     "elapsed": 8,
     "status": "ok",
     "timestamp": 1684238849706,
     "user": {
      "displayName": "Lukas Wolfrum",
      "userId": "10737638498661133063"
     },
     "user_tz": -120
    },
    "id": "pSNVHdHjfJD4"
   },
   "outputs": [],
   "source": [
    "def setup_classifier():\n",
    "    path = \"../00_data/Classifier/model_classification_jobgbert/\"\n",
    "    model = AutoModelForSequenceClassification.from_pretrained(path)\n",
    "    tokenizer = AutoTokenizer.from_pretrained(path)\n",
    "    Classifier = pipeline(\"text-classification\",model,tokenizer=tokenizer)\n",
    "    return Classifier\n"
   ]
  },
  {
   "cell_type": "code",
   "execution_count": null,
   "metadata": {
    "executionInfo": {
     "elapsed": 6,
     "status": "ok",
     "timestamp": 1684238849706,
     "user": {
      "displayName": "Lukas Wolfrum",
      "userId": "10737638498661133063"
     },
     "user_tz": -120
    },
    "id": "OQAUPoyf6ATh"
   },
   "outputs": [],
   "source": [
    "def ismanager(ad):\n",
    "  return \"leiter\" in ad[\"jobtitle\"].lower() or \"führungskraft\" in ad[\"jobtitle\"].lower() or \"arzt\" in ad[\"jobtitle\"].lower() #or ad[\"esco_id\"][0]==\"1\""
   ]
  },
  {
   "cell_type": "code",
   "execution_count": null,
   "metadata": {
    "executionInfo": {
     "elapsed": 7,
     "status": "ok",
     "timestamp": 1684238849707,
     "user": {
      "displayName": "Lukas Wolfrum",
      "userId": "10737638498661133063"
     },
     "user_tz": -120
    },
    "id": "x0qpW7QPrJi3"
   },
   "outputs": [],
   "source": [
    "def text_alphanum(text):\n",
    "  return \"\".join(x for x in text if x.isalnum() or x.isspace())"
   ]
  },
  {
   "cell_type": "code",
   "execution_count": null,
   "metadata": {
    "executionInfo": {
     "elapsed": 7,
     "status": "ok",
     "timestamp": 1684238849707,
     "user": {
      "displayName": "Lukas Wolfrum",
      "userId": "10737638498661133063"
     },
     "user_tz": -120
    },
    "id": "EyDo7RmGejgJ"
   },
   "outputs": [],
   "source": [
    "def shorten_text(text,pipe):\n",
    "    annots_jobad = []\n",
    "    splitted_text = [x for x in text.split(\"\\n\") if x != \"\" or x != \" ,\"]\n",
    "    print(len(splitted_text))\n",
    "    if len(splitted_text) <= 2 or len(splitted_text)>50:\n",
    "      tokenized = word_tokenize(text, language=\"german\")\n",
    "      no_chunks = math.ceil(len(tokenized)/20)\n",
    "      print(no_chunks)\n",
    "      splitted_text = np.array_split((tokenized), no_chunks)\n",
    "      splitted_text = [\" \".join(x) for x in splitted_text]\n",
    "    #print(len(splitted_text))\n",
    "    for paragraph in splitted_text:\n",
    "        try:\n",
    "            res = pipe(paragraph)[0][\"label\"]\n",
    "        except:\n",
    "            res = pipe(paragraph[:250])[0][\"label\"]\n",
    "        annots_jobad.append({\"text\":paragraph,\"label\":res})\n",
    "        text_short = \" \".join([x[\"text\"] for x in annots_jobad if x[\"label\"] == \"LABEL_1\"])\n",
    "    return text_short"
   ]
  },
  {
   "cell_type": "markdown",
   "metadata": {
    "id": "vFcGnT6HNw_6"
   },
   "source": [
    "# Load Data"
   ]
  },
  {
   "cell_type": "code",
   "execution_count": null,
   "metadata": {
    "executionInfo": {
     "elapsed": 6,
     "status": "ok",
     "timestamp": 1684238849707,
     "user": {
      "displayName": "Lukas Wolfrum",
      "userId": "10737638498661133063"
     },
     "user_tz": -120
    },
    "id": "DaOu-ijuguxF"
   },
   "outputs": [],
   "source": [
    "prefix_path = \"../00_data/SBERT_Models/models/\""
   ]
  },
  {
   "cell_type": "code",
   "execution_count": null,
   "metadata": {
    "executionInfo": {
     "elapsed": 2104,
     "status": "ok",
     "timestamp": 1684238851805,
     "user": {
      "displayName": "Lukas Wolfrum",
      "userId": "10737638498661133063"
     },
     "user_tz": -120
    },
    "id": "OBXlTG72NwQS"
   },
   "outputs": [],
   "source": [
    "testads = pd.DataFrame(load_json(r\"../00_data/EURES/eures_testads_final_short.json\"))"
   ]
  },
  {
   "cell_type": "markdown",
   "metadata": {
    "id": "W82kJ5OiOGFc"
   },
   "source": [
    "# Load Model"
   ]
  },
  {
   "cell_type": "code",
   "execution_count": null,
   "metadata": {
    "colab": {
     "base_uri": "https://localhost:8080/"
    },
    "executionInfo": {
     "elapsed": 16,
     "status": "ok",
     "timestamp": 1684238851807,
     "user": {
      "displayName": "Lukas Wolfrum",
      "userId": "10737638498661133063"
     },
     "user_tz": -120
    },
    "id": "QE5A4LArONyu",
    "outputId": "21864e40-1b76-4e6e-b0f2-879d4e9031f7"
   },
   "outputs": [],
   "source": [
    "for model in os.listdir(prefix_path):\n",
    "  print(f\"Available model: {model}\")"
   ]
  },
  {
   "cell_type": "code",
   "execution_count": null,
   "metadata": {
    "executionInfo": {
     "elapsed": 11,
     "status": "ok",
     "timestamp": 1684238851807,
     "user": {
      "displayName": "Lukas Wolfrum",
      "userId": "10737638498661133063"
     },
     "user_tz": -120
    },
    "id": "qLSNgcfJf5M2"
   },
   "outputs": [],
   "source": [
    "paths = [#\"deepset/gbert-base\",\n",
    "          #\"agne/jobGBERT\",\n",
    "          #\"jobgbert_TSDAE_epochs5/\",\n",
    "          #\"gbert_TSDAE_epochs5/\",\n",
    "          #\"jobgbert_batch16_woTSDAE_2e-05_f10/\",\n",
    "          #\"jobgbert_batch16_wTSDAE_2e-05_f10/\",\n",
    "          \"jobgbert_batch32_woTSDAE_2e-05_f10/\",\n",
    "          #\"jobgbert_batch32_wTSDAE_2e-05_f10/\",\n",
    "          #\"jobgbert_batch64_woTSDAE_2e-05_f10/\",\n",
    "          #\"jobgbert_batch64_wTSDAE_2e-05_f10/\",\n",
    "          #\"gbert_batch16_woTSDAE_2e-05_f10/\",\n",
    "          #\"gbert_batch16_wTSDAE_2e-05_f10/\",\n",
    "          \"gbert_batch32_woTSDAE_2e-05_f10/\",\n",
    "         # \"gbert_batch32_wTSDAE_2e-05_f10/\",\n",
    "          #\"gbert_batch64_woTSDAE_2e-05_f10/\",\n",
    "          #\"gbert_batch64_wTSDAE_2e-05_f10/\",\n",
    "          ]\n",
    "          "
   ]
  },
  {
   "cell_type": "markdown",
   "metadata": {
    "id": "CZ9-7M1Dj_rS"
   },
   "source": [
    "# Evaluate with Test Ads"
   ]
  },
  {
   "cell_type": "code",
   "execution_count": null,
   "metadata": {
    "executionInfo": {
     "elapsed": 11,
     "status": "ok",
     "timestamp": 1684238851808,
     "user": {
      "displayName": "Lukas Wolfrum",
      "userId": "10737638498661133063"
     },
     "user_tz": -120
    },
    "id": "cbQmmDTzfEvS"
   },
   "outputs": [],
   "source": [
    "MRR = []\n",
    "MRR_AT = 100\n",
    "currently = \"\".join([c for c in str(datetime.now()).split('.')[0] if c.isdigit()])\n",
    "\n",
    "for model_path in paths:\n",
    "  print(f\"Loading Model {model_path}\")\n",
    "  if model_path in [\"agne/jobGBERT\",\"deepset/gbert-base\"]:\n",
    "    model = SentenceTransformer(model_path)\n",
    "    embeddings = encode_jobs(model)\n",
    "  else:\n",
    "    model = SentenceTransformer(f\"../00_data/SBERT_Models/Models{model_path}\")\n",
    "    embeddings = load_pickle(f\"../00_data/SBERT_Models/Models{model_path}embeddings.pkl\")\n",
    "  print(embeddings.keys())\n",
    "  print(\"Creating Embeddings.\")\n",
    "  encodings_short = model.encode(list(testads[\"short_texts\"]), show_progress_bar=True)\n",
    " # encodings_long = model.encode(list(testads[\"description\"]), show_progress_bar=True) \n",
    "\n",
    "  testads[\"embeddings_short\"] = encodings_short.tolist()\n",
    "  #testads[\"embeddings_long\"] = encodings_long.tolist()\n",
    "\n",
    "  print(\"Finished creating Embeddings. Evaluating.\")\n",
    "\n",
    "  for textkind in [\"embeddings_short\"]:#,\"embeddings_long\"]:\n",
    "    similarities = {}\n",
    "    for k in [\"job_centroid\"]:\n",
    "      similarities[k] = (util.cos_sim(testads[textkind],embeddings[k][\"embeddings\"]))\n",
    "    \n",
    "    for k in similarities:\n",
    "      ranks = []\n",
    "      missing = 0\n",
    "      max_similarity = (max(map(max, similarities[k])))\n",
    "      simdf = pd.DataFrame(similarities[k],columns=embeddings[k][\"esco_id\"], index=testads[\"esco_id\"])\n",
    "      for i in tqdm(range(len(simdf))):\n",
    "        id = simdf.iloc[i].name\n",
    "        series = simdf.iloc[i].sort_values(ascending=False).reset_index()\n",
    "        #print(series)\n",
    "        rank = (series[series[\"index\"]==id].index.item()+1)\n",
    "        #print(rank)\n",
    "        if rank > MRR_AT:\n",
    "          missing +=1\n",
    "          ranks.append(0)\n",
    "        else:\n",
    "          ranks.append(1/rank)\n",
    "      missing = missing/len(simdf)\n",
    "      MRR.append({\"model\":model_path.split(\"/\")[-2],\"textkind\": textkind,\"embedding_kind\":k,\n",
    "                  \"MRR\":np.mean(ranks), \"missing\":missing, \"max_similarity\": max_similarity, \"MRR@\":MRR_AT})\n",
    "      df = pd.DataFrame(MRR).sort_values(by=[\"MRR\"], ascending=[False]).reset_index(drop=True)\n",
    "      display(df)\n",
    "      df.to_excel(f\"../00_data/SBERT_Models/Evaluation/{currently}_evaluation.xlsx\")"
   ]
  },
  {
   "cell_type": "code",
   "execution_count": null,
   "metadata": {
    "executionInfo": {
     "elapsed": 11,
     "status": "ok",
     "timestamp": 1684238851809,
     "user": {
      "displayName": "Lukas Wolfrum",
      "userId": "10737638498661133063"
     },
     "user_tz": -120
    },
    "id": "VJtJH5_--s8x"
   },
   "outputs": [],
   "source": [
    "# df = pd.read_excel(f\"/content/drive/MyDrive/TRAINING/_COSINESIM/20230403173019_evaluation.xlsx\")"
   ]
  },
  {
   "cell_type": "markdown",
   "metadata": {
    "id": "JzJ1EhBMewWJ"
   },
   "source": [
    "# Test with TFIDF "
   ]
  },
  {
   "cell_type": "code",
   "execution_count": null,
   "metadata": {
    "executionInfo": {
     "elapsed": 11,
     "status": "ok",
     "timestamp": 1684238851809,
     "user": {
      "displayName": "Lukas Wolfrum",
      "userId": "10737638498661133063"
     },
     "user_tz": -120
    },
    "id": "La7xHOvyfxxW"
   },
   "outputs": [],
   "source": [
    "def calculate_tfidf_similarity(inputtext):\n",
    "  if isinstance(inputtext,str):\n",
    "    inputtext = [inputtext]\n",
    "  path = \"../00_data/TF-IDF_Vectorizer\"\n",
    "  vectorizer = load_pickle(path+\"1_vectorizer.pkl\")\n",
    "  tfidf_matrix = load_pickle(path+\"1_tfidf_matrix.pkl\")\n",
    "  #jobtitles = load_pickle(\"/content/drive/MyDrive/TRAINING/data/1_jobnames.pkl\")\n",
    "  escoids = load_pickle(path+\"1_escoids.pkl\")\n",
    "  inputtfidf = vectorizer.transform(inputtext)\n",
    "  cosine_sim = cosine_similarity(inputtfidf, tfidf_matrix)\n",
    "  #cossim_df = pd.DataFrame(cosine_sim, columns = escoids, index=[\"similarity\"]).T.sort_values(by=\"similarity\",ascending=False).reset_index()\n",
    "  #cossim_df.columns = [\"esco_id\",\"similarity\"]\n",
    "  #ranks = list(cossim_df.index+1)\n",
    "  #cossim_df[\"rank\"] = ranks\n",
    "  return cosine_sim#,cossim_df"
   ]
  },
  {
   "cell_type": "code",
   "execution_count": null,
   "metadata": {
    "colab": {
     "base_uri": "https://localhost:8080/"
    },
    "executionInfo": {
     "elapsed": 1510,
     "status": "ok",
     "timestamp": 1682578746565,
     "user": {
      "displayName": "Lukas Wolfrum",
      "userId": "10737638498661133063"
     },
     "user_tz": -120
    },
    "id": "2i0dSwXagAmN",
    "outputId": "9a317d36-215c-4c7e-b8c0-fea5e04c836f"
   },
   "outputs": [],
   "source": [
    "calculate_tfidf_similarity(testads[\"short_texts\"])"
   ]
  },
  {
   "cell_type": "code",
   "execution_count": null,
   "metadata": {
    "colab": {
     "base_uri": "https://localhost:8080/",
     "height": 767,
     "referenced_widgets": [
      "76b5ff71d26e46b694e82ef1dd802e9b",
      "bb2eb8b7a96848a29a0de2ecee8c49ca",
      "0d5133f343394907be0ebf285f0e1d1c",
      "d02c309dfcf34905bff59e23c4b922e0",
      "25a65102e2764097ac4c063e00c9546b",
      "e271358479b84f3dbc4ce60a3de7e2a8",
      "67fd09d7f52041fe878efc2d1582d851",
      "bc1995a8bc4a473fa991148a28b7201b",
      "8e82e80ca5ad4f83aac1cbe657fe5bdf",
      "9a79ef3672d3423db7ffe0c1d2dc8791",
      "52839f9ff9c54fe6a772c35dffddd434",
      "53db8f5e7b3d40c38122e64b619876e3",
      "b768acc3180849b2a2a287ea9281bc24",
      "2f79a69fb0e34065a134ba621906c91c",
      "aeb08f1b2e4c4cc89a7609fec58e8242",
      "f0ec5c3e46e04a0a980c99730af7f500",
      "bf83c0ee20694aeb99e0e24e72790741",
      "34ef3b88add64325b0255fd257794a73",
      "9c5222fa09544a4086ed0689f7bbef48",
      "02489c33e55f42a1a57c42dc0cf7dd5b",
      "3740a2a3d19a496ca23979c960e8d66b",
      "c719682e1b2444de8c03b6ebab8ba053"
     ]
    },
    "executionInfo": {
     "elapsed": 103036,
     "status": "ok",
     "timestamp": 1684239610509,
     "user": {
      "displayName": "Lukas Wolfrum",
      "userId": "10737638498661133063"
     },
     "user_tz": -120
    },
    "id": "BllvbarBeUMS",
    "outputId": "cde54fab-a16c-4368-afba-bf8b940e7385"
   },
   "outputs": [],
   "source": [
    "MRR = []\n",
    "MRR_AT = 100\n",
    "currently = \"\".join([c for c in str(datetime.now()).split('.')[0] if c.isdigit()])\n",
    "\n",
    "for model_path in paths:\n",
    "  print(f\"Loading Model {model_path}\")\n",
    "  if model_path in [\"agne/jobGBERT\",\"deepset/gbert-base\"]:\n",
    "    model = SentenceTransformer(model_path)\n",
    "    embeddings = encode_jobs(model)\n",
    "  else:\n",
    "    model = SentenceTransformer(f\"/content/drive/MyDrive/TRAINING/_COSINESIM/content/{model_path}\")\n",
    "    embeddings = load_pickle(f\"/content/drive/MyDrive/TRAINING/_COSINESIM/content/{model_path}embeddings.pkl\")\n",
    "  print(embeddings.keys())\n",
    "  print(\"Creating Embeddings.\")\n",
    "  encodings_short = model.encode(list(testads[\"short_texts\"]), show_progress_bar=True)\n",
    "  #encodings_long = model.encode(list(testads[\"description\"]), show_progress_bar=True) \n",
    "\n",
    "  testads[\"embeddings_short\"] = encodings_short.tolist()\n",
    "  #testads[\"embeddings_long\"] = encodings_long.tolist()\n",
    "\n",
    "  print(\"Finished creating Embeddings. Evaluating.\")\n",
    "\n",
    "  for textkind in [\"embeddings_short\"]:\n",
    "    similarities = {}\n",
    "    for k in [\"job_centroid\"]:\n",
    "        similarities_bert = (util.cos_sim(testads[textkind],embeddings[k][\"embeddings\"]))\n",
    "        similarities[k+\"_woTFIDF\"] = similarities_bert\n",
    "\n",
    "        max_influence_tfidf = (max(map(max, similarities_bert))).item()*0.2\n",
    "        similarities_tfidf = calculate_tfidf_similarity(testads[\"short_texts\"])\n",
    "        similarities_tfidf *= max_influence_tfidf/similarities_tfidf.max()\n",
    "        \n",
    "        similarities_combi = np.add(similarities_bert,similarities_tfidf)\n",
    "        similarities[k+\"_wTFIDF\"] = similarities_combi\n",
    "    print(similarities.keys())\n",
    "    for k in similarities:\n",
    "      ranks = []\n",
    "      missing = 0\n",
    "      simdf = pd.DataFrame(similarities[k],columns=embeddings[\"job_centroid\"][\"esco_id\"], index=testads[\"esco_id\"])\n",
    "      for i in tqdm(range(len(simdf))):\n",
    "        id = simdf.iloc[i].name\n",
    "        series = simdf.iloc[i].sort_values(ascending=False).reset_index()\n",
    "        #print(series)\n",
    "        rank = (series[series[\"index\"]==id].index.item()+1)\n",
    "        #print(rank)\n",
    "        if rank > MRR_AT:\n",
    "          missing +=1\n",
    "          ranks.append(0)\n",
    "        else:\n",
    "          ranks.append(1/rank)\n",
    "      missing = missing/len(simdf)\n",
    "      MRR.append({\"model\":model_path.split(\"/\")[-2],\"textkind\": textkind,\"embedding_kind\":k, \"MRR\":np.mean(ranks), \"missing\":missing, \"MRR@\":MRR_AT})\n",
    "      df = pd.DataFrame(MRR).sort_values(by=[\"MRR\"], ascending=[False]).reset_index(drop=True)\n",
    "      display(df)\n",
    "      df.to_excel(f\"../00_data/SBERT_Models/Evaluation/{currently}_evaluation.xlsx\")"
   ]
  }
 ],
 "metadata": {
  "accelerator": "GPU",
  "colab": {
   "authorship_tag": "ABX9TyOBFOeu3OazzwfiLS06TnIZ",
   "provenance": []
  },
  "gpuClass": "premium",
  "kernelspec": {
   "display_name": "Python 3 (ipykernel)",
   "language": "python",
   "name": "python3"
  },
  "language_info": {
   "codemirror_mode": {
    "name": "ipython",
    "version": 3
   },
   "file_extension": ".py",
   "mimetype": "text/x-python",
   "name": "python",
   "nbconvert_exporter": "python",
   "pygments_lexer": "ipython3",
   "version": "3.10.16"
  },
  "widgets": {
   "application/vnd.jupyter.widget-state+json": {
    "02489c33e55f42a1a57c42dc0cf7dd5b": {
     "model_module": "@jupyter-widgets/controls",
     "model_module_version": "1.5.0",
     "model_name": "ProgressStyleModel",
     "state": {
      "_model_module": "@jupyter-widgets/controls",
      "_model_module_version": "1.5.0",
      "_model_name": "ProgressStyleModel",
      "_view_count": null,
      "_view_module": "@jupyter-widgets/base",
      "_view_module_version": "1.2.0",
      "_view_name": "StyleView",
      "bar_color": null,
      "description_width": ""
     }
    },
    "0d5133f343394907be0ebf285f0e1d1c": {
     "model_module": "@jupyter-widgets/controls",
     "model_module_version": "1.5.0",
     "model_name": "FloatProgressModel",
     "state": {
      "_dom_classes": [],
      "_model_module": "@jupyter-widgets/controls",
      "_model_module_version": "1.5.0",
      "_model_name": "FloatProgressModel",
      "_view_count": null,
      "_view_module": "@jupyter-widgets/controls",
      "_view_module_version": "1.5.0",
      "_view_name": "ProgressView",
      "bar_style": "success",
      "description": "",
      "description_tooltip": null,
      "layout": "IPY_MODEL_bc1995a8bc4a473fa991148a28b7201b",
      "max": 71,
      "min": 0,
      "orientation": "horizontal",
      "style": "IPY_MODEL_8e82e80ca5ad4f83aac1cbe657fe5bdf",
      "value": 71
     }
    },
    "25a65102e2764097ac4c063e00c9546b": {
     "model_module": "@jupyter-widgets/base",
     "model_module_version": "1.2.0",
     "model_name": "LayoutModel",
     "state": {
      "_model_module": "@jupyter-widgets/base",
      "_model_module_version": "1.2.0",
      "_model_name": "LayoutModel",
      "_view_count": null,
      "_view_module": "@jupyter-widgets/base",
      "_view_module_version": "1.2.0",
      "_view_name": "LayoutView",
      "align_content": null,
      "align_items": null,
      "align_self": null,
      "border": null,
      "bottom": null,
      "display": null,
      "flex": null,
      "flex_flow": null,
      "grid_area": null,
      "grid_auto_columns": null,
      "grid_auto_flow": null,
      "grid_auto_rows": null,
      "grid_column": null,
      "grid_gap": null,
      "grid_row": null,
      "grid_template_areas": null,
      "grid_template_columns": null,
      "grid_template_rows": null,
      "height": null,
      "justify_content": null,
      "justify_items": null,
      "left": null,
      "margin": null,
      "max_height": null,
      "max_width": null,
      "min_height": null,
      "min_width": null,
      "object_fit": null,
      "object_position": null,
      "order": null,
      "overflow": null,
      "overflow_x": null,
      "overflow_y": null,
      "padding": null,
      "right": null,
      "top": null,
      "visibility": null,
      "width": null
     }
    },
    "2f79a69fb0e34065a134ba621906c91c": {
     "model_module": "@jupyter-widgets/controls",
     "model_module_version": "1.5.0",
     "model_name": "FloatProgressModel",
     "state": {
      "_dom_classes": [],
      "_model_module": "@jupyter-widgets/controls",
      "_model_module_version": "1.5.0",
      "_model_name": "FloatProgressModel",
      "_view_count": null,
      "_view_module": "@jupyter-widgets/controls",
      "_view_module_version": "1.5.0",
      "_view_name": "ProgressView",
      "bar_style": "success",
      "description": "",
      "description_tooltip": null,
      "layout": "IPY_MODEL_9c5222fa09544a4086ed0689f7bbef48",
      "max": 71,
      "min": 0,
      "orientation": "horizontal",
      "style": "IPY_MODEL_02489c33e55f42a1a57c42dc0cf7dd5b",
      "value": 71
     }
    },
    "34ef3b88add64325b0255fd257794a73": {
     "model_module": "@jupyter-widgets/controls",
     "model_module_version": "1.5.0",
     "model_name": "DescriptionStyleModel",
     "state": {
      "_model_module": "@jupyter-widgets/controls",
      "_model_module_version": "1.5.0",
      "_model_name": "DescriptionStyleModel",
      "_view_count": null,
      "_view_module": "@jupyter-widgets/base",
      "_view_module_version": "1.2.0",
      "_view_name": "StyleView",
      "description_width": ""
     }
    },
    "3740a2a3d19a496ca23979c960e8d66b": {
     "model_module": "@jupyter-widgets/base",
     "model_module_version": "1.2.0",
     "model_name": "LayoutModel",
     "state": {
      "_model_module": "@jupyter-widgets/base",
      "_model_module_version": "1.2.0",
      "_model_name": "LayoutModel",
      "_view_count": null,
      "_view_module": "@jupyter-widgets/base",
      "_view_module_version": "1.2.0",
      "_view_name": "LayoutView",
      "align_content": null,
      "align_items": null,
      "align_self": null,
      "border": null,
      "bottom": null,
      "display": null,
      "flex": null,
      "flex_flow": null,
      "grid_area": null,
      "grid_auto_columns": null,
      "grid_auto_flow": null,
      "grid_auto_rows": null,
      "grid_column": null,
      "grid_gap": null,
      "grid_row": null,
      "grid_template_areas": null,
      "grid_template_columns": null,
      "grid_template_rows": null,
      "height": null,
      "justify_content": null,
      "justify_items": null,
      "left": null,
      "margin": null,
      "max_height": null,
      "max_width": null,
      "min_height": null,
      "min_width": null,
      "object_fit": null,
      "object_position": null,
      "order": null,
      "overflow": null,
      "overflow_x": null,
      "overflow_y": null,
      "padding": null,
      "right": null,
      "top": null,
      "visibility": null,
      "width": null
     }
    },
    "52839f9ff9c54fe6a772c35dffddd434": {
     "model_module": "@jupyter-widgets/controls",
     "model_module_version": "1.5.0",
     "model_name": "DescriptionStyleModel",
     "state": {
      "_model_module": "@jupyter-widgets/controls",
      "_model_module_version": "1.5.0",
      "_model_name": "DescriptionStyleModel",
      "_view_count": null,
      "_view_module": "@jupyter-widgets/base",
      "_view_module_version": "1.2.0",
      "_view_name": "StyleView",
      "description_width": ""
     }
    },
    "53db8f5e7b3d40c38122e64b619876e3": {
     "model_module": "@jupyter-widgets/controls",
     "model_module_version": "1.5.0",
     "model_name": "HBoxModel",
     "state": {
      "_dom_classes": [],
      "_model_module": "@jupyter-widgets/controls",
      "_model_module_version": "1.5.0",
      "_model_name": "HBoxModel",
      "_view_count": null,
      "_view_module": "@jupyter-widgets/controls",
      "_view_module_version": "1.5.0",
      "_view_name": "HBoxView",
      "box_style": "",
      "children": [
       "IPY_MODEL_b768acc3180849b2a2a287ea9281bc24",
       "IPY_MODEL_2f79a69fb0e34065a134ba621906c91c",
       "IPY_MODEL_aeb08f1b2e4c4cc89a7609fec58e8242"
      ],
      "layout": "IPY_MODEL_f0ec5c3e46e04a0a980c99730af7f500"
     }
    },
    "67fd09d7f52041fe878efc2d1582d851": {
     "model_module": "@jupyter-widgets/controls",
     "model_module_version": "1.5.0",
     "model_name": "DescriptionStyleModel",
     "state": {
      "_model_module": "@jupyter-widgets/controls",
      "_model_module_version": "1.5.0",
      "_model_name": "DescriptionStyleModel",
      "_view_count": null,
      "_view_module": "@jupyter-widgets/base",
      "_view_module_version": "1.2.0",
      "_view_name": "StyleView",
      "description_width": ""
     }
    },
    "76b5ff71d26e46b694e82ef1dd802e9b": {
     "model_module": "@jupyter-widgets/controls",
     "model_module_version": "1.5.0",
     "model_name": "HBoxModel",
     "state": {
      "_dom_classes": [],
      "_model_module": "@jupyter-widgets/controls",
      "_model_module_version": "1.5.0",
      "_model_name": "HBoxModel",
      "_view_count": null,
      "_view_module": "@jupyter-widgets/controls",
      "_view_module_version": "1.5.0",
      "_view_name": "HBoxView",
      "box_style": "",
      "children": [
       "IPY_MODEL_bb2eb8b7a96848a29a0de2ecee8c49ca",
       "IPY_MODEL_0d5133f343394907be0ebf285f0e1d1c",
       "IPY_MODEL_d02c309dfcf34905bff59e23c4b922e0"
      ],
      "layout": "IPY_MODEL_25a65102e2764097ac4c063e00c9546b"
     }
    },
    "8e82e80ca5ad4f83aac1cbe657fe5bdf": {
     "model_module": "@jupyter-widgets/controls",
     "model_module_version": "1.5.0",
     "model_name": "ProgressStyleModel",
     "state": {
      "_model_module": "@jupyter-widgets/controls",
      "_model_module_version": "1.5.0",
      "_model_name": "ProgressStyleModel",
      "_view_count": null,
      "_view_module": "@jupyter-widgets/base",
      "_view_module_version": "1.2.0",
      "_view_name": "StyleView",
      "bar_color": null,
      "description_width": ""
     }
    },
    "9a79ef3672d3423db7ffe0c1d2dc8791": {
     "model_module": "@jupyter-widgets/base",
     "model_module_version": "1.2.0",
     "model_name": "LayoutModel",
     "state": {
      "_model_module": "@jupyter-widgets/base",
      "_model_module_version": "1.2.0",
      "_model_name": "LayoutModel",
      "_view_count": null,
      "_view_module": "@jupyter-widgets/base",
      "_view_module_version": "1.2.0",
      "_view_name": "LayoutView",
      "align_content": null,
      "align_items": null,
      "align_self": null,
      "border": null,
      "bottom": null,
      "display": null,
      "flex": null,
      "flex_flow": null,
      "grid_area": null,
      "grid_auto_columns": null,
      "grid_auto_flow": null,
      "grid_auto_rows": null,
      "grid_column": null,
      "grid_gap": null,
      "grid_row": null,
      "grid_template_areas": null,
      "grid_template_columns": null,
      "grid_template_rows": null,
      "height": null,
      "justify_content": null,
      "justify_items": null,
      "left": null,
      "margin": null,
      "max_height": null,
      "max_width": null,
      "min_height": null,
      "min_width": null,
      "object_fit": null,
      "object_position": null,
      "order": null,
      "overflow": null,
      "overflow_x": null,
      "overflow_y": null,
      "padding": null,
      "right": null,
      "top": null,
      "visibility": null,
      "width": null
     }
    },
    "9c5222fa09544a4086ed0689f7bbef48": {
     "model_module": "@jupyter-widgets/base",
     "model_module_version": "1.2.0",
     "model_name": "LayoutModel",
     "state": {
      "_model_module": "@jupyter-widgets/base",
      "_model_module_version": "1.2.0",
      "_model_name": "LayoutModel",
      "_view_count": null,
      "_view_module": "@jupyter-widgets/base",
      "_view_module_version": "1.2.0",
      "_view_name": "LayoutView",
      "align_content": null,
      "align_items": null,
      "align_self": null,
      "border": null,
      "bottom": null,
      "display": null,
      "flex": null,
      "flex_flow": null,
      "grid_area": null,
      "grid_auto_columns": null,
      "grid_auto_flow": null,
      "grid_auto_rows": null,
      "grid_column": null,
      "grid_gap": null,
      "grid_row": null,
      "grid_template_areas": null,
      "grid_template_columns": null,
      "grid_template_rows": null,
      "height": null,
      "justify_content": null,
      "justify_items": null,
      "left": null,
      "margin": null,
      "max_height": null,
      "max_width": null,
      "min_height": null,
      "min_width": null,
      "object_fit": null,
      "object_position": null,
      "order": null,
      "overflow": null,
      "overflow_x": null,
      "overflow_y": null,
      "padding": null,
      "right": null,
      "top": null,
      "visibility": null,
      "width": null
     }
    },
    "aeb08f1b2e4c4cc89a7609fec58e8242": {
     "model_module": "@jupyter-widgets/controls",
     "model_module_version": "1.5.0",
     "model_name": "HTMLModel",
     "state": {
      "_dom_classes": [],
      "_model_module": "@jupyter-widgets/controls",
      "_model_module_version": "1.5.0",
      "_model_name": "HTMLModel",
      "_view_count": null,
      "_view_module": "@jupyter-widgets/controls",
      "_view_module_version": "1.5.0",
      "_view_name": "HTMLView",
      "description": "",
      "description_tooltip": null,
      "layout": "IPY_MODEL_3740a2a3d19a496ca23979c960e8d66b",
      "placeholder": "​",
      "style": "IPY_MODEL_c719682e1b2444de8c03b6ebab8ba053",
      "value": " 71/71 [00:09&lt;00:00, 18.98it/s]"
     }
    },
    "b768acc3180849b2a2a287ea9281bc24": {
     "model_module": "@jupyter-widgets/controls",
     "model_module_version": "1.5.0",
     "model_name": "HTMLModel",
     "state": {
      "_dom_classes": [],
      "_model_module": "@jupyter-widgets/controls",
      "_model_module_version": "1.5.0",
      "_model_name": "HTMLModel",
      "_view_count": null,
      "_view_module": "@jupyter-widgets/controls",
      "_view_module_version": "1.5.0",
      "_view_name": "HTMLView",
      "description": "",
      "description_tooltip": null,
      "layout": "IPY_MODEL_bf83c0ee20694aeb99e0e24e72790741",
      "placeholder": "​",
      "style": "IPY_MODEL_34ef3b88add64325b0255fd257794a73",
      "value": "Batches: 100%"
     }
    },
    "bb2eb8b7a96848a29a0de2ecee8c49ca": {
     "model_module": "@jupyter-widgets/controls",
     "model_module_version": "1.5.0",
     "model_name": "HTMLModel",
     "state": {
      "_dom_classes": [],
      "_model_module": "@jupyter-widgets/controls",
      "_model_module_version": "1.5.0",
      "_model_name": "HTMLModel",
      "_view_count": null,
      "_view_module": "@jupyter-widgets/controls",
      "_view_module_version": "1.5.0",
      "_view_name": "HTMLView",
      "description": "",
      "description_tooltip": null,
      "layout": "IPY_MODEL_e271358479b84f3dbc4ce60a3de7e2a8",
      "placeholder": "​",
      "style": "IPY_MODEL_67fd09d7f52041fe878efc2d1582d851",
      "value": "Batches: 100%"
     }
    },
    "bc1995a8bc4a473fa991148a28b7201b": {
     "model_module": "@jupyter-widgets/base",
     "model_module_version": "1.2.0",
     "model_name": "LayoutModel",
     "state": {
      "_model_module": "@jupyter-widgets/base",
      "_model_module_version": "1.2.0",
      "_model_name": "LayoutModel",
      "_view_count": null,
      "_view_module": "@jupyter-widgets/base",
      "_view_module_version": "1.2.0",
      "_view_name": "LayoutView",
      "align_content": null,
      "align_items": null,
      "align_self": null,
      "border": null,
      "bottom": null,
      "display": null,
      "flex": null,
      "flex_flow": null,
      "grid_area": null,
      "grid_auto_columns": null,
      "grid_auto_flow": null,
      "grid_auto_rows": null,
      "grid_column": null,
      "grid_gap": null,
      "grid_row": null,
      "grid_template_areas": null,
      "grid_template_columns": null,
      "grid_template_rows": null,
      "height": null,
      "justify_content": null,
      "justify_items": null,
      "left": null,
      "margin": null,
      "max_height": null,
      "max_width": null,
      "min_height": null,
      "min_width": null,
      "object_fit": null,
      "object_position": null,
      "order": null,
      "overflow": null,
      "overflow_x": null,
      "overflow_y": null,
      "padding": null,
      "right": null,
      "top": null,
      "visibility": null,
      "width": null
     }
    },
    "bf83c0ee20694aeb99e0e24e72790741": {
     "model_module": "@jupyter-widgets/base",
     "model_module_version": "1.2.0",
     "model_name": "LayoutModel",
     "state": {
      "_model_module": "@jupyter-widgets/base",
      "_model_module_version": "1.2.0",
      "_model_name": "LayoutModel",
      "_view_count": null,
      "_view_module": "@jupyter-widgets/base",
      "_view_module_version": "1.2.0",
      "_view_name": "LayoutView",
      "align_content": null,
      "align_items": null,
      "align_self": null,
      "border": null,
      "bottom": null,
      "display": null,
      "flex": null,
      "flex_flow": null,
      "grid_area": null,
      "grid_auto_columns": null,
      "grid_auto_flow": null,
      "grid_auto_rows": null,
      "grid_column": null,
      "grid_gap": null,
      "grid_row": null,
      "grid_template_areas": null,
      "grid_template_columns": null,
      "grid_template_rows": null,
      "height": null,
      "justify_content": null,
      "justify_items": null,
      "left": null,
      "margin": null,
      "max_height": null,
      "max_width": null,
      "min_height": null,
      "min_width": null,
      "object_fit": null,
      "object_position": null,
      "order": null,
      "overflow": null,
      "overflow_x": null,
      "overflow_y": null,
      "padding": null,
      "right": null,
      "top": null,
      "visibility": null,
      "width": null
     }
    },
    "c719682e1b2444de8c03b6ebab8ba053": {
     "model_module": "@jupyter-widgets/controls",
     "model_module_version": "1.5.0",
     "model_name": "DescriptionStyleModel",
     "state": {
      "_model_module": "@jupyter-widgets/controls",
      "_model_module_version": "1.5.0",
      "_model_name": "DescriptionStyleModel",
      "_view_count": null,
      "_view_module": "@jupyter-widgets/base",
      "_view_module_version": "1.2.0",
      "_view_name": "StyleView",
      "description_width": ""
     }
    },
    "d02c309dfcf34905bff59e23c4b922e0": {
     "model_module": "@jupyter-widgets/controls",
     "model_module_version": "1.5.0",
     "model_name": "HTMLModel",
     "state": {
      "_dom_classes": [],
      "_model_module": "@jupyter-widgets/controls",
      "_model_module_version": "1.5.0",
      "_model_name": "HTMLModel",
      "_view_count": null,
      "_view_module": "@jupyter-widgets/controls",
      "_view_module_version": "1.5.0",
      "_view_name": "HTMLView",
      "description": "",
      "description_tooltip": null,
      "layout": "IPY_MODEL_9a79ef3672d3423db7ffe0c1d2dc8791",
      "placeholder": "​",
      "style": "IPY_MODEL_52839f9ff9c54fe6a772c35dffddd434",
      "value": " 71/71 [00:09&lt;00:00, 12.12it/s]"
     }
    },
    "e271358479b84f3dbc4ce60a3de7e2a8": {
     "model_module": "@jupyter-widgets/base",
     "model_module_version": "1.2.0",
     "model_name": "LayoutModel",
     "state": {
      "_model_module": "@jupyter-widgets/base",
      "_model_module_version": "1.2.0",
      "_model_name": "LayoutModel",
      "_view_count": null,
      "_view_module": "@jupyter-widgets/base",
      "_view_module_version": "1.2.0",
      "_view_name": "LayoutView",
      "align_content": null,
      "align_items": null,
      "align_self": null,
      "border": null,
      "bottom": null,
      "display": null,
      "flex": null,
      "flex_flow": null,
      "grid_area": null,
      "grid_auto_columns": null,
      "grid_auto_flow": null,
      "grid_auto_rows": null,
      "grid_column": null,
      "grid_gap": null,
      "grid_row": null,
      "grid_template_areas": null,
      "grid_template_columns": null,
      "grid_template_rows": null,
      "height": null,
      "justify_content": null,
      "justify_items": null,
      "left": null,
      "margin": null,
      "max_height": null,
      "max_width": null,
      "min_height": null,
      "min_width": null,
      "object_fit": null,
      "object_position": null,
      "order": null,
      "overflow": null,
      "overflow_x": null,
      "overflow_y": null,
      "padding": null,
      "right": null,
      "top": null,
      "visibility": null,
      "width": null
     }
    },
    "f0ec5c3e46e04a0a980c99730af7f500": {
     "model_module": "@jupyter-widgets/base",
     "model_module_version": "1.2.0",
     "model_name": "LayoutModel",
     "state": {
      "_model_module": "@jupyter-widgets/base",
      "_model_module_version": "1.2.0",
      "_model_name": "LayoutModel",
      "_view_count": null,
      "_view_module": "@jupyter-widgets/base",
      "_view_module_version": "1.2.0",
      "_view_name": "LayoutView",
      "align_content": null,
      "align_items": null,
      "align_self": null,
      "border": null,
      "bottom": null,
      "display": null,
      "flex": null,
      "flex_flow": null,
      "grid_area": null,
      "grid_auto_columns": null,
      "grid_auto_flow": null,
      "grid_auto_rows": null,
      "grid_column": null,
      "grid_gap": null,
      "grid_row": null,
      "grid_template_areas": null,
      "grid_template_columns": null,
      "grid_template_rows": null,
      "height": null,
      "justify_content": null,
      "justify_items": null,
      "left": null,
      "margin": null,
      "max_height": null,
      "max_width": null,
      "min_height": null,
      "min_width": null,
      "object_fit": null,
      "object_position": null,
      "order": null,
      "overflow": null,
      "overflow_x": null,
      "overflow_y": null,
      "padding": null,
      "right": null,
      "top": null,
      "visibility": null,
      "width": null
     }
    }
   }
  }
 },
 "nbformat": 4,
 "nbformat_minor": 4
}
