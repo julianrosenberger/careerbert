{
 "cells": [
  {
   "cell_type": "code",
   "execution_count": null,
   "metadata": {
    "colab": {
     "base_uri": "https://localhost:8080/"
    },
    "executionInfo": {
     "elapsed": 1841,
     "status": "ok",
     "timestamp": 1689320346559,
     "user": {
      "displayName": "Lukas Wolfrum",
      "userId": "10737638498661133063"
     },
     "user_tz": -120
    },
    "id": "zougwjVSkw0e",
    "outputId": "b787a820-745b-4fb1-cc7b-27139b0b9659"
   },
   "outputs": [],
   "source": [
    "# from google.colab import drive\n",
    "# drive.mount('/content/drive')\n",
    "# %cd /content/drive/MyDrive/TRAINING"
   ]
  },
  {
   "cell_type": "code",
   "execution_count": null,
   "metadata": {
    "executionInfo": {
     "elapsed": 4967,
     "status": "ok",
     "timestamp": 1689320351523,
     "user": {
      "displayName": "Lukas Wolfrum",
      "userId": "10737638498661133063"
     },
     "user_tz": -120
    },
    "id": "zCi2PLeek8j-"
   },
   "outputs": [],
   "source": [
    "# %%capture\n",
    "# !pip install sentence_transformers"
   ]
  },
  {
   "cell_type": "code",
   "execution_count": null,
   "metadata": {
    "executionInfo": {
     "elapsed": 12,
     "status": "ok",
     "timestamp": 1689320351524,
     "user": {
      "displayName": "Lukas Wolfrum",
      "userId": "10737638498661133063"
     },
     "user_tz": -120
    },
    "id": "eLfUKlYblIxf"
   },
   "outputs": [],
   "source": [
    "from sentence_transformers import SentenceTransformer,util\n",
    "from helpers import load_json,write_pickle,load_pickle\n",
    "import pandas as pd\n",
    "from tqdm import tqdm\n",
    "import numpy as np\n",
    "from sklearn.metrics.pairwise import cosine_similarity"
   ]
  },
  {
   "cell_type": "code",
   "execution_count": null,
   "metadata": {
    "executionInfo": {
     "elapsed": 461,
     "status": "ok",
     "timestamp": 1689320351975,
     "user": {
      "displayName": "Lukas Wolfrum",
      "userId": "10737638498661133063"
     },
     "user_tz": -120
    },
    "id": "JlGkhVgr4HnP"
   },
   "outputs": [],
   "source": [
    "jobs = load_json(r\"../00_data/ESCO/ESCO_JOBS_ALL.json\")\n",
    "esco_lookup = {}\n",
    "for job in jobs:\n",
    "  esco_lookup[job[\"jobid_esco\"]] = job[\"jobtitle\"]\n",
    "  esco_lookup[job[\"jobtitle\"]] = job[\"jobid_esco\"]"
   ]
  },
  {
   "cell_type": "markdown",
   "metadata": {
    "id": "7WhZEHWS55z1"
   },
   "source": [
    "# Functions"
   ]
  },
  {
   "cell_type": "code",
   "execution_count": null,
   "metadata": {
    "executionInfo": {
     "elapsed": 9,
     "status": "ok",
     "timestamp": 1689320351976,
     "user": {
      "displayName": "Lukas Wolfrum",
      "userId": "10737638498661133063"
     },
     "user_tz": -120
    },
    "id": "FZaTBtKd57lW"
   },
   "outputs": [],
   "source": [
    "def load_single_cv(filepath):\n",
    "  cv = \"\"\n",
    "  reader = PdfReader(filepath)\n",
    "\n",
    "  pages = reader.pages\n",
    "  for i in range(len(pages)):\n",
    "      page = reader.pages[i].extract_text().strip()\n",
    "      cv +=page\n",
    "  return cv"
   ]
  },
  {
   "cell_type": "markdown",
   "metadata": {
    "id": "l5u8jBuzlMWR"
   },
   "source": [
    "# Load Model"
   ]
  },
  {
   "cell_type": "code",
   "execution_count": null,
   "metadata": {
    "executionInfo": {
     "elapsed": 9,
     "status": "ok",
     "timestamp": 1689320351977,
     "user": {
      "displayName": "Lukas Wolfrum",
      "userId": "10737638498661133063"
     },
     "user_tz": -120
    },
    "id": "VidWjkqKlaTt"
   },
   "outputs": [],
   "source": [
    "modelpath = \"/content/drive/MyDrive/TRAINING/_COSINESIM/content/jobgbert_batch32_woTSDAE_2e-05_f10\""
   ]
  },
  {
   "cell_type": "code",
   "execution_count": null,
   "metadata": {
    "executionInfo": {
     "elapsed": 1757,
     "status": "ok",
     "timestamp": 1689320353726,
     "user": {
      "displayName": "Lukas Wolfrum",
      "userId": "10737638498661133063"
     },
     "user_tz": -120
    },
    "id": "HYzsHcM4lLsz"
   },
   "outputs": [],
   "source": [
    "model = SentenceTransformer(modelpath)"
   ]
  },
  {
   "cell_type": "markdown",
   "metadata": {
    "id": "Y6aS5XFhmqTm"
   },
   "source": [
    "# Creating Embedding Space"
   ]
  },
  {
   "cell_type": "markdown",
   "metadata": {
    "id": "xXfdqP5Qno3M"
   },
   "source": [
    "The Embedding space consists of Job Centroids. Those are the mean of unfiltered Job Advertisement Centroids, where available (JACs) and the ESCO Job Descriptions.\n",
    "\n",
    "**Steps:**\n",
    "1. Encode Description of all ESCO Jobs\n",
    "2. Encode all Job Advertisements\n",
    "3. Create Job Advertisement centroid per ESCO Job (JACs)\n",
    "4. Create the Job Centroid (JC) from both JAC & Description and save the embeddings\n"
   ]
  },
  {
   "cell_type": "markdown",
   "metadata": {
    "id": "Q_pPLqxdoV5-"
   },
   "source": [
    "## Encode Description of all ESCO Jobs"
   ]
  },
  {
   "cell_type": "code",
   "execution_count": null,
   "metadata": {
    "executionInfo": {
     "elapsed": 9,
     "status": "ok",
     "timestamp": 1689320353728,
     "user": {
      "displayName": "Lukas Wolfrum",
      "userId": "10737638498661133063"
     },
     "user_tz": -120
    },
    "id": "8I1w7bsZnJyj"
   },
   "outputs": [],
   "source": [
    "esco_jobs = load_json(r\"../00_data/ESCO/ESCO_JOBS_ALL.json\")"
   ]
  },
  {
   "cell_type": "code",
   "execution_count": null,
   "metadata": {
    "executionInfo": {
     "elapsed": 9,
     "status": "ok",
     "timestamp": 1689320353729,
     "user": {
      "displayName": "Lukas Wolfrum",
      "userId": "10737638498661133063"
     },
     "user_tz": -120
    },
    "id": "dPPPG7IxomGz"
   },
   "outputs": [],
   "source": [
    "descriptions = [x[\"jobdescription\"] for x in esco_jobs]\n",
    "esco_ids = [x[\"jobid_esco\"] for x in esco_jobs]\n",
    "jobtitles = [x[\"jobtitle\"] for x in esco_jobs]"
   ]
  },
  {
   "cell_type": "code",
   "execution_count": null,
   "metadata": {
    "colab": {
     "base_uri": "https://localhost:8080/",
     "height": 49,
     "referenced_widgets": [
      "795facde25ff4decaffd6ce3294763a0",
      "b53f3d6847e84b50ad7b312ce6121c80",
      "0b22ced8a6a24ff19ebbebb37d217a61",
      "681c4597fd2d4707b9a439886a1a104a",
      "f7feebaa84c84501a3ef58e5dbf62fc7",
      "7e57d8afafc8447b9a602af52d4e61bd",
      "98a540ce9f494e5a831d4944bf7ce2db",
      "0bdc9d18d8d543bca20d18fd9124e0b8",
      "4411fb46fcf044ffb4dab600031e519f",
      "4f328d923db74ab7a3edc83e6de44306",
      "a6799f40ff7c4f8eac13bd72e6a142ad"
     ]
    },
    "executionInfo": {
     "elapsed": 15661,
     "status": "ok",
     "timestamp": 1689320369382,
     "user": {
      "displayName": "Lukas Wolfrum",
      "userId": "10737638498661133063"
     },
     "user_tz": -120
    },
    "id": "eqcapkV-osn8",
    "outputId": "f5d154c9-751f-4955-d34e-895ba4cdce03"
   },
   "outputs": [],
   "source": [
    "desc_embeddings = desc_embeddings = model.encode(descriptions,show_progress_bar=True)"
   ]
  },
  {
   "cell_type": "code",
   "execution_count": null,
   "metadata": {
    "executionInfo": {
     "elapsed": 27,
     "status": "ok",
     "timestamp": 1689320369382,
     "user": {
      "displayName": "Lukas Wolfrum",
      "userId": "10737638498661133063"
     },
     "user_tz": -120
    },
    "id": "hXw4qKX8pGgm"
   },
   "outputs": [],
   "source": [
    "embeddings = {}\n",
    "embeddings[\"descriptions\"] = {\"jobtitle\":jobtitles, \"esco_id\":esco_ids, \"embeddings\":desc_embeddings}"
   ]
  },
  {
   "cell_type": "markdown",
   "metadata": {
    "id": "M4-LUFWKpUyP"
   },
   "source": [
    "## encode Job Advertisements"
   ]
  },
  {
   "cell_type": "code",
   "execution_count": null,
   "metadata": {
    "executionInfo": {
     "elapsed": 16901,
     "status": "ok",
     "timestamp": 1689320386258,
     "user": {
      "displayName": "Lukas Wolfrum",
      "userId": "10737638498661133063"
     },
     "user_tz": -120
    },
    "id": "frZkEc5NpUYy"
   },
   "outputs": [],
   "source": [
    "job_ads = load_json(\"../00_data/EURES/0_pars_short_ads_final.json\")"
   ]
  },
  {
   "cell_type": "code",
   "execution_count": null,
   "metadata": {
    "executionInfo": {
     "elapsed": 8,
     "status": "ok",
     "timestamp": 1689320386260,
     "user": {
      "displayName": "Lukas Wolfrum",
      "userId": "10737638498661133063"
     },
     "user_tz": -120
    },
    "id": "1SMxsKYtppxI"
   },
   "outputs": [],
   "source": [
    "#create text to encode by concatenating title and shortened texts\n",
    "def concat_short(ad):\n",
    "  return ad[\"title\"] + ad[\"short_texts\"]"
   ]
  },
  {
   "cell_type": "code",
   "execution_count": null,
   "metadata": {
    "executionInfo": {
     "elapsed": 529,
     "status": "ok",
     "timestamp": 1689320386783,
     "user": {
      "displayName": "Lukas Wolfrum",
      "userId": "10737638498661133063"
     },
     "user_tz": -120
    },
    "id": "UiRxbTSlp2FA"
   },
   "outputs": [],
   "source": [
    "ads_df = pd.DataFrame(job_ads)"
   ]
  },
  {
   "cell_type": "code",
   "execution_count": null,
   "metadata": {
    "executionInfo": {
     "elapsed": 1239,
     "status": "ok",
     "timestamp": 1689320388018,
     "user": {
      "displayName": "Lukas Wolfrum",
      "userId": "10737638498661133063"
     },
     "user_tz": -120
    },
    "id": "LCES6005puvl"
   },
   "outputs": [],
   "source": [
    "ads_df[\"final_text\"] = ads_df.apply(concat_short,axis=1)"
   ]
  },
  {
   "cell_type": "code",
   "execution_count": null,
   "metadata": {
    "colab": {
     "base_uri": "https://localhost:8080/",
     "height": 49,
     "referenced_widgets": [
      "332aa0ee01d14d15b24ef139aeaed996",
      "0f3f9cff830b4c3bac83a595a52bba41",
      "1dbb25c316de40969a2f4906711b8954",
      "f170183e19a74447ba3e8475653372c4",
      "993850af605c4dd8bab54a7d85c213b1",
      "8dda3c24c4d941eeb23df9f47e9e7826",
      "b61580ccefef40a88f24b10776fbff6b",
      "310e276f03654536b913451a76b64a67",
      "8b4b93cef517423596d9e13359533a01",
      "35ff4561e5d045058cab2e48a1e793b5",
      "073469b613654a969ec65eb454997f1e"
     ]
    },
    "executionInfo": {
     "elapsed": 480873,
     "status": "ok",
     "timestamp": 1689320869206,
     "user": {
      "displayName": "Lukas Wolfrum",
      "userId": "10737638498661133063"
     },
     "user_tz": -120
    },
    "id": "SeXfDk1Np9zP",
    "outputId": "ffbf4509-5048-4b02-f22a-9414e9a24add"
   },
   "outputs": [],
   "source": [
    "# as texts are not unique, create a dict of texts and their encodings and map it to the original text\n",
    "unique_texts = list(set(ads_df[\"final_text\"] ))\n",
    "embedding_map = {}\n",
    "embeddings_jobads = model.encode(unique_texts,show_progress_bar=True,convert_to_tensor=True, batch_size=64)\n",
    "for text, embeddings_jobads in zip(unique_texts,embeddings_jobads.tolist()):\n",
    "      embedding_map[text] = embeddings_jobads\n",
    "ads_df[\"embeddings\"] = ads_df[\"final_text\"].map(embedding_map)"
   ]
  },
  {
   "cell_type": "markdown",
   "metadata": {
    "id": "xD-yLDmPrD0B"
   },
   "source": [
    "## Create Job Advertisement centroid per ESCO Job (JACs)"
   ]
  },
  {
   "cell_type": "code",
   "execution_count": null,
   "metadata": {
    "colab": {
     "base_uri": "https://localhost:8080/"
    },
    "executionInfo": {
     "elapsed": 39027,
     "status": "ok",
     "timestamp": 1689320908201,
     "user": {
      "displayName": "Lukas Wolfrum",
      "userId": "10737638498661133063"
     },
     "user_tz": -120
    },
    "id": "ktWOiRPlq6oQ",
    "outputId": "c7548443-1ef4-4779-c212-10092fb08ab4"
   },
   "outputs": [],
   "source": [
    "JAC_DICT = {}\n",
    "JAC_jobtitles = []\n",
    "# create JACs\n",
    "for id in tqdm(ads_df[\"esco_id\"].unique()):\n",
    "    id_filter = ads_df[ads_df[\"esco_id\"]==id]\n",
    "    JAC_jobtitles.append(id_filter[\"esco_job\"].unique()[0])\n",
    "    JAC =  np.stack(list(id_filter[\"embeddings\"])).mean(axis=0, dtype=\"float32\")\n",
    "    JAC_DICT[id] = JAC"
   ]
  },
  {
   "cell_type": "code",
   "execution_count": null,
   "metadata": {
    "colab": {
     "base_uri": "https://localhost:8080/"
    },
    "executionInfo": {
     "elapsed": 27,
     "status": "ok",
     "timestamp": 1689320908201,
     "user": {
      "displayName": "Lukas Wolfrum",
      "userId": "10737638498661133063"
     },
     "user_tz": -120
    },
    "id": "C0cMQERcubyA",
    "outputId": "cf28b5d7-26c0-493c-9544-40e9c24eb0cd"
   },
   "outputs": [],
   "source": [
    "embeddings.keys()"
   ]
  },
  {
   "cell_type": "code",
   "execution_count": null,
   "metadata": {
    "executionInfo": {
     "elapsed": 23,
     "status": "ok",
     "timestamp": 1689320908202,
     "user": {
      "displayName": "Lukas Wolfrum",
      "userId": "10737638498661133063"
     },
     "user_tz": -120
    },
    "id": "V_zbKh5suBST"
   },
   "outputs": [],
   "source": [
    "embeddings[\"JACs\"] = {\"jobtitle\":JAC_jobtitles,\n",
    "                      \"esco_id\":list(JAC_DICT.keys()),\n",
    "                      \"embeddings\":list(JAC_DICT.values())}"
   ]
  },
  {
   "cell_type": "code",
   "execution_count": null,
   "metadata": {
    "executionInfo": {
     "elapsed": 480,
     "status": "ok",
     "timestamp": 1689320908659,
     "user": {
      "displayName": "Lukas Wolfrum",
      "userId": "10737638498661133063"
     },
     "user_tz": -120
    },
    "id": "O_SG3NJiwyCK"
   },
   "outputs": [],
   "source": [
    "combined_embeddings = []\n",
    "for k in embeddings:\n",
    "  for id,job, embedding in zip(embeddings[k][\"esco_id\"],embeddings[k][\"jobtitle\"], embeddings[k][\"embeddings\"]):\n",
    "      combined_embeddings.append({\"esco_id\":id,\"jobtitle\":job,\"embeddings\":embedding, \"kind\": k})\n",
    "centroid_df = pd.DataFrame(combined_embeddings)\n"
   ]
  },
  {
   "cell_type": "code",
   "execution_count": null,
   "metadata": {
    "colab": {
     "base_uri": "https://localhost:8080/"
    },
    "executionInfo": {
     "elapsed": 3228,
     "status": "ok",
     "timestamp": 1689320911881,
     "user": {
      "displayName": "Lukas Wolfrum",
      "userId": "10737638498661133063"
     },
     "user_tz": -120
    },
    "id": "c95-cVKfxFBR",
    "outputId": "3590c623-762c-4988-d596-647f2eb839be"
   },
   "outputs": [],
   "source": [
    "JC_titles, JC_embeddings, JC_esco_ids= [],[],[]\n",
    "for id in tqdm(centroid_df[\"esco_id\"].unique()):\n",
    "    filtered_df = centroid_df[centroid_df[\"esco_id\"]==id]\n",
    "    stacked_embedding = np.stack(list(filtered_df[\"embeddings\"])).mean(axis=0, dtype=\"float32\")\n",
    "    JC_embeddings.append(stacked_embedding)\n",
    "    JC_esco_ids.append(id)\n",
    "    JC_titles.append(filtered_df[\"jobtitle\"].iloc[0])"
   ]
  },
  {
   "cell_type": "code",
   "execution_count": null,
   "metadata": {
    "executionInfo": {
     "elapsed": 29,
     "status": "ok",
     "timestamp": 1689320911882,
     "user": {
      "displayName": "Lukas Wolfrum",
      "userId": "10737638498661133063"
     },
     "user_tz": -120
    },
    "id": "674LnzvHxryH"
   },
   "outputs": [],
   "source": [
    "embeddings[\"job_centroids\"] = {\"jobtitle\":JC_titles,\n",
    "                      \"esco_id\":JC_esco_ids,\n",
    "                      \"embeddings\":JC_embeddings}"
   ]
  },
  {
   "cell_type": "code",
   "execution_count": null,
   "metadata": {
    "colab": {
     "base_uri": "https://localhost:8080/"
    },
    "executionInfo": {
     "elapsed": 28,
     "status": "ok",
     "timestamp": 1689320911882,
     "user": {
      "displayName": "Lukas Wolfrum",
      "userId": "10737638498661133063"
     },
     "user_tz": -120
    },
    "id": "1Su63-AO9Ei0",
    "outputId": "3afefc91-f02f-4077-d627-6fbe95900955"
   },
   "outputs": [],
   "source": [
    "embeddings.keys()"
   ]
  },
  {
   "cell_type": "code",
   "execution_count": null,
   "metadata": {
    "colab": {
     "base_uri": "https://localhost:8080/"
    },
    "executionInfo": {
     "elapsed": 316,
     "status": "ok",
     "timestamp": 1689320942381,
     "user": {
      "displayName": "Lukas Wolfrum",
      "userId": "10737638498661133063"
     },
     "user_tz": -120
    },
    "id": "aoCSuWklyCyv",
    "outputId": "c46c643c-adbf-47b7-e90a-6b4e90df7d57"
   },
   "outputs": [],
   "source": [
    "embeddings.keys()\n",
    "write_pickle(f\"{modelpath}/embeddings.pkl\",embeddings)"
   ]
  },
  {
   "cell_type": "markdown",
   "metadata": {
    "id": "lNmXQPRTVHzU"
   },
   "source": [
    "# Plotting\n",
    "\n"
   ]
  },
  {
   "cell_type": "code",
   "execution_count": null,
   "metadata": {
    "executionInfo": {
     "elapsed": 309,
     "status": "ok",
     "timestamp": 1689322734746,
     "user": {
      "displayName": "Lukas Wolfrum",
      "userId": "10737638498661133063"
     },
     "user_tz": -120
    },
    "id": "DmrhLi4LYONn"
   },
   "outputs": [],
   "source": [
    "from sklearn.manifold import TSNE\n",
    "from sklearn.cluster import DBSCAN\n",
    "import plotly.express as px"
   ]
  },
  {
   "cell_type": "code",
   "execution_count": null,
   "metadata": {
    "colab": {
     "base_uri": "https://localhost:8080/"
    },
    "executionInfo": {
     "elapsed": 385,
     "status": "ok",
     "timestamp": 1689320944067,
     "user": {
      "displayName": "Lukas Wolfrum",
      "userId": "10737638498661133063"
     },
     "user_tz": -120
    },
    "id": "_YHLhjGTVJW6",
    "outputId": "10d6d9e5-b535-49ea-c0af-c2612b150818"
   },
   "outputs": [],
   "source": [
    "embeddings = load_pickle(f\"{modelpath}/embeddings.pkl\")\n"
   ]
  },
  {
   "cell_type": "code",
   "execution_count": null,
   "metadata": {
    "executionInfo": {
     "elapsed": 323,
     "status": "ok",
     "timestamp": 1689321032695,
     "user": {
      "displayName": "Lukas Wolfrum",
      "userId": "10737638498661133063"
     },
     "user_tz": -120
    },
    "id": "aPDmXPrhYBH7"
   },
   "outputs": [],
   "source": [
    "tsne = TSNE(n_components=2,random_state=0)"
   ]
  },
  {
   "cell_type": "code",
   "execution_count": null,
   "metadata": {
    "executionInfo": {
     "elapsed": 23626,
     "status": "ok",
     "timestamp": 1689322530051,
     "user": {
      "displayName": "Lukas Wolfrum",
      "userId": "10737638498661133063"
     },
     "user_tz": -120
    },
    "id": "gt_xYFGjYVHb"
   },
   "outputs": [],
   "source": [
    "Y = tsne.fit_transform(np.array(embeddings['job_centroids']['embeddings'], dtype=np.float32))\n",
    "plotting = []\n",
    "for jobtitle, xy in zip(embeddings['job_centroids'][\"jobtitle\"], Y):\n",
    "  plotting.append({\"jobtitle\":jobtitle,\"x\":xy[0],\"y\":xy[1]})\n",
    "plotting = pd.DataFrame(plotting)"
   ]
  },
  {
   "cell_type": "code",
   "execution_count": null,
   "metadata": {
    "executionInfo": {
     "elapsed": 322,
     "status": "ok",
     "timestamp": 1689322783623,
     "user": {
      "displayName": "Lukas Wolfrum",
      "userId": "10737638498661133063"
     },
     "user_tz": -120
    },
    "id": "XGc7AG1VaF_z"
   },
   "outputs": [],
   "source": [
    "clustering = DBSCAN(eps=3, min_samples=10).fit(Y)\n",
    "plotting[\"cluster\"] = clustering.labels_"
   ]
  },
  {
   "cell_type": "code",
   "execution_count": null,
   "metadata": {
    "colab": {
     "base_uri": "https://localhost:8080/",
     "height": 542
    },
    "executionInfo": {
     "elapsed": 710,
     "status": "ok",
     "timestamp": 1689322970702,
     "user": {
      "displayName": "Lukas Wolfrum",
      "userId": "10737638498661133063"
     },
     "user_tz": -120
    },
    "id": "bazCMByLZitq",
    "outputId": "981bfc32-18a1-4d71-d6e9-d868c3bb1fb6"
   },
   "outputs": [],
   "source": [
    "plotting_x = plotting[plotting[\"cluster\"]!=-1]\n",
    "px.scatter(data_frame = plotting_x,\n",
    "           x = \"x\",\n",
    "           y=\"y\",\n",
    "           color = \"cluster\",\n",
    "           hover_data = [\"jobtitle\"],\n",
    "           color_discrete_map=True\n",
    "          #  text = plotting[\"jobtitle\"],\n",
    ")"
   ]
  },
  {
   "cell_type": "code",
   "execution_count": null,
   "metadata": {
    "executionInfo": {
     "elapsed": 84040,
     "status": "ok",
     "timestamp": 1689323428724,
     "user": {
      "displayName": "Lukas Wolfrum",
      "userId": "10737638498661133063"
     },
     "user_tz": -120
    },
    "id": "5dRqlUH9g8dz"
   },
   "outputs": [],
   "source": [
    "tsne = TSNE(n_components=3,random_state=0)\n",
    "Y = tsne.fit_transform(np.array(embeddings['job_centroids']['embeddings'], dtype=np.float32))\n",
    "\n",
    "plotting = []\n",
    "for jobtitle, xyz in zip(embeddings['job_centroids'][\"jobtitle\"], Y):\n",
    "  plotting.append({\"jobtitle\":jobtitle,\"x\":xyz[0],\"y\":xyz[1], \"z\": xyz[2]})\n",
    "plotting = pd.DataFrame(plotting)\n",
    "\n",
    "clustering = DBSCAN(eps=3, min_samples=10).fit(Y)\n",
    "plotting[\"cluster\"] = clustering.labels_"
   ]
  }
 ],
 "metadata": {
  "accelerator": "GPU",
  "colab": {
   "authorship_tag": "ABX9TyN2d74P7F4JFO66A+0b0WV4",
   "gpuType": "V100",
   "provenance": []
  },
  "kernelspec": {
   "display_name": "Python 3 (ipykernel)",
   "language": "python",
   "name": "python3"
  },
  "language_info": {
   "codemirror_mode": {
    "name": "ipython",
    "version": 3
   },
   "file_extension": ".py",
   "mimetype": "text/x-python",
   "name": "python",
   "nbconvert_exporter": "python",
   "pygments_lexer": "ipython3",
   "version": "3.10.16"
  },
  "widgets": {
   "application/vnd.jupyter.widget-state+json": {
    "073469b613654a969ec65eb454997f1e": {
     "model_module": "@jupyter-widgets/controls",
     "model_module_version": "1.5.0",
     "model_name": "DescriptionStyleModel",
     "state": {
      "_model_module": "@jupyter-widgets/controls",
      "_model_module_version": "1.5.0",
      "_model_name": "DescriptionStyleModel",
      "_view_count": null,
      "_view_module": "@jupyter-widgets/base",
      "_view_module_version": "1.2.0",
      "_view_name": "StyleView",
      "description_width": ""
     }
    },
    "0b22ced8a6a24ff19ebbebb37d217a61": {
     "model_module": "@jupyter-widgets/controls",
     "model_module_version": "1.5.0",
     "model_name": "FloatProgressModel",
     "state": {
      "_dom_classes": [],
      "_model_module": "@jupyter-widgets/controls",
      "_model_module_version": "1.5.0",
      "_model_name": "FloatProgressModel",
      "_view_count": null,
      "_view_module": "@jupyter-widgets/controls",
      "_view_module_version": "1.5.0",
      "_view_name": "ProgressView",
      "bar_style": "success",
      "description": "",
      "description_tooltip": null,
      "layout": "IPY_MODEL_0bdc9d18d8d543bca20d18fd9124e0b8",
      "max": 92,
      "min": 0,
      "orientation": "horizontal",
      "style": "IPY_MODEL_4411fb46fcf044ffb4dab600031e519f",
      "value": 92
     }
    },
    "0bdc9d18d8d543bca20d18fd9124e0b8": {
     "model_module": "@jupyter-widgets/base",
     "model_module_version": "1.2.0",
     "model_name": "LayoutModel",
     "state": {
      "_model_module": "@jupyter-widgets/base",
      "_model_module_version": "1.2.0",
      "_model_name": "LayoutModel",
      "_view_count": null,
      "_view_module": "@jupyter-widgets/base",
      "_view_module_version": "1.2.0",
      "_view_name": "LayoutView",
      "align_content": null,
      "align_items": null,
      "align_self": null,
      "border": null,
      "bottom": null,
      "display": null,
      "flex": null,
      "flex_flow": null,
      "grid_area": null,
      "grid_auto_columns": null,
      "grid_auto_flow": null,
      "grid_auto_rows": null,
      "grid_column": null,
      "grid_gap": null,
      "grid_row": null,
      "grid_template_areas": null,
      "grid_template_columns": null,
      "grid_template_rows": null,
      "height": null,
      "justify_content": null,
      "justify_items": null,
      "left": null,
      "margin": null,
      "max_height": null,
      "max_width": null,
      "min_height": null,
      "min_width": null,
      "object_fit": null,
      "object_position": null,
      "order": null,
      "overflow": null,
      "overflow_x": null,
      "overflow_y": null,
      "padding": null,
      "right": null,
      "top": null,
      "visibility": null,
      "width": null
     }
    },
    "0f3f9cff830b4c3bac83a595a52bba41": {
     "model_module": "@jupyter-widgets/controls",
     "model_module_version": "1.5.0",
     "model_name": "HTMLModel",
     "state": {
      "_dom_classes": [],
      "_model_module": "@jupyter-widgets/controls",
      "_model_module_version": "1.5.0",
      "_model_name": "HTMLModel",
      "_view_count": null,
      "_view_module": "@jupyter-widgets/controls",
      "_view_module_version": "1.5.0",
      "_view_name": "HTMLView",
      "description": "",
      "description_tooltip": null,
      "layout": "IPY_MODEL_8dda3c24c4d941eeb23df9f47e9e7826",
      "placeholder": "​",
      "style": "IPY_MODEL_b61580ccefef40a88f24b10776fbff6b",
      "value": "Batches: 100%"
     }
    },
    "1dbb25c316de40969a2f4906711b8954": {
     "model_module": "@jupyter-widgets/controls",
     "model_module_version": "1.5.0",
     "model_name": "FloatProgressModel",
     "state": {
      "_dom_classes": [],
      "_model_module": "@jupyter-widgets/controls",
      "_model_module_version": "1.5.0",
      "_model_name": "FloatProgressModel",
      "_view_count": null,
      "_view_module": "@jupyter-widgets/controls",
      "_view_module_version": "1.5.0",
      "_view_name": "ProgressView",
      "bar_style": "success",
      "description": "",
      "description_tooltip": null,
      "layout": "IPY_MODEL_310e276f03654536b913451a76b64a67",
      "max": 1317,
      "min": 0,
      "orientation": "horizontal",
      "style": "IPY_MODEL_8b4b93cef517423596d9e13359533a01",
      "value": 1317
     }
    },
    "310e276f03654536b913451a76b64a67": {
     "model_module": "@jupyter-widgets/base",
     "model_module_version": "1.2.0",
     "model_name": "LayoutModel",
     "state": {
      "_model_module": "@jupyter-widgets/base",
      "_model_module_version": "1.2.0",
      "_model_name": "LayoutModel",
      "_view_count": null,
      "_view_module": "@jupyter-widgets/base",
      "_view_module_version": "1.2.0",
      "_view_name": "LayoutView",
      "align_content": null,
      "align_items": null,
      "align_self": null,
      "border": null,
      "bottom": null,
      "display": null,
      "flex": null,
      "flex_flow": null,
      "grid_area": null,
      "grid_auto_columns": null,
      "grid_auto_flow": null,
      "grid_auto_rows": null,
      "grid_column": null,
      "grid_gap": null,
      "grid_row": null,
      "grid_template_areas": null,
      "grid_template_columns": null,
      "grid_template_rows": null,
      "height": null,
      "justify_content": null,
      "justify_items": null,
      "left": null,
      "margin": null,
      "max_height": null,
      "max_width": null,
      "min_height": null,
      "min_width": null,
      "object_fit": null,
      "object_position": null,
      "order": null,
      "overflow": null,
      "overflow_x": null,
      "overflow_y": null,
      "padding": null,
      "right": null,
      "top": null,
      "visibility": null,
      "width": null
     }
    },
    "332aa0ee01d14d15b24ef139aeaed996": {
     "model_module": "@jupyter-widgets/controls",
     "model_module_version": "1.5.0",
     "model_name": "HBoxModel",
     "state": {
      "_dom_classes": [],
      "_model_module": "@jupyter-widgets/controls",
      "_model_module_version": "1.5.0",
      "_model_name": "HBoxModel",
      "_view_count": null,
      "_view_module": "@jupyter-widgets/controls",
      "_view_module_version": "1.5.0",
      "_view_name": "HBoxView",
      "box_style": "",
      "children": [
       "IPY_MODEL_0f3f9cff830b4c3bac83a595a52bba41",
       "IPY_MODEL_1dbb25c316de40969a2f4906711b8954",
       "IPY_MODEL_f170183e19a74447ba3e8475653372c4"
      ],
      "layout": "IPY_MODEL_993850af605c4dd8bab54a7d85c213b1"
     }
    },
    "35ff4561e5d045058cab2e48a1e793b5": {
     "model_module": "@jupyter-widgets/base",
     "model_module_version": "1.2.0",
     "model_name": "LayoutModel",
     "state": {
      "_model_module": "@jupyter-widgets/base",
      "_model_module_version": "1.2.0",
      "_model_name": "LayoutModel",
      "_view_count": null,
      "_view_module": "@jupyter-widgets/base",
      "_view_module_version": "1.2.0",
      "_view_name": "LayoutView",
      "align_content": null,
      "align_items": null,
      "align_self": null,
      "border": null,
      "bottom": null,
      "display": null,
      "flex": null,
      "flex_flow": null,
      "grid_area": null,
      "grid_auto_columns": null,
      "grid_auto_flow": null,
      "grid_auto_rows": null,
      "grid_column": null,
      "grid_gap": null,
      "grid_row": null,
      "grid_template_areas": null,
      "grid_template_columns": null,
      "grid_template_rows": null,
      "height": null,
      "justify_content": null,
      "justify_items": null,
      "left": null,
      "margin": null,
      "max_height": null,
      "max_width": null,
      "min_height": null,
      "min_width": null,
      "object_fit": null,
      "object_position": null,
      "order": null,
      "overflow": null,
      "overflow_x": null,
      "overflow_y": null,
      "padding": null,
      "right": null,
      "top": null,
      "visibility": null,
      "width": null
     }
    },
    "4411fb46fcf044ffb4dab600031e519f": {
     "model_module": "@jupyter-widgets/controls",
     "model_module_version": "1.5.0",
     "model_name": "ProgressStyleModel",
     "state": {
      "_model_module": "@jupyter-widgets/controls",
      "_model_module_version": "1.5.0",
      "_model_name": "ProgressStyleModel",
      "_view_count": null,
      "_view_module": "@jupyter-widgets/base",
      "_view_module_version": "1.2.0",
      "_view_name": "StyleView",
      "bar_color": null,
      "description_width": ""
     }
    },
    "4f328d923db74ab7a3edc83e6de44306": {
     "model_module": "@jupyter-widgets/base",
     "model_module_version": "1.2.0",
     "model_name": "LayoutModel",
     "state": {
      "_model_module": "@jupyter-widgets/base",
      "_model_module_version": "1.2.0",
      "_model_name": "LayoutModel",
      "_view_count": null,
      "_view_module": "@jupyter-widgets/base",
      "_view_module_version": "1.2.0",
      "_view_name": "LayoutView",
      "align_content": null,
      "align_items": null,
      "align_self": null,
      "border": null,
      "bottom": null,
      "display": null,
      "flex": null,
      "flex_flow": null,
      "grid_area": null,
      "grid_auto_columns": null,
      "grid_auto_flow": null,
      "grid_auto_rows": null,
      "grid_column": null,
      "grid_gap": null,
      "grid_row": null,
      "grid_template_areas": null,
      "grid_template_columns": null,
      "grid_template_rows": null,
      "height": null,
      "justify_content": null,
      "justify_items": null,
      "left": null,
      "margin": null,
      "max_height": null,
      "max_width": null,
      "min_height": null,
      "min_width": null,
      "object_fit": null,
      "object_position": null,
      "order": null,
      "overflow": null,
      "overflow_x": null,
      "overflow_y": null,
      "padding": null,
      "right": null,
      "top": null,
      "visibility": null,
      "width": null
     }
    },
    "681c4597fd2d4707b9a439886a1a104a": {
     "model_module": "@jupyter-widgets/controls",
     "model_module_version": "1.5.0",
     "model_name": "HTMLModel",
     "state": {
      "_dom_classes": [],
      "_model_module": "@jupyter-widgets/controls",
      "_model_module_version": "1.5.0",
      "_model_name": "HTMLModel",
      "_view_count": null,
      "_view_module": "@jupyter-widgets/controls",
      "_view_module_version": "1.5.0",
      "_view_name": "HTMLView",
      "description": "",
      "description_tooltip": null,
      "layout": "IPY_MODEL_4f328d923db74ab7a3edc83e6de44306",
      "placeholder": "​",
      "style": "IPY_MODEL_a6799f40ff7c4f8eac13bd72e6a142ad",
      "value": " 92/92 [00:09&lt;00:00, 24.52it/s]"
     }
    },
    "795facde25ff4decaffd6ce3294763a0": {
     "model_module": "@jupyter-widgets/controls",
     "model_module_version": "1.5.0",
     "model_name": "HBoxModel",
     "state": {
      "_dom_classes": [],
      "_model_module": "@jupyter-widgets/controls",
      "_model_module_version": "1.5.0",
      "_model_name": "HBoxModel",
      "_view_count": null,
      "_view_module": "@jupyter-widgets/controls",
      "_view_module_version": "1.5.0",
      "_view_name": "HBoxView",
      "box_style": "",
      "children": [
       "IPY_MODEL_b53f3d6847e84b50ad7b312ce6121c80",
       "IPY_MODEL_0b22ced8a6a24ff19ebbebb37d217a61",
       "IPY_MODEL_681c4597fd2d4707b9a439886a1a104a"
      ],
      "layout": "IPY_MODEL_f7feebaa84c84501a3ef58e5dbf62fc7"
     }
    },
    "7e57d8afafc8447b9a602af52d4e61bd": {
     "model_module": "@jupyter-widgets/base",
     "model_module_version": "1.2.0",
     "model_name": "LayoutModel",
     "state": {
      "_model_module": "@jupyter-widgets/base",
      "_model_module_version": "1.2.0",
      "_model_name": "LayoutModel",
      "_view_count": null,
      "_view_module": "@jupyter-widgets/base",
      "_view_module_version": "1.2.0",
      "_view_name": "LayoutView",
      "align_content": null,
      "align_items": null,
      "align_self": null,
      "border": null,
      "bottom": null,
      "display": null,
      "flex": null,
      "flex_flow": null,
      "grid_area": null,
      "grid_auto_columns": null,
      "grid_auto_flow": null,
      "grid_auto_rows": null,
      "grid_column": null,
      "grid_gap": null,
      "grid_row": null,
      "grid_template_areas": null,
      "grid_template_columns": null,
      "grid_template_rows": null,
      "height": null,
      "justify_content": null,
      "justify_items": null,
      "left": null,
      "margin": null,
      "max_height": null,
      "max_width": null,
      "min_height": null,
      "min_width": null,
      "object_fit": null,
      "object_position": null,
      "order": null,
      "overflow": null,
      "overflow_x": null,
      "overflow_y": null,
      "padding": null,
      "right": null,
      "top": null,
      "visibility": null,
      "width": null
     }
    },
    "8b4b93cef517423596d9e13359533a01": {
     "model_module": "@jupyter-widgets/controls",
     "model_module_version": "1.5.0",
     "model_name": "ProgressStyleModel",
     "state": {
      "_model_module": "@jupyter-widgets/controls",
      "_model_module_version": "1.5.0",
      "_model_name": "ProgressStyleModel",
      "_view_count": null,
      "_view_module": "@jupyter-widgets/base",
      "_view_module_version": "1.2.0",
      "_view_name": "StyleView",
      "bar_color": null,
      "description_width": ""
     }
    },
    "8dda3c24c4d941eeb23df9f47e9e7826": {
     "model_module": "@jupyter-widgets/base",
     "model_module_version": "1.2.0",
     "model_name": "LayoutModel",
     "state": {
      "_model_module": "@jupyter-widgets/base",
      "_model_module_version": "1.2.0",
      "_model_name": "LayoutModel",
      "_view_count": null,
      "_view_module": "@jupyter-widgets/base",
      "_view_module_version": "1.2.0",
      "_view_name": "LayoutView",
      "align_content": null,
      "align_items": null,
      "align_self": null,
      "border": null,
      "bottom": null,
      "display": null,
      "flex": null,
      "flex_flow": null,
      "grid_area": null,
      "grid_auto_columns": null,
      "grid_auto_flow": null,
      "grid_auto_rows": null,
      "grid_column": null,
      "grid_gap": null,
      "grid_row": null,
      "grid_template_areas": null,
      "grid_template_columns": null,
      "grid_template_rows": null,
      "height": null,
      "justify_content": null,
      "justify_items": null,
      "left": null,
      "margin": null,
      "max_height": null,
      "max_width": null,
      "min_height": null,
      "min_width": null,
      "object_fit": null,
      "object_position": null,
      "order": null,
      "overflow": null,
      "overflow_x": null,
      "overflow_y": null,
      "padding": null,
      "right": null,
      "top": null,
      "visibility": null,
      "width": null
     }
    },
    "98a540ce9f494e5a831d4944bf7ce2db": {
     "model_module": "@jupyter-widgets/controls",
     "model_module_version": "1.5.0",
     "model_name": "DescriptionStyleModel",
     "state": {
      "_model_module": "@jupyter-widgets/controls",
      "_model_module_version": "1.5.0",
      "_model_name": "DescriptionStyleModel",
      "_view_count": null,
      "_view_module": "@jupyter-widgets/base",
      "_view_module_version": "1.2.0",
      "_view_name": "StyleView",
      "description_width": ""
     }
    },
    "993850af605c4dd8bab54a7d85c213b1": {
     "model_module": "@jupyter-widgets/base",
     "model_module_version": "1.2.0",
     "model_name": "LayoutModel",
     "state": {
      "_model_module": "@jupyter-widgets/base",
      "_model_module_version": "1.2.0",
      "_model_name": "LayoutModel",
      "_view_count": null,
      "_view_module": "@jupyter-widgets/base",
      "_view_module_version": "1.2.0",
      "_view_name": "LayoutView",
      "align_content": null,
      "align_items": null,
      "align_self": null,
      "border": null,
      "bottom": null,
      "display": null,
      "flex": null,
      "flex_flow": null,
      "grid_area": null,
      "grid_auto_columns": null,
      "grid_auto_flow": null,
      "grid_auto_rows": null,
      "grid_column": null,
      "grid_gap": null,
      "grid_row": null,
      "grid_template_areas": null,
      "grid_template_columns": null,
      "grid_template_rows": null,
      "height": null,
      "justify_content": null,
      "justify_items": null,
      "left": null,
      "margin": null,
      "max_height": null,
      "max_width": null,
      "min_height": null,
      "min_width": null,
      "object_fit": null,
      "object_position": null,
      "order": null,
      "overflow": null,
      "overflow_x": null,
      "overflow_y": null,
      "padding": null,
      "right": null,
      "top": null,
      "visibility": null,
      "width": null
     }
    },
    "a6799f40ff7c4f8eac13bd72e6a142ad": {
     "model_module": "@jupyter-widgets/controls",
     "model_module_version": "1.5.0",
     "model_name": "DescriptionStyleModel",
     "state": {
      "_model_module": "@jupyter-widgets/controls",
      "_model_module_version": "1.5.0",
      "_model_name": "DescriptionStyleModel",
      "_view_count": null,
      "_view_module": "@jupyter-widgets/base",
      "_view_module_version": "1.2.0",
      "_view_name": "StyleView",
      "description_width": ""
     }
    },
    "b53f3d6847e84b50ad7b312ce6121c80": {
     "model_module": "@jupyter-widgets/controls",
     "model_module_version": "1.5.0",
     "model_name": "HTMLModel",
     "state": {
      "_dom_classes": [],
      "_model_module": "@jupyter-widgets/controls",
      "_model_module_version": "1.5.0",
      "_model_name": "HTMLModel",
      "_view_count": null,
      "_view_module": "@jupyter-widgets/controls",
      "_view_module_version": "1.5.0",
      "_view_name": "HTMLView",
      "description": "",
      "description_tooltip": null,
      "layout": "IPY_MODEL_7e57d8afafc8447b9a602af52d4e61bd",
      "placeholder": "​",
      "style": "IPY_MODEL_98a540ce9f494e5a831d4944bf7ce2db",
      "value": "Batches: 100%"
     }
    },
    "b61580ccefef40a88f24b10776fbff6b": {
     "model_module": "@jupyter-widgets/controls",
     "model_module_version": "1.5.0",
     "model_name": "DescriptionStyleModel",
     "state": {
      "_model_module": "@jupyter-widgets/controls",
      "_model_module_version": "1.5.0",
      "_model_name": "DescriptionStyleModel",
      "_view_count": null,
      "_view_module": "@jupyter-widgets/base",
      "_view_module_version": "1.2.0",
      "_view_name": "StyleView",
      "description_width": ""
     }
    },
    "f170183e19a74447ba3e8475653372c4": {
     "model_module": "@jupyter-widgets/controls",
     "model_module_version": "1.5.0",
     "model_name": "HTMLModel",
     "state": {
      "_dom_classes": [],
      "_model_module": "@jupyter-widgets/controls",
      "_model_module_version": "1.5.0",
      "_model_name": "HTMLModel",
      "_view_count": null,
      "_view_module": "@jupyter-widgets/controls",
      "_view_module_version": "1.5.0",
      "_view_name": "HTMLView",
      "description": "",
      "description_tooltip": null,
      "layout": "IPY_MODEL_35ff4561e5d045058cab2e48a1e793b5",
      "placeholder": "​",
      "style": "IPY_MODEL_073469b613654a969ec65eb454997f1e",
      "value": " 1317/1317 [07:47&lt;00:00, 25.31it/s]"
     }
    },
    "f7feebaa84c84501a3ef58e5dbf62fc7": {
     "model_module": "@jupyter-widgets/base",
     "model_module_version": "1.2.0",
     "model_name": "LayoutModel",
     "state": {
      "_model_module": "@jupyter-widgets/base",
      "_model_module_version": "1.2.0",
      "_model_name": "LayoutModel",
      "_view_count": null,
      "_view_module": "@jupyter-widgets/base",
      "_view_module_version": "1.2.0",
      "_view_name": "LayoutView",
      "align_content": null,
      "align_items": null,
      "align_self": null,
      "border": null,
      "bottom": null,
      "display": null,
      "flex": null,
      "flex_flow": null,
      "grid_area": null,
      "grid_auto_columns": null,
      "grid_auto_flow": null,
      "grid_auto_rows": null,
      "grid_column": null,
      "grid_gap": null,
      "grid_row": null,
      "grid_template_areas": null,
      "grid_template_columns": null,
      "grid_template_rows": null,
      "height": null,
      "justify_content": null,
      "justify_items": null,
      "left": null,
      "margin": null,
      "max_height": null,
      "max_width": null,
      "min_height": null,
      "min_width": null,
      "object_fit": null,
      "object_position": null,
      "order": null,
      "overflow": null,
      "overflow_x": null,
      "overflow_y": null,
      "padding": null,
      "right": null,
      "top": null,
      "visibility": null,
      "width": null
     }
    }
   }
  }
 },
 "nbformat": 4,
 "nbformat_minor": 4
}
