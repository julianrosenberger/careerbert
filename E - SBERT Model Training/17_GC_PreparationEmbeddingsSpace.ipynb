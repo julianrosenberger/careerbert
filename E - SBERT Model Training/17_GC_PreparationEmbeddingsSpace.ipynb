{
 "cells": [
  {
   "cell_type": "code",
   "execution_count": null,
   "metadata": {
    "colab": {
     "base_uri": "https://localhost:8080/"
    },
    "executionInfo": {
     "elapsed": 1841,
     "status": "ok",
     "timestamp": 1689320346559,
     "user": {
      "displayName": "Lukas Wolfrum",
      "userId": "10737638498661133063"
     },
     "user_tz": -120
    },
    "id": "zougwjVSkw0e",
    "outputId": "b787a820-745b-4fb1-cc7b-27139b0b9659"
   },
   "outputs": [
    {
     "name": "stdout",
     "output_type": "stream",
     "text": [
      "Drive already mounted at /content/drive; to attempt to forcibly remount, call drive.mount(\"/content/drive\", force_remount=True).\n",
      "/content/drive/MyDrive/TRAINING\n"
     ]
    }
   ],
   "source": [
    "# from google.colab import drive\n",
    "# drive.mount('/content/drive')\n",
    "# %cd /content/drive/MyDrive/TRAINING"
   ]
  },
  {
   "cell_type": "code",
   "execution_count": null,
   "metadata": {
    "executionInfo": {
     "elapsed": 4967,
     "status": "ok",
     "timestamp": 1689320351523,
     "user": {
      "displayName": "Lukas Wolfrum",
      "userId": "10737638498661133063"
     },
     "user_tz": -120
    },
    "id": "zCi2PLeek8j-"
   },
   "outputs": [],
   "source": [
    "# %%capture\n",
    "# !pip install sentence_transformers"
   ]
  },
  {
   "cell_type": "code",
   "execution_count": null,
   "metadata": {
    "executionInfo": {
     "elapsed": 12,
     "status": "ok",
     "timestamp": 1689320351524,
     "user": {
      "displayName": "Lukas Wolfrum",
      "userId": "10737638498661133063"
     },
     "user_tz": -120
    },
    "id": "eLfUKlYblIxf"
   },
   "outputs": [],
   "source": [
    "from sentence_transformers import SentenceTransformer,util\n",
    "from helpers import load_json,write_pickle,load_pickle\n",
    "import pandas as pd\n",
    "from tqdm import tqdm\n",
    "import numpy as np\n",
    "from sklearn.metrics.pairwise import cosine_similarity"
   ]
  },
  {
   "cell_type": "code",
   "execution_count": 1,
   "metadata": {
    "executionInfo": {
     "elapsed": 461,
     "status": "ok",
     "timestamp": 1689320351975,
     "user": {
      "displayName": "Lukas Wolfrum",
      "userId": "10737638498661133063"
     },
     "user_tz": -120
    },
    "id": "JlGkhVgr4HnP"
   },
   "outputs": [
    {
     "ename": "NameError",
     "evalue": "name 'load_json' is not defined",
     "output_type": "error",
     "traceback": [
      "\u001b[1;31m---------------------------------------------------------------------------\u001b[0m",
      "\u001b[1;31mNameError\u001b[0m                                 Traceback (most recent call last)",
      "Cell \u001b[1;32mIn[1], line 1\u001b[0m\n\u001b[1;32m----> 1\u001b[0m jobs \u001b[39m=\u001b[39m load_json(\u001b[39mr\u001b[39m\u001b[39m\"\u001b[39m\u001b[39m../00_data/ESCO/ESCO_JOBS_ALL.json\u001b[39m\u001b[39m\"\u001b[39m)\n\u001b[0;32m      2\u001b[0m esco_lookup \u001b[39m=\u001b[39m {}\n\u001b[0;32m      3\u001b[0m \u001b[39mfor\u001b[39;00m job \u001b[39min\u001b[39;00m jobs:\n",
      "\u001b[1;31mNameError\u001b[0m: name 'load_json' is not defined"
     ]
    }
   ],
   "source": [
    "jobs = load_json(r\"../00_data/ESCO/ESCO_JOBS_ALL.json\")\n",
    "esco_lookup = {}\n",
    "for job in jobs:\n",
    "  esco_lookup[job[\"jobid_esco\"]] = job[\"jobtitle\"]\n",
    "  esco_lookup[job[\"jobtitle\"]] = job[\"jobid_esco\"]"
   ]
  },
  {
   "cell_type": "markdown",
   "metadata": {
    "id": "7WhZEHWS55z1"
   },
   "source": [
    "# Functions"
   ]
  },
  {
   "cell_type": "code",
   "execution_count": 17,
   "metadata": {
    "executionInfo": {
     "elapsed": 9,
     "status": "ok",
     "timestamp": 1689320351976,
     "user": {
      "displayName": "Lukas Wolfrum",
      "userId": "10737638498661133063"
     },
     "user_tz": -120
    },
    "id": "FZaTBtKd57lW"
   },
   "outputs": [],
   "source": [
    "def load_single_cv(filepath):\n",
    "  cv = \"\"\n",
    "  reader = PdfReader(filepath)\n",
    "\n",
    "  pages = reader.pages\n",
    "  for i in range(len(pages)):\n",
    "      page = reader.pages[i].extract_text().strip()\n",
    "      cv +=page\n",
    "  return cv"
   ]
  },
  {
   "cell_type": "markdown",
   "metadata": {
    "id": "l5u8jBuzlMWR"
   },
   "source": [
    "# Load Model"
   ]
  },
  {
   "cell_type": "code",
   "execution_count": 18,
   "metadata": {
    "executionInfo": {
     "elapsed": 9,
     "status": "ok",
     "timestamp": 1689320351977,
     "user": {
      "displayName": "Lukas Wolfrum",
      "userId": "10737638498661133063"
     },
     "user_tz": -120
    },
    "id": "VidWjkqKlaTt"
   },
   "outputs": [],
   "source": [
    "modelpath = \"/content/drive/MyDrive/TRAINING/_COSINESIM/content/jobgbert_batch32_woTSDAE_2e-05_f10\""
   ]
  },
  {
   "cell_type": "code",
   "execution_count": 19,
   "metadata": {
    "executionInfo": {
     "elapsed": 1757,
     "status": "ok",
     "timestamp": 1689320353726,
     "user": {
      "displayName": "Lukas Wolfrum",
      "userId": "10737638498661133063"
     },
     "user_tz": -120
    },
    "id": "HYzsHcM4lLsz"
   },
   "outputs": [],
   "source": [
    "model = SentenceTransformer(modelpath)"
   ]
  },
  {
   "cell_type": "markdown",
   "metadata": {
    "id": "Y6aS5XFhmqTm"
   },
   "source": [
    "# Creating Embedding Space"
   ]
  },
  {
   "cell_type": "markdown",
   "metadata": {
    "id": "xXfdqP5Qno3M"
   },
   "source": [
    "The Embedding space consists of Job Centroids. Those are the mean of unfiltered Job Advertisement Centroids, where available (JACs) and the ESCO Job Descriptions.\n",
    "\n",
    "**Steps:**\n",
    "1. Encode Description of all ESCO Jobs\n",
    "2. Encode all Job Advertisements\n",
    "3. Create Job Advertisement centroid per ESCO Job (JACs)\n",
    "4. Create the Job Centroid (JC) from both JAC & Description and save the embeddings\n"
   ]
  },
  {
   "cell_type": "markdown",
   "metadata": {
    "id": "Q_pPLqxdoV5-"
   },
   "source": [
    "## Encode Description of all ESCO Jobs"
   ]
  },
  {
   "cell_type": "code",
   "execution_count": 20,
   "metadata": {
    "executionInfo": {
     "elapsed": 9,
     "status": "ok",
     "timestamp": 1689320353728,
     "user": {
      "displayName": "Lukas Wolfrum",
      "userId": "10737638498661133063"
     },
     "user_tz": -120
    },
    "id": "8I1w7bsZnJyj"
   },
   "outputs": [],
   "source": [
    "esco_jobs = load_json(r\"../00_data/ESCO/ESCO_JOBS_ALL.json\")"
   ]
  },
  {
   "cell_type": "code",
   "execution_count": 21,
   "metadata": {
    "executionInfo": {
     "elapsed": 9,
     "status": "ok",
     "timestamp": 1689320353729,
     "user": {
      "displayName": "Lukas Wolfrum",
      "userId": "10737638498661133063"
     },
     "user_tz": -120
    },
    "id": "dPPPG7IxomGz"
   },
   "outputs": [],
   "source": [
    "descriptions = [x[\"jobdescription\"] for x in esco_jobs]\n",
    "esco_ids = [x[\"jobid_esco\"] for x in esco_jobs]\n",
    "jobtitles = [x[\"jobtitle\"] for x in esco_jobs]"
   ]
  },
  {
   "cell_type": "code",
   "execution_count": 22,
   "metadata": {
    "colab": {
     "base_uri": "https://localhost:8080/",
     "height": 49,
     "referenced_widgets": [
      "795facde25ff4decaffd6ce3294763a0",
      "b53f3d6847e84b50ad7b312ce6121c80",
      "0b22ced8a6a24ff19ebbebb37d217a61",
      "681c4597fd2d4707b9a439886a1a104a",
      "f7feebaa84c84501a3ef58e5dbf62fc7",
      "7e57d8afafc8447b9a602af52d4e61bd",
      "98a540ce9f494e5a831d4944bf7ce2db",
      "0bdc9d18d8d543bca20d18fd9124e0b8",
      "4411fb46fcf044ffb4dab600031e519f",
      "4f328d923db74ab7a3edc83e6de44306",
      "a6799f40ff7c4f8eac13bd72e6a142ad"
     ]
    },
    "executionInfo": {
     "elapsed": 15661,
     "status": "ok",
     "timestamp": 1689320369382,
     "user": {
      "displayName": "Lukas Wolfrum",
      "userId": "10737638498661133063"
     },
     "user_tz": -120
    },
    "id": "eqcapkV-osn8",
    "outputId": "f5d154c9-751f-4955-d34e-895ba4cdce03"
   },
   "outputs": [
    {
     "data": {
      "application/vnd.jupyter.widget-view+json": {
       "model_id": "795facde25ff4decaffd6ce3294763a0",
       "version_major": 2,
       "version_minor": 0
      },
      "text/plain": [
       "Batches:   0%|          | 0/92 [00:00<?, ?it/s]"
      ]
     },
     "metadata": {},
     "output_type": "display_data"
    }
   ],
   "source": [
    "desc_embeddings = desc_embeddings = model.encode(descriptions,show_progress_bar=True)"
   ]
  },
  {
   "cell_type": "code",
   "execution_count": 23,
   "metadata": {
    "executionInfo": {
     "elapsed": 27,
     "status": "ok",
     "timestamp": 1689320369382,
     "user": {
      "displayName": "Lukas Wolfrum",
      "userId": "10737638498661133063"
     },
     "user_tz": -120
    },
    "id": "hXw4qKX8pGgm"
   },
   "outputs": [],
   "source": [
    "embeddings = {}\n",
    "embeddings[\"descriptions\"] = {\"jobtitle\":jobtitles, \"esco_id\":esco_ids, \"embeddings\":desc_embeddings}"
   ]
  },
  {
   "cell_type": "markdown",
   "metadata": {
    "id": "M4-LUFWKpUyP"
   },
   "source": [
    "## encode Job Advertisements"
   ]
  },
  {
   "cell_type": "code",
   "execution_count": 24,
   "metadata": {
    "executionInfo": {
     "elapsed": 16901,
     "status": "ok",
     "timestamp": 1689320386258,
     "user": {
      "displayName": "Lukas Wolfrum",
      "userId": "10737638498661133063"
     },
     "user_tz": -120
    },
    "id": "frZkEc5NpUYy"
   },
   "outputs": [],
   "source": [
    "job_ads = load_json(\"../00_data/EURES/0_pars_short_ads_final.json\")"
   ]
  },
  {
   "cell_type": "code",
   "execution_count": 25,
   "metadata": {
    "executionInfo": {
     "elapsed": 8,
     "status": "ok",
     "timestamp": 1689320386260,
     "user": {
      "displayName": "Lukas Wolfrum",
      "userId": "10737638498661133063"
     },
     "user_tz": -120
    },
    "id": "1SMxsKYtppxI"
   },
   "outputs": [],
   "source": [
    "#create text to encode by concatenating title and shortened texts\n",
    "def concat_short(ad):\n",
    "  return ad[\"title\"] + ad[\"short_texts\"]"
   ]
  },
  {
   "cell_type": "code",
   "execution_count": 26,
   "metadata": {
    "executionInfo": {
     "elapsed": 529,
     "status": "ok",
     "timestamp": 1689320386783,
     "user": {
      "displayName": "Lukas Wolfrum",
      "userId": "10737638498661133063"
     },
     "user_tz": -120
    },
    "id": "UiRxbTSlp2FA"
   },
   "outputs": [],
   "source": [
    "ads_df = pd.DataFrame(job_ads)"
   ]
  },
  {
   "cell_type": "code",
   "execution_count": 27,
   "metadata": {
    "executionInfo": {
     "elapsed": 1239,
     "status": "ok",
     "timestamp": 1689320388018,
     "user": {
      "displayName": "Lukas Wolfrum",
      "userId": "10737638498661133063"
     },
     "user_tz": -120
    },
    "id": "LCES6005puvl"
   },
   "outputs": [],
   "source": [
    "ads_df[\"final_text\"] = ads_df.apply(concat_short,axis=1)"
   ]
  },
  {
   "cell_type": "code",
   "execution_count": 28,
   "metadata": {
    "colab": {
     "base_uri": "https://localhost:8080/",
     "height": 49,
     "referenced_widgets": [
      "332aa0ee01d14d15b24ef139aeaed996",
      "0f3f9cff830b4c3bac83a595a52bba41",
      "1dbb25c316de40969a2f4906711b8954",
      "f170183e19a74447ba3e8475653372c4",
      "993850af605c4dd8bab54a7d85c213b1",
      "8dda3c24c4d941eeb23df9f47e9e7826",
      "b61580ccefef40a88f24b10776fbff6b",
      "310e276f03654536b913451a76b64a67",
      "8b4b93cef517423596d9e13359533a01",
      "35ff4561e5d045058cab2e48a1e793b5",
      "073469b613654a969ec65eb454997f1e"
     ]
    },
    "executionInfo": {
     "elapsed": 480873,
     "status": "ok",
     "timestamp": 1689320869206,
     "user": {
      "displayName": "Lukas Wolfrum",
      "userId": "10737638498661133063"
     },
     "user_tz": -120
    },
    "id": "SeXfDk1Np9zP",
    "outputId": "ffbf4509-5048-4b02-f22a-9414e9a24add"
   },
   "outputs": [
    {
     "data": {
      "application/vnd.jupyter.widget-view+json": {
       "model_id": "332aa0ee01d14d15b24ef139aeaed996",
       "version_major": 2,
       "version_minor": 0
      },
      "text/plain": [
       "Batches:   0%|          | 0/1317 [00:00<?, ?it/s]"
      ]
     },
     "metadata": {},
     "output_type": "display_data"
    }
   ],
   "source": [
    "# as texts are not unique, create a dict of texts and their encodings and map it to the original text\n",
    "unique_texts = list(set(ads_df[\"final_text\"] ))\n",
    "embedding_map = {}\n",
    "embeddings_jobads = model.encode(unique_texts,show_progress_bar=True,convert_to_tensor=True, batch_size=64)\n",
    "for text, embeddings_jobads in zip(unique_texts,embeddings_jobads.tolist()):\n",
    "      embedding_map[text] = embeddings_jobads\n",
    "ads_df[\"embeddings\"] = ads_df[\"final_text\"].map(embedding_map)"
   ]
  },
  {
   "cell_type": "markdown",
   "metadata": {
    "id": "xD-yLDmPrD0B"
   },
   "source": [
    "## Create Job Advertisement centroid per ESCO Job (JACs)"
   ]
  },
  {
   "cell_type": "code",
   "execution_count": 29,
   "metadata": {
    "colab": {
     "base_uri": "https://localhost:8080/"
    },
    "executionInfo": {
     "elapsed": 39027,
     "status": "ok",
     "timestamp": 1689320908201,
     "user": {
      "displayName": "Lukas Wolfrum",
      "userId": "10737638498661133063"
     },
     "user_tz": -120
    },
    "id": "ktWOiRPlq6oQ",
    "outputId": "c7548443-1ef4-4779-c212-10092fb08ab4"
   },
   "outputs": [
    {
     "name": "stderr",
     "output_type": "stream",
     "text": [
      "100%|██████████| 1700/1700 [00:39<00:00, 43.43it/s]\n"
     ]
    }
   ],
   "source": [
    "JAC_DICT = {}\n",
    "JAC_jobtitles = []\n",
    "# create JACs\n",
    "for id in tqdm(ads_df[\"esco_id\"].unique()):\n",
    "    id_filter = ads_df[ads_df[\"esco_id\"]==id]\n",
    "    JAC_jobtitles.append(id_filter[\"esco_job\"].unique()[0])\n",
    "    JAC =  np.stack(list(id_filter[\"embeddings\"])).mean(axis=0, dtype=\"float32\")\n",
    "    JAC_DICT[id] = JAC"
   ]
  },
  {
   "cell_type": "code",
   "execution_count": 30,
   "metadata": {
    "colab": {
     "base_uri": "https://localhost:8080/"
    },
    "executionInfo": {
     "elapsed": 27,
     "status": "ok",
     "timestamp": 1689320908201,
     "user": {
      "displayName": "Lukas Wolfrum",
      "userId": "10737638498661133063"
     },
     "user_tz": -120
    },
    "id": "C0cMQERcubyA",
    "outputId": "cf28b5d7-26c0-493c-9544-40e9c24eb0cd"
   },
   "outputs": [
    {
     "data": {
      "text/plain": [
       "dict_keys(['descriptions'])"
      ]
     },
     "execution_count": 30,
     "metadata": {},
     "output_type": "execute_result"
    }
   ],
   "source": [
    "embeddings.keys()"
   ]
  },
  {
   "cell_type": "code",
   "execution_count": 31,
   "metadata": {
    "executionInfo": {
     "elapsed": 23,
     "status": "ok",
     "timestamp": 1689320908202,
     "user": {
      "displayName": "Lukas Wolfrum",
      "userId": "10737638498661133063"
     },
     "user_tz": -120
    },
    "id": "V_zbKh5suBST"
   },
   "outputs": [],
   "source": [
    "embeddings[\"JACs\"] = {\"jobtitle\":JAC_jobtitles,\n",
    "                      \"esco_id\":list(JAC_DICT.keys()),\n",
    "                      \"embeddings\":list(JAC_DICT.values())}"
   ]
  },
  {
   "cell_type": "code",
   "execution_count": 32,
   "metadata": {
    "executionInfo": {
     "elapsed": 480,
     "status": "ok",
     "timestamp": 1689320908659,
     "user": {
      "displayName": "Lukas Wolfrum",
      "userId": "10737638498661133063"
     },
     "user_tz": -120
    },
    "id": "O_SG3NJiwyCK"
   },
   "outputs": [],
   "source": [
    "combined_embeddings = []\n",
    "for k in embeddings:\n",
    "  for id,job, embedding in zip(embeddings[k][\"esco_id\"],embeddings[k][\"jobtitle\"], embeddings[k][\"embeddings\"]):\n",
    "      combined_embeddings.append({\"esco_id\":id,\"jobtitle\":job,\"embeddings\":embedding, \"kind\": k})\n",
    "centroid_df = pd.DataFrame(combined_embeddings)\n"
   ]
  },
  {
   "cell_type": "code",
   "execution_count": 33,
   "metadata": {
    "colab": {
     "base_uri": "https://localhost:8080/"
    },
    "executionInfo": {
     "elapsed": 3228,
     "status": "ok",
     "timestamp": 1689320911881,
     "user": {
      "displayName": "Lukas Wolfrum",
      "userId": "10737638498661133063"
     },
     "user_tz": -120
    },
    "id": "c95-cVKfxFBR",
    "outputId": "3590c623-762c-4988-d596-647f2eb839be"
   },
   "outputs": [
    {
     "name": "stderr",
     "output_type": "stream",
     "text": [
      "100%|██████████| 2937/2937 [00:03<00:00, 892.55it/s]\n"
     ]
    }
   ],
   "source": [
    "JC_titles, JC_embeddings, JC_esco_ids= [],[],[]\n",
    "for id in tqdm(centroid_df[\"esco_id\"].unique()):\n",
    "    filtered_df = centroid_df[centroid_df[\"esco_id\"]==id]\n",
    "    stacked_embedding = np.stack(list(filtered_df[\"embeddings\"])).mean(axis=0, dtype=\"float32\")\n",
    "    JC_embeddings.append(stacked_embedding)\n",
    "    JC_esco_ids.append(id)\n",
    "    JC_titles.append(filtered_df[\"jobtitle\"].iloc[0])"
   ]
  },
  {
   "cell_type": "code",
   "execution_count": 34,
   "metadata": {
    "executionInfo": {
     "elapsed": 29,
     "status": "ok",
     "timestamp": 1689320911882,
     "user": {
      "displayName": "Lukas Wolfrum",
      "userId": "10737638498661133063"
     },
     "user_tz": -120
    },
    "id": "674LnzvHxryH"
   },
   "outputs": [],
   "source": [
    "embeddings[\"job_centroids\"] = {\"jobtitle\":JC_titles,\n",
    "                      \"esco_id\":JC_esco_ids,\n",
    "                      \"embeddings\":JC_embeddings}"
   ]
  },
  {
   "cell_type": "code",
   "execution_count": 35,
   "metadata": {
    "colab": {
     "base_uri": "https://localhost:8080/"
    },
    "executionInfo": {
     "elapsed": 28,
     "status": "ok",
     "timestamp": 1689320911882,
     "user": {
      "displayName": "Lukas Wolfrum",
      "userId": "10737638498661133063"
     },
     "user_tz": -120
    },
    "id": "1Su63-AO9Ei0",
    "outputId": "3afefc91-f02f-4077-d627-6fbe95900955"
   },
   "outputs": [
    {
     "data": {
      "text/plain": [
       "dict_keys(['descriptions', 'JACs', 'job_centroids'])"
      ]
     },
     "execution_count": 35,
     "metadata": {},
     "output_type": "execute_result"
    }
   ],
   "source": [
    "embeddings.keys()"
   ]
  },
  {
   "cell_type": "code",
   "execution_count": 38,
   "metadata": {
    "colab": {
     "base_uri": "https://localhost:8080/"
    },
    "executionInfo": {
     "elapsed": 316,
     "status": "ok",
     "timestamp": 1689320942381,
     "user": {
      "displayName": "Lukas Wolfrum",
      "userId": "10737638498661133063"
     },
     "user_tz": -120
    },
    "id": "aoCSuWklyCyv",
    "outputId": "c46c643c-adbf-47b7-e90a-6b4e90df7d57"
   },
   "outputs": [
    {
     "name": "stdout",
     "output_type": "stream",
     "text": [
      "Pickle saved.\n"
     ]
    }
   ],
   "source": [
    "embeddings.keys()\n",
    "write_pickle(f\"{modelpath}/embeddings.pkl\",embeddings)"
   ]
  },
  {
   "cell_type": "markdown",
   "metadata": {
    "id": "lNmXQPRTVHzU"
   },
   "source": [
    "# Plotting\n",
    "\n"
   ]
  },
  {
   "cell_type": "code",
   "execution_count": 116,
   "metadata": {
    "executionInfo": {
     "elapsed": 309,
     "status": "ok",
     "timestamp": 1689322734746,
     "user": {
      "displayName": "Lukas Wolfrum",
      "userId": "10737638498661133063"
     },
     "user_tz": -120
    },
    "id": "DmrhLi4LYONn"
   },
   "outputs": [],
   "source": [
    "from sklearn.manifold import TSNE\n",
    "from sklearn.cluster import DBSCAN\n",
    "import plotly.express as px"
   ]
  },
  {
   "cell_type": "code",
   "execution_count": 39,
   "metadata": {
    "colab": {
     "base_uri": "https://localhost:8080/"
    },
    "executionInfo": {
     "elapsed": 385,
     "status": "ok",
     "timestamp": 1689320944067,
     "user": {
      "displayName": "Lukas Wolfrum",
      "userId": "10737638498661133063"
     },
     "user_tz": -120
    },
    "id": "_YHLhjGTVJW6",
    "outputId": "10d6d9e5-b535-49ea-c0af-c2612b150818"
   },
   "outputs": [
    {
     "name": "stdout",
     "output_type": "stream",
     "text": [
      "dict_keys(['descriptions', 'JACs', 'job_centroids'])\n"
     ]
    }
   ],
   "source": [
    "embeddings = load_pickle(f\"{modelpath}/embeddings.pkl\")\n"
   ]
  },
  {
   "cell_type": "code",
   "execution_count": 41,
   "metadata": {
    "executionInfo": {
     "elapsed": 323,
     "status": "ok",
     "timestamp": 1689321032695,
     "user": {
      "displayName": "Lukas Wolfrum",
      "userId": "10737638498661133063"
     },
     "user_tz": -120
    },
    "id": "aPDmXPrhYBH7"
   },
   "outputs": [],
   "source": [
    "tsne = TSNE(n_components=2,random_state=0)"
   ]
  },
  {
   "cell_type": "code",
   "execution_count": 112,
   "metadata": {
    "executionInfo": {
     "elapsed": 23626,
     "status": "ok",
     "timestamp": 1689322530051,
     "user": {
      "displayName": "Lukas Wolfrum",
      "userId": "10737638498661133063"
     },
     "user_tz": -120
    },
    "id": "gt_xYFGjYVHb"
   },
   "outputs": [],
   "source": [
    "Y = tsne.fit_transform(np.array(embeddings['job_centroids']['embeddings'], dtype=np.float32))\n",
    "plotting = []\n",
    "for jobtitle, xy in zip(embeddings['job_centroids'][\"jobtitle\"], Y):\n",
    "  plotting.append({\"jobtitle\":jobtitle,\"x\":xy[0],\"y\":xy[1]})\n",
    "plotting = pd.DataFrame(plotting)"
   ]
  },
  {
   "cell_type": "code",
   "execution_count": 120,
   "metadata": {
    "executionInfo": {
     "elapsed": 322,
     "status": "ok",
     "timestamp": 1689322783623,
     "user": {
      "displayName": "Lukas Wolfrum",
      "userId": "10737638498661133063"
     },
     "user_tz": -120
    },
    "id": "XGc7AG1VaF_z"
   },
   "outputs": [],
   "source": [
    "clustering = DBSCAN(eps=3, min_samples=10).fit(Y)\n",
    "plotting[\"cluster\"] = clustering.labels_"
   ]
  },
  {
   "cell_type": "code",
   "execution_count": 126,
   "metadata": {
    "colab": {
     "base_uri": "https://localhost:8080/",
     "height": 542
    },
    "executionInfo": {
     "elapsed": 710,
     "status": "ok",
     "timestamp": 1689322970702,
     "user": {
      "displayName": "Lukas Wolfrum",
      "userId": "10737638498661133063"
     },
     "user_tz": -120
    },
    "id": "bazCMByLZitq",
    "outputId": "981bfc32-18a1-4d71-d6e9-d868c3bb1fb6"
   },
   "outputs": [
    {
     "data": {
      "text/html": [
       "<html>\n",
       "<head><meta charset=\"utf-8\" /></head>\n",
       "<body>\n",
       "    <div>            <script src=\"https://cdnjs.cloudflare.com/ajax/libs/mathjax/2.7.5/MathJax.js?config=TeX-AMS-MML_SVG\"></script><script type=\"text/javascript\">if (window.MathJax && window.MathJax.Hub && window.MathJax.Hub.Config) {window.MathJax.Hub.Config({SVG: {font: \"STIX-Web\"}});}</script>                <script type=\"text/javascript\">window.PlotlyConfig = {MathJaxConfig: 'local'};</script>\n",
       "        <script src=\"https://cdn.plot.ly/plotly-2.18.2.min.js\"></script>                <div id=\"4e9f1c1b-f02b-4e3e-ab62-a834e49a7283\" class=\"plotly-graph-div\" style=\"height:525px; width:100%;\"></div>            <script type=\"text/javascript\">                                    window.PLOTLYENV=window.PLOTLYENV || {};                                    if (document.getElementById(\"4e9f1c1b-f02b-4e3e-ab62-a834e49a7283\")) {                    Plotly.newPlot(                        \"4e9f1c1b-f02b-4e3e-ab62-a834e49a7283\",                        [{\"customdata\":[[\"Wissenschaftler Natur- und Artenschutz/Wissenschaftlerin Natur- und Artenschutz\"],[\"Umweltanalytiker Aquakultur/Umweltanalytikerin Aquakultur\"],[\"Forstverwalter/Forstverwalterin\"],[\"Umweltwissenschaftler/Umweltwissenschaftlerin\"],[\"Telekommunikationsingenieur/Telekommunikationsingenieurin\"],[\"Ingenieur Elektronik/Ingenieurin Elektronik\"],[\"Ingenieur Elektrotechnik/Ingenieurin Elektrotechnik\"],[\"Chemieingenieur/Chemieingenieurin\"],[\"Kunststoffingenieur/Kunststoffingenieurin\"],[\"Steinbruchingenieur/Steinbruchingenieurin\"],[\"Edelmetallpr\\u00fcfer/Edelmetallpr\\u00fcferin\"],[\"Bohringenieur/Bohringenieurin\"],[\"Bergbauingenieur/Bergbauingenieurin\"],[\"Ingenieur Arbeitsschutz im Bergbau/Ingenieurin Arbeitsschutz im Bergbau\"],[\"Ingenieur Bergm\\u00e4nnische Planung/Ingenieurin Bergm\\u00e4nnische Planung\"],[\"Ingenieur Erd\\u00f6l- und Erdgastechnik/Ingenieurin Erd\\u00f6l- und Erdgastechnik\"],[\"Ingenieur Aufbereitung von Mineralien/Ingenieurin Aufbereitung von Mineralien\"],[\"Logistik-Analyst/Logistik-Analystin\"],[\"Ledertechniker/Ledertechnikerin\"],[\"Textil- und Bekleidungsingenieur/Textil- und Bekleidungsingenieurin\"],[\"Ingenieur Verfahrenstechnik/Ingenieurin Verfahrenstechnik\"],[\"Wartungsingenieur/Wartungsingenieurin\"],[\"Lebensmittelverpackungstechniker/Lebensmittelverpackungstechnikerin\"],[\"Wirtschaftsingenieur/Wirtschaftsingenieurin\"],[\"Ingenieur Textiltechnik/Ingenieurin Textiltechnik\"],[\"Planungsingenieur Lederherstellung/Planungsingenieurin Lederherstellung\"],[\"Ingenieur Verpackungstechnik/Ingenieurin Verpackungstechnik\"],[\"Ingenieur Robotik und Autonome Systeme/Ingenieurin Robotik und Autonome Systeme\"],[\"Baukalkulator/Baukalkulatorin\"],[\"Ingenieur Flughafeninfrastruktur/Ingenieurin Flughafeninfrastruktur\"],[\"Pr\\u00fcfingenieur/Pr\\u00fcfingenieurin\"],[\"Energieingenieur/Energieingenieurin\"],[\"Optikingenieur/Optikingenieurin\"],[\"Ingenieur Sicherheit und Gesundheitsschutz/Ingenieurin Sicherheit und Gesundheitsschutz\"],[\"Inbetriebsetzungsingenieur/Inbetriebsetzungsingenieurin\"],[\"Patentingenieur/Patentingenieurin\"],[\"Ingenieur Abbruch und Demontage/Ingenieurin Abbruch und Demontage\"],[\"Wissenschaftler Textilien, Lederwaren und Schuhe/Wissenschaftlerin Textilien, Lederwaren und Schuhe\"],[\"Ingenieur Anwendungstechnik/Ingenieurin Anwendungstechnik\"],[\"Brandschutzingenieur/Brandschutzingenieurin\"],[\"Forschungs- und Entwicklungsingenieur/Forschungs- und Entwicklungsingenieurin\"],[\"Berechnungsingenieur/Berechnungsingenieurin\"],[\"Qualit\\u00e4tsingenieur/Qualit\\u00e4tsingenieurin\"],[\"Konstruktionsingenieur/Konstruktionsingenieurin\"],[\"Vertragsingenieur/Vertragsingenieurin\"],[\"Logistikingenieur/Logistikingenieurin\"],[\"Ingenieur Geb\\u00e4udetechnik und Facility-Management/Ingenieurin Geb\\u00e4udetechnik und Facility-Management\"],[\"Ingenieur Bauteile und Komponenten/Ingenieurin Bauteile und Komponenten\"],[\"Biomedizinischer Ingenieur/Biomedizinische Ingenieurin\"],[\"Umweltmanagementbeauftragter (IKT)/Umweltmanagementbeauftragte (IKT)\"],[\"Ingenieur Abfallwirtschaft/Ingenieurin Abfallwirtschaft\"],[\"Recycling-Fachkraft\"],[\"Umweltschutzingenieur Bergbau/Umweltschutzingenieurin Bergbau\"],[\"Maschinenbauingenieur Bergbau/Maschinenbauingenieurin Bergbau\"],[\"Ingenieur Feinwerktechnik/Ingenieurin Feinwerktechnik\"],[\"Ingenieur Fluidtechnik/Ingenieurin Fluidtechnik\"],[\"Ingenieur Grubenbewetterung/Ingenieurin Grubenbewetterung\"],[\"Automobilingenieur/Automobilingenieurin\"],[\"Ingenieur Optomechanik/Ingenieurin Optomechanik\"],[\"Ingenieur Rollendes Material/Ingenieurin Rollendes Material\"],[\"Ingenieur Heizung, Klima, L\\u00fcftung/Ingenieurin Heizung, Klima, L\\u00fcftung\"],[\"Ingenieur Schiffbau und Meerestechnik/Ingenieurin Schiffbau und Meerestechnik\"],[\"Ingenieur Mechatronik/Ingenieurin Mechatronik\"],[\"Ingenieur Verpackungsmaschinen/Ingenieurin Verpackungsmaschinen\"],[\"Equipment Engineer\"],[\"Werkzeugingenieur/Werkzeugingenieurin\"],[\"Ingenieur Apparate- und Beh\\u00e4lterbau/Ingenieurin Apparate- und Beh\\u00e4lterbau\"],[\"Fahrzeug- und Motoreningenieur/Fahrzeug- und Motoreningenieurin\"],[\"Schiffsarchitekt/Schiffsarchitektin\"],[\"Entwicklungsingenieur Industriewerkzeug/Entwicklungsingenieurin Industriewerkzeug\"],[\"Ingenieur Luft- und Raumfahrttechnik/Ingenieurin Luft- und Raumfahrttechnik\"],[\"Ingenieur Rotating Equipment/Ingenieurin Rotating Equipment\"],[\"Ingenieur Druck- und Dampftechnik/Ingenieurin Druck- und Dampftechnik\"],[\"Ingenieur Agrarwirtschaft/Ingenieurin Agrarwirtschaft\"],[\"Ingenieur Schwei\\u00dftechnik/Ingenieurin Schwei\\u00dftechnik\"],[\"Landschaftsgestalter/Landschaftsgestalterin\"],[\"Modellbauer/Modellbauerin\"],[\"Modedesigner/Modedesignerin\"],[\"Automobildesigner/Automobildesignerin\"],[\"Puppendesigner/Puppendesignerin\"],[\"Schmuckdesigner/Schmuckdesignerin\"],[\"Textildesigner/Textildesignerin\"],[\"Hydrograf/Hydrografin\"],[\"Markscheider/Markscheiderin\"],[\"Kommunikationsmanager/Kommunikationsmanagerin\"],[\"Kaufm\\u00e4nnischer Leiter/Kaufm\\u00e4nnische Leiterin\"],[\"Marketingleiter/Marketingleiterin\"],[\"Tourismusmanager/Tourismusmanagerin\"],[\"Bank-Produktmanager/Bank-Produktmanagerin\"],[\"F\\u00fchrungskraft f\\u00fcr die Zucht aquatischer Organismen\"],[\"F\\u00fchrungskraft f\\u00fcr die Ernte aquatischer Organismen\"],[\"F\\u00fchrungskraft in der Aquakulturproduktion\"],[\"Forstwirt/Forstwirtin\"],[\"Filmverleiher/Filmverleiherin\"],[\"Flughafendirektor/Flughafendirektorin\"],[\"Logistik- und Vertriebsmanager/Logistik- und Vertriebsmanagerin\"],[\"Bahnhofsvorsteher/Bahnhofsvorsteherin\"],[\"F\\u00fchrungskraft im Bereich Rohrleitungstransport\"],[\"Umzugsmanager/Umzugsmanagerin\"],[\"Luftverkehrsleiter/Luftverkehrsleiterin\"],[\"Leiter eines Steinbruchs/Leiterin eines Steinbruchs\"],[\"F\\u00fchrungskraft im Bergbau\"],[\"Produktionsleiter Textil/Produktionsleiterin Textil\"],[\"F\\u00fchrungskraft bei Bauprojekten\"],[\"IT-Prozessmanager/IT-Prozessmanagerin\"],[\"IT-Projektmanager/IT-Projektmanagerin\"],[\"IT-Produktmanager/IT-Produktmanagerin\"],[\"Leiter der Datenverarbeitung/Leiterin der Datenverarbeitung\"],[\"Telekommunikationsmanager/Telekommunikationsmanagerin\"],[\"Dokumentationsmanager/Dokumentationsmanagerin\"],[\"Technischer Leiter/Technische Leiterin\"],[\"IT-Leiter/IT-Leiterin\"],[\"Feuerwehrkommandant/Feuerwehrkommandantin\"],[\"Leiter eines medizinischen Labors/Leiterin eines medizinischen Labors\"],[\"Leiter einer \\u00dcbersetzungsagentur/Leiterin einer \\u00dcbersetzungsagentur\"],[\"K\\u00fcnstlerischer Leiter/K\\u00fcnstlerische Leiterin\"],[\"Gef\\u00e4ngnisdirektor/Gef\\u00e4ngnisdirektorin\"],[\"Umweltschutzmanager/Umweltschutzmanagerin\"],[\"Leiter einer kommerziellen Kunstgalerie/Leiterin einer kommerziellen Kunstgalerie\"],[\"Buchverleger/Buchverlegerin\"],[\"Luftraummanager/Luftraummanagerin\"],[\"Kontrolleur der Flug\\u00fcberwachung und der Einhaltung des Luftverkehrsgesetzes/Kontrolleurin der Flug\\u00fcberwachung und der Einhaltung des Luftverkehrsgesetzes\"],[\"Publikationskoordinator/Publikationskoordinatorin\"],[\"Leiter einer Dolmetschagentur/Leiterin einer Dolmetschagentur\"],[\"Service-Manager/Service-Managerin\"],[\"Koordinator f\\u00fcr Flugverkehrskommunikation und -frequenzen/Koordinatorin f\\u00fcr Flugverkehrskommunikation und -frequenzen\"],[\"Energiemanager/Energiemanagerin\"],[\"Flugsicherungsleiter/Flugsicherungsleiterin\"],[\"Museumsdirektor/Museumsdirektorin\"],[\"Gerichtsverwalter/Gerichtsverwalterin\"],[\"Leiter einer Kindertagesst\\u00e4tte/Leiterin einer Kindertagesst\\u00e4tte\"],[\"Kindergartenleiter/Kindergartenleiterin\"],[\"Koordinator f\\u00fcr Kinderbetreuungsdienste/Koordinatorin f\\u00fcr Kinderbetreuungsdienste\"],[\"Manager im Bereich soziale Dienste/Managerin im Bereich soziale Dienste\"],[\"Leiter einer Gesundheitseinrichtung/Leiterin einer Gesundheitseinrichtung\"],[\"Leiter der klinischen Informatik/Leiterin der klinischen Informatik\"],[\"Leiter eines Altenwohnheims/Leiterin eines Altenwohnheims\"],[\"Leiter einer Schule oder Universit\\u00e4t/Leiterin einer Schule oder Universit\\u00e4t\"],[\"Direktor einer Maklergesellschaft/Direktorin einer Maklergesellschaft\"],[\"Manager f\\u00fcr Versicherungsanspr\\u00fcche/Managerin f\\u00fcr Versicherungsanspr\\u00fcche\"],[\"Bankmanager/Bankmanagerin\"],[\"Pensionsfondsmanager/Pensionsfondsmanagerin\"],[\"Leiter einer Versicherungsagentur/Leiterin einer Versicherungsagentur\"],[\"Restaurantmanager/Restaurantmanagerin\"],[\"Rooms-Division-Manager/Rooms-Division-Managerin\"],[\"Bewirtungsmanager/Bewirtungsmanagerin\"],[\"Leiter eines Beherbergungsbetriebs/Leiterin eines Beherbergungsbetriebs\"],[\"Leiter einer Warenhausabteilung/Leiterin einer Warenhausabteilung\"],[\"Supermarktleiter/Supermarktleiterin\"],[\"Warenhausleiter/Warenhausleiterin\"],[\"Verkaufsleiter/Verkaufsleiterin\"],[\"Ladenmanager/Ladenmanagerin\"],[\"Gebietsverkaufsleiter/Gebietsverkaufsleiterin\"],[\"Leiter einer Freizeiteinrichtung/Leiterin einer Freizeiteinrichtung\"],[\"Kulturmanager/Kulturmanagerin\"],[\"Leiter einer Sporteinrichtung/Leiterin einer Sporteinrichtung\"],[\"Leiter des Kundendienstes/Leiterin des Kundendienstes\"],[\"Reiseb\\u00fcroleiter/Reiseb\\u00fcroleiterin\"],[\"Fremdenverkehrszentrumleiter/Fremdenverkehrszentrumleiterin\"],[\"Werkstattleiter/Werkstattleiterin\"],[\"Campingplatzmanager/Campingplatzmanagerin\"],[\"Call-Center-Manager/Call-Center-Managerin\"],[\"Reisevermittlungsleiter/Reisevermittlungsleiterin\"],[\"Botschafter/Botschafterin\"],[\"Botschaftsrat/Botschaftsr\\u00e4tin\"],[\"Gesch\\u00e4ftsf\\u00fchrer eines Flughafens/Gesch\\u00e4ftsf\\u00fchrerin eines Flughafens\"],[\"Niederlassungsleiter/Niederlassungsleiterin\"],[\"Leiter in einem Chemiewerk/Leiterin in einem Chemiewerk\"],[\"Leiter einer Wasseraufbereitungsanlage/Leiterin einer Wasseraufbereitungsanlage\"],[\"Gie\\u00dfereileiter/Gie\\u00dfereileiterin\"],[\"Taxifahrer/Taxifahrerin\"],[\"Leichtmatrose/Leichmatrosin\"],[\"Betonmischerfahrer/Betonmischerfahrerin\"],[\"Gabelstaplerfahrer/Gabelstaplerfahrerin\"],[\"Fahrzeugf\\u00fchrer Feuerwehr/Fahrzeugf\\u00fchrerin Feuerwehr\"],[\"Deckshelferin der Fischerei/Deckshelferin in der Fischerei\"],[\"Tiertransporteur/Tiertransporteurin\"],[\"Schrankenw\\u00e4rter/Schrankenw\\u00e4rterin\"],[\"Fahrdienstleiter/Fahrdienstleiterin\"],[\"Lastkraftwagenfahrer/Lastkraftwagenfahrerin\"],[\"Rangierer/Rangiererin\"],[\"Stra\\u00dfenbahnfahrer/Stra\\u00dfenbahnfahrerin\"],[\"Abraumbaggerfahrer/Abraumbaggerfahrerin\"],[\"Maschinenbediener f\\u00fcr die landwirtschaftliche Produktion/Maschinenbedienerin f\\u00fcr die landwirtschaftliche Produktion\"],[\"Auslieferer mit Motorrad/Auslieferin mit Motorrad\"],[\"Erdbaumaschinenf\\u00fchrer/Erdbaumaschinenf\\u00fchrerin\"],[\"Schienenfahrzeugf\\u00fchrer/Schienenfahrzeugf\\u00fchrerin\"],[\"Stra\\u00dfenbaumaschinenf\\u00fchrer/Stra\\u00dfenbaumaschinenf\\u00fchrerin\"],[\"Deckpersonal\"],[\"Umzugsfahrer/Umzugsfahrerin\"],[\"Maschinenaufseher (Landwirtschaft)/Maschinenaufseherin (Landwirtschaft)\"],[\"Lieferfahrer/Lieferfahrerin\"],[\"Weichenw\\u00e4rter/Weichenw\\u00e4rterin\"],[\"Omnibusfahrer/Omnibusfahrerin\"],[\"M\\u00fcllwagenfahrer/M\\u00fcllwagenfahrerin\"],[\"Seemann/Seefrau\"],[\"Forstmaschinenf\\u00fchrer/Forstmaschinenf\\u00fchrerin\"],[\"Dienstwagenfahrer/Dienstwagenfahrerin\"],[\"Flugzeugtankwart/Flugzeugtankwartin\"],[\"Krankentransportfahrer/Krankentransportfahrerin\"],[\"Matrose der Binnenschifffahrt/Matrosin der Binnenschifffahrt\"],[\"Fachkraft im Geld-, Wert- und Sicherheitstransport\"],[\"Baggerf\\u00fchrer/Baggerf\\u00fchrerin\"],[\"Parkservice-Mitarbeiter/Parkservice-Mitarbeiterin\"],[\"Zugvorbereiter/Zugvorbereiterin\"],[\"Gefahrengutkraftfahrer/Gefahrengutkraftfahrerin\"],[\"Matrose/Matrosin\"],[\"Schrapperfahrer/Schrapperfahrerin\"],[\"Bootsmann/Bootsfrau\"],[\"Schwimmbaggerfahrer/Schwimmbaggerfahrerin\"],[\"Graderfahrer/Graderfahrerin\"],[\"Maschinenbediener im Bereich Wellenl\\u00f6ten/Maschinenbedienerin im Bereich Wellenl\\u00f6ten\"],[\"Stra\\u00dfenwalzenfahrer/Stra\\u00dfenwalzenfahrerin\"],[\"Autokranf\\u00fchrer/Autokranf\\u00fchrerin\"],[\"Seilbahnfachmann/Seilbahnfachfrau\"],[\"Turmdrehkranf\\u00fchrer/Turmdrehkranf\\u00fchrerin\"],[\"Pfahlrammer/Pfahlrammerin\"],[\"Baukranf\\u00fchrer/Baukranf\\u00fchrerin\"],[\"Schneepflugfahrer/Schneepflugfahrerin\"],[\"Verladebr\\u00fcckenf\\u00fchrer/Verladebr\\u00fcckenf\\u00fchrerin\"],[\"Schmuckwarenhersteller/Schmuckwarenherstellerin\"],[\"Kfz-Monteur/Kfz-Monteurin\"],[\"Kunststofffacharbeiter/Kunststofffacharbeiterin\"],[\"Branntweinbrenner/Branntweinbrennerin\"],[\"Obst- und Gem\\u00fcseabf\\u00fcller/Obst- und Gem\\u00fcseabf\\u00fcllerin\"],[\"Brauhausbetreiber/Brauhausbetreiberin\"],[\"Zweiradmonteur/Zweiradmonteurin\"],[\"Fahrradmonteur/Fahrradmonteurin\"],[\"Maschinenmonteur/Maschinenmonteurin\"],[\"SMD-Maschinenbediener/SMD-Maschinenbedienerin\"],[\"Konstruktionsmitarbeiter in der Medizintechnik/Konstruktionsmitarbeiterin in der Medizintechnik\"],[\"Schiffsmotorenmonteur/Schiffsmotorenmonteurin\"],[\"Flugzeugmonteur/Flugzeugmonteurin\"],[\"M\\u00f6belmonteur/M\\u00f6belmonteurin\"],[\"Elektroger\\u00e4temonteur/Elektroger\\u00e4temonteurin\"],[\"Schienenfahrzeugmonteur/Schienenfahrzeugmonteurin\"],[\"Gummifacharbeiter/Gummifacharbeiterin\"],[\"Holzfertigteilbauer/Holzfertigteilbauerin\"],[\"Montageelektriker/Montageelektrikerin\"],[\"Metallwarenmonteur/Metallwarenmonteurin\"],[\"Metallm\\u00f6belhersteller/Metallm\\u00f6belherstellerin\"],[\"M\\u00fcller/M\\u00fcllerin\"],[\"Fischkonservenabf\\u00fcllanlagenbediener/Fischkonservenabf\\u00fcllanlagenbedienerin\"],[\"Obstpressenbediener/Obstpressenbedienerin\"],[\"Grie\\u00dfputzmaschinenbediener/Grie\\u00dfputzmaschinenbedienerin\"],[\"Spirituosenschleifm\\u00fchlenbediener/Spirituosenschleifm\\u00fchlenbedienerin\"],[\"Backofenbediener/Backofenbedienerin\"],[\"Milchproduktherstellungsmitarbeiter/Milchproduktherstellungsmitarbeiterin\"],[\"Brennereimitarbeiter/Brennereimitarbeiterin\"],[\"Nudelmaschinenbediener/Nudelmaschinenbedienerin\"],[\"Wermuthproduzent/Wermuthproduzentin\"],[\"Malzofenbediener/Malzofenbedienerin\"],[\"S\\u00fc\\u00dfigkeitenproduktionsarbeiter/S\\u00fc\\u00dfigkeitenproduktionsarbeiterin\"],[\"Mechatronikmonteur/Mechatronikmonteurin\"],[\"Kakaopressenbediener/Kakaopressenbedienerin\"],[\"Zuckerfabrikmitarbeiter/Zuckerfabrikmitarbeiterin\"],[\"Molkereimitarbeiter/Molkereimitarbeiterin\"],[\"Keimungsaufsicht\"],[\"Blanchieranlagenbediener/Blanchieranlagenbedienerin\"],[\"Sch\\u00fcttgutf\\u00fcller/Sch\\u00fcttgutf\\u00fcllerin\"],[\"Mitarbeiter f\\u00fcr Getr\\u00e4nkemischung/Mitarbeiterin f\\u00fcr Getr\\u00e4nkemischung\"],[\"Milchw\\u00e4rmebehandlungsverfahrenstechniker/Milchw\\u00e4rmebehandlungsverfahrenstechnikerin\"],[\"Maschinenweber/Maschinenweberin\"],[\"G\\u00e4rkellerbetreiber/G\\u00e4rkellerbetreiberin\"],[\"Mitarbeiter am Absetzbecken/Mitarbeiterin am Absetzbecken\"],[\"Schuhmaschinenbediener/Schuhmaschinenbedienerin\"],[\"Zentrifugenbediener/Zentrifugenbedienerin\"],[\"Saucenmacher/Saucenmacherin\"],[\"Spinnmaschinenbediener/Spinnmaschinenbedienerin\"],[\"Honigschleuder-Arbeiter/Honigschleuder-Arbeiterin\"],[\"Schokoladenformmaschinenbediener/Schokoladenformmaschinenbedienerin\"],[\"F\\u00e4rbereitechniker/F\\u00e4rbereitechnikerin\"],[\"Apfelweinproduktionsmitarbeiter/Apfelweinproduktionsmitarbeiterin\"],[\"Destilleriemitarbeiter/Destilleriemitarbeiterin\"],[\"Textilveredler/Textilveredlerin\"],[\"Strickmaschinenbediener/Strickmaschinenbedienerin\"],[\"Textilmaschinenbediener/Textilmaschinenbedienerin\"],[\"Bediener eines Weinfermenters/Bedienerin eines Weinfermenters\"],[\"Lebensmittelproduktionsmitarbeiter/Lebensmittelproduktionsmitarbeiterin\"],[\"Speisest\\u00e4rkeverarbeitungsanlagenbediener/Speisest\\u00e4rkeverarbeitungsanlagenbedienerin\"],[\"Fleischwarenverarbeitungskraft\"],[\"Mitarbeiter in der Futtermittelherstellung/Mitarbeiterin in der Futtermittelherstellung\"],[\"Spirituosenmischer/Spirituosenmischerin\"],[\"Gew\\u00fcrzmischer/Gew\\u00fcrzmischerin\"],[\"Tiefk\\u00fchlkosthersteller/Tiefk\\u00fchlkostherstellerin\"],[\"Egreniermaschinenbediener/Egreniermaschinenbedienerin\"],[\"Mitarbeiter der Karbonisierung/Mitarbeiterin der Karbonisierung\"],[\"Textilf\\u00e4rber/Textilf\\u00e4rberin\"],[\"Bediener f\\u00fcr Kochkessel/Bedienerin f\\u00fcr Kochkessel\"],[\"St\\u00e4rkegewinnungsanlagenbediener/St\\u00e4rkegewinnungsanlagenbedienerin\"],[\"Spinnvorbereiter/Spinnvorbereiterin\"],[\"Garnspuler/Garnspulerin\"],[\"Fischproduktionsfachkraft\"],[\"Textilveredelungstechniker/Textilveredelungstechnikerin\"],[\"Kakaomahler/Kakaomahlerin\"],[\"Fachkraft f\\u00fcr maschinelle Lederverarbeitung\"],[\"Bediener von Maschinen zur Herstellung von Matratzen/Bedienerin von Maschinen zur Herstellung von Matratzen\"],[\"Maschinenn\\u00e4her/Maschinenn\\u00e4herin\"],[\"Vliesstofftechniker/Vliesstofftechnikerin\"],[\"Planenkonfektion\\u00e4r/Planenkonfektion\\u00e4rin\"],[\"Stanzmaschinenbediener/Stanzmaschinenbedienerin\"],[\"Bediener von Ledermessmaschinen/Bedienerin von Ledermessmaschinen\"],[\"Einrichter f\\u00fcr Flechtmaschinen/Einrichterin f\\u00fcr Flechtmaschinen\"],[\"Facharbeiter in der Lederherstellung/Facharbeiterin in der Lederherstellung\"],[\"Textilmaschinenf\\u00fchrer f\\u00fcr Vliesstoff/Textilmaschinenf\\u00fchrerin f\\u00fcr Vliesstoff\"],[\"Oberledersch\\u00e4rfer/Oberledersch\\u00e4rferin\"],[\"Maschinenfeiler/Maschinenfeilerin\"],[\"Folienpresser/Folienpresserin\"],[\"Flachschleifer/Flachschleiferin\"],[\"Pultrusionsmaschinenbediener/Pultrusionmaschinenbedienerin\"],[\"Drahtzieher/Drahtzieherin\"],[\"Eloxierer/Eloxiererin\"],[\"Vakuumformgeber/Vakuumformgeberin\"],[\"Metallwalzer/Metallwalzerin\"],[\"Federmacher/Federmacherin\"],[\"Schallplattenpresser/Schallplattenpresserin\"],[\"Konvertermann/Konverterfrau\"],[\"Laminierer/Laminiererin\"],[\"Fomgie\\u00dfmaschinenf\\u00fchrer/Formgie\\u00dfmaschinenf\\u00fchrerin\"],[\"Kunststoffm\\u00f6belmacher/Kunststoffm\\u00f6belmacherin\"],[\"Extruderf\\u00fchrer/Extruderf\\u00fchrerin\"],[\"Sandstrahler/Sandstrahlerin\"],[\"Emaillierer/Emailliererin\"],[\"Duroplastarbeiter/Duroplastarbeiterin\"],[\"Wellpappenmaschinenf\\u00fchrer/Wellpappenmaschinenf\\u00fchrerin\"],[\"Entgrater/Entgraterin\"],[\"Bediener von Maschinen zur Erzeugung von Hygieneprodukten aus Papier/Bedienerin von Maschinen zur Erzeugung von Hygieneprodukten aus Papier\"],[\"Bediener von Blasformmaschinen/Bedienerin von Blasformmaschinen\"],[\"Perforierer in der Papierwarenerzeugung/Perforiererin in der Papierwarenerzeugung\"],[\"Plexiglasverformer/Plexiglasverformerin\"],[\"Bediener von Kunststoff-Formteilpressen/Bedienerin von Kunststoff-Formteilpressen\"],[\"Rundschleifer/Rundschleiferin\"],[\"Isolierschlauchwickler/Isolierschlauchwicklerin\"],[\"Papierschneider/Papierschneiderin\"],[\"Kunststoffspritzer/Kunststoffspritzerin\"],[\"Beschichtungsmaschinenf\\u00fchrer/Beschichtungsmaschinenf\\u00fchrerin\"],[\"Textilverflechter/Textilverflechterin\"],[\"Galvanotechniker/Galvanotechnikerin\"],[\"Metallziehmaschinenbediener/Metallziehmaschinenbedienerin\"],[\"Textilmustergestalter/Textilmustergestalterin\"],[\"R\\u00fcttelscheuermaschinenbediener/R\\u00fcttelscheuermaschinenbedienerin\"],[\"Rollenmaschinenarbeiter in der Kunststoffverarbeitung/Rollenmaschinenarbeiterin in der Kunststoffverarbeitung\"],[\"Korrosionssch\\u00fctzer/Korrosionssch\\u00fctzerin\"],[\"Gummiverarbeiter/Gummiverarbeiterin\"],[\"Tauchlackierer/Tauchlackiererin\"],[\"Papiermaschinenf\\u00fchrer/Papiermaschinenf\\u00fchrerin\"],[\"Faserplattenpresser/Faserplattenpresserin\"],[\"Papierbreihersteller/Papierbreiherstellerin\"],[\"T\\u00fctenmacher/T\\u00fctenmacherin\"],[\"Holzpellethersteller/Holzpelletherstellerin\"],[\"S\\u00e4gewerksfacharbeiter/S\\u00e4gewerksfacharbeiterin\"],[\"Hackschnitzelerzeuger/Hackschnitzelerzeugerin\"],[\"Schrots\\u00e4genf\\u00fchrer/Schrots\\u00e4genf\\u00fchrerin\"],[\"Entrindungsmaschinenf\\u00fchrer/Entrindungsmaschinenf\\u00fchrerin\"],[\"Kartonagenwarenerzeuger/Kartonagenwarenerzeugerin\"],[\"Kuvertmacher/Kuvermacherin\"],[\"Berg- und Maschinenmann/Berg- und Maschinenfrau\"],[\"Fachkraft f\\u00fcr Druckfarbenentfernung (Flotationsdeinking)\"],[\"Tagebauarbeiter/Tagebauarbeiterin\"],[\"Bohrmeister/Bohrmeisterin\"],[\"Maschinenf\\u00fchrer auf \\u00d6lbohrinseln/Maschinenf\\u00fchrerin auf \\u00d6lbohrinseln\"],[\"Deckarbeiter/Deckarbeiterin\"],[\"Maschinenf\\u00fchrer in der Papierwarenerzeugung/Maschinenf\\u00fchrerin in der Papierwarenerzeugung\"],[\"Brunnenmacher/Brunnenmacherin\"],[\"Mineralaufbereiter/Mineralaufbereiterin\"],[\"Fachkraft f\\u00fcr Druckfarbenentfernung (Waschdeinking)\"],[\"Kaschierer in der Papierverarbeitung/Kaschiererin in der Papierverarbeitung\"],[\"Brechermaschinist/Brechermaschinistin\"],[\"B\\u00fchnenmann/B\\u00fchnenfrau\"],[\"Tunnelbaumaschinenf\\u00fchrer/Tunnelbaumaschinenf\\u00fchrerin\"],[\"Bohrarbeiter/Bohrarbeiterin\"],[\"Oberbohrmeister/Oberbohrmeisterin\"],[\"Bohranlagenbediener/Bohranlagenbedienerin\"],[\"Verpackungs- und Abf\\u00fcllanlagenbediener/Verpackungs- und Abf\\u00fcllanlagenbedienerin\"],[\"Untertagearbeiter/Untertagearbeiterin\"],[\"Schuhverpacker/Schuhverpackerin\"],[\"Entw\\u00e4sserungstechniker/Entw\\u00e4sserungstechnikerin\"],[\"Betonmaschinist/Betonmaschinistin\"],[\"Dosen- und Flaschenabf\\u00fcllanlagenbediener/Dosen- und Flaschenabf\\u00fcllanlagenbedienerin\"],[\"Zellstoffkocher/Zellstoffkocherin\"],[\"Betonbauer/Betonbauerin\"],[\"Papiermach\\u00e9former/Papiermach\\u00e9oformerin\"],[\"Asphaltkocher/Asphaltkocherin\"],[\"Bleicher in der Papierherstellung/Bleicherin in der Papierherstellung\"],[\"Hei\\u00dfsiegelmaschinenf\\u00fchrer/Hei\\u00dfsiegelmaschinenf\\u00fchrerin\"],[\"Pipelinebediener/Pipelinebedienerin\"],[\"Formengie\\u00dfer/Formengie\\u00dferin\"],[\"Schiefermischer/Schiefermischerin\"],[\"Elektrolysezellenhersteller/Elektrolysezellenherstellerin\"],[\"Lederwarenverpacker/Lederwarenverpackerin\"],[\"Glasierer/Glasiererin\"],[\"Keramgie\\u00dfer/Keramgie\\u00dferin\"],[\"Tonbrenner/Tonbrennerin\"],[\"Glasziehmaschinensteuerer/Glasziehmaschinensteuerin\"],[\"Bediener von Tonerde-Strangpressen/Bedienerin von Tonerde-Strangpressen\"],[\"Flachglasschleifer/Flachglasschleiferin\"],[\"Ziegelmacher/Ziegelmacherin\"],[\"Glasformer/Glasformerin\"],[\"Kerampresser/Kerampresserin\"],[\"Glask\\u00fchlofensteuerer/Glask\\u00fchlofensteuerin\"],[\"Batteriemonteur/Batteriemonteurin\"],[\"Oberleitungsbusfahrer/Oberleitungsbusfahrerin\"],[\"Kabelanlagenmonteur/Kabelanlagenmonteurin\"],[\"Elektroanlageninstallateur/Elektroanlageninstallateurin\"],[\"Leiterplattenbest\\u00fccker/Leiterplattenbest\\u00fcckerin\"],[\"Hersteller elektronischer Musikinstrumente/Herstellerin elektronischer Musikinstrumente\"],[\"Fotoausr\\u00fcstungsmonteur/Fotoausr\\u00fcstungsmonteurin\"],[\"Kabelbaumleger/Kabelbaumlegerin\"],[\"Autoteilemonteur/Autoteilemonteurin\"],[\"Schaltanlagenmonteur/Schaltanlagenmonteurin\"],[\"Halbleiterfertiger/Halbleiterfertigerin\"],[\"Karosseriemonteur/Karosseriemonteurin\"],[\"Steuerer Koks\\u00f6fen/Steuerin Koks\\u00f6fen\"],[\"Rollenschneider/Rollenschneiderin\"],[\"Kosmetikhersteller/Kosmetikherstellerin\"],[\"Bediener von Maschinen zur Parf\\u00fcmherstellung/Bedienerin von Maschinen zur Parf\\u00fcmherstellung\"],[\"Pharmatechnologe/Pharmatechnologin\"],[\"Filmlaborant/Filmlaborantin\"],[\"Kfz-Motorenbauer/Kfz-Motorenbauerin\"],[\"Dampfmaschinist/Dampfmaschinistin\"],[\"Kesselw\\u00e4rter/Kesselw\\u00e4rterin\"],[\"Kantenanleimmaschinenbediener/Kantenanleimmaschinenbedienerin\"],[\"Aufseher im Bergbau/Aufseherin im Bergbau\"],[\"Pharmawerker im Bereich Granulierung/Pharmawerkerin im Bereich Granulierung\"],[\"Kalkbrenner/Kalkbrennerin\"],[\"Kapself\\u00fcllmaschinenbediener/Kapself\\u00fcllmaschinenbedienerin\"],[\"Kunstfaserhersteller/Kunstfaserherstellerin\"],[\"Fotolaborant/Fotolaborantin\"],[\"Wachsbleicher/Wachsbleicherin\"],[\"Tablettenpresser/Tablettenpresserin\"],[\"Chemie- und Pharmatechnologe/Chemie- und Pharmatechnologin\"],[\"Zwirner/Zwirnerin\"],[\"Automatenstricker/Automatenstrickerin\"],[\"Kunstfaserspinner/Kunstfaserspinnerin\"],[\"Tufter/Tufterin\"],[\"Webvorbereiter/Webvorbereiterin\"],[\"Schuhstepper/Schuhstepperin\"],[\"Flugtriebwerkmechaniker/Flugtriebwerkmechanikerin\"],[\"Garnspinner/Garnspinnerin\"],[\"Strickmaschineneinrichter/Strickmaschineneinrichterin\"],[\"Automatenweber/Automatenweberin\"],[\"Wartungstechniker in der Schuhherstellung/Wartungstechnikerin in der Schuhherstellung\"],[\"Lederappreteur/Lederappreteurin\"],[\"D\\u00fcngemittelmischer/D\\u00fcngemittelmischerin\"],[\"Bediener von Maschinen zum Pressen optischer Platten/Bedienerin von Maschinen zum Pressen optischer Platten\"],[\"Wartungstechniker in der Lederwarenherstellung/Wartungstechnikerin in der Lederwarenherstellung\"],[\"Bands\\u00e4genf\\u00fchrer/Bands\\u00e4genf\\u00fchrerin\"],[\"Musterschneider/Musterschneiderin\"],[\"Tunnelofenbediener/Tunnelofenbedienerin\"],[\"Oberlederzurichter/Oberlederzurichterin\"],[\"Schutzbekleidungshersteller/Schutzbekleidungsherstellerin\"],[\"Vorrichter/Vorrichterin\"],[\"Zwicker/Zwickerin\"],[\"\\u00c4nderungschneider/\\u00c4nderungsschneiderin\"],[\"Firnissieder/Firnissiederin\"],[\"Holzfr\\u00e4smaschinenf\\u00fchrer/Holzfr\\u00e4smaschinenf\\u00fchrerin\"],[\"Furniers\\u00e4ger/Furniers\\u00e4gerin\"],[\"Sohlenmacher/Sohlenmacherin\"],[\"Bediener von Maschinen zur Gummierzeugung/Bedienerin von Maschinen zur Gummierzeugung\"],[\"Ledersteppmaschinenbediener/Ledersteppmaschinenbedienerin\"],[\"Hobelmaschinenf\\u00fchrer/Hobelmaschinenf\\u00fchrerin\"],[\"Tauchgummiwarenhersteller/Tauchgummiwarenherstellerin\"],[\"Reifenvulkaniseur/Reifenvulkaniseurin\"],[\"Gerber/Gerberin\"],[\"Gummischneider/Gummischneiderin\"],[\"Reifenmacher/Reifenmacherin\"],[\"Tischkreiss\\u00e4genf\\u00fchrer/Tischkreiss\\u00e4genf\\u00fchrerin\"],[\"Maschinsticker/Maschinstickerin\"],[\"Bediener von Trockenanlagen f\\u00fcr Ton/Bedienerin von Trockenanlagen f\\u00fcr Ton\"],[\"Latexsch\\u00e4umer/Latexsch\\u00e4umerin\"],[\"Steuerer von chemischen Verfahrensanlagen/Steuerin von chemischen Verfahrensanlagen\"],[\"Steuerer Leitstand von Gasaufbereitungsanlagen/Steuerin Leitstand von Gasaufbereitungsanlagen\"],[\"Schmelzofensteuerer/Schmelzofensteuerin\"],[\"Steuerer Leitstand Erd\\u00f6lraffinationsanlagen/Steuerin Leitstand Erd\\u00f6lraffinationsanlagen\"],[\"Steuerer von Gasaufbereitungsanlagen/Steuerin von Gasaufbereitungsanlagen\"],[\"Steuerer von Industrierobotern/Steuerin von Industrierobotern\"],[\"Steuerer von Zellstoffanlagen/Steuerin von Zellstoffanlagen\"],[\"Steuerer von automatisierten Montagelinien/Steuerin von automatisierten Montagelinien\"],[\"Steuerer \\u00d6lpumpsysteme/Steuerin \\u00d6lpumpsysteme\"],[\"Ingenieurassistent/Ingenieurassistentin\"],[\"3D-Druck-Techniker/3D-Druck-Technikerin\"],[\"Seevermessungstechniker/Seevermessungstechnikerin\"],[\"Bodenpr\\u00fcftechniker/Bodenpr\\u00fcftechnikerin\"],[\"CAD-Fachkraft Bekleidung\"],[\"Chemiebetriebs- und Verfahrenstechniker/Chemiebetriebs- und Verfahrenstechnikerin\"],[\"Werkstoffpr\\u00fcfer/Werkstoffpr\\u00fcferin\"],[\"Energieanalyst/Energieanalystin\"],[\"Labortechniker/Labortechnikerin Leder\"],[\"Steuerer von Fl\\u00fcssigabfallaufbereitungsanlagen/Steuerin von Fl\\u00fcssigabfallaufbereitungsanlagen\"],[\"Energieberater/Energieberaterin\"],[\"Lebensmittelchemiker/Lebensmittelchemikerin\"],[\"Metrologietechniker/Metrologietechnikerin\"],[\"Technischer Zeichner/Technische Zeichnerin\"],[\"Wasserwerker/Wasserwerkerin\"],[\"Techniker im Bereich Elektronik/Technikerin im Bereich Elektronik\"],[\"Steuerer von Verbrennungsanlagen/Steuerin von Verbrennungsanlagen\"],[\"Arbeitsschutzmanagementbeauftragter Bau/Arbeitsschutzmanagementbeauftragte Bau\"],[\"Maschinenbautechniker/Maschinenbautechnikerin\"],[\"Umweltschutztechniker/Umweltschutztechnikerin\"],[\"Bautechniker/Bautechnikerin\"],[\"Steuerer von Abwasseraufbereitungsanlagen/Steuerin von Abwasseraufbereitungsanlagen\"],[\"Kontrolleur f\\u00fcr Eisenbahninfrastruktur/Kontrolleurin f\\u00fcr Eisenbahninfrastruktur\"],[\"Kontrolleur Baustellensicherheit/Kontrolleurin Baustellensicherheit\"],[\"Steuerer von Energieerzeugungsanlagen/Steuerin von Energieerzeugungsanlagen\"],[\"Korrosionsschutztechniker/Korrosionsschutztechnikerin\"],[\"Strahlenschutztechniker/Strahlenschutztechnikerin\"],[\"Fernerkundungstechniker/Fernerkundungstechnikerin\"],[\"Nukleartechniker/Nukleartechnikerin\"],[\"Vermessungstechniker/Vermessungstechnikerin\"],[\"Abwasseraufbereitungstechniker/Abwasseraufbereitungstechnikerin\"],[\"Steuerer von Festabfallaufbereitungsanlagen/Steuerin von Festabfallaufbereitungsanlagen\"],[\"Geologietechniker/Geologietechnikerin\"],[\"Consultant im Bereich Energie\"],[\"Chemielaborant/Chemielaborantin\"],[\"Steuerer von Wasserbehandlungsanlagen/Steuerin von Wasserbehandlungsanlagen\"],[\"Leiterplattendesigner/Leiterplattendesignerin\"],[\"Techniker Automatisierungstechnik/Technikerin Automatisierungstechnik\"],[\"Prozesstechniker/Prozesstechnikerin\"],[\"Vermessungstechniker Bergvermessung/Vermessungstechnikerin Bergvermessung\"],[\"Geotechniker/Geotechnikerin\"],[\"Produktionstechniker Lederwaren/Produktionstechnikerin Lederwaren\"],[\"Entsalzungstechniker/Entsalzungstechnikerin\"],[\"Sicherheitsbeauftragter Bergbau/Sicherheitsbeauftragte Bergbau\"],[\"Lebensmitteltechniker/Lebensmitteltechnikerin\"],[\"Inbetriebnahmetechniker/Inbetriebnahmetechnikerin\"],[\"Flugsicherungstechniker/Flugsicherungstechnikerin\"],[\"Steuermann Binnenschifffahrt/Steuerfrau Binnenschifffahrt\"],[\"Instandhaltungstechniker/Instandhaltungstechnikerin Flughafen\"],[\"Produktionstechniker/Produktionstechnikerin\"],[\"Compliance-Koordinator Rohrleitungen/Compliance-Koordinatorin Rohrleitungen\"],[\"Flugzeugf\\u00fchrer/Flugzeugf\\u00fchrerin\"],[\"Photoniktechniker/Photoniktechnikerin\"],[\"Erster Nautischer Schiffsoffizier/Erste Nautische Schiffsoffizierin\"],[\"Qualit\\u00e4tssicherungstechniker/Qualit\\u00e4tssicherungstechnikerin\"],[\"Forstaufseher/Forstaufseherin\"],[\"Sicherheitsbeauftragter Luftverkehr/Sicherheitsbeauftragte Luftverkehr\"],[\"Wachmaschinist Schiff/Wachmaschinistin Schiff\"],[\"Flugverkehrsleiter/Flugverkehrsleiterin\"],[\"Montageleiter/Montageleiterin\"],[\"Luftfahrzeugtechniker Instandhaltung/Luftfahrzeugtechnikerin Instandhaltung\"],[\"Elektrotechniker/Elektrotechnikerin\"],[\"Produktentwicklungstechniker/Produktentwicklungstechnikerin\"],[\"Oberbauleiter/Oberbauleiterin\"],[\"Erster Technischer Schiffsoffizier/Erste Technische Schiffsoffizierin\"],[\"Netzkontrolleur/Netzkontrolleurin\"],[\"Kontrolleur Textilverarbeitung/Kontrolleurin Textilverarbeitung\"],[\"Zweiter Technischer Schiffsoffizier/Zweite Technische Schiffsoffizierin\"],[\"Produktionstechniker Schuhwaren/Produktionstechnikerin Schuhwaren\"],[\"Biotechniker/Biotechnikerin\"],[\"Fluglotse/Fluglotsin\"],[\"Seelotse/Seelotsin\"],[\"Wasserkraftwerkstechniker/Wasserkraftwerkstechnikerin\"],[\"Bauleiter Unterwasserarbeiten/Bauleiterin Unterwasserarbeiten\"],[\"Schiffsf\\u00fchrer Binnenschifffahrt/Schiffsf\\u00fchrerin Binnenschifffahrt\"],[\"Produktentwickler Schuhe/Produktentwicklerin Schuhe\"],[\"Flugverkehrskontrolleur/Flugverkehrskontrolleurin\"],[\"Labortechniker Biowissenschaften/Labortechnikerin Biowissenschaften\"],[\"Agrartechniker/Agrartechnikerin\"],[\"Fischfroster/Fischfrosterin\"],[\"Schiffskapit\\u00e4n/Schiffskapit\\u00e4nin\"],[\"medizinischer Sekret\\u00e4r/medizinische Sekret\\u00e4rin\"],[\"Lebensmittelproduktionsplaner/Lebensmittelproduktionsplanerin\"],[\"Anwaltssekret\\u00e4r/Anwaltssekret\\u00e4rin\"],[\"Standesbeamter/Standesbeamtin\"],[\"Milchverarbeitungstechniker/Milchverarbeitungstechnikerin\"],[\"Aufsichtskraft in Bergwerken\"],[\"Produktionsleiter/Produktionsleiterin\"],[\"medizinische Schreibkraft\"],[\"Praxismanager/Praxismanagerin\"],[\"Aufsichtskraft Abfallentsorgung und -recycling\"],[\"Immobilienverwalter/Immobilienverwalterin\"],[\"Call-Center-Trainer/Call-Center-Trainerin\"],[\"Anzeigenverk\\u00e4ufer/Anzeigenverk\\u00e4uferin\"],[\"Arbeitsvermittler/Arbeitsvermittlerin\"],[\"Call-Center-Analyst/Call-Center-Analystin\"],[\"Patentsachbearbeiter/Patentsachbearbeiterin\"],[\"Immobilienmakler/Immobilienmaklerin\"],[\"Handelsvertreter/Handelsvertreterin\"],[\"Tourismush\\u00e4ndler/Tourismush\\u00e4ndlerin\"],[\"B\\u00fcroleiter/B\\u00fcroleiterin\"],[\"Verlagssachbearbeiter/Verlagssachbearbeiterin\"],[\"Datenerfassungsleiter/Datenerfassungsleiterin\"],[\"Management-Assistent/Management-Assistentin\"],[\"Relocation-Specialist\"],[\"Vermietungsmanager/Vermietungsmanagerin\"],[\"Call-Center-Qualit\\u00e4tspr\\u00fcfer/Call-Center-Qualit\\u00e4tspr\\u00fcferin\"],[\"internationaler Logistikmanager/internationale Logistikmanagerin\"],[\"Redaktionsassistent/Redaktionsassistentin\"],[\"Gro\\u00dfh\\u00e4ndler/Gro\\u00dfh\\u00e4ndlerin\"],[\"K\\u00fcnstleragent/K\\u00fcnstleragentin\"],[\"Frachtf\\u00fchrer ohne eigenen Schiffsbetrieb/Frachtf\\u00fchrerin ohne eigenen Schiffsbetrieb\"],[\"Holzh\\u00e4ndler/Holzh\\u00e4ndlerin\"],[\"Verwaltungsassistent/Verwaltungsassistentin\"],[\"Warenmakler/Warenmaklerin\"],[\"Hausverwalter/Hausverwalterin\"],[\"Kundenservice-Manager/Kundenservice-Managerin\"],[\"Vorstandsassistent/Vorstandsassistentin\"],[\"Konzertagent/Konzertagentin\"],[\"Speditionskaufmann/Speditionskauffrau\"],[\"Warengesch\\u00e4ftevermittler/Warengesch\\u00e4ftevermittlerin\"],[\"Gerichtsschreiber/Gerichtsschreiberin\"],[\"Immobilienh\\u00e4ndler/Immobilienh\\u00e4ndlerin\"],[\"Programmgestalter im Kulturbereich/Programmgestalterin im Kulturbereich\"],[\"Diamantgutachter/Diamantgutachterin\"],[\"Versicherungsmakler/Versicherungsmaklerin\"],[\"Immobiliensachverst\\u00e4ndiger/Immobiliensachverst\\u00e4ndige\"],[\"Sachwertspezialist/Sachwertspezialistin\"],[\"Underwriter im Versicherungswesen/Underwriterin im Versicherungswesen\"],[\"Immobiliensch\\u00e4tzer/Immobiliensch\\u00e4tzerin\"],[\"Risikoanalytiker im Versicherungswesen/Risikoanalytikerin im Versicherungswesen\"],[\"B\\u00fchnenbildassistent/B\\u00fchnenbildassistentin\"],[\"Versicherungsdetektiv/Versicherungsdetektivin\"],[\"Zuschussverwalter/Zuschussverwalterin\"],[\"Zulassungssachbearbeiter/Zulassungssachbearbeiterin\"],[\"Polizeikommissar/Polizeikommissarin\"],[\"Finanzmakler/Finanzmaklerin\"],[\"Verm\\u00f6gensverwalter/Verm\\u00f6gensverwalterin\"],[\"Polizeibeamter im Ermittlungsdienst/Polizeibeamtin im Ermittlungsdienst\"],[\"Kriminalbeamter/Kriminalbeamtin\"],[\"Grenzschutzbeamter/Grenzschutzbeamtin\"],[\"Steuerpr\\u00fcfer/Steuerpr\\u00fcferin\"],[\"Handgep\\u00e4ckkontrolleur/Handgep\\u00e4ckkontrolleurin\"],[\"Bankkundenberater/Bankkundenberaterin\"],[\"Finanzbeamter f\\u00fcr Steuererhebung/Finanzbeamtin f\\u00fcr Steuererhebung\"],[\"Spielhallenaufsicht\"],[\"Versicherungsmathematischer Assistent/Versicherungsmathematische Assistentin\"],[\"Gewichte- und Ma\\u00dfekontrolleur/Gewichte- und Ma\\u00dfekontrolleurin\"],[\"Kreditrisikomanager/Kreditrisikomanagerin\"],[\"Sachbearbeiter f\\u00fcr Passangelegenheiten/Sachbearbeiterin f\\u00fcr Passangelegenheiten\"],[\"Forstwirtschaftskontrolleur/Forstwirtschaftskontrolleurin\"],[\"Buchhaltungsassistent/Buchhaltungsassistentin\"],[\"Statistischer Assistent/Statistische Assistentin\"],[\"Versicherungsgutachter/Versicherungsgutachterin\"],[\"Studienbeihilfeberater/Studienbeihilfeberaterin\"],[\"Landwirtschaftskontrolleur/Landwirtschaftskontrolleurin\"],[\"Sachbearbeiter f\\u00fcr den Bereich Zwangsvollstreckung/Sachbearbeiterin f\\u00fcr den Bereich Zwangsvollstreckung\"],[\"Fischereiaufseher/Fischereiaufseherin\"],[\"Frachtkontrolleur/Frachtkontrolleurin\"],[\"Schadensregulierer/Schadensreguliererin\"],[\"Justizwachtmeister/Justizwachtmeisterin\"],[\"Trader am Finanzmarkt/Traderin am Finanzmarkt\"],[\"Arbeitsschutzinspektor/Arbeitsschutzinspektorin\"],[\"Konsumentenberater/Konsumentenberaterin\"],[\"Buchhalter/Buchhalterin\"],[\"M\\u00f6nch/Nonne\"],[\"Notariatsmitarbeiter/Notariatsmitarbeiterin\"],[\"Lebensberater/Lebensberaterin\"],[\"Pastoralassistent/Pastoralassistentin\"],[\"Gerichtsvollzieher/Gerichtsvollzieherin\"],[\"Justizfachangestellter/Justizfachangestellte\"],[\"Privatdetektiv/Privatdetektivin\"],[\"Rechtsanwaltsfachangestellte/Rechtsanwaltsfachangestellter\"],[\"Sachbearbeiter f\\u00fcr Rechtsangelegenheiten/Sachbearbeiterin f\\u00fcr Rechtsangelegenheiten\"],[\"Justizverwaltungsbeamter/Justizverwaltungsbeamtin\"],[\"Merchandiser\"],[\"Tontechniker/Tontechnikerin\"],[\"Pyrotechniker/Pyrotechnikerin\"],[\"Filmproduktionsassistent/Filmproduktionsassistentin\"],[\"Tierpr\\u00e4parator/Tierpr\\u00e4paratorin\"],[\"Fotojournalist/Fotojournalistin\"],[\"Script Supervisor\"],[\"K\\u00f6rperk\\u00fcnstler/K\\u00f6rperk\\u00fcnstlerin\"],[\"Fotograf/Fotografin\"],[\"B\\u00fchnenkampfmeister/B\\u00fchnenkampfmeisterin\"],[\"Requisitenhersteller/Requisitenherstellerin\"],[\"Stuntman/Stuntwoman\"],[\"Visual Merchandiser\"],[\"Miniaturbauer/Miniaturbauerin\"],[\"Regieassistent/Regieassistentin\"],[\"Chefkoch/Chefk\\u00f6chin\"],[\"Szenenbildner/Szenenbildnerin\"],[\"Telefonberater Krisen und Notlagen/Telefonberaterin Krisen und Notlagen\"],[\"Spezialeffekt-Techniker Flugszenen/Spezialeffekt-Technikerin Flugszenen\"],[\"Sozialassistent/Sozialassistentin\"],[\"Drehortmanager/Drehortmanagerin\"],[\"Sozialbetreuer/Sozialbetreuerin\"],[\"Lichtdouble\"],[\"Spezialeffekt-K\\u00fcnstler Pyrotechnik/Spezialeffekt-K\\u00fcnstlerin Pyrotechnik\"],[\"Souffleur/Souffleuse\"],[\"Theatertechniker/Theatertechnikerin\"],[\"Schn\\u00fcrbodenmeister/Schn\\u00fcrbodenmeisterin\"],[\"Inspizient/Inspizientin\"],[\"Kulissenbauer/Kulissenbauerin\"],[\"Beleuchtungstechniker/Beleuchtungstechnikerin\"],[\"Sammlungstechniker/Sammlungstechnikerin\"],[\"Leiter der Requisitenwerkstatt/Leiterin der Requisitenwerkstatt\"],[\"Gesetzlicher Vormund/Gesetzliche Vormundin\"],[\"Maskengestalter/Maskengestalterin\"],[\"Verwalter eines Archivs f\\u00fcr gro\\u00dfe Datenmengen/Verwalterin eines Archivs f\\u00fcr gro\\u00dfe Datenmengen\"],[\"Requisiteur/Requisiteurin\"],[\"Rettungsschwimmer-Ausbilder/Rettungsschwimmer-Ausbilderin\"],[\"Reitlehrer/Reitlehrerin\"],[\"Sportlehrer/Sportlehrerin\"],[\"Programm-Koordinator Rundfunk/Programm-Koordinatorin Rundfunk\"],[\"Schiedsrichter/Schiedsrichterin\"],[\"Statist/Statistin\"],[\"Trainer f\\u00fcr k\\u00fcnstlerische Performance/Trainerin f\\u00fcr k\\u00fcnstlerische Performance\"],[\"Fitnesstrainer/Fitnesstrainerin\"],[\"Sporttrainer/Sporttrainerin\"],[\"Medizinischer Fachangestellter/Medizinische Fachangestellte\"],[\"Arbeitsplatzgesundheits- und -sicherheitsinspektor/Arbeitsplatzgesundheits- und -sicherheitsinspektorin\"],[\"An\\u00e4sthesietechnischer Assistent/An\\u00e4sthesietechnische Assistentin\"],[\"Wartelistenkoordinator/Wartelistenkoordinatorin\"],[\"Atemtherapietechniker/Atemtherapietechnikerin\"],[\"Di\\u00e4tassistent/Di\\u00e4tassistentin\"],[\"Heilmasseur/Heilmasseurin\"],[\"Berater f\\u00fcr Lebensmittelbestimmungen/Beraterin f\\u00fcr Lebensmittelbestimmungen\"],[\"Inspektor Industrieabf\\u00e4lle/Inspektorin Industrieabf\\u00e4lle\"],[\"Shiatsu-Praktiker/Shiatsu-Praktikerin\"],[\"Umwelt- und Gesundheitsinspektor/Umwelt- und Gesundheitsinspektorin\"],[\"PACS-Fachkraft\"],[\"Osteopath/Osteopathin\"],[\"Patientendatenverwalter/Patientendatenverwalterin\"],[\"Lebensmittelsicherheitsinspektor/Lebensmittelsicherheitsinspektorin\"],[\"Transportgesundheits- und -sicherheitsinspektor/Transportgesundheits- und -sicherheitsinspektorin\"],[\"Sozialmedizinischer Assistent/Sozialmedizinische Assistentin\"],[\"Krankheitsregister-Dokumentar/Krankheitsregister-Dokumentarin\"],[\"Psychologischer Assistent/Psychologische Assistentin\"],[\"Physiotherapieassistent/Physiotherapieassistentin\"],[\"tiermedizinischer Fachangestellter/tiermedizinische Fachangestellte\"],[\"Sophrologe/Sophrologin\"],[\"Bergf\\u00fchrer/Bergf\\u00fchrerin\"],[\"Assistent in der Geburtshilfe/Assistentin in der Geburtshilfe\"],[\"Kr\\u00e4uterheilkundiger/Kr\\u00e4uterheilkundige\"],[\"chiropraktischer Assistent/chiropraktische Assistentin\"],[\"Alternativer Tiertherapeut/Alternative Tiertherapeutin\"],[\"Pharmazeutisch-kaufm\\u00e4nnischer Angestellter/Pharmazeutisch-kaufm\\u00e4nnische Angestellte\"],[\"Berufssportler/Berufssportlerin\"],[\"Biomedizintechniker/Biomedizintechnikerin\"],[\"Pharmazeutisch-technische Assistent/Pharmazeutisch-technische Assistentin\"],[\"Medizinisch-technischer Laborassistent/Medizinisch-technische Laborassistentin\"],[\"IKT-Techniker/IKT-Technikerin\"],[\"Fachassistent Herz-Kreislauf-Funktionsdiagnostik/Fachassistentin Herz-Kreislauf-Funktionsdiagnostik\"],[\"IT-Netzwerktechniker/IT-Netzwerktechnikerin\"],[\"Webmaster/Webmasterin\"],[\"IT-Helpdesk-Manager/IT-Helpdesk-Managerin\"],[\"Verwalter von Daten\\u00fcbertragungsnetzen im Luftverkehr/Verwalterin von Daten\\u00fcbertragungsnetzen im Luftverkehr\"],[\"Rechenzentrumsbetreiber/Rechenzentrumsbetreiberin\"],[\"Triebwerkinspektor/Triebwerkinspektorin\"],[\"Steuerer von Wasserkraftwerken/Steuerin von Wasserkraftwerken\"],[\"Leiter Instandhaltung/Leiterin Instandhaltung\"],[\"Steuerer von mit fossilen Brennstoffen betriebenen Kraftwerken/Steuerin von mit fossilen Brennstoffen betriebenen Kraftwerken\"],[\"Steuerer Stromverteilung/Steuerin Stromverteilung\"],[\"Triebwerkpr\\u00fcfer/Triebwerkpr\\u00fcferin\"],[\"Schienenfahrzeuginspektor/Schienenfahrzeuginspektorin\"],[\"Schiffsinspektor/Schiffsinspektorin\"],[\"Steuerer Stromversorgung/Steuerin Stromversorgung\"],[\"Steuerer von Gasanlagen/Steuererin von Gasanlagen\"],[\"Steuerer Kraftwerksleitstand/Steuerin Kraftwerksleitstand\"],[\"Maschinenbautechniker Mechatronik/Maschinenbautechnikerin Mechatronik\"],[\"Kfz-Motorenpr\\u00fcfer/Kfz-Motorenpr\\u00fcferin\"],[\"Anlagenmechaniker Sanit\\u00e4r-, Heizungs- und Klimatechnik/Anlagenmechanikerin Sanit\\u00e4r-, Heizungs- und Klimatechnik\"],[\"Steuerer von Dampfturbinen/Steuerin von Dampfturbinen\"],[\"Kfz-Motoreninspektor/Kfz-Motoreninspektorin\"],[\"Flugzeugbautechniker/Flugzeugbautechnikerin\"],[\"Steuerer von Lufttrennungsanlagen/Steuerin von Lufttrennungsanlagen\"],[\"Schiffsmotoreninspektor/Schiffsmotoreninspektorin\"],[\"Steuerer von Geothermiekraftwerken/Steuerin von Geothermiekraftwerken\"],[\"Schienenfahrzeugbautechniker/Schienenfahrzeugbautechnikerin\"],[\"Kraftfahrzeugbautechniker/Kraftfahrzeugbautechnikerin\"],[\"Inspektor Lokomotivenantriebe/Inspektorin Lokomotivenantriebe\"],[\"Steuerer Chemiewerksleitstand/Steuerin Chemiewerksleitstand\"],[\"Steuerer von Kernkraftwerken/Steuerin von Kernkraftwerken\"],[\"Produktionsmechaniker/Produktionsmechanikerin\"],[\"Schiffbautechniker/Schiffbautechnikerin\"],[\"Steuerer von Solarkraftwerken/Steuerin von Solarkraftwerken\"],[\"Pr\\u00fcfer Lokomotivenantriebe/Pr\\u00fcferin Lokomotivenantriebe\"],[\"Materialpr\\u00fcftechniker/Materialpr\\u00fcftechnikerin\"],[\"Aufsichtskraft Erd- und Industriegasanlagen\"],[\"Fertigungskontrolltechniker Textil/Fertigungskontrolltechnikerin Textil\"],[\"Informationselektroniker/Informationselektronikerin\"],[\"IKT-Helpdesk-Manager/IKT-Helpdesk-Managerin\"],[\"Biogas-Techniker/Biogas-Technikerin\"],[\"Maschinenbautechniker im Bereich Telekommunikation/Maschinenbautechnikerin im Bereich Telekommunikation\"],[\"Fachkraft AV-Medientechnik\"],[\"IT-Sicherheitstechniker/IT-Sicherheitstechnikerin\"],[\"Schiffsmotorenpr\\u00fcfer/Schiffsmotorenpr\\u00fcferin\"],[\"Feinmechaniker Optomechanik/Feinmechanikerin Optomechanik\"],[\"Schwei\\u00dfinspektor/Schwei\\u00dfinspektorin\"],[\"Asphaltlabortechniker/Asphaltlabortechnikerin\"],[\"Qualit\\u00e4tssicherungstechniker Chemiefertigung/Qualit\\u00e4tssicherungstechnikerin Chemiefertigung\"],[\"Luftverschmutzungsanalyst/Luftverschmutzungsanalystin\"],[\"Techniker gef\\u00e4hrliche Abf\\u00e4lle/Technikerin gef\\u00e4hrliche Abf\\u00e4lle\"],[\"Grundwasser\\u00fcberwachungstechniker/Grundwasser\\u00fcberwachungstechnikerin\"],[\"Fachkraft f\\u00fcr Qualit\\u00e4tssicherung und -management Bau\"],[\"Zeichner Luft- und Raumfahrttechnik/Zeichnerin Luft- und Raumfahrttechnik\"],[\"Zeichner Elektronik/Zeichnerin Elektronik\"],[\"Br\\u00fcckenw\\u00e4rter/Br\\u00fcckenw\\u00e4rterin\"],[\"Zeichner Produktentwicklung/Zeichnerin Produktentwicklung\"],[\"Computer-Hardwaretechniker/Computer-Hardwaretechnikerin\"],[\"Maschinenbauzeichner/Maschinenbauzeichnerin\"],[\"CAD-Bediener/CAD-Bedienerin\"],[\"Computer-Hardwaretester/Computer-Hardwaretesterin\"],[\"Zeichner Kraftfahrzeugbau/Zeichnerin Kraftfahrzeugbau\"],[\"Qualit\\u00e4tstechniker Lederwaren/Qualit\\u00e4tstechnikerin Lederwaren\"],[\"Energiegutachter/Energiegutachterin\"],[\"Qualit\\u00e4tskontrolleur Bau/Qualit\\u00e4tskontrolleurin Bau\"],[\"Zeichner - Heizungs-/Klima-/Sanit\\u00e4rtechnik/Zeichnerin - Heizungs-/Klima-/Sanit\\u00e4rtechnik\"],[\"Labortechniker Schuhwarenqualit\\u00e4tskontrolle/Labortechnikerin Schuhwarenqualit\\u00e4tskontrolle\"],[\"Schieneninstandhaltungstechniker/Schieneninstandhaltungstechnikerin\"],[\"Elektroniker Automatisierungstechnik/ Elektronikerin Automatisierungstechnik\"],[\"Bauzeichner Architektur/Bauzeichnerin Architektur\"],[\"Werkstoffpr\\u00fcfer Feuerfestigkeit/Werkstoffpr\\u00fcferin Feuerfestigkeit\"],[\"Elektrozeichner/Elektrozeichnerin\"],[\"Brandschutzinspektor/Brandschutzinspektorin\"],[\"Mikrosystemtechniker/Mikrosystemtechnikerin\"],[\"Avionikinspektor/Avionikinspektorin\"],[\"Deponieleiter/Deponieleiterin\"],[\"Stra\\u00dfeninstandhaltungstechniker/Stra\\u00dfeninstandhaltungstechnikerin\"],[\"Baukontrolleur/Baukontrolleurin\"],[\"Sensortechniker/Sensortechnikerin\"],[\"Robotiktechniker/Robotiktechnikerin\"],[\"Zeichner Seefahrzeuge/Zeichnerin Seefahrzeuge\"],[\"Brandschutztechniker/Brandschutztechnikerin\"],[\"Wasserbautechniker/Wasserbautechnikerin\"],[\"Chromatografie-Fachmann/Chromatografie-Fachfrau\"],[\"Techniker Medizintechnik/Technikerin Medizintechnik\"],[\"Bauzeichner/Bauzeichnerin\"],[\"Mikroelektroniktechniker/Mikroelektroniktechnikerin\"],[\"Optoelektroniker/Optoelektronikerin\"],[\"Zeichner Schienenfahrzeuge/Zeichnerin Schienenfahrzeuge\"],[\"Zeichner Elektromechanik/Zeichnerin Elektromechanik\"],[\"Abwasseranlagen-Techniker/Abwasseranlagen-Technikerin\"],[\"Qualit\\u00e4tstechniker Textilien/Qualit\\u00e4tstechnikerin Textilien\"],[\"Kalibrierungstechniker/Kalibrierungstechnikerin\"],[\"Biologietechniker/Biologietechnikerin\"],[\"Elektronikmechaniker/Elektronikmechanikerin\"],[\"Chemietechniker Textilqualit\\u00e4t/Chemietechnikerin Textilqualit\\u00e4t\"],[\"Labortechniker Lederwarenqualit\\u00e4tskontrolle/Labortechnikerin Lederwarenqualit\\u00e4tskontrolle\"],[\"Weinbauberater/Weinbauberaterin\"],[\"Qualit\\u00e4tskontrolleur Aquakultur/Qualit\\u00e4tskontrolleurin Aquakultur\"],[\"Leiter Aquakulturbetriebe/Leiterin Aquakulturbetriebe\"],[\"Bakteriologietechniker/Bakteriologietechnikerin\"],[\"Polier Metallarbeiten/Polierin Metallarbeiten\"],[\"Aufsichtskraft Br\\u00fcckenbau\"],[\"Biochemietechniker/Biochemietechnikerin\"],[\"Polier Fu\\u00dfbodenlegearbeiten/Polierin Fu\\u00dfbodenlegearbeiten\"],[\"Kopilot/Kopilotin\"],[\"Aufsichtskraft Baggerarbeiten\"],[\"Fluglehrer/Fluglehrerin\"],[\"Polier Dacharbeiten/Polierin Dacharbeiten\"],[\"Betonbaupolier/Betonbaupolierin\"],[\"Polier Fliesen-, Platten- und Mosaiklegearbeiten/Polierin Fliesen-, Platten- und Mosaiklegearbeiten\"],[\"Aufsichtskraft Elektroinstallation\"],[\"Ger\\u00fcstbaupolier/Ger\\u00fcstbaupolierin\"],[\"Hubschrauberpilot/Hubschrauberpilotin\"],[\"Baupolier Zimmerarbeiten/Baupolierin Zimmerarbeiten\"],[\"Flugingenieur/Flugingenieurin\"],[\"Verkehrsflugzeugf\\u00fchrer/Verkehrsflugzeugf\\u00fchrerin\"],[\"Polier D\\u00e4mmarbeiten/Polierin D\\u00e4mmarbeiten\"],[\"Polier Stra\\u00dfenbau/Polierin Stra\\u00dfenbau\"],[\"Gleisbaupolier/Gleisbaupolierin\"],[\"Polier Rohrinstallation/Polierin Rohrinstallation\"],[\"Aufsichtskraft Kranarbeiten\"],[\"Aufsichtskraft Wasseraufbereitung\"],[\"Zoologietechniker/Zoologietechnikerin\"],[\"Flugsicherungslotse An- und Abflug/Flugsicherungslotsin An- und Abflug\"],[\"Polier Tapezierarbeiten/Polierin Tapezierarbeiten\"],[\"Aufsichtskraft Abrissarbeiten\"],[\"Polier Aufzugbau/Polierin Aufzugbau\"],[\"Maurerpolier/Maurerpolierin\"],[\"Aufsichtskraft R\\u00fcckbau\"],[\"Privatflugzeugf\\u00fchrer/Privatflugzeugf\\u00fchrerin\"],[\"Gipspolier/Gipspolierin\"],[\"Aufsichtskraft Energietechnik\"],[\"Bauleiter Maler- und Anstreicharbeiten/Bauleiterin Maler- und Anstreicharbeiten\"],[\"Botaniktechniker/Botaniktechnikerin\"],[\"Flugberatungsbediensteter AIS/Flugberatungsbedienstete AIS\"],[\"Polier Glas/Polierin Glas\"],[\"Polier Abwasserleitungen/Polierin Abwasserleitungen\"],[\"Montageleiter Schuhfertigung/Montageleiterin Schuhfertigung\"],[\"Flugberater/Flugberaterin\"],[\"Industriemeister Flugzeugbau/Industriemeisterin Flugzeugbau\"],[\"Industriemeister Holz/Industriemeisterin Holz\"],[\"Montageleiter Schienenfahrzeugbau/Montageleiterin Schienenfahrzeugbau\"],[\"Montageleiter Beh\\u00e4lterbau/Montageleiterin Beh\\u00e4lterbau\"],[\"M\\u00e4lzereileiter/M\\u00e4lzereileiterin\"],[\"Montageleiter Kraftfahrzeugbau/Montageleiterin Kraftfahrzeugbau\"],[\"Produktionsleiter/in Chemie\"],[\"Industriemeister Maschinenbau/Industriemeisterin Maschinenbau\"],[\"Produktionsleiter optische Instrumente/Produktionsleiterin optische Instrumente\"],[\"Industriemeister Schiffbau/Industriemeisterin Schiffbau\"],[\"Produktionsleiter Feinwerkmechanik/Produktionsleiterin Feinwerkmechanik\"],[\"Gro\\u00dfh\\u00e4ndler f\\u00fcr Werkzeugmaschinen/Gro\\u00dfh\\u00e4ndlerin f\\u00fcr Werkzeugmaschinen\"],[\"Schiffsmakler/Schiffsmaklerin\"],[\"Gro\\u00dfh\\u00e4ndler f\\u00fcr Landwirtschaftsmaschinen und -ausr\\u00fcstung/Gro\\u00dfh\\u00e4ndlerin f\\u00fcr Landwirtschaftsmaschinen und -ausr\\u00fcstung\"],[\"Produktionsleiter Holz/Produktionsleiterin Holz\"],[\"Produktionsleiter Papier/Produktionsleiterin Papier\"],[\"Koordinator f\\u00fcr Studierendenaustausch/Koordinatorin f\\u00fcr Studierendenaustausch\"],[\"Produktionsleiter Lederwaren/Produktionsleiterin Lederwaren\"],[\"Seehafenspediteur/Seehafenspediteurin\"],[\"Gerichtsstenograf/Gerichtsstenografin\"],[\"Immobilieninvestor/Immobilieninvestorin\"],[\"Maschinenfabrikaufsichtskraft\"],[\"Produktionsleiter Schuhe/Produktionsleiterin Schuhe\"],[\"Produktionsleiter Metallbau/Produktionsleiterin Metallbau\"],[\"Produktionsleiter Druck/Produktionsleiterin Druck\"],[\"Gro\\u00dfh\\u00e4ndler f\\u00fcr lebende Tiere/Gro\\u00dfh\\u00e4ndlerin f\\u00fcr lebende Tiere\"],[\"Produktionsleiter Elektronik/Produktionsleiterin Elektronik\"],[\"Gro\\u00dfh\\u00e4ndler f\\u00fcr Haushaltswaren/Gro\\u00dfh\\u00e4ndlerin f\\u00fcr Haushaltswaren\"],[\"Gro\\u00dfh\\u00e4ndler f\\u00fcr Bekleidung und Schuhe/Gro\\u00dfh\\u00e4ndlerin f\\u00fcr Bekleidung und Schuhe\"],[\"Aufsichtsperson bei der Futtermittelherstellung\"],[\"Gro\\u00dfh\\u00e4ndler f\\u00fcr Parf\\u00fcm und Kosmetika/Gro\\u00dfh\\u00e4ndlerin f\\u00fcr Parf\\u00fcm und Kosmetika\"],[\"Closing Agent\"],[\"Sekret\\u00e4r im Bildungswesen/Sekret\\u00e4rin im Bildungswesen\"],[\"Gro\\u00dfh\\u00e4ndler f\\u00fcr Textilien und textile Rohstoffe und Halbfertigwaren/Gro\\u00dfh\\u00e4ndlerin f\\u00fcr Textilien und textile Rohstoffe und Halbfertigwaren\"],[\"Produktionsleiter Elektro/Produktionsleiterin Elektro\"],[\"Gro\\u00dfh\\u00e4ndler f\\u00fcr Computer, Peripherieger\\u00e4te und Software/Gro\\u00dfh\\u00e4ndlerin f\\u00fcr Computer, Peripherieger\\u00e4te und Software\"],[\"Vermietungsmakler/Vermietungsmaklerin\"],[\"Gro\\u00dfh\\u00e4ndler f\\u00fcr Blumen und Pflanzen/Gro\\u00dfh\\u00e4ndlerin f\\u00fcr Blumen und Pflanzen\"],[\"Import-/Exportsachbearbeiter/Import-/Exportsachbearbeiterin\"],[\"Abfallmakler/Abfallmaklerin\"],[\"Gro\\u00dfh\\u00e4ndler f\\u00fcr Zucker, Schokolade und S\\u00fc\\u00dfwaren/Gro\\u00dfh\\u00e4ndlerin f\\u00fcr Zucker, Schokolade und S\\u00fc\\u00dfwaren\"],[\"Mitarbeiter im Bereich Fundraising/Mitarbeiterin im Bereich Fundraising\"],[\"Brennereileiter/Brennereileiterin\"],[\"Schichtleiter/in Bergbau\"],[\"Produktionsleiter Kunststoff und Kautschuk/Produktionsleiterin Kunststoff und Kautschuk\"],[\"Gro\\u00dfh\\u00e4ndler f\\u00fcr elektrische Haushaltsger\\u00e4te/Gro\\u00dfh\\u00e4ndlerin f\\u00fcr elektrische Haushaltsger\\u00e4te\"],[\"Gro\\u00dfh\\u00e4ndler f\\u00fcr Chemieerzeugnisse/Gro\\u00dfh\\u00e4ndlerin f\\u00fcr Chemieerzeugnisse\"],[\"Gro\\u00dfh\\u00e4ndler f\\u00fcr Obst und Gem\\u00fcse/Gro\\u00dfh\\u00e4ndlerin f\\u00fcr Obst und Gem\\u00fcse\"],[\"Gro\\u00dfh\\u00e4ndler f\\u00fcr Milchprodukte und Speise\\u00f6le/Gro\\u00dfh\\u00e4ndlerin f\\u00fcr Milchprodukte und Speise\\u00f6le\"],[\"Gro\\u00dfh\\u00e4ndler f\\u00fcr landwirtschaftliche Rohstoffe, Saatgut und Tierfutter/Gro\\u00dfh\\u00e4ndlerin f\\u00fcr landwirtschaftliche Rohstoffe, Saatgut und Tierfutter\"],[\"Gro\\u00dfh\\u00e4ndler f\\u00fcr M\\u00fcll und Schrott/Gro\\u00dfh\\u00e4ndlerin f\\u00fcr M\\u00fcll und Schrott\"],[\"Gro\\u00dfh\\u00e4ndler f\\u00fcr B\\u00fcromaschinen und -ger\\u00e4te/Gro\\u00dfh\\u00e4ndlerin f\\u00fcr B\\u00fcromaschinen und -ger\\u00e4te\"],[\"Gro\\u00dfh\\u00e4ndler f\\u00fcr Tabakerzeugnisse/Gro\\u00dfh\\u00e4ndlerin f\\u00fcr Tabakerzeugnisse\"],[\"Gro\\u00dfh\\u00e4ndler f\\u00fcr Maschinen- und Industrieanlagen, Schiffe und Luftfahrzeuge/Gro\\u00dfh\\u00e4ndlerin f\\u00fcr Maschinen- und Industrieanlagen, Schiffe und Luftfahrzeuge\"],[\"Gro\\u00dfh\\u00e4ndler f\\u00fcr Fisch, Krustentiere und Weichtiere/Gro\\u00dfh\\u00e4ndlerin f\\u00fcr Fisch, Krustentiere und Weichtiere\"],[\"Hypothekenmakler/Hypothekenmaklerin\"],[\"Wertpapierh\\u00e4ndler/Wertpapierh\\u00e4ndlerin\"],[\"Underwriter im Bereich Sachversicherung/Underwriterin im Bereich Sachversicherung\"],[\"Devisenh\\u00e4ndler/Devisenh\\u00e4ndlerin\"],[\"Rentensachbearbeiter/Rentensachbearbeiterin\"],[\"Warenterminh\\u00e4ndler/Warenterminh\\u00e4ndlerin\"],[\"Gro\\u00dfh\\u00e4ndler f\\u00fcr M\\u00f6bel, Teppiche und Beleuchtungseinrichtungen/Gro\\u00dfh\\u00e4ndlerin f\\u00fcr M\\u00f6bel, Teppiche und Beleuchtungseinrichtungen\"],[\"Gro\\u00dfh\\u00e4ndler f\\u00fcr B\\u00fcrom\\u00f6bel/Gro\\u00dfh\\u00e4ndlerin f\\u00fcr B\\u00fcrom\\u00f6bel\"],[\"Devisenmakler/Devisenmaklerin\"],[\"Sozialbetreuer psychische Gesundheit/Sozialbetreuerin psychische Gesundheit\"],[\"Gro\\u00dfh\\u00e4ndler f\\u00fcr Porzellan und Glaswaren/Gro\\u00dfh\\u00e4ndlerin f\\u00fcr Porzellan und Glaswaren\"],[\"Investmentfondskaufmann/Investmentfondskauffrau\"],[\"Gro\\u00dfh\\u00e4ndler f\\u00fcr Felle, H\\u00e4ute und Lederwaren/Gro\\u00dfh\\u00e4ndlerin f\\u00fcr Felle, H\\u00e4ute und Lederwaren\"],[\"Gro\\u00dfh\\u00e4ndler f\\u00fcr Holz und Baustoffe/Gro\\u00dfh\\u00e4ndlerin f\\u00fcr Holz und Baustoffe\"],[\"Seeg\\u00fcterkontrolleur/Seeg\\u00fcterkontrolleurin\"],[\"Kaufhausdetektiv/Kaufhausdetektivin\"],[\"Textileink\\u00e4ufer/Textileink\\u00e4uferin\"],[\"Gro\\u00dfh\\u00e4ndler f\\u00fcr Metalle und Metallerze/Gro\\u00dfh\\u00e4ndlerin f\\u00fcr Metalle und Metallerze\"],[\"Wertpapiermakler/Wertpapiermaklerin\"],[\"Handelsvertreter f\\u00fcr erneuerbare Energien/Handelsvertreterin f\\u00fcr erneuerbare Energien\"],[\"Gro\\u00dfh\\u00e4ndler f\\u00fcr Textilmaschinen/Gro\\u00dfh\\u00e4ndlerin f\\u00fcr Textilmaschinen\"],[\"Handelsvertreter f\\u00fcr elektrischen Strom/Handelsvertreterin f\\u00fcr elektrischen Strom\"],[\"Gro\\u00dfh\\u00e4ndler f\\u00fcr pharmazeutische Produkte/Gro\\u00dfh\\u00e4ndlerin f\\u00fcr pharmazeutische Produkte\"],[\"Gro\\u00dfh\\u00e4ndler f\\u00fcr Getr\\u00e4nke/Gro\\u00dfh\\u00e4ndlerin f\\u00fcr Getr\\u00e4nke\"],[\"Gro\\u00dfh\\u00e4ndler f\\u00fcr elektronische Ger\\u00e4te, Telekommunikationsger\\u00e4te und Teile davon/Gro\\u00dfh\\u00e4ndlerin f\\u00fcr elektronische Ger\\u00e4te, Telekommunikationsger\\u00e4te und Teile davon\"],[\"Energieh\\u00e4ndler/Energieh\\u00e4ndlerin\"],[\"Sozialbetreuer Kinder- und Jugendberatung/Sozialbetreuerin Kinder- und Jugendberatung\"],[\"B\\u00f6rsenh\\u00e4ndler/B\\u00f6rsenh\\u00e4ndlerin\"],[\"Gro\\u00dfh\\u00e4ndler f\\u00fcr Eisenwaren, Sanit\\u00e4r- und Heizungsanlagen und -zubeh\\u00f6r/Gro\\u00dfh\\u00e4ndlerin f\\u00fcr Eisenwaren, Sanit\\u00e4r- und Heizungsanalagen und -zubeh\\u00f6r\"],[\"Gro\\u00dfh\\u00e4ndler f\\u00fcr Kaffee, Tee, Kakao und Gew\\u00fcrze/Gro\\u00dfh\\u00e4ndlerin f\\u00fcr Kaffee, Tee, Kakao und Gew\\u00fcrze\"],[\"Sozialbetreuer h\\u00e4usliche Betreuung/Sozialbetreuerin h\\u00e4usliche Betreuung\"],[\"Gro\\u00dfh\\u00e4ndler f\\u00fcr Fleisch- und Fleischerzeugnisse/Gro\\u00dfh\\u00e4ndlerin f\\u00fcr Fleisch- und Fleischerzeugnisse\"],[\"Gro\\u00dfh\\u00e4ndler f\\u00fcr Armbanduhren und Schmuck/Gro\\u00dfh\\u00e4ndlerin f\\u00fcr Armbanduhren und Schmuck\"],[\"Sozialbetreuer Familienbetreuung/Sozialbetreuerin Familienbetreuung\"],[\"Gro\\u00dfh\\u00e4ndler f\\u00fcr Bau- und Bergbaumaschinen/Gro\\u00dfh\\u00e4ndlerin f\\u00fcr Bau- und Bergbaumaschinen\"],[\"B\\u00f6rsenmakler/B\\u00f6rsenmaklerin\"],[\"Sozialbetreuer f\\u00fcr Erwachsene/Sozialbetreuerin f\\u00fcr Erwachsene\"],[\"Sozialbetreuer Pflegefamilienbeschaffung/Sozialbetreuerin Pflegefamilienbeschaffung\"],[\"Sozialbetreuer in Betreuungseinrichtung f\\u00fcr \\u00e4ltere Menschen/Sozialbetreuerin in Betreuungseinrichtung f\\u00fcr \\u00e4ltere Menschen\"],[\"Sozialbetreuer in Betreuungseinrichtung f\\u00fcr Erwachsene/Sozialbetreuerin in Betreuungseinrichtung f\\u00fcr Erwachsene\"],[\"Sozialbetreuer Behindertenbetreuung/Sozialbetreuerin Behindertenbetreuung\"],[\"Sozialbetreuer in Betreuungseinrichtung f\\u00fcr junge Menschen/Sozialbetreuerin in Betreuungseinrichtung f\\u00fcr junge Menschen\"],[\"Sozialbetreuer in Betreuungseinrichtung f\\u00fcr Kinder mit Behinderung/Sozialbetreuerin in Betreuungseinrichtung f\\u00fcr Kinder mit Behinderung\"],[\"Sozialbetreuer Wohnungsbeschaffung/Sozialbetreuerin Wohnungsbeschaffung\"],[\"Kulissenmaler/Kulissenmalerin\"],[\"Sozialbetreuer Betreuungseinrichtung/Sozialbetreuerin Betreuungseinrichtung\"],[\"Personal Trainer/Personal Trainerin\"],[\"Besamungstechniker/Besamungstechnikerin\"],[\"Pilatestrainer/Pilatestrainerin\"],[\"K\\u00fcchenleiter/K\\u00fcchenleiterin\"],[\"Zytologieassistent/Zytologieassistentin\"],[\"Inspektor gef\\u00e4hrliche Abf\\u00e4lle/Inspektorin gef\\u00e4hrliche Abf\\u00e4lle\"],[\"Video-Operator/Video-Operatorin\"],[\"Theatermaschinist/Theatermaschinistin\"],[\"Inspektor Gefahrstoffe/Inspektorin Gefahrstoffe\"],[\"Lichtpult-Operator/Lichtpult-Operatorin\"],[\"Fu\\u00dfballtrainer/Fu\\u00dfballtrainerin\"],[\"B\\u00fchnenarbeiter/B\\u00fchnenarbeiterin\"],[\"Pathologieassistent/Pathologieassistentin\"],[\"Beleuchtungstechniker (computergesteuerte Lichtanlage)/Beleuchtungstechnikerin (computergesteuerte Lichtanlage)\"],[\"Sportassistent/Sportassistentin\"],[\"Tierzuchttechniker mit Schwerpunkt Embryotransfer/Tierzuchttechnikerin mit Schwerpunkt Embryotransfer\"],[\"Privatkoch/Privatk\\u00f6chin\"],[\"Trainer f\\u00fcr Outdoor-Aktivit\\u00e4ten/Trainerin f\\u00fcr Outdoor-Aktivit\\u00e4ten\"],[\"Sporttherapeut/Sporttherapeutin\"],[\"B\\u00fchnentechniker/B\\u00fchnentechnikerin\"],[\"Patissier/Patissi\\u00e8re\"],[\"Klinischer Kodierer/Klinische Kodiererin\"],[\"Snowboardtrainer/Snowboardtrainerin\"],[\"Koordinator von Outdoor-Aktivit\\u00e4ten/Koordinatorin von Outdoor-Aktivit\\u00e4ten\"],[\"Skitrainer/Skitrainerin\"],[\"Gesundheitsinspektor/Gesundheitsinspektorin\"],[\"Schwimmlehrer/Schwimmlehrerin\"],[\"Boxtrainer/Boxtrainerin\"],[\"Videotechniker/Videotechnikerin\"],[\"Tierpfleger mit Schwerpunkt Forschung und Klinik/Tierpflegerin mit Schwerpunkt Forschung und Klinik\"],[\"Golftrainer/Golftrainerin\"],[\"Tennistrainer/Tennistrainerin\"],[\"Verfolgerfahrer/Verfolgerfahrerin\"],[\"Eislauftrainer/Eislauftrainerin\"],[\"Tonassistent/Tonassistentin\"],[\"Sounddesigner/Sounddesignerin\"],[\"Veranstaltungstechniker (gemietetes Equipment)/Veranstaltungstechnikerin (gemietetes Equipment)\"],[\"Energieberater f\\u00fcr Privathaushalte/Energieberaterin f\\u00fcr Privathaushalte\"],[\"Toncutter/Toncutterin\"],[\"Studiotechniker/Studiotechnikerin\"],[\"Kameraschwenker/Kameraschwenkerin\"],[\"Filmvorf\\u00fchrer/Filmvorf\\u00fchrerin\"],[\"Mastering-Ingenieur/Mastering-Ingenieurin\"],[\"Soundtechniker/Soundtechnikerin\"],[\"Import-/Exportsachbearbeiter f\\u00fcr Computer, Peripherieger\\u00e4te und Software/Import-/Exportsachbearbeiterin f\\u00fcr Computer, Peripherieger\\u00e4te und Software\"],[\"Import-/Exportsachbearbeiter f\\u00fcr Kaffee, Tee, Kakao und Gew\\u00fcrze/Import-/Exportsachbearbeiterin f\\u00fcr Kaffee, Tee, Kakao und Gew\\u00fcrze\"],[\"Import-/Exportsachbearbeiter f\\u00fcr Textilien und textile Rohstoffe und Halbfertigwaren/Import-/Exportsachbearbeiterin f\\u00fcr Textilien und textile Rohstoffe und Halbfertigwaren\"],[\"Import-/Exportsachbearbeiter f\\u00fcr Fleisch- und Fleischerzeugnisse/Import-/Exportsachbearbeiterin f\\u00fcr Fleisch- und Fleischerzeugnisse\"],[\"Import-/Exportsachbearbeiter f\\u00fcr Metalle und Metallerze/Import-/Exportsachbearbeiterin f\\u00fcr Metalle und Metallerze\"],[\"Chefkonditor/Chefkonditorin\"],[\"Import-/Exportsachbearbeiter f\\u00fcr Felle, H\\u00e4ute und Lederwaren/Import-/Exportsachbearbeiterin f\\u00fcr Felle, H\\u00e4ute und Lederwaren\"],[\"Import-/Exportsachbearbeiter f\\u00fcr Armbanduhren und Schmuck/Import-/Exportsachbearbeiterin f\\u00fcr Armbanduhren und Schmuck\"],[\"Import-/Exportsachbearbeiter f\\u00fcr Bekleidung und Schuhe/Import-/Exportsachbearbeiterin f\\u00fcr Bekleidung und Schuhe\"],[\"Import-/Exportsachbearbeiter f\\u00fcr Chemieerzeugnisse/Import-/Exportsachbearbeiterin f\\u00fcr Chemieerzeugnisse\"],[\"Import-/Exportsachbearbeiter f\\u00fcr Eisenwaren, Sanit\\u00e4r- und Heizungsanlagen und -zubeh\\u00f6r/Import-/Exportsachbearbeiterin f\\u00fcr Eisenwaren, Sanit\\u00e4r- und Heizungsanlagen und -zubeh\\u00f6r\"],[\"Import-/Exportsachbearbeiter f\\u00fcr Obst und Gem\\u00fcse/Import-/Exportsachbearbeiterin f\\u00fcr Obst und Gem\\u00fcse\"],[\"Import-/Exportsachbearbeiter f\\u00fcr Holz und Baustoffe/Import-/Exportsachbearbeiterin f\\u00fcr Holz und Baustoffe\"],[\"Import-/Exportsachbearbeiter f\\u00fcr Textilmaschinen/Import-/Exportsachbearbeiterin f\\u00fcr Textilmaschinen\"],[\"Import-/Exportsachbearbeiter f\\u00fcr M\\u00fcll und Schrott/Import-/Exportsachbearbeiterin f\\u00fcr M\\u00fcll und Schrott\"],[\"Import-/Exportsachbearbeiter f\\u00fcr Bau- und Bergbaumaschinen/Import-/Exportsachbearbeiterin f\\u00fcr Bau- und Bergbaumaschinen\"],[\"Import-/Exportsachbearbeiter f\\u00fcr pharmazeutische Produkte/Import-/Exportsachbearbeiterin f\\u00fcr pharmazeutische Produkte\"],[\"Import-/Exportsachbearbeiter f\\u00fcr B\\u00fcrom\\u00f6bel/Import-/Exportsachbearbeiterin f\\u00fcr B\\u00fcrom\\u00f6bel\"],[\"Import-/Exportsachbearbeiter f\\u00fcr Maschinen- und Industrieanlagen, Schiffe und Luftfahrzeuge/Import-/Exportsachbearbeiterin f\\u00fcr Maschinen- und Industrieanlagen, Schiffe und Luftfahrzeuge\"],[\"Import-/Exportsachbearbeiter f\\u00fcr Tabakerzeugnisse/Import-/Exportsachbearbeiterin f\\u00fcr Tabakerzeugnisse\"],[\"Import-/Exportsachbearbeiter f\\u00fcr elektronische Ger\\u00e4te, Telekommunikationsger\\u00e4te und Teile davon/Import-/Exportsachbearbeiterin f\\u00fcr elektronische Ger\\u00e4te, Telekommunikationsger\\u00e4te und Teile davon\"],[\"Betreuer f\\u00fcr Outdoor-Aktivit\\u00e4ten/Betreuerin f\\u00fcr Outdoor-Aktivit\\u00e4ten\"],[\"Trainer f\\u00fcr besondere Outdoor-Aktivit\\u00e4ten/Trainerin f\\u00fcr besondere Outdoor-Aktivit\\u00e4ten\"],[\"Import-/Exportsachbearbeiter f\\u00fcr lebende Tiere/Import-/Exportsachbearbeiterin f\\u00fcr lebende Tiere\"],[\"Import-/Exportsachbearbeiter f\\u00fcr Getr\\u00e4nke/Import-/Exportsachbearbeiterin f\\u00fcr Getr\\u00e4nke\"],[\"Import-/Exportsachbearbeiter f\\u00fcr Milchprodukte und Speise\\u00f6le/Import-/Exportsachbearbeiterin f\\u00fcr Milchprodukte und Speise\\u00f6le\"],[\"Import-/Exportsachbearbeiter f\\u00fcr landwirtschaftliche Rohstoffe, Saatgut und Tierfutter/Import-/Exportsachbearbeiterin f\\u00fcr landwirtschaftliche Rohstoffe, Saatgut und Tierfutter\"],[\"Import-/Exportsachbearbeiter f\\u00fcr elektrische Haushaltsger\\u00e4te/Import-/Exportsachbearbeiterin f\\u00fcr elektrische Haushaltsger\\u00e4te\"],[\"Import-/Exportsachbearbeiter f\\u00fcr Porzellan und Glaswaren/Import-/Exportsachbearbeiterin f\\u00fcr Porzellan und Glaswaren\"],[\"Import-/Exportsachbearbeiter f\\u00fcr M\\u00f6bel, Teppiche und Beleuchtungseinrichtungen/Import-/Exportsachbearbeiterin f\\u00fcr M\\u00f6bel, Teppiche und Beleuchtungseinrichtungen\"],[\"Import-/Exportsachbearbeiter f\\u00fcr Landwirtschaftsmaschinen und -ausr\\u00fcstung/Import-/Exportsachbearbeiterin f\\u00fcr Landwirtschaftsmaschinen und -ausr\\u00fcstung\"],[\"Import-/Exportsachbearbeiter f\\u00fcr Zucker, Schokolade und S\\u00fc\\u00dfwaren/Import-/Exportsachbearbeiterin f\\u00fcr Zucker, Schokolade und S\\u00fc\\u00dfwaren\"],[\"Import-/Exportsachbearbeiter f\\u00fcr Parf\\u00fcm und Kosmetika/Import-/Exportsachbearbeiterin f\\u00fcr Parf\\u00fcm und Kosmetika\"],[\"Import-/Exportsachbearbeiter f\\u00fcr Haushaltswaren/Import-/Exportsachbearbeiterin f\\u00fcr Haushaltswaren\"],[\"Import-/Exportsachbearbeiter f\\u00fcr Fisch, Krustentiere und Weichtiere/Import-/Exportsachbearbeiterin f\\u00fcr Fisch, Krustentiere und Weichtiere\"],[\"Linienflugzeugf\\u00fchrer/Linienflugzeugf\\u00fchrerin\"],[\"Import-/Exportsachbearbeiter f\\u00fcr B\\u00fcromaschinen und -ger\\u00e4te/Import-/Exportsachbearbeiterin f\\u00fcr B\\u00fcromaschinen und -ger\\u00e4te\"],[\"Import-/Exportsachbearbeiter f\\u00fcr Blumen und Pflanzen/Import-/Exportsachbearbeiterin f\\u00fcr Blumen und Pflanzen\"],[\"Import-/Exportsachbearbeiter f\\u00fcr Werkzeugmaschinen/Import-/Exportsachbearbeiterin f\\u00fcr Werkzeugmaschinen\"],[\"Underwriter im B\\u00f6rsenwesen/Underwriterin im B\\u00f6rsenwesen\"],[\"Outdoor Guide\"],[\"Instruktor f\\u00fcr Outdoor-Aktivit\\u00e4ten/Instruktorin f\\u00fcr Outdoor-Aktivit\\u00e4ten\"],[\"Fleischer/Fleischerin\"],[\"Fleischverarbeitungskraft\"],[\"Fleischverarbeiter/Fleischverarbeiterin\"],[\"Fischverarbeitungsmitarbeiter/Fischverarbeitungsmitarbeiterin\"],[\"Fischverarbeiter/Fischverarbeiterin\"],[\"Schlachter/Schlachterin\"],[\"Qualit\\u00e4tskontrolleur f\\u00fcr Leiterplatten/Qualit\\u00e4tskontrolleurin f\\u00fcr Leiterplatten\"],[\"Puppenmacher/Puppenmacherin\"],[\"Handschuhmacher/Handschuhmacherin\"],[\"Testfahrer in der Automobilindustrie/Testfahrerin in der Automobilindustrie\"],[\"Konditor/Konditorin\"],[\"Milchannahmemitarbeiter/Milchannahmemitarbeiterin\"],[\"M\\u00e4lzermeister/M\\u00e4lzermeisterin\"],[\"Produktklassierer/Produktklassiererin\"],[\"Obst- und Gem\\u00fcsesafthersteller/Obst- und Gem\\u00fcsesaftherstellerin\"],[\"Hersteller von konfektionierten Textilwaren/Herstellerin von konfektionierten Textilwaren\"],[\"Molkerei- und K\\u00e4sereifachkraft\"],[\"Qualit\\u00e4tspr\\u00fcfer/Qualit\\u00e4tspr\\u00fcferin\"],[\"Milchkontrolleur/Milchkontrolleurin\"],[\"Textil- und Moden\\u00e4her/Textil- und Moden\\u00e4herin\"],[\"Nudelhersteller/Nudelherstellerin\"],[\"Konfektmacher/Konfektmacherin\"],[\"Matratzenhersteller/Matratzenherstellerin\"],[\"Polsterer/Polsterin\"],[\"Nahrungsmittelklassierer/Nahrungsmittelklassiererin\"],[\"Experte f\\u00fcr zerst\\u00f6rungsfreie Pr\\u00fcfung/Expertin f\\u00fcr zerst\\u00f6rungsfreie Pr\\u00fcfung\"],[\"Textilgestalter im Handwerk\\u00a0\\u2013 Sticken/Textilgestalterin im Handwerk\\u00a0\\u2013 Sticken\"],[\"B\\u00e4cker/B\\u00e4ckerin\"],[\"G\\u00fcte- und Materialpr\\u00fcfer/G\\u00fcte- und Materialpr\\u00fcferin/Qualit\\u00e4tsfachkraft\"],[\"Maschinenbediener f\\u00fcr automatische optische Inspektionssysteme/Maschinenbedienerin f\\u00fcr automatische optische Inspektionssysteme\"],[\"Kaffeekoster/Kaffeekosterin\"],[\"Fachkraft S\\u00fc\\u00dfwarentechnik Schokolade\"],[\"Qualit\\u00e4tskontrolleur f\\u00fcr Schalttafeln/Qualit\\u00e4tskontrolleurin f\\u00fcr Schalttafeln\"],[\"Qualit\\u00e4tskontrolleur/Qualit\\u00e4tskontrolleurin\"],[\"Qualit\\u00e4tskontrolleur f\\u00fcr Batterien/Qualit\\u00e4tskontrolleurin f\\u00fcr Batterien\"],[\"Zuschneider (Bekleidung)/Zuschneiderin (Bekleidung)\"],[\"Lederwaren-Schnitt-, Entwurfs- und Fertigungsmodelleur/Lederwaren-Schnitt-, Entwurfs- und Fertigungsdirektrice\"],[\"CAD-Lederwaren-Schnitt-, Entwurfs- und Fertigungsmodelleur/CAD-Lederwaren-Schnitt-, Entwurfs- und Fertigungsdirektrice\"],[\"Per\\u00fcckenmacher/Per\\u00fcckenmacherin\"],[\"Fachkraft f\\u00fcr h\\u00e4ndische Lederverarbeitung\"],[\"Schuhmacher/Schuhmacherin\"],[\"Digital Prototyper\"],[\"Schnitt-, Entwurfs- und Fertigungsmodelleur/Schnitt-, Entwurfs- und Fertigungsdirektrice\"],[\"Schnittgradierer/Schnittgradiererin\"],[\"CAD-Schnitt-, Entwurfs- und Fertigungsmodelleur/CAD-Schnitt-, Entwurfs- und Fertigungsdirektrice\"],[\"Tierh\\u00e4utesortierer/Tierh\\u00e4utesortiererin\"],[\"Spielzeugmodellbauer/Spielzeugmodellbauerin\"],[\"Modist/Modistin\"],[\"Glas- und Porzellanmaler/Glas- und Porzellanmalerin\"],[\"Kleinoffsetdrucker/Kleinoffsetdruckerin\"],[\"Nagelmaschinenbediener/Nagelmaschinenbedienerin\"],[\"Restaurator f\\u00fcr M\\u00f6bel und Holzobjekte/Restauratorin f\\u00fcr M\\u00f6bel und Holzobjekte\"],[\"Ledersortierer/Ledersortiererin\"],[\"Falzmaschinenbediener/Falzmaschinenbedienerin\"],[\"Fachkraft f\\u00fcr Holzbearbeitung\"],[\"Buchbinder f\\u00fcr Restaurierungsarbeiten/Buchbinderin f\\u00fcr Restaurierungsarbeiten\"],[\"Medientechnologe Druck/Medientechnologin Druck\"],[\"B\\u00f6ttcher/B\\u00f6ttcherin\"],[\"Drechsler/Drechslerin\"],[\"Holzschleifer/Holzschleiferin\"],[\"Bediener von Holztrocknungsanlagen/Bedienerin von Holztrocknungsanlagen\"],[\"Drucker Tiefdruck/Druckerin Tiefdruck\"],[\"Flexodrucker/Flexodruckerin\"],[\"Pr\\u00e4gepresse-Operator/Pr\\u00e4gepresse-Operatorin\"],[\"Herrenschneider/Herrenschneiderin\"],[\"Siebdrucker/Siebdruckerin\"],[\"Tischler/Tischlerin\"],[\"Textildrucktechniker/Textildrucktechnikerin\"],[\"Hei\\u00dffoliendrucker/Hei\\u00dffoliendruckerin\"],[\"Kunsttischler/Kunsttischlerin\"],[\"Bindemaschinenbediener/Bindemaschinenbedienerin\"],[\"Holzpalettenmacher/Holzpalettenmacherin\"],[\"Textildrucker/Textildruckerin\"],[\"Oberfl\\u00e4chenbearbeiter/Oberfl\\u00e4chenbearbeiterin\"],[\"Facharbeiter f\\u00fcr Reproduktionstechnik/Facharbeiterin f\\u00fcr Reproduktionstechnik\"],[\"Graveur/Graveurin\"],[\"Holzbohrmaschinenbediener/Hozbohrmaschinenbedienerin\"],[\"Holzmechaniker/Holzmechanikerin\\u00a0\\u2013 Herstellen von M\\u00f6beln und Innenausbauteilen\"],[\"Bildeinrahmer/Bildeinrahmerin\"],[\"Damenschneider/Damenschneiderin\"],[\"Mediengestalter Digital und Print \\u2013 Gestaltung und Technik/Mediengestalterin Digital und Print \\u2013 Gestaltung und Technik\"],[\"Fadenheftmaschinenbediener/Fadenheftmaschinenbedienerin\"],[\"Glasveredler \\u2013 Schliff und Gravur/Glasveredlerin \\u2013 Schliff und Gravur\"],[\"Theaterschneider/Theaterschneiderin\"],[\"Schlaginstrumentenmacher/Schlaginstrumentenmacherin\"],[\"Mechaniker f\\u00fcr Musikinstrumente/Mechanikerin f\\u00fcr Musikinstrumente\"],[\"Edelsteinschleifer/Edelsteinschleiferin\"],[\"Streich- und Saiteninstrumentenbauer/Streich- und Saiteninstrumentenbauerin\"],[\"Instrumententechniker/Instrumententechnikerin\"],[\"Handziegelmacher/Handziegelmacherin\"],[\"Idiophonmacher/Idiophonmacherin\"],[\"Tasteninstrumentenmacher/Tasteninstrumentenmacherin\"],[\"Blasinstrumentenmacher/Blasinstrumentenmacherin\"],[\"Keramiker \\u2013 Gebrauchskeramik/Keramikerin \\u2013 Gebrauchskeramik\"],[\"Zimmerer/Zimmerin\"],[\"Industriekletterer/Industriekletterin\"],[\"Uhrmacher/Uhrmacherin\"],[\"Fischnetzmacher/Fischnetzmacherin\"],[\"Bauwerksmechaniker f\\u00fcr Abbruch und Betontrenntechnik/Bauwerksmechanikerin f\\u00fcr Abbruch und Betontrenntechnik\"],[\"Korbm\\u00f6belmacher/Korbm\\u00f6belmacherin\"],[\"B\\u00fcttenpapiermacher/B\\u00fcttenpapiermacherin\"],[\"Techniker \\u2013 Feinwerktechnik/Technikerin \\u2013 Feinwerktechnik\"],[\"Uhrenmechaniker/Uhrenmechanikerin\"],[\"Treppenbauer/Treppenbauerin\"],[\"Kerzenhersteller/Kerzenherstellerin\"],[\"Sattler \\u2013 Feint\\u00e4schnerei/Sattlerin \\u2013 Feint\\u00e4schnerei\"],[\"Terrazzomacher/Terrazzomacherin\"],[\"Spielzeughersteller/Spielzeugherstellerin\"],[\"Teppichweber/Teppichweberin\"],[\"Teppichkn\\u00fcpfer/Teppichkn\\u00fcpferin\"],[\"Textilgestalter im Handwerk \\u2013 Stricken/Textilgestalterin im Handwerk - Stricken\"],[\"Maurer/Maurerin\"],[\"B\\u00fcrstenmacher/B\\u00fcrstenmacherin\"],[\"T\\u00fcrenbauer/T\\u00fcrenbauerin\"],[\"Flechtwerkgestalter/Flechtwerkgestalterin\"],[\"Textilgestalter im Handwerk \\u2013 Weben/Textilgestalterin im Handwerk \\u2013 Weben\"],[\"Monteur f\\u00fcr Holzfertigh\\u00e4user/Monteurin f\\u00fcr Holzfertigh\\u00e4user\"],[\"Feinoptiker/Feinoptikerin\"],[\"Fensterbauer/Fensterbauerin\"],[\"Ger\\u00fcstbauer/Ger\\u00fcstbauerin\"],[\"Glaser/Glaserin\"],[\"Rohbaufacharbeiter/Rohbaufacharbeiterin\"],[\"Sportartikel-Servicetechniker/Sportartikel-Servicetechnikerin\"],[\"Juwelier/Juwelierin\"],[\"Fassadenreiniger/Fassadenreinigerin\"],[\"Holzbildhauer/Holzbildhauerin\"],[\"Betonoberfl\\u00e4chenfertiger/Betonoberfl\\u00e4chenfertigerin\"],[\"Feinwerkmechaniker/Feinwerkmechanikerin\"],[\"Glasbl\\u00e4ser/Glasbl\\u00e4serin\"],[\"Spritzlackierer/Spritzlackiererin\"],[\"Maler/Malerin\"],[\"Dekontaminateur/Dekontaminateurin\"],[\"Techniker f\\u00fcr Bew\\u00e4sserungssysteme/Technikerin f\\u00fcr Bew\\u00e4sserungssysteme\"],[\"Asbestsanierer/Asbestsaniererin\"],[\"Korrosionssch\\u00fctzer/Korrosionssch\\u00fctzerin\"],[\"Tapezierer/Tapeziererin\"],[\"Fahrzeuglackierer/Fahrzeuglackiererin\"],[\"Installateur f\\u00fcr Bew\\u00e4sserungssysteme/Installateurin f\\u00fcr Bew\\u00e4sserungssysteme\"],[\"Bodenleger f\\u00fcr Elastikb\\u00f6den/Bodenlegerin f\\u00fcr Elastikb\\u00f6den\"],[\"Kundendiensttechniker \\u2013 B\\u00fcromaschinen/Kundendiensttechnikerin \\u2013 B\\u00fcromaschinen\"],[\"Systemtechniker (Telekommunikationstechnik)/Systemtechnikerin (Telekommunikationstechnik)\"],[\"Deckenverkleider/Deckenverkleiderin\"],[\"Parkettleger/Parkettlegerin\"],[\"Monteur \\u2013 Fahrzeugelektronik/Monteurin \\u2013 Fahrzeugelektronik\"],[\"Elektroniker/Elektronikerin\"],[\"Platten- und Fliesenleger/Platten- und Fliesenlegerin\"],[\"Bauglaser/Bauglaserin\"],[\"Abwasserrecyclingfachkraft\"],[\"Stuckateur/Stuckateurin\"],[\"Fahrzeugglaser/Fahrzeugglaserin\"],[\"Teppichbodenleger/Teppichbodenlegerin\"],[\"Abwassergrubenw\\u00e4rter/Abwassergrubenw\\u00e4rterin\"],[\"Kanalbauer/Kanalbauerin\"],[\"Fachkraft f\\u00fcr Wasserversorgungstechnik\"],[\"Heizungsinstallateur/Heizungsinstallateurin\"],[\"Heizungs-, L\\u00fcftungs-, Klima- und K\\u00e4lteanlagenbauer/Heizungs-, L\\u00fcftungs-, Klima- und K\\u00e4lteanlagenbauerin\"],[\"Sprinklermonteur/Sprinklermonteurin\"],[\"Fachkraft f\\u00fcr Abwassertechnik\"],[\"Abwasserleitungsinstallateur/Abwasserleitungsinstallateurin\"],[\"Gas- und Sanit\\u00e4rinstallateur/Gas- und Sanit\\u00e4rinstallateurin\"],[\"Gasinstallateur/Gasinstallateurin\"],[\"Dachdecker/Dachdeckerin\"],[\"Badmonteur/Badmonteurin\"],[\"Rohrnetzinstandhalter/Rohrnetzinstandhalterin\"],[\"Isoliermonteur/Isoliermonteurin\"],[\"Stromversorgungstechniker/Stromversorgungstechnikerin\"],[\"Servicetechniker \\u2013 Sicherheits- und Alarmanlagen/Servicetechnikerin \\u2013 Sicherheits- und Alarmanlagen\"],[\"Servicetechniker f\\u00fcr Kommunikationsinfrastrukturen/Servicetechnikerin f\\u00fcr Kommunikationsinfrastrukturen\"],[\"Avioniker/Avionikerin\"],[\"Geldautomatenfachmann \\u2013 Automatenmechatronik/Geldautomatenfachfrau \\u2013 Automatenmechatronik\"],[\"Techniker f\\u00fcr mobile Ger\\u00e4te/Technikerin f\\u00fcr mobile Ger\\u00e4te\"],[\"Kundendiensttechniker - Unterhaltungselektronik/Kundendiensttechnikerin - Unterhaltungselektronik\"],[\"Telekommunikationstechniker/Telekommunikationstechnikerin\"],[\"Schiffselektrotechniker/Schiffselektrotechnikerin\"],[\"Hardwaretechniker/Hardwaretechnikerin\"],[\"Elektroniker f\\u00fcr Schienenfahrzeuge/Elektronikerin f\\u00fcr Schienenfahrzeuge\"],[\"Flugfeldbeleuchtungsinspektor/Flugfeldbeleuchtungsinspektorin\"],[\"Elektromechaniker/Elektromechanikerin\"],[\"Kundendiensttechniker \\u2013 Haushaltsger\\u00e4te/Kundendiensttechnikerin \\u2013 Haushaltsger\\u00e4te\"],[\"Aufzugmonteur/Aufzugmonteurin\"],[\"Schiffselektriker/Schiffselektrikerin\"],[\"Schienenfahrzeug-Elektriker/Schienenfahrzeug-Elektrikerin\"],[\"Industrieelektriker \\u2013 Ger\\u00e4te und Systeme/Industrieelektrikerin \\u2013 Ger\\u00e4te und Systeme\"],[\"Kraftfahrzeugmechatroniker in der Fahrzeugmodernisierung/Kraftfahrzeugmechatronikerin in der Fahrzeugmodernisierung\"],[\"Kraftfahrzeugmechatroniker f\\u00fcr Bremsanlagen/Kraftfahrzeugmechatronikerin f\\u00fcr Bremsanlagen\"],[\"Industriemechaniker/Industriemechanikerin\"],[\"Maschinenbediener in der Schrottzerkleinerung/Maschinenbedienerin in der Schrottzerkleinerung\"],[\"Maschinenbediener im Bereich W\\u00e4rmebehandlung/Maschinenbedienerin im Bereich W\\u00e4rmebehandlung\"],[\"Industriemechaniker f\\u00fcr Schmiedeanlagen/Industriemechanikerin f\\u00fcr Schmiedeanlagen\"],[\"Hydraulik-Fachkraft\"],[\"Mitarbeiter Flugzeugenteisung/Mitarbeiterin Flugzeugenteisung\"],[\"Maschinenschmierer/Maschinenschmiererin\"],[\"Flugger\\u00e4temechaniker Fachrichtung Triebwerkstechnik/Flugger\\u00e4temechanikerin Fachrichtung Triebwerkstechnik\"],[\"Industriemechaniker f\\u00fcr Gie\\u00dfereianlagen/Industriemechanikerin f\\u00fcr Gie\\u00dfereianlagen\"],[\"Elektroniker f\\u00fcr Maschinen und Antriebstechnik/Elektronikerin f\\u00fcr Maschinen und Antriebstechnik\"],[\"Kraftfahrzeugelektriker/Kraftfahrzeugelektrikerin\"],[\"Mechaniker f\\u00fcr Reifen- und Vulkanisationstechnik/Mechanikerin f\\u00fcr Reifen- und Vulkanisationstechnik\"],[\"Baumaschinenmechatroniker/Baumaschinenmechatronikerin\"],[\"Fahrradmechaniker/Fahrradmechanikerin\"],[\"Karosserie- und Fahrzeugbaumechaniker Fachrichtung Karosseriebautechnik/Karosserie- und Fahrzeugbaumechanikerin Fachrichtung Karosseriebautechnik\"],[\"Kranmonteur/Kranmonteurin\"],[\"CNC-Anwendungsfachkraft\"],[\"Motorenmechaniker f\\u00fcr Dieselmotoren/Motorenmechanikerin f\\u00fcr Dieselmotoren\"],[\"KfZ-Werkstattleiter/KfZ-Werkstattleiterin\"],[\"Pannendienstfahrer/Pannendienstfahrerin\"],[\"Oldtimerrestaurator/Oldtimerrestauratorin\"],[\"Maschinenbediener f\\u00fcr St\\u00e4nderbohrmaschine/Maschinenbedienerin f\\u00fcr St\\u00e4nderbohrmaschine\"],[\"Arbeitsplaner in der Flugzeugwartung/Arbeitsplanerin in der Flugzeugwartung\"],[\"Metallstanzer/Metallstanzerin\"],[\"Helfer im Bereich Fahrzeugbau und -instandhaltung/Helferin im Bereich Fahrzeugbau und -instandhaltung\"],[\"Kraftfahrzeugmechatroniker Schwerpunkt Personenkraftwagentechnik/Kraftfahrzeugmechatronikerin Schwerpunkt Personenkraftwagentechnik\"],[\"Industriemechaniker f\\u00fcr Rotating Equipment/Industriemechanikerin f\\u00fcr Rotating Equipment\"],[\"Brennschneider/Brennschneiderin\"],[\"Flugger\\u00e4temechaniker Fachrichtung Instandhaltungstechnik/Flugger\\u00e4temechanikerin Fachrichtung Instandhaltungstechnik\"],[\"Servicetechniker f\\u00fcr Landmaschinen/Servicetechnikerin f\\u00fcr Landmaschinen\"],[\"Zweiter technischer Schiffsoffizier Fischereifahrzeug/Zweite technische Schiffsoffizierin Fischereifahrzeug\"],[\"Fahrzeugbatterie-Techniker/Fahrzeugbatterie-Technikerin\"],[\"Produktionsmechaniker \\u2013 Textil/Produktionsmechanikerin \\u2013 Textil\"],[\"Flugger\\u00e4temechaniker f\\u00fcr Gasturbinen-Triebwerke/Flugger\\u00e4temechanikerin f\\u00fcr Gasturbinen-Triebwerke\"],[\"Berg- und Maschinenmann Fachrichtung Transport und Instandhaltung/Berg und Maschinenfrau Fachrichtung Transport und Instandhaltung\"],[\"Schiffsmechaniker/Schiffsmechanikerin\"],[\"Zerspanungsmechaniker/Zerspanungsmechanikerin\"],[\"Maschinenbediener f\\u00fcr Gesenkschmiedeanlage/Maschinenbedienerin f\\u00fcr Gesenkschmiedeanlage\"],[\"Gie\\u00dfereimechaniker Fachrichtung Maschinenformguss/Gie\\u00dfereimechanikerin Fachrichtung Maschinenformguss\"],[\"Maschinenbediener f\\u00fcr Brikettierpresse/Maschinenbedienerin f\\u00fcr Brikettierpresse\"],[\"Maschinenbediener f\\u00fcr Richtmaschine/Maschinenbedienerin f\\u00fcr Richtmaschine\"],[\"Maschinenbediener f\\u00fcr Laserbeschriftungsanlage/Maschinenbedienerin f\\u00fcr Laserbeschriftungsanlage\"],[\"Zerspanungsmechaniker im Getriebebau/Zerspanungsmechanikerin im Getriebebau\"],[\"Maschinenbediener f\\u00fcr Stauchanlage/Maschinenbedienerin f\\u00fcr Stauchanlage\"],[\"Maschinenbediener f\\u00fcr Funkenerodiermaschine/Maschinenbedienerin f\\u00fcr Funkenerodiermaschine\"],[\"Maschinenbediener f\\u00fcr Stanzpresse/Maschinenbedienerin f\\u00fcr Stanzpresse\"],[\"Halal-Schlachter/Halal-Schlachterin\"],[\"Schlachter mit Koscherzertifikat/Schlachterin mit Koscherzertifikat\"],[\"Fleischer mit Koscherzertifikat/Fleischerin mit Koscherzertifikat\"],[\"Maschinenbediener f\\u00fcr Oberfr\\u00e4se/Maschinenbedienerin f\\u00fcr Oberfr\\u00e4se\"],[\"Aufsichtskraft f\\u00fcr Montage- und Hebearbeiten\"],[\"Maschinenbediener in der Schraubenherstellung/Maschinenbedienerin in der Schraubenherstellung\"],[\"Feinwerkmechaniker Fachrichtung Werkzeugbau/Feinwerkmechanikerin Fachrichtung Werkzeugbau\"],[\"Bootsbauer/Bootsbauerin\"],[\"Technischer Modellbauer Fachrichtung Gie\\u00dferei/Technische Modellbauerin Fachrichtung Gie\\u00dferei\"],[\"Zeltmonteur/Zeltmonteurin\"],[\"Maschinenbediener f\\u00fcr Gewindewalze/Maschinenbedienerin f\\u00fcr Gewindewalze\"],[\"Halal-Fleischer/Halal-Fleischerin\"],[\"Beh\\u00e4lter- und Apparatebauer/Beh\\u00e4lter- und Apparatebauerin\"],[\"Maschinenbediener f\\u00fcr hydraulische Schmiedepresse/Maschinenbedienerin f\\u00fcr hydraulische Schmiedepresse\"],[\"Konstruktionsmechaniker Fachrichtung Feinblechbau/Konstruktionsmechanikerin Fachrichtung Feinblechbau\"],[\"Maschinenbediener f\\u00fcr mechanische Schmiedepresse/Maschinenbedienerin f\\u00fcr mechanische Schmiedepresse\"],[\"Metallbauer Fachrichtung Metallgestaltung/Metallbauerin Fachrichtung Metallgestaltung\"],[\"Ger\\u00fcstbauer\\u00a0\\u2013 B\\u00fchnenbau/Ger\\u00fcstbauerin \\u2013 B\\u00fchnenbau\"],[\"Anschl\\u00e4ger/Anschl\\u00e4gerin\"],[\"Kupferschmied/Kupferschmiedin\"],[\"Gesenkschmied/Gesenkschmiedin\"],[\"L\\u00f6ter/L\\u00f6terin\"],[\"Schmied/Schmiedin\"],[\"Maschinenbediener f\\u00fcr Plasmaschneideanlage/Maschinenbedienerin f\\u00fcr Plasmaschneideanlage\"],[\"Maschinenbediener f\\u00fcr Hobelmei\\u00dfel/Maschinenbedienerin f\\u00fcr Hobelmei\\u00dfel\"],[\"Werkzeugbautechniker/Werkzeugbautechnikerin\"],[\"Werkzeugschleifer/Werkzeugschleiferin\"],[\"Maschinenbediener in der Kettenherstellung/Maschinenbedienerin in der Kettenherstellung\"],[\"Hartl\\u00f6ter/Hartl\\u00f6terin\"],[\"Gie\\u00dfereimechaniker/Gie\\u00dfereimechanikerin\"],[\"Metallpolierer/Metallpoliererin\"],[\"Schwei\\u00dftechniker/Schwei\\u00dftechnikerin\"],[\"Metallarbeiter im Bereich Demontage/Metallarbeiterin im Bereich Demontage\"],[\"Metallbauer \\u2013 Konstruktionstechnik/Metallbauerin \\u2013 Konstruktionstechnik\"],[\"Beh\\u00e4ltermonteur/Beh\\u00e4ltermonteurin\"],[\"Schwei\\u00dfer/Schwei\\u00dferin\"],[\"CNC-Bohrer/CNC-Bohrerin\"],[\"Schloss- und Schl\\u00fcsselmacher/Schloss- und Schl\\u00fcsselmacherin\"],[\"Maschinenbediener f\\u00fcr Ausbohrmaschine/Maschinenbedienerin f\\u00fcr Ausbohrmaschine\"],[\"Waffenmechaniker/Waffenmechanikerin\"],[\"Qualit\\u00e4tspr\\u00fcfer Schiffsbau/Qualit\\u00e4tspr\\u00fcferin Schiffsbau\"],[\"Qualit\\u00e4tspr\\u00fcfer - Schienenfahrzeugbau/Qualit\\u00e4tspr\\u00fcferin - Schienenfahrzeugbau\"],[\"Pr\\u00fcfer von Luftfahrtger\\u00e4t/Pr\\u00fcferin von Luftfahrtger\\u00e4t\"],[\"Qualit\\u00e4tspr\\u00fcfer Fahrzeugbau/Qualit\\u00e4tspr\\u00fcferin Fahrzeugbau\"],[\"Warenpr\\u00fcfer/Warenpr\\u00fcferin\"],[\"Zellstoffklassierer/Zellstoffklassiererin\"],[\"Elektroniker Pr\\u00fcffeld/Elektronikerin Pr\\u00fcffeld\"],[\"Elektroger\\u00e4tepr\\u00fcfer/Elektroger\\u00e4tepr\\u00fcferin\"],[\"Holzbemaler/Holzbemalerin\"],[\"Qualit\\u00e4tspr\\u00fcfer - Metallprodukte/Qualit\\u00e4tspr\\u00fcferin - Metallprodukte\"],[\"Schuh- und Lederwarenstepper/Schuh- und Lederwarenstepperin\"],[\"Produktpr\\u00fcfer -Textil/Produktpr\\u00fcferin - Textil\"],[\"CAD-Techniker - Schuhtechnik (Modellgestaltung)/CAD-Technikerin - Schuhtechnik (Modellgestaltung)\"],[\"Produktpr\\u00fcfer - Bekleidung/Produktpr\\u00fcferin - Bekleidung\"],[\"Klavierbauer/Klavierbauerin\"],[\"Harfenbauer/Harfenbauerin\"],[\"Techniker - Schuhtechnik (Modellgestaltung)/Technikerin - Schuhtechnik (Modellgestaltung)\"],[\"Schuhinstandsetzer/Schuhinstandsetzerin\"],[\"Industriekeramiker Dekorationstechnik/Industriekeramikerin Dekorationstechnik\"],[\"Schmuckhersteller/Schmuckherstellerin\"],[\"Geigenbauer/Geigenbauerin\"],[\"Druckvorstufen-Mitarbeiter/Druckvorstufen-Mitarbeiterin\"],[\"Gitarrenbauer/Gitarrenbauerin\"],[\"Glasmaler/Glasmalerin\"],[\"Scanner-Operator/Scanner-Operatorin\"],[\"Druckvorlagenhersteller/Druckvorlagenherstellerin\"],[\"Pr\\u00e4zisionsinstrumentenpr\\u00fcfer/Pr\\u00e4zisionsinstrumentenpr\\u00fcferin\"],[\"Lederwarenveredler/Lederwarenveredlerin\"],[\"Orthop\\u00e4dieschuhmacher/Orthop\\u00e4dieschuhmacherin\"],[\"M\\u00f6belpolsterer/M\\u00f6belpolsterin\"],[\"Cembalobauer/Cembalobauerin\"],[\"Lederzuschneider/Lederzuschneiderin\"],[\"DTP-Fachkraft\"],[\"Manufakturporzellanmaler/Manufakturporzellanmalerin\"],[\"Ledern\\u00e4her/Ledern\\u00e4herin\"],[\"Schriftsetzer/Schriftsetzerin\"],[\"Ma\\u00dfschuhmacher/Ma\\u00dfschuhmacherin\"],[\"Sch\\u00e4ftemacher/Sch\\u00e4ftemacherin\"],[\"Orgelbauer/Orgelbauerin\"],[\"Medientechnologe Siebdruck/Medientechnologin Siebdruck\"],[\"Qualit\\u00e4tskontrolleur - Lederwaren/Qualit\\u00e4tskontrolleurin - Lederwaren\"],[\"Feinpolierer/Feinpoliererin\"],[\"Edelsteingraveur/Edelsteingraveurin\"],[\"Goldschmied/Goldschmiedin\"],[\"Silberschmied/Silberschmiedin\"],[\"Kundendiensttechniker\\u00a0\\u2013 Mobiltelefone/Kundendiensttechnikerin - Mobiltelefone\"],[\"Stra\\u00dfenbeleuchtungstechniker/Stra\\u00dfenbeleuchtungstechnikerin\"],[\"Edelsteinfasser/Edelsteinfasserin\"],[\"Schmuckreparateur/Schmuckreparateurin\"],[\"Filigranschmuckhersteller/Filigranschmuckherstellerin\"],[\"Rohrleitungsbauer/Rohrleitungsbauerin\"],[\"Bauelektriker/Bauelektrikerin\"],[\"B\\u00fchnenhelfer/B\\u00fchnenhelferin\"],[\"Punktschwei\\u00dfer/Punktschwei\\u00dferin\"],[\"Techniker f\\u00fcr Stromz\\u00e4hler/Technikerin f\\u00fcr Stromz\\u00e4hler\"],[\"Dreher/Dreherin\"],[\"Freileitungstechniker/Freileitungstechnikerin\"],[\"CNC-Dreher/CNC-Dreherin\"],[\"Hufschmied/Hufschmiedin\"],[\"CNC-Graveur/CNC-Graveurin\"],[\"Veranstaltungsrigger f\\u00fcr Arbeiten am Boden/Veranstaltungsriggerin f\\u00fcr Arbeiten am Boden\"],[\"Laserschwei\\u00dfer/Laserschwei\\u00dferin\"],[\"Industrieelektriker \\u2013 Betriebstechnik/Industrieelektrikerin \\u2013 Betriebstechnik\"],[\"Takler/Taklerin\"],[\"Solartechniker/Solartechnikerin\"],[\"Elektronenstrahlschwei\\u00dfer/Elektronenstrahlschwei\\u00dferin\"],[\"Gie\\u00dfereimechaniker Schwerpunkt Handformguss/Gie\\u00dfereimechanikerin Schwerpunkt Handformguss\"],[\"Maschinenbediener f\\u00fcr Wasserstrahlschneidanlage/Maschinenbedienerin f\\u00fcr Wasserstrahlschneidanlage\"],[\"Metallstanzer/Metallstanzerin\"],[\"Gie\\u00dfereimechaniker Schwerpunkt Kernherstellung/Gie\\u00dfereimechanikerin Schwerpunkt Kernherstellung\"],[\"Veranstaltungstechniker/Veranstaltungstechnikerin\"],[\"Landmaschinenmechatroniker/Landmaschinenmechatronikerin\"],[\"Veranstaltungsrigger/Veranstaltungsriggerin\"],[\"CNC-Schleifer/CNC-Schleiferin\"],[\"CNC-Laserbediener/CNC-Laserbedienerin\"],[\"Metallnieter/Metallnieterin\"],[\"Gie\\u00dfereimechaniker Schwerpunkt Druck- und Kokillenguss/Gie\\u00dfereimechanikerin Schwerpunkt Druck- und Kokillenguss\"],[\"Elektroniker f\\u00fcr Energie- und Geb\\u00e4udetechnik/Elektronikerin f\\u00fcr Energie- und Geb\\u00e4udetechnik\"],[\"CNC-Fr\\u00e4ser/CNC-Fr\\u00e4serin\"],[\"Kabelmonteur/Kabelmonteurin\"],[\"Dokumentationsfachkraft\"],[\"Metalls\\u00e4ger/Metalls\\u00e4gerin\"],[\"Forstmaschinentechniker/Forstmaschinentechnikerin\"],[\"Fremdsprachenkorrespondent/Fremdsprachenkorrespondentin\"],[\"Korrekturleser/Korrekturleserin\"],[\"Werbesachbearbeiter/Werbesachbearbeiterin\"],[\"Postbote/Postbotin\"],[\"Postabfertiger/Postabfertigerin\"],[\"Personalsachbearbeiter/Personalsachbearbeiterin\"],[\"Datentypist/Datentypistin\"],[\"B\\u00fcroassistent/B\\u00fcroassistentin\"],[\"Sekret\\u00e4r/Sekret\\u00e4rin\"],[\"Lohn- und Gehaltsbuchhalter/Lohn- und Gehaltsbuchhalterin\"],[\"Versicherungssachbearbeiter/Versicherungssachbearbeiterin\"],[\"Textypist/Textypistin\"],[\"Fakturist/Fakturistin\"],[\"Immobilienassistent/Immobilienassistentin\"],[\"Pr\\u00fcfungsassistent/Pr\\u00fcfungsassistentin\"],[\"Verkaufssachbearbeiter/Verkaufssachbearbeiterin\"],[\"Hafenmeister/Hafenmeisterin\"],[\"Fachkraft Rohrleitungstransport\"],[\"Schiffsplaner/Schiffsplanerin\"],[\"Kundeninformationsfachkraft\"],[\"Bodensteward/Bodenstewardess\"],[\"Fahrdienstleiter Bahn/Fahrdienstleiterin Bahn\"],[\"Verkehrskoordinator Schiffsverkehr/Verkehrskoordinatorin Schiffsverkehr\"],[\"Fahrdienstleiter Busverkehr/Fahrdienstleiterin Busverkehr\"],[\"Empfangsmitarbeiter in einem Beherbergungsbetrieb/Empfangsmitarbeiterin in einem Beherbergungsbetrieb\"],[\"Telefonist Telefonzentrale/Telefonistin Telefonzentrale\"],[\"Frachtdisponent/Frachtdisponentin\"],[\"Transportkoordinator Seefracht/Transportkoordinatorin Seefracht\"],[\"Gefahrgutberater/Gefahrgutberaterin\"],[\"Fachkraft Gasversorgung\"],[\"Fahrkartenverk\\u00e4ufer/Fahrkartenverk\\u00e4uferin\"],[\"Wechseldisponent/Wechseldisponentin\"],[\"Reiseveranstalter/Reiseveranstalterin\"],[\"Back-Office-Mitarbeiter/Back-Office-Mitarbeiterin\"],[\"Kundenbetreuer/Kundenbetreuerin\"],[\"Warenlagerverwalter/Warenlagerverwalterin\"],[\"Flugdienstberater/Flugdienstberaterin\"],[\"Wartungsplaner Stra\\u00dfentransport/Wartungsplanerin Stra\\u00dfentransport\"],[\"Reisevermittler/Reisevermittlerin\"],[\"Sachbearbeiter im Investmentbereich/Sachbearbeiterin im Investmentbereich\"],[\"Einsatzleiter im Hafenlotsendienst/Einsatzleiterin im Hafenlotsendienst\"],[\"Fachkraft Gastransport\"],[\"Funkbediener im Taxibetrieb/Funkbedienerin im Taxibetrieb\"],[\"Mitarbeiter eines Reiseveranstalters/Mitarbeiterin eines Reiseveranstalters\"],[\"Material- und Produktionskoordinator im Maschinenbau/Material- und Produktionskoordinatorin im Maschinenbau\"],[\"Steuersachbearbeiter/Steuersachbearbeiterin\"],[\"Nachtempfangsleiter/Nachtempfangsleiterin\"],[\"Logistikkoordinator Schienenverkehr/Logistikkoordinatorin Schienenverkehr\"],[\"Koordinator der Gep\\u00e4ckabfertigung/Koordinatorin der Gep\\u00e4ckabfertigung\"],[\"Touristeninformationsmitarbeiter/Touristeninformationsmitarbeiterin\"],[\"Reiseberater/Reiseberaterin\"],[\"Interviewer im Bereich Marktforschung/Interviewerin im Bereich Marktforschung\"],[\"Luftfrachtkoordinator/Luftfrachtkoordinatorin\"],[\"Fahrdienstleiter Stra\\u00dfenbahn/Fahrdienstleiterin Stra\\u00dfenbahn\"],[\"Umzugskoordinator/Umzugskoordinatorin\"],[\"Totalisateur/Totalisateurin\"],[\"Bingo-Spielleiter/Bingo-Spielleiterin\"],[\"Casino-Kassierer/Casino-Kassiererin\"],[\"Croupier/Croupi\\u00e8re\"],[\"Spielbetriebsleiter/Spielbetriebsleiterin\"],[\"Interviewer im Bereich Umfragen/Interviewerin im Bereich Umfragen\"],[\"Hotelpf\\u00f6rtner/Hotelpf\\u00f6rtnerin\"],[\"Buchmacher/Buchmacherin\"],[\"Empfangssekret\\u00e4r/Empfangssekret\\u00e4rin\"],[\"Rohstoffannahmeleiter/Rohstoffannahmeleiterin\"],[\"Campingplatzmitarbeiter/Campingplatzmitarbeiterin\"],[\"Fachkraft f\\u00fcr Rohstofflager\"],[\"Pit Boss\"],[\"Online-Kundenberater/Online-Kundenberaterin\"],[\"Materialverwalter in Schuhfabrik/Materialverwalterin in Schuhfabrik\"],[\"Materialverwalter in der Lederwarenherstellung/Materialverwalterin in der Lederwarenherstellung\"],[\"Back-Office-Mitarbeiter im Maklergesch\\u00e4ft/Back-Office-Mitarbeiterin im Maklergesch\\u00e4ft\"],[\"Materialverwalter in der Bekleidungsherstellung/Materialverwalterin in der Bekleidungsherstellung\"],[\"Empfangskraft Gesundheitswesen\"],[\"Schienenfahrzeugreiniger/Schienenfahrzeugreinigerin\"],[\"Raumpfleger/Raumpflegerin\"],[\"Fahrzeugreiniger/Fahrzeugreinigerin\"],[\"Kanalreiniger/Kanalreinigerin\"],[\"Flugzeugkabinenreiniger/Flugzeugkabinenreinigerin\"],[\"Bankbediensteter/Bankbedienstete\"],[\"Fabrikhilfsarbeiter/Fabrikhilfsarbeiterin\"],[\"Pfandleiher/Pfandleiherin\"],[\"Lotterieannehmer/Lotterieannehmerin\"],[\"Teppich- und Gardinenreiniger/Teppich- und Gardinenreinigerin\"],[\"Postschalterbediensteter/Postschalterbedienstete\"],[\"Kalfaterer/Kalfatererin\"],[\"Geb\\u00e4udereiniger Innenreinigung/Geb\\u00e4udereinigerin Innenreinigung\"],[\"Fensterputzer/Fensterputzerin\"],[\"Toiletten-Reinigungskraft\"],[\"Reinigungskraft in Privathaushalt\"],[\"Badew\\u00e4rter/Badew\\u00e4rterin\"],[\"Stra\\u00dfenh\\u00e4ndler/Stra\\u00dfenh\\u00e4ndlerin\"],[\"Verpacker/Verpackerin\"],[\"Reiseberater im Bahnverkehr/Reiseberaterin im Bahnverkehr\"],[\"Inkassobeauftragter f\\u00fcr Versicherungen/Inkassobeauftragte f\\u00fcr Versicherungen\"],[\"Inkassobeauftragter/Inkassobeauftragte\"],[\"Odds Manager\"],[\"M\\u00f6belreiniger/M\\u00f6belreinigerin\"],[\"Textilverarbeiterhelfer/Textilverarbeiterhelferin\"],[\"Lagerarbeiter/Lagerarbeiterin\"],[\"Versandarbeiter/Versandarbeiterin\"],[\"Tiefbauhelfer/Tiefbauhelferin\"],[\"Bediener intermodaler Einrichtungen im Schienenverkehr/Bedienerin intermodaler Einrichtungen im Schienenverkehr\"],[\"Hochbauhelfer/Hochbauhelferin\"],[\"Bergbauhelfer/Bergbauhelferin\"],[\"Fahrradkurier/Fahrradkurierin\"],[\"Kutscher/Kutscherin\"],[\"Transportarbeiter/Transportarbeiterin\"],[\"Gleisbauerhelfer/Gleisbauerhelferin\"],[\"Gartenhilfsarbeiter/Gartenhilfsarbeiterin\"],[\"Stauer/Stauerin\"],[\"Garderobenaufseher/Garderobenaufseherin\"],[\"Recyclingarbeiter/Recyclingarbeiterin\"],[\"Pferdewirt/Pferdewirtin\"],[\"Hilfskraft f\\u00fcr die Verankerung von Netzk\\u00e4figen in Aquakulturanlagen\"],[\"K\\u00fcchenbediensteter/K\\u00fcchenbedienstete\"],[\"Abfallsortierer/Abfallsortiererin\"],[\"Hilfskraft f\\u00fcr Aquakulturanlagen in Gew\\u00e4ssern\"],[\"Aufseher von Hafenarbeiten/Aufseherin von Hafenarbeiten\"],[\"Gep\\u00e4ckabfertiger/Gep\\u00e4ckabfertigerin\"],[\"Regalauff\\u00fcller/Regalauff\\u00fcllerin\"],[\"Materiallagerarbeiter/Materiallagerarbeiterin\"],[\"Pferdepfleger/Pferdepflegerin\"],[\"Waldarbeiter/Waldarbeiterin\"],[\"Platzanweiser/Platzanweiserin\"],[\"Hilfskraft f\\u00fcr das Sammeln aquatischer Ressourcen\"],[\"Portier/Porti\\u00e8re\"],[\"Produktionsarbeiter im Bereich Pflanzenbau/Produktionsarbeiterin im Bereich Pflanzenbau\"],[\"Pizzab\\u00e4cker/Pizzab\\u00e4ckerin\"],[\"Weinbaugehilfe/Weinbaugehilfin\"],[\"M\\u00fcllmann/M\\u00fcllfrau\"],[\"K\\u00fcchenhilfe\"],[\"Gefl\\u00fcgelf\\u00e4nger/Gefl\\u00fcgelf\\u00e4ngerin\"],[\"Hilfskraft f\\u00fcr die Ernte und den Fang von Wasserorganismen\"],[\"Automatenbetreuer/Automatenbetreuerin\"],[\"Fachkraft f\\u00fcr Nutztierhaltung\"],[\"Gartenarbeiter/Gartenarbeiterin\"],[\"Imbissmitarbeiter/Imbissmitarbeiterin\"],[\"Z\\u00e4hlerableser/Z\\u00e4hlerableserin\"],[\"Hotelportier/Hotelportierin\"],[\"Obst- und Gem\\u00fcsepfl\\u00fccker/Obst- und Gem\\u00fcsepfl\\u00fcckerin\"],[\"Fahrgesch\\u00e4ftsbediener/Fahrgesch\\u00e4ftsbedienerin\"],[\"Stra\\u00dfenkehrer/Stra\\u00dfenkehrerin\"],[\"Kabinenwart/Kabinenwartin\"],[\"Stra\\u00dfenunterhaltungsarbeiter/Stra\\u00dfenunterhaltungsarbeiterin\"],[\"Drainagearbeiter/Drainagearbeiterin\"],[\"Stra\\u00dfenmarkierer/Stra\\u00dfenmarkiererin\"],[\"Wasserbauhelfer/Wasserbauhelferin\"],[\"Warenkommissionierer/Warenkommissioniererin\"],[\"Verkehrszeichenaufsteller/Verkehrszeichenaufstellerin\"],[\"Weingutmanager/Weingutmanagerin\"],[\"Arborist/Arboristin\"],[\"Hopfenbauer/Hopfenb\\u00e4uerin\"],[\"Kellermeister/Kellermeisterin\"],[\"Weinbergverwalter/Weinbergverwalterin\"],[\"Kapit\\u00e4n K\\u00fcstenfischerei/Kapit\\u00e4nin K\\u00fcstenfischerei\"],[\"Kreislaufanlagentechniker Aquakultur/Kreislaufanlagentechnikerin Aquakultur\"],[\"Aquakulturtechniker\\u00a0\\u2013 schwimmende Systeme/Aquakulturtechnikerin\\u00a0\\u2013 schwimmende Systeme\"],[\"Aquakulturarbeiter/Aquakulturarbeiterin\"],[\"J\\u00e4ger/J\\u00e4gerin\"],[\"Pelztierz\\u00fcchter/Pelztierz\\u00fcchterin\"],[\"landwirtschaftlicher Betriebsleiter/landwirtschaftliche Betriebsleiterin\"],[\"Produktionsleiter im Bereich Pflanzenbau/Produktionsleiterin im Bereich Pflanzenbau\"],[\"Gefl\\u00fcgelgeschlechtsbestimmer/Gefl\\u00fcgelgeschlechtsbestimmerin\"],[\"Landschaftsg\\u00e4rtner/Landschaftsg\\u00e4rtnerin\"],[\"Landwirt/Landwirtin\"],[\"Maschinenf\\u00fchrer Weinbau/Maschinenf\\u00fchrerin Weinbau\"],[\"Gefl\\u00fcgelz\\u00fcchter/Gefl\\u00fcgelz\\u00fcchterin\"],[\"Verankerungstechniker Aquakulturanlagen/Verankerungstechnikerin Aquakulturanlagen\"],[\"Tiefseefischer/Tiefseefischerin\"],[\"Aufzuchttechniker Aquakultur/Aufzuchttechnikerin Aquakultur\"],[\"Haltungstechniker Aquakultur/Haltungstechnikerin Aquakultur\"],[\"K\\u00fcsten- und Binnenfischer/K\\u00fcsten- und Binnenfischerin\"],[\"Zuchtmanager Aquakultur/Zuchtmanagerin Aquakultur\"],[\"Zuchttechniker Aquakultur/Zuchttechnikerin Aquakultur\"],[\"F\\u00f6rster/F\\u00f6rsterin\"],[\"Fischerntetechniker Aquakultur/Fischerntetechnikerin Aquakultur\"],[\"Zuchtassistent Aquakultur/Zuchtassistentin Aquakultur\"],[\"Netzk\\u00e4figtechniker Aquakultur/Netzk\\u00e4figtechnikerin Aquakultur\"],[\"Fischwirtschaftsmeister/Fischwirtschaftsmeisterin\"],[\"Teamleiter Obstbau/Teamleiterin Obstbau\"],[\"Produktionsleiter im Bereich Gartenbau/Produktionsleiterin im Bereich Gartenbau\"],[\"Produktionsteamleiter im Bereich Gartenbau/Produktionsteamleiterin im Bereich Gartenbau\"],[\"Schweinez\\u00fcchter/Schweinez\\u00fcchterin\"],[\"Stallmeister/Stallmeisterin\"],[\"Baumchirurg/Baumchirurgin\"],[\"Produktionsteamleiter im Bereich agrarwissenschaftlicher Pflanzenbau/Produktionsteamleiterin im Bereich agrarwissenschaftlicher Pflanzenbau\"],[\"Sch\\u00e4fer/Sch\\u00e4ferin\"],[\"Imker/Imkerin\"],[\"Schafz\\u00fcchter/Schafz\\u00fcchterin\"],[\"Pferdez\\u00fcchter/Pferdez\\u00fcchterin\"],[\"Rasenpfleger/Rasenpflegerin\"],[\"Landschaftsg\\u00e4rtner f\\u00fcr Innenraumbegr\\u00fcnung/Landschaftsg\\u00e4rtnerin f\\u00fcr Innenraumbegr\\u00fcnung\"],[\"Viehz\\u00fcchter/Viehz\\u00fcchterin\"],[\"Marineoffizier/Marineoffizierin\"],[\"Offizier f\\u00fcr die Streitkr\\u00e4fte/Offizierin f\\u00fcr die Streitkr\\u00e4fte\"],[\"Brigadegeneral/Brigadegeneralin\"],[\"Hauptmann\"],[\"Major/Majorin\"],[\"Flotillenchef/Flotillenchefin\"],[\"General/Generalin\"],[\"Luftwaffenoffizier/Luftwaffenoffizierin\"],[\"Kommandeur eines Geschwaders oder einer Kompanie/Kommandeurin eines Geschwaders oder einer Kompanie\"],[\"Oberst\"],[\"Ordnungsh\\u00fcter/Ordnungsh\\u00fcterin\"],[\"Fachkraft Schutz- und Sicherheit\"],[\"Rettungsschwimmer/Rettungsschwimmerin\"],[\"Mitarbeiter im Katastrophenschutz/Mitarbeiterin im Katastrophenschutz\"],[\"Marktverk\\u00e4ufer/Marktverk\\u00e4uferin\"],[\"Verkehrshelfer/Verkehrshelferin\"],[\"Beamter/Beamtin der K\\u00fcstenwache\"],[\"Ordner bei Veranstaltungen/Ordnerin bei Veranstaltungen\"],[\"Stra\\u00dfenverk\\u00e4ufer von Lebensmitteln/Stra\\u00dfenverk\\u00e4uferin von Lebensmitteln\"],[\"Verkehrs\\u00fcberwacher/Verkehrs\\u00fcberwacherin\"],[\"Justizvollzugsbeamter/Justizvollzugsbeamtin\"],[\"Kartenverk\\u00e4ufer/Kartenverk\\u00e4uferin\"],[\"Angeh\\u00f6riger einer Spezialeinheit/Angeh\\u00f6rige einer Spezialeinheit\"],[\"Mitarbeiter Flugzeugcatering/Mitarbeiterin Flugzeugcatering\"],[\"Promoter/Promoterin\"],[\"Polizist/Polizistin\"],[\"Mitarbeiter Callcenter/Mitarbeiterin Callcenter\"],[\"Artillerieoffizier/Artillerieoffizierin\"],[\"Justizbeamter Jugendstrafvollzug/Justizbeamtin Jugendstrafvollzug\"],[\"Mitarbeiter in einer Aufkl\\u00e4rungsstelle/Mitarbeiterin in einer Aufkl\\u00e4rungsstelle\"],[\"Flugzeugeinwinker/Flugzeugeinwinkerin\"],[\"Pionier/Pionierin\"],[\"Kampfpilot/Kampfpilotin\"],[\"Grenadier/Grenadierin\"],[\"Berufsfeuerwehrmann/Berufsfeuerwehrfrau\"],[\"Leutnant/Leutnantin\"],[\"Oberstabsgefreiter/Oberstabsgefreite\"],[\"Kampff\\u00fchrungsspezialist/Kampff\\u00fchrungsspezialistin\"],[\"Unteroffizier/Unteroffizierin\"],[\"Vermietungsdienstmanager/Vermietungsdienstmanagerin\"],[\"Schnellrestaurantteamleiter/Schnellrestaurantteamleiterin\"],[\"Mannequin/Dressman\"],[\"Lotterieticketverk\\u00e4ufer/Lotterieticketverk\\u00e4uferin\"],[\"Vermietungsdienstmitarbeiter/Vermietungsdienstmitarbeiterin\"],[\"Fachverk\\u00e4ufer Tankstelle/Fachverk\\u00e4uferin Tankstelle\"],[\"Fahrzeugvermieter/Fahrzeugvermieterin\"],[\"Kassierer/Kassiererin\"],[\"Modell f\\u00fcr K\\u00fcnstler\"],[\"Fachverk\\u00e4ufer/Fachverk\\u00e4uferin\"],[\"Kfz-Teileverk\\u00e4ufer/Kfz-Teileverk\\u00e4uferin\"],[\"Verkaufshilfskraft\"],[\"Mitarbeiter Verkaufsabwicklung/Mitarbeiterin Verkaufsabwicklung\"],[\"Verkaufsaufsichtskraft\"],[\"Personal Shopper\"],[\"Kfz-Leasingberater/Kfz-Leasingberaterin\"],[\"Verk\\u00e4ufer/Verk\\u00e4uferin\"],[\"Einzelh\\u00e4ndler/Einzelh\\u00e4ndlerin\"],[\"Purser/Purserette\"],[\"Visagist/Visagistin\"],[\"Tiersitter/Tiersitterin\"],[\"Maskenbildner/Maskenbildnerin\"],[\"Farb-, Stil- und Imageberater/Farb-, Stil- und Imageberaterin\"],[\"Cheftierpfleger Zoo/Cheftierpflegerin Zoo\"],[\"Barkeeper/Barkeeperin\"],[\"Fu\\u00dfpfleger/Fu\\u00dfpflegerin\"],[\"Solariumfachberater/Solariumfachberaterin\"],[\"Medium\"],[\"Kellner/Kellnerin\"],[\"Pensionsleiter/Pensionsleiterin\"],[\"Mitarbeiter Kosmetikstudio/Mitarbeiterin Kosmetikstudio\"],[\"Klauenpfleger/Klauenpflegerin\"],[\"Berater f\\u00fcr Gewichtsmanagement/Beraterin f\\u00fcr Gewichtsmanagement\"],[\"Masseur/Masseurin\"],[\"Hauswart/Hauswartin\"],[\"Hoteldiener/Hoteldienerin\"],[\"Restaurantwirt/Restaurantwirtin\"],[\"Leitender Hauswirtschafter/Leitende Hauswirtschafterin\"],[\"Aufsichtskraft Tierpension\"],[\"Friedhofsarbeiter/Friedhofsarbeiterin\"],[\"Epilator/Epilatorin\"],[\"Kosmetiker/Kosmetikerin\"],[\"Reiseberater der Bahn/Reiseberaterin der Bahn\"],[\"Steward/Stewardess\"],[\"Fremdenf\\u00fchrer/Fremdenf\\u00fchrerin\"],[\"Tierpfleger /Tierpflegerin\"],[\"Fingernagelkosmetiker/Fingernagelkosmetikerin\"],[\"Zugf\\u00fchrer/Zugf\\u00fchrerin\"],[\"Wildh\\u00fcter/Wildh\\u00fcterin\"],[\"Hauswirtschafter Privathaushalt/Hauswirtschafterin Privathaushalt\"],[\"Zugbegleiter/Zugbegleiterin\"],[\"Friseur/Friseurin\"],[\"Partnervermittler/Partnervermittlerin\"],[\"Tierpfleger Tierheim/Tierpflegerin Tierheim\"],[\"Hundez\\u00fcchter/Hundez\\u00fcchterin\"],[\"Tierschutzinspektor/Tierschutzinspektorin\"],[\"Tierbetreuer/Tierbetreuerin\"],[\"G\\u00e4stebetreuer Club/G\\u00e4stebetreuerin Club\"],[\"Gesellschafter/Gesellschafterin\"],[\"Escort\"],[\"Bootsfahrlehrer/Bootsfahrlehrerin\"],[\"Fachverk\\u00e4ufer f\\u00fcr Wandverkleidungen und Bodenbel\\u00e4ge/Fachverk\\u00e4uferin f\\u00fcr Wandverkleidungen und Bodenbel\\u00e4ge\"],[\"Sicherheitspersonalmanager/Sicherheitspersonalmanagerin\"],[\"Fachkraft Schutz- und Sicherheit\\u00a0\\u2013 Flughafen\"],[\"Fachkraft Werttransportschutz- und -sicherheit\"],[\"Wachmann/Wachfrau Alarmzentrale\"],[\"T\\u00fcrsteher/T\\u00fcrsteherin\"],[\"Fachverk\\u00e4ufer f\\u00fcr Zoobedarf und Heimtierverkauf/Fachverk\\u00e4uferin f\\u00fcr Zoobedarf und Heimtierverkauf\"],[\"Feuerwehrpumpenwart/Feuerwehrpumpenwartin\"],[\"Sicherheitsberater/Sicherheitsberaterin\"],[\"Vermietassistent sonstige Maschinen, Ausr\\u00fcstungen und G\\u00fcter/Vermietassistentin sonstige Maschinen, Ausr\\u00fcstungen und G\\u00fcter\"],[\"Vermietassistent Haushalts- und Gebrauchsg\\u00fcter/Vermietassistentin Haushalts- und Gebrauchsg\\u00fcter\"],[\"Fachverk\\u00e4ufer im Antiquit\\u00e4tenhandel/Fachverk\\u00e4uferin im Antiquit\\u00e4tenhandel\"],[\"Fachverk\\u00e4ufer f\\u00fcr Spielwaren/Fachverk\\u00e4uferin f\\u00fcr Spielwaren\"],[\"Fachverk\\u00e4ufer f\\u00fcr Stoffe und Heimtextilien/Fachverk\\u00e4uferin f\\u00fcr Stoffe und Heimtextilien\"],[\"Fachverk\\u00e4ufer f\\u00fcr Obst und Gem\\u00fcse/Fachverk\\u00e4uferin f\\u00fcr Obst und Gem\\u00fcse\"],[\"Koch/K\\u00f6chin\"],[\"Personensch\\u00fctzer/Personensch\\u00fctzerin\"],[\"Fachverk\\u00e4ufer f\\u00fcr Kosmetik und K\\u00f6rperpflege/Fachverk\\u00e4uferin f\\u00fcr Kosmetik und K\\u00f6rperpflege\"],[\"Fachverk\\u00e4ufer f\\u00fcr Telekommunikation/Fachverk\\u00e4uferin f\\u00fcr Telekommunikation\"],[\"Bergwerksretter/Bergwerksretterin\"],[\"Werkfeuerwehrmann/Werkfeuerwehrfrau\"],[\"Fachverk\\u00e4ufer f\\u00fcr B\\u00fcrobedarf und Zeitschriften/Fachverk\\u00e4uferin f\\u00fcr B\\u00fcrobedarf und Zeitschriften\"],[\"Sicherheitsbediensteter\\u00a0\\u2013 Zugangskontrolle/Sicherheitsbedienstete\\u00a0\\u2013 Zugangskontrolle\"],[\"Einrichtungsberater/Einrichtungsberaterin\"],[\"Fachverk\\u00e4ufer f\\u00fcr Unterhaltungselektronik/Fachverk\\u00e4uferin f\\u00fcr Unterhaltungselektronik\"],[\"Fachverk\\u00e4ufer f\\u00fcr Computerspiele, Multimediaprodukte und Software/Fachverk\\u00e4uferin f\\u00fcr Computerspiele, Multimediaprodukte und Software\"],[\"Haus- und Familienpfleger/Haus- und Familienpflegerin\"],[\"Lehrassistent Sekundarstufe/Lehrassistentin\"],[\"Lehrassistent Grundschule/Lehrassistentin Grundschule\"],[\"Kindergartenhelfer/Kindergartenhelferin\"],[\"Lehrassistent Sonderp\\u00e4dagogik/Lehrassistentin Sonderp\\u00e4dagogik\"],[\"Schulbusbegleiter\"],[\"Sicherheitsbeauftragter des Beherbergungsbetriebs/Sicherheitsbeauftragte des Beherbergungsbetriebs\"],[\"Schiffs- und Hafenfeuerwehrmann/Schiffs- und Hafenfeuerwehrfrau\"],[\"Krankentr\\u00e4ger/Krankentr\\u00e4gerin\"],[\"Pflegehelfer/Pflegehelferin\"],[\"Blutabnehmer/Blutabnehmerin\"],[\"Kinderbetreuer/Kinderbetreuerin\"],[\"Mitarbeiter Sterilgutversorgung/Mitarbeiterin Sterilgutversorgung\"],[\"Fachverk\\u00e4ufer f\\u00fcr Musik und Video/Fachverk\\u00e4uferin f\\u00fcr Musik und Video\"],[\"Fachverk\\u00e4ufer f\\u00fcr Gebrauchtwaren/Fachverk\\u00e4uferin f\\u00fcr Gebrauchtwaren\"],[\"Apothekenverk\\u00e4ufer/Apothekenverk\\u00e4uferin\"],[\"Fachverk\\u00e4ufer f\\u00fcr Fleisch- und Wurstwaren/Fachverk\\u00e4uferin f\\u00fcr Fleisch- und Wurstwaren\"],[\"Fachverk\\u00e4ufer f\\u00fcr Sportartikel/Fachverk\\u00e4uferin f\\u00fcr Sportartikel\"],[\"Fachverk\\u00e4ufer f\\u00fcr Waffen und Munition/Fachverk\\u00e4uferin f\\u00fcr Waffen und Munition\"],[\"Fachverk\\u00e4ufer f\\u00fcr Schuhe und Lederwaren/Fachverk\\u00e4uferin f\\u00fcr Schuhe und Lederwaren\"],[\"Fachverk\\u00e4ufer f\\u00fcr Eisenwaren und Farben/Fachverk\\u00e4uferin f\\u00fcr Eisenwaren und Farben\"],[\"Fachverk\\u00e4ufer f\\u00fcr Bau- und Heimwerkerbedarf/Fachverk\\u00e4uferin f\\u00fcr Bau- und Heimwerkerbedarf\"],[\"Fachverk\\u00e4ufer f\\u00fcr Blumen und Pflanzen/Fachverk\\u00e4uferin f\\u00fcr Blumen und Pflanzen\"],[\"G\\u00e4stebetreuer Themenpark/G\\u00e4stebetreuerin Themenpark\"],[\"Butler/Butlerin\"],[\"Herrenfriseur/Herrenfriseurin\"],[\"Schiffssteward/Schiffsstewardess\"],[\"Fachverk\\u00e4ufer f\\u00fcr Tabakwaren/Fachverk\\u00e4uferin f\\u00fcr Tabakwaren\"],[\"Sommelier/Sommeli\\u00e8re\"],[\"Tierfriseur/Tierfriseurin\"],[\"Oberkellner/Oberkellnerin\"],[\"Zugsteward/Zugstewardess\"],[\"Buchh\\u00e4ndler/Buchh\\u00e4ndlerin\"],[\"Tierpfleger Tierpension/Tierpflegerin Tierpension\"],[\"Haussitter/Haussitterin\"],[\"Fachverk\\u00e4ufer f\\u00fcr Computer und Zubeh\\u00f6r/Fachverk\\u00e4uferin f\\u00fcr Computer und Zubeh\\u00f6r\"],[\"Umweltp\\u00e4dagoge/Umweltp\\u00e4dagogin\"],[\"Kassenaufsichtskraft\"],[\"Haarstylist/Haarstylistin\"],[\"Film- und Theaterfriseur/Film- und Theaterfriseurin\"],[\"Barista\"],[\"Fachverk\\u00e4ufer f\\u00fcr Schmuck und Uhren/Fachverk\\u00e4uferin f\\u00fcr Schmuck und Uhren\"],[\"Fachverk\\u00e4ufer f\\u00fcr Kraftfahrzeuge/Fachverk\\u00e4uferin f\\u00fcr Kraftfahrzeuge\"],[\"Fachverk\\u00e4ufer f\\u00fcr B\\u00e4ckerei- und Konditoreiwaren/Fachverk\\u00e4uferin f\\u00fcr B\\u00e4ckerei- und Konditoreiwaren\"],[\"Tiertrainer/Tiertrainerin\"],[\"Fachverk\\u00e4ufer f\\u00fcr Feinkost/Fachverk\\u00e4uferin f\\u00fcr Feinkost\"],[\"K\\u00fcster/K\\u00fcsterin\"],[\"Flugbegleiter/Flugbegleiterin\"],[\"Fachverk\\u00e4ufer f\\u00fcr Haushaltsger\\u00e4te/Fachverk\\u00e4uferin f\\u00fcr Haushaltsger\\u00e4te\"],[\"Fahrkartenkontrolleur/Fahrkartenkontrolleurin\"],[\"Zoop\\u00e4dagoge/Zoop\\u00e4dagogin\"],[\"Fachverk\\u00e4ufer f\\u00fcr Bekleidung/Fachverk\\u00e4uferin f\\u00fcr Bekleidung\"],[\"Cocktailbarkeeper/Cocktailbarkeeperin\"],[\"Friseurhilfskraft\"],[\"Fachverk\\u00e4ufer f\\u00fcr S\\u00fc\\u00dfwaren/Fachverk\\u00e4uferin f\\u00fcr S\\u00fc\\u00dfwaren\"],[\"Tierpfleger Zoo/Tierpflegerin Zoo\"],[\"Getr\\u00e4nkefachverk\\u00e4ufer/Getr\\u00e4nkefachverk\\u00e4uferin\"],[\"Grillkoch/Grillk\\u00f6chin\"],[\"Babysitter\"],[\"Di\\u00e4tkoch/Di\\u00e4tk\\u00f6chin\"],[\"Busfahrlehrer/Busfahrlehrerin\"],[\"Kinderbetreuer (Tagesbetreuung)/Kinderbetreuerin (Tagesbetreuung)\"],[\"Au-pair\"],[\"Fischkoch/Fischk\\u00f6chin\"],[\"Nanny\"],[\"Industriekoch/Industriek\\u00f6chin\"],[\"Gesundheits- und Krankenpfleger/Gesundheits- und Krankenschwester\"],[\"Hundetrainer/Hundetrainerin\"],[\"Pferdetrainer/Pferdetrainerin\"],[\"Vermietassistent Landmaschinen/Vermietassistentin Landmaschinen\"],[\"Biersommelier/Biersommeli\\u00e8re\"],[\"Weinsommelier/Weinsommeli\\u00e8re\"],[\"Vermietassistent Wasserfahrzeuge/Vermietassistentin Wasserfahrzeuge\"],[\"Vermietassistent Personenkraftwagen/Vermietassistentin Personenkraftwagen\"],[\"Vermietassistent Luftfahrzeuge/Vermietassistentin Luftfahrzeuge\"],[\"Mitarbeiter Verleih von bespielten Ton- und Bildtr\\u00e4gern/Mitarbeiterin Verleih von bespielten Ton- und Bildtr\\u00e4gern\"],[\"Vermietassistent B\\u00fcromaschinen und -einrichtungen/Vermietassistentin B\\u00fcromaschinen und -einrichtungen\"],[\"Vermietassistent Lastkraftwagen/Vermietassistentin Lastkraftwagen\"],[\"Vermietassistent Bau- und Arbeitsmaschinen/Vermietassistentin Bau- und Arbeitsmaschinen\"],[\"Koordinator f\\u00fcr Besch\\u00e4ftigungsprogramme/Koordinatorin f\\u00fcr Besch\\u00e4ftigungsprogramme\"],[\"Chefsommelier/Chefsommeli\\u00e8re\"],[\"Blindenhundabrichter/Blindenhundabrichterin\"],[\"Berater im Bereich Sozialwesen/Beraterin im Bereich Sozialwesen\"],[\"Berufsberater/Berufsberaterin\"],[\"Verwaltungsbeamter/Verwaltungsbeamtin\"],[\"Arbeitsanalytiker/Arbeitsanalytikerin\"],[\"Mitarbeiter im Bereich Informationsgewinnung/Mitarbeiterin im Bereich Informationsgewinnung\"],[\"Einstellungsberater/Einstellungsberaterin\"],[\"Mitarbeiter Sport- und Freizeitger\\u00e4teverleih/Mitarbeiterin Sport- und Freizeitger\\u00e4teverleih\"],[\"Stadtteilentwickler/Stadtteilentwicklerin\"],[\"Parlamentarischer Assistent/Parlamentarische Assistentin\"],[\"Politikreferent/Politikreferentin\"],[\"Berater f\\u00fcr Besch\\u00e4ftigung und berufliche Eingliederung/Beraterin f\\u00fcr Besch\\u00e4ftigung und berufliche Eingliederung\"],[\"Berater im Gesundheitswesen/Beraterin im Gesundheitswesen\"],[\"Berater im Bereich humanit\\u00e4re Hilfe/Beraterin im Bereich humanit\\u00e4re Hilfe\"],[\"Referent/Referentin\"],[\"Beauftragter f\\u00fcr Arbeitsbeziehungen/Beauftragte f\\u00fcr Arbeitsbeziehungen\"],[\"Mitarbeiter im Bereich internationale Beziehungen/Mitarbeiterin im Bereich internationale Beziehungen\"],[\"Staatlicher Planungsinspektor/Staatliche Planungsinspektorin\"],[\"Personalberater/Personalberaterin\"],[\"Leiter der betrieblichen Aus- und Weiterbildung/Leiterin der betrieblichen Aus- und Weiterbildung\"],[\"Unternehmensberater/Unternehmensberaterin\"],[\"Unternehmensanalyst/Unternehmensanalystin\"],[\"Werbespezialist/Werbespezialistin\"],[\"Business Coach\"],[\"Business-Intelligence-Manager/Business-Intelligence-Managerin\"],[\"betrieblicher Aus- und Weiterbildner/betriebliche Aus- und Weiterbildnerin\"],[\"Business Developer/Business Developerin\"],[\"Financial Risk Analyst/Financial Risk Analystin\"],[\"Leiter Gesch\\u00e4ftsentwicklung IKT/Leiterin Gesch\\u00e4ftsentwicklung IKT\"],[\"Promotionassistent/Promotionassistentin\"],[\"Mediak\\u00e4ufer/Mediak\\u00e4uferin\"],[\"Programmfinanzierungsmanager/Programmfinanzierungsmanagerin\"],[\"Marketer/Marketerin\"],[\"Public-Affairs-Berater/Public-Affairs-Beraterin\"],[\"Customer Relationship Manager/Customer Relationship Managerin\"],[\"Verkaufsberater f\\u00fcr Solarenergie/Verkaufsberaterin f\\u00fcr Solarenergie\"],[\"Kundendiensttechniker/Kundendiensttechnikerin\"],[\"Berater f\\u00fcr erneuerbare Energien/Beraterin f\\u00fcr erneuerbare Energien\"],[\"Pharmareferent/Pharmareferentin\"],[\"Fachkraft technischer Vertrieb von elektronischen und Telekommunikationsger\\u00e4ten\"],[\"Vertriebstechniker/Vertriebstechnikerin\"],[\"IT-Kundenbetreuer/IT-Kundenbetreuerin\"],[\"Fachkraft im Bereich Vertrieb\"],[\"Risikokapitalgeber/Risikokapitalgeberin\"],[\"Manager f\\u00fcr politische Kampagnen/Managerin f\\u00fcr politische Kampagnen\"],[\"Netzwerk-Marketingexperte/Netzwerk-Marketingexpertin\"],[\"Marktforschungsanalyst/Marktforschungsanalystin\"],[\"k\\u00fcnstlerischer Leiter/k\\u00fcnstlerische Leiterin\"],[\"Ertragsmanager/Ertragsmanagerin\"],[\"Werbetexter/Werbetexterin\"],[\"Brand Manager/Brand Managerin\"],[\"Kampagnenleiter/Kampagnenleiterin\"],[\"Gesch\\u00e4ftskundenberater/Gesch\\u00e4ftskundenberaterin\"],[\"Wahlkampfleiter/Wahlkampfleiterin\"],[\"Online Community Manager/Online Community Managerin\"],[\"Produkt- und Dienstleistungsmanager/Produkt- und Dienstleistungsmanagerin\"],[\"Public-Relations-Fachkraft\"],[\"Risikomanager/Risikomanagerin\"],[\"Kundenerfahrungsmanager/Kundenerfahrungsmanagerin\"],[\"Berater im Bereich \\u00f6ffentliche Finanzierung/Beraterin im Bereich \\u00f6ffentliche Finanzierung\"],[\"Parteimitarbeiter/Parteimitarbeiterin\"],[\"Fundraiser/Fundraiserin\"],[\"Finanzplaner/Finanzplanerin\"],[\"Berater f\\u00fcr interkulturelle Kommunikation/Beraterin f\\u00fcr interkulturelle Kommunikation\"],[\"Controller/Controllerin\"],[\"Hochschullehrkraft\"],[\"Lehrkraft f\\u00fcr Montessori-Schulen\"],[\"Privater Verm\\u00f6gensverwalter/private Verm\\u00f6gensverwalterin\"],[\"Praxisanleiter Sozialarbeit/Praxisanleiterin Sozialarbeit\"],[\"Lehrkraft im Primarbereich\"],[\"Finanzanalyst/Finanzanalystin\"],[\"Middle-Office-Mitarbeiter/Middle-Office-Mitarbeiterin\"],[\"Investmentfondsmanager/Investmentfondsmanagerin\"],[\"Unternehmensbewerter/Unternehmensbewerterin\"],[\"Anlage- und Verm\\u00f6gensberater/Anlage- und Verm\\u00f6gensberaterin\"],[\"Thanatologe/Thanatologin\"],[\"Lehrkraft f\\u00fcr Sprachschulen\"],[\"Lehrkraft f\\u00fcr Geb\\u00e4rdensprache\"],[\"Lehrkraft f\\u00fcr Tanz und Bewegung\"],[\"Kriminologe/Kriminologin\"],[\"Geograf/Geografin\"],[\"Verhaltensforscher/Verhaltensforscherin\"],[\"Lehrkraft f\\u00fcr Fort- und Weiterbildung\"],[\"Zulassungskoordinator/Zulassungskoordinatorin\"],[\"Lehrkraft f\\u00fcr Freinet-Schulen\"],[\"Sonderp\\u00e4dagoge/Sonderp\\u00e4dagogin\"],[\"Koordinator f\\u00fcr Sonderp\\u00e4dagogik/Koordinatorin f\\u00fcr Sonderp\\u00e4dagogik\"],[\"Lehrkraft im Bereich Berufsbildung\"],[\"Lehrkraft f\\u00fcr Bildende Kunst\"],[\"Lehrplanforscher/Lehrplanforscherin\"],[\"Lehrkraft im Justizvollzug\"],[\"Studierendenberater/Studierendenberaterin\"],[\"Rede-Coach\"],[\"E-Learning-Autor/E-Learning-Autorin\"],[\"Lehrkraft f\\u00fcr Zirkuskunst\"],[\"Schulaufsichtsbeamter/Schulaufsichtsbeamtin\"],[\"Bildungsforscher/Bildungsforscherin\"],[\"Lehrkraft f\\u00fcr Musik\"],[\"Lehrkraft f\\u00fcr B\\u00fchnenkunst\"],[\"Lehrkraft f\\u00fcr Vorschulerziehung\"],[\"Lerncoach\"],[\"Instruktionsdesigner/Instruktionsdesignerin\"],[\"E-Learning-Architekt/E-Learning-Architektin\"],[\"IKT-Trainer/IKT-Trainerin\"],[\"Berater f\\u00fcr benachteiligte Studierende/Beraterin f\\u00fcr benachteiligte Studierende\"],[\"Nachhilfelehrer/Nachhilfelehrerin\"],[\"Lehrkraft Sekundarstufe\"],[\"Bildungsberater/Bildungsberaterin\"],[\"Arch\\u00e4ologe/Arch\\u00e4ologin\"],[\"Kunstp\\u00e4dagoge/Kunstp\\u00e4dagogin\"],[\"Anthropologe/Anthropologin\"],[\"Lehrkraft f\\u00fcr Begabtenf\\u00f6rderung\"],[\"Volkswirtschaftler/Volkswirtschaftlerin\"],[\"Politologe/Politologin\"],[\"Seelsorger/Seelsorgerin\"],[\"Philosoph/Philosophin\"],[\"Geistlicher/Geistliche\"],[\"Missionar/Missionarin\"],[\"Historiker/Historikerin\"],[\"Referent f\\u00fcr Wirtschaftspolitik/Referentin f\\u00fcr Wirtschaftspolitik\"],[\"Religionswissenschaftler/Religionswissenschaftlerin\"],[\"Grafologe/Grafologin\"],[\"Journalist/Journalistin\"],[\"Literaturwissenschaftler/Literaturwissenschaftlerin\"],[\"Keramiker/Keramikerin\"],[\"Wissenschaftlicher Sammlungsmanager/Wissenschaftliche Sammlungsmanagerin\"],[\"Stra\\u00dfenartist/Stra\\u00dfenartistin\"],[\"Wissenschaftlicher Zoomitarbeiter, verantwortlich f\\u00fcr Register des Tierbestandes/Wissenschaftliche Zoomitarbeiterin, verantwortlich f\\u00fcr Register des Tierbestandes\"],[\"Archivleiter/Archivleiterin\"],[\"Kunstrestaurator/Kunstrestauratorin\"],[\"Linguist/Linguistin\"],[\"Kunstmaler/Kunstmalerin\"],[\"Archivar/Archivarin\"],[\"Dramaturg/Dramaturgin\"],[\"Polygrafiesachverst\\u00e4ndiger/Polygrafiesachverst\\u00e4ndige\"],[\"Museumsregistrar/Museumsregistrarin\"],[\"Touristenanimateur/Touristenanimateurin\"],[\"Kurator/Kuratorin\"],[\"Lexikograf/Lexikografin\"],[\"Psychologe/Psychologin\"],[\"Karikaturist/Karikaturistin\"],[\"Kunstzeichner/Kunstzeichnerin\"],[\"Dolmetscher/Dolmetscherin\"],[\"\\u00dcbersetzer/\\u00dcbersetzerin\"],[\"Manager Kunstvermittlung und Bildungsarbeit/Managerin Kunstvermittlung und Bildungsarbeit\"],[\"Sozialarbeiter/Sozialarbeiterin\"],[\"Bildhauer/Bildhauerin\"],[\"Konservator/Konservatorin\"],[\"Kunstglaser/Kunstglaserin\"],[\"Informationsmanager/Informationsmanagerin\"],[\"Sozialp\\u00e4dagoge/Sozialp\\u00e4dagogin\"],[\"Geb\\u00e4rdensprachdolmetscher/Geb\\u00e4rdensprachdolmetscherin\"],[\"Videok\\u00fcnstler/Videok\\u00fcnstlerin\"],[\"Buchredakteur/Buchredakteurin\"],[\"Museologe/Museologin\"],[\"Sozialberater/Sozialberaterin\"],[\"Schriftsteller/Schriftstellerin\"],[\"Art-Direktor/Art-Direktorin\"],[\"Produzent/Produzentin\"],[\"Moderator/Moderatorin\"],[\"Storyboardk\\u00fcnstler/Storyboardk\\u00fcnstlerin\"],[\"Radioproduzent/Radioproduzentin\"],[\"Film- und Videoeditor/Film- und Videoeditorin\"],[\"Grafiker/Grafikerin\"],[\"Audiodeskriptor/Audiodeskriptorin\"],[\"Schauspieler/Schauspielerin\"],[\"Postproduktionsleiter/Postproduktionsleiterin\"],[\"Tonk\\u00fcnstler/Tonk\\u00fcnstlerin\"],[\"Fischereiberater/Fischereiberaterin\"],[\"Tierverhaltensforscher/Tierverhaltensforscherin\"],[\"Agrarwissenschaftler/Agrarwissenschaftlerin\"],[\"Rechtsberater/Rechtsberaterin\"],[\"Choreograf/Choreografin\"],[\"Regulatory-Affairs-Manager/Regulatory-Affairs-Managerin\"],[\"Komponist/Komponistin\"],[\"Musikdirektor/Musikdirektorin\"],[\"Gerichtsmediziner/Gerichtsmedizinerin\"],[\"Mediator/Mediatorin\"],[\"Pharmakologe/Pharmakologin\"],[\"Demograf/Demografin\"],[\"Immunologe/Immunologin\"],[\"Futtermittelwissenschaftler/Futtermittelwissenschaftlerin\"],[\"Agronom/Agronomin\"],[\"Biologe/Biologin\"],[\"Aktuar/Aktuarin\"],[\"Mathematiker/Mathematikerin\"],[\"Qualit\\u00e4tssicherungsingenieur f\\u00fcr Gl\\u00fccks- und Wettspiele/Qualit\\u00e4tssicherungsingenieurin f\\u00fcr Gl\\u00fccks- und Wettspiele\"],[\"Bioinformatiker/Bioinformatikerin\"],[\"Lebensmittelbiotechnologe/Lebensmittelbiotechnologin\"],[\"Berater im Bereich Viehzucht/Beraterin im Bereich Viehzucht\"],[\"Entwickler von Gl\\u00fccks- und Wettspielen/Entwicklerin von Gl\\u00fccks- und Wettspielen\"],[\"Statistiker/Statistikerin\"],[\"Richter/Richterin\"],[\"Notar/Notarin\"],[\"Ombudsmann/Ombudsfrau\"],[\"Musiker/Musikerin\"],[\"Friedensrichter/Friedensrichterin\"],[\"Redakteur von Legislativtexten/Redakteurin von Legislativtexten\"],[\"Gerichtskoordinator/Gerichtskoordinatorin\"],[\"T\\u00e4nzer/T\\u00e4nzerin\"],[\"Wahlbeobachter/Wahlbeobachterin\"],[\"Nachrichtenmoderator/Nachrichtenmoderatorin\"],[\"Menschenrechtsbeauftragter/Menschenrechtsbeauftragte\"],[\"Korrepetitor/Korrepetitorin\"],[\"Rechtsanwalt/Rechtsanw\\u00e4ltin\"],[\"Flughafen-Umweltschutzbeauftragter /Flughafen-Umweltschutzbeauftragte\"],[\"Berater Nat\\u00fcrliche Ressourcen/Beraterin Nat\\u00fcrliche Ressourcen\"],[\"Programmkoordinator Umwelt/Programmkoordinatorin Umwelt\"],[\"\\u00d6kologe/\\u00d6kologin\"],[\"Bodenwissenschaftler/Bodenwissenschaftlerin\"],[\"Umweltberater/Umweltberaterin\"],[\"F\\u00fchrungskraft Aquakultur-Kreislaufanlagen\"],[\"Umweltprojektleiter im Pipelinebereich/Umweltprojektleiterin im Pipelinebereich\"],[\"Forstwirtschaftlicher Berater/forstwirtschaftliche Beraterin\"],[\"Spezialist f\\u00fcr digitale Effekte/Spezialistin f\\u00fcr digitale Effekte\"],[\"Illustrator/Illustratorin\"],[\"Entwickler von Textilprodukten/Entwicklerin von Textilprodukten\"],[\"Experte Geoinformationssysteme/Expertin Geoinformationssysteme\"],[\"Digitalk\\u00fcnstler/Digitalk\\u00fcnstlerin\"],[\"Designer von Gl\\u00fccks- und Wettspielen/Designerin von Gl\\u00fccks- und Wettspielen\"],[\"Grafikdesigner/Grafikdesignerin\"],[\"Textilkolorist/Textilkoloristin\"],[\"Stop-Motion-Animator/Stop-Motion-Animatorin\"],[\"Vermessungsingenieur/Vermessungsingenieurin\"],[\"Industriedesigner/Industriedesignerin\"],[\"Videodesigner/Videodesignerin\"],[\"Entwickler Digitale Medien/Entwicklerin Digitale Medien\"],[\"Ingenieur Werkstofftechnik/Ingenieurin Werkstofftechnik\"],[\"Architekt/Architektin\"],[\"3D-Artist/3D-Artistin\"],[\"Computer-Animator/Computer-Animatorin\"],[\"Desktop-Publisher\"],[\"Kartograf/Kartografin\"],[\"Landschaftsarchitekt/Landschaftsarchitektin\"],[\"Katasteringenieur/Katasteringenieurin\"],[\"Game-Designer/Game-Designerin\"],[\"Bioingenieur/Bioingenieurin\"],[\"Layouter Trickfilme/Layouterin Trickfilme\"],[\"Maschinenbauingenieur/Maschinenbauingenieurin\"],[\"Umweltingenieur/Umweltingenieurin\"],[\"Geophysiker/Geophysikerin\"],[\"Chemiker/Chemikerin\"],[\"Lederwarenentwickler/Lederwarenentwicklerin\"],[\"Geologe/Geologin\"],[\"Umweltexperte/Umweltexpertin\"],[\"Lichtdesigner/Lichtdesignerin\"],[\"Mineraloge/Mineralogin\"],[\"Softwarepr\\u00fcfer/Softwarepr\\u00fcferin\"],[\"Analytiker f\\u00fcr IT-Notfallwiederherstellung/Analytikerin f\\u00fcr IT-Notfallwiederherstellung\"],[\"Datenqualit\\u00e4tsexperte/Datenqualit\\u00e4tsexpertin\"],[\"IT-Testanalytiker/IT-Testanalytikerin\"],[\"Meteorologe/Meteorologin\"],[\"IT-Audit-Manager/IT-Audit-Managerin\"],[\"Wissenschaftler Sensorik/Wissenschaftlerin Sensorik\"],[\"IT-Qualit\\u00e4tssicherungsmanager/IT-Qualit\\u00e4tssicherungsmanagerin\"],[\"IT-Sicherheitsmanager/IT-Sicherheitsmanagerin\"],[\"IT-Sicherheitsleiter/IT-Sicherheitsleiterin\"],[\"IT-Business-Analyst\"],[\"IT-Anwendungsentwickler/IT-Anwendungsentwicklerin\"],[\"IT-Consultant f\\u00fcr Systemintegration\"],[\"Softwareentwickler/Softwareentwicklerin\"],[\"Entwickler von Benutzeroberfl\\u00e4chen/Entwicklerin von Benutzeroberfl\\u00e4chen\"],[\"IT-Systemanalytiker/IT-Systemanalytikerin\"],[\"Fachinformatiker der Fachrichtung Systemintegration/Fachinformatikerin der Fachrichtung Systemintegration\"],[\"Web-Content-Manager/Web-Content-Managerin\"],[\"IKT-Berater/IKT-Beraterin\"],[\"CNC-Programmierer/CNC-Programmiererin\"],[\"Informatiker/Informatikerin\"],[\"Softwarearchitekt/Softwarearchitektin\"],[\"Game-Programmierer/Game-Programmiererin\"],[\"Experte f\\u00fcr Suchmaschinenoptimierung/Expertin f\\u00fcr Suchmaschinenoptimierung\"],[\"Softwareanalytiker/Softwareanalytikerin\"],[\"User Experience Analyst\"],[\"Enterprise Architecture Manager/Enterprise Architecture Managerin\"],[\"Embedded System Designer/Embedded System Designerin\"],[\"IT-Sicherheitsadministrator/IT-Sicherheitsadministratorin\"],[\"IT-Kapazit\\u00e4tsplaner/IT-Kapazit\\u00e4tsplanerin\"],[\"IT-Netzwerkingenieur/IT-Netzwerkingenieurin\"],[\"Entwickler intelligenter IT-Systeme/Entwicklerin intelligenter IT-Systeme\"],[\"IT-Systementwickler/IT-Systementwicklerin\"],[\"IT-Anwendungskonfigurator/IT-Anwendungskonfiguratorin\"],[\"Datenanalytiker/Datenanalytikerin\"],[\"Web-Designer/Web-Designerin\"],[\"IT-Netzwerkarchitekt/IT-Netzwerkarchitektin\"],[\"IT-Systemarchitekt/IT-Systemarchitektin\"],[\"Leiter Businessanalyse (IKT)/Leiterin Businessanalyse (IKT)\"],[\"Softwareentwickler Industrielle Mobilger\\u00e4te/Softwareentwicklerin Industrielle Mobilger\\u00e4te\"],[\"IT-Pr\\u00fcfer/IT-Pr\\u00fcferin\"],[\"Multimedia-Designer/Multimedia-Designerin\"],[\"Green-IT-Berater/Green-IT-Beraterin\"],[\"Datenwissenschaftler/Datenwissenschaftlerin\"],[\"IT-Systemadministrator/IT-Systemadministratorin\"],[\"IT-Forensik-Experte/IT-Forensik-Expertin\"],[\"IKT-Sicherheitsberater/IKT-Sicherheitsberaterin\"],[\"Wissensingenieur/Wissensingenieurin\"],[\"Experte f\\u00fcr Datenintegration/Expertin f\\u00fcr Datenintegration\"],[\"IT-Notfallmanager/IT-Notfallmanagerin\"],[\"ethischer Hacker/ethische Hackerin\"],[\"Datenbankentwickler/Datenbankentwicklerin\"],[\"Data-Warehouse-Entwickler/Data-Warehouse-Entwicklerin\"],[\"Datenbankdesigner/Datenbankdesignerin\"],[\"Tiertherapeut/Tiertherapeutin\"],[\"Akademischer Krankenpfleger/Akademische Krankenschwester\"],[\"Tierosteopath/Tierosteopathin\"],[\"Sprachtherapeut/Sprachtherapeutin\"],[\"Krankenpfleger Allgemeine Krankenpflege/Krankenschwester Allgemeine Krankenpflege\"],[\"Fachphysiotherapeut/Fachphysiotherapeutin\"],[\"Arzt f\\u00fcr Allgemeinmedizin/\\u00c4rztin f\\u00fcr Allgemeinmedizin\"],[\"Fachchiropraktiker/Fachchiropraktikerin\"],[\"Ergotherapeut/Ergotherapeutin\"],[\"Apotheker/Apothekerin\"],[\"Fachkrankenpfleger/Fachkrankenschwester\"],[\"Amtstierarzt/Amtstier\\u00e4rztin\"],[\"Aktivierungstherapeut/Aktivierungstherapeutin\"],[\"Tierphysiotherapeut/Tierphysiotherapeutin\"],[\"Strahlenschutzbeauftragter/Strahlenschutzbeauftragte\"],[\"Facharzt/Fach\\u00e4rztin\"],[\"Arbeitsschutzbeauftragter/Arbeitsschutzbeauftragte\"],[\"Di\\u00e4tologe/Di\\u00e4tologin\"],[\"Therapeut Komplement\\u00e4rmedizin/Therapeutin Komplement\\u00e4rmedizin\"],[\"Chiropraktiker/Chiropraktikerin\"],[\"Aromatherapeut/Aromatherapeutin\"],[\"Ergotherapieassistent/Ergotherapieassistentin\"],[\"Datenbankadministrator/Datenbankadministratorin\"],[\"R\\u00f6ntgentechniker/R\\u00f6ntgentechnikerin\"],[\"Podologieassistent/Podologieassistentin\"],[\"Kinesiologe/Kinesiologin\"],[\"Physiotherapeut/Physiotherapeutin\"],[\"Allgemeintierarzt/Allgemeintier\\u00e4rztin\"],[\"Hebamme/Entbindungspfleger\"],[\"Fachkraft Lebensmittelsicherheit\"],[\"Podologe/Podologin\"],[\"Referent f\\u00fcr Regionalentwicklung/Referentin f\\u00fcr Regionalentwicklung\"],[\"Referent f\\u00fcr Kultur/Referentin f\\u00fcr Kultur\"],[\"Referent f\\u00fcr Au\\u00dfenpolitik/Referentin f\\u00fcr Au\\u00dfenpolitik\"],[\"Referent f\\u00fcr Steuerpolitik/Referentin f\\u00fcr Steuerpolitik\"],[\"Referent f\\u00fcr Agrarpolitik/Referentin f\\u00fcr Agrarpolitik\"],[\"Tierchiropraktiker/Tierchiropraktikerin\"],[\"Angeh\\u00f6riger der mit der Gesundheit von Wassertieren befassten Berufe/Angeh\\u00f6rige der mit der Gesundheit von Wassertieren befassten Berufe\"],[\"Fachtierarzt/Fachtier\\u00e4rztin\"],[\"Referent f\\u00fcr Sozialfragen/Referentin f\\u00fcr Sozialfragen\"],[\"Referent f\\u00fcr Rechtsfragen/Referentin f\\u00fcr Rechtsfragen\"],[\"Referent f\\u00fcr Umweltpolitik/Referentin f\\u00fcr Umweltpolitik\"],[\"Assistent im Bereich Investmentfondsmanagement/Assistentin im Bereich Investmentfondsmanagement\"],[\"Finanzhilfenmanager/Finanzhilfenmanagerin\"],[\"Wahlkampfhelfer/Wahlkampfhelferin\"],[\"Auditleiter/Auditleiterin\"],[\"Online-Marketingspezialist/Online-Marketingspezialistin\"],[\"Investor-Relations-Manager/Investor-Relations-Managerin\"],[\"Rating-Analyst im Versicherungsbereich/Rating-Analystin im Versicherungsbereich\"],[\"Steuerberater/Steuerberaterin\"],[\"Fachkraft technischer Vertrieb von B\\u00fcromaschinen und B\\u00fcroausstattung\"],[\"Fachkraft technischer Vertrieb von Bauelementen aus Metall, Sanit\\u00e4r- und Heizger\\u00e4ten\"],[\"Referent f\\u00fcr Arbeitsmarktpolitik/Referentin f\\u00fcr Arbeitsmarktpolitik\"],[\"Anlage- und Verm\\u00f6gensberater f\\u00fcr Gesch\\u00e4ftskunden/Anlage- und Verm\\u00f6gensberaterin f\\u00fcr Gesch\\u00e4ftskunden\"],[\"Referent f\\u00fcr Public Health/Referentin f\\u00fcr Public Health\"],[\"Pr\\u00fcfer im Bereich Finanzbetrug/Pr\\u00fcferin im Bereich Finanzbetrug\"],[\"Haushaltsanalyst/Haushaltsanalystin\"],[\"Kundenbeziehungsmanager/Kundenbeziehungsmanagerin\"],[\"Investmentmanager/Investmentmanagerin\"],[\"Referent f\\u00fcr Wettbewerbspolitik/Referentin f\\u00fcr Wettbewerbspolitik\"],[\"Mediaplaner/Mediaplanerin\"],[\"Finanzauditor/Finanzauditorin\"],[\"Dividendenanalyst/Dividendenanalystin\"],[\"Fachkraft technischer Vertrieb von Chemikalien\"],[\"Insolvenzverwalter/Insolvenzverwalterin\"],[\"Fachkraft technischer Vertrieb Maschinen- und Anlagenbau\"],[\"Finanzreferent in der \\u00f6ffentlichen Verwaltung/Finanzreferentin in der \\u00f6ffentlichen Verwaltung\"],[\"Fachkraft technischer Vertrieb von landwirtschaftlichen Maschinen und Ger\\u00e4ten\"],[\"Fachkraft technischer Vertrieb Textilmaschinenindustrie\"],[\"Finanzcontroller/Finanzcontrollerin\"],[\"Buchhaltungsanalyst/Buchhaltungsanalystin\"],[\"Fachkraft technischer Vertrieb von Bergbau- und Baumaschinen\"],[\"Marketingassistent/Marketingassistentin\"],[\"E-Business-Manager/E-Business-Managerin\"],[\"Sprecher/Sprecherin\"],[\"Wissenschaftliche Hilfskraft\"],[\"Wertpapieranalyst/Wertpapieranalystin\"],[\"Investment Analyst/Investment Analystin\"],[\"Hochschullehrkraft f\\u00fcr Bildende Kunst\"],[\"Hochschullehrkraft f\\u00fcr Betriebswirtschaftslehre\"],[\"Hochschullehrkraft f\\u00fcr Raumfahrtforschung\"],[\"Forschungsassistent/Forschungsassistentin\"],[\"Hochschullehrkraft f\\u00fcr Physik\"],[\"Mergers-and-Acquisitions-Analyst/Mergers-and-Acquisitions-Analystin\"],[\"Hochschullehrkraft f\\u00fcr Kommunikationswissenschaften\"],[\"Hochschullehrkraft f\\u00fcr Chemie\"],[\"Hochschullehrkraft f\\u00fcr Anthropologie\"],[\"Hochschullehrkraft f\\u00fcr Mathematik\"],[\"Hochschullehrkraft f\\u00fcr Krankenpflege\"],[\"Hochschullehrkraft f\\u00fcr Journalistik\"],[\"Hochschullehrkraft f\\u00fcr Musik\"],[\"Hochschullehrkraft f\\u00fcr Soziologie\"],[\"Hochschullehrkraft f\\u00fcr Erziehungswissenschaften\"],[\"Hochschullehrkraft f\\u00fcr Geowissenschaften\"],[\"Hochschullehrkraft f\\u00fcr Literaturwissenschaft\"],[\"Hochschullehrkraft f\\u00fcr Medizin\"],[\"Lehrkraft f\\u00fcr Erwachsenenalphabetisierung\"],[\"Hochschullehrkraft f\\u00fcr Rechtswissenschaften\"],[\"Hochschullehrkraft f\\u00fcr Informatik\"],[\"Hochschullehrkraft f\\u00fcr Moderne Sprachen\"],[\"Lehrkraft f\\u00fcr Freie Waldorfschulen\"],[\"Hochschullehrkraft f\\u00fcr Architektur\"],[\"Lehrkraft f\\u00fcr den St\\u00fctzunterricht\"],[\"Hochschullehrkraft f\\u00fcr Wirtschaftswissenschaften\"],[\"Hochschullehrkraft f\\u00fcr Religionswissenschaft\"],[\"Hochschullehrkraft f\\u00fcr Klassische Philologie\"],[\"Hochschullehrkraft f\\u00fcr Lebensmittelwissenschaften\"],[\"Hochschullehrkraft f\\u00fcr Politikwissenschaft\"],[\"Lehrkraft f\\u00fcr Darstellende Kunst im Bereich Theater\"],[\"Hochschullehrkraft f\\u00fcr Sprachwissenschaften\"],[\"Lehrkraft f\\u00fcr Tanz an einer Hochschule f\\u00fcr Darstellende Kunst\"],[\"Hochschullehrkraft f\\u00fcr Ingenieurwesen\"],[\"Hochschullehrkraft f\\u00fcr Veterin\\u00e4rmedizin\"],[\"Hochschullehrkraft f\\u00fcr Zahnmedizin\"],[\"Hochschullehrkraft f\\u00fcr Arch\\u00e4ologie\"],[\"Hochschullehrkraft f\\u00fcr Sozialarbeit\"],[\"Hochschullehrkraft f\\u00fcr Pharmazie\"],[\"Wissenschaftlicher Mitarbeiter/Wissenschaftliche Mitarbeiterin\"],[\"Hochschullehrkraft mit Spezialisierung im Gesundheitsbereich\"],[\"Trainer f\\u00fcr digitale Kompetenz/Trainerin f\\u00fcr digitale Kompetenz\"],[\"Hochschullehrkraft f\\u00fcr Psychologie\"],[\"Hochschullehrkraft f\\u00fcr Philosophie\"],[\"Hochschullehrkraft f\\u00fcr Kunstgeschichte\"],[\"Hochschullehrkraft f\\u00fcr Biologie\"],[\"Hochschullehrkraft f\\u00fcr Geschichte\"],[\"Lehrkraft f\\u00fcr Naturwissenschaften Sekundarstufe\"],[\"IT-Lehrkraft Sekundarstufe\"],[\"Lehrkraft f\\u00fcr Religion Sekundarstufe\"],[\"mobiler Sonderp\\u00e4dagoge/mobile Sonderp\\u00e4dagogin\"],[\"Sonderp\\u00e4dagoge f\\u00fcr Fr\\u00fchf\\u00f6rderung/Sonderp\\u00e4dagogin f\\u00fcr Fr\\u00fchf\\u00f6rderung\"],[\"Lehrkraft f\\u00fcr Philosophie Sekundarstufe\"],[\"Lehrkraft f\\u00fcr Deutsche Sprache und Literatur Sekundarstufe\"],[\"Sonderp\\u00e4dagoge Primarstufe/Sonderp\\u00e4dagogin Primarstufe\"],[\"Sonderp\\u00e4dagoge Sekundarstufe/Sonderp\\u00e4dagogin Sekundarstufe\"],[\"Lehrkraft f\\u00fcr Alte Sprachen Sekundarstufe\"],[\"Lehrkraft f\\u00fcr Geschichte Sekundarstufe\"],[\"Lehrkraft f\\u00fcr Sch\\u00f6nheitspflege\"],[\"Lehrkraft f\\u00fcr Gestaltendes Spiel Sekundarstufe\"],[\"Lehrkraft f\\u00fcr Physik Sekundarstufe\"],[\"Lehrkraft f\\u00fcr Elektronik und Automation\"],[\"Lehrkraft f\\u00fcr Angewandte Kunst\"],[\"Lehrkraft im Bereich Gastronomie\"],[\"Lehrkraft f\\u00fcr Biologie Sekundarstufe\"],[\"Lehrkraft f\\u00fcr wirtschaftskundliche F\\u00e4cher Sekundarstufe\"],[\"Sozialarbeitswissenschaftler/Sozialarbeitswissenschaftlerin\"],[\"Ausbilder f\\u00fcr Schienenfahrzeuglenker/Ausbilderin f\\u00fcr Schienenfahrzeuglenker\"],[\"Facherzieher f\\u00fcr Tourismus/Facherzieherin f\\u00fcr Tourismus\"],[\"Ausbildungsoffizier der regul\\u00e4ren Streitkr\\u00e4fte/Ausbildungsoffizierin der regul\\u00e4ren Streitkr\\u00e4fte\"],[\"Ausbilder f\\u00fcr Sportinstruktoren/Ausbilderin f\\u00fcr Sportinstruktoren\"],[\"Lehrkraft f\\u00fcr Sport Sekundarstufe\"],[\"Medienwissenschaftler/Medienwissenschaftlerin\"],[\"Ausbilder im Bereich Transporttechnologie/Ausbilderin im Bereich Transporttechnologie\"],[\"Lehrkraft f\\u00fcr industriell gefertigte Kunst\"],[\"Feuerwehrausbilder/Feuerwehrausbilderin\"],[\"Kommunikationswissenschaftler/Kommunikationswissenschaftlerin\"],[\"Lehrkraft f\\u00fcr Mathematik Sekundarstufe\"],[\"Lehrkraft f\\u00fcr Friseurwesen\"],[\"Lehrkraft im Bereich Luftverkehr\"],[\"Kunsterzieher Sekundarstufe/Kunsterzieherin Sekundarstufe\"],[\"Lehrkraft f\\u00fcr Musik Sekundarstufe\"],[\"Ausbilder f\\u00fcr Flugbegleiter/Ausbilderin f\\u00fcr Flugbegleiter\"],[\"Genealoge/Genealogin\"],[\"Lehrkraft f\\u00fcr Wirtschaft und Marketing\"],[\"Lehrkraft f\\u00fcr Krankenpflege- und Geburtshilfekr\\u00e4fte\"],[\"Lehrkraft f\\u00fcr Erdkunde/Geografie Sekundarstufe\"],[\"Lehrkraft f\\u00fcr medizinische Labortechnik\"],[\"Ausbilder bei der Polizei/Ausbilderin bei der Polizei\"],[\"Lehrkraft f\\u00fcr Chemie Sekundarstufe\"],[\"Lehrkraft f\\u00fcr Elektrotechnik und Energietechnik\"],[\"Lehrkraft im Bereich Landwirtschaft, Forstwirtschaft und Fischerei\"],[\"Lehrkraft im Bereich Schifffahrt\"],[\"Lehrkraft f\\u00fcr Lebende Sprachen Sekundarstufe\"],[\"Lehrkraft im Bereich Hotel- und Gastgewerbe\"],[\"Lehrkraft f\\u00fcr Betriebswirtschaftslehre\"],[\"Teamleiter im Bereich Sozialarbeit/Teamleiterin im Bereich Sozialarbeit\"],[\"Sozialarbeiter f\\u00fcr jugendliche Straft\\u00e4ter/Sozialarbeiterin f\\u00fcr jugendliche Straft\\u00e4ter\"],[\"Analytiker Steuerpolitik/Analytikerin Steuerpolitik\"],[\"Krankenhaussozialarbeiter/Krankenhaussozialarbeiterin\"],[\"Wirtschaftsberater/Wirtschaftsberaterin\"],[\"Sozialf\\u00fcrsorger/Sozialf\\u00fcrsorgerin\"],[\"Koordinator Wirtschaftsentwicklung/Koordinatorin Wirtschaftsentwicklung\"],[\"Berater im Bereich Sozialarbeit/Beraterin im Bereich Sozialarbeit\"],[\"Betriebswirtschaftsforscher/Betriebswirtschaftsforscherin\"],[\"Klinischer Sozialarbeiter/Klinische Sozialarbeiterin\"],[\"Bew\\u00e4hrungshelfer/Bew\\u00e4hrungshelferin\"],[\"Redenschreiber/Redenschreiberin\"],[\"Trauerberater/Trauerberaterin\"],[\"Sozialarbeiter im Bereich Kinder- und Jugendhilfe/Sozialarbeiterin im Bereich Kinder- und Jugendhilfe\"],[\"Sozialarbeiter im Bereich Suchtmittelmissbrauch/Sozialarbeiterin im Bereich Suchtmittelmissbrauch\"],[\"Sozialarbeiter im Bereich Gemeinwesenarbeit/Sozialarbeiterin im Bereich Gemeinwesenarbeit\"],[\"Textdichter/Textdichterin\"],[\"Sozialarbeiter im Bereich Palliativversorgung/Sozialarbeiterin im Bereich Palliativversorgung\"],[\"Schulsozialarbeiter/Schulsozialarbeiterin\"],[\"Rechts- und Sprachsachverst\\u00e4ndiger/Rechts- und Sprachsachverst\\u00e4ndige\"],[\"Psychotherapeut/Psychotherapeutin\"],[\"Sozialarbeiter f\\u00fcr gesellschaftliche Randgruppen/Sozialarbeiterin f\\u00fcr gesellschaftliche Randgruppen\"],[\"Gesundheitspsychologe/Gesundheitspsychologin\"],[\"Sozialarbeiter im Bereich Straff\\u00e4lligenhilfe/Sozialarbeiterin im Bereich Straff\\u00e4lligenhilfe\"],[\"Gerichtsreporter/Gerichtsreporterin\"],[\"Unterhaltungsjournalist/Unterhaltungsjournalistin\"],[\"Ehe- und Familienberater/Ehe- und Familienberaterin\"],[\"Verantwortlicher Betriebliche Sozialarbeit/Verantwortliche Betriebliche Sozialarbeit\"],[\"Koordinator im Bereich der ambulanten Pflege und Betreuung/Koordinatorin im Bereich der ambulanten Pflege und Betreuung\"],[\"Berater f\\u00fcr berufliche Integration/Beraterin f\\u00fcr berufliche Integration\"],[\"Zeitungsredakteur/Zeitungsredakteurin\"],[\"Klinischer Psychologe/Klinische Psychologin\"],[\"Sozialarbeiter im Bereich Rehabilitation/Sozialarbeiterin im Bereich Rehabilitation\"],[\"Sozialarbeiter beim Milit\\u00e4r/Sozialarbeiterin beim Milit\\u00e4r\"],[\"Opferbetreuer/Opferbetreuerin\"],[\"Obdachlosenbetreuer/Obdachlosenbetreuerin\"],[\"Sozialarbeiter im Bereich Psychische Gesundheit/Sozialarbeiterin im Bereich Psychische Gesundheit\"],[\"Erziehungspsychologe/Erziehungspsychologin\"],[\"Sozialarbeiter im Bereich Migration/Sozialarbeiterin im Bereich Migration\"],[\"Technischer Redakteur/Technische Redakteurin\"],[\"Sozialarbeiter im Bereich Altenhilfe/Sozialarbeiterin im Bereich Altenhilfe\"],[\"Jugendarbeiter/Jugendarbeiterin\"],[\"Sozialarbeiter im Bereich Familienhilfe/Sozialarbeiterin im Bereich Familienhilfe\"],[\"Sozialarbeiter im Bereich Krisenintervention/Sozialarbeiterin im Bereich in Krisenintervention\"],[\"Texter von Untertiteln/Texterin von Untertiteln\"],[\"Lokalisierer/Lokalisiererin\"],[\"Sucht- und Drogenberater/Sucht- und Drogenberaterin\"],[\"Drehbuchautor/Drehbuchautorin\"],[\"Familienplanungsberater/Familienplanungsberaterin\"],[\"Berater bei sexueller Gewalt/Beraterin bei sexueller Gewalt\"],[\"Vlogger/Vloggerin\"],[\"Faktenpr\\u00fcfer/Faktenpr\\u00fcferin\"],[\"Kritiker/Kritikerin\"],[\"Auslandskorrespondent/Auslandskorrespondentin\"],[\"Politikjournalist/Politikjournalistin\"],[\"Sportjournalist/Sportjournalistin\"],[\"Nachrichtenredakteur/Nachrichtenredakteurin\"],[\"Bildredakteur/Bildredakteurin\"],[\"Zeitschriftenredakteur/Zeitschriftenredakteurin\"],[\"Chefredakteur/Chefredakteurin\"],[\"Film- und Fernsehproduzent/Film- und Fernsehproduzentin\"],[\"Puppenspieler/Puppenspielerin\"],[\"Technischer Leiter f\\u00fcr B\\u00fchne, Film und Fernsehen/Technische Leiterin f\\u00fcr B\\u00fchne, Film und Fernsehen\"],[\"Musikarrangeur/Musikarrangeurin\"],[\"S\\u00e4nger/S\\u00e4ngerin\"],[\"Staatsanwalt/Staatsanw\\u00e4ltin\"],[\"Lektor/Lektorin\"],[\"Musikproduzent/Musikproduzentin\"],[\"Produktionsdesigner/Produktionsdesignerin\"],[\"Firmenanwalt/Firmenanw\\u00e4ltin\"],[\"Regisseur/Regisseurin\"],[\"Blog-Journalist/Blog-Journalistin\"],[\"Stra\\u00dfenk\\u00fcnstler/Stra\\u00dfenk\\u00fcnstlerin\"],[\"Zirkusartist/Zirkusartistin\"],[\"Kameramann/Kamerafrau\"],[\"Biologe im Bereich Aquakultur/Biologin im Bereich Aquakultur\"],[\"Mikrobiologe/Mikrobiologin\"],[\"Botaniker/Botanikerin\"],[\"Biometriker/Biometrikerin\"],[\"Wirtschaftsjournalist/Wirtschaftsjournalistin\"],[\"Wissenschaftlicher Experte Biomedizinische Forschung/Wissenschaftliche Expertin Biomedizinische Forschung\"],[\"Voice-Over-Sprecher/Voice-Over-Sprecherin\"],[\"Stand-up-Komiker/Stand-up-Komikerin\"],[\"Biophysiker/Biophysikerin\"],[\"Casting Director\"],[\"Film- und Fernsehregisseur/Film- und Fernsehregisseurin\"],[\"Biochemiker/Biochemikerin\"],[\"Dirigent/Dirigentin\"],[\"Tanzrepetitor/Tanzrepetitorin\"],[\"Choreologe/Choreologin\"],[\"Diskjockey\"],[\"Vari\\u00e9t\\u00e9k\\u00fcnstler/Vari\\u00e9t\\u00e9k\\u00fcnstlerin\"],[\"Animationsregisseur/Animationsregisseurin\"],[\"Beleuchtungsregisseur/Beleuchtungsregisseurin\"],[\"Epidemiologe/Epidemiologin\"],[\"Pflanzenexperte/Pflanzenexpertin\"],[\"Richter am Obersten Gerichtshof/Richterin am Obersten Gerichtshof\"],[\"Kolumnist/Koloumnistin\"],[\"Toxikologe/Toxikologin\"],[\"Genetiker/Genetikerin\"],[\"Physiologe/Physiologin\"],[\"Ingenieur Optoelektronik/Ingenieurin Optoelektronik\"],[\"Experte Biomedizinische Wissenschaften/Expertin Biomedizinische Wissenschaften\"],[\"Ingenieur Medizintechnik/Ingenieurin Medizintechnik\"],[\"Ingenieur Computer-Hardware/Ingenieurin Computer-Hardware\"],[\"Telekommunikationsanalyst/Telekommunikationsanalystin\"],[\"Ingenieur Oberfl\\u00e4chentechnik/Ingenieurin Oberfl\\u00e4chentechnik\"],[\"Ingenieur Papiertechnik und -produktion/Ingenieurin Papiertechnik und -produktion\"],[\"Planungsingenieur Flughafen/Planungsingenieurin Flughafen\"],[\"Ingenieur Energieverteilung/Ingenieurin Energieverteilung\"],[\"Apfelweinmeister/Apfelweinmeisterin\"],[\"Ingenieur Geotechnik und Bergbau/Ingenieurin Geotechnik und Bergbau\"],[\"Flugtest-Ingenieur/Flugtest-Ingenieurin\"],[\"Ingenieur Satellitentechnik/Ingenieurin Satellitentechnik\"],[\"Sprachdatenverarbeiter/Sprachdatenverarbeiterin\"],[\"Ingenieur Sensortechnik/Ingenieurin Sensortechnik\"],[\"Ingenieur Pharmatechnik/Ingenieurin Pharmatechnik\"],[\"Braumeister/Braumeisterin\"],[\"Ingenieur Elektromagnetik/Ingenieurin Elektromagnetik\"],[\"Ingenieur Pipelinetechnik/Ingenieurin Pipelinetechnik\"],[\"Projektingenieur Bahn/Projektingenieurin Bahn\"],[\"Ingenieur Mikrosystemtechnik/Ingenieurin Mikrosystemtechnik\"],[\"Bauingenieur Geb\\u00e4udetechnik/Bauingenieurin Geb\\u00e4udetechnik\"],[\"Ingenieurgeologe/Ingenieurgeologin\"],[\"Ingenieur Chemietechnik/Ingenieurin Chemietechnik\"],[\"Wasserkraftingenieur/Wasserkraftingenieurin\"],[\"Fertigungsingenieur/Fertigungsingenieurin\"],[\"Produktionsingenieur/Produktionsingenieurin\"],[\"\\u00d6nologe/\\u00d6nologin\"],[\"Ingenieur Biochemietechnik/Ingenieurin Biochemietechnik\"],[\"Ingenieur Elektromechanik/Ingenieurin Elektromechanik\"],[\"Ingenieur Abwasserwirtschaft/Ingenieurin Abwasserwirtschaft\"],[\"Lebensmitteltechnologe/Lebensmitteltechnologin\"],[\"Ingenieur Umspannwerk/Ingenieurin Umspannwerk\"],[\"Ingenieur Messtechnik/Ingenieurin Messtechnik\"],[\"Ingenieur Stromerzeugung/Ingenieurin Stromerzeugung\"],[\"Ingenieur Gasf\\u00f6rderung/Ingenieurin Gasf\\u00f6rderung\"],[\"Bew\\u00e4sserungs- und Drainageingenieur/Bew\\u00e4sserungs- und Drainageingenieurin\"],[\"Ingenieur Wasserwirtschaft/Ingenieurin Wasserwirtschaft\"],[\"Ingenieur Mikroelektronik/Ingenieurin Mikroelektronik\"],[\"Ingenieur Gasverteilung/Ingenieurin Gasverteilung\"],[\"Ingenieur Erneuerbare Energien/Ingenieurin Erneuerbare Energien\"],[\"Ingenieur Solartechnik/Ingenieurin Solartechnik\"],[\"Nuklearingenieur/Nuklearingenieurin\"],[\"Ingenieur W\\u00e4rmetechnik/Ingenieurin W\\u00e4rmetechnik\"],[\"Ingenieur Energiesysteme/Ingenieurin Energiesysteme\"],[\"Ingenieur Photonik/Ingenieurin Photonik\"],[\"Qualit\\u00e4tspr\\u00fcfer Arzneimittel/Qualit\\u00e4tspr\\u00fcferin Arzneimittel\"],[\"Therapeut Traditionelle Chinesische Medizin/Therapeutin Traditionelle Chinesische Medizin\"],[\"Spieletester/Spieletesterin\"],[\"Analytiker Bohrsp\\u00fclung/Analytikerin Bohrsp\\u00fclung\"],[\"Ozeanograf/Ozeanografin\"],[\"Hom\\u00f6opath/Hom\\u00f6opathin\"],[\"3D-Animationstechniker/3D-Animationstechnikerin\"],[\"Geologe im Bereich Montangeologie/Geologin im Bereich Montangeologie\"],[\"Hydrogeologe/Hydrogeologin\"],[\"Textilchemiker/Textilchemikerin\"],[\"Explorationsgeologe/Explorationsgeologin\"],[\"IT-Accessibility-Pr\\u00fcfer/IT-Accessibility-Pr\\u00fcferin\"],[\"Analytischer Chemiker/Analytische Chemikerin\"],[\"Applikationsspezialist Chemie/Applikationsspezialistin Chemie\"],[\"Softwareentwickler f\\u00fcr Embedded Systems/Softwareentwicklerin f\\u00fcr Embedded Systems\"],[\"Medizinisch-technischer Assistent Nuklearmedizin/Medizinisch-technische Assistentin Nuklearmedizin\"],[\"Ern\\u00e4hrungsberater Fertiggerichte/Ern\\u00e4hrungsberaterin Fertiggerichte\"],[\"Hydrologe/Hydrologin\"],[\"IT-Integrationstester/IT-Integrationstesterin\"],[\"IT-Usability-Engineer\"],[\"App-Entwickler/App-Entwicklerin\"],[\"Fachapotheker/Fachapothekerin\"],[\"Systemkonfigurator/Systemkonfiguratorin\"],[\"IT-Netzwerk-Administrator/IT-Netzwerk-Administratorin\"],[\"Duftchemiker/Duftchemikerin\"],[\"Akupunkteur/Akupunkteurin\"],[\"Kosmetikchemiker/Kosmetikchemikerin\"],[\"Seismologe/Seismologin\"],[\"Geochemiker/Geochemikerin\"],[\"Umweltgeologe/Umweltgeologin\"],[\"Stoffpr\\u00fcfer Chemie/Stoffpr\\u00fcferin Chemie\"],[\"Pal\\u00e4ontologe/Pal\\u00e4ontologin\"],[\"Klimatologe/Klimatologin\"],[\"Tierhydrotherapeut/Tierhydrotherapeutin\"],[\"Chorleiter/Chorleiterin\"],[\"Fachassistent Strahlentherapie/Fachassistentin Strahlentherapie\"],[\"Kunsttherapeut/Kunsttherapeutin\"],[\"Medizinisch-technischer Assistent f\\u00fcr radiologische Diagnostik/Medizinisch-technische Assistentin f\\u00fcr radiologische Diagnostik\"],[\"Fachkraft in der tiergest\\u00fctzten Therapie\"],[\"Tiermassagetherapeut/Tiermassagetherapeutin\"],[\"Tanztherapeut/Tanztherapeutin\"],[\"Musiktherapeut/Musiktherapeutin\"],[\"Lederwarendesigner/Lederwarendesignerin\"],[\"Automatisierungsingenieur/Automatisierungsingenieurin\"],[\"Entwicklungsingenieur f\\u00fcr landwirtschaftliche Ausr\\u00fcstung/Entwicklungsingenieurin f\\u00fcr landwirtschaftliche Ausr\\u00fcstung\"],[\"Gartenkurator/Gartenkuratorin\"],[\"Lebensmittelproduktionstechniker/Lebensmittelproduktionstechnikerin\"],[\"IC-Designer/IC-Designerin\"],[\"Industrie-Pharmazeut/Industrie-Pharmazeutin\"],[\"Ingenieur Aerodynamik/Ingenieurin Aerodynamik\"],[\"Krankenhausapotheker/Krankenhausapothekerin\"],[\"Compliance-Ingenieur/Compliance-Ingenieurin\"],[\"Modedesigner Bekleidung/Modedesignerin Bekleidung\"],[\"Schuhdesigner/Schuhdesignerin\"],[\"Beauftragter f\\u00fcr die soziale Verantwortung der Unternehmen/Beauftragte f\\u00fcr die soziale Verantwortung der Unternehmen\"],[\"Abgeordneter/Abgeordnete\"],[\"Leiter des operativen Gesch\\u00e4ftsbereichs/Leiterin des operativen Gesch\\u00e4ftsbereichs\"],[\"Konsul/Konsulin\"],[\"Leiter der \\u00f6ffentlichen Arbeitsverwaltung/Leiterin der \\u00f6ffentlichen Arbeitsverwaltung\"],[\"Qualit\\u00e4tsmanager/Qualit\\u00e4tsmanagerin\"],[\"Brandinspektor/Brandinspektorin\"],[\"B\\u00fcrgermeister/B\\u00fcrgermeisterin\"],[\"Polizeipr\\u00e4sident/Polizeipr\\u00e4sidentin\"],[\"Generalsekret\\u00e4r/Generalsekret\\u00e4rin\"],[\"Bundesratsmitglied\"],[\"Regierungsmitglied\"],[\"Leiter im \\u00f6ffentlichen Dienst/Leiterin im \\u00f6ffentlichen Dienst\"],[\"Zentralbankgouverneur/Zentralbankgouverneurin\"],[\"Landrat/Landr\\u00e4tin\"],[\"Diplomat/Diplomatin\"],[\"Verwaltungsangestellter im Bereich Verteidigung/Verwaltungsangestellte im Bereich Verteidigung\"],[\"Vertreter von Interessengruppen/Vertreterin von Interessengruppen\"],[\"F\\u00fchrungskraft f\\u00fcr Unternehmensdienstleistungen\"],[\"Gesch\\u00e4ftsf\\u00fchrer/Gesch\\u00e4ftsf\\u00fchrerin\"],[\"Staatssekret\\u00e4r/Staatssekret\\u00e4rin\"],[\"Projektmanager/Projektmanagerin\"],[\"Verwalter von Produktionsgeb\\u00e4uden/Verwalterin von Produktionsgeb\\u00e4uden\"],[\"Manager/Managerin\"],[\"Leiter einer Tierhaltungseinrichtung/Leiterin einer Tierhaltungseinrichtung\"],[\"Abteilungsleiter/Abteilungsleiterin\"],[\"Stadtverordneter/Stadtverordnete\"],[\"F\\u00fchrungskraft im Personalwesen\"],[\"Forschungs- und Entwicklungsleiter/Forschungs- und Entwicklungsleiterin\"],[\"Finanzmanager/Finanzmanagerin\"],[\"F\\u00fchrungskraft im Bereich der Unternehmenspolitik\"],[\"Programmmanager/Programmmanagerin\"],[\"Direktor f\\u00fcr Richtlinien und Informationssicherheit beim Gl\\u00fccksspiel/Direktorin f\\u00fcr Richtlinien und Informationssicherheit beim Gl\\u00fccksspiel\"],[\"Produktleiter/Produktleiterin\"],[\"F\\u00fchrungskraft in der Industrieproduktion\"],[\"F\\u00fchrungskraft in der \\u00d6l- und Gasf\\u00f6rderung\"],[\"F\\u00fchrungskraft f\\u00fcr intermodale Logistik\"],[\"Vertriebsleiter/Vertriebsleiterin\"],[\"Werbefachmann/Werbefachfrau\"],[\"Beauftragter f\\u00fcr die soziale Sicherheit/Beauftragte f\\u00fcr die soziale Sicherheit\"],[\"Versicherungsmanager/Versicherungsmanagerin\"],[\"Bankangestellter/Bankangestellte\"],[\"Baugeneralunternehmer/Baugeneralunternehmerin\"],[\"Werbeleiter/Werbeleiterin\"],[\"Leiter der Buchhaltung/Leiterin der Buchhaltung\"],[\"Import-/Exportmanager/Import-/Exportmanagerin\"],[\"F\\u00fchrungskraft f\\u00fcr Unternehmensplanung\"],[\"F\\u00fchrungskraft f\\u00fcr Marketing\"],[\"Produktentwicklungsmanager/Produktentwicklungsmanagerin\"],[\"Betriebsleiter/Betriebsleiterin\"],[\"Abfallbeauftragter/Abfallbeauftragte\"],[\"Public-Relations-Manager/Public-Relations-Managerin\"],[\"F\\u00fchrungskraft in der Bergwerksproduktion\"],[\"F\\u00fchrungskraft f\\u00fcr Tourismus\"],[\"Qualit\\u00e4tsbeauftragter in der Industrie/Qualit\\u00e4tsbeauftragte in der Industrie\"],[\"F\\u00fchrungskraft im Geb\\u00e4udemanagement\"],[\"Kraftwerksmeister/Kraftwerksmeisterin\"],[\"Beauftragter f\\u00fcr Gleichstellung und Inklusion/Beauftragte f\\u00fcr Gleichstellung und Inklusion\"],[\"Forschungsleiter/Forschungsleiterin\"],[\"Informations- und Wissensmanager/Informations- und Wissensmanagerin (IKT)\"],[\"F\\u00fchrungskraft f\\u00fcr das Kanalisationssystem\"],[\"Schatzmeister/Schatzmeisterin\"],[\"Bauunternehmer/Bauunternehmerin\"],[\"Leiter eines B\\u00fcros f\\u00fcr Rechtsdienstleistungen/Leiterin eines B\\u00fcros f\\u00fcr Rechtsdienstleistungen\"],[\"Budgetverantwortlicher/Budgetverantwortliche\"],[\"Destinationsmanager/Destinationsmanagerin\"],[\"F\\u00fchrungskraft in der Lagerwirtschaft\"],[\"Sicherheitsbeauftragte/Sicherheitsbeauftragter\"],[\"Direktor eines Jugendprogramms/Direktorin eines Jugendprogramms\"],[\"Anwendungsmanager/Anwendungsmanagerin\"],[\"Fakult\\u00e4tsdekan/Fakult\\u00e4tsdekanin\"],[\"Institutsleiter/Institutsleiterin\"],[\"Leiter einer Erwachsenenbildungseinrichtung/Leiterin einer Erwachsenenbildungseinrichtung\"],[\"Fachleiter an einer Sekundarschule/Fachleiterin an einer Sekundarschule\"],[\"Leiter einer h\\u00f6heren Lehranstalt/Leiterin einer h\\u00f6heren Lehranstalt\"],[\"stellvertretender Schulleiter/stellvertretende Schulleiterin\"],[\"Leiter einer Sekundarschule/Leiterin einer Sekundarschule\"],[\"Grundschulleiter/Grundschulleiterin\"],[\"Jugendzentrumsleiter/Jugendzentrumsleiterin\"],[\"Koordinator von Bildungsprogrammen/Koordinatorin von Bildungsprogrammen\"],[\"Leiter eines Gesch\\u00e4ftes f\\u00fcr Kraftfahrzeuge/Leiterin eines Gesch\\u00e4ftes f\\u00fcr Kraftfahrzeuge\"],[\"Leiter eines Tier- und Tierfuttergesch\\u00e4ftes/Leiterin eines Tier- und Tierfuttergesch\\u00e4ftes\"],[\"Leiter eines Gesch\\u00e4ftes f\\u00fcr medizinische Erzeugnisse/Leiterin eines Gesch\\u00e4ftes f\\u00fcr medizinische Erzeugnisse\"],[\"Leiter eines Baumarktes/Leiterin eines Baumarktes\"],[\"Leiter eines Tabakgesch\\u00e4ftes/Leiterin eines Tabakgesch\\u00e4ftes\"],[\"Leiter eines Handwerksladens/Leiterin eines Handwerksladens\"],[\"Leiter eines Spielwaren- und Spielegesch\\u00e4ftes/Leiterin eines Spielwaren- und Spielegesch\\u00e4ftes\"],[\"Tankstellenleiter/Tankstellenleiterin\"],[\"Leiter eines Obst- und Gem\\u00fcsegesch\\u00e4ftes/Leiterin eines Obst- und Gem\\u00fcsegesch\\u00e4ftes\"],[\"Leiter eines Gesch\\u00e4ftes f\\u00fcr Schuhe und Leder-Accessoires/Leiterin eines Gesch\\u00e4ftes f\\u00fcr Schuhe und Leder-Accessoires\"],[\"Leiter eines Bekleidungsgesch\\u00e4ftes/Leiterin eines Bekleidungsgesch\\u00e4ftes\"],[\"Leiter eines Gesch\\u00e4ftes f\\u00fcr Boden- und Wandbel\\u00e4ge/Leiterin eines Gesch\\u00e4ftes f\\u00fcr Boden- und Wandbel\\u00e4ge\"],[\"Leiter eines Kosmetik- und Parf\\u00fcmgesch\\u00e4ftes/Leiterin eines Kosmetik- und Parf\\u00fcmgesch\\u00e4ftes\"],[\"Leiter einer Drogerie oder Apotheke/Leiterin einer Drogerie oder Apotheke\"],[\"Leiter eines Gesch\\u00e4ftes f\\u00fcr Konditorei- und S\\u00fc\\u00dfwaren/Leiterin eines Gesch\\u00e4ftes f\\u00fcr Konditorei- und S\\u00fc\\u00dfwaren\"],[\"Leiter eines Gesch\\u00e4ftes f\\u00fcr Telekommunikationsausr\\u00fcstung/Leiterin eines Gesch\\u00e4ftes f\\u00fcr Telekommunikationsausr\\u00fcstung\"],[\"Leiter eines Fahrradgesch\\u00e4ftes/Leiterin eines Fahrradgesch\\u00e4ftes\"],[\"Leiter eines K\\u00fcchen- und Badezimmergesch\\u00e4ftes/Leiterin eines K\\u00fcchen- und Badezimmergesch\\u00e4ftes\"],[\"Leiter eines Musik- und Videogesch\\u00e4ftes/Leiterin eines Musik- und Videogesch\\u00e4ftes\"],[\"Leiter eines Gebrauchtwarengesch\\u00e4ftes/Leiterin eines Gebrauchtwarengesch\\u00e4ftes\"],[\"Leiter eines Eisenwaren- und Farbengesch\\u00e4ftes/Leiterin eines Eisenwaren- und Farbengesch\\u00e4ftes\"],[\"Leiter einer Buchhandlung/Leiterin einer Buchhandlung\"],[\"Leiter einer F\\u00f6rderschule/Leiterin einer F\\u00f6rderschule\"],[\"Leiter eines Gesch\\u00e4ftes f\\u00fcr Zeitungen, Zeitschriften und B\\u00fcrobedarf/Leiterin eines Gesch\\u00e4ftes f\\u00fcr Zeitungen, Zeitschriften und B\\u00fcrobedarf\"],[\"Leiter eines Gesch\\u00e4ftes f\\u00fcr Fleisch und Fleischerzeugnisse/Leiterin eines Gesch\\u00e4ftes f\\u00fcr Fleisch und Fleischerzeugnisse\"],[\"Leiter eines Antiquit\\u00e4tengesch\\u00e4ftes/Leiterin eines Antiquit\\u00e4tengesch\\u00e4ftes\"],[\"Leiter eines Backwarengesch\\u00e4ftes/Leiterin eines Backwarengesch\\u00e4ftes\"],[\"Leiter eines Sport- und Outdoor-Gesch\\u00e4ftes/Leiterin eines Sport- und Outdoor-Gesch\\u00e4ftes\"],[\"Leiter eines Blumen- und Gartengesch\\u00e4ftes/Leiterin eines Blumen- und Gartengesch\\u00e4ftes\"],[\"Leiter eines M\\u00f6belgesch\\u00e4ftes/Leiterin eines M\\u00f6belgesch\\u00e4ftes\"],[\"Leiter eines Getr\\u00e4nkegesch\\u00e4ftes/Leiterin eines Getr\\u00e4nkegesch\\u00e4ftes\"],[\"Leiter eines Fotogesch\\u00e4ftes/Leiterin eines Fotogesch\\u00e4ftes\"],[\"Leiter eines Textilgesch\\u00e4ftes/Leiterin eines Textilgesch\\u00e4ftes\"],[\"Leiter eines Gesch\\u00e4ftes f\\u00fcr Haushaltsger\\u00e4te/Leiterin eines Gesch\\u00e4ftes f\\u00fcr Haushaltsger\\u00e4te\"],[\"Zookurator/Zookuratorin\"],[\"Leiter eines Wettb\\u00fcros/Leiterin eines Wettb\\u00fcros\"],[\"Lotteriemanager/Lotteriemanagerin\"],[\"Kosmetikermeister/Kosmetikermeisterin\"],[\"Leiter eines Delikatessengesch\\u00e4ftes/Leiterin eines Delikatessengesch\\u00e4ftes\"],[\"Leiter einer Gl\\u00fccksspieleinrichtung/Leiterin einer Gl\\u00fccksspieleinrichtung\"],[\"Import-/Exportmanager f\\u00fcr Parf\\u00fcm und Kosmetika/Import-/Exportmanagerin f\\u00fcr Parf\\u00fcm und Kosmetika\"],[\"Import-/Exportmanager f\\u00fcr Textilmaschinen/Import-/Exportmanagerin f\\u00fcr Textilmaschinen\"],[\"Import-/Exportmanager f\\u00fcr Eisenwaren, Sanit\\u00e4r- und Heizungsanlagen und -zubeh\\u00f6r/Import-/Exportmanagerin f\\u00fcr Eisenwaren, Sanit\\u00e4r- und Heizungsanlagen und -zubeh\\u00f6r\"],[\"Import-/Exportmanager f\\u00fcr landwirtschaftliche Rohstoffe, Saatgut und Tierfutter/Import-/Exportmanagerin f\\u00fcr landwirtschaftliche Rohstoffe, Saatgut und Tierfutter\"],[\"F\\u00fchrungskraft im Vertrieb\"],[\"Veranstaltungsproduktionsleiter/Veranstaltungsproduktionsleiterin\"],[\"Import-/Exportmanager f\\u00fcr elektronische Ger\\u00e4te, Telekommunikationsger\\u00e4te und Teile davon/Import-/Exportmanagerin f\\u00fcr elektronische Ger\\u00e4te, Telekommunikationsger\\u00e4te und Teile davon\"],[\"Spieleentwickler/Spieleentwicklerin\"],[\"Leiter Lederwarenentwicklung/Leiterin Lederwarenentwicklung\"],[\"Import-/Exportmanager f\\u00fcr B\\u00fcrom\\u00f6bel/Import-/Exportmanagerin f\\u00fcr B\\u00fcrom\\u00f6bel\"],[\"Import-/Exportmanager f\\u00fcr B\\u00fcromaschinen und -ger\\u00e4te/Import-/Exportmanagerin f\\u00fcr B\\u00fcromaschinen und -ger\\u00e4te\"],[\"Import-/Exportmanager f\\u00fcr Fleisch- und Fleischerzeugnisse/Import-/Exportmanagerin f\\u00fcr Fleisch- und Fleischerzeugnisse\"],[\"Entwickler von Fu\\u00dfbekleidung/Entwicklerin von Fu\\u00dfbekleidung\"],[\"Import-/Exportmanager f\\u00fcr Werkzeugmaschinen/Import-/Exportmanagerin f\\u00fcr Werkzeugmaschinen\"],[\"Import-/Exportmanager f\\u00fcr M\\u00f6bel, Teppiche und Beleuchtungseinrichtungen/Import-/Exportmanagerin f\\u00fcr M\\u00f6bel, Teppiche und Beleuchtungseinrichtungen\"],[\"IT-Innovationsmanager/IT-Innovationsmanagerin\"],[\"Import-/Exportmanager f\\u00fcr Porzellan und Glaswaren/Import-/Exportmanagerin f\\u00fcr Porzellan und Glaswaren\"],[\"Import-/Exportmanager f\\u00fcr Computer, Peripherieger\\u00e4te und Software/Import-/Exportmanagerin f\\u00fcr Computer, Peripherieger\\u00e4te und Software\"],[\"Import-/Exportmanager f\\u00fcr elektrische Haushaltsger\\u00e4te/Import-/Exportmanagerin f\\u00fcr elektrische Haushaltsger\\u00e4te\"],[\"Import-/Exportmanager f\\u00fcr lebende Tiere/Import-/Exportmanagerin f\\u00fcr lebende Tiere\"],[\"Import-/Exportmanager f\\u00fcr Bau- und Bergbaumaschinen/Import-/Exportmanagerin f\\u00fcr Bau- und Bergbaumaschinen\"],[\"Import-/Exportmanager f\\u00fcr Zucker, Schokolade und S\\u00fc\\u00dfwaren/Import-/Exportmanagerin f\\u00fcr Zucker, Schokolade und S\\u00fc\\u00dfwaren\"],[\"Import-/Exportmanager f\\u00fcr Kaffee, Tee, Kakao und Gew\\u00fcrze/Import-/Exportmanagerin f\\u00fcr Kaffee, Tee, Kakao und Gew\\u00fcrze\"],[\"Kulturdirektor/Kulturdirektorin\"],[\"Bekleidungsentwickler/Bekleidungsentwicklerin\"],[\"Import-/Exportmanager f\\u00fcr Maschinen- und Industrieanlagen, Schiffe und Luftfahrzeuge/Import-/Exportmanagerin f\\u00fcr Maschinen- und Industrieanlagen, Schiffe und Luftfahrzeuge\"],[\"Import-/Exportmanager f\\u00fcr Haushaltswaren/Import-/Exportmanagerin f\\u00fcr Haushaltswaren\"],[\"Import-/Exportmanager f\\u00fcr Milchprodukte und Speise\\u00f6le/Import-/Exportmanagerin f\\u00fcr Milchprodukte und Speise\\u00f6le\"],[\"Import-/Exportmanager f\\u00fcr Obst und Gem\\u00fcse/Import-/Exportmanagerin f\\u00fcr Obst und Gem\\u00fcse\"],[\"Import-/Exportmanager f\\u00fcr Blumen und Pflanzen/Import-/Exportmanagerin f\\u00fcr Blumen und Pflanzen\"],[\"Import-/Exportmanager f\\u00fcr Metalle und Metallerze/Import-/Exportmanagerin f\\u00fcr Metalle und Metallerze\"],[\"Import-/Exportmanager f\\u00fcr Getr\\u00e4nke/Import-/Exportmanagerin f\\u00fcr Getr\\u00e4nke\"],[\"Import-/Exportmanager f\\u00fcr Armbanduhren und Schmuck/Import-/Exportmanagerin f\\u00fcr Armbanduhren und Schmuck\"],[\"Import-/Exportmanager f\\u00fcr M\\u00fcll und Schrott/Import-/Exportmanagerin f\\u00fcr M\\u00fcll und Schrott\"],[\"Import-/Exportmanager f\\u00fcr Landwirtschaftsmaschinen und -ausr\\u00fcstung/Import-/Exportmanagerin f\\u00fcr Landwirtschaftsmaschinen und -ausr\\u00fcstung\"],[\"Import-/Exportmanager f\\u00fcr Textilien und textile Rohstoffe und Halbfertigwaren/Import-/Exportmanagerin f\\u00fcr Textilien und textile Rohstoffe und Halbfertigwaren\"],[\"Import-/Exportmanager f\\u00fcr Felle, H\\u00e4ute und Lederwaren/Import-/Exportmanagerin f\\u00fcr Felle, H\\u00e4ute und Lederwaren\"],[\"Import-/Exportmanager f\\u00fcr Fisch, Krustentiere und Weichtiere/Import-/Exportmanagerin f\\u00fcr Fisch, Krustentiere und Weichtiere\"],[\"Import-/Exportmanager f\\u00fcr pharmazeutische Produkte/Import-/Exportmanagerin f\\u00fcr pharmazeutische Produkte\"],[\"Import-/Exportmanager f\\u00fcr Tabakerzeugnisse/Import-/Exportmanagerin f\\u00fcr Tabakerzeugnisse\"],[\"Import-/Exportmanager f\\u00fcr Holz und Baustoffe/Import-/Exportmanagerin f\\u00fcr Holz und Baustoffe\"],[\"Gesch\\u00e4ftsf\\u00fchrer im Bereich des Binnengew\\u00e4ssertransports/Gesch\\u00e4ftsf\\u00fchrerin im Bereich des Binnengew\\u00e4ssertransports\"],[\"Gesch\\u00e4ftsf\\u00fchrer im Bereich des Seetransports/Gesch\\u00e4ftsf\\u00fchrerin im Bereich des Seetransports\"],[\"Lagerverwalter f\\u00fcr Fertigleder/Lagerverwalterin f\\u00fcr Fertigleder\"],[\"Vertriebsleiter f\\u00fcr Spezialwaren/Vertriebsleiterin f\\u00fcr Spezialwaren\"],[\"Import-/Exportmanager f\\u00fcr Chemieerzeugnisse/Import-/Exportmanagerin f\\u00fcr Chemieerzeugnisse\"],[\"Flottenmanager/Flottenmanagerin\"],[\"Eisenbahnbetriebsleiter/Eisenbahnbetriebsleiterin\"],[\"Import-/Exportmanager f\\u00fcr Bekleidung und Schuhe/Import-/Exportmanagerin f\\u00fcr Bekleidung und Schuhe\"],[\"Betriebsleiter im Stra\\u00dfentransport/Betriebsleiterin im Stra\\u00dfentransport\"],[\"Vertriebsleiter f\\u00fcr Porzellan und Glaswaren/Vertriebsleiterin f\\u00fcr Porzellan und Glaswaren\"],[\"Vertriebsleiter f\\u00fcr M\\u00fcll und Schrott/Vertriebsleiterin f\\u00fcr M\\u00fcll und Schrott\"],[\"Vertriebsleiter f\\u00fcr Fische, Krustentiere und Weichtiere/Vertriebsleiterin f\\u00fcr Fische, Krustentiere und Weichtiere\"],[\"Vertriebsleiter f\\u00fcr pharmazeutische Produkte/Vertriebsleiterin f\\u00fcr pharmazeutische Produkte\"],[\"Vertriebsleiter f\\u00fcr Fleisch und Fleischprodukte/Vertriebsleiterin f\\u00fcr Fleisch und Fleischprodukte\"],[\"Warengruppenmanager/Warengruppenmanagerin\"],[\"Vertriebsleiter f\\u00fcr Zucker, Schokolade und S\\u00fc\\u00dfwaren/Vertriebsleiterin f\\u00fcr Zucker, Schokolade und S\\u00fc\\u00dfwaren\"],[\"Vertriebsleiter f\\u00fcr landwirtschaftliche Rohstoffe, Saatgut und Tierfutter/Vertriebsleiterin f\\u00fcr landwirtschaftliche Rohstoffe, Saatgut und Tierfutter\"],[\"Leiter f\\u00fcr die Lederverarbeitung/Leiterin f\\u00fcr die Lederverarbeitung\"],[\"Vertriebsleiter f\\u00fcr Bergwerks-, Bau- und Baustoffmaschinen/Vertriebsleiterin f\\u00fcr Bergwerks-, Bau- und Baustoffmaschinen\"],[\"Vertriebsleiter f\\u00fcr Felle, H\\u00e4ute und Lederprodukte/Vertriebsleiterin f\\u00fcr Felle, H\\u00e4ute und Lederprodukte\"],[\"Vertriebsleiter f\\u00fcr Holz und Baumaterialien/Vertriebsleiterin f\\u00fcr Holz und Baumaterialien\"],[\"Vertriebsleiter f\\u00fcr Textilindustriemaschinen/Vertriebsleiterin f\\u00fcr Textilindustriemaschinen\"],[\"Vertriebsleiter f\\u00fcr Metalle und Metallerze/Vertriebsleiterin f\\u00fcr Metalle und Metallerze\"],[\"Vertriebsleiter f\\u00fcr Landwirtschaftsmaschinen und -ausr\\u00fcstung/Vertriebsleiterin f\\u00fcr Landwirtschaftsmaschinen und -ausr\\u00fcstung\"],[\"Vertriebsleiter f\\u00fcr elektrische Haushaltsger\\u00e4te/Vertriebsleiterin f\\u00fcr elektrische Haushaltsger\\u00e4te\"],[\"Vertriebsleiter f\\u00fcr Elektronik- und Telekommunikationsger\\u00e4te und -bauteile/Vertriebsleiterin f\\u00fcr Elektronik- und Telekommunikationsger\\u00e4te und -bauteile\"],[\"Lebensmittelproduktionsleiter/Lebensmittelproduktionsleiterin\"],[\"Vertriebsleiter f\\u00fcr Getr\\u00e4nke/Vertriebsleiterin f\\u00fcr Getr\\u00e4nke\"],[\"Vertriebsleiter f\\u00fcr Bekleidung und Schuhe/Vertriebsleiterin f\\u00fcr Bekleidung und Schuhe\"],[\"Kundendienstleiter Kraftfahrzeuge/Kundendienstleiterin Kraftfahrzeuge\"],[\"Vertriebsleiter f\\u00fcr Maschinen, Industrieanlagen, Schiffe und Luftfahrzeuge/Vertriebsleiterin f\\u00fcr Maschinen, Industrieanlagen, Schiffe und Luftfahrzeuge\"],[\"Vertriebsleiter f\\u00fcr Uhren und Schmuck/Vertriebsleiterin f\\u00fcr Uhren und Schmuck\"],[\"Vertriebsleiter f\\u00fcr Textilien, Textilhalbfertigwaren und Textilrohstoffe/Vertriebsleiterin f\\u00fcr Textilien, Textilhalbfertigwaren und Textilrohstoffe\"],[\"Vertriebsleiter f\\u00fcr Kaffee, Tee, Kakao und Gew\\u00fcrze/ Vertriebsleiterin f\\u00fcr Kaffee, Tee, Kakao und Gew\\u00fcrze\"],[\"Leiter in der Schuhindustrie/Leiterin in der Schuhindustrie\"],[\"Einkaufsleiter f\\u00fcr Lederrohstoffe/Einkaufsleiterin f\\u00fcr Lederrohstoffe\"],[\"Vertriebsleiter f\\u00fcr Hausrat/Vertriebsleiterin f\\u00fcr Hausrat\"],[\"Qualit\\u00e4tsbeauftragter f\\u00fcr Lederwaren/Qualit\\u00e4tsbeauftragte f\\u00fcr Lederwaren\"],[\"Online-Vertriebsmanager/Online-Vertriebsmanagerin\"],[\"Vertriebsleiter f\\u00fcr Blumen und Pflanzen/Vertriebsleiterin f\\u00fcr Blumen und Pflanzen\"],[\"Zulassungsmanager/Zulassungsmanagerin\"],[\"Qualit\\u00e4tsbeauftragter in der Textilindustrie/Qualit\\u00e4tsbeauftragte in der Textilindustrie\"],[\"Leiter in der Chemieproduktion/Leiterin in der Chemieproduktion\"],[\"Leiter in der Metallproduktion/Leiterin in der Metallproduktion\"],[\"Leiter in der Metallindustrie/Leiterin in der Metallindustrie\"],[\"Leiter in der Bekleidungsindustrie/Leiterin in der Bekleidungsindustrie\"],[\"Leiter in der Lederproduktion/Leiterin in der Lederproduktion\"],[\"Vertriebsleiter f\\u00fcr Obst und Gem\\u00fcse/Vertriebsleiterin f\\u00fcr Obst und Gem\\u00fcse\"],[\"Vertriebsleiter f\\u00fcr Milchprodukte und Speise\\u00f6le/Vertriebsleiterin f\\u00fcr Milchprodukte und Speise\\u00f6le\"],[\"Vertriebsleiter f\\u00fcr Computer, Computerperipherieger\\u00e4te und Software/Vertriebsleiterin f\\u00fcr Computer, Computerperipherieger\\u00e4te und Software\"],[\"Vertriebsleiter f\\u00fcr Tabakwaren/Vertriebsleiterin f\\u00fcr Tabakwaren\"],[\"Vertriebsleiter f\\u00fcr Chemieerzeugnisse/Vertriebsleiterin f\\u00fcr Chemieerzeugnisse\"],[\"Vertriebsleiter f\\u00fcr Eisenwaren, Sanit\\u00e4r- und Heizungsanlagen/Vertriebsleiterin f\\u00fcr Eisenwaren, Sanit\\u00e4r- und Heizungsanlagen\"],[\"F\\u00fchrungskraft im Bereich der Nassverarbeitung\"],[\"Vertriebsleiter f\\u00fcr lebende Tiere/Vertriebsleiterin f\\u00fcr lebende Tiere\"],[\"Vertriebsleiter f\\u00fcr Parf\\u00fcm und Kosmetika/Vertriebsleiterin f\\u00fcr Parf\\u00fcm und Kosmetika\"],[\"F\\u00fchrungskraft f\\u00fcr die Herstellung von Lederwaren\"],[\"Vertriebsleiter f\\u00fcr M\\u00f6bel, Teppiche und Beleuchtungseinrichtungen/Vertriebsleiterin f\\u00fcr M\\u00f6bel, Teppiche und Beleuchtungseinrichtungen\"],[\"Bauingenieur/Bauingenieurin\"]],\"hovertemplate\":\"x=%{x}<br>y=%{y}<br>jobtitle=%{customdata[0]}<br>cluster=%{marker.color}<extra></extra>\",\"legendgroup\":\"\",\"marker\":{\"color\":[0,1,2,0,3,4,4,5,6,7,6,7,7,7,7,19,7,8,9,10,4,4,11,12,10,9,11,4,4,13,14,4,4,0,4,15,6,10,3,16,4,4,14,4,4,8,4,4,17,0,18,18,7,7,4,4,7,4,4,4,19,8,4,11,4,6,19,4,8,4,13,4,19,20,41,20,6,10,4,4,6,10,7,7,12,12,12,21,12,1,1,1,2,42,13,8,8,26,8,13,7,7,10,4,3,3,3,3,3,22,3,3,16,17,12,32,15,0,22,12,13,13,12,12,23,13,4,13,22,15,12,12,12,12,12,3,12,12,12,12,12,12,12,24,24,24,24,25,25,25,23,25,25,36,22,36,23,21,21,4,21,23,21,12,12,13,12,5,26,6,8,8,6,8,16,8,27,8,8,8,8,8,6,20,8,6,8,6,8,8,20,8,8,8,18,8,2,8,13,8,8,28,6,8,8,8,8,6,8,6,6,4,6,6,8,6,6,6,6,6,6,4,6,11,11,11,4,4,4,4,17,8,13,6,4,8,34,6,4,6,6,11,24,11,11,11,11,11,11,11,11,11,11,4,11,11,11,11,11,11,11,11,10,11,26,9,11,11,10,11,11,10,11,11,10,10,10,11,11,11,29,11,11,11,11,6,11,10,11,11,10,10,24,10,11,9,34,10,10,10,9,9,10,9,10,9,6,6,6,6,6,6,6,6,6,6,6,6,6,6,6,6,6,6,30,6,30,6,30,6,6,6,6,30,6,6,10,6,6,10,6,30,31,6,31,30,6,30,30,6,6,6,6,6,30,30,7,30,7,7,7,7,30,7,6,30,30,6,32,7,7,7,7,11,7,9,26,6,11,30,6,30,6,30,6,26,6,6,6,9,6,6,6,6,6,6,6,6,6,6,4,8,4,4,4,33,4,4,4,4,4,4,6,30,37,6,5,32,4,19,19,6,7,5,6,5,10,32,6,5,5,10,10,10,10,10,9,13,10,10,10,9,9,5,6,9,6,10,6,9,10,9,9,10,6,6,6,9,6,9,6,6,4,9,6,4,6,10,6,34,5,19,6,19,19,4,30,4,19,4,4,7,14,10,5,14,4,9,18,4,11,4,4,26,4,18,0,4,0,4,26,8,14,4,31,0,7,4,7,26,18,7,4,5,26,4,4,4,7,7,9,26,7,11,4,13,8,13,4,26,13,4,8,14,2,13,8,13,4,13,4,4,4,8,4,10,8,9,17,13,8,4,6,8,9,13,17,20,8,8,17,11,15,15,11,7,4,17,17,18,12,23,12,12,23,15,12,23,21,12,12,3,12,8,12,14,8,12,35,32,8,6,12,12,12,23,12,32,8,12,12,12,32,6,12,12,12,12,12,12,32,12,12,15,28,12,12,28,28,28,12,28,12,12,36,12,14,12,28,2,12,3,12,12,20,12,8,8,12,15,12,0,15,12,44,15,12,44,15,15,28,15,15,15,25,32,32,32,27,12,32,37,32,32,32,32,25,32,32,24,32,12,32,12,32,12,32,32,32,32,32,32,32,32,22,32,15,32,22,32,38,27,38,32,38,32,38,38,38,17,0,17,17,17,38,38,11,18,38,0,17,38,17,11,8,12,17,38,38,27,38,43,12,38,38,27,5,38,17,5,17,3,17,3,3,23,3,3,13,4,4,4,4,13,8,8,4,19,4,4,8,19,4,4,13,18,8,4,8,4,8,5,4,4,8,4,8,14,19,10,3,23,19,3,32,3,8,4,41,6,14,0,18,7,14,13,4,6,4,3,4,4,4,4,9,4,14,19,5,8,4,4,14,4,16,4,13,18,6,14,4,4,8,16,26,17,17,4,4,4,8,4,26,10,4,17,4,10,9,11,1,1,17,6,6,17,6,13,6,13,6,6,6,4,6,13,6,13,13,6,6,8,26,6,26,17,13,6,6,6,6,6,13,6,4,31,20,13,6,26,9,13,13,6,4,19,11,4,5,4,4,4,4,35,8,35,6,30,12,9,8,12,12,4,9,4,30,35,4,35,35,11,35,12,12,35,4,35,12,35,39,18,35,12,11,7,6,35,35,35,35,35,35,35,35,35,35,12,12,12,12,12,12,35,35,12,12,35,12,35,35,8,28,10,35,12,4,35,4,35,35,35,4,12,12,35,35,12,35,35,12,35,12,12,12,12,12,12,12,12,12,32,12,38,27,38,24,17,18,32,32,18,32,38,32,17,32,38,27,24,43,38,32,24,17,38,43,38,17,38,38,32,27,38,38,32,38,32,32,32,4,32,32,32,32,32,32,39,39,39,39,39,11,39,39,39,39,39,39,39,39,39,39,39,39,39,39,39,43,43,39,39,39,39,39,39,39,39,39,39,39,39,13,39,39,39,12,43,43,29,29,29,24,24,29,4,6,9,4,11,11,11,14,11,10,11,14,11,10,11,11,34,34,11,14,10,11,14,4,11,11,4,14,4,10,9,9,37,9,9,10,10,10,10,9,6,10,6,30,6,6,9,30,6,22,30,6,6,6,6,30,30,30,10,30,6,30,6,6,30,6,30,6,30,6,6,6,6,10,30,30,6,10,33,33,6,33,33,6,33,33,33,6,6,6,6,10,6,6,30,4,6,6,6,9,6,6,10,10,10,6,6,6,10,10,6,4,6,6,6,6,25,6,40,6,6,4,6,31,31,18,26,18,31,6,31,26,6,23,3,6,6,4,4,6,6,26,6,6,6,26,26,26,19,19,19,26,26,19,19,6,19,26,6,4,4,3,13,36,3,4,3,4,3,8,32,4,4,6,4,8,4,4,4,4,6,6,6,19,13,4,13,6,4,4,4,4,4,4,6,6,4,4,4,4,6,13,6,4,4,4,6,13,4,8,4,10,13,7,8,6,6,6,6,6,6,6,6,6,6,29,29,29,6,6,6,4,8,6,32,6,29,19,6,6,6,6,6,6,6,6,6,6,6,6,6,6,6,6,6,6,41,6,6,19,41,6,6,6,6,8,14,13,8,14,30,4,4,6,14,9,10,9,10,33,33,9,9,6,6,33,30,33,6,30,30,4,9,9,34,33,9,32,32,9,32,9,9,33,30,9,6,6,6,6,3,4,6,6,6,26,4,32,41,4,6,4,6,27,6,32,41,4,6,4,41,6,6,6,6,32,4,32,6,6,6,6,4,6,4,22,6,2,12,12,12,8,8,12,3,12,12,12,12,12,12,12,12,23,8,26,8,23,13,8,8,8,24,23,8,8,8,19,25,12,21,12,23,8,13,8,21,12,8,19,8,21,4,12,24,8,13,21,21,12,8,8,8,36,36,25,36,36,3,24,36,12,8,21,8,36,23,9,9,12,10,17,40,40,40,26,40,12,4,12,36,40,8,6,40,40,40,40,38,25,11,8,12,12,36,40,10,8,8,6,8,6,7,8,8,8,8,20,8,24,18,27,1,24,18,1,8,13,25,8,27,2,28,1,24,20,24,11,18,24,27,1,36,27,20,24,4,24,20,36,6,24,6,26,6,26,8,6,11,2,20,11,11,8,1,1,1,27,27,20,20,27,20,20,11,27,1,8,1,1,8,1,1,2,1,1,1,8,20,20,20,27,27,2,20,27,27,27,27,20,20,27,13,13,13,13,13,8,13,13,13,13,28,28,38,16,25,8,8,28,25,28,15,25,13,24,12,28,23,13,15,13,13,13,13,13,16,13,13,13,13,42,24,37,36,42,42,42,25,32,25,42,25,23,25,37,42,25,25,13,37,27,32,37,27,24,37,37,12,24,24,37,27,38,38,24,24,24,24,27,20,37,37,8,13,43,27,37,8,27,24,8,37,12,27,27,27,27,24,24,24,8,25,28,13,28,28,28,25,16,28,42,42,25,25,25,25,24,28,37,25,7,16,25,28,25,25,25,12,12,12,12,12,12,28,16,8,12,17,12,17,25,25,5,29,25,25,25,25,25,20,43,24,37,8,25,11,27,24,8,25,27,24,25,0,25,37,37,24,6,42,25,27,25,44,13,25,8,27,25,24,37,25,27,11,24,12,24,8,12,12,24,12,24,12,27,27,42,11,11,42,42,42,42,42,42,42,12,11,27,12,12,12,12,3,12,25,12,12,12,12,12,12,12,12,12,0,12,12,12,12,12,12,12,12,12,12,3,12,12,12,12,12,23,4,23,4,5,23,23,23,23,12,12,12,12,32,24,12,12,12,12,12,12,12,12,12,23,12,12,12,12,12,12,12,12,12,12,12,12,12,12,12,12,38,12,12,32,28,7,27,12,15,12,12,12,12,12,12,15,12,12,12,32,12,12,32,32,12,12,12,12,12,12,12,12,12,12,22,12,12,12,12,44,44,44,44,12,12,44,12,12,12,6,22,32,27,22,22,12,32,22,32,17,22,21,22,12,38,32,32,12,12,22,12,6,22,6,3,12,12,32,12,22,12,12,32,32,12,32,32,32,32,32,32,32,32,8,27,20,15,32,15,32,32,15,15,5,3,17,11,20,17,12,3,3,17,11,20,3,3,15,15,15,32,15,12,15,32,12,12,12,32,15,0,0,0,0,7,0,1,0,2,32,32,10,7,32,3,32,10,32,7,4,32,3,4,4,32,32,32,7,20,7,3,17,32,4,0,7,5,9,7,0,32,7,3,3,3,3,7,3,5,14,3,3,3,3,3,3,3,3,3,12,3,6,3,3,3,12,3,3,3,3,3,3,3,3,3,3,3,3,3,3,3,3,3,3,0,3,3,3,3,3,3,3,3,3,3,3,27,12,27,38,12,38,17,38,38,5,12,27,38,27,0,17,0,38,38,38,38,38,3,17,37,38,38,27,12,11,37,12,22,12,12,12,27,1,27,12,12,0,12,12,12,12,12,12,12,12,23,23,12,12,12,12,12,12,12,12,12,12,12,23,12,23,12,23,23,12,12,23,12,12,12,12,12,12,12,12,12,12,12,12,12,12,12,12,12,12,32,12,12,12,12,12,12,12,12,12,12,12,12,12,44,12,12,12,32,12,32,12,27,12,12,12,12,12,12,12,38,44,12,12,12,12,12,44,12,12,12,12,12,12,12,12,37,12,12,4,12,24,12,12,12,8,12,13,38,38,12,8,12,16,12,12,37,13,12,32,13,22,12,12,12,17,28,12,4,20,8,12,24,12,12,12,12,12,12,12,12,12,12,12,15,12,12,12,12,12,32,12,12,12,38,12,38,12,12,12,12,12,12,12,12,38,12,12,12,12,12,38,12,12,12,12,12,12,3,12,12,32,12,12,12,12,12,12,12,12,12,12,12,12,32,6,32,32,32,15,12,32,32,15,32,12,32,32,32,1,17,20,17,12,17,32,32,17,32,32,17,32,32,32,32,32,32,32,17,20,15,12,17,17,38,4,17,17,3,3,31,30,13,4,11,7,13,13,12,4,5,11,4,26,4,4,4,7,5,4,4,4,11,17,4,26,11,4,4,4,19,26,26,4,19,4,4,4,19,4,4,17,38,3,7,7,38,32,7,7,10,7,3,5,5,3,17,24,7,3,3,3,5,3,3,5,38,37,7,7,7,5,7,7,27,32,17,38,17,27,27,38,38,9,4,4,20,11,4,5,4,5,15,10,9,12,12,12,12,12,14,16,12,28,12,12,12,12,12,12,12,3,12,12,12,12,12,12,12,27,12,12,12,4,12,12,12,36,12,4,19,8,45,12,12,12,12,4,12,12,39,12,12,4,12,18,12,7,21,14,24,4,12,12,3,26,12,4,15,12,21,8,28,12,3,12,12,12,12,12,12,12,12,12,12,42,25,5,25,45,25,25,42,25,9,10,25,5,5,11,3,4,25,25,25,25,25,12,25,29,25,11,25,20,25,11,25,10,25,27,36,36,37,11,36,39,39,39,39,23,32,39,3,9,39,39,39,9,39,39,3,39,39,39,39,39,39,39,22,10,39,39,39,39,39,39,39,39,39,39,39,39,39,39,39,39,8,8,9,45,39,8,8,39,8,45,45,45,45,45,12,45,45,9,45,45,45,45,45,45,45,45,11,45,45,42,45,45,45,45,9,9,45,9,23,45,15,14,5,4,4,10,9,45,45,45,45,45,45,9,45,45,9,39,4],\"coloraxis\":\"coloraxis\",\"symbol\":\"circle\"},\"mode\":\"markers\",\"name\":\"\",\"showlegend\":false,\"x\":[-2.987170696258545,8.89001178741455,14.621641159057617,-3.044151782989502,-8.322178840637207,26.47602653503418,28.389719009399414,16.86146354675293,40.581119537353516,26.34707260131836,59.37316131591797,30.52629280090332,25.958980560302734,25.279617309570312,26.01872444152832,49.2725715637207,24.761428833007812,2.395258665084839,45.10477066040039,31.14006996154785,25.75769805908203,30.534244537353516,11.724352836608887,-35.571739196777344,30.32710838317871,44.92390823364258,11.967363357543945,26.99291229248047,17.40892219543457,11.953646659851074,17.29495620727539,37.53857421875,21.39008140563965,-4.340374946594238,31.684659957885742,-50.624046325683594,33.26528549194336,29.12661361694336,-16.16944122314453,8.107933044433594,23.25708770751953,22.384830474853516,15.555746078491211,22.454853057861328,20.736360549926758,2.4290621280670166,20.016874313354492,21.104290008544922,-14.667686462402344,-1.7526332139968872,24.415729522705078,24.93963623046875,24.94710922241211,26.00560188293457,22.200319290161133,23.925722122192383,24.971364974975586,21.171436309814453,21.67765235900879,15.484588623046875,38.75281524658203,13.692526817321777,27.175386428833008,12.019264221191406,27.3179988861084,52.45893096923828,38.6551628112793,21.244760513305664,14.98155689239502,23.28801155090332,13.879232406616211,23.746540069580078,41.19786071777344,9.488531112670898,52.39512252807617,7.425344944000244,43.47911834716797,31.92784309387207,20.514469146728516,21.34923553466797,57.781307220458984,31.700130462646484,20.147090911865234,20.578914642333984,-35.29583740234375,-31.6026668548584,-30.315589904785156,-19.411325454711914,-28.894983291625977,12.286858558654785,12.311667442321777,9.723735809326172,15.028735160827637,-29.00300407409668,10.518884658813477,2.716118335723877,7.50230598449707,49.762451171875,4.306607723236084,9.24471664428711,26.411592483520508,26.581575393676758,30.298124313354492,18.26363754272461,-15.663883209228516,-15.822075843811035,-16.179153442382812,-20.263063430786133,-7.50504207611084,-24.525697708129883,-15.277822494506836,-15.505644798278809,7.210949897766113,-14.794473648071289,-35.4028205871582,-14.777166366577148,-54.44337463378906,-4.11105489730835,-25.14154052734375,-29.59269905090332,9.906497955322266,10.161148071289062,-31.399829864501953,-36.305450439453125,-27.165739059448242,8.089932441711426,38.651031494140625,10.824277877807617,-25.336776733398438,-51.69938659667969,-49.07719802856445,-48.77030944824219,-49.807708740234375,-52.27241897583008,-51.215354919433594,-18.705883026123047,-51.68818664550781,-44.30583190917969,-44.27769470214844,-51.61740493774414,-40.85912322998047,-45.391700744628906,-51.341148376464844,-5.765095233917236,-7.4055705070495605,-6.187869071960449,-8.957908630371094,-18.772735595703125,-16.10270118713379,-18.76375389099121,-25.813249588012695,-16.722604751586914,-17.514711380004883,-11.59060001373291,-25.606836318969727,-11.333885192871094,-26.038982391357422,-17.217248916625977,-19.01620101928711,22.395339965820312,-17.276193618774414,-25.019771575927734,-19.104875564575195,-42.882118225097656,-42.715885162353516,10.483980178833008,-32.250144958496094,18.128751754760742,46.48658752441406,44.964500427246094,0.7404677867889404,11.121620178222656,38.255157470703125,0.8034771680831909,6.780778408050537,8.178736686706543,-29.566804885864258,8.827899932861328,6.514678001403809,1.6283677816390991,7.4097747802734375,2.857947826385498,39.09780502319336,7.320396423339844,0.16877686977386475,39.39823913574219,7.344119548797607,41.658023834228516,10.928804397583008,1.4946776628494263,8.552034378051758,0.3894062936306,8.823054313659668,1.7798634767532349,22.725431442260742,10.258840560913086,15.277524948120117,0.8285735249519348,8.657443046569824,-0.1423085480928421,10.897714614868164,-9.210053443908691,39.28348159790039,1.6264432668685913,7.976371765136719,1.774043083190918,10.53681755065918,37.80086135864258,9.371315002441406,38.363075256347656,39.17193603515625,26.363616943359375,41.0926399230957,37.10572052001953,6.8976030349731445,37.358863830566406,39.519386291503906,37.00507736206055,43.20793914794922,37.27035140991211,59.62873077392578,24.075889587402344,40.1743278503418,9.577357292175293,5.552001476287842,11.029410362243652,24.776954650878906,24.817218780517578,32.91299819946289,25.623218536376953,-18.256345748901367,15.373298645019531,12.575418472290039,45.732120513916016,30.40263557434082,13.045638084411621,40.77774429321289,47.3716926574707,30.659927368164062,48.760337829589844,43.35079574584961,8.955598831176758,-4.376102924346924,5.785330772399902,6.905831336975098,10.353416442871094,3.932300329208374,10.753951072692871,10.575757026672363,2.07804799079895,9.239779472351074,13.481877326965332,4.464109420776367,28.04745101928711,10.020896911621094,5.71053409576416,10.839449882507324,11.280811309814453,5.766526222229004,13.19884967803955,9.624736785888672,10.554723739624023,32.06382751464844,11.12631607055664,48.883052825927734,43.27908706665039,8.041510581970215,3.231128215789795,31.729393005371094,8.302276611328125,4.793148517608643,27.40162467956543,8.064711570739746,10.185527801513672,30.577913284301758,32.19390106201172,30.999242782592773,5.327025890350342,7.304189205169678,14.189865112304688,-5.367408275604248,9.609522819519043,10.066657066345215,6.353923797607422,4.9249348640441895,51.332374572753906,8.271405220031738,27.45471954345703,0.5284843444824219,14.183518409729004,31.302227020263672,32.06163787841797,-4.931034564971924,30.16810417175293,10.063862800598145,44.091270446777344,44.33068084716797,34.44541549682617,29.392162322998047,35.48234558105469,41.60749816894531,43.029075622558594,30.31583595275879,43.73672866821289,30.543760299682617,44.3110466003418,56.701499938964844,37.92778396606445,54.66424560546875,37.90927505493164,50.842098236083984,47.1179313659668,39.325531005859375,49.81837844848633,51.24155044555664,37.64263153076172,49.34743118286133,40.4629020690918,44.789878845214844,43.219451904296875,46.89937210083008,46.44419479370117,60.98215866088867,40.59865951538086,31.266000747680664,50.99008560180664,32.58562469482422,38.81114959716797,33.76020050048828,34.9267578125,39.73089599609375,54.59444046020508,32.82145309448242,32.74360656738281,40.03779220581055,47.39179229736328,30.998361587524414,47.52250671386719,49.48234939575195,31.705829620361328,57.076202392578125,37.142818450927734,31.410232543945312,40.95210266113281,33.24490737915039,32.87990188598633,49.07759475708008,32.440879821777344,33.8150749206543,49.50626754760742,50.97482681274414,50.5226936340332,51.43791580200195,50.41263198852539,30.62807273864746,34.92919158935547,28.166255950927734,30.466955184936523,27.153461456298828,30.531644821166992,31.74213981628418,30.4566650390625,32.10132598876953,31.05323600769043,40.31047821044922,29.871265411376953,34.13115310668945,47.413326263427734,-3.716963768005371,28.82135581970215,30.64463233947754,30.489770889282227,30.482807159423828,13.569265365600586,27.767446517944336,43.32275390625,46.76498794555664,38.916717529296875,13.909106254577637,32.24158477783203,38.97282028198242,33.42439270019531,41.83391189575195,30.063920974731445,39.759979248046875,48.53923034667969,42.755859375,38.82658767700195,39.34257125854492,45.02553176879883,36.78953552246094,40.365230560302734,40.46075439453125,35.886558532714844,38.66231918334961,35.718177795410156,41.24296188354492,36.005210876464844,40.28010177612305,35.96445846557617,33.45145797729492,2.163634777069092,31.93045997619629,31.346782684326172,25.450584411621094,60.979976654052734,28.0942325592041,31.755712509155273,24.412094116210938,30.448471069335938,24.74273681640625,23.497739791870117,42.502925872802734,37.09369659423828,1.005599856376648,46.28375244140625,12.627758979797363,-10.180595397949219,22.860492706298828,42.12925720214844,42.20839309692383,48.95292282104492,27.379667282104492,14.245137214660645,40.748233795166016,12.550098419189453,33.57175827026367,-5.078392028808594,41.22615432739258,13.33984661102295,16.181737899780273,33.27114486694336,33.105712890625,33.51612091064453,30.155052185058594,32.27151870727539,43.97684860229492,13.548758506774902,31.83759880065918,32.32919692993164,32.93605422973633,43.80447769165039,44.16381072998047,16.431840896606445,36.21318435668945,45.571044921875,52.79726028442383,33.420249938964844,41.59580612182617,44.39643096923828,35.022987365722656,43.8297119140625,42.813514709472656,33.41971206665039,39.00499725341797,51.992591857910156,52.63932800292969,44.65455627441406,40.852142333984375,43.85581970214844,50.04401397705078,41.558773040771484,26.722454071044922,42.983970642089844,40.86323547363281,27.199295043945312,52.72709274291992,33.799564361572266,39.708648681640625,43.0527458190918,18.49755859375,44.81354522705078,44.838016510009766,44.479759216308594,45.133262634277344,28.987966537475586,31.45944595336914,29.312862396240234,43.87773895263672,22.11537742614746,18.690889358520508,17.440061569213867,19.919509887695312,32.43975067138672,17.163179397583008,19.078685760498047,39.623531341552734,43.492332458496094,24.545499801635742,38.435794830322266,7.068711280822754,18.764904022216797,19.669719696044922,46.39761734008789,27.034944534301758,23.547271728515625,-3.7983829975128174,25.321575164794922,-2.9946696758270264,18.952974319458008,48.9376106262207,8.900428771972656,19.246667861938477,37.508419036865234,31.098588943481445,-6.285073280334473,17.256885528564453,36.9306526184082,18.32622528076172,49.55019760131836,24.47042465209961,22.1988582611084,39.55517578125,16.418392181396484,46.54844665527344,25.721378326416016,29.317672729492188,26.888032913208008,18.574302673339844,22.693307876586914,44.90067672729492,49.32311248779297,25.565961837768555,7.248343467712402,31.67647933959961,11.170890808105469,9.81725788116455,11.493596076965332,27.445411682128906,49.37924575805664,7.847952842712402,21.381099700927734,10.472501754760742,16.07788848876953,15.017342567443848,9.71157455444336,11.319526672363281,8.668275833129883,28.632766723632812,11.637429237365723,28.65651512145996,23.111783981323242,18.621912002563477,11.22408676147461,34.75041198730469,28.918254852294922,10.883017539978027,42.1982536315918,-11.64095687866211,8.26390266418457,6.731476306915283,39.70915603637695,39.92393112182617,9.661588668823242,41.166412353515625,9.744007110595703,-12.212614059448242,9.255435943603516,6.819976329803467,9.731029510498047,-21.862407684326172,7.941497325897217,-48.975521087646484,-47.97224426269531,9.813014030456543,27.141216278076172,28.459003448486328,-21.587587356567383,-22.607816696166992,24.272397994995117,-37.327518463134766,-25.04679298400879,-32.090206146240234,-52.23440170288086,-24.564189910888672,-50.56049728393555,-37.53643035888672,-25.57855796813965,-19.831106185913086,-41.15153884887695,-31.192197799682617,-20.32532501220703,-40.735965728759766,3.769993782043457,-36.457923889160156,14.796317100524902,2.8635480403900146,-31.430078506469727,-29.01148796081543,-16.155698776245117,6.026453971862793,48.65846252441406,-41.386497497558594,-42.35523986816406,-37.078250885009766,-26.34450340270996,-40.77482604980469,-16.376998901367188,3.836343765258789,-42.37470245361328,-37.09573745727539,-38.47801971435547,-14.801206588745117,59.82076644897461,-50.99823760986328,-37.93778610229492,-38.012664794921875,-50.41234588623047,-37.97251892089844,-48.87894058227539,-5.89357852935791,-51.16939163208008,-41.48775863647461,-52.983097076416016,-16.156387329101562,-42.86705780029297,-43.05464553833008,-14.562047958374023,-14.502793312072754,-7.13702917098999,-45.91312789916992,-8.58826732635498,-41.187713623046875,-46.64664840698242,-12.577178001403809,-49.097408294677734,16.476003646850586,-49.30298614501953,-6.682264804840088,15.150188446044922,-43.03328323364258,-23.387306213378906,-50.4893913269043,-47.12248229980469,9.436925888061523,-38.74845886230469,6.435282230377197,5.188093662261963,-50.366004943847656,-53.16852569580078,-43.11712646484375,-3.8070976734161377,-46.57575225830078,-43.2778205871582,-45.20711135864258,-48.426551818847656,-51.71305847167969,-45.54038619995117,-53.189842224121094,-52.5578498840332,-13.92388916015625,-49.08891677856445,-49.71700668334961,-51.72512435913086,-12.689460754394531,-8.612184524536133,-1.664188265800476,-11.702430725097656,-24.48603057861328,-30.10968017578125,-11.414826393127441,-1.6311218738555908,-5.143373966217041,-20.439603805541992,-4.150259971618652,-15.191408157348633,-12.595318794250488,-6.13834285736084,-13.06202220916748,-2.5756125450134277,-6.067842483520508,-53.824222564697266,-4.950912952423096,-55.0929069519043,-11.55445384979248,-54.16123962402344,-5.203797817230225,-1.6459041833877563,-14.384234428405762,-5.239106178283691,-3.3437492847442627,-4.4080400466918945,-5.207968711853027,-6.14259147644043,-25.12606430053711,-3.4268054962158203,-48.9194450378418,-2.0628268718719482,-24.10899543762207,-3.8417601585388184,-36.00566101074219,-32.23162841796875,-39.64847946166992,-12.682971954345703,-37.64131164550781,-12.619420051574707,-38.44377899169922,-41.06705093383789,-39.14632034301758,-20.744232177734375,-3.722062110900879,-20.195234298706055,-23.182336807250977,-19.01344108581543,-45.20257568359375,-44.65841293334961,6.7049736976623535,22.207162857055664,-46.25813293457031,-3.2200443744659424,-21.760665893554688,-44.58854675292969,-22.164175033569336,6.482700347900391,5.6319379806518555,-48.846500396728516,-21.747825622558594,-50.03221893310547,-44.41253662109375,-31.65204620361328,-45.36500930786133,-23.10342025756836,-48.56877136230469,-46.43419647216797,-42.399505615234375,-31.215316772460938,10.208998680114746,-38.25886917114258,-14.990818977355957,10.435294151306152,-15.108654022216797,-10.850625038146973,-19.732921600341797,-10.991381645202637,-15.661380767822266,-22.951013565063477,-12.172836303710938,-12.687676429748535,13.544550895690918,39.038368225097656,30.60565948486328,37.8661003112793,35.7566032409668,13.573739051818848,9.140783309936523,12.19362735748291,35.651893615722656,45.1008415222168,37.03950881958008,27.538408279418945,17.710283279418945,39.77688980102539,37.61326599121094,17.795034408569336,12.465696334838867,24.509002685546875,12.705166816711426,38.3523063659668,14.02193832397461,21.385238647460938,9.500693321228027,18.696617126464844,37.63600540161133,27.458436965942383,13.68994426727295,38.25917434692383,9.683730125427246,17.8032169342041,44.79438400268555,29.046031951904297,-8.523880958557129,-22.957265853881836,43.7012825012207,-8.357409477233887,-8.963388442993164,-12.283735275268555,15.578085899353027,21.98471450805664,52.39664077758789,41.957157135009766,16.443042755126953,-2.246986150741577,23.62787437438965,21.194538116455078,18.700395584106445,14.490890502929688,26.960268020629883,42.007198333740234,20.168289184570312,-10.899027824401855,19.8330078125,19.518014907836914,23.801298141479492,20.30373191833496,47.40748596191406,38.792667388916016,18.73883819580078,38.62281036376953,16.26652717590332,9.631916999816895,29.512374877929688,18.499008178710938,18.768762588500977,28.701560974121094,7.758610248565674,24.03278350830078,13.679227828979492,24.404035568237305,42.34074783325195,18.87249183654785,23.034751892089844,27.305063247680664,14.446131706237793,7.713280200958252,45.997249603271484,-8.767976760864258,-18.127870559692383,18.54654884338379,24.333248138427734,21.99216079711914,14.234994888305664,29.034847259521484,48.35536193847656,28.63776397705078,26.156005859375,-11.792781829833984,30.248374938964844,28.23587417602539,47.4532470703125,4.816296577453613,8.255091667175293,9.291996955871582,-11.66875171661377,48.8236083984375,41.59893035888672,-10.993135452270508,37.76759338378906,8.259848594665527,39.492610931396484,6.849081039428711,34.70856475830078,38.447757720947266,39.39529800415039,32.63566589355469,35.30425262451172,7.624914646148682,35.68672561645508,11.416882514953613,7.46639347076416,35.783180236816406,41.5377311706543,10.727701187133789,48.06980514526367,39.31740951538086,46.77328109741211,-11.27541732788086,10.603228569030762,34.84157943725586,32.51140594482422,36.685733795166016,37.53689956665039,32.55570602416992,6.382895469665527,36.050540924072266,35.30937194824219,33.788204193115234,10.560735702514648,8.218042373657227,35.01262664794922,48.247440338134766,42.38009262084961,8.259130477905273,13.913430213928223,48.83387756347656,28.0280818939209,39.078651428222656,12.894275665283203,28.15835189819336,17.244979858398438,30.487661361694336,21.708072662353516,30.482698440551758,22.106313705444336,-31.177865982055664,7.782125473022461,-30.411161422729492,49.17735290527344,31.593412399291992,-47.3762092590332,45.79802703857422,5.822604656219482,-37.092769622802734,-38.16923522949219,30.25003433227539,42.08723449707031,30.07065200805664,30.0108699798584,-31.464208602905273,26.57786750793457,-30.536039352416992,-32.8106803894043,9.315369606018066,-28.770158767700195,-39.7065544128418,-42.66920471191406,-32.593990325927734,26.773447036743164,-31.210140228271484,-35.43346405029297,-29.121545791625977,-1.6150760650634766,25.331558227539062,-27.905723571777344,-34.7667236328125,10.246813774108887,27.000062942504883,40.516143798828125,-30.836488723754883,-29.2252197265625,-29.3040828704834,-29.329681396484375,-29.361160278320312,-31.88652229309082,-31.340805053710938,-28.232553482055664,-30.801769256591797,-31.072933197021484,-47.335872650146484,-43.970741271972656,-50.62269592285156,-42.16393280029297,-51.25395965576172,-41.97618103027344,-32.12057876586914,-31.94774627685547,-42.161006927490234,-55.31675720214844,-29.862327575683594,-43.86357498168945,-31.665708541870117,-32.52554702758789,7.061264514923096,-14.023839950561523,31.294597625732422,-29.849145889282227,-44.12066650390625,38.48160934448242,-32.394649505615234,38.590206146240234,-29.05388069152832,-29.193191528320312,-31.05061149597168,39.40284729003906,-54.40171432495117,-43.30557632446289,-28.8894100189209,-27.767492294311523,-53.44126892089844,-31.408536911010742,-30.250001907348633,-54.717716217041016,-30.501684188842773,-44.19169616699219,-54.854698181152344,-55.63249206542969,-53.3893928527832,-54.27539825439453,-54.066802978515625,-54.38044738769531,-54.17092514038086,-56.584815979003906,-5.008138179779053,-54.63789367675781,-41.837677001953125,-29.730518341064453,-41.76545715332031,-2.9590811729431152,-16.202491760253906,22.209726333618164,-9.134604454040527,-3.5054471492767334,21.86258888244629,-5.547057151794434,-38.780391693115234,-4.01352071762085,-16.578514099121094,-6.009809970855713,-40.68201446533203,-31.398855209350586,-1.784470796585083,-24.049072265625,-42.99005889892578,-6.184158802032471,-1.5485198497772217,-21.5883731842041,-38.56046676635742,-24.76665687561035,-38.55765914916992,-13.730194091796875,-35.99401092529297,-39.291439056396484,-8.786840438842773,-30.816482543945312,-38.55789566040039,-38.709739685058594,-5.453969955444336,-39.477577209472656,-9.42577075958252,-8.537047386169434,-6.57645320892334,38.46713638305664,-9.915475845336914,-8.055624008178711,-9.212292671203613,-10.563496589660645,-9.837509155273438,-8.66119384765625,1.0689246654510498,-3.478645086288452,2.736604928970337,-0.29808273911476135,-0.6084610819816589,2.8941774368286133,0.1114363819360733,-1.0415031909942627,1.9448094367980957,-1.848225712776184,0.00744507135823369,-3.004256010055542,1.3192098140716553,2.5528829097747803,1.2928962707519531,-0.10655930638313293,-1.906727910041809,1.6660038232803345,0.11786062270402908,-2.901667833328247,0.8258671164512634,-24.473352432250977,-23.565160751342773,-0.28226932883262634,-2.4401848316192627,-2.736254930496216,-2.386040449142456,0.30425789952278137,-0.6911885142326355,1.8013471364974976,-1.6951113939285278,-3.9506607055664062,-1.5120240449905396,0.07864101976156235,-0.06036248430609703,6.258976936340332,1.1338104009628296,-2.5777039527893066,-1.5792607069015503,-44.43059158325195,-23.266807556152344,-23.950199127197266,-5.719585418701172,-5.045846939086914,-5.246201038360596,-4.613694667816162,-4.834181308746338,-4.896602630615234,24.334638595581055,44.265968322753906,41.28036880493164,21.08635139465332,3.2964212894439697,10.836345672607422,12.830597877502441,17.272184371948242,5.509029388427734,35.12372589111328,9.824923515319824,16.20558738708496,9.63107967376709,34.47053909301758,2.0456125736236572,3.363187789916992,44.33689498901367,45.144351959228516,5.887440204620361,18.189369201660156,33.699344635009766,3.6779417991638184,17.048009872436523,24.198102951049805,5.672748565673828,4.454912185668945,24.71491050720215,16.545011520385742,25.156681060791016,34.16718673706055,39.996551513671875,40.87406539916992,-2.1810059547424316,43.15989685058594,42.92279815673828,32.69316101074219,33.21354675292969,33.517486572265625,32.901851654052734,42.253196716308594,44.87845993041992,34.92729949951172,37.99153137207031,30.809123992919922,49.77615737915039,45.92660903930664,42.74217224121094,33.044898986816406,48.54533386230469,-26.148412704467773,30.378707885742188,47.686222076416016,47.7911262512207,54.66276168823242,48.38606643676758,30.8715877532959,31.018922805786133,34.98282241821289,33.65303039550781,30.629426956176758,46.01999282836914,30.623411178588867,37.58238983154297,45.79544448852539,33.20001220703125,49.25054931640625,30.65199851989746,45.95584487915039,29.96495246887207,57.356422424316406,51.13131332397461,47.183353424072266,38.83732604980469,33.66651153564453,29.314918518066406,33.204315185546875,36.92295455932617,34.360347747802734,61.55544662475586,60.57044982910156,57.75167465209961,62.43783950805664,60.24601745605469,40.87574005126953,60.57247543334961,61.369510650634766,61.04039764404297,39.75252914428711,35.32432556152344,36.423316955566406,59.109554290771484,35.386348724365234,34.34860610961914,45.09532165527344,32.73061752319336,21.95038414001465,59.11891555786133,34.314918518066406,40.966060638427734,39.289161682128906,39.721073150634766,45.654842376708984,33.54815673828125,34.47845458984375,32.458248138427734,37.766632080078125,48.61772537231445,32.35155487060547,35.2940559387207,32.113059997558594,34.55675506591797,21.372560501098633,32.64302444458008,35.33952713012695,35.06282043457031,36.365501403808594,-21.307476043701172,58.78256607055664,22.967037200927734,46.725257873535156,38.771976470947266,21.0111026763916,36.327972412109375,33.224815368652344,33.781166076660156,27.049083709716797,43.92549133300781,27.529678344726562,31.403499603271484,34.81475067138672,33.190067291259766,43.90346145629883,39.604000091552734,-21.945384979248047,-8.282097816467285,34.017295837402344,39.54665756225586,25.691789627075195,27.856924057006836,39.5634880065918,34.746646881103516,50.097869873046875,35.9638557434082,34.21275329589844,39.62866973876953,48.65936279296875,47.7681770324707,46.83060073852539,40.240665435791016,39.70545959472656,41.5452880859375,48.70178985595703,47.767642974853516,40.871177673339844,41.896976470947266,34.631744384765625,40.91727828979492,47.96437454223633,33.46833038330078,34.75997543334961,31.528358459472656,-7.794278621673584,12.135170936584473,-16.369226455688477,-6.1846208572387695,30.061044692993164,-7.758058547973633,29.222806930541992,-10.391353607177734,10.109108924865723,0.27119341492652893,30.355411529541016,17.863161087036133,36.4893913269043,29.270816802978516,12.07262897491455,31.155574798583984,24.860198974609375,25.87672996520996,32.957054138183594,49.38719177246094,45.134559631347656,51.46510314941406,36.11466979980469,9.887554168701172,33.42774963378906,12.571749687194824,44.36617660522461,30.14558982849121,25.459299087524414,26.645299911499023,27.9123477935791,24.790056228637695,23.564241409301758,37.03804397583008,52.57379150390625,22.979021072387695,22.84648895263672,25.039552688598633,24.122161865234375,50.8338737487793,11.172017097473145,49.54341125488281,24.626012802124023,24.691089630126953,23.400314331054688,47.78300476074219,12.286455154418945,27.876680374145508,9.02183723449707,25.637292861938477,31.299419403076172,12.457616806030273,28.333303451538086,12.829998016357422,52.681095123291016,53.71561050415039,44.132450103759766,43.8814697265625,54.520835876464844,48.3353271484375,53.72373580932617,53.06816864013672,49.89277267456055,49.146751403808594,-4.595644950866699,-4.678890705108643,-5.4722113609313965,52.50066375732422,35.116878509521484,51.697444915771484,21.926124572753906,13.381306648254395,43.52229690551758,-2.1206135749816895,49.691349029541016,-5.325493335723877,39.168983459472656,51.96236801147461,48.14387893676758,53.152767181396484,48.681007385253906,35.33924865722656,37.02668380737305,54.09428024291992,53.70035171508789,49.895790100097656,52.114051818847656,47.39116287231445,50.31703567504883,52.341522216796875,54.452335357666016,55.576236724853516,49.970924377441406,44.417335510253906,48.66376876831055,52.34361267089844,34.161739349365234,48.551761627197266,39.19327163696289,52.302886962890625,51.601139068603516,49.937007904052734,51.036712646484375,51.83762741088867,15.984759330749512,16.109264373779297,12.705927848815918,16.23904037475586,18.252613067626953,31.237632751464844,25.284683227539062,25.363630294799805,44.45256042480469,17.501811981201172,44.07343673706055,28.816814422607422,40.5257568359375,30.407365798950195,61.52922058105469,62.68318557739258,40.871273040771484,43.373023986816406,39.2483024597168,58.90629959106445,61.19883346557617,30.171916961669922,62.49600601196289,36.97452926635742,29.28314208984375,30.298099517822266,20.949987411499023,44.40138626098633,42.53977584838867,45.16080093383789,61.47186279296875,43.27655029296875,-9.596184730529785,-6.417017459869385,42.668243408203125,-9.860559463500977,42.54707717895508,43.08807373046875,62.01319885253906,30.629722595214844,47.076507568359375,57.23202896118164,58.539573669433594,58.65563201904297,58.55329895019531,-6.160314559936523,32.8074836730957,58.85667419433594,59.63291931152344,59.83089828491211,47.74093246459961,31.653820037841797,-4.15181303024292,52.52714157104492,32.97506332397461,52.773075103759766,34.04945373535156,52.61980438232422,-30.95760154724121,57.13581085205078,-2.950585126876831,52.234676361083984,31.283233642578125,36.65988540649414,36.6357536315918,52.17289733886719,43.956787109375,54.49663162231445,49.89595413208008,43.510009765625,-6.484089374542236,27.853761672973633,-2.9556827545166016,54.124019622802734,48.496822357177734,50.472137451171875,44.289791107177734,31.750043869018555,52.41569519042969,32.0384407043457,-24.50257682800293,51.855918884277344,16.067049026489258,-35.47410202026367,-30.400127410888672,-31.818851470947266,-1.6841099262237549,-1.7669212818145752,-52.05287551879883,-20.060264587402344,-41.138980865478516,-41.062828063964844,-43.37197494506836,-50.95566177368164,-32.79725646972656,-42.46217346191406,-37.302581787109375,-45.647911071777344,-24.798973083496094,5.7808756828308105,49.61404037475586,8.796008110046387,-24.642555236816406,6.426278591156006,6.985074520111084,9.458355903625488,2.5926618576049805,-6.838174343109131,-23.680932998657227,4.272271633148193,5.042027950286865,5.7223968505859375,45.65508270263672,-13.584305763244629,-41.03864669799805,-18.691848754882812,-41.139892578125,-25.433691024780273,1.0335724353790283,8.448673248291016,7.098652362823486,-18.80153465270996,-43.74751663208008,5.700129508972168,45.82262420654297,0.702750563621521,-18.30518913269043,28.40297508239746,-45.621315002441406,-6.70002555847168,3.5398917198181152,7.918253421783447,-18.588428497314453,-18.673442840576172,-25.695640563964844,4.556821823120117,2.943491220474243,3.907813787460327,-13.368951797485352,-13.054520606994629,-15.165589332580566,-12.81397819519043,-13.217658996582031,-24.9703311920166,-6.565960884094238,-15.069226264953613,-40.42390441894531,0.44050678610801697,-16.86857032775879,0.47173625230789185,-12.184223175048828,-24.668489456176758,42.77722930908203,47.42938232421875,-41.088966369628906,30.889476776123047,-22.222801208496094,22.302810668945312,21.428264617919922,23.012712478637695,48.28426742553711,21.903181076049805,-41.19371795654297,33.05193328857422,-40.90495681762695,-14.349289894104004,23.167863845825195,-1.9290410280227661,36.22549057006836,22.622587203979492,23.288005828857422,20.922616958618164,21.739900588989258,-34.8594856262207,-13.528059005737305,13.739808082580566,5.1864399909973145,-49.83094787597656,-48.15741729736328,-14.493195533752441,22.790454864501953,31.485994338989258,0.7475054860115051,1.3860317468643188,41.01029586791992,6.794866561889648,36.464786529541016,28.17515754699707,0.01209589745849371,0.5570390820503235,1.5301227569580078,10.108234405517578,6.568866729736328,4.180793762207031,-6.362035751342773,23.8106632232666,-31.075910568237305,11.427990913391113,-3.4285671710968018,23.796541213989258,10.768743515014648,4.891680717468262,7.799439907073975,-14.43049430847168,-0.4363611340522766,-31.253271102905273,14.722723007202148,-12.736356735229492,12.200780868530273,-6.237431049346924,7.2572503089904785,-2.4685378074645996,4.911256313323975,23.33904457092285,-3.310818910598755,-26.989871978759766,11.739153861999512,-16.365638732910156,-28.948333740234375,6.6612958908081055,-4.761485576629639,34.77276611328125,-6.021727561950684,5.967068195343018,-13.885783195495605,43.230804443359375,-5.947216987609863,42.19657897949219,45.68330764770508,43.08951187133789,46.25078582763672,0.7615349292755127,43.67462158203125,4.200209617614746,14.018150329589844,7.670025825500488,4.455775260925293,4.239184856414795,8.055994987487793,10.56734561920166,10.821967124938965,9.99410629272461,-25.32692527770996,-28.794157028198242,8.174225807189941,8.214344024658203,-27.590848922729492,7.148321628570557,7.8797502517700195,4.97485876083374,-28.056812286376953,11.273285865783691,7.496194362640381,9.634876251220703,10.060961723327637,7.525801181793213,9.118202209472656,9.262535095214844,14.937970161437988,10.296415328979492,9.561455726623535,10.67567253112793,7.042660236358643,6.087366104125977,7.268514633178711,7.3248395919799805,-29.085716247558594,-30.90644645690918,14.970989227294922,7.788931846618652,-28.57977294921875,-27.360965728759766,-28.75502586364746,-31.125314712524414,6.4850873947143555,7.151542663574219,-28.81595802307129,2.166715145111084,3.7015693187713623,3.831657648086548,2.5653316974639893,2.2192628383636475,11.041596412658691,3.572615146636963,5.444575786590576,2.4576189517974854,2.7849783897399902,-12.108891487121582,-10.43187141418457,-35.076778411865234,7.7824506759643555,-13.800272941589355,-1.5971757173538208,7.9557623863220215,-11.46290111541748,-13.223441123962402,-12.422500610351562,-53.63232421875,-13.611297607421875,3.037641763687134,-4.323573589324951,-28.224824905395508,-12.50761890411377,-24.170495986938477,1.114781141281128,-53.28456115722656,4.562436580657959,8.143664360046387,3.0742621421813965,6.245540142059326,4.1328630447387695,7.510551452636719,1.4878517389297485,2.5942540168762207,3.2948551177978516,2.179448366165161,-30.87302589416504,-5.242779731750488,-2.32102108001709,-14.400944709777832,-29.076635360717773,-23.79578399658203,-27.684309005737305,-15.160893440246582,-4.839120388031006,-15.739364624023438,-24.661136627197266,-14.568209648132324,-24.745927810668945,-16.836057662963867,-3.8602187633514404,-27.23778533935547,-14.951272010803223,-16.490070343017578,7.478369235992432,-1.9001351594924927,-29.463281631469727,-2.02710223197937,-3.141441583633423,-27.619186401367188,-3.077470064163208,0.6620355844497681,-1.7735943794250488,-33.263458251953125,-5.229515552520752,-8.357189178466797,-1.628768801689148,-29.683076858520508,-44.400177001953125,-44.561824798583984,-2.810603380203247,-6.510984420776367,-5.774959087371826,-3.820833921432495,-28.901517868041992,5.569595813751221,-1.4095288515090942,-1.590389609336853,5.158628940582275,6.373641014099121,-22.615070343017578,-29.831228256225586,-0.5410470962524414,7.092014312744141,-24.802906036376953,-3.430664300918579,6.111483097076416,-3.6601428985595703,-50.982418060302734,-29.14632225036621,-27.948989868164062,-26.81336212158203,-28.980640411376953,-7.043708324432373,-3.768950939178467,-8.931777954101562,9.530380249023438,-14.183405876159668,-10.663272857666016,8.647141456604004,-8.992682456970215,-9.567671775817871,-10.77263355255127,-16.011032104492188,7.491652011871338,-10.674626350402832,-28.92216682434082,-29.805917739868164,-19.805994033813477,-17.82347297668457,-13.88766098022461,-12.009876251220703,-2.864422082901001,-11.227866172790527,-2.3952884674072266,-16.474945068359375,29.016084671020508,7.628076553344727,-17.263391494750977,-10.297811508178711,-14.20486831665039,-16.93023681640625,-17.08799934387207,-52.845523834228516,-44.20193099975586,-44.93467330932617,-48.624168395996094,-45.55781936645508,-47.10099792480469,-9.429219245910645,8.29175853729248,-0.7756087779998779,-51.253021240234375,-15.670199394226074,-51.44689178466797,-19.44860076904297,-17.72591209411621,-19.826051712036133,9.924882888793945,-6.415192604064941,-21.028310775756836,-18.508161544799805,-14.97169017791748,-16.720870971679688,-15.245412826538086,5.628625869750977,-22.803865432739258,-5.355598449707031,-3.358511447906494,7.693075180053711,-16.498567581176758,3.1888926029205322,-30.489633560180664,-5.7991557121276855,6.2192769050598145,-17.796268463134766,-29.406204223632812,-2.382647752761841,-16.99045753479004,-4.078744411468506,-15.221879959106445,-3.4527814388275146,-3.0331406593322754,-3.1118388175964355,58.75035095214844,-24.86102294921875,-10.089423179626465,-30.031225204467773,-10.833940505981445,-45.99745559692383,6.450779914855957,-15.777891159057617,5.698851585388184,-26.995128631591797,-13.820621490478516,-2.384213924407959,-3.6110787391662598,-10.158622741699219,-28.3074951171875,2.3983640670776367,-3.882807731628418,-50.52016067504883,-2.44834303855896,-0.6792250871658325,-51.73748016357422,-50.10148620605469,-3.2341156005859375,-50.481300354003906,-1.8269765377044678,-51.05921936035156,-29.912052154541016,-31.96670913696289,-29.859407424926758,10.328072547912598,3.3769915103912354,-28.44861602783203,-27.93410873413086,-28.345722198486328,-28.917953491210938,-29.883115768432617,-28.02393341064453,-29.798322677612305,-55.042022705078125,2.846036434173584,-29.623638153076172,-54.34186553955078,-49.839412689208984,-42.4589729309082,-53.51899337768555,-18.064586639404297,-52.06489562988281,-21.180156707763672,-39.47730255126953,-40.51038360595703,-40.06423568725586,-52.39442443847656,-50.38869857788086,-52.18405532836914,-39.878448486328125,-54.35761642456055,-38.40559387207031,0.21856969594955444,-52.14519500732422,-42.432159423828125,-33.67951202392578,-33.6730842590332,-31.993419647216797,-42.129066467285156,-32.18781280517578,-42.05883026123047,-31.809640884399414,-47.51626205444336,-16.52460289001465,-28.817949295043945,-32.87410354614258,-34.70185089111328,-29.89801025390625,-38.137840270996094,-26.297439575195312,37.47220230102539,-21.98682975769043,38.06161117553711,9.713968276977539,-23.717647552490234,-25.122358322143555,-24.614694595336914,-24.829669952392578,-46.8035888671875,-36.06088638305664,-29.85909080505371,-25.665443420410156,-14.721299171447754,-9.386970520019531,-31.773366928100586,-30.076126098632812,-36.51248550415039,-45.738037109375,-37.02236557006836,-29.636524200439453,-29.013059616088867,-35.995941162109375,-47.750858306884766,-26.165586471557617,-41.01132583618164,-38.15648651123047,-34.78388595581055,-43.11166763305664,-36.4762077331543,-43.6364860534668,-34.78582763671875,-43.66787338256836,-43.110015869140625,-58.208763122558594,-43.69642639160156,-43.96834182739258,-41.13010787963867,-44.082889556884766,-42.24321746826172,-43.157169342041016,-50.041988372802734,-40.948936462402344,-41.52418518066406,-18.308345794677734,-14.360615730285645,18.61740493774414,-30.799657821655273,-41.472503662109375,-53.05452346801758,-42.78447723388672,-45.876708984375,-46.4843864440918,-41.439510345458984,-33.5340461730957,-46.02036666870117,-54.19935607910156,-46.90614318847656,-41.892616271972656,-39.359886169433594,-18.38608741760254,-45.1004638671875,-45.550682067871094,-15.982099533081055,-17.854562759399414,-44.544551849365234,-44.376365661621094,-39.05223846435547,-39.48517608642578,-40.0266227722168,-50.31749725341797,-41.376869201660156,-42.07612991333008,-50.51320266723633,-29.169300079345703,-25.720117568969727,-29.1342716217041,-44.9815788269043,-35.314544677734375,-40.048709869384766,-45.487464904785156,-40.73527908325195,-45.32447052001953,-46.2043342590332,-29.057220458984375,-35.96837615966797,-44.45014190673828,-31.66226577758789,-32.53741455078125,-34.127113342285156,39.634925842285156,-24.422574996948242,-18.103168487548828,-26.310733795166016,-24.481943130493164,-25.76443862915039,-34.472198486328125,-6.507638454437256,-24.37127113342285,-14.200380325317383,-15.925357818603516,-24.249897003173828,-15.543888092041016,-25.428157806396484,-33.397682189941406,-50.013797760009766,-8.646452903747559,-7.3571696281433105,-36.071468353271484,-35.0989990234375,-25.74608612060547,-55.50511169433594,39.921268463134766,-25.584152221679688,36.7274055480957,-18.5957088470459,-54.645389556884766,-36.27338790893555,-8.556015014648438,-30.48395538330078,-25.496013641357422,-55.06769943237305,-31.77938461303711,-14.449202537536621,-12.085803985595703,-32.18801498413086,-9.825864791870117,-12.36438274383545,-9.553771018981934,-9.6002836227417,-10.206862449645996,-14.345137596130371,-13.227523803710938,-10.491409301757812,6.286064624786377,-30.54990577697754,9.314226150512695,-48.25638198852539,-18.782922744750977,-46.05654525756836,-13.337684631347656,-13.479835510253906,-49.543094635009766,-47.73538589477539,12.535863876342773,-23.00330924987793,-11.960786819458008,9.178833961486816,8.965922355651855,-11.657914161682129,-48.78822708129883,-22.80384063720703,-9.78090763092041,-12.66799545288086,7.447989463806152,8.030660629272461,-12.229397773742676,-23.3441104888916,-50.590309143066406,-48.40549850463867,-47.31464767456055,-14.282894134521484,-50.91903305053711,-32.061580657958984,-50.32204055786133,-18.020294189453125,-41.812705993652344,-32.187320709228516,-43.033660888671875,-14.630484580993652,-48.885276794433594,-3.829052209854126,-2.420597553253174,-2.8883020877838135,-2.832530975341797,18.89289093017578,-4.134802341461182,9.629000663757324,-2.224172830581665,14.96631145477295,-9.353432655334473,-9.138209342956543,30.37718391418457,18.649587631225586,-7.805614471435547,-11.983184814453125,-9.622517585754395,32.11460876464844,-10.7691011428833,18.323293685913086,20.244844436645508,-8.062108039855957,-14.399911880493164,23.963443756103516,18.519683837890625,-9.959598541259766,-9.912847518920898,-9.779200553894043,18.63483428955078,7.555954933166504,18.776063919067383,-12.480113983154297,-11.412415504455566,-9.61892032623291,24.994550704956055,-2.9383835792541504,21.586376190185547,15.925381660461426,41.980079650878906,22.345346450805664,-4.342709064483643,-6.365433692932129,21.801244735717773,-9.258964538574219,-13.718634605407715,-19.666351318359375,-9.394399642944336,15.2973051071167,-11.214306831359863,12.544843673706055,14.692495346069336,-12.5011568069458,-12.468085289001465,-16.273935317993164,-14.695599555969238,-16.670333862304688,-14.232135772705078,-14.814799308776855,-16.089962005615234,-17.281736373901367,-29.436511993408203,-16.394060134887695,52.65040588378906,-15.54998779296875,-14.54731273651123,-12.76948070526123,-29.317182540893555,-15.073938369750977,-16.535602569580078,-14.815926551818848,-12.693648338317871,-12.404909133911133,-13.856287956237793,-11.043718338012695,-15.787840843200684,-13.181465148925781,-15.263874053955078,-20.535335540771484,-15.309670448303223,-10.673890113830566,-14.32349681854248,-17.920101165771484,-13.60519027709961,-10.613007545471191,-14.576714515686035,-1.1642557382583618,-20.593442916870117,-11.83657455444336,-13.030091285705566,-12.430646896362305,-16.26275634765625,-18.07322120666504,-13.296215057373047,-12.678190231323242,-17.810653686523438,-17.32774543762207,-18.55740737915039,-33.153526306152344,-50.79781723022461,-32.27994918823242,-47.41646194458008,-50.87051010131836,-44.34115982055664,-21.195167541503906,-43.061710357666016,-46.27590560913086,10.295906066894531,-50.75293731689453,-31.56157684326172,-46.97648239135742,-32.983741760253906,-6.264921188354492,-21.079931259155273,-4.176487922668457,-45.102935791015625,-45.97384262084961,-43.48752212524414,-47.0506706237793,-46.18364334106445,-18.027164459228516,-18.659093856811523,0.832467257976532,-44.07064437866211,-44.39529800415039,-31.59868621826172,-48.648014068603516,5.782210350036621,0.9730750322341919,-40.04570388793945,-26.010215759277344,-40.620277404785156,-46.106719970703125,-40.06941604614258,-33.32979202270508,9.95580768585205,-31.5167179107666,-56.00407028198242,-45.10558319091797,-3.9768288135528564,-43.79308319091797,-41.08641052246094,-36.998775482177734,-45.69502258300781,-29.632993698120117,-43.5822639465332,-49.29737854003906,-45.892520904541016,-23.802074432373047,-25.302244186401367,-55.076107025146484,-45.52486801147461,-49.93788146972656,-46.54759216308594,-44.02175521850586,-39.96614456176758,-44.08956527709961,-37.28307342529297,-32.32716751098633,-45.60056686401367,-45.36062240600586,-23.812101364135742,-38.9444580078125,-24.06121826171875,-42.336490631103516,-25.469160079956055,-24.030424118041992,-43.11860275268555,-44.03197479248047,-25.503231048583984,-29.97657585144043,-31.29726791381836,-35.20941162109375,-33.6446533203125,-43.590232849121094,-44.95224380493164,-33.51382827758789,-37.099021911621094,-35.15034484863281,-32.9875602722168,-35.46794509887695,-44.492408752441406,-35.036285400390625,-29.380239486694336,-31.426889419555664,-35.71747589111328,-30.569976806640625,-34.568416595458984,-15.874837875366211,-33.91035842895508,-35.1052131652832,-34.69736862182617,-34.501251220703125,-29.956483840942383,-40.9591178894043,-35.236629486083984,-36.49345397949219,-35.943580627441406,-43.03551483154297,-33.648193359375,-42.733951568603516,-36.798851013183594,-43.53369903564453,-33.26633071899414,-32.41551971435547,-34.835418701171875,-18.017061233520508,-35.91197204589844,-18.7025203704834,-34.706539154052734,-32.37470626831055,-29.403213500976562,-30.910974502563477,-58.11885070800781,-30.318893432617188,-33.21099090576172,-30.178186416625977,-39.87600326538086,-51.11094284057617,-40.655303955078125,-33.44289016723633,-32.5379638671875,-31.955087661743164,-37.331298828125,-39.830955505371094,-44.18927764892578,-46.324615478515625,-45.94080352783203,-40.76354217529297,-39.634727478027344,-45.85516357421875,-44.2191047668457,-39.854244232177734,-38.79503631591797,-1.5489981174468994,-40.605079650878906,-36.14939880371094,30.891416549682617,-33.53805160522461,-6.147366523742676,-32.855220794677734,-38.43944549560547,-54.607208251953125,6.0625128746032715,-43.439552307128906,3.8334147930145264,-40.006103515625,-40.131629943847656,-33.18659210205078,5.035019874572754,-33.43687057495117,6.528579235076904,-35.1656608581543,-37.97490310668945,-4.32335901260376,6.116987705230713,-41.46100616455078,-16.348262786865234,5.691044330596924,-28.898839950561523,-41.06913757324219,-50.02931213378906,-37.89536666870117,-14.59146785736084,-12.44123649597168,-29.279094696044922,31.451311111450195,10.494989395141602,9.61181354522705,-41.02645492553711,-6.238433361053467,-37.7575798034668,-58.078277587890625,-56.6935920715332,-45.97793197631836,-58.652767181396484,-35.50474166870117,-58.22962188720703,-36.57535934448242,-56.5291862487793,-35.1495475769043,-55.802574157714844,-53.32999801635742,-37.48877716064453,-52.93702697753906,-56.886478424072266,-54.686126708984375,-57.64886474609375,-14.502617835998535,-56.49067306518555,-56.06325149536133,-35.54860305786133,-49.684329986572266,-57.385250091552734,-49.817752838134766,-56.173240661621094,-35.31839370727539,-32.46400451660156,-52.476097106933594,-58.89681625366211,-53.14307403564453,-51.21394348144531,-31.79705810546875,-49.928035736083984,-55.57477951049805,-56.60004806518555,-53.91893768310547,-54.1969108581543,-57.41566467285156,-50.927127838134766,-55.510040283203125,-31.620454788208008,-56.20170211791992,-54.69301986694336,-56.81246566772461,-57.762386322021484,-12.703027725219727,-34.566375732421875,-54.50320816040039,-11.203948020935059,-51.871604919433594,-52.62558364868164,-30.86800193786621,-34.411781311035156,-32.60105514526367,-32.87715530395508,-34.163387298583984,-33.253971099853516,-31.134122848510742,-29.70913314819336,-31.683488845825195,-31.666601181030273,-11.828337669372559,44.00518798828125,-7.092333793640137,-13.39571475982666,-14.760798454284668,-49.870880126953125,-30.262378692626953,-12.075960159301758,-6.722274303436279,-48.420169830322266,-13.179671287536621,-30.26694107055664,-17.724790573120117,-17.669340133666992,-8.776378631591797,9.323312759399414,-11.81567668914795,10.524601936340332,-14.084582328796387,-33.95852279663086,-15.824109077453613,-11.10145092010498,-16.590179443359375,-10.577757835388184,-13.980647087097168,-10.770626068115234,-11.054287910461426,-13.987251281738281,-18.016427993774414,-18.767019271850586,-12.465372085571289,-16.799274444580078,-10.795658111572266,-6.53595495223999,-13.346694946289062,10.462119102478027,-50.81116485595703,-33.188255310058594,-11.094630241394043,-12.703805923461914,-43.65772247314453,22.063175201416016,-15.8414945602417,-17.839492797851562,-11.067459106445312,-8.336357116699219,30.476652145385742,31.727081298828125,11.068513870239258,36.0290412902832,8.733598709106445,24.348642349243164,12.694527626037598,14.475914001464844,-34.42669677734375,23.117839813232422,12.839835166931152,11.070464134216309,28.767473220825195,47.95140838623047,16.290668487548828,24.013427734375,19.67085838317871,22.288284301757812,17.256607055664062,40.61711883544922,26.932769775390625,27.338787078857422,4.5535502433776855,-10.159208297729492,29.059734344482422,49.78474426269531,7.32501220703125,35.739925384521484,18.933185577392578,36.31637191772461,47.04573059082031,44.522220611572266,45.88408660888672,24.60086441040039,46.89276123046875,37.29408264160156,36.69597625732422,36.92877197265625,38.90023422241211,36.70278549194336,21.354450225830078,-13.383843421936035,-46.099143981933594,-9.927687644958496,29.234588623046875,17.2525577545166,-48.138023376464844,-10.631482124328613,23.322004318237305,23.559364318847656,27.291810989379883,22.8012752532959,-16.878782272338867,15.975709915161133,15.603283882141113,-12.978472709655762,-18.608797073364258,0.13648328185081482,20.72315216064453,-9.47118854522705,-16.96709632873535,-14.303848266601562,10.11135482788086,-13.111980438232422,-11.189810752868652,14.397506713867188,-45.712467193603516,1.0516362190246582,20.920833587646484,21.786788940429688,22.11976432800293,16.48067283630371,19.950042724609375,15.66797161102295,-33.054012298583984,-14.332864761352539,-18.56121253967285,-46.9495735168457,-18.633148193359375,-32.692569732666016,-33.95269775390625,-45.87609100341797,-47.151611328125,41.67138671875,29.147808074951172,23.702505111694336,8.36771297454834,7.452977180480957,26.123525619506836,12.41810417175293,22.055530548095703,10.16810131072998,-46.288631439208984,32.0202522277832,41.18870544433594,-38.25869369506836,-40.30356979370117,-31.991111755371094,-43.14760971069336,-52.89762878417969,15.149248123168945,7.650731563568115,-40.06390380859375,-16.279783248901367,-41.65177917480469,-41.40129470825195,-41.4935417175293,-31.915193557739258,-39.62563705444336,-39.77872848510742,-42.80628967285156,-24.142559051513672,-37.06111145019531,-32.94844055175781,-32.7094612121582,-40.83631134033203,-30.287303924560547,-36.455745697021484,-32.5312385559082,-27.36449432373047,-32.111328125,-39.96219253540039,-52.10100555419922,22.421405792236328,-42.67629623413086,-34.122840881347656,-30.349105834960938,-12.901352882385254,-28.79728889465332,28.400651931762695,49.3213996887207,3.7221057415008545,-13.01479721069336,-32.01249694824219,-54.811302185058594,-52.08701705932617,-41.11723327636719,18.00762176513672,-31.756637573242188,-43.33012390136719,-3.442413330078125,-33.046173095703125,-30.986082077026367,22.35260581970215,-31.105449676513672,24.3773136138916,-35.979217529296875,27.092735290527344,-20.093564987182617,15.410745620727539,-3.298229694366455,37.20182418823242,-53.6522102355957,-32.49037551879883,-18.731338500976562,48.43421173095703,-42.853294372558594,18.111984252929688,-48.32941818237305,-39.06145095825195,-19.336164474487305,1.5998903512954712,-10.605284690856934,-53.32490539550781,-16.235822677612305,-44.41181945800781,-44.498165130615234,-43.09273147583008,-43.86383819580078,-44.14857864379883,-44.74989318847656,-43.841922760009766,-44.777366638183594,-52.83687210083008,-45.085548400878906,-25.1817626953125,-16.13763427734375,6.569628715515137,-12.493168830871582,-10.484172821044922,-17.22100067138672,-18.404937744140625,-23.689388275146484,-11.535383224487305,40.95521926879883,28.690767288208008,-13.109037399291992,7.162114143371582,9.258684158325195,1.198245644569397,-6.793792724609375,24.527219772338867,-14.177989959716797,-18.420211791992188,-20.13835334777832,-17.231718063354492,-18.2060489654541,-43.6707763671875,-20.398767471313477,-6.878108024597168,-20.335596084594727,1.1486536264419556,-20.279611587524414,5.494989395141602,-12.884767532348633,1.6392266750335693,-19.672332763671875,28.464458465576172,-14.22942066192627,-27.100482940673828,-14.950581550598145,-14.787042617797852,-1.5393017530441284,-0.5329239964485168,-12.630160331726074,-4.126374244689941,-2.4722509384155273,-2.506643295288086,-5.593049049377441,-26.046367645263672,-6.48115873336792,-5.007343769073486,-12.250162124633789,43.7486457824707,-4.455883026123047,-3.9409165382385254,-1.3440905809402466,39.942527770996094,-3.4185402393341064,-4.995331287384033,-17.044361114501953,-4.287100315093994,-4.929907321929932,-4.439080238342285,-1.4965345859527588,-3.014284610748291,-5.512434482574463,-6.3032612800598145,-25.538618087768555,31.660629272460938,-3.17714262008667,-4.277601718902588,-6.459563732147217,-5.185880184173584,-4.921403408050537,-2.7266347408294678,-4.943857669830322,-1.821497917175293,-1.2491247653961182,-3.4131128787994385,-2.3574883937835693,-1.0980768203735352,-1.5122785568237305,-4.209038734436035,-4.415616035461426,-2.210641622543335,9.05201530456543,8.949084281921387,47.625885009765625,-12.470391273498535,-3.3731629848480225,6.919745445251465,7.9238505363464355,-2.2232346534729004,7.580612659454346,-12.173933029174805,-14.663098335266113,-15.292620658874512,-12.062599182128906,-15.80990219116211,-28.482576370239258,-10.667195320129395,-11.2249174118042,45.70039367675781,-14.428194999694824,-15.55488395690918,-15.228361129760742,-15.964146614074707,-13.657478332519531,-14.9935884475708,-13.527092933654785,-14.220473289489746,7.744915962219238,-11.230151176452637,-16.274423599243164,-25.846942901611328,-15.253416061401367,-13.130082130432129,-16.129459381103516,-10.168871879577637,41.96979904174805,46.454952239990234,-13.70928955078125,47.5784797668457,-26.43741226196289,-11.481386184692383,-52.12307357788086,15.145537376403809,18.061792373657227,30.651487350463867,30.681711196899414,29.75579833984375,45.70732879638672,-11.129773139953613,-10.624452590942383,-14.204401969909668,-10.660183906555176,-12.715568542480469,-13.808399200439453,44.622379302978516,-15.935657501220703,-12.502542495727539,45.868507385253906,-5.524443626403809,18.94171905517578],\"xaxis\":\"x\",\"y\":[-25.525020599365234,-53.775447845458984,17.50412940979004,-22.77855110168457,-2.0645697116851807,-25.26184844970703,-25.08125114440918,7.6514058113098145,15.769391059875488,-36.700897216796875,6.419217109680176,-36.46075439453125,-40.48929977416992,-42.37339782714844,-41.05828857421875,-14.91952133178711,-38.22349548339844,-0.4677283465862274,37.53532791137695,39.746883392333984,-13.45584774017334,-14.322986602783203,26.50177574157715,9.8778657913208,38.353641510009766,35.8670768737793,26.000686645507812,-17.435861587524414,-17.67905044555664,-25.789960861206055,-2.2696986198425293,-23.840927124023438,-26.753957748413086,-17.94166374206543,-17.036182403564453,9.811013221740723,-6.187005996704102,39.22315979003906,-6.658076286315918,-36.056182861328125,-14.29134750366211,-14.86769962310791,-0.20569881796836853,-14.290329933166504,-15.937657356262207,-0.4915640950202942,-17.050540924072266,-16.081653594970703,-20.583301544189453,-22.845848083496094,4.80663537979126,5.737095355987549,-41.5269775390625,-40.25233459472656,-23.604185104370117,-13.77420711517334,-39.929710388183594,-9.350972175598145,-26.532148361206055,-13.597556114196777,-17.654857635498047,-9.667981147766113,-18.729888916015625,25.630144119262695,-14.745858192443848,6.896069526672363,-14.446346282958984,-8.868678092956543,-10.523428916931152,-13.572748184204102,-24.617891311645508,-11.774194717407227,-19.150096893310547,20.831867218017578,-3.3799378871917725,15.865182876586914,11.164807319641113,40.668670654296875,-10.226397514343262,-12.957969665527344,3.608684778213501,39.90583038330078,-34.90940856933594,-38.9703483581543,2.5970728397369385,14.987940788269043,7.2632737159729,10.98147964477539,9.651360511779785,-55.87482833862305,-55.57292556762695,-55.865360260009766,17.57479476928711,26.645416259765625,-27.632213592529297,-1.6322060823440552,-16.59908103942871,-20.72893524169922,1.0978556871414185,-24.902084350585938,-36.73741912841797,-41.51223373413086,37.54989242553711,-17.840166091918945,-0.2827214300632477,-0.4446091949939728,-0.2798902988433838,2.759104013442993,-1.3217869997024536,-6.569010257720947,-0.9500513672828674,-0.9405779838562012,-37.81109619140625,-22.578739166259766,-6.812380313873291,-36.49163055419922,6.053258419036865,-22.40968132019043,-13.142581939697266,-3.745630979537964,-26.523359298706055,-23.43950843811035,1.82941734790802,-7.298901557922363,17.116037368774414,-27.268505096435547,-23.569780349731445,-24.999601364135742,-12.01047134399414,6.981225490570068,-17.657827377319336,-17.622833251953125,-17.85084342956543,-11.055745124816895,-10.790005683898926,-7.256863117218018,-11.091397285461426,-13.275932312011719,25.603805541992188,20.402132034301758,21.549606323242188,20.91602325439453,21.42464256286621,23.889127731323242,19.863378524780273,23.61761474609375,20.056535720825195,23.367115020751953,26.5875186920166,23.375734329223633,19.791353225708008,26.862123489379883,26.072402954101562,14.167126655578613,-14.423851013183594,14.150228500366211,16.56092071533203,15.051911354064941,10.859719276428223,-4.690621376037598,15.082572937011719,14.911626815795898,13.043896675109863,1.6795514822006226,1.8999192714691162,-27.849876403808594,14.197032928466797,9.148959159851074,-26.749238967895508,8.264435768127441,-9.84794807434082,-5.682729721069336,3.0983238220214844,-4.072267055511475,-38.44435119628906,-7.907625675201416,-37.20906066894531,-16.109460830688477,-14.931388854980469,-6.302822589874268,-14.249560356140137,-13.00350570678711,-6.874123573303223,20.474925994873047,-5.883241176605225,-5.857182025909424,-14.6642484664917,-7.038006782531738,-6.5653486251831055,-5.947771072387695,19.092220306396484,-6.293589115142822,-16.02350616455078,-11.130701065063477,5.998693943023682,-7.017746448516846,16.769168853759766,-9.436810493469238,-22.78094482421875,-8.908727645874023,-5.771855354309082,7.537696838378906,-7.102744102478027,-9.210485458374023,-13.692388534545898,-6.679271697998047,-6.687452793121338,-5.231346130371094,-7.618170738220215,-6.979414463043213,-5.640505313873291,-23.628541946411133,-5.6435160636901855,-8.889727592468262,-16.017366409301758,-8.848759651184082,-5.450709819793701,-9.062736511230469,-6.148837566375732,-8.51219367980957,4.106591701507568,-6.709582328796387,14.836539268493652,36.02387619018555,36.91518783569336,34.004302978515625,-2.8574702739715576,-2.569923162460327,-12.382429122924805,-23.859891891479492,-20.984350204467773,-7.889518737792969,-22.314485549926758,18.279077529907227,-22.998966217041016,-14.031816482543945,21.378870010375977,16.05890464782715,-23.30543327331543,1.5833063125610352,16.944957733154297,32.209999084472656,32.56208419799805,36.965736389160156,32.672462463378906,37.5927619934082,34.18778610229492,30.45517921447754,36.55250549316406,36.483604431152344,34.0482177734375,36.028621673583984,32.92102813720703,-19.49472999572754,40.43178176879883,33.61732864379883,30.582849502563477,32.89128494262695,35.25837326049805,28.1533145904541,34.77027893066406,29.762502670288086,34.65811538696289,34.889854431152344,-26.698440551757812,44.7541389465332,31.996667861938477,31.288558959960938,34.112525939941406,32.63843536376953,32.62596893310547,35.3462028503418,35.070472717285156,35.992393493652344,35.84196853637695,35.38495635986328,35.2091064453125,24.85401153564453,30.784093856811523,32.205726623535156,36.2650260925293,27.576839447021484,36.97538375854492,31.24325180053711,30.623254776000977,18.16560173034668,35.959041595458984,35.42597579956055,30.21677589416504,32.197872161865234,34.07174301147461,33.20480728149414,31.999385833740234,36.24919128417969,40.46059799194336,37.89022445678711,22.985645294189453,39.3209114074707,34.138980865478516,37.40592575073242,40.89533996582031,36.66852569580078,33.17686080932617,37.333892822265625,34.61149978637695,40.784366607666016,11.24256706237793,16.493175506591797,10.597275733947754,15.76352310180664,6.0068840980529785,3.610787868499756,14.56224250793457,6.9626054763793945,6.000423431396484,7.5002217292785645,-1.8968334197998047,19.11205291748047,7.563908100128174,17.002708435058594,8.199996948242188,5.596813201904297,4.495466232299805,13.48060131072998,21.694494247436523,7.72770357131958,20.92924690246582,14.216148376464844,21.857858657836914,12.194470405578613,14.630084037780762,10.675032615661621,1.094449758529663,21.48672103881836,14.827499389648438,4.472551345825195,35.1964111328125,4.1590471267700195,5.316458225250244,37.93967056274414,10.636260032653809,21.288850784301758,6.48026180267334,20.865787506103516,5.5932159423828125,20.316373825073242,17.04408836364746,19.254322052001953,20.79352378845215,17.973421096801758,15.898280143737793,17.093093872070312,16.011066436767578,16.615171432495117,21.452444076538086,20.366361618041992,-39.071414947509766,19.636062622070312,-38.98841094970703,-37.268775939941406,-36.733192443847656,-39.18186569213867,21.97722053527832,-37.96638488769531,5.150129795074463,19.56245994567871,21.871910095214844,10.942941665649414,-43.760501861572266,-38.620765686035156,-37.41154479980469,-37.28974151611328,-37.333641052246094,27.908906936645508,-38.2492561340332,45.865352630615234,-23.647493362426758,2.884012222290039,27.70147705078125,18.473604202270508,2.784376621246338,20.111082077026367,-4.405237674713135,19.04376220703125,18.491308212280273,-20.18673324584961,8.548712730407715,4.379851818084717,2.6050477027893066,38.83323669433594,12.246721267700195,8.288315773010254,6.066251754760742,11.82364273071289,5.573504447937012,11.302207946777344,7.3057379722595215,11.727343559265137,7.920468330383301,11.862045288085938,-19.154752731323242,-11.683581352233887,-25.451963424682617,-23.353515625,-24.092905044555664,-7.898512363433838,-21.0756778717041,-25.88502311706543,-7.423755645751953,-24.142805099487305,-24.01683235168457,-6.433138847351074,6.03123140335083,21.326248168945312,14.241364479064941,10.2615327835083,8.7529935836792,-39.45962905883789,-7.520903587341309,-19.157745361328125,-19.113615036010742,11.710309982299805,-40.94778823852539,11.021770477294922,6.199428558349609,11.48918342590332,30.937822341918945,-31.718358993530273,9.758575439453125,10.750210762023926,9.592745780944824,33.3339958190918,36.065223693847656,31.016529083251953,34.61001968383789,34.096248626708984,43.46649932861328,-20.51311683654785,32.32374572753906,35.66442108154297,34.332515716552734,44.953758239746094,38.334083557128906,10.451372146606445,14.015508651733398,38.07482147216797,15.059618949890137,39.876014709472656,4.952091217041016,40.41722106933594,41.91973114013672,42.51143264770508,42.2367057800293,40.549774169921875,7.909065246582031,12.052291870117188,15.846475601196289,43.858768463134766,21.06473159790039,39.03456115722656,14.15707015991211,20.762266159057617,-3.2157227993011475,36.59537124633789,21.19094467163086,-2.9066805839538574,15.522391319274902,37.647518157958984,6.610527038574219,21.744853973388672,7.530792236328125,-16.078861236572266,6.550148963928223,-14.923088073730469,-16.670551300048828,-17.58775520324707,19.38943862915039,-16.84231948852539,-14.295722961425781,-17.174381256103516,-12.911453247070312,-38.04206085205078,-1.1752437353134155,42.24590301513672,7.848777770996094,-1.2241623401641846,-23.15798568725586,35.557010650634766,8.40603256225586,-23.017559051513672,28.62311363220215,-24.8159236907959,-13.925281524658203,-26.592100143432617,-25.42005729675293,6.8864336013793945,-17.311138153076172,-15.02773380279541,-21.96706771850586,-17.337440490722656,-25.463741302490234,-15.034193992614746,-4.099624156951904,-26.545780181884766,6.17746639251709,-18.743959426879883,-39.09060287475586,-31.0064754486084,-38.564937591552734,-25.838518142700195,7.782962322235107,-38.51446533203125,-22.70582389831543,7.426392555236816,-27.335134506225586,-24.839805603027344,-18.26837921142578,-13.509905815124512,-38.7664909362793,-38.65861511230469,37.958717346191406,-28.868558883666992,-42.398799896240234,29.185579299926758,-17.085229873657227,-23.78874397277832,-6.4228339195251465,-21.349010467529297,-13.247857093811035,-22.10442352294922,-23.321592330932617,-28.052576065063477,-8.041776657104492,-0.255322128534317,17.696260452270508,-24.34322738647461,-8.078834533691406,-24.602020263671875,-11.635024070739746,-21.80810546875,-24.828506469726562,-13.861589431762695,-17.716106414794922,-8.288395881652832,-23.539236068725586,36.74574661254883,-8.133087158203125,44.4151725769043,-21.64948844909668,-23.980567932128906,-5.5721516609191895,-28.082284927368164,-8.990970611572266,-6.404559135437012,43.702239990234375,-23.42019271850586,-21.91718292236328,21.011398315429688,-7.219608783721924,-6.895660400390625,-20.666290283203125,29.93473243713379,8.180323600769043,10.255524635314941,30.19968032836914,-41.715049743652344,-11.969728469848633,-20.3577938079834,-21.466632843017578,5.493376731872559,28.259361267089844,14.708629608154297,5.893042087554932,-4.695291996002197,15.030766487121582,9.737648963928223,28.663408279418945,20.952558517456055,12.217484474182129,12.341286659240723,1.5130703449249268,3.062807083129883,11.622323989868164,1.250939130783081,28.768640518188477,-1.6134167909622192,-1.1064982414245605,-2.8010482788085938,43.20382308959961,-36.79948425292969,-3.7174692153930664,15.685872077941895,11.807764053344727,29.549287796020508,27.832536697387695,15.107484817504883,11.595259666442871,-36.66964340209961,-3.1957030296325684,29.534189224243164,-3.218601942062378,28.979034423828125,-38.05136489868164,6.424687385559082,21.35061264038086,30.290952682495117,31.03841781616211,21.398611068725586,30.352951049804688,21.939931869506836,-39.49614715576172,19.482547760009766,20.084705352783203,11.492084503173828,6.837738037109375,24.498748779296875,23.034677505493164,6.614634990692139,6.404667377471924,5.815634727478027,15.409862518310547,5.446972846984863,22.29550552368164,15.353442192077637,16.479074478149414,21.73707389831543,-1.3029066324234009,25.59398078918457,5.700775623321533,18.132160186767578,16.723745346069336,4.468351364135742,20.308879852294922,-11.66336441040039,21.739065170288086,26.003896713256836,-8.808859825134277,-2.9377288818359375,20.216548919677734,5.66506814956665,28.106029510498047,-18.653886795043945,4.6879777908325195,17.111175537109375,-6.435805797576904,9.538267135620117,-14.890665054321289,-7.388550281524658,6.340304851531982,5.876007080078125,7.7124714851379395,7.5797905921936035,6.59796142578125,6.180688381195068,25.609275817871094,-43.60833740234375,-40.07544708251953,-39.96509552001953,-32.6603889465332,-1.6593103408813477,-39.7071533203125,10.831188201904297,-31.674291610717773,-41.810585021972656,-38.23598098754883,-42.44178771972656,25.580476760864258,-37.40105438232422,-42.1794319152832,28.4910945892334,-39.32528305053711,-14.070993423461914,-39.49995040893555,-15.320100784301758,-40.21221160888672,-17.854639053344727,-41.92094039916992,-40.03102111816406,-44.64856719970703,-43.42578887939453,-40.304622650146484,-40.349708557128906,-39.13168716430664,-41.867225646972656,-11.280704498291016,-38.427268981933594,3.1463370323181152,-37.75834655761719,-8.457122802734375,-38.600013732910156,-26.386066436767578,-40.81015396118164,-27.21048355102539,-37.39091491699219,-26.90111541748047,-41.04334259033203,-28.602249145507812,-28.040050506591797,-27.313077926635742,-21.921525955200195,-18.889446258544922,-21.92327880859375,-19.9859619140625,-22.94162368774414,-26.100069046020508,-34.31142807006836,27.85603904724121,2.791261672973633,-33.884605407714844,-20.464447021484375,-17.67302894592285,-32.35741424560547,-20.03363800048828,28.777956008911133,-2.1042768955230713,-22.56357192993164,-19.599096298217773,-28.577953338623047,-31.27238655090332,-35.823081970214844,-33.53263473510742,-1.5910098552703857,-24.340003967285156,-32.47647476196289,-32.80616760253906,-36.2414665222168,9.486350059509277,-27.710948944091797,-21.527307510375977,9.381364822387695,-22.267227172851562,-3.2394044399261475,-22.612655639648438,-2.3183183670043945,-8.648696899414062,16.991472244262695,-1.8350484371185303,-1.5540783405303955,-18.37472152709961,-28.07830047607422,-14.055398941040039,-27.185686111450195,-27.372594833374023,-18.289936065673828,-14.177821159362793,-7.21094274520874,-27.426746368408203,-16.643024444580078,-27.54555892944336,-19.038055419921875,-7.202587604522705,-17.02736473083496,-26.347644805908203,-7.225819110870361,-23.394514083862305,8.450501441955566,-7.536457061767578,-26.850053787231445,-13.446023941040039,-8.238022804260254,-14.009675025939941,7.470303535461426,-28.620885848999023,-13.774347305297852,-9.606866836547852,-27.87552833557129,-13.895355224609375,-1.6470037698745728,-17.6499080657959,36.084529876708984,-3.6407487392425537,16.94457244873047,-17.89781379699707,-2.4439163208007812,-42.605735778808594,1.5892139673233032,-7.322037220001221,-24.18198585510254,-3.3614675998687744,-4.181543350219727,0.40369105339050293,-20.33502960205078,3.8292148113250732,-33.73731231689453,-3.3808963298797607,-24.50673484802246,-26.17914581298828,-8.669179916381836,-13.165836334228516,-4.620971202850342,-13.625154495239258,-13.639939308166504,-20.09502601623535,-8.746506690979004,39.11652374267578,-23.023983001708984,-3.406707525253296,-17.562366485595703,3.007908821105957,-15.174705505371094,-18.988052368164062,-15.428881645202637,-1.274346113204956,-25.168760299682617,-36.515750885009766,-25.77981948852539,-22.015596389770508,4.883720397949219,-7.962654113769531,-3.6077890396118164,-25.495080947875977,-17.311588287353516,-11.78622055053711,-36.90470886230469,-25.435592651367188,-23.054582595825195,-20.994224548339844,-15.516301155090332,-26.787885665893555,-27.020898818969727,-13.126473426818848,-27.210962295532227,-24.937835693359375,37.3890380859375,-21.117698669433594,-22.315933227539062,-22.001888275146484,37.50135803222656,38.82735824584961,23.079662322998047,-55.48239517211914,-55.42338180541992,-23.32089614868164,2.796616554260254,-9.54721450805664,-21.645845413208008,-0.278116911649704,-23.983652114868164,-7.625238418579102,-23.539493560791016,-2.2281932830810547,1.8823447227478027,0.22536598145961761,-23.796653747558594,-3.8746252059936523,-24.536731719970703,-0.5067064166069031,-23.84308433532715,-23.91132164001465,0.126184344291687,-7.559284210205078,-16.207592010498047,-22.724599838256836,-8.94021224975586,-25.83598518371582,-23.949195861816406,-25.10790252685547,2.8711037635803223,-5.868372917175293,-11.352642059326172,0.7521286010742188,-6.035866737365723,-24.50355339050293,1.100413203239441,-24.132164001464844,3.989960193634033,16.77102279663086,-26.09801483154297,10.250815391540527,-23.632394790649414,44.80049514770508,-25.9798526763916,-23.06427001953125,15.838321685791016,-10.376241683959961,-13.67035961151123,34.853519439697266,-10.360005378723145,8.268359184265137,-11.567621231079102,-24.942411422729492,-11.486401557922363,-22.887298583984375,47.5348014831543,-5.026309967041016,47.701942443847656,15.940123558044434,19.902429580688477,-12.810989379882812,36.37351989746094,-4.36967658996582,-3.2528724670410156,28.966537475585938,-12.922852516174316,45.66415786743164,-9.606443405151367,24.680553436279297,44.584686279296875,-28.26523780822754,45.74533462524414,46.64826965332031,27.427499771118164,45.620548248291016,28.389667510986328,11.856169700622559,47.273990631103516,-28.385929107666016,46.3868408203125,29.052356719970703,47.15045928955078,56.874935150146484,5.0701003074646,46.69678497314453,7.005999565124512,35.76289749145508,-40.207244873046875,15.704665184020996,45.905399322509766,45.18528366088867,47.073360443115234,48.221920013427734,47.7878532409668,43.18230438232422,46.76202392578125,44.80535888671875,47.240562438964844,45.02186584472656,27.44324493408203,27.80962562561035,22.45665740966797,26.507415771484375,17.340961456298828,27.253986358642578,46.08147048950195,46.33180236816406,26.49812126159668,-16.509262084960938,45.19881820678711,23.568044662475586,44.85661697387695,45.33774948120117,-3.974357843399048,7.8959479331970215,37.24664306640625,44.16022872924805,27.865819931030273,-21.58073616027832,47.33253860473633,-21.343643188476562,45.65934753417969,46.169090270996094,46.13773727416992,-24.372243881225586,-16.802146911621094,26.75780487060547,42.97502899169922,47.135009765625,-18.476016998291016,44.633697509765625,43.608055114746094,-17.410030364990234,46.97395706176758,27.61369514465332,-19.337316513061523,-18.73380470275879,-18.407081604003906,-18.437135696411133,-18.351503372192383,-19.960887908935547,-18.395051956176758,-19.901578903198242,-37.626739501953125,-19.515836715698242,-27.74300193786621,-39.314125061035156,-28.36132049560547,28.157167434692383,-22.977266311645508,2.801558256149292,-39.43336868286133,-41.65548324584961,2.6039607524871826,-41.56452941894531,-27.377321243286133,-43.075260162353516,-23.011205673217773,-41.759849548339844,-27.935611724853516,-37.777442932128906,28.31970977783203,-2.558422088623047,-29.527894973754883,-42.93446731567383,29.779937744140625,-19.369096755981445,-24.18340492248535,-1.8066917657852173,-24.215538024902344,-18.229419708251953,-26.668933868408203,-27.95538330078125,-41.263023376464844,-36.029022216796875,-26.11859893798828,-26.647052764892578,-40.90206527709961,-28.772436141967773,-43.448570251464844,-44.82823181152344,-43.735984802246094,-22.92900848388672,-41.34345245361328,-43.35649108886719,-40.01702880859375,-40.200679779052734,-44.3956413269043,-43.95427703857422,59.48420333862305,58.497093200683594,60.33176040649414,61.406898498535156,57.2896614074707,33.21820068359375,61.191017150878906,55.454837799072266,60.2852668762207,58.47211837768555,57.39516067504883,59.83348083496094,57.35129165649414,60.26950454711914,55.683982849121094,57.99833679199219,58.733306884765625,58.58506393432617,58.085472106933594,57.63835525512695,59.687461853027344,-1.973829984664917,-1.920190691947937,61.37376403808594,58.60203552246094,60.98625946044922,60.15522384643555,59.60111618041992,58.98621368408203,58.31812286376953,60.366607666015625,57.81423568725586,58.865013122558594,59.39822769165039,60.953006744384766,-24.404956817626953,59.28336715698242,59.67482376098633,56.849609375,27.370756149291992,-2.267530918121338,-2.3370003700256348,36.45111846923828,35.92919921875,36.485443115234375,32.53376007080078,32.50642395019531,36.8635368347168,-21.00758171081543,13.38500690460205,42.46283721923828,-7.6538920402526855,33.238121032714844,30.72043228149414,34.895172119140625,0.7940982580184937,36.95128631591797,37.536869049072266,30.59680938720703,-0.7919071316719055,30.12612533569336,39.361202239990234,36.469017028808594,33.031394958496094,22.980525970458984,23.55590057373047,27.800575256347656,-1.6119585037231445,37.54279708862305,33.94510269165039,-0.8622717261314392,-21.882850646972656,30.76258087158203,32.78794479370117,-20.62025260925293,-0.6338244676589966,-20.13039779663086,40.442100524902344,38.58362579345703,38.465087890625,10.234671592712402,41.16041946411133,43.974910736083984,43.38764953613281,41.435794830322266,42.261207580566406,41.57670974731445,36.07229232788086,13.621899604797363,40.77421951293945,10.361144065856934,24.314661026000977,13.464973449707031,16.669166564941406,34.37812423706055,23.70717430114746,16.351970672607422,-10.142722129821777,24.548099517822266,17.607669830322266,15.379623413085938,12.02989387512207,16.97075843811035,24.88384246826172,24.559415817260742,23.07352638244629,40.68174743652344,27.139625549316406,17.43855094909668,28.475120544433594,17.38463020324707,17.25333023071289,24.167882919311523,18.347244262695312,28.12752914428711,16.402477264404297,23.339635848999023,6.388546943664551,12.244185447692871,16.118385314941406,11.635833740234375,40.64077377319336,24.45234489440918,24.20853614807129,11.283535957336426,41.13287353515625,-7.626051902770996,-6.554499626159668,5.507674694061279,-7.074719429016113,-6.699947834014893,7.57881498336792,-5.122640132904053,-6.411858558654785,-6.2647247314453125,9.069868087768555,-0.6904992461204529,-3.980053186416626,0.8801174163818359,33.1518440246582,-5.86939001083374,17.350996017456055,22.159656524658203,-22.923526763916016,0.8537325263023376,-0.854216456413269,9.397619247436523,38.37443161010742,-0.1782119870185852,14.447361946105957,34.970611572265625,35.007347106933594,35.4987678527832,0.8568933606147766,12.540064811706543,-0.9017934203147888,33.59236145019531,34.69443893432617,-0.7402803301811218,-24.824050903320312,-0.6211219429969788,-3.9159646034240723,10.459901809692383,-1.5969853401184082,27.979076385498047,4.5284342765808105,15.795947074890137,15.618904113769531,2.0327236652374268,-23.514087677001953,11.157716751098633,5.633026123046875,4.15402889251709,4.034007549285889,-22.942562103271484,3.8853046894073486,6.230691432952881,2.9075255393981934,5.617072105407715,-22.931291580200195,-0.9977496266365051,19.202733993530273,-2.784618616104126,-0.0247393436729908,-1.1891064643859863,-7.9091901779174805,-22.57742691040039,0.14946889877319336,10.192843437194824,-25.510854721069336,1.3664520978927612,10.250968933105469,-1.0559723377227783,-25.437395095825195,-23.775259017944336,-25.51296043395996,-16.931041717529297,-17.02357292175293,-14.5333833694458,-24.942276000976562,-22.255226135253906,-16.637557983398438,-17.072206497192383,-2.2330100536346436,-16.263092041015625,-21.72292709350586,0.3746951222419739,-27.25967788696289,-21.056011199951172,-2.971493721008301,-22.680255889892578,20.64818000793457,-4.907954692840576,-20.965837478637695,-2.6068711280822754,-22.799707412719727,-4.192978382110596,-14.748337745666504,-42.32442855834961,-21.933780670166016,-10.595854759216309,-11.493818283081055,-22.658498764038086,-14.427409172058105,-22.84961700439453,-5.8891425132751465,-5.506689071655273,-12.888592720031738,8.757494926452637,6.663515567779541,2.7239792346954346,-14.514861106872559,-22.264806747436523,-13.156612396240234,-21.555313110351562,9.130865097045898,-21.371809005737305,-6.994554042816162,-3.263261318206787,-6.363767147064209,-2.4650213718414307,-6.345815181732178,-9.159183502197266,9.901666641235352,-8.20895004272461,-4.95402717590332,-4.6193647384643555,-4.974548816680908,10.247371673583984,-20.721397399902344,6.17960262298584,-5.157360076904297,-5.6438469886779785,-9.046168327331543,10.217889785766602,-21.622039794921875,-6.1695170402526855,-8.230464935302734,-6.983698844909668,35.25030517578125,-21.3968448638916,-39.29985046386719,-8.063782691955566,7.880850315093994,3.496250867843628,8.096199989318848,6.027379035949707,8.751346588134766,9.990730285644531,7.735708236694336,5.799224376678467,9.247779846191406,6.367335319519043,37.67754364013672,37.3443489074707,37.18606185913086,12.095605850219727,-9.107671737670898,8.625898361206055,-22.84123420715332,-8.675310134887695,10.89261245727539,-43.98373794555664,7.43625545501709,37.613059997558594,-13.949060440063477,3.7844560146331787,1.1605615615844727,3.6622231006622314,1.5753427743911743,-4.003421306610107,-5.84210205078125,2.9436521530151367,3.280304193496704,-1.5728223323822021,3.525686740875244,9.269655227661133,13.827879905700684,7.123650550842285,10.660643577575684,4.180070877075195,-1.4619638919830322,8.130661964416504,3.7134125232696533,-3.146503210067749,-5.946923732757568,1.4682013988494873,-13.892356872558594,-2.9957377910614014,9.638294219970703,0.9728526473045349,9.513799667358398,1.8277792930603027,-4.839737415313721,-2.9114434719085693,-23.06601333618164,-4.603161334991455,0.07640863209962845,17.693408966064453,-21.108949661254883,-20.898847579956055,15.455674171447754,-0.47853735089302063,43.4063835144043,37.335533142089844,44.814170837402344,40.95314025878906,-6.003026485443115,-6.770594120025635,44.80150604248047,44.152286529541016,9.786210060119629,4.373956203460693,-6.693744659423828,24.22208595275879,-7.205045223236084,10.72026538848877,23.228790283203125,23.88035774230957,-22.088802337646484,38.664127349853516,43.4889030456543,23.43330955505371,-5.947991371154785,39.43022537231445,-29.798480987548828,-34.47468566894531,39.87294006347656,-30.112329483032227,43.8895263671875,43.23019790649414,-6.051019191741943,27.235387802124023,39.36394500732422,5.325188636779785,5.874337196350098,4.337332725524902,4.321644306182861,-4.912570476531982,-27.675010681152344,5.077369213104248,3.190072774887085,4.619740009307861,-21.41738510131836,-23.095985412597656,-43.07665252685547,-1.3673608303070068,-22.302982330322266,8.91287612915039,-27.065685272216797,9.135494232177734,-41.5442008972168,6.861963748931885,-45.98439407348633,-2.1351993083953857,-22.764699935913086,-5.911664009094238,-21.582332611083984,-2.1859188079833984,8.230181694030762,5.828549861907959,6.49989652633667,7.178011417388916,-43.62678146362305,-6.222597122192383,-45.97003173828125,10.501009941101074,9.992209434509277,4.674208641052246,7.971122741699219,-22.18535041809082,9.72254467010498,-25.4368896484375,-6.693892002105713,14.818001747131348,16.606721878051758,-5.776918411254883,-4.992090702056885,4.243790626525879,-5.086911678314209,-5.019890785217285,-3.3154492378234863,1.8933359384536743,12.145927429199219,12.369135856628418,15.879863739013672,21.104534149169922,-6.352062225341797,16.174152374267578,28.324731826782227,17.865585327148438,19.57790756225586,-5.716853141784668,-20.75107765197754,-5.032270431518555,16.83711814880371,-19.9912166595459,-15.148330688476562,-5.318607330322266,-12.240413665771484,21.331838607788086,15.145674705505371,-3.0055806636810303,-3.817004680633545,-1.9229755401611328,-17.76275634765625,22.037633895874023,26.290870666503906,12.030210494995117,15.581727027893066,16.92215347290039,-2.342761754989624,-25.18453598022461,0.0429561510682106,12.172210693359375,23.97344398498535,-5.888238906860352,-18.214584350585938,-10.07034969329834,12.617576599121094,-13.1723051071167,15.575299263000488,21.58368682861328,-2.4489970207214355,-21.23771095275879,11.686189651489258,12.103188514709473,5.942154884338379,-3.492563247680664,-12.931184768676758,0.9255291819572449,18.452083587646484,17.314878463745117,23.202402114868164,17.643753051757812,16.41584014892578,5.092698097229004,21.400312423706055,17.475069046020508,13.084918022155762,-2.0123941898345947,14.97412395477295,-2.0519919395446777,17.699203491210938,17.126728057861328,46.383201599121094,35.753639221191406,15.858396530151367,42.59822082519531,-20.615774154663086,15.707204818725586,16.59600257873535,14.29759407043457,-24.359397888183594,15.278363227844238,22.10167121887207,-11.497893333435059,24.887754440307617,18.477333068847656,16.690143585205078,-4.9959564208984375,5.72260046005249,15.913043975830078,15.755498886108398,16.644771575927734,16.527597427368164,-26.625316619873047,28.402204513549805,26.10653305053711,-15.698847770690918,19.547948837280273,18.96533966064453,17.559375762939453,16.210744857788086,36.18132400512695,-2.693995952606201,-4.3936872482299805,-7.746844291687012,-13.833894729614258,-2.1552438735961914,-39.22382736206055,-6.372525691986084,-7.877438068389893,-5.247747898101807,-15.810650825500488,16.730688095092773,-5.000749588012695,17.04757308959961,5.977449417114258,-40.90024948120117,-57.55002975463867,28.07848358154297,6.133218288421631,-55.819305419921875,-4.969213485717773,-20.547080993652344,26.35637664794922,-2.4465363025665283,-40.811492919921875,16.686742782592773,11.793510437011719,-54.42875671386719,20.98455047607422,20.338844299316406,29.99401092529297,23.12645721435547,6.008427619934082,28.23337173461914,-39.12971496582031,-54.90909194946289,20.67897605895996,-39.88914108276367,16.933082580566406,24.97938346862793,-22.631986618041992,20.45541000366211,19.346912384033203,12.884613990783691,-6.30312967300415,18.813100814819336,-7.388638019561768,-23.26626968383789,-7.769811153411865,-24.870872497558594,-3.0286619663238525,-8.046358108520508,22.24651527404785,16.410812377929688,21.392053604125977,23.889097213745117,22.228134155273438,-8.185626983642578,-54.66032409667969,-56.215145111083984,-56.60047149658203,-36.3968505859375,-38.894813537597656,20.541650772094727,19.126296997070312,-39.273597717285156,16.198251724243164,20.97677993774414,23.092618942260742,-39.3941764831543,-57.28003692626953,-7.933684825897217,-57.29362869262695,-57.1993522644043,-8.13927173614502,-56.279052734375,-56.88701629638672,17.39156723022461,-56.14980697631836,-56.889747619628906,-57.25882339477539,-8.123908996582031,19.66574478149414,17.70248031616211,17.916189193725586,-39.736122131347656,-40.71120834350586,16.406539916992188,19.473310470581055,-41.3367919921875,-40.67680358886719,-40.64188003540039,-40.67521286010742,16.092304229736328,16.14262580871582,-39.827144622802734,-29.291603088378906,-28.27764320373535,-30.774517059326172,-30.145095825195312,-30.404735565185547,-9.38644790649414,-30.752792358398438,-26.93910789489746,-31.351612091064453,-30.22415542602539,7.972919464111328,8.004714012145996,-26.573604583740234,-39.53538513183594,28.966672897338867,-9.885774612426758,-9.365523338317871,8.849804878234863,29.0852108001709,8.274406433105469,5.618204116821289,22.112598419189453,-31.851600646972656,26.17757225036621,6.905158996582031,7.394070625305176,15.234354019165039,-31.062759399414062,5.083798408508301,-27.774887084960938,-23.301523208618164,-27.465700149536133,-25.617650985717773,-28.78740692138672,-37.97541046142578,-30.365325927734375,-30.910497665405273,-31.566024780273438,-30.578977584838867,28.227643966674805,25.110733032226562,8.286168098449707,19.16399574279785,28.544322967529297,30.54399871826172,29.177358627319336,24.243534088134766,-35.804893493652344,31.127643585205078,29.528953552246094,28.718502044677734,19.3298397064209,26.330154418945312,13.914843559265137,29.050395965576172,28.623275756835938,27.66699981689453,-22.30112075805664,10.6226167678833,-36.73134231567383,-37.70730209350586,13.333998680114746,-34.623355865478516,24.251155853271484,11.179545402526855,13.758740425109863,1.2497047185897827,23.222320556640625,21.17013168334961,12.911267280578613,-40.77432632446289,-26.6368408203125,-34.4524040222168,18.72903823852539,20.564346313476562,22.681968688964844,19.91379165649414,-36.031288146972656,15.464455604553223,11.983929634094238,12.607054710388184,-15.742926597595215,-19.976123809814453,-0.9579856991767883,-35.82219314575195,11.692327499389648,-15.018735885620117,-36.4444465637207,19.773258209228516,-15.384394645690918,10.981492042541504,-4.8307037353515625,-36.08367156982422,-37.657264709472656,-35.877769470214844,-36.897010803222656,21.361026763916016,21.533123016357422,17.163583755493164,-9.859870910644531,32.44044494628906,7.863974571228027,-21.675161361694336,7.459614276885986,8.996764183044434,8.910655975341797,34.09159469604492,-37.838863372802734,7.334315299987793,28.74323844909668,29.949695587158203,32.25093078613281,32.852134704589844,31.346586227416992,29.628433227539062,28.755939483642578,9.615192413330078,13.326498031616211,31.662233352661133,-40.596092224121094,-37.9517822265625,31.033937454223633,8.363567352294922,33.23875427246094,31.876733779907227,31.89927101135254,-19.18292236328125,-17.63665771484375,-18.030574798583984,-18.85034942626953,-18.431840896606445,-17.265453338623047,11.239518165588379,-38.45301055908203,-8.736574172973633,-23.336721420288086,-21.908702850341797,-18.62700843811035,-21.06403350830078,31.89319610595703,30.540508270263672,9.865992546081543,35.99927520751953,28.168346405029297,30.991230010986328,30.90440559387207,33.241127014160156,32.89533233642578,17.17583465576172,-1.1477733850479126,21.052764892578125,11.010992050170898,-11.169089317321777,30.579158782958984,24.934993743896484,-36.88699722290039,23.422027587890625,-18.967634201049805,29.418102264404297,-35.730491638183594,18.7225341796875,31.615009307861328,-24.16815757751465,24.50605010986328,10.01802921295166,10.613228797912598,24.321533203125,3.4555068016052246,29.47612953186035,30.962556838989258,-33.73774337768555,31.030832290649414,-6.98965311050415,-20.615650177001953,32.32088088989258,-14.689167022705078,-33.5050163269043,31.199031829833984,24.307340621948242,11.011697769165039,30.96989631652832,-35.399356842041016,23.921789169311523,29.886137008666992,-20.016448974609375,28.901704788208008,-12.78145980834961,-18.5964412689209,-18.90641975402832,29.56451416015625,-20.06473159790039,28.911880493164062,-23.559289932250977,-33.65657424926758,-40.77492141723633,30.682069778442383,34.08260726928711,24.59062385559082,28.56244659423828,29.336471557617188,30.14447021484375,27.31934356689453,30.403274536132812,29.94317054748535,30.404024124145508,-5.41194486618042,25.511341094970703,-33.42848587036133,-9.715002059936523,-13.16571044921875,9.919034004211426,-3.0674657821655273,2.8788530826568604,-4.299754619598389,28.09362030029297,5.051454067230225,10.68820571899414,3.260772228240967,-5.648065090179443,-9.837044715881348,-8.809557914733887,2.853928804397583,-5.431234359741211,2.62933611869812,-18.664140701293945,-3.7265427112579346,-12.782295227050781,10.908699035644531,10.63667106628418,4.743682384490967,-11.187406539916992,10.16281795501709,-12.980998992919922,9.968533515930176,21.28984832763672,-1.3386896848678589,6.840125560760498,5.5405402183532715,15.523406982421875,7.6332478523254395,3.0955896377563477,16.519643783569336,-21.9677791595459,19.384153366088867,-22.45302391052246,9.191322326660156,22.869457244873047,21.787151336669922,18.402067184448242,21.806167602539062,22.737518310546875,5.026798725128174,5.673573970794678,6.191176414489746,-37.54119110107422,19.86336898803711,3.276750326156616,8.098374366760254,4.226105690002441,24.680021286010742,6.022606372833252,4.845065593719482,8.389460563659668,2.9066295623779297,22.252464294433594,16.324052810668945,18.546661376953125,5.953599452972412,7.024807453155518,21.046180725097656,1.7576441764831543,17.587474822998047,-15.389408111572266,-19.615869522094727,23.047956466674805,-12.306962013244629,-18.398876190185547,20.685945510864258,15.873250961303711,23.10613441467285,24.25088882446289,23.054462432861328,-31.802011489868164,-16.87929916381836,-16.731189727783203,-44.251251220703125,6.102094650268555,-37.1823616027832,-32.120216369628906,-13.938321113586426,11.506474494934082,-19.204404830932617,-18.8021297454834,-18.36052894592285,-13.814730644226074,-22.577138900756836,-14.39918041229248,5.194961071014404,-12.340425491333008,-11.229464530944824,-11.951501846313477,-42.590694427490234,-16.46809196472168,-14.273049354553223,-47.36473083496094,-43.42465591430664,-19.08468246459961,-17.76154136657715,-11.385390281677246,-12.085087776184082,-13.044078826904297,-13.889383316040039,-18.12720489501953,-17.816917419433594,-13.96463680267334,-12.039198875427246,-12.765626907348633,-11.883416175842285,-20.31418228149414,10.795480728149414,3.417637348175049,-7.499591827392578,-7.179245948791504,-7.323548793792725,-7.831577777862549,-11.817221641540527,10.123258590698242,-7.793728351593018,-6.414371967315674,-1.7065541744232178,-9.892507553100586,9.456193923950195,-11.624808311462402,-39.55466079711914,-34.00290298461914,-9.09681224822998,-10.953527450561523,-8.410494804382324,-34.53803634643555,-8.685935974121094,-42.78082275390625,-24.98133659362793,-10.902477264404297,12.150766372680664,-11.900100708007812,-7.940323829650879,-28.73128890991211,-31.792631149291992,-33.511592864990234,-7.306388854980469,-7.169705390930176,-12.873544692993164,-14.40972900390625,10.565628051757812,-11.220779418945312,10.00265121459961,2.2741377353668213,-15.632923126220703,-7.586172103881836,-37.97792053222656,-3.748264789581299,-11.666099548339844,-14.819186210632324,-4.400401592254639,-37.53274917602539,-39.06071472167969,-0.17671631276607513,-37.391326904296875,-38.5756721496582,-39.056419372558594,-31.034395217895508,-42.69429397583008,-42.05736541748047,-39.07039260864258,-46.18437194824219,-8.85086727142334,-33.03921127319336,20.941953659057617,6.4902873039245605,-45.71303176879883,8.137276649475098,-47.94467544555664,-46.0445556640625,5.299536228179932,5.747876167297363,9.490886688232422,5.0108962059021,-19.57562255859375,27.457826614379883,21.039716720581055,-22.5653018951416,22.318674087524414,3.489987850189209,-10.318868637084961,-21.14134979248047,27.774486541748047,21.961441040039062,-10.526694297790527,4.4918999671936035,5.788963317871094,9.574079513549805,4.953612804412842,-46.61073684692383,4.803873538970947,-3.109318494796753,6.642972946166992,-44.23698425292969,3.9848546981811523,-0.38635411858558655,4.153836250305176,-46.3218994140625,6.953898906707764,-21.68964385986328,-24.507675170898438,-22.735858917236328,-23.74834442138672,-35.95586395263672,-23.91176414489746,-55.6653938293457,-22.210899353027344,18.848041534423828,-35.91688919067383,-32.225303649902344,38.935367584228516,-37.68210983276367,-35.49019241333008,-11.249770164489746,-31.174091339111328,38.3494987487793,-33.96146774291992,-38.59469223022461,-12.434842109680176,-38.8679313659668,-9.12169075012207,-12.263662338256836,-16.71100616455078,-33.24610900878906,-33.60328674316406,-30.243183135986328,-37.50508499145508,15.507033348083496,-38.213741302490234,-10.177735328674316,-21.515085220336914,-34.45305252075195,-14.993911743164062,-22.602935791015625,-38.217262268066406,7.3238067626953125,37.95062255859375,-38.55687713623047,-22.942588806152344,-40.88319778442383,-39.181880950927734,-7.968417167663574,1.3812096118927002,0.672020435333252,-7.85243558883667,-34.31051254272461,1.447372317314148,5.203614234924316,-0.36188483238220215,1.651271104812622,1.7693268060684204,-2.416248321533203,-6.615542411804199,-2.854123115539551,-6.631831169128418,-8.292590141296387,-2.9921932220458984,-3.1855788230895996,4.150362491607666,-1.9541938304901123,10.071518898010254,-4.49080753326416,-5.999035358428955,-9.668594360351562,4.288719177246094,-5.306944847106934,-9.764984130859375,-3.0138204097747803,-6.515079975128174,1.9971429109573364,-0.8367488384246826,-2.1457784175872803,-4.794374465942383,-4.947259902954102,-6.130995750427246,1.7762234210968018,-8.6891508102417,-1.822243571281433,-4.374129295349121,-1.295868158340454,-7.672544002532959,1.2624008655548096,-9.197690963745117,-22.327281951904297,1.784196138381958,-3.1336350440979004,3.0906307697296143,1.9445315599441528,-4.3759541511535645,-3.559835433959961,0.9433208703994751,2.7381248474121094,-4.799331188201904,-4.822964191436768,-4.860708713531494,-36.46522903442383,-23.80900764465332,-36.731746673583984,-28.946271896362305,-23.759597778320312,-31.109533309936523,-22.992984771728516,-32.525611877441406,-28.70648956298828,10.114128112792969,-23.802831649780273,-34.857872009277344,-29.804702758789062,-36.550350189208984,-18.740665435791016,-22.95316505432129,-18.051549911499023,-26.201900482177734,-32.8499870300293,-32.32536697387695,-33.03390884399414,-28.49245262145996,-4.632354736328125,-24.603986740112305,11.064738273620605,-30.628307342529297,-31.127971649169922,-35.3705940246582,-24.333200454711914,28.87251091003418,10.984454154968262,0.31019866466522217,-15.082959175109863,2.8065171241760254,14.039552688598633,1.525214433670044,-35.730838775634766,-54.04877853393555,-35.43373107910156,-10.778799057006836,5.875481605529785,-22.96091079711914,23.517414093017578,19.705833435058594,6.053971290588379,17.95538330078125,5.244861125946045,21.86516571044922,23.01628875732422,15.200855255126953,23.356225967407227,22.45374298095703,-5.376103401184082,24.546873092651367,-9.037282943725586,17.627023696899414,18.665090560913086,23.001197814941406,22.85256004333496,8.784576416015625,4.908231735229492,18.137630462646484,22.722902297973633,21.861047744750977,25.52986717224121,23.892080307006836,18.901853561401367,22.515872955322266,24.174884796142578,18.66633415222168,17.717811584472656,23.155302047729492,6.893559455871582,9.578810691833496,3.2420191764831543,-15.771560668945312,25.706851959228516,23.193870544433594,-22.30024528503418,-14.30628490447998,-18.92397689819336,-15.331396102905273,-19.125322341918945,21.65277862548828,-12.828531265258789,-17.0438175201416,-12.789932250976562,-17.458736419677734,-19.438278198242188,-12.380570411682129,-47.301692962646484,-14.300482749938965,-15.194523811340332,-17.311471939086914,-11.1707763671875,-19.536418914794922,-14.417591094970703,-14.444211959838867,-15.926469802856445,-12.165254592895508,-18.51641273498535,-20.552104949951172,-17.71706199645996,-14.367640495300293,-8.243192672729492,-11.829938888549805,-17.20953941345215,-13.986554145812988,-43.226478576660156,-12.184731483459473,-44.39057922363281,-16.284149169921875,-33.64549255371094,-19.97560691833496,-12.681864738464355,-12.338435173034668,-18.036928176879883,-15.284029960632324,-19.40049934387207,-13.390016555786133,-28.03934669494629,-8.341388702392578,-21.451913833618164,-18.398481369018555,-13.022666931152344,-19.380401611328125,-15.588507652282715,-8.073729515075684,-19.127750396728516,-19.99461555480957,-8.456243515014648,-17.442546844482422,-19.665712356567383,-18.381500244140625,-17.460378646850586,-17.455108642578125,12.569013595581055,-19.489173889160156,-19.45023536682129,-19.170658111572266,-22.744543075561523,27.886117935180664,-18.644044876098633,-14.81479263305664,-10.011980056762695,-12.754271507263184,-21.284786224365234,-28.299489974975586,-26.362335205078125,-26.352073669433594,0.6578109860420227,-11.067399024963379,-23.45755958557129,-37.68892288208008,1.780564546585083,-19.02362632751465,10.911233901977539,-23.201322555541992,-20.416988372802734,-47.664947509765625,-22.461795806884766,-10.719602584838867,-12.811809539794922,-23.959228515625,-19.211057662963867,-23.276424407958984,6.176383018493652,-16.9683895111084,-19.505064010620117,20.6661434173584,-9.45495891571045,-17.88990592956543,27.85129737854004,-14.33850383758545,-14.042641639709473,-13.566343307495117,14.666817665100098,-15.56542682647705,10.54623794555664,-17.02222442626953,10.402132987976074,-11.635725021362305,10.801824569702148,-15.486146926879883,3.771552324295044,0.16036635637283325,-15.727049827575684,-17.687332153320312,-12.808313369750977,-13.903523445129395,-47.534996032714844,-16.748580932617188,-13.2042818069458,-8.164322853088379,-28.877988815307617,-13.87075424194336,-28.867929458618164,-14.230956077575684,-2.187124013900757,-1.0615288019180298,-15.36084270477295,-13.735625267028809,-17.437803268432617,-13.638578414916992,-2.1782419681549072,-28.835460662841797,-16.207870483398438,-14.894270896911621,-14.887709617614746,-16.2032527923584,-15.946663856506348,-28.83517837524414,-14.494853019714355,-3.9737393856048584,-15.940041542053223,-14.173489570617676,-17.837648391723633,-14.838250160217285,-2.9028162956237793,-6.705494403839111,-13.054152488708496,-38.92018508911133,-15.899598121643066,-14.150019645690918,-0.36291852593421936,-3.3894906044006348,-4.121881008148193,-2.0129528045654297,-1.5791298151016235,-1.2971925735473633,-1.6865849494934082,-1.888370394706726,-2.3289482593536377,-2.1935040950775146,-39.07986068725586,13.290671348571777,-42.36711120605469,-47.771724700927734,-45.71119689941406,6.119560241699219,-5.1400837898254395,-44.52404022216797,-39.8341178894043,7.101761817932129,-42.27871322631836,-0.059801604598760605,-40.13072204589844,-40.396636962890625,-40.028282165527344,-54.206485748291016,-22.80290412902832,16.685226440429688,-21.33639907836914,-0.8793302774429321,-20.06662940979004,-42.0355339050293,-41.724910736083984,-22.541898727416992,-41.11700439453125,-38.20684051513672,-21.46490478515625,-46.11579132080078,-45.2579345703125,-45.62991714477539,-45.936767578125,-41.738399505615234,-34.483219146728516,-40.995277404785156,-19.645872116088867,17.670372009277344,5.22048807144165,-2.673450469970703,-19.818613052368164,-22.724624633789062,-30.31428337097168,-26.038833618164062,-20.105663299560547,-20.88717269897461,-4.985376834869385,-1.6080538034439087,5.895760536193848,19.829631805419922,-27.104368209838867,-25.30038833618164,34.7835578918457,-39.1754150390625,-24.334367752075195,-25.5408935546875,-7.680819034576416,-25.605514526367188,9.478853225708008,34.04169464111328,-26.42080307006836,-20.38108253479004,-15.947595596313477,-25.824186325073242,-16.883798599243164,-37.95414352416992,6.773575782775879,-28.006122589111328,-12.814545631408691,-13.052788734436035,24.237815856933594,-21.17430305480957,-27.127552032470703,-24.389028549194336,28.815921783447266,-25.161396026611328,-24.691017150878906,-24.670873641967773,-16.79712677001953,-23.270004272460938,-25.334714889526367,-25.863670349121094,-16.921772003173828,-23.309345245361328,-21.65877342224121,-31.003881454467773,-18.284744262695312,-24.317670822143555,-28.075780868530273,-18.251188278198242,-33.25941848754883,-10.192109107971191,-36.30748748779297,-36.54148864746094,-34.516510009765625,-33.45029067993164,-38.82523727416992,-37.49761199951172,37.86471939086914,-39.781890869140625,-10.407791137695312,7.120540142059326,8.380815505981445,-6.492504119873047,-24.502641677856445,28.27716636657715,-34.142887115478516,-7.530149936676025,-9.321796417236328,-7.210530757904053,10.275888442993164,-4.350709915161133,-2.2018134593963623,6.601414680480957,-34.347267150878906,14.261617660522461,-37.3145751953125,-39.954490661621094,-35.997108459472656,5.934858322143555,-41.8441276550293,-34.56440353393555,-36.997432708740234,-45.975494384765625,-25.138280868530273,-29.942852020263672,-24.54743766784668,-34.92934799194336,-36.671382904052734,-30.228958129882812,-30.07184600830078,37.991119384765625,-18.023059844970703,-15.705808639526367,15.743276596069336,29.58684730529785,-26.237716674804688,9.547945022583008,-10.905389785766602,10.274582862854004,8.022539138793945,40.81052780151367,44.22404098510742,4.072819232940674,5.847219467163086,13.334931373596191,1.4579886198043823,-5.299826145172119,-0.15973028540611267,-36.087398529052734,6.58027458190918,6.846678256988525,6.9059600830078125,6.053753852844238,6.717947006225586,12.862109184265137,21.321565628051758,7.227255344390869,1.752475380897522,1.540798544883728,4.194812774658203,11.966375350952148,13.435894966125488,7.989211082458496,11.932897567749023,26.99859046936035,13.420466423034668,-34.36607360839844,13.65529727935791,6.543822288513184,-3.359421491622925,-13.118597984313965,19.747255325317383,12.558419227600098,11.928805351257324,15.705273628234863,9.537389755249023,-12.381386756896973,-15.049744606018066,-1.6948689222335815,46.51922607421875,4.820875644683838,-8.80501651763916,21.786327362060547,21.750986099243164,-18.722793579101562,4.873134613037109,17.417194366455078,52.23817825317383,12.232598304748535,7.587811470031738,-13.116188049316406,13.718446731567383,5.14089822769165,2.94736385345459,-41.926788330078125,10.715180397033691,0.08865755796432495,17.53976821899414,-25.820158004760742,-6.312951564788818,-15.153695106506348,2.136817216873169,-24.38193702697754,19.81293487548828,-18.191116333007812,6.158509254455566,18.303186416625977,10.202829360961914,-1.9863522052764893,7.634308338165283,-11.432326316833496,-6.491245746612549,-12.9140625,-12.22846794128418,-13.358348846435547,-14.867189407348633,-13.656356811523438,-15.558476448059082,-14.996075630187988,-16.66328239440918,-11.475568771362305,-13.515199661254883,28.32877540588379,35.167484283447266,10.268780708312988,34.505062103271484,44.30126190185547,27.89560890197754,33.606422424316406,30.737808227539062,29.527990341186523,47.37522888183594,43.04538345336914,33.7724609375,10.481132507324219,10.047015190124512,33.66931915283203,-1.267477035522461,-1.5751832723617554,35.25270080566406,37.085811614990234,30.43636703491211,34.19639205932617,28.84578514099121,-17.388553619384766,34.367652893066406,36.430274963378906,32.398155212402344,33.7130126953125,27.796463012695312,17.25221061706543,34.077877044677734,23.82077407836914,35.56028747558594,43.14604568481445,35.69729995727539,-33.99645233154297,17.357372283935547,18.5959415435791,13.03534984588623,34.185726165771484,16.318763732910156,52.863765716552734,49.2171630859375,53.06202697753906,52.453433990478516,19.819286346435547,-45.756683349609375,50.1436767578125,-10.225908279418945,35.740657806396484,48.754432678222656,49.9893913269043,51.00811767578125,43.999244689941406,50.17550277709961,48.01285171508789,0.1441114991903305,52.278289794921875,50.076812744140625,50.921630859375,51.08212661743164,51.422176361083984,53.502159118652344,53.3951301574707,-14.591705322265625,41.155155181884766,51.14058303833008,51.371158599853516,52.128177642822266,52.560752868652344,52.68251419067383,53.28225326538086,53.6171989440918,54.024837493896484,52.65365982055664,50.79624938964844,49.10479736328125,50.80099105834961,51.0263671875,53.08494567871094,54.61793518066406,51.95299530029297,-3.2837302684783936,-3.2948732376098633,35.65678024291992,46.2617301940918,53.23839569091797,0.04005758464336395,-15.491663932800293,49.269412994384766,0.31844910979270935,47.73212814331055,48.586856842041016,49.557273864746094,48.90566635131836,49.87841033935547,9.44796085357666,48.07840347290039,48.99778366088867,36.04025650024414,48.479732513427734,49.57146453857422,48.35274124145508,46.967735290527344,49.89498519897461,45.999454498291016,46.108665466308594,47.595298767089844,30.08590316772461,46.70284652709961,47.30009841918945,28.980998992919922,46.97791290283203,48.31858444213867,47.03085708618164,48.6390495300293,45.56862258911133,35.579673767089844,45.409305572509766,39.355777740478516,19.518911361694336,48.05990219116211,11.096782684326172,0.9066327214241028,9.087787628173828,-8.673530578613281,-8.625859260559082,42.35538101196289,36.07329177856445,47.57233810424805,50.05217742919922,47.443641662597656,44.68881607055664,49.916038513183594,49.83775329589844,34.69816589355469,50.12969970703125,48.43134307861328,36.289894104003906,47.50255584716797,-17.057273864746094],\"yaxis\":\"y\",\"type\":\"scattergl\"}],                        {\"template\":{\"data\":{\"histogram2dcontour\":[{\"type\":\"histogram2dcontour\",\"colorbar\":{\"outlinewidth\":0,\"ticks\":\"\"},\"colorscale\":[[0.0,\"#0d0887\"],[0.1111111111111111,\"#46039f\"],[0.2222222222222222,\"#7201a8\"],[0.3333333333333333,\"#9c179e\"],[0.4444444444444444,\"#bd3786\"],[0.5555555555555556,\"#d8576b\"],[0.6666666666666666,\"#ed7953\"],[0.7777777777777778,\"#fb9f3a\"],[0.8888888888888888,\"#fdca26\"],[1.0,\"#f0f921\"]]}],\"choropleth\":[{\"type\":\"choropleth\",\"colorbar\":{\"outlinewidth\":0,\"ticks\":\"\"}}],\"histogram2d\":[{\"type\":\"histogram2d\",\"colorbar\":{\"outlinewidth\":0,\"ticks\":\"\"},\"colorscale\":[[0.0,\"#0d0887\"],[0.1111111111111111,\"#46039f\"],[0.2222222222222222,\"#7201a8\"],[0.3333333333333333,\"#9c179e\"],[0.4444444444444444,\"#bd3786\"],[0.5555555555555556,\"#d8576b\"],[0.6666666666666666,\"#ed7953\"],[0.7777777777777778,\"#fb9f3a\"],[0.8888888888888888,\"#fdca26\"],[1.0,\"#f0f921\"]]}],\"heatmap\":[{\"type\":\"heatmap\",\"colorbar\":{\"outlinewidth\":0,\"ticks\":\"\"},\"colorscale\":[[0.0,\"#0d0887\"],[0.1111111111111111,\"#46039f\"],[0.2222222222222222,\"#7201a8\"],[0.3333333333333333,\"#9c179e\"],[0.4444444444444444,\"#bd3786\"],[0.5555555555555556,\"#d8576b\"],[0.6666666666666666,\"#ed7953\"],[0.7777777777777778,\"#fb9f3a\"],[0.8888888888888888,\"#fdca26\"],[1.0,\"#f0f921\"]]}],\"heatmapgl\":[{\"type\":\"heatmapgl\",\"colorbar\":{\"outlinewidth\":0,\"ticks\":\"\"},\"colorscale\":[[0.0,\"#0d0887\"],[0.1111111111111111,\"#46039f\"],[0.2222222222222222,\"#7201a8\"],[0.3333333333333333,\"#9c179e\"],[0.4444444444444444,\"#bd3786\"],[0.5555555555555556,\"#d8576b\"],[0.6666666666666666,\"#ed7953\"],[0.7777777777777778,\"#fb9f3a\"],[0.8888888888888888,\"#fdca26\"],[1.0,\"#f0f921\"]]}],\"contourcarpet\":[{\"type\":\"contourcarpet\",\"colorbar\":{\"outlinewidth\":0,\"ticks\":\"\"}}],\"contour\":[{\"type\":\"contour\",\"colorbar\":{\"outlinewidth\":0,\"ticks\":\"\"},\"colorscale\":[[0.0,\"#0d0887\"],[0.1111111111111111,\"#46039f\"],[0.2222222222222222,\"#7201a8\"],[0.3333333333333333,\"#9c179e\"],[0.4444444444444444,\"#bd3786\"],[0.5555555555555556,\"#d8576b\"],[0.6666666666666666,\"#ed7953\"],[0.7777777777777778,\"#fb9f3a\"],[0.8888888888888888,\"#fdca26\"],[1.0,\"#f0f921\"]]}],\"surface\":[{\"type\":\"surface\",\"colorbar\":{\"outlinewidth\":0,\"ticks\":\"\"},\"colorscale\":[[0.0,\"#0d0887\"],[0.1111111111111111,\"#46039f\"],[0.2222222222222222,\"#7201a8\"],[0.3333333333333333,\"#9c179e\"],[0.4444444444444444,\"#bd3786\"],[0.5555555555555556,\"#d8576b\"],[0.6666666666666666,\"#ed7953\"],[0.7777777777777778,\"#fb9f3a\"],[0.8888888888888888,\"#fdca26\"],[1.0,\"#f0f921\"]]}],\"mesh3d\":[{\"type\":\"mesh3d\",\"colorbar\":{\"outlinewidth\":0,\"ticks\":\"\"}}],\"scatter\":[{\"fillpattern\":{\"fillmode\":\"overlay\",\"size\":10,\"solidity\":0.2},\"type\":\"scatter\"}],\"parcoords\":[{\"type\":\"parcoords\",\"line\":{\"colorbar\":{\"outlinewidth\":0,\"ticks\":\"\"}}}],\"scatterpolargl\":[{\"type\":\"scatterpolargl\",\"marker\":{\"colorbar\":{\"outlinewidth\":0,\"ticks\":\"\"}}}],\"bar\":[{\"error_x\":{\"color\":\"#2a3f5f\"},\"error_y\":{\"color\":\"#2a3f5f\"},\"marker\":{\"line\":{\"color\":\"#E5ECF6\",\"width\":0.5},\"pattern\":{\"fillmode\":\"overlay\",\"size\":10,\"solidity\":0.2}},\"type\":\"bar\"}],\"scattergeo\":[{\"type\":\"scattergeo\",\"marker\":{\"colorbar\":{\"outlinewidth\":0,\"ticks\":\"\"}}}],\"scatterpolar\":[{\"type\":\"scatterpolar\",\"marker\":{\"colorbar\":{\"outlinewidth\":0,\"ticks\":\"\"}}}],\"histogram\":[{\"marker\":{\"pattern\":{\"fillmode\":\"overlay\",\"size\":10,\"solidity\":0.2}},\"type\":\"histogram\"}],\"scattergl\":[{\"type\":\"scattergl\",\"marker\":{\"colorbar\":{\"outlinewidth\":0,\"ticks\":\"\"}}}],\"scatter3d\":[{\"type\":\"scatter3d\",\"line\":{\"colorbar\":{\"outlinewidth\":0,\"ticks\":\"\"}},\"marker\":{\"colorbar\":{\"outlinewidth\":0,\"ticks\":\"\"}}}],\"scattermapbox\":[{\"type\":\"scattermapbox\",\"marker\":{\"colorbar\":{\"outlinewidth\":0,\"ticks\":\"\"}}}],\"scatterternary\":[{\"type\":\"scatterternary\",\"marker\":{\"colorbar\":{\"outlinewidth\":0,\"ticks\":\"\"}}}],\"scattercarpet\":[{\"type\":\"scattercarpet\",\"marker\":{\"colorbar\":{\"outlinewidth\":0,\"ticks\":\"\"}}}],\"carpet\":[{\"aaxis\":{\"endlinecolor\":\"#2a3f5f\",\"gridcolor\":\"white\",\"linecolor\":\"white\",\"minorgridcolor\":\"white\",\"startlinecolor\":\"#2a3f5f\"},\"baxis\":{\"endlinecolor\":\"#2a3f5f\",\"gridcolor\":\"white\",\"linecolor\":\"white\",\"minorgridcolor\":\"white\",\"startlinecolor\":\"#2a3f5f\"},\"type\":\"carpet\"}],\"table\":[{\"cells\":{\"fill\":{\"color\":\"#EBF0F8\"},\"line\":{\"color\":\"white\"}},\"header\":{\"fill\":{\"color\":\"#C8D4E3\"},\"line\":{\"color\":\"white\"}},\"type\":\"table\"}],\"barpolar\":[{\"marker\":{\"line\":{\"color\":\"#E5ECF6\",\"width\":0.5},\"pattern\":{\"fillmode\":\"overlay\",\"size\":10,\"solidity\":0.2}},\"type\":\"barpolar\"}],\"pie\":[{\"automargin\":true,\"type\":\"pie\"}]},\"layout\":{\"autotypenumbers\":\"strict\",\"colorway\":[\"#636efa\",\"#EF553B\",\"#00cc96\",\"#ab63fa\",\"#FFA15A\",\"#19d3f3\",\"#FF6692\",\"#B6E880\",\"#FF97FF\",\"#FECB52\"],\"font\":{\"color\":\"#2a3f5f\"},\"hovermode\":\"closest\",\"hoverlabel\":{\"align\":\"left\"},\"paper_bgcolor\":\"white\",\"plot_bgcolor\":\"#E5ECF6\",\"polar\":{\"bgcolor\":\"#E5ECF6\",\"angularaxis\":{\"gridcolor\":\"white\",\"linecolor\":\"white\",\"ticks\":\"\"},\"radialaxis\":{\"gridcolor\":\"white\",\"linecolor\":\"white\",\"ticks\":\"\"}},\"ternary\":{\"bgcolor\":\"#E5ECF6\",\"aaxis\":{\"gridcolor\":\"white\",\"linecolor\":\"white\",\"ticks\":\"\"},\"baxis\":{\"gridcolor\":\"white\",\"linecolor\":\"white\",\"ticks\":\"\"},\"caxis\":{\"gridcolor\":\"white\",\"linecolor\":\"white\",\"ticks\":\"\"}},\"coloraxis\":{\"colorbar\":{\"outlinewidth\":0,\"ticks\":\"\"}},\"colorscale\":{\"sequential\":[[0.0,\"#0d0887\"],[0.1111111111111111,\"#46039f\"],[0.2222222222222222,\"#7201a8\"],[0.3333333333333333,\"#9c179e\"],[0.4444444444444444,\"#bd3786\"],[0.5555555555555556,\"#d8576b\"],[0.6666666666666666,\"#ed7953\"],[0.7777777777777778,\"#fb9f3a\"],[0.8888888888888888,\"#fdca26\"],[1.0,\"#f0f921\"]],\"sequentialminus\":[[0.0,\"#0d0887\"],[0.1111111111111111,\"#46039f\"],[0.2222222222222222,\"#7201a8\"],[0.3333333333333333,\"#9c179e\"],[0.4444444444444444,\"#bd3786\"],[0.5555555555555556,\"#d8576b\"],[0.6666666666666666,\"#ed7953\"],[0.7777777777777778,\"#fb9f3a\"],[0.8888888888888888,\"#fdca26\"],[1.0,\"#f0f921\"]],\"diverging\":[[0,\"#8e0152\"],[0.1,\"#c51b7d\"],[0.2,\"#de77ae\"],[0.3,\"#f1b6da\"],[0.4,\"#fde0ef\"],[0.5,\"#f7f7f7\"],[0.6,\"#e6f5d0\"],[0.7,\"#b8e186\"],[0.8,\"#7fbc41\"],[0.9,\"#4d9221\"],[1,\"#276419\"]]},\"xaxis\":{\"gridcolor\":\"white\",\"linecolor\":\"white\",\"ticks\":\"\",\"title\":{\"standoff\":15},\"zerolinecolor\":\"white\",\"automargin\":true,\"zerolinewidth\":2},\"yaxis\":{\"gridcolor\":\"white\",\"linecolor\":\"white\",\"ticks\":\"\",\"title\":{\"standoff\":15},\"zerolinecolor\":\"white\",\"automargin\":true,\"zerolinewidth\":2},\"scene\":{\"xaxis\":{\"backgroundcolor\":\"#E5ECF6\",\"gridcolor\":\"white\",\"linecolor\":\"white\",\"showbackground\":true,\"ticks\":\"\",\"zerolinecolor\":\"white\",\"gridwidth\":2},\"yaxis\":{\"backgroundcolor\":\"#E5ECF6\",\"gridcolor\":\"white\",\"linecolor\":\"white\",\"showbackground\":true,\"ticks\":\"\",\"zerolinecolor\":\"white\",\"gridwidth\":2},\"zaxis\":{\"backgroundcolor\":\"#E5ECF6\",\"gridcolor\":\"white\",\"linecolor\":\"white\",\"showbackground\":true,\"ticks\":\"\",\"zerolinecolor\":\"white\",\"gridwidth\":2}},\"shapedefaults\":{\"line\":{\"color\":\"#2a3f5f\"}},\"annotationdefaults\":{\"arrowcolor\":\"#2a3f5f\",\"arrowhead\":0,\"arrowwidth\":1},\"geo\":{\"bgcolor\":\"white\",\"landcolor\":\"#E5ECF6\",\"subunitcolor\":\"white\",\"showland\":true,\"showlakes\":true,\"lakecolor\":\"white\"},\"title\":{\"x\":0.05},\"mapbox\":{\"style\":\"light\"}}},\"xaxis\":{\"anchor\":\"y\",\"domain\":[0.0,1.0],\"title\":{\"text\":\"x\"}},\"yaxis\":{\"anchor\":\"x\",\"domain\":[0.0,1.0],\"title\":{\"text\":\"y\"}},\"coloraxis\":{\"colorbar\":{\"title\":{\"text\":\"cluster\"}},\"colorscale\":[[0.0,\"#0d0887\"],[0.1111111111111111,\"#46039f\"],[0.2222222222222222,\"#7201a8\"],[0.3333333333333333,\"#9c179e\"],[0.4444444444444444,\"#bd3786\"],[0.5555555555555556,\"#d8576b\"],[0.6666666666666666,\"#ed7953\"],[0.7777777777777778,\"#fb9f3a\"],[0.8888888888888888,\"#fdca26\"],[1.0,\"#f0f921\"]]},\"legend\":{\"tracegroupgap\":0},\"margin\":{\"t\":60}},                        {\"responsive\": true}                    ).then(function(){\n",
       "                            \n",
       "var gd = document.getElementById('4e9f1c1b-f02b-4e3e-ab62-a834e49a7283');\n",
       "var x = new MutationObserver(function (mutations, observer) {{\n",
       "        var display = window.getComputedStyle(gd).display;\n",
       "        if (!display || display === 'none') {{\n",
       "            console.log([gd, 'removed!']);\n",
       "            Plotly.purge(gd);\n",
       "            observer.disconnect();\n",
       "        }}\n",
       "}});\n",
       "\n",
       "// Listen for the removal of the full notebook cells\n",
       "var notebookContainer = gd.closest('#notebook-container');\n",
       "if (notebookContainer) {{\n",
       "    x.observe(notebookContainer, {childList: true});\n",
       "}}\n",
       "\n",
       "// Listen for the clearing of the current output cell\n",
       "var outputEl = gd.closest('.output');\n",
       "if (outputEl) {{\n",
       "    x.observe(outputEl, {childList: true});\n",
       "}}\n",
       "\n",
       "                        })                };                            </script>        </div>\n",
       "</body>\n",
       "</html>"
      ]
     },
     "metadata": {},
     "output_type": "display_data"
    }
   ],
   "source": [
    "plotting_x = plotting[plotting[\"cluster\"]!=-1]\n",
    "px.scatter(data_frame = plotting_x,\n",
    "           x = \"x\",\n",
    "           y=\"y\",\n",
    "           color = \"cluster\",\n",
    "           hover_data = [\"jobtitle\"],\n",
    "           color_discrete_map=True\n",
    "          #  text = plotting[\"jobtitle\"],\n",
    ")"
   ]
  },
  {
   "cell_type": "code",
   "execution_count": 127,
   "metadata": {
    "executionInfo": {
     "elapsed": 84040,
     "status": "ok",
     "timestamp": 1689323428724,
     "user": {
      "displayName": "Lukas Wolfrum",
      "userId": "10737638498661133063"
     },
     "user_tz": -120
    },
    "id": "5dRqlUH9g8dz"
   },
   "outputs": [],
   "source": [
    "tsne = TSNE(n_components=3,random_state=0)\n",
    "Y = tsne.fit_transform(np.array(embeddings['job_centroids']['embeddings'], dtype=np.float32))\n",
    "\n",
    "plotting = []\n",
    "for jobtitle, xyz in zip(embeddings['job_centroids'][\"jobtitle\"], Y):\n",
    "  plotting.append({\"jobtitle\":jobtitle,\"x\":xyz[0],\"y\":xyz[1], \"z\": xyz[2]})\n",
    "plotting = pd.DataFrame(plotting)\n",
    "\n",
    "clustering = DBSCAN(eps=3, min_samples=10).fit(Y)\n",
    "plotting[\"cluster\"] = clustering.labels_"
   ]
  },
  {
   "cell_type": "code",
   "execution_count": 131,
   "metadata": {
    "executionInfo": {
     "elapsed": 3,
     "status": "ok",
     "timestamp": 1689323504614,
     "user": {
      "displayName": "Lukas Wolfrum",
      "userId": "10737638498661133063"
     },
     "user_tz": -120
    },
    "id": "MFlGO1fbgqce"
   },
   "outputs": [],
   "source": [
    "# px.scatter_3d(\n",
    "#     data_frame = plotting,\n",
    "#      x = \"x\",\n",
    "#     y=\"y\",\n",
    "#     z=\"z\",\n",
    "#     color = \"cluster\",\n",
    "#     )"
   ]
  }
 ],
 "metadata": {
  "accelerator": "GPU",
  "colab": {
   "authorship_tag": "ABX9TyN2d74P7F4JFO66A+0b0WV4",
   "gpuType": "V100",
   "provenance": []
  },
  "kernelspec": {
   "display_name": "Python 3 (ipykernel)",
   "language": "python",
   "name": "python3"
  },
  "language_info": {
   "codemirror_mode": {
    "name": "ipython",
    "version": 3
   },
   "file_extension": ".py",
   "mimetype": "text/x-python",
   "name": "python",
   "nbconvert_exporter": "python",
   "pygments_lexer": "ipython3",
   "version": "3.10.16"
  },
  "widgets": {
   "application/vnd.jupyter.widget-state+json": {
    "073469b613654a969ec65eb454997f1e": {
     "model_module": "@jupyter-widgets/controls",
     "model_module_version": "1.5.0",
     "model_name": "DescriptionStyleModel",
     "state": {
      "_model_module": "@jupyter-widgets/controls",
      "_model_module_version": "1.5.0",
      "_model_name": "DescriptionStyleModel",
      "_view_count": null,
      "_view_module": "@jupyter-widgets/base",
      "_view_module_version": "1.2.0",
      "_view_name": "StyleView",
      "description_width": ""
     }
    },
    "0b22ced8a6a24ff19ebbebb37d217a61": {
     "model_module": "@jupyter-widgets/controls",
     "model_module_version": "1.5.0",
     "model_name": "FloatProgressModel",
     "state": {
      "_dom_classes": [],
      "_model_module": "@jupyter-widgets/controls",
      "_model_module_version": "1.5.0",
      "_model_name": "FloatProgressModel",
      "_view_count": null,
      "_view_module": "@jupyter-widgets/controls",
      "_view_module_version": "1.5.0",
      "_view_name": "ProgressView",
      "bar_style": "success",
      "description": "",
      "description_tooltip": null,
      "layout": "IPY_MODEL_0bdc9d18d8d543bca20d18fd9124e0b8",
      "max": 92,
      "min": 0,
      "orientation": "horizontal",
      "style": "IPY_MODEL_4411fb46fcf044ffb4dab600031e519f",
      "value": 92
     }
    },
    "0bdc9d18d8d543bca20d18fd9124e0b8": {
     "model_module": "@jupyter-widgets/base",
     "model_module_version": "1.2.0",
     "model_name": "LayoutModel",
     "state": {
      "_model_module": "@jupyter-widgets/base",
      "_model_module_version": "1.2.0",
      "_model_name": "LayoutModel",
      "_view_count": null,
      "_view_module": "@jupyter-widgets/base",
      "_view_module_version": "1.2.0",
      "_view_name": "LayoutView",
      "align_content": null,
      "align_items": null,
      "align_self": null,
      "border": null,
      "bottom": null,
      "display": null,
      "flex": null,
      "flex_flow": null,
      "grid_area": null,
      "grid_auto_columns": null,
      "grid_auto_flow": null,
      "grid_auto_rows": null,
      "grid_column": null,
      "grid_gap": null,
      "grid_row": null,
      "grid_template_areas": null,
      "grid_template_columns": null,
      "grid_template_rows": null,
      "height": null,
      "justify_content": null,
      "justify_items": null,
      "left": null,
      "margin": null,
      "max_height": null,
      "max_width": null,
      "min_height": null,
      "min_width": null,
      "object_fit": null,
      "object_position": null,
      "order": null,
      "overflow": null,
      "overflow_x": null,
      "overflow_y": null,
      "padding": null,
      "right": null,
      "top": null,
      "visibility": null,
      "width": null
     }
    },
    "0f3f9cff830b4c3bac83a595a52bba41": {
     "model_module": "@jupyter-widgets/controls",
     "model_module_version": "1.5.0",
     "model_name": "HTMLModel",
     "state": {
      "_dom_classes": [],
      "_model_module": "@jupyter-widgets/controls",
      "_model_module_version": "1.5.0",
      "_model_name": "HTMLModel",
      "_view_count": null,
      "_view_module": "@jupyter-widgets/controls",
      "_view_module_version": "1.5.0",
      "_view_name": "HTMLView",
      "description": "",
      "description_tooltip": null,
      "layout": "IPY_MODEL_8dda3c24c4d941eeb23df9f47e9e7826",
      "placeholder": "​",
      "style": "IPY_MODEL_b61580ccefef40a88f24b10776fbff6b",
      "value": "Batches: 100%"
     }
    },
    "1dbb25c316de40969a2f4906711b8954": {
     "model_module": "@jupyter-widgets/controls",
     "model_module_version": "1.5.0",
     "model_name": "FloatProgressModel",
     "state": {
      "_dom_classes": [],
      "_model_module": "@jupyter-widgets/controls",
      "_model_module_version": "1.5.0",
      "_model_name": "FloatProgressModel",
      "_view_count": null,
      "_view_module": "@jupyter-widgets/controls",
      "_view_module_version": "1.5.0",
      "_view_name": "ProgressView",
      "bar_style": "success",
      "description": "",
      "description_tooltip": null,
      "layout": "IPY_MODEL_310e276f03654536b913451a76b64a67",
      "max": 1317,
      "min": 0,
      "orientation": "horizontal",
      "style": "IPY_MODEL_8b4b93cef517423596d9e13359533a01",
      "value": 1317
     }
    },
    "310e276f03654536b913451a76b64a67": {
     "model_module": "@jupyter-widgets/base",
     "model_module_version": "1.2.0",
     "model_name": "LayoutModel",
     "state": {
      "_model_module": "@jupyter-widgets/base",
      "_model_module_version": "1.2.0",
      "_model_name": "LayoutModel",
      "_view_count": null,
      "_view_module": "@jupyter-widgets/base",
      "_view_module_version": "1.2.0",
      "_view_name": "LayoutView",
      "align_content": null,
      "align_items": null,
      "align_self": null,
      "border": null,
      "bottom": null,
      "display": null,
      "flex": null,
      "flex_flow": null,
      "grid_area": null,
      "grid_auto_columns": null,
      "grid_auto_flow": null,
      "grid_auto_rows": null,
      "grid_column": null,
      "grid_gap": null,
      "grid_row": null,
      "grid_template_areas": null,
      "grid_template_columns": null,
      "grid_template_rows": null,
      "height": null,
      "justify_content": null,
      "justify_items": null,
      "left": null,
      "margin": null,
      "max_height": null,
      "max_width": null,
      "min_height": null,
      "min_width": null,
      "object_fit": null,
      "object_position": null,
      "order": null,
      "overflow": null,
      "overflow_x": null,
      "overflow_y": null,
      "padding": null,
      "right": null,
      "top": null,
      "visibility": null,
      "width": null
     }
    },
    "332aa0ee01d14d15b24ef139aeaed996": {
     "model_module": "@jupyter-widgets/controls",
     "model_module_version": "1.5.0",
     "model_name": "HBoxModel",
     "state": {
      "_dom_classes": [],
      "_model_module": "@jupyter-widgets/controls",
      "_model_module_version": "1.5.0",
      "_model_name": "HBoxModel",
      "_view_count": null,
      "_view_module": "@jupyter-widgets/controls",
      "_view_module_version": "1.5.0",
      "_view_name": "HBoxView",
      "box_style": "",
      "children": [
       "IPY_MODEL_0f3f9cff830b4c3bac83a595a52bba41",
       "IPY_MODEL_1dbb25c316de40969a2f4906711b8954",
       "IPY_MODEL_f170183e19a74447ba3e8475653372c4"
      ],
      "layout": "IPY_MODEL_993850af605c4dd8bab54a7d85c213b1"
     }
    },
    "35ff4561e5d045058cab2e48a1e793b5": {
     "model_module": "@jupyter-widgets/base",
     "model_module_version": "1.2.0",
     "model_name": "LayoutModel",
     "state": {
      "_model_module": "@jupyter-widgets/base",
      "_model_module_version": "1.2.0",
      "_model_name": "LayoutModel",
      "_view_count": null,
      "_view_module": "@jupyter-widgets/base",
      "_view_module_version": "1.2.0",
      "_view_name": "LayoutView",
      "align_content": null,
      "align_items": null,
      "align_self": null,
      "border": null,
      "bottom": null,
      "display": null,
      "flex": null,
      "flex_flow": null,
      "grid_area": null,
      "grid_auto_columns": null,
      "grid_auto_flow": null,
      "grid_auto_rows": null,
      "grid_column": null,
      "grid_gap": null,
      "grid_row": null,
      "grid_template_areas": null,
      "grid_template_columns": null,
      "grid_template_rows": null,
      "height": null,
      "justify_content": null,
      "justify_items": null,
      "left": null,
      "margin": null,
      "max_height": null,
      "max_width": null,
      "min_height": null,
      "min_width": null,
      "object_fit": null,
      "object_position": null,
      "order": null,
      "overflow": null,
      "overflow_x": null,
      "overflow_y": null,
      "padding": null,
      "right": null,
      "top": null,
      "visibility": null,
      "width": null
     }
    },
    "4411fb46fcf044ffb4dab600031e519f": {
     "model_module": "@jupyter-widgets/controls",
     "model_module_version": "1.5.0",
     "model_name": "ProgressStyleModel",
     "state": {
      "_model_module": "@jupyter-widgets/controls",
      "_model_module_version": "1.5.0",
      "_model_name": "ProgressStyleModel",
      "_view_count": null,
      "_view_module": "@jupyter-widgets/base",
      "_view_module_version": "1.2.0",
      "_view_name": "StyleView",
      "bar_color": null,
      "description_width": ""
     }
    },
    "4f328d923db74ab7a3edc83e6de44306": {
     "model_module": "@jupyter-widgets/base",
     "model_module_version": "1.2.0",
     "model_name": "LayoutModel",
     "state": {
      "_model_module": "@jupyter-widgets/base",
      "_model_module_version": "1.2.0",
      "_model_name": "LayoutModel",
      "_view_count": null,
      "_view_module": "@jupyter-widgets/base",
      "_view_module_version": "1.2.0",
      "_view_name": "LayoutView",
      "align_content": null,
      "align_items": null,
      "align_self": null,
      "border": null,
      "bottom": null,
      "display": null,
      "flex": null,
      "flex_flow": null,
      "grid_area": null,
      "grid_auto_columns": null,
      "grid_auto_flow": null,
      "grid_auto_rows": null,
      "grid_column": null,
      "grid_gap": null,
      "grid_row": null,
      "grid_template_areas": null,
      "grid_template_columns": null,
      "grid_template_rows": null,
      "height": null,
      "justify_content": null,
      "justify_items": null,
      "left": null,
      "margin": null,
      "max_height": null,
      "max_width": null,
      "min_height": null,
      "min_width": null,
      "object_fit": null,
      "object_position": null,
      "order": null,
      "overflow": null,
      "overflow_x": null,
      "overflow_y": null,
      "padding": null,
      "right": null,
      "top": null,
      "visibility": null,
      "width": null
     }
    },
    "681c4597fd2d4707b9a439886a1a104a": {
     "model_module": "@jupyter-widgets/controls",
     "model_module_version": "1.5.0",
     "model_name": "HTMLModel",
     "state": {
      "_dom_classes": [],
      "_model_module": "@jupyter-widgets/controls",
      "_model_module_version": "1.5.0",
      "_model_name": "HTMLModel",
      "_view_count": null,
      "_view_module": "@jupyter-widgets/controls",
      "_view_module_version": "1.5.0",
      "_view_name": "HTMLView",
      "description": "",
      "description_tooltip": null,
      "layout": "IPY_MODEL_4f328d923db74ab7a3edc83e6de44306",
      "placeholder": "​",
      "style": "IPY_MODEL_a6799f40ff7c4f8eac13bd72e6a142ad",
      "value": " 92/92 [00:09&lt;00:00, 24.52it/s]"
     }
    },
    "795facde25ff4decaffd6ce3294763a0": {
     "model_module": "@jupyter-widgets/controls",
     "model_module_version": "1.5.0",
     "model_name": "HBoxModel",
     "state": {
      "_dom_classes": [],
      "_model_module": "@jupyter-widgets/controls",
      "_model_module_version": "1.5.0",
      "_model_name": "HBoxModel",
      "_view_count": null,
      "_view_module": "@jupyter-widgets/controls",
      "_view_module_version": "1.5.0",
      "_view_name": "HBoxView",
      "box_style": "",
      "children": [
       "IPY_MODEL_b53f3d6847e84b50ad7b312ce6121c80",
       "IPY_MODEL_0b22ced8a6a24ff19ebbebb37d217a61",
       "IPY_MODEL_681c4597fd2d4707b9a439886a1a104a"
      ],
      "layout": "IPY_MODEL_f7feebaa84c84501a3ef58e5dbf62fc7"
     }
    },
    "7e57d8afafc8447b9a602af52d4e61bd": {
     "model_module": "@jupyter-widgets/base",
     "model_module_version": "1.2.0",
     "model_name": "LayoutModel",
     "state": {
      "_model_module": "@jupyter-widgets/base",
      "_model_module_version": "1.2.0",
      "_model_name": "LayoutModel",
      "_view_count": null,
      "_view_module": "@jupyter-widgets/base",
      "_view_module_version": "1.2.0",
      "_view_name": "LayoutView",
      "align_content": null,
      "align_items": null,
      "align_self": null,
      "border": null,
      "bottom": null,
      "display": null,
      "flex": null,
      "flex_flow": null,
      "grid_area": null,
      "grid_auto_columns": null,
      "grid_auto_flow": null,
      "grid_auto_rows": null,
      "grid_column": null,
      "grid_gap": null,
      "grid_row": null,
      "grid_template_areas": null,
      "grid_template_columns": null,
      "grid_template_rows": null,
      "height": null,
      "justify_content": null,
      "justify_items": null,
      "left": null,
      "margin": null,
      "max_height": null,
      "max_width": null,
      "min_height": null,
      "min_width": null,
      "object_fit": null,
      "object_position": null,
      "order": null,
      "overflow": null,
      "overflow_x": null,
      "overflow_y": null,
      "padding": null,
      "right": null,
      "top": null,
      "visibility": null,
      "width": null
     }
    },
    "8b4b93cef517423596d9e13359533a01": {
     "model_module": "@jupyter-widgets/controls",
     "model_module_version": "1.5.0",
     "model_name": "ProgressStyleModel",
     "state": {
      "_model_module": "@jupyter-widgets/controls",
      "_model_module_version": "1.5.0",
      "_model_name": "ProgressStyleModel",
      "_view_count": null,
      "_view_module": "@jupyter-widgets/base",
      "_view_module_version": "1.2.0",
      "_view_name": "StyleView",
      "bar_color": null,
      "description_width": ""
     }
    },
    "8dda3c24c4d941eeb23df9f47e9e7826": {
     "model_module": "@jupyter-widgets/base",
     "model_module_version": "1.2.0",
     "model_name": "LayoutModel",
     "state": {
      "_model_module": "@jupyter-widgets/base",
      "_model_module_version": "1.2.0",
      "_model_name": "LayoutModel",
      "_view_count": null,
      "_view_module": "@jupyter-widgets/base",
      "_view_module_version": "1.2.0",
      "_view_name": "LayoutView",
      "align_content": null,
      "align_items": null,
      "align_self": null,
      "border": null,
      "bottom": null,
      "display": null,
      "flex": null,
      "flex_flow": null,
      "grid_area": null,
      "grid_auto_columns": null,
      "grid_auto_flow": null,
      "grid_auto_rows": null,
      "grid_column": null,
      "grid_gap": null,
      "grid_row": null,
      "grid_template_areas": null,
      "grid_template_columns": null,
      "grid_template_rows": null,
      "height": null,
      "justify_content": null,
      "justify_items": null,
      "left": null,
      "margin": null,
      "max_height": null,
      "max_width": null,
      "min_height": null,
      "min_width": null,
      "object_fit": null,
      "object_position": null,
      "order": null,
      "overflow": null,
      "overflow_x": null,
      "overflow_y": null,
      "padding": null,
      "right": null,
      "top": null,
      "visibility": null,
      "width": null
     }
    },
    "98a540ce9f494e5a831d4944bf7ce2db": {
     "model_module": "@jupyter-widgets/controls",
     "model_module_version": "1.5.0",
     "model_name": "DescriptionStyleModel",
     "state": {
      "_model_module": "@jupyter-widgets/controls",
      "_model_module_version": "1.5.0",
      "_model_name": "DescriptionStyleModel",
      "_view_count": null,
      "_view_module": "@jupyter-widgets/base",
      "_view_module_version": "1.2.0",
      "_view_name": "StyleView",
      "description_width": ""
     }
    },
    "993850af605c4dd8bab54a7d85c213b1": {
     "model_module": "@jupyter-widgets/base",
     "model_module_version": "1.2.0",
     "model_name": "LayoutModel",
     "state": {
      "_model_module": "@jupyter-widgets/base",
      "_model_module_version": "1.2.0",
      "_model_name": "LayoutModel",
      "_view_count": null,
      "_view_module": "@jupyter-widgets/base",
      "_view_module_version": "1.2.0",
      "_view_name": "LayoutView",
      "align_content": null,
      "align_items": null,
      "align_self": null,
      "border": null,
      "bottom": null,
      "display": null,
      "flex": null,
      "flex_flow": null,
      "grid_area": null,
      "grid_auto_columns": null,
      "grid_auto_flow": null,
      "grid_auto_rows": null,
      "grid_column": null,
      "grid_gap": null,
      "grid_row": null,
      "grid_template_areas": null,
      "grid_template_columns": null,
      "grid_template_rows": null,
      "height": null,
      "justify_content": null,
      "justify_items": null,
      "left": null,
      "margin": null,
      "max_height": null,
      "max_width": null,
      "min_height": null,
      "min_width": null,
      "object_fit": null,
      "object_position": null,
      "order": null,
      "overflow": null,
      "overflow_x": null,
      "overflow_y": null,
      "padding": null,
      "right": null,
      "top": null,
      "visibility": null,
      "width": null
     }
    },
    "a6799f40ff7c4f8eac13bd72e6a142ad": {
     "model_module": "@jupyter-widgets/controls",
     "model_module_version": "1.5.0",
     "model_name": "DescriptionStyleModel",
     "state": {
      "_model_module": "@jupyter-widgets/controls",
      "_model_module_version": "1.5.0",
      "_model_name": "DescriptionStyleModel",
      "_view_count": null,
      "_view_module": "@jupyter-widgets/base",
      "_view_module_version": "1.2.0",
      "_view_name": "StyleView",
      "description_width": ""
     }
    },
    "b53f3d6847e84b50ad7b312ce6121c80": {
     "model_module": "@jupyter-widgets/controls",
     "model_module_version": "1.5.0",
     "model_name": "HTMLModel",
     "state": {
      "_dom_classes": [],
      "_model_module": "@jupyter-widgets/controls",
      "_model_module_version": "1.5.0",
      "_model_name": "HTMLModel",
      "_view_count": null,
      "_view_module": "@jupyter-widgets/controls",
      "_view_module_version": "1.5.0",
      "_view_name": "HTMLView",
      "description": "",
      "description_tooltip": null,
      "layout": "IPY_MODEL_7e57d8afafc8447b9a602af52d4e61bd",
      "placeholder": "​",
      "style": "IPY_MODEL_98a540ce9f494e5a831d4944bf7ce2db",
      "value": "Batches: 100%"
     }
    },
    "b61580ccefef40a88f24b10776fbff6b": {
     "model_module": "@jupyter-widgets/controls",
     "model_module_version": "1.5.0",
     "model_name": "DescriptionStyleModel",
     "state": {
      "_model_module": "@jupyter-widgets/controls",
      "_model_module_version": "1.5.0",
      "_model_name": "DescriptionStyleModel",
      "_view_count": null,
      "_view_module": "@jupyter-widgets/base",
      "_view_module_version": "1.2.0",
      "_view_name": "StyleView",
      "description_width": ""
     }
    },
    "f170183e19a74447ba3e8475653372c4": {
     "model_module": "@jupyter-widgets/controls",
     "model_module_version": "1.5.0",
     "model_name": "HTMLModel",
     "state": {
      "_dom_classes": [],
      "_model_module": "@jupyter-widgets/controls",
      "_model_module_version": "1.5.0",
      "_model_name": "HTMLModel",
      "_view_count": null,
      "_view_module": "@jupyter-widgets/controls",
      "_view_module_version": "1.5.0",
      "_view_name": "HTMLView",
      "description": "",
      "description_tooltip": null,
      "layout": "IPY_MODEL_35ff4561e5d045058cab2e48a1e793b5",
      "placeholder": "​",
      "style": "IPY_MODEL_073469b613654a969ec65eb454997f1e",
      "value": " 1317/1317 [07:47&lt;00:00, 25.31it/s]"
     }
    },
    "f7feebaa84c84501a3ef58e5dbf62fc7": {
     "model_module": "@jupyter-widgets/base",
     "model_module_version": "1.2.0",
     "model_name": "LayoutModel",
     "state": {
      "_model_module": "@jupyter-widgets/base",
      "_model_module_version": "1.2.0",
      "_model_name": "LayoutModel",
      "_view_count": null,
      "_view_module": "@jupyter-widgets/base",
      "_view_module_version": "1.2.0",
      "_view_name": "LayoutView",
      "align_content": null,
      "align_items": null,
      "align_self": null,
      "border": null,
      "bottom": null,
      "display": null,
      "flex": null,
      "flex_flow": null,
      "grid_area": null,
      "grid_auto_columns": null,
      "grid_auto_flow": null,
      "grid_auto_rows": null,
      "grid_column": null,
      "grid_gap": null,
      "grid_row": null,
      "grid_template_areas": null,
      "grid_template_columns": null,
      "grid_template_rows": null,
      "height": null,
      "justify_content": null,
      "justify_items": null,
      "left": null,
      "margin": null,
      "max_height": null,
      "max_width": null,
      "min_height": null,
      "min_width": null,
      "object_fit": null,
      "object_position": null,
      "order": null,
      "overflow": null,
      "overflow_x": null,
      "overflow_y": null,
      "padding": null,
      "right": null,
      "top": null,
      "visibility": null,
      "width": null
     }
    }
   }
  }
 },
 "nbformat": 4,
 "nbformat_minor": 4
}
