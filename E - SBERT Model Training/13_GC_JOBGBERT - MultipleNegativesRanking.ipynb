{
 "cells": [
  {
   "cell_type": "markdown",
   "metadata": {},
   "source": [
    "# Imports"
   ]
  },
  {
   "cell_type": "code",
   "execution_count": null,
   "metadata": {},
   "outputs": [],
   "source": [
    "# Import necessary libraries\n",
    "from sentence_transformers import SentenceTransformer, InputExample, losses, evaluation\n",
    "from torch.utils.data import DataLoader\n",
    "from tqdm import tqdm\n",
    "import pandas as pd\n",
    "import numpy as np\n",
    "from helpers import load_data_pairs, flatten_list\n",
    "from sklearn.model_selection import KFold\n",
    "from datetime import datetime\n",
    "from transformers import set_seed\n",
    "set_seed(42)"
   ]
  },
  {
   "cell_type": "markdown",
   "metadata": {},
   "source": [
    "# Load Data"
   ]
  },
  {
   "cell_type": "code",
   "execution_count": null,
   "metadata": {},
   "outputs": [],
   "source": [
    "# Load positive and negative data pairs\n",
    "data_dict = load_data_pairs()\n",
    "positive_pairs = flatten_list([data_dict[x] for x in data_dict if \"pos\" in x])\n",
    "negative_pairs = flatten_list([data_dict[x] for x in data_dict if \"neg\" in x])"
   ]
  },
  {
   "cell_type": "markdown",
   "metadata": {},
   "source": [
    "# Define Training Parameters"
   ]
  },
  {
   "cell_type": "code",
   "execution_count": null,
   "metadata": {},
   "outputs": [],
   "source": [
    "# Define model and training parameters\n",
    "model_name = \"../00_data/SBERT_Models/models/jobgbert_TSDAE_epochs5\"\n",
    "batch_size = 16\n",
    "learning_rate = 2e-5\n",
    "num_epochs = 1\n",
    "fold_size = 10\n",
    "output_path = f\"../00_data/SBERT_Models/models/jobgbert_batch{batch_size}_TSDAE_{learning_rate}_f{fold_size}\"\n",
    "output_path"
   ]
  },
  {
   "cell_type": "markdown",
   "metadata": {},
   "source": [
    "# K-Fold Cross-Validation"
   ]
  },
  {
   "cell_type": "code",
   "execution_count": null,
   "metadata": {},
   "outputs": [],
   "source": [
    "# Initialize K-Fold cross-validation\n",
    "kf = KFold(n_splits=fold_size, random_state=42, shuffle=True)"
   ]
  },
  {
   "cell_type": "code",
   "execution_count": null,
   "metadata": {},
   "outputs": [],
   "source": [
    "# Initialize variables for tracking metrics\n",
    "MRR = []\n",
    "MRR_AT = 100\n",
    "training_start = \"\".join([c for c in str(datetime.now()).split('.')[0] if c.isdigit()])\n",
    "max_MRR = 0"
   ]
  },
  {
   "cell_type": "code",
   "execution_count": null,
   "metadata": {},
   "outputs": [],
   "source": [
    "# Perform training and evaluation for each fold\n",
    "for epoch, (train_index, dev_index) in enumerate(kf.split(positive_pairs)):\n",
    "    # Split data into training and development sets\n",
    "    pos_train_samples = [positive_pairs[i] for i in train_index]\n",
    "    pos_dev_samples = [positive_pairs[i] for i in dev_index]\n",
    "    warmup_steps = len(pos_train_samples) * 0.1\n",
    "\n",
    "    # Create training examples\n",
    "    train_examples = [InputExample(texts=[item[0], item[1]]) for item in pos_train_samples]\n",
    "    train_dataloader = DataLoader(train_examples, shuffle=True, batch_size=batch_size)\n",
    "    train_loss = losses.MultipleNegativesRankingLoss(SentenceTransformer(model_name))\n",
    "\n",
    "    # Define evaluator\n",
    "    evaluator = evaluation.RerankingEvaluator(pos_dev_samples, at_k=100, show_progress_bar=True)\n",
    "\n",
    "    # Train the model\n",
    "    SentenceTransformer(model_name).fit(\n",
    "        train_objectives=[(train_dataloader, train_loss)],\n",
    "        epochs=num_epochs,\n",
    "        warmup_steps=warmup_steps,\n",
    "        evaluator=evaluator,\n",
    "        output_path=output_path\n",
    "    )"
   ]
  }
 ],
 "metadata": {
  "accelerator": "GPU",
  "colab": {
   "authorship_tag": "ABX9TyPOVltfMm9syHPl4fxxi3lm",
   "gpuClass": "premium",
   "provenance": []
  },
  "gpuClass": "premium",
  "kernelspec": {
   "display_name": "careerbert",
   "language": "python",
   "name": "python3"
  },
  "language_info": {
   "codemirror_mode": {
    "name": "ipython",
    "version": 3
   },
   "file_extension": ".py",
   "mimetype": "text/x-python",
   "name": "python",
   "nbconvert_exporter": "python",
   "pygments_lexer": "ipython3",
   "version": "3.10.16"
  }
 },
 "nbformat": 4,
 "nbformat_minor": 4
}
