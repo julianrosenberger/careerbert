{
 "cells": [
  {
   "cell_type": "markdown",
   "metadata": {
    "id": "gWOOQk0qg2Yz"
   },
   "source": [
    "# Imports"
   ]
  },
  {
   "cell_type": "code",
   "execution_count": 1,
   "metadata": {
    "colab": {
     "base_uri": "https://localhost:8080/"
    },
    "executionInfo": {
     "elapsed": 36651,
     "status": "ok",
     "timestamp": 1681799362334,
     "user": {
      "displayName": "Lukas Wolfrum",
      "userId": "10737638498661133063"
     },
     "user_tz": -120
    },
    "id": "-aOtwdg3jehe",
    "outputId": "81c4bc97-b0a0-486f-8701-ac6927b84b01"
   },
   "outputs": [],
   "source": [
    "# from google.colab import drive\n",
    "# drive.mount('/content/drive')\n",
    "# %cd /content/drive/MyDrive/TRAINING"
   ]
  },
  {
   "cell_type": "code",
   "execution_count": 2,
   "metadata": {
    "id": "y4zyVrZvV-2I"
   },
   "outputs": [],
   "source": [
    "# %%capture\n",
    "# !pip install sentence_transformers"
   ]
  },
  {
   "cell_type": "code",
   "execution_count": null,
   "metadata": {
    "id": "AkkomPGdV3dV"
   },
   "outputs": [
    {
     "name": "stderr",
     "output_type": "stream",
     "text": [
      "c:\\Users\\lw\\miniconda3\\envs\\masterarbeit_lwo\\Lib\\site-packages\\tqdm\\auto.py:21: TqdmWarning: IProgress not found. Please update jupyter and ipywidgets. See https://ipywidgets.readthedocs.io/en/stable/user_install.html\n",
      "  from .autonotebook import tqdm as notebook_tqdm\n"
     ]
    }
   ],
   "source": [
    "from sentence_transformers import SentenceTransformer, InputExample\n",
    "from torch.utils.data import DataLoader\n",
    "from sentence_transformers import models, losses, util\n",
    "from tqdm import tqdm\n",
    "import random\n",
    "from sentence_transformers import evaluation\n",
    "import json\n",
    "import pandas as pd\n",
    "from collections import Counter\n",
    "import os\n",
    "from sklearn.model_selection import train_test_split\n",
    "from helpers import load_data_pairs, flatten_list,load_json\n",
    "import numpy as np\n",
    "from datetime import datetime\n",
    "from sklearn.model_selection import KFold\n",
    "from transformers import set_seed\n",
    "set_seed(42)"
   ]
  },
  {
   "cell_type": "code",
   "execution_count": null,
   "metadata": {
    "id": "722fJkSlB-VR"
   },
   "outputs": [],
   "source": [
    "def create_trainig_samples(pos_dev_samples,neg_pairs):\n",
    "  dev_set_total =[]\n",
    "  anchors = set([x[0] for x in pos_dev_samples])\n",
    "  neg_dev_samples = [x for x in neg_pairs if x[0] in anchors]\n",
    "  print(\"Creating Dev Set\")\n",
    "  for anchor in tqdm(anchors):\n",
    "    pos_pairs_filtered = [x[1] for x in pos_dev_samples if x[0]==anchor]\n",
    "    neg_pairs_filtered = [x[1] for x in neg_dev_samples if x[0]==anchor]\n",
    "    dev_set_total.append({\"query\":anchor,\"positive\":pos_pairs_filtered,\"negative\":neg_pairs_filtered})\n",
    "  return dev_set_total"
   ]
  },
  {
   "cell_type": "markdown",
   "metadata": {
    "id": "7njofwant2wW"
   },
   "source": [
    "## Pretrained Model"
   ]
  },
  {
   "cell_type": "markdown",
   "metadata": {
    "id": "VDiu-Yq0Rqat"
   },
   "source": [
    "# Load data"
   ]
  },
  {
   "cell_type": "code",
   "execution_count": 6,
   "metadata": {
    "colab": {
     "base_uri": "https://localhost:8080/"
    },
    "executionInfo": {
     "elapsed": 5296,
     "status": "ok",
     "timestamp": 1681799390356,
     "user": {
      "displayName": "Lukas Wolfrum",
      "userId": "10737638498661133063"
     },
     "user_tz": -120
    },
    "id": "pLe6jGtfJxfR",
    "outputId": "09f9e34c-945a-4483-9bfa-c1ee11e09489"
   },
   "outputs": [
    {
     "name": "stderr",
     "output_type": "stream",
     "text": [
      "100%|██████████| 6/6 [00:02<00:00,  2.67it/s]\n"
     ]
    }
   ],
   "source": [
    "data_dict = load_data_pairs()\n",
    "pos_pairs = flatten_list([data_dict[x] for x in data_dict if \"pos\" in x])\n",
    "neg_pairs = flatten_list([data_dict[x] for x in data_dict if \"neg\" in x])"
   ]
  },
  {
   "cell_type": "code",
   "execution_count": 14,
   "metadata": {
    "id": "6r9k5mHkks7y"
   },
   "outputs": [],
   "source": [
    "testads = pd.DataFrame(load_json(\"../00_data/EURES/eures_testads_final_short.json\"))"
   ]
  },
  {
   "cell_type": "markdown",
   "metadata": {
    "id": "3DC5Z2dDfbtt"
   },
   "source": [
    "# Pre-Training"
   ]
  },
  {
   "cell_type": "markdown",
   "metadata": {
    "id": "kp09dET0fkAl"
   },
   "source": [
    "##  TSDAE"
   ]
  },
  {
   "cell_type": "code",
   "execution_count": null,
   "metadata": {
    "colab": {
     "base_uri": "https://localhost:8080/"
    },
    "executionInfo": {
     "elapsed": 27,
     "status": "ok",
     "timestamp": 1681799391457,
     "user": {
      "displayName": "Lukas Wolfrum",
      "userId": "10737638498661133063"
     },
     "user_tz": -120
    },
    "id": "mALIZG_5GpLB",
    "outputId": "a267e5f4-425f-427d-86eb-ade5af83d701"
   },
   "outputs": [],
   "source": [
    "pretraining_list = list(set(flatten_list(pos_pairs)))\n",
    "len(pretraining_list)"
   ]
  },
  {
   "cell_type": "code",
   "execution_count": null,
   "metadata": {
    "id": "W4W1Reo2_yLd"
   },
   "outputs": [],
   "source": [
    "# jobgbert model\n",
    "#model = SentenceTransformer(\"agne/jobgbert\")\n",
    "#gbert model \n",
    "model = SentenceTransformer(\"deepset/gbert-base\")"
   ]
  },
  {
   "cell_type": "code",
   "execution_count": null,
   "metadata": {
    "id": "4XHJ78qORNZ6"
   },
   "outputs": [],
   "source": [
    "from sentence_transformers import SentenceTransformer\n",
    "from sentence_transformers import models, util, datasets, evaluation, losses\n",
    "from torch.utils.data import DataLoader\n",
    "\n",
    "pretraining_dataset = datasets.DenoisingAutoEncoderDataset(pretraining_list)\n",
    "train_dataloader = DataLoader(pretraining_dataset, batch_size=16, shuffle=True)\n",
    "\n",
    "# Use the denoising auto-encoder loss\n",
    "train_loss = losses.DenoisingAutoEncoderLoss(model, tie_encoder_decoder=True)\n",
    "\n",
    "# Call the fit method\n",
    "model.fit(\n",
    "    train_objectives=[(train_dataloader, train_loss)],\n",
    "    epochs = 5,\n",
    "    weight_decay=0,\n",
    "    scheduler='constantlr',\n",
    "    optimizer_params={'lr': 3e-5},\n",
    "    show_progress_bar=True\n",
    ")\n",
    "model.save(\"../00_data/SBERT_Models/models/gbert_TSDAE_epochs5\")"
   ]
  }
 ],
 "metadata": {
  "accelerator": "GPU",
  "colab": {
   "authorship_tag": "ABX9TyPOVltfMm9syHPl4fxxi3lm",
   "gpuClass": "premium",
   "provenance": []
  },
  "gpuClass": "premium",
  "kernelspec": {
   "display_name": "Python 3 (ipykernel)",
   "language": "python",
   "name": "python3"
  },
  "language_info": {
   "codemirror_mode": {
    "name": "ipython",
    "version": 3
   },
   "file_extension": ".py",
   "mimetype": "text/x-python",
   "name": "python",
   "nbconvert_exporter": "python",
   "pygments_lexer": "ipython3",
   "version": "3.10.16"
  }
 },
 "nbformat": 4,
 "nbformat_minor": 4
}
