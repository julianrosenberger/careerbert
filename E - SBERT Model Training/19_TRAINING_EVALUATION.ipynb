{
 "cells": [
  {
   "cell_type": "code",
   "execution_count": null,
   "metadata": {},
   "outputs": [],
   "source": [
    "# Import necessary libraries\n",
    "import pandas as pd\n",
    "import os\n",
    "import matplotlib.pyplot as plt"
   ]
  },
  {
   "attachments": {},
   "cell_type": "markdown",
   "metadata": {},
   "source": [
    "# Comparison Training"
   ]
  },
  {
   "cell_type": "code",
   "execution_count": null,
   "metadata": {},
   "outputs": [
    {
     "name": "stdout",
     "output_type": "stream",
     "text": []
    }
   ],
   "source": [
    "# List available models in the specified directory\n",
    "for model in os.listdir('../00_data/SBERT_Models/Evaluation/'):\n",
    "  if \"TSDAE\" in model:\n",
    "    print(f\"Available model: {model}\")"
   ]
  },
  {
   "cell_type": "code",
   "execution_count": null,
   "metadata": {},
   "outputs": [],
   "source": [
    "# Define a list of model paths\n",
    "models = [\"jobgbert_batch16_woTSDAE_2e-05_f10\",\n",
    "          \"jobgbert_batch16_wTSDAE_2e-05_f10\",\n",
    "          \"jobgbert_batch32_woTSDAE_2e-05_f10\",\n",
    "          \"jobgbert_batch32_wTSDAE_2e-05_f10\",\n",
    "          \"jobgbert_batch64_woTSDAE_2e-05_f10\",\n",
    "          \"jobgbert_batch64_wTSDAE_2e-05_f10\",\n",
    "          \"gbert_batch16_woTSDAE_2e-05_f10\",\n",
    "          \"gbert_batch16_wTSDAE_2e-05_f10\",\n",
    "          \"gbert_batch32_woTSDAE_2e-05_f10\",\n",
    "          \"gbert_batch32_wTSDAE_2e-05_f10\",\n",
    "          \"gbert_batch64_woTSDAE_2e-05_f10\",\n",
    "          \"gbert_batch64_wTSDAE_2e-05_f10\",\n",
    "          ]"
   ]
  },
  {
   "cell_type": "code",
   "execution_count": null,
   "metadata": {},
   "outputs": [],
   "source": [
    "# Initialize an empty dictionary to store results\n",
    "results = {}\n",
    "# Loop through each model path\n",
    "for model_path in models:\n",
    "    # Loop through each item in the evaluation directory for the current model\n",
    "    for item in os.listdir(f\"../00_data/SBERT_Models/Evaluation/{model_path}/eval\"):\n",
    "        # Check if the item contains 'trainig_details'\n",
    "        if \"trainig_details\" in item:\n",
    "            # If it does, read the Excel file and store it in the results dictionary\n",
    "            results[model_path] = pd.read_excel(f\"../00_data/SBERT_Models/Evaluation/{model_path}/eval/{item}\", index_col=0)"
   ]
  },
  {
   "cell_type": "code",
   "execution_count": 35,
   "metadata": {},
   "outputs": [],
   "source": [
    "# results = {\"gbert\": [], \"jobgbert\": []}\n",
    "# for model_path in models:\n",
    "#     for item in os.listdir(f\"content/{model_path}/eval\"):\n",
    "#         if \"trainig_details\" in item and \"job\" in model_path:\n",
    "#             results[\"jobgbert\"].append(pd.read_excel(f\"content/{model_path}/eval/{item}\", index_col=0))\n",
    "#         elif \"trainig_details\" in item:\n",
    "#             results[\"gbert\"].append(pd.read_excel(f\"content/{model_path}/eval/{item}\", index_col=0))\n",
    "#         else:\n",
    "#             continue"
   ]
  },
  {
   "cell_type": "code",
   "execution_count": null,
   "metadata": {},
   "outputs": [],
   "source": [
    "# Concatenate the results DataFrames, group by epoch and model, and reset the index\n",
    "concat_df = pd.concat(results.values()).groupby([\"epoch\",\"model\"]).max().reset_index()\n",
    "# Extract modelname, pretraining, batchsize, and basemodel information from the 'model' column\n",
    "concat_df[\"modelname\"] = concat_df[\"model\"].apply(lambda x: \"_\".join(x.split(\"_\")[:3]))\n",
    "concat_df[\"pretraining\"] = concat_df[\"model\"].apply(lambda x: x.split(\"_\")[2])\n",
    "concat_df[\"batchsize\"] = concat_df[\"model\"].apply(lambda x: int(x.split(\"_\")[1].replace(\"batch\",\"\")))\n",
    "concat_df[\"basemodel\"] = concat_df[\"model\"].apply(lambda x: x.split(\"_\")[0])\n",
    "# Adjust the epoch number by adding 1\n",
    "concat_df[\"epoch\"] = concat_df[\"epoch\"].apply(lambda x: x+1)\n",
    "# Replace 'jobgbert' and 'gbert' with 'JobGBERT' and 'GBERT' respectively\n",
    "concat_df[\"basemodel\"] = concat_df[\"basemodel\"].replace(\"jobgbert\",\"JobGBERT\")\n",
    "concat_df[\"basemodel\"] = concat_df[\"basemodel\"].replace(\"gbert\",\"GBERT\")\n",
    "# Rename the 'basemodel' column to 'base model'\n",
    "concat_df.rename({\"basemodel\":\"base model\"},inplace=True, axis=1)"
   ]
  },
  {
   "cell_type": "code",
   "execution_count": null,
   "metadata": {},
   "outputs": [
    {
     "data": {},
     "execution_count": 37,
     "metadata": {},
     "output_type": "execute_result"
    },
    {
     "data": {},
     "metadata": {},
     "output_type": "display_data"
    }
   ],
   "source": [
    "# Pivot the DataFrame and plot MRR values against epoch\n",
    "concat_df.pivot(index=\"epoch\",values=\"MRR\",columns=\"model\").plot(xlabel=\"MRR@100\")"
   ]
  },
  {
   "cell_type": "code",
   "execution_count": null,
   "metadata": {},
   "outputs": [
    {
     "data": {},
     "execution_count": 38,
     "metadata": {},
     "output_type": "execute_result"
    }
   ],
   "source": [
    "# Pivot the DataFrame to display MRR values for each model at each epoch\n",
    "concat_df.pivot(index=\"epoch\",values=\"MRR\",columns=\"model\")"
   ]
  },
  {
   "cell_type": "code",
   "execution_count": null,
   "metadata": {},
   "outputs": [
    {
     "name": "stdout",
     "output_type": "stream",
     "text": []
    },
    {
     "data": {},
     "metadata": {},
     "output_type": "display_data"
    }
   ],
   "source": [
    "# Group by 'base model' and 'batchsize', find the maximum MRR, and plot a bar chart\n",
    "ax = concat_df.groupby([\"base model\",\"batchsize\"]).max().round(3).reset_index().pivot(\"base model\", \"batchsize\",values=\"MRR\").plot(kind=\"bar\",title=\"Comparison of Model Results with Batch Size\",ylabel=\"MRR@100\")\n",
    "# Add labels to the bars\n",
    "for container in ax.containers:\n",
    "    ax.bar_label(container)"
   ]
  },
  {
   "cell_type": "code",
   "execution_count": null,
   "metadata": {},
   "outputs": [
    {
     "data": {},
     "execution_count": 40,
     "metadata": {},
     "output_type": "execute_result"
    },
    {
     "data": {},
     "metadata": {},
     "output_type": "display_data"
    }
   ],
   "source": [
    "# Create subplots for comparing base models\n",
    "fig, axes = plt.subplots(nrows=1, ncols=2, sharey=True, figsize=(12, 5))\n",
    "fig.suptitle('Comparison of base models', fontsize=16)\n",
    "\n",
    "# Plot MRR values for GBERT and JobGBERT on separate subplots\n",
    "concat_df[concat_df[\"base model\"]==\"GBERT\"].reset_index(drop=True).pivot(index=\"epoch\",values=\"MRR\",columns=\"model\").plot(ylabel=\"MRR@100\",ax =axes[0], title=\"GBERT\",grid=True)\n",
    "concat_df[concat_df[\"base model\"]==\"JobGBERT\"].reset_index(drop=True).pivot(index=\"epoch\",values=\"MRR\",columns=\"model\").plot(ylabel=\"MRR@100\",ax =axes[1], title=\"JobGBERT\",grid=True)"
   ]
  },
  {
   "cell_type": "code",
   "execution_count": null,
   "metadata": {},
   "outputs": [
    {
     "data": {},
     "execution_count": 41,
     "metadata": {},
     "output_type": "execute_result"
    }
   ],
   "source": [
    "# Display data for a specific model\n",
    "concat_df[concat_df[\"model\"]==\"jobgbert_batch32_woTSDAE_2e-05_f10\"]"
   ]
  },
  {
   "cell_type": "code",
   "execution_count": null,
   "metadata": {},
   "outputs": [
    {
     "data": {},
     "execution_count": 42,
     "metadata": {},
     "output_type": "execute_result"
    }
   ],
   "source": [
    "# Display the first 2 rows of the DataFrame\n",
    "concat_df.head(2)"
   ]
  },
  {
   "cell_type": "code",
   "execution_count": null,
   "metadata": {},
   "outputs": [],
   "source": [
    "# Define a function to concatenate base model and batchsize\n",
    "def concat(row):\n",
    "    return \"_\".join([(row[\"base model\"]),str(row[\"batchsize\"])])"
   ]
  },
  {
   "cell_type": "code",
   "execution_count": null,
   "metadata": {},
   "outputs": [
    {
     "name": "stdout",
     "output_type": "stream",
     "text": []
    },
    {
     "data": {},
     "metadata": {},
     "output_type": "display_data"
    }
   ],
   "source": [
    "# Group by model, find the maximum MRR, and create a bar plot comparing models with and without pretraining\n",
    "pretraing_df = concat_df.groupby(\"model\",as_index=True, sort=\"MRR\").max().reset_index()[[\"batchsize\",\"base model\",\"MRR\",\"pretraining\"]].reset_index(drop=True)\n",
    "pretraing_df[\"modelname\"] = pretraing_df.apply(concat,axis=1)\n",
    "fig = pretraing_df.pivot(\"pretraining\",\"modelname\",values=\"MRR\").T.round(3).plot(kind=\"barh\",ylabel=\"MRR@100\",\n",
    "                                                                                 title=\"Comparison of Models with and without pretraining\",\n",
    "                                                                                   figsize=(11,6),\n",
    "                                                                                 )\n",
    "\n",
    "# Add legend and labels to the bars\n",
    "fig.legend(loc=\"lower left\")\n",
    "for container in fig.containers:\n",
    "    fig.bar_label(container)"
   ]
  },
  {
   "cell_type": "code",
   "execution_count": null,
   "metadata": {},
   "outputs": [
    {
     "name": "stdout",
     "output_type": "stream",
     "text": []
    },
    {
     "data": {},
     "metadata": {},
     "output_type": "display_data"
    }
   ],
   "source": [
    "# Group by model, find the maximum MRR, and create a bar plot comparing base models\n",
    "model_comparison = concat_df.groupby(\"model\",as_index=True, sort=\"MRR\").max().reset_index()[[\"modelname\",\"base model\",\"MRR\"]].reset_index(drop=True)\n",
    "model_comparison[\"modelname\"] = model_comparison[\"modelname\"].apply(lambda x: \"_\".join(x.split(\"_\")[1:]))\n",
    "plot = model_comparison.pivot(\"modelname\", \"base model\",values=\"MRR\").sort_values(\"JobGBERT\",ascending=True).round(3).plot(kind=\"barh\",\n",
    "                                                                                                                          xlabel=\"MRR@100\",\n",
    "                                                                                                                          figsize=(11,6),\n",
    "                                                                                                                          title=\"Comparison of Base Models\")\n",
    "# Add legend and labels to the bars\n",
    "plot.legend(loc=\"lower left\")\n",
    "for container in plot.containers:\n",
    "    plot.bar_label(container)"
   ]
  },
  {
   "cell_type": "code",
   "execution_count": null,
   "metadata": {},
   "outputs": [],
   "source": [
    "# Set 'epoch' as the index for each DataFrame in the results dictionary\n",
    "for item in results:\n",
    "    results[item].set_index(\"epoch\", inplace=True)"
   ]
  },
  {
   "cell_type": "code",
   "execution_count": null,
   "metadata": {},
   "outputs": [
    {
     "name": "stdout",
     "output_type": "stream",
     "text": []
    }
   ],
   "source": [
    "# Print the model name and the epoch with the maximum MRR for each model\n",
    "for k in results:\n",
    "    print(k, results[k][\"MRR\"].idxmax(axis=0))\n",
    "    #display(results[k])"
   ]
  },
  {
   "attachments": {},
   "cell_type": "markdown",
   "metadata": {},
   "source": [
    "# Comparison Total"
   ]
  },
  {
   "cell_type": "code",
   "execution_count": null,
   "metadata": {},
   "outputs": [],
   "source": [
    "# Define the path to the Excel file containing the final evaluation results\n",
    "excel_name = \"../00_data/SBERT_Models/Evaluation/final_evaluation.xlsx\""
   ]
  },
  {
   "cell_type": "code",
   "execution_count": null,
   "metadata": {},
   "outputs": [],
   "source": [
    "# Read the Excel file into a DataFrame\n",
    "df_total = pd.read_excel(excel_name)\n",
    "# Convert the 'pretraining' column to integer type\n",
    "df_total[\"pretraining\"] = df_total[\"pretraining\"].astype(int) \n",
    "# Filter the DataFrame to include only 'description' and 'skillsets' embedding kinds\n",
    "df_total = df_total[df_total[\"embedding_kind\"].isin([\"description\",\"skillsets\"])]"
   ]
  },
  {
   "cell_type": "code",
   "execution_count": null,
   "metadata": {},
   "outputs": [],
   "source": [
    "# Define a dictionary to replace model names with shorter, more descriptive names\n",
    "replace_dict = {\"jobgbert_batch32_woTSDAE\":\"jobgbert_trained\",\n",
    "                \"gbert_batch32_woTSDAE\":\"gbert_trained\",\n",
    "                \"jobgbert_TSDAE_epochs5\":\"jobgbert_pretrained\",\n",
    "                \"gbert_TSDAE_epochs5\":\"gbert_pretrained\",\n",
    "                \"jobgbert_untrained\":\"jobgbert_untrained\",\n",
    "                \"gbert_untrained\":\"gbert_untrained\"}\n",
    "# Replace the model names in the 'model' column using the replace_dict\n",
    "df_total[\"model\"].replace(replace_dict,inplace=True)"
   ]
  },
  {
   "cell_type": "code",
   "execution_count": null,
   "metadata": {},
   "outputs": [
    {
     "name": "stdout",
     "output_type": "stream",
     "text": []
    },
    {
     "data": {},
     "metadata": {},
     "output_type": "display_data"
    }
   ],
   "source": [
    "# Filter the DataFrame to include only models present in the replace_dict values\n",
    "df_for_overview = df_total[df_total[\"model\"].isin(replace_dict.values())]\n",
    "# Round the 'MRR' column to 3 decimal places\n",
    "df_for_overview[\"MRR\"] = df_for_overview[\"MRR\"].round(3)\n",
    "# Group by model, find the maximum MRR, and create a pivot table for plotting\n",
    "df_for_overview = df_for_overview.groupby([\"model\"]).max().sort_values(by=\"MRR\",ascending=False).reset_index().pivot(\"base model\",\"training\",values=\"MRR\")[[\"untrained\",\"pretraining\",\"trained\"]]\n",
    "# Create a bar plot to evaluate training effectiveness\n",
    "ax = df_for_overview.plot(kind=\"bar\",ylabel=\"MRR@100\", title=\"Evaluation of training effectiveness\")\n",
    "# Add labels to the bars\n",
    "for container in ax.containers:\n",
    "    ax.bar_label(container)"
   ]
  },
  {
   "cell_type": "code",
   "execution_count": 52,
   "metadata": {},
   "outputs": [],
   "source": [
    "# fig = px.bar(df_for_overview, y=\"model\",x=\"MRR\",color=\"basemodel\", orientation=\"h\")\n",
    "# fig.update_layout(yaxis={'categoryorder':'total descending'})\n",
    "# fig"
   ]
  },
  {
   "attachments": {},
   "cell_type": "markdown",
   "metadata": {},
   "source": [
    "# Comparison Shortened"
   ]
  },
  {
   "cell_type": "code",
   "execution_count": null,
   "metadata": {},
   "outputs": [],
   "source": [
    "# Read the Excel file into a DataFrame\n",
    "df_total = pd.read_excel(excel_name)\n",
    "# Filter the DataFrame to include only 'description' and 'skillsets' embedding kinds\n",
    "df_total = df_total[df_total[\"embedding_kind\"].isin([\"description\",\"skillsets\"])]\n",
    "# Convert the 'pretraining' column to integer type\n",
    "df_total[\"pretraining\"] = df_total[\"pretraining\"].astype(int) "
   ]
  },
  {
   "cell_type": "code",
   "execution_count": null,
   "metadata": {},
   "outputs": [
    {
     "data": {},
     "execution_count": 54,
     "metadata": {},
     "output_type": "execute_result"
    }
   ],
   "source": [
    "# Display the first 2 rows of the DataFrame\n",
    "df_total.head(2)"
   ]
  },
  {
   "cell_type": "code",
   "execution_count": null,
   "metadata": {},
   "outputs": [
    {
     "name": "stdout",
     "output_type": "stream",
     "text": []
    }
   ],
   "source": [
    "# Filter the DataFrame to include only 'trained' models, group by model and textkind, and create a pivot table\n",
    "df_shortened = df_total[df_total[\"training\"]==\"trained\"].groupby([\"model\", \"textkind\"]).max().reset_index()\n",
    "df_shortened = df_shortened.pivot(\"model\",\"textkind\",values=\"MRR\").reset_index()\n",
    "# Select rows where the 'model' column contains 'job'\n",
    "df_shortened[df_shortened[\"model\"].str.contains(\"job\")]\n",
    "# Rename columns for better readability\n",
    "df_shortened = df_shortened.rename({\"embeddings_long\":\"original text\",\"embeddings_short\":\"shortened text\"},axis=1)\n"
   ]
  },
  {
   "cell_type": "code",
   "execution_count": null,
   "metadata": {},
   "outputs": [
    {
     "data": {},
     "metadata": {},
     "output_type": "display_data"
    }
   ],
   "source": [
    "# Create subplots for comparing text inputs\n",
    "fig, axes = plt.subplots(nrows=1, ncols=2, sharey=True, figsize=(12, 5))\n",
    "fig.suptitle('Comparison of Text Inputs', fontsize=16)\n",
    "\n",
    "# Plot MRR values for JobGBERT and GBERT on separate subplots\n",
    "fig1 = df_shortened[df_shortened[\"model\"].str.contains(\"job\")].round(3).plot(x=\"model\",ylabel=\"MRR@100\", title=\"JobGBERT\", kind=\"bar\", ax=axes[1])\n",
    "fig1.legend(loc=\"lower left\")\n",
    "for container in fig1.containers:\n",
    "    fig1.bar_label(container)\n",
    "fig2 = df_shortened[~df_shortened[\"model\"].str.contains(\"job\")].round(3).plot(x=\"model\",ylabel=\"MRR@100\", title=\"GBERT\", kind=\"bar\", ax=axes[0],legend=False)\n",
    "for container in fig2.containers:\n",
    "    fig2.bar_label(container)"
   ]
  },
  {
   "attachments": {},
   "cell_type": "markdown",
   "metadata": {},
   "source": [
    "# Comparison embeddings\n"
   ]
  },
  {
   "cell_type": "code",
   "execution_count": null,
   "metadata": {},
   "outputs": [],
   "source": [
    "# Read the Excel file into a DataFrame\n",
    "df_total = pd.read_excel(excel_name)\n",
    "# Filter the DataFrame to exclude 'job_centroid' embedding kind\n",
    "df_total = df_total[df_total[\"embedding_kind\"]!=\"job_centroid\"]\n",
    "# Convert the 'pretraining' column to integer type\n",
    "df_total[\"pretraining\"] = df_total[\"pretraining\"].astype(int)\n",
    "# Round the 'MRR' column to 3 decimal places\n",
    "df_total[\"MRR\"] = df_total[\"MRR\"].round(3)\n",
    "# Replace embedding kind names for better readability\n",
    "df_total[\"embedding_kind\"] = df_total[\"embedding_kind\"].str.replace(\"adcentroid_filtered\",\"filtered JAC\")\n",
    "df_total[\"embedding_kind\"] = df_total[\"embedding_kind\"].str.replace(\"adcentroid_unfiltered\",\"unfiltered JAC\")"
   ]
  },
  {
   "cell_type": "code",
   "execution_count": null,
   "metadata": {},
   "outputs": [
    {
     "name": "stdout",
     "output_type": "stream",
     "text": []
    },
    {
     "data": {},
     "metadata": {},
     "output_type": "display_data"
    },
    {
     "data": {},
     "metadata": {},
     "output_type": "display_data"
    }
   ],
   "source": [
    "# Group by embedding kind, find the maximum MRR, and create a horizontal bar plot\n",
    "df_embeddings = df_total.groupby([\"embedding_kind\"]).max().sort_values(by=\"MRR\")\n",
    "display(df_embeddings)\n",
    "df_embeddings[\"MRR\"] = df_embeddings[\"MRR\"].round(3)\n",
    "ax = df_embeddings[\"MRR\"].plot(kind=\"barh\",y=\"MRR\",xlabel=\"MRR@100\",ylabel=\"Embedding kind\",figsize=(11,5), title=\"Comparison of Embeddings\")\n",
    "# Add labels to the bars\n",
    "ax = ax.bar_label(ax.containers[0])"
   ]
  },
  {
   "attachments": {},
   "cell_type": "markdown",
   "metadata": {},
   "source": [
    "# Job Centroids"
   ]
  },
  {
   "cell_type": "code",
   "execution_count": null,
   "metadata": {},
   "outputs": [],
   "source": [
    "# Read the Excel file into a DataFrame\n",
    "df_total = pd.read_excel(excel_name)\n",
    "# Filter the DataFrame to include only 'job_centroid' embedding kind\n",
    "df_total = df_total[df_total[\"embedding_kind\"]==\"job_centroid\"]\n",
    "# Convert the 'pretraining' column to integer type\n",
    "df_total[\"pretraining\"] = df_total[\"pretraining\"].astype(int)\n",
    "# Round the 'MRR' column to 3 decimal places\n",
    "df_total[\"MRR\"] = df_total[\"MRR\"].round(3)"
   ]
  },
  {
   "cell_type": "code",
   "execution_count": null,
   "metadata": {},
   "outputs": [
    {
     "data": {},
     "metadata": {},
     "output_type": "display_data"
    }
   ],
   "source": [
    "# Group by model, find the maximum MRR, and create a horizontal bar plot\n",
    "df_embeddings = df_total.groupby([\"model\"]).max().sort_values(by=\"MRR\")\n",
    "df_embeddings\n",
    "df_embeddings[\"MRR\"] = df_embeddings[\"MRR\"].round(3)\n",
    "ax = df_embeddings[\"MRR\"].plot(kind=\"barh\",y=\"MRR\",xlabel=\"MRR@100\",\n",
    "                               ylabel=\"model\",figsize=(11,5), title=\"Comparison of Job Centroid\")\n",
    "# Add labels to the bars\n",
    "ax = ax.bar_label(ax.containers[0])"
   ]
  }
 ],
 "metadata": {
  "kernelspec": {
   "display_name": "Python 3 (ipykernel)",
   "language": "python",
   "name": "python3"
  },
  "language_info": {
   "codemirror_mode": {
    "name": "ipython",
    "version": 3
   },
   "file_extension": ".py",
   "mimetype": "text/x-python",
   "name": "python",
   "nbconvert_exporter": "python",
   "pygments_lexer": "ipython3",
   "version": "3.10.16"
  }
 },
 "nbformat": 4,
 "nbformat_minor": 4
}
