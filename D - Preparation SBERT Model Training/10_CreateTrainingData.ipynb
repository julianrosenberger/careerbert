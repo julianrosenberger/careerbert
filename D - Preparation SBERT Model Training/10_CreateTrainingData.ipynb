{
 "cells": [
  {
   "cell_type": "code",
   "execution_count": 1,
   "metadata": {},
   "outputs": [],
   "source": [
    "from _util import *\n",
    "import random\n",
    "from collections import Counter\n",
    "import numpy as np\n",
    "from concurrent.futures import ThreadPoolExecutor\n",
    "import os\n",
    "random.seed(42)"
   ]
  },
  {
   "attachments": {},
   "cell_type": "markdown",
   "metadata": {},
   "source": [
    "# Methods"
   ]
  },
  {
   "attachments": {},
   "cell_type": "markdown",
   "metadata": {},
   "source": [
    "Taken from:\n",
    "\n",
    "https://www.kaggle.com/code/shampydaaku/how-to-choose-negative-samples \n",
    "\n",
    "https://proceedings.neurips.cc/paper/2013/file/9aa42b31882ec039965f3c4923ce901b-Paper.pdf "
   ]
  },
  {
   "cell_type": "code",
   "execution_count": 2,
   "metadata": {},
   "outputs": [],
   "source": [
    "# def random_negative_sampling(pos_jobskill_pairs, n):\n",
    "#     skillist = set([x[1] for x in pos_jobskill_pairs])\n",
    "#     skillcount =  {k: v for k, v in sorted(Counter(skillist).items(), key=lambda item: item[1], reverse=True)}\n",
    "#     total = sum(skillcount.values(), 0.0)\n",
    "#     for k,v in skillcount.items():\n",
    "#         skillcount[k] = (v/total)**(3/4)\n",
    "#     concat_pos_pairs = [\"_\".join(pair) for pair in pos_jobskill_pairs]\n",
    "#     neg_jobskill_pairs = []\n",
    "#     for job in tqdm(pos_jobskill_pairs):\n",
    "#         for i in range(n):\n",
    "#             negSample = False\n",
    "#             while negSample == False:\n",
    "#                 random_skill = random.choices(list(skillcount.keys()),weights=skillcount.values())[0]\n",
    "#                 if \"_\".join([job[0],random_skill]) not in concat_pos_pairs:\n",
    "#                     negSample = True\n",
    "#             neg_jobskill_pairs.append([job[0],random_skill])\n",
    "#     return neg_jobskill_pairs"
   ]
  },
  {
   "cell_type": "code",
   "execution_count": 3,
   "metadata": {},
   "outputs": [],
   "source": [
    "# def random_negative_sampling_multi(pos_jobskill_pairs, n,skillcount,concat_pair):\n",
    "#     neg_jobskill_pairs = []\n",
    "#     for job in tqdm(pos_jobskill_pairs):\n",
    "#         for i in range(n):\n",
    "#             negSample = False\n",
    "#             while negSample == False:\n",
    "#                 random_skill = random.choices(list(skillcount.keys()),weights=skillcount.values())[0]\n",
    "#                 if \"_\".join([job[0],random_skill]) not in concat_pair:\n",
    "#                         negSample = True\n",
    "#             neg_jobskill_pairs.append([job[0],random_skill])\n",
    "#     return neg_jobskill_pairs"
   ]
  },
  {
   "cell_type": "code",
   "execution_count": 4,
   "metadata": {},
   "outputs": [],
   "source": [
    "# def multithread_neg_sample(pos_samples, K):\n",
    "#     split_no = os.cpu_count()\n",
    "#     skillist = set([x[1] for x in pos_samples])\n",
    "#     skillcount =  {k: v for k, v in sorted(Counter(skillist).items(), key=lambda item: item[1], reverse=True)}\n",
    "#     total = sum(skillcount.values(), 0.0)\n",
    "#     for k,v in skillcount.items():\n",
    "#         skillcount[k] = (v/total)**(3/4)\n",
    "\n",
    "#     skillcounts = [skillcount for _ in range(split_no)]\n",
    "#     concat_pairs = [([\"_\".join(pair) for pair in pos_samples]) for _ in range(split_no)]\n",
    "    \n",
    "#     Ks = [K for _ in range(split_no)]\n",
    "#     chunks = np.array_split(pos_samples, split_no)\n",
    "#     with ThreadPoolExecutor(max_workers=split_no) as executor:  \n",
    "#         bucket = executor.map(random_negative_sampling_multi,chunks,Ks,skillcounts,concat_pairs)\n",
    "#         results = [item for block in bucket for item in block]\n",
    "#     write_json(\"neg_samples.json\",results)\n",
    "#     return results"
   ]
  },
  {
   "cell_type": "code",
   "execution_count": 5,
   "metadata": {},
   "outputs": [],
   "source": [
    "# def random_negative_sampling_triplets(pos_jobskill_pairs, n):\n",
    "#     triplets = []\n",
    "#     skillist = set([x[1] for x in pos_jobskill_pairs])\n",
    "#     skillcount =  {k: v for k, v in sorted(Counter(skillist).items(), key=lambda item: item[1], reverse=True)}\n",
    "#     total = sum(skillcount.values(), 0.0)\n",
    "#     for k,v in skillcount.items():\n",
    "#         skillcount[k] = (v/total)**(3/4)\n",
    "#     concat_pos_pairs = [\"_\".join(pair) for pair in pos_jobskill_pairs]\n",
    "#     for job in tqdm(pos_jobskill_pairs):\n",
    "#         for i in range(n):\n",
    "#             negSample = False\n",
    "#             while negSample == False:\n",
    "#                 random_skill = random.choices(list(skillcount.keys()),weights=skillcount.values())[0]\n",
    "#                 if \"_\".join([job[0],random_skill]) not in concat_pos_pairs:\n",
    "#                     negSample = True\n",
    "#             triplets.append([job[0],job[1],random_skill])\n",
    "#     return triplets"
   ]
  },
  {
   "attachments": {},
   "cell_type": "markdown",
   "metadata": {},
   "source": [
    "# Main"
   ]
  },
  {
   "attachments": {},
   "cell_type": "markdown",
   "metadata": {},
   "source": [
    "## Positive Pairs"
   ]
  },
  {
   "attachments": {},
   "cell_type": "markdown",
   "metadata": {},
   "source": [
    "#### Job - Skills"
   ]
  },
  {
   "cell_type": "code",
   "execution_count": 6,
   "metadata": {},
   "outputs": [],
   "source": [
    "jobs = load_jobs()"
   ]
  },
  {
   "cell_type": "code",
   "execution_count": 7,
   "metadata": {},
   "outputs": [],
   "source": [
    "jobtitles = [x[\"jobtitle\"].replace(\"/\",\" \") for x in jobs]"
   ]
  },
  {
   "cell_type": "code",
   "execution_count": 8,
   "metadata": {},
   "outputs": [
    {
     "data": {
      "text/plain": [
       "113685"
      ]
     },
     "execution_count": 8,
     "metadata": {},
     "output_type": "execute_result"
    }
   ],
   "source": [
    "pos_job_skill_pairs = []\n",
    "for job in jobs:\n",
    "    if job[\"additional_skills\"] != None:\n",
    "        skills = job[\"skills\"]+job[\"additional_skills\"]\n",
    "    else:\n",
    "        skills = job[\"skills\"]\n",
    "    for skill in skills:\n",
    "        pos_job_skill_pairs.append([job[\"jobtitle\"].replace(\"/\",\" \"), skill])\n",
    "len(pos_job_skill_pairs)"
   ]
  },
  {
   "attachments": {},
   "cell_type": "markdown",
   "metadata": {},
   "source": [
    "#### Job - Description"
   ]
  },
  {
   "cell_type": "code",
   "execution_count": 9,
   "metadata": {},
   "outputs": [
    {
     "data": {
      "text/plain": [
       "2937"
      ]
     },
     "execution_count": 9,
     "metadata": {},
     "output_type": "execute_result"
    }
   ],
   "source": [
    "pos_job_desc_pairs = []\n",
    "for job in jobs:\n",
    "    pos_job_desc_pairs.append([job[\"jobtitle\"].replace(\"/\",\" \"), job[\"jobdescription\"]])\n",
    "len(pos_job_desc_pairs)"
   ]
  },
  {
   "attachments": {},
   "cell_type": "markdown",
   "metadata": {},
   "source": [
    "#### Job - Synonyms"
   ]
  },
  {
   "cell_type": "code",
   "execution_count": 10,
   "metadata": {},
   "outputs": [
    {
     "data": {
      "text/plain": [
       "14723"
      ]
     },
     "execution_count": 10,
     "metadata": {},
     "output_type": "execute_result"
    }
   ],
   "source": [
    "pos_job_syn_pairs = []\n",
    "for job in jobs:\n",
    "    if job[\"synonyms\"] != None:\n",
    "        for syn in job[\"synonyms\"]:\n",
    "            pos_job_syn_pairs.append([job[\"jobtitle\"].replace(\"/\",\" \"), syn])\n",
    "len(pos_job_syn_pairs)"
   ]
  },
  {
   "cell_type": "code",
   "execution_count": 11,
   "metadata": {},
   "outputs": [],
   "source": [
    "# write_json(r\"00_data\\02_training_data\\pos_job_skill_pairs.json\", pos_job_skill_pairs)\n",
    "# write_json(r\"00_data\\02_training_data\\pos_job_desc_pairs.json\", pos_job_desc_pairs)\n",
    "# write_json(r\"00_data\\02_training_data\\pos_job_syn_pairs.json\", pos_job_syn_pairs)"
   ]
  },
  {
   "attachments": {},
   "cell_type": "markdown",
   "metadata": {},
   "source": [
    "## Negative Pairs"
   ]
  },
  {
   "cell_type": "code",
   "execution_count": 12,
   "metadata": {},
   "outputs": [],
   "source": [
    "# neg_job_skill_pairs = random_negative_sampling(pos_job_skill_pairs,5)\n",
    "# neg_job_desc_pairs = random_negative_sampling(pos_job_desc_pairs,5)\n",
    "# neg_job_syn_pairs = random_negative_sampling(pos_job_syn_pairs,5)\n",
    "# write_json(r\"00_data\\02_training_data\\neg_job_skill_pairs.json\", neg_job_skill_pairs)\n",
    "# write_json(r\"00_data\\02_training_data\\neg_job_desc_pairs.json\", neg_job_desc_pairs)\n",
    "# write_json(r\"00_data\\02_training_data\\neg_job_syn_pairs.json\", neg_job_syn_pairs)"
   ]
  }
 ],
 "metadata": {
  "kernelspec": {
   "display_name": "Python 3 (ipykernel)",
   "language": "python",
   "name": "python3"
  },
  "language_info": {
   "codemirror_mode": {
    "name": "ipython",
    "version": 3
   },
   "file_extension": ".py",
   "mimetype": "text/x-python",
   "name": "python",
   "nbconvert_exporter": "python",
   "pygments_lexer": "ipython3",
   "version": "3.10.16"
  },
  "vscode": {
   "interpreter": {
    "hash": "cb0bef7a9eff8501420d8e3c6496920c898020e76359dc7d7e37d89f971fe60a"
   }
  }
 },
 "nbformat": 4,
 "nbformat_minor": 4
}
