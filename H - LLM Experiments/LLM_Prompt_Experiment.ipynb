{
 "cells": [
  {
   "cell_type": "code",
   "execution_count": 39,
   "id": "1e411e0e-58db-4797-ab14-25acd8c0f9e2",
   "metadata": {},
   "outputs": [],
   "source": [
    "import random\n",
    "import numpy as np\n",
    "import json\n",
    "import pandas as pd\n",
    "from dotenv import load_dotenv\n",
    "import os\n",
    "import asyncio\n",
    "from openai import OpenAI\n",
    "from tqdm import tqdm\n",
    "import time"
   ]
  },
  {
   "cell_type": "markdown",
   "id": "18cff4ae-4f4e-40ff-97a5-a5634285c2af",
   "metadata": {},
   "source": [
    "## EURES"
   ]
  },
  {
   "cell_type": "code",
   "execution_count": 2,
   "id": "7b49170c-07ef-4d62-9283-780ff3653dca",
   "metadata": {},
   "outputs": [],
   "source": [
    "def load_job_ads(file_path):\n",
    "    \"\"\"Load job ads from JSON file\"\"\"\n",
    "    with open(file_path, 'r', encoding='utf-8') as file:\n",
    "        return json.load(file)"
   ]
  },
  {
   "cell_type": "code",
   "execution_count": 3,
   "id": "7e29fb10-2b23-483d-9046-5f730a3f5612",
   "metadata": {},
   "outputs": [],
   "source": [
    "def prepare_test_job_ads(job_ads, n_samples=5, seed=42):\n",
    "    \"\"\"\n",
    "    Select random job ads with fixed seed for reproducibility\n",
    "    Args:\n",
    "        job_ads: List of job advertisements\n",
    "        n_samples: Number of samples to select\n",
    "        seed: Random seed for reproducibility\n",
    "    \"\"\"\n",
    "    random.seed(seed)\n",
    "    np.random.seed(seed)\n",
    "    \n",
    "    test_ads = random.sample(job_ads, n_samples)\n",
    "    \n",
    "    formatted_ads = []\n",
    "    for ad in test_ads:\n",
    "        formatted_ad = {\n",
    "            'job_title': ad['title'],\n",
    "            'esco_id': ad['esco_id'],  \n",
    "            'description': ad['short_texts'],\n",
    "            'correct_esco_job': ad['esco_job']\n",
    "        }\n",
    "        formatted_ads.append(formatted_ad)\n",
    "    \n",
    "    return formatted_ads"
   ]
  },
  {
   "cell_type": "code",
   "execution_count": 4,
   "id": "c72f69f4-6a10-4b8d-aca0-62e615a35100",
   "metadata": {},
   "outputs": [],
   "source": [
    "# file_path = '../00_data/EURES/eures_testads_final_short.json'\n",
    "# job_ads = load_job_ads(file_path)\n",
    "# test_ads = prepare_test_job_ads(job_ads, n_samples=5, seed=42)"
   ]
  },
  {
   "cell_type": "markdown",
   "id": "d68cd0f2-24ca-4523-b077-a0a310d2ff53",
   "metadata": {},
   "source": [
    "## ESCO"
   ]
  },
  {
   "cell_type": "code",
   "execution_count": 54,
   "id": "c466f0b5-ef81-4faa-95d1-e101d80df102",
   "metadata": {},
   "outputs": [],
   "source": [
    "def load_isco_groups(file_path):\n",
    "    \"\"\"Load ISCO groups from CSV file\"\"\"\n",
    "    df = pd.read_csv(file_path, dtype={\"code\": str})\n",
    "    return df"
   ]
  },
  {
   "cell_type": "code",
   "execution_count": 59,
   "id": "4ef36f1d-c4f6-4109-8551-29821407f225",
   "metadata": {},
   "outputs": [],
   "source": [
    "def create_isco_hierarchy(df):\n",
    "    \"\"\"Create a structured ISCO hierarchy from the CSV file\"\"\"\n",
    "    hierarchy = {}\n",
    "\n",
    "    # Level 1: Major groups (1-digit)\n",
    "    major_groups = df[df['code'].str.len() == 1]\n",
    "    for _, major in major_groups.iterrows():\n",
    "        code = major['code']\n",
    "        hierarchy[code] = {\n",
    "            'label': major['preferredLabel'],\n",
    "            'subgroups': {}\n",
    "        }\n",
    "\n",
    "        # Level 2: Sub-major groups (prefix match and length == 2)\n",
    "        submajor = df[(df['code'].str.startswith(code)) & (df['code'].str.len() == 2)]\n",
    "        for _, sub in submajor.iterrows():\n",
    "            sub_code = sub['code']\n",
    "            hierarchy[code]['subgroups'][sub_code] = {\n",
    "                'label': sub['preferredLabel'],\n",
    "                'occupations': []\n",
    "            }\n",
    "\n",
    "    return hierarchy"
   ]
  },
  {
   "cell_type": "markdown",
   "id": "2deb7017-7cf3-4e3b-ac52-47f0867b4f73",
   "metadata": {},
   "source": [
    "## LLMs"
   ]
  },
  {
   "cell_type": "markdown",
   "id": "a02e4dfd-5d70-41b2-a231-46b41331e232",
   "metadata": {},
   "source": [
    "### Prompt"
   ]
  },
  {
   "cell_type": "code",
   "execution_count": 61,
   "id": "baff51b9-1ad5-487d-84b0-40762f12dcbf",
   "metadata": {},
   "outputs": [],
   "source": [
    "def create_major_group_prompt(job_ad, hierarchy):\n",
    "    \"\"\"Create prompt for identifying major group\"\"\"\n",
    "    prompt = f\"\"\"As a job classification expert, identify the most relevant ISCO major groups for this job posting.\n",
    "\n",
    "Job Title: {job_ad['job_title']}\n",
    "Job Description: {job_ad['description']}\n",
    "\n",
    "Available Major Groups:\n",
    "{json.dumps({code: data['label'] for code, data in hierarchy.items()}, indent=2, ensure_ascii=False)}\n",
    "\n",
    "Return the TWO most relevant major group codes with confidence scores as JSON:\n",
    "[\n",
    "    {{\"code\": \"2\", \"confidence\": 0.9}},\n",
    "    {{\"code\": \"3\", \"confidence\": 0.7}}\n",
    "]\"\"\"\n",
    "    return prompt"
   ]
  },
  {
   "cell_type": "code",
   "execution_count": 62,
   "id": "084ba063-d640-4f15-ac15-4300c27dd21a",
   "metadata": {},
   "outputs": [],
   "source": [
    "def create_subgroup_prompt(job_ad, major_code, hierarchy):\n",
    "    \"\"\"Create prompt for identifying subgroups within major group\"\"\"\n",
    "    subgroups = hierarchy[major_code]['subgroups']\n",
    "    \n",
    "    prompt = f\"\"\"Within the major group \"{hierarchy[major_code]['label']}\", identify the most relevant sub-major groups for this job.\n",
    "\n",
    "Job Title: {job_ad['job_title']}\n",
    "Job Description: {job_ad['description']}\n",
    "\n",
    "Available Sub-major Groups:\n",
    "{json.dumps({code: data['label'] for code, data in subgroups.items()}, indent=2, ensure_ascii=False)}\n",
    "\n",
    "Return the most relevant sub-group codes with confidence scores as JSON:\n",
    "[\n",
    "    {{\"code\": \"21\", \"confidence\": 0.95}},\n",
    "    {{\"code\": \"23\", \"confidence\": 0.6}}\n",
    "]\"\"\"\n",
    "    return prompt"
   ]
  },
  {
   "cell_type": "code",
   "execution_count": 63,
   "id": "1740d764-524a-4b82-8d32-60d6c8a9b2b1",
   "metadata": {},
   "outputs": [],
   "source": [
    "def create_final_matching_prompt(job_ad, esco_jobs):\n",
    "    \"\"\"Create prompt for final ESCO job matching\"\"\"\n",
    "    prompt = f\"\"\"Match this job posting to the most relevant ESCO jobs.\n",
    "\n",
    "Job Title: {job_ad['job_title']}\n",
    "Job Description: {job_ad['description']}\n",
    "\n",
    "Available ESCO Jobs:\n",
    "{json.dumps(esco_jobs, indent=2, ensure_ascii=False)}\n",
    "\n",
    "Return the top 100 matches as JSON:\n",
    "[\n",
    "    {{\"esco_id\": \"string\", \"confidence\": float}},\n",
    "    ...\n",
    "]\"\"\"\n",
    "    return prompt"
   ]
  },
  {
   "cell_type": "code",
   "execution_count": 64,
   "id": "05ae904f-a161-4a77-b5f5-76ff2088af07",
   "metadata": {},
   "outputs": [],
   "source": [
    "# Example prompt using the formatted job ads:\n",
    "def create_test_prompt(formatted_ads, isco_hierarchy):\n",
    "    prompt = \"\"\"As a job matching expert, analyze these job postings and match them to the most appropriate ESCO job classifications.\n",
    "\n",
    "For each job posting, provide the most likely ESCO job matches in descending order of relevance.\n",
    "\n",
    "Job Postings to Analyze:\n",
    "\"\"\"\n",
    "    \n",
    "    for i, ad in enumerate(formatted_ads, 1):\n",
    "        prompt += f\"\\nJob Posting {i}:\\nTitle: {ad['job_title']}\\nDescription: {ad['description']}\\n\"\n",
    "    \n",
    "    prompt += \"\"\"\\nFor each job posting, return a JSON array in this format:\n",
    "{\n",
    "    \"job_posting_1\": [\n",
    "        {\"esco_id\": \"1234.5\", \"confidence\": 0.95},\n",
    "        {\"esco_id\": \"5678.9\", \"confidence\": 0.85},\n",
    "        ...\n",
    "    ],\n",
    "    ...\n",
    "}\n",
    "\"\"\"\n",
    "    \n",
    "    return prompt"
   ]
  },
  {
   "cell_type": "markdown",
   "id": "422833ce-965f-4602-8ec4-f8e689ae8663",
   "metadata": {},
   "source": [
    "### API Call"
   ]
  },
  {
   "cell_type": "code",
   "execution_count": 11,
   "id": "c7fffb8f-4585-48e1-9b52-c001116696bf",
   "metadata": {},
   "outputs": [],
   "source": [
    "def get_llm_predictions(test_ads, client):\n",
    "    \"\"\"Get predictions from LLM for test ads\"\"\"\n",
    "    predictions = []\n",
    "    \n",
    "    for ad in tqdm(test_ads):\n",
    "        prompt = f\"\"\"Given this job posting, identify the most relevant ESCO job classification with ID.\n",
    "\n",
    "Job Title: {ad['job_title']}\n",
    "Job Description: {ad['description']}\n",
    "\n",
    "Return your answer as a JSON array with your top 100 ESCO job IDs and confidence scores:\n",
    "[\n",
    "    {{\"esco_id\": \"string\", \"confidence\": float}},\n",
    "    ...\n",
    "]\n",
    "\n",
    "Note: Return ONLY the JSON array.\"\"\"\n",
    "\n",
    "        try:\n",
    "            response = client.chat.completions.create(\n",
    "                model=\"gpt-4o-mini\",\n",
    "                messages=[{\"role\": \"user\", \"content\": prompt}],\n",
    "                temperature=0\n",
    "            )\n",
    "            \n",
    "            result = {\n",
    "                'job_title': ad['job_title'],\n",
    "                'correct_esco_id': ad['esco_id'],\n",
    "                'predictions': json.loads(response.choices[0].message.content)\n",
    "            }\n",
    "            predictions.append(result)\n",
    "            \n",
    "            time.sleep(1)  # Rate limiting\n",
    "            \n",
    "        except Exception as e:\n",
    "            print(f\"Error processing {ad['job_title']}: {e}\")\n",
    "    \n",
    "    return predictions"
   ]
  },
  {
   "cell_type": "code",
   "execution_count": 12,
   "id": "9be0bf34-4e45-492d-82e2-2b87d9322126",
   "metadata": {},
   "outputs": [],
   "source": [
    "# Save predictions\n",
    "def save_predictions(predictions, filename='llm_predictions.json'):\n",
    "    with open(filename, 'w') as f:\n",
    "        json.dump(predictions, f, indent=2)"
   ]
  },
  {
   "cell_type": "code",
   "execution_count": 13,
   "id": "66ac9e14-7089-415d-afa9-4db182a2b192",
   "metadata": {},
   "outputs": [],
   "source": [
    "# Evaluate separately\n",
    "def evaluate_predictions(predictions):\n",
    "    results = []\n",
    "    \n",
    "    for pred in predictions:\n",
    "        # Find rank of correct ID\n",
    "        rank = None\n",
    "        for idx, p in enumerate(pred['predictions'], 1):\n",
    "            if p['esco_id'] == pred['correct_esco_id']:\n",
    "                rank = idx\n",
    "                break\n",
    "        \n",
    "        mrr = 1/rank if rank and rank <= 100 else 0\n",
    "        \n",
    "        results.append({\n",
    "            'job_title': pred['job_title'],\n",
    "            'correct_esco_id': pred['correct_esco_id'],\n",
    "            'rank': rank,\n",
    "            'mrr': mrr\n",
    "        })\n",
    "    \n",
    "    return results"
   ]
  },
  {
   "cell_type": "markdown",
   "id": "e88d74cf-1b0d-4512-9620-a52dc4844d93",
   "metadata": {},
   "source": [
    "## Experiment"
   ]
  },
  {
   "cell_type": "code",
   "execution_count": 34,
   "id": "1511a2d2-80bf-4cd1-8ef8-fee4525a3931",
   "metadata": {},
   "outputs": [
    {
     "name": "stdout",
     "output_type": "stream",
     "text": [
      "  conceptType                             conceptUri  code  \\\n",
      "0   ISCOGroup     http://data.europa.eu/esco/isco/C0     0   \n",
      "1   ISCOGroup    http://data.europa.eu/esco/isco/C01     1   \n",
      "2   ISCOGroup   http://data.europa.eu/esco/isco/C011    11   \n",
      "3   ISCOGroup  http://data.europa.eu/esco/isco/C0110   110   \n",
      "4   ISCOGroup    http://data.europa.eu/esco/isco/C02     2   \n",
      "\n",
      "                              preferredLabel    status  altLabels  \\\n",
      "0      Angehörige der regulären Streitkräfte  released        NaN   \n",
      "1       Offiziere in regulären Streitkräften  released        NaN   \n",
      "2       Offiziere in regulären Streitkräften  released        NaN   \n",
      "3       Offiziere in regulären Streitkräften  released        NaN   \n",
      "4  Unteroffiziere in regulären Streitkräften  released        NaN   \n",
      "\n",
      "                                            inScheme  description  \n",
      "0  http://data.europa.eu/esco/concept-scheme/occu...          NaN  \n",
      "1  http://data.europa.eu/esco/concept-scheme/isco...          NaN  \n",
      "2  http://data.europa.eu/esco/concept-scheme/isco...          NaN  \n",
      "3  http://data.europa.eu/esco/concept-scheme/occu...          NaN  \n",
      "4  http://data.europa.eu/esco/concept-scheme/occu...          NaN  \n"
     ]
    }
   ],
   "source": [
    "# Load data\n",
    "job_ads = load_job_ads('../00_data/EURES/eures_testads_final_short.json')\n",
    "isco_groups = load_isco_groups('../00_data/ESCO/ESCO_isco_groups.csv')\n",
    "print(isco_groups.head())\n",
    "\n",
    "isco_hierarchy = create_isco_hierarchy(isco_groups)\n",
    "    \n",
    "# Prepare test ads\n",
    "test_ads = prepare_test_job_ads(job_ads, n_samples=5, seed=42)"
   ]
  },
  {
   "cell_type": "code",
   "execution_count": 35,
   "id": "81f49be4-6c66-4a05-bdc9-bd40c02a0bf7",
   "metadata": {},
   "outputs": [
    {
     "name": "stdout",
     "output_type": "stream",
     "text": [
      "{'0': {'label': 'Angehörige der regulären Streitkräfte', 'subgroups': {}}, '1': {'label': 'Führungskräfte', 'subgroups': {'11': {'label': 'Geschäftsführer, Vorstände, leitende Verwaltungsbedienstete und Angehörige gesetzgebender Körperschaften', 'occupations': []}, '12': {'label': 'Führungskräfte im kaufmännischen Bereich', 'occupations': []}, '13': {'label': 'Führungskräfte in der Produktion und bei speziellen Dienstleistungen', 'occupations': []}, '14': {'label': 'Führungskräfte in Hotels und Restaurants, im Handel und in der Erbringung sonstiger Dienstleistungen', 'occupations': []}}}, '2': {'label': 'Akademische Berufe', 'subgroups': {'21': {'label': 'Naturwissenschaftler, Mathematiker und Ingenieure', 'occupations': []}, '22': {'label': 'Akademische und verwandte Gesundheitsberufe', 'occupations': []}, '23': {'label': 'Lehrkräfte', 'occupations': []}, '24': {'label': 'Betriebswirte und vergleichbare akademische Berufe', 'occupations': []}, '25': {'label': 'Akademische und vergleichbare Fachkräfte in der Informations- und Kommunikationstechnologie', 'occupations': []}, '26': {'label': 'Juristen, Sozialwissenschaftler und Kulturberufe', 'occupations': []}}}, '3': {'label': 'Techniker und gleichrangige nichttechnische Berufe', 'subgroups': {'31': {'label': 'Ingenieurtechnische und vergleichbare Fachkräfte', 'occupations': []}, '32': {'label': 'Assistenzberufe im Gesundheitswesen', 'occupations': []}, '33': {'label': 'Nicht akademische betriebswirtschaftliche und kaufmännische Fachkräfte und Verwaltungsfachkräfte', 'occupations': []}, '34': {'label': 'Nicht akademische juristische, sozialpflegerische, kulturelle und verwandte Fachkräfte', 'occupations': []}, '35': {'label': 'Informations- und Kommunikationstechniker', 'occupations': []}}}, '4': {'label': 'Bürokräfte und verwandte Berufe', 'subgroups': {'41': {'label': 'Allgemeine Büro- und Sekretariatskräfte', 'occupations': []}, '42': {'label': 'Bürokräfte mit Kundenkontakt', 'occupations': []}, '43': {'label': 'Bürokräfte im Finanz- und Rechnungswesen, in der Statistik und in der Materialwirtschaft', 'occupations': []}, '44': {'label': 'Sonstige Bürokräfte und verwandte Berufe', 'occupations': []}}}, '5': {'label': 'Dienstleistungsberufe und Verkäufer', 'subgroups': {'51': {'label': 'Berufe im Bereich personenbezogener Dienstleistungen', 'occupations': []}, '52': {'label': 'Verkaufskräfte', 'occupations': []}, '53': {'label': 'Betreuungsberufe', 'occupations': []}, '54': {'label': 'Schutzkräfte und Sicherheitsbedienstete', 'occupations': []}}}, '6': {'label': 'Fachkräfte in Land- und Forstwirtschaft und Fischerei', 'subgroups': {'61': {'label': 'Fachkräfte in der Landwirtschaft', 'occupations': []}, '62': {'label': 'Fachkräfte in Forstwirtschaft, Fischerei und Jagd — Marktproduktion', 'occupations': []}, '63': {'label': 'Landwirte, Fischer, Jäger und Sammler für den Eigenbedarf', 'occupations': []}}}, '7': {'label': 'Handwerks- und verwandte Berufe', 'subgroups': {'71': {'label': 'Bau- und Ausbaufachkräfte sowie verwandte Berufe, ausgenommen Elektriker', 'occupations': []}, '72': {'label': 'Metallarbeiter, Mechaniker und verwandte Berufe', 'occupations': []}, '73': {'label': 'Präzisionshandwerker, Drucker und kunsthandwerkliche Berufe', 'occupations': []}, '74': {'label': 'Elektriker- und Elektroniker', 'occupations': []}, '75': {'label': 'Berufe in der Nahrungsmittelverarbeitung, Holzverarbeitung und Bekleidungsherstellung und verwandte handwerkliche Fachkräfte', 'occupations': []}}}, '8': {'label': 'Bediener von Anlagen und Maschinen und Montageberufe', 'subgroups': {'81': {'label': 'Bediener stationärer Anlagen und Maschinen', 'occupations': []}, '82': {'label': 'Montageberufe', 'occupations': []}, '83': {'label': 'Fahrzeugführer und Bediener mobiler Anlagen', 'occupations': []}}}, '9': {'label': 'Hilfsarbeitskräfte', 'subgroups': {'91': {'label': 'Reinigungspersonal und Hilfskräfte', 'occupations': []}, '92': {'label': 'Hilfsarbeiter in der Land- und Forstwirtschaft und Fischerei', 'occupations': []}, '93': {'label': 'Hilfsarbeiter im Bergbau, im Bau, bei der Herstellung von Waren und im Transportwesen', 'occupations': []}, '94': {'label': 'Hilfskräfte in der Nahrungsmittelzubereitung', 'occupations': []}, '95': {'label': 'Straßenhändler und auf der Straße arbeitende Dienstleistungskräfte', 'occupations': []}, '96': {'label': 'Abfallentsorgungsarbeiter und sonstige Hilfsarbeitskräfte', 'occupations': []}}}}\n"
     ]
    }
   ],
   "source": [
    "print(isco_hierarchy)"
   ]
  },
  {
   "cell_type": "code",
   "execution_count": 40,
   "id": "9b970436-31a3-42c2-9082-7ca1eb05facf",
   "metadata": {},
   "outputs": [
    {
     "name": "stderr",
     "output_type": "stream",
     "text": [
      "100%|███████████████████████████████████████████████████████████████| 5/5 [01:33<00:00, 18.73s/it]"
     ]
    },
    {
     "name": "stdout",
     "output_type": "stream",
     "text": [
      "\n",
      "Average MRR@100: 0.000\n",
      "\n",
      "Detailed Results:\n",
      "\n",
      "Job:  Fachinformatiker für Systemintegration (m/w/d) in Vollzeit (Systeminformatiker/in) \n",
      "Correct ESCO ID: 3114.1.2\n",
      "Rank: None\n",
      "MRR: 0.000\n",
      "\n",
      "Job:  Projektingenieur_in Automotive Electronics \n",
      "Correct ESCO ID: 2149.2.1\n",
      "Rank: None\n",
      "MRR: 0.000\n",
      "\n",
      "Job:  CNC - Dreher (m/w/d) (CNC-Dreher/in) \n",
      "Correct ESCO ID: 7223.4.4\n",
      "Rank: None\n",
      "MRR: 0.000\n",
      "\n",
      "Job:  GLASER_IN \n",
      "Correct ESCO ID: 7125.1\n",
      "Rank: None\n",
      "MRR: 0.000\n",
      "\n",
      "Job:  Damenkleidermacher_in als Vorarbeiter_in \n",
      "Correct ESCO ID: 7531.2\n",
      "Rank: None\n",
      "MRR: 0.000\n"
     ]
    },
    {
     "name": "stderr",
     "output_type": "stream",
     "text": [
      "\n"
     ]
    }
   ],
   "source": [
    "# Load environment variables from .env\n",
    "load_dotenv()\n",
    "\n",
    "# Get predictions\n",
    "client = OpenAI()\n",
    "predictions = get_llm_predictions(test_ads, client)\n",
    "\n",
    "# Save predictions for later\n",
    "save_predictions(predictions)\n",
    "\n",
    "# Evaluate\n",
    "results = evaluate_predictions(predictions)\n",
    "\n",
    "# Print results\n",
    "avg_mrr = sum(r['mrr'] for r in results) / len(results)\n",
    "print(f\"\\nAverage MRR@100: {avg_mrr:.3f}\")\n",
    "\n",
    "print(\"\\nDetailed Results:\")\n",
    "for r in results:\n",
    "    print(f\"\\nJob: {r['job_title']}\")\n",
    "    print(f\"Correct ESCO ID: {r['correct_esco_id']}\")\n",
    "    print(f\"Rank: {r['rank']}\")\n",
    "    print(f\"MRR: {r['mrr']:.3f}\")"
   ]
  }
 ],
 "metadata": {
  "kernelspec": {
   "display_name": "Python 3 (ipykernel)",
   "language": "python",
   "name": "python3"
  },
  "language_info": {
   "codemirror_mode": {
    "name": "ipython",
    "version": 3
   },
   "file_extension": ".py",
   "mimetype": "text/x-python",
   "name": "python",
   "nbconvert_exporter": "python",
   "pygments_lexer": "ipython3",
   "version": "3.10.16"
  }
 },
 "nbformat": 4,
 "nbformat_minor": 5
}
