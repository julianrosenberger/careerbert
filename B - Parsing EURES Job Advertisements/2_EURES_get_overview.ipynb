{
 "cells": [
  {
   "cell_type": "code",
   "execution_count": null,
   "metadata": {},
   "outputs": [],
   "source": [
    "import sys\n",
    "from _util import * "
   ]
  },
  {
   "cell_type": "code",
   "execution_count": null,
   "metadata": {},
   "outputs": [],
   "source": [
    "import requests\n",
    "import pandas as pd\n",
    "import time\n",
    "from bs4 import BeautifulSoup\n",
    "import math\n",
    "import re\n",
    "from webdriver_manager.chrome import ChromeDriverManager\n",
    "from selenium import webdriver"
   ]
  },
  {
   "cell_type": "code",
   "execution_count": null,
   "metadata": {},
   "outputs": [],
   "source": [
    "import numpy as np\n",
    "from concurrent.futures import ThreadPoolExecutor\n",
    "import os\n",
    "from datetime import datetime\n",
    "from _helpers_parsing import driver_setup\n",
    "from _util import *"
   ]
  },
  {
   "cell_type": "code",
   "execution_count": null,
   "metadata": {},
   "outputs": [],
   "source": [
    "from selenium.webdriver.common.by import By\n",
    "from selenium.webdriver.support.wait import WebDriverWait\n",
    "from selenium.webdriver.support import expected_conditions as EC"
   ]
  },
  {
   "cell_type": "code",
   "execution_count": null,
   "metadata": {},
   "outputs": [],
   "source": [
    "esco_jobs = load_jobs()"
   ]
  },
  {
   "cell_type": "code",
   "execution_count": null,
   "metadata": {},
   "outputs": [],
   "source": [
    "def get_eures_overview(esco_codes,driver,filename,patience):\n",
    "    codedict =[]\n",
    "    for code in tqdm(esco_codes):\n",
    "        uri = code[\"uri\"].split(\"/\")[-1]\n",
    "        driver.get(f\"https://ec.europa.eu/eures/portal/jv-se/search?page=1&resultsPerPage=50&orderBy=MOST_RECENT&availableLanguages=de&escoOccupation={uri}&lang=de\")\n",
    "        try:\n",
    "            WebDriverWait(driver, 3).until(EC.presence_of_element_located((By.ID, \"jv-no-result\")))\n",
    "            continue\n",
    "        except:\n",
    "            pass\n",
    "        try:\n",
    "            WebDriverWait(driver, patience).until(EC.presence_of_element_located((By.CLASS_NAME, \"ecl-u-type-heading-2\")))\n",
    "            time.sleep(1)\n",
    "            soup = BeautifulSoup(driver.page_source)\n",
    "            results = (soup.find(class_ = \"ecl-u-type-heading-2\").text.split(\" \")[2])\n",
    "            results = int(\"\".join([c for c in results if c.isdigit()]))\n",
    "            #always 50 results per page, therefore /50\n",
    "            pages = math.ceil(results/50)\n",
    "            # set pages to 6 to get 6*50 --> top 300 latest results\n",
    "            if pages > 6:\n",
    "                pages = 6\n",
    "        except:\n",
    "            #print(f\"skipped {code['jobtitle']}\")\n",
    "            codedict.append({\"searched_esco_job\":code[\"jobtitle\"]})\n",
    "            continue\n",
    "        for i in (range(pages)):\n",
    "            driver.get((f\"https://ec.europa.eu/eures/portal/jv-se/search?page={i+1}&resultsPerPage=50&orderBy=BEST_MATCH&availableLanguages=de&escoOccupation={uri}&lang=de\"))\n",
    "            try:\n",
    "                WebDriverWait(driver, patience).until(EC.presence_of_element_located((By.CLASS_NAME, \"jv-result-job-category\")))\n",
    "            except:\n",
    "                continue\n",
    "            time.sleep(1)\n",
    "            soup = BeautifulSoup(driver.page_source)\n",
    "            hits = soup.find_all(\"article\")\n",
    "            for hit in hits:\n",
    "                url = \"https://ec.europa.eu\"+hit.find(href=True)[\"href\"]\n",
    "                title = hit.find(href=True).text\n",
    "                publication_date = hit.find(\"em\").text.replace(\" \",\"\").replace(\"/\",\".\")\n",
    "                esco_jobs= []\n",
    "                for x in (hit.find_all(\"span\",{\"class\":\"jv-result-job-category\"})):\n",
    "                    esco_jobs.append(x.text.strip(\", \"))\n",
    "                job = {\"searched_esco_job\":code[\"jobtitle\"], \"title\":title,\"url\":url,\"esco_jobs\":esco_jobs,\"publication_date\":publication_date}\n",
    "                codedict.append(job)\n",
    "        with open(filename, 'w',encoding= \"utf-8\") as fp:\n",
    "            json.dump(codedict, fp, indent = 2, ensure_ascii=False)\n",
    "    return codedict"
   ]
  },
  {
   "cell_type": "code",
   "execution_count": null,
   "metadata": {},
   "outputs": [],
   "source": [
    "# multithreading the parsing, to speed up the process\n",
    "def multithread_eures_overview(esco_joblist, headless=True,patience=10):\n",
    "    \n",
    "    drivers = [driver_setup(headless) for _ in range(4)]\n",
    "    currently = \"\".join([c for c in str(datetime.now()).split('.')[0] if c.isdigit()])\n",
    "    filenames = [f\"eures_overview/{currently}_eres_overview_{i}.json\" for i in range(1,5)]\n",
    "    patience = [patience for _ in range(4)]\n",
    "\n",
    "    chunks = np.array_split(esco_joblist, 4)\n",
    "    with ThreadPoolExecutor(max_workers=4) as executor:  \n",
    "        bucket = executor.map(get_eures_overview,chunks,drivers,filenames,patience)\n",
    "        results = [item for block in bucket for item in block]\n",
    "    write_json(\"eures_overview/eures_overview_total.json\",results)\n",
    "    [driver.quit() for driver in drivers]\n",
    "    return results"
   ]
  },
  {
   "cell_type": "code",
   "execution_count": null,
   "metadata": {},
   "outputs": [],
   "source": [
    "x = multithread_eures_overview(esco_jobs, headless=False,patience=10)"
   ]
  },
  {
   "cell_type": "code",
   "execution_count": null,
   "metadata": {},
   "outputs": [],
   "source": [
    "import pandas as pd"
   ]
  },
  {
   "cell_type": "code",
   "execution_count": null,
   "metadata": {},
   "outputs": [],
   "source": [
    "import os\n",
    "parsedads = pd.DataFrame(flatten_list([load_json(\"eures_overview/\"+str(x)) for x in os.listdir('eures_overview')]))"
   ]
  },
  {
   "cell_type": "code",
   "execution_count": null,
   "metadata": {},
   "outputs": [],
   "source": [
    "len(parsedads.drop_duplicates(\"url\"))"
   ]
  },
  {
   "cell_type": "code",
   "execution_count": null,
   "metadata": {},
   "outputs": [],
   "source": [
    "print(len(parsedads))\n",
    "parsedads = parsedads.drop_duplicates(\"url\")\n",
    "parsedads = parsedads.dropna()\n",
    "esco_jobs_parsed = flatten_list([x[\"esco_jobs\"] for x in tqdm(parsedads.to_dict(\"records\"))])"
   ]
  },
  {
   "cell_type": "code",
   "execution_count": null,
   "metadata": {},
   "outputs": [],
   "source": [
    "len(set(esco_jobs_parsed))"
   ]
  },
  {
   "cell_type": "code",
   "execution_count": null,
   "metadata": {},
   "outputs": [],
   "source": [
    "parsedads[\"no_escojobs\"] = parsedads[\"esco_jobs\"].apply(len)\n",
    "esco_jobs_parsed = flatten_list([x[\"esco_jobs\"] for x in tqdm(parsedads[parsedads[\"no_escojobs\"]==1].to_dict(\"records\"))])"
   ]
  },
  {
   "attachments": {},
   "cell_type": "markdown",
   "metadata": {},
   "source": [
    "# Output"
   ]
  },
  {
   "cell_type": "code",
   "execution_count": null,
   "metadata": {},
   "outputs": [],
   "source": [
    "import pandas as pd\n",
    "from _util import *"
   ]
  },
  {
   "cell_type": "code",
   "execution_count": null,
   "metadata": {},
   "outputs": [],
   "source": [
    "results = pd.DataFrame(load_json(\"../00_data/EURES/eures_overview_total.json\"))"
   ]
  },
  {
   "cell_type": "code",
   "execution_count": null,
   "metadata": {},
   "outputs": [],
   "source": [
    "results.head(1)"
   ]
  },
  {
   "cell_type": "code",
   "execution_count": null,
   "metadata": {},
   "outputs": [],
   "source": [
    "print(f\"A total of {len(results)} links to job advertisements were parsed.\")\n",
    "results = results.drop_duplicates([\"title\", \"url\"])\n",
    "print(f\"Without duplicates there are {len(results)} job ad links available.\")"
   ]
  },
  {
   "cell_type": "code",
   "execution_count": null,
   "metadata": {},
   "outputs": [],
   "source": []
  }
 ],
 "metadata": {
  "kernelspec": {
   "display_name": "masterarbeit",
   "language": "python",
   "name": "python3"
  },
  "language_info": {
   "codemirror_mode": {
    "name": "ipython",
    "version": 3
   },
   "file_extension": ".py",
   "mimetype": "text/x-python",
   "name": "python",
   "nbconvert_exporter": "python",
   "pygments_lexer": "ipython3",
   "version": "3.11.4"
  },
  "orig_nbformat": 4,
  "vscode": {
   "interpreter": {
    "hash": "cb0bef7a9eff8501420d8e3c6496920c898020e76359dc7d7e37d89f971fe60a"
   }
  }
 },
 "nbformat": 4,
 "nbformat_minor": 2
}
