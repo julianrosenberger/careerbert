{
 "cells": [
  {
   "cell_type": "code",
   "execution_count": 10,
   "metadata": {},
   "outputs": [],
   "source": [
    "from _util import * "
   ]
  },
  {
   "cell_type": "code",
   "execution_count": null,
   "metadata": {},
   "outputs": [],
   "source": [
    "import requests\n",
    "import pandas as pd\n",
    "import time\n",
    "from bs4 import BeautifulSoup\n",
    "import math\n",
    "import re"
   ]
  },
  {
   "cell_type": "code",
   "execution_count": 12,
   "metadata": {},
   "outputs": [],
   "source": [
    "import numpy as np\n",
    "from concurrent.futures import ThreadPoolExecutor\n",
    "import os\n",
    "from tqdm import tqdm\n",
    "from datetime import datetime\n",
    "from _helpers_parsing import driver_setup\n",
    "from _util import *"
   ]
  },
  {
   "cell_type": "code",
   "execution_count": 13,
   "metadata": {},
   "outputs": [],
   "source": [
    "from selenium.webdriver.common.by import By\n",
    "from selenium.webdriver.support.wait import WebDriverWait\n",
    "from selenium.webdriver.support import expected_conditions as EC"
   ]
  },
  {
   "cell_type": "code",
   "execution_count": null,
   "metadata": {},
   "outputs": [
    {
     "name": "stderr",
     "output_type": "stream",
     "text": [
      "<>:1: SyntaxWarning: invalid escape sequence '\\H'\n",
      "<>:1: SyntaxWarning: invalid escape sequence '\\H'\n",
      "C:\\Users\\T10387A\\AppData\\Local\\Temp\\ipykernel_18972\\413880715.py:1: SyntaxWarning: invalid escape sequence '\\H'\n",
      "  esco_jobs = json.load(open(\"../A-Parsing_ESCO_data\\Hilfsarbeitskräfte_0.json\", \"r\"))\n"
     ]
    }
   ],
   "source": [
    "esco_jobs = load_jobs()"
   ]
  },
  {
   "cell_type": "code",
   "execution_count": 15,
   "metadata": {},
   "outputs": [],
   "source": [
    "def get_eures_overview(esco_codes,driver,filename,patience):\n",
    "    codedict =[]\n",
    "    for code in tqdm(esco_codes):\n",
    "        uri = code[\"uri\"].split(\"/\")[-1]\n",
    "        driver.get(f\"https://europa.eu/eures/portal/jv-se/search?page=1&resultsPerPage=50&orderBy=MOST_RECENT&availableLanguages=de&escoOccupation={uri}&lang=de\")\n",
    "        try:\n",
    "            WebDriverWait(driver, 3).until(EC.presence_of_element_located((By.ID, \"jv-no-result\")))\n",
    "            continue\n",
    "        except:\n",
    "            pass\n",
    "        try:\n",
    "            WebDriverWait(driver, patience).until(EC.presence_of_element_located((By.CLASS_NAME, \"ecl-u-type-heading-2\")))\n",
    "            time.sleep(1)\n",
    "            soup = BeautifulSoup(driver.page_source)\n",
    "            results = (soup.find(class_ = \"ecl-u-type-heading-2\").text.split(\" \")[2])\n",
    "            results = int(\"\".join([c for c in results if c.isdigit()]))\n",
    "            #always 50 results per page, therefore /50\n",
    "            pages = math.ceil(results/50)\n",
    "            # set pages to 6 to get 6*50 --> top 300 latest results\n",
    "            if pages > 6:\n",
    "                pages = 6\n",
    "        except:\n",
    "            #print(f\"skipped {code['jobtitle']}\")\n",
    "            codedict.append({\"searched_esco_job\":code[\"jobtitle\"]})\n",
    "            continue\n",
    "        for i in (range(pages)):\n",
    "            driver.get((f\"https://europa.eu/eures/portal/jv-se/search?page={i+1}&resultsPerPage=50&orderBy=MOST_RECENT&availableLanguages=de&escoOccupation={uri}&lang=de\"))\n",
    "            try:\n",
    "                WebDriverWait(driver, patience).until(EC.presence_of_element_located((By.CLASS_NAME, \"jv-result-job-category\")))\n",
    "            except:\n",
    "                continue\n",
    "            time.sleep(1)\n",
    "            soup = BeautifulSoup(driver.page_source)\n",
    "            hits = soup.find_all(\"article\")\n",
    "            for hit in hits:\n",
    "                url = \"https://europa.eu\"+hit.find(href=True)[\"href\"]\n",
    "                title = hit.find(href=True).text\n",
    "                publication_date = hit.find(\"em\").text.replace(\" \",\"\").replace(\"/\",\".\")\n",
    "                esco_jobs= []\n",
    "                for x in (hit.find_all(\"span\",{\"class\":\"jv-result-job-category\"})):\n",
    "                    esco_jobs.append(x.text.strip(\", \"))\n",
    "                job = {\"searched_esco_job\":code[\"jobtitle\"], \"title\":title,\"url\":url,\"esco_jobs\":esco_jobs,\"publication_date\":publication_date}\n",
    "                codedict.append(job)\n",
    "        with open(filename, 'w',encoding= \"utf-8\") as fp:\n",
    "            json.dump(codedict, fp, indent = 2, ensure_ascii=False)\n",
    "    return codedict"
   ]
  },
  {
   "cell_type": "code",
   "execution_count": 16,
   "metadata": {},
   "outputs": [],
   "source": [
    "# multithreading the parsing, to speed up the process\n",
    "def multithread_eures_overview(esco_joblist, headless=True,patience=10):\n",
    "    \n",
    "    drivers = [driver_setup(headless) for _ in range(4)]\n",
    "    currently = \"\".join([c for c in str(datetime.now()).split('.')[0] if c.isdigit()])\n",
    "    filenames = [f\"eures_overview/{currently}_eres_overview_{i}.json\" for i in range(1,5)]\n",
    "    patience = [patience for _ in range(4)]\n",
    "\n",
    "    chunks = np.array_split(esco_joblist, 4)\n",
    "    with ThreadPoolExecutor(max_workers=4) as executor:  \n",
    "        bucket = executor.map(get_eures_overview,chunks,drivers,filenames,patience)\n",
    "        results = [item for block in bucket for item in block]\n",
    "    write_json(\"eures_overview_total.json\",results)\n",
    "    [driver.quit() for driver in drivers]\n",
    "    return results"
   ]
  },
  {
   "cell_type": "code",
   "execution_count": 17,
   "metadata": {},
   "outputs": [
    {
     "name": "stderr",
     "output_type": "stream",
     "text": [
      "  0%|          | 0/19 [00:00<?, ?it/s]\n",
      "\u001b[A\n",
      "\n",
      "  5%|▌         | 1/19 [00:13<04:05, 13.62s/it]\n",
      "\u001b[A\n",
      "\n",
      " 11%|█         | 2/19 [00:27<03:55, 13.83s/it]\n",
      "\u001b[A\n",
      "\n",
      " 16%|█▌        | 3/19 [00:41<03:40, 13.77s/it]\n",
      "\u001b[A\n",
      "\n",
      " 21%|██        | 4/19 [00:55<03:26, 13.78s/it]\n",
      "\u001b[A\n",
      "\n",
      " 26%|██▋       | 5/19 [01:09<03:14, 13.89s/it]\n",
      "\u001b[A\n",
      "\n",
      " 32%|███▏      | 6/19 [01:22<03:00, 13.86s/it]\n",
      "\n",
      "\u001b[A\u001b[A\n",
      " 37%|███▋      | 7/19 [01:37<02:47, 13.94s/it]\n",
      "\u001b[A\n",
      "\n",
      " 42%|████▏     | 8/19 [01:51<02:33, 13.94s/it]\n",
      "\u001b[A\n",
      "\n",
      " 47%|████▋     | 9/19 [02:04<02:17, 13.78s/it]\n",
      "\u001b[A\n",
      "\n",
      " 53%|█████▎    | 10/19 [02:18<02:04, 13.80s/it]\n",
      "\n",
      "\u001b[A\u001b[A\n",
      "\u001b[A\n",
      " 58%|█████▊    | 11/19 [02:31<01:49, 13.70s/it]\n",
      "\n",
      "\u001b[A\u001b[A\n",
      " 63%|██████▎   | 12/19 [02:45<01:36, 13.75s/it]\n",
      "\n",
      "\u001b[A\u001b[A\n",
      " 68%|██████▊   | 13/19 [02:59<01:22, 13.78s/it]\n",
      "\n",
      "\u001b[A\u001b[A\n",
      " 74%|███████▎  | 14/19 [03:13<01:08, 13.76s/it]\n",
      "\n",
      "\u001b[A\u001b[A\n",
      " 79%|███████▉  | 15/19 [03:27<00:55, 13.84s/it]\n",
      "\n",
      "\u001b[A\u001b[A\n",
      " 84%|████████▍ | 16/19 [03:40<00:41, 13.71s/it]\n",
      "\n",
      "\u001b[A\u001b[A\n",
      " 89%|████████▉ | 17/19 [03:54<00:27, 13.79s/it]\n",
      "\n",
      "\u001b[A\u001b[A\n",
      " 95%|█████████▍| 18/19 [04:08<00:13, 13.85s/it]\n",
      "\n",
      "100%|██████████| 18/18 [04:09<00:00, 13.88s/it]\n",
      "\n",
      "100%|██████████| 19/19 [04:11<00:00, 13.22s/it]\n",
      "100%|██████████| 19/19 [04:12<00:00, 13.26s/it]\n",
      "100%|██████████| 19/19 [04:22<00:00, 13.81s/it]\n"
     ]
    },
    {
     "ename": "KeyboardInterrupt",
     "evalue": "",
     "output_type": "error",
     "traceback": [
      "\u001b[31m---------------------------------------------------------------------------\u001b[39m",
      "\u001b[31mKeyboardInterrupt\u001b[39m                         Traceback (most recent call last)",
      "\u001b[36mCell\u001b[39m\u001b[36m \u001b[39m\u001b[32mIn[17]\u001b[39m\u001b[32m, line 1\u001b[39m\n\u001b[32m----> \u001b[39m\u001b[32m1\u001b[39m x = \u001b[43mmultithread_eures_overview\u001b[49m\u001b[43m(\u001b[49m\u001b[43mesco_jobs\u001b[49m\u001b[43m,\u001b[49m\u001b[43m \u001b[49m\u001b[43mheadless\u001b[49m\u001b[43m=\u001b[49m\u001b[38;5;28;43;01mFalse\u001b[39;49;00m\u001b[43m,\u001b[49m\u001b[43mpatience\u001b[49m\u001b[43m=\u001b[49m\u001b[32;43m10\u001b[39;49m\u001b[43m)\u001b[49m\n",
      "\u001b[36mCell\u001b[39m\u001b[36m \u001b[39m\u001b[32mIn[16]\u001b[39m\u001b[32m, line 12\u001b[39m, in \u001b[36mmultithread_eures_overview\u001b[39m\u001b[34m(esco_joblist, headless, patience)\u001b[39m\n\u001b[32m     10\u001b[39m \u001b[38;5;28;01mwith\u001b[39;00m ThreadPoolExecutor(max_workers=\u001b[32m4\u001b[39m) \u001b[38;5;28;01mas\u001b[39;00m executor:  \n\u001b[32m     11\u001b[39m     bucket = executor.map(get_eures_overview,chunks,drivers,filenames,patience)\n\u001b[32m---> \u001b[39m\u001b[32m12\u001b[39m     results = \u001b[43m[\u001b[49m\u001b[43mitem\u001b[49m\u001b[43m \u001b[49m\u001b[38;5;28;43;01mfor\u001b[39;49;00m\u001b[43m \u001b[49m\u001b[43mblock\u001b[49m\u001b[43m \u001b[49m\u001b[38;5;129;43;01min\u001b[39;49;00m\u001b[43m \u001b[49m\u001b[43mbucket\u001b[49m\u001b[43m \u001b[49m\u001b[38;5;28;43;01mfor\u001b[39;49;00m\u001b[43m \u001b[49m\u001b[43mitem\u001b[49m\u001b[43m \u001b[49m\u001b[38;5;129;43;01min\u001b[39;49;00m\u001b[43m \u001b[49m\u001b[43mblock\u001b[49m\u001b[43m]\u001b[49m\n\u001b[32m     13\u001b[39m write_json(\u001b[33m\"\u001b[39m\u001b[33meures_overview_total.json\u001b[39m\u001b[33m\"\u001b[39m,results)\n\u001b[32m     14\u001b[39m [driver.quit() \u001b[38;5;28;01mfor\u001b[39;00m driver \u001b[38;5;129;01min\u001b[39;00m drivers]\n",
      "\u001b[36mFile \u001b[39m\u001b[32mc:\\Users\\T10387A\\.conda\\envs\\careerbert\\Lib\\concurrent\\futures\\_base.py:619\u001b[39m, in \u001b[36mExecutor.map.<locals>.result_iterator\u001b[39m\u001b[34m()\u001b[39m\n\u001b[32m    616\u001b[39m \u001b[38;5;28;01mwhile\u001b[39;00m fs:\n\u001b[32m    617\u001b[39m     \u001b[38;5;66;03m# Careful not to keep a reference to the popped future\u001b[39;00m\n\u001b[32m    618\u001b[39m     \u001b[38;5;28;01mif\u001b[39;00m timeout \u001b[38;5;129;01mis\u001b[39;00m \u001b[38;5;28;01mNone\u001b[39;00m:\n\u001b[32m--> \u001b[39m\u001b[32m619\u001b[39m         \u001b[38;5;28;01myield\u001b[39;00m \u001b[43m_result_or_cancel\u001b[49m\u001b[43m(\u001b[49m\u001b[43mfs\u001b[49m\u001b[43m.\u001b[49m\u001b[43mpop\u001b[49m\u001b[43m(\u001b[49m\u001b[43m)\u001b[49m\u001b[43m)\u001b[49m\n\u001b[32m    620\u001b[39m     \u001b[38;5;28;01melse\u001b[39;00m:\n\u001b[32m    621\u001b[39m         \u001b[38;5;28;01myield\u001b[39;00m _result_or_cancel(fs.pop(), end_time - time.monotonic())\n",
      "\u001b[36mFile \u001b[39m\u001b[32mc:\\Users\\T10387A\\.conda\\envs\\careerbert\\Lib\\concurrent\\futures\\_base.py:317\u001b[39m, in \u001b[36m_result_or_cancel\u001b[39m\u001b[34m(***failed resolving arguments***)\u001b[39m\n\u001b[32m    315\u001b[39m \u001b[38;5;28;01mtry\u001b[39;00m:\n\u001b[32m    316\u001b[39m     \u001b[38;5;28;01mtry\u001b[39;00m:\n\u001b[32m--> \u001b[39m\u001b[32m317\u001b[39m         \u001b[38;5;28;01mreturn\u001b[39;00m \u001b[43mfut\u001b[49m\u001b[43m.\u001b[49m\u001b[43mresult\u001b[49m\u001b[43m(\u001b[49m\u001b[43mtimeout\u001b[49m\u001b[43m)\u001b[49m\n\u001b[32m    318\u001b[39m     \u001b[38;5;28;01mfinally\u001b[39;00m:\n\u001b[32m    319\u001b[39m         fut.cancel()\n",
      "\u001b[36mFile \u001b[39m\u001b[32mc:\\Users\\T10387A\\.conda\\envs\\careerbert\\Lib\\concurrent\\futures\\_base.py:451\u001b[39m, in \u001b[36mFuture.result\u001b[39m\u001b[34m(self, timeout)\u001b[39m\n\u001b[32m    448\u001b[39m \u001b[38;5;28;01melif\u001b[39;00m \u001b[38;5;28mself\u001b[39m._state == FINISHED:\n\u001b[32m    449\u001b[39m     \u001b[38;5;28;01mreturn\u001b[39;00m \u001b[38;5;28mself\u001b[39m.__get_result()\n\u001b[32m--> \u001b[39m\u001b[32m451\u001b[39m \u001b[38;5;28;43mself\u001b[39;49m\u001b[43m.\u001b[49m\u001b[43m_condition\u001b[49m\u001b[43m.\u001b[49m\u001b[43mwait\u001b[49m\u001b[43m(\u001b[49m\u001b[43mtimeout\u001b[49m\u001b[43m)\u001b[49m\n\u001b[32m    453\u001b[39m \u001b[38;5;28;01mif\u001b[39;00m \u001b[38;5;28mself\u001b[39m._state \u001b[38;5;129;01min\u001b[39;00m [CANCELLED, CANCELLED_AND_NOTIFIED]:\n\u001b[32m    454\u001b[39m     \u001b[38;5;28;01mraise\u001b[39;00m CancelledError()\n",
      "\u001b[36mFile \u001b[39m\u001b[32mc:\\Users\\T10387A\\.conda\\envs\\careerbert\\Lib\\threading.py:359\u001b[39m, in \u001b[36mCondition.wait\u001b[39m\u001b[34m(self, timeout)\u001b[39m\n\u001b[32m    357\u001b[39m \u001b[38;5;28;01mtry\u001b[39;00m:    \u001b[38;5;66;03m# restore state no matter what (e.g., KeyboardInterrupt)\u001b[39;00m\n\u001b[32m    358\u001b[39m     \u001b[38;5;28;01mif\u001b[39;00m timeout \u001b[38;5;129;01mis\u001b[39;00m \u001b[38;5;28;01mNone\u001b[39;00m:\n\u001b[32m--> \u001b[39m\u001b[32m359\u001b[39m         \u001b[43mwaiter\u001b[49m\u001b[43m.\u001b[49m\u001b[43macquire\u001b[49m\u001b[43m(\u001b[49m\u001b[43m)\u001b[49m\n\u001b[32m    360\u001b[39m         gotit = \u001b[38;5;28;01mTrue\u001b[39;00m\n\u001b[32m    361\u001b[39m     \u001b[38;5;28;01melse\u001b[39;00m:\n",
      "\u001b[31mKeyboardInterrupt\u001b[39m: "
     ]
    }
   ],
   "source": [
    "x = multithread_eures_overview(esco_jobs, headless=False,patience=10)"
   ]
  },
  {
   "cell_type": "code",
   "execution_count": 9,
   "metadata": {},
   "outputs": [
    {
     "data": {
      "text/plain": [
       "[{'searched_esco_job': 'Fahrzeugreiniger/Fahrzeugreinigerin'},\n",
       " {'searched_esco_job': 'Fensterputzer/Fensterputzerin'},\n",
       " {'searched_esco_job': 'Kanalreiniger/Kanalreinigerin'},\n",
       " {'searched_esco_job': 'Badewärter/Badewärterin'},\n",
       " {'searched_esco_job': 'Teppich- und Gardinenreiniger/Teppich- und Gardinenreinigerin'},\n",
       " {'searched_esco_job': 'Bügler/Büglerin'},\n",
       " {'searched_esco_job': 'Wäschepfleger/Wäschepflegerin'},\n",
       " {'searched_esco_job': 'Raumpfleger/Raumpflegerin'},\n",
       " {'searched_esco_job': 'Möbelreiniger/Möbelreinigerin'},\n",
       " {'searched_esco_job': 'Toiletten-Reinigungskraft'},\n",
       " {'searched_esco_job': 'Gebäudereiniger Innenreinigung/Gebäudereinigerin Innenreinigung'},\n",
       " {'searched_esco_job': 'Schienenfahrzeugreiniger/Schienenfahrzeugreinigerin'},\n",
       " {'searched_esco_job': 'Flugzeugkabinenreiniger/Flugzeugkabinenreinigerin'},\n",
       " {'searched_esco_job': 'Reinigungskraft in Privathaushalt'},\n",
       " {'searched_esco_job': 'Prospektverteiler/Prospektverteilerin'},\n",
       " {'searched_esco_job': 'Straßenhändler/Straßenhändlerin'},\n",
       " {'searched_esco_job': 'Tiefbauhelfer/Tiefbauhelferin'},\n",
       " {'searched_esco_job': 'Hochbauhelfer/Hochbauhelferin'},\n",
       " {'searched_esco_job': 'Bergbauhelfer/Bergbauhelferin'},\n",
       " {'searched_esco_job': 'Fabrikhilfsarbeiter/Fabrikhilfsarbeiterin'},\n",
       " {'searched_esco_job': 'Kalfaterer/Kalfatererin'},\n",
       " {'searched_esco_job': 'Textilverarbeiterhelfer/Textilverarbeiterhelferin'},\n",
       " {'searched_esco_job': 'Verpacker/Verpackerin'},\n",
       " {'searched_esco_job': 'Regalauffüller/Regalauffüllerin'},\n",
       " {'searched_esco_job': 'Aufseher von Hafenarbeiten/Aufseherin von Hafenarbeiten'},\n",
       " {'searched_esco_job': 'Stauer/Stauerin'},\n",
       " {'searched_esco_job': 'Lagerarbeiter/Lagerarbeiterin'},\n",
       " {'searched_esco_job': 'Versandarbeiter/Versandarbeiterin'},\n",
       " {'searched_esco_job': 'Materiallagerarbeiter/Materiallagerarbeiterin'},\n",
       " {'searched_esco_job': 'Transportarbeiter/Transportarbeiterin'},\n",
       " {'searched_esco_job': 'Gepäckabfertiger/Gepäckabfertigerin'},\n",
       " {'searched_esco_job': 'Kutscher/Kutscherin'},\n",
       " {'searched_esco_job': 'Fahrradkurier/Fahrradkurierin'},\n",
       " {'searched_esco_job': 'Küchenhilfe'},\n",
       " {'searched_esco_job': 'Küchenbediensteter/Küchenbedienstete'},\n",
       " {'searched_esco_job': 'Imbissmitarbeiter/Imbissmitarbeiterin'},\n",
       " {'searched_esco_job': 'Pizzabäcker/Pizzabäckerin'},\n",
       " {'searched_esco_job': 'Weinbaugehilfe/Weinbaugehilfin'},\n",
       " {'searched_esco_job': 'Obst- und Gemüsepflücker/Obst- und Gemüsepflückerin'},\n",
       " {'searched_esco_job': 'Pferdepfleger/Pferdepflegerin'},\n",
       " {'searched_esco_job': 'Fachkraft für Nutztierhaltung'},\n",
       " {'searched_esco_job': 'Pferdewirt/Pferdewirtin'},\n",
       " {'searched_esco_job': 'Geflügelfänger/Geflügelfängerin'},\n",
       " {'searched_esco_job': 'Hilfskraft für das Sammeln aquatischer Ressourcen'},\n",
       " {'searched_esco_job': 'Hilfskraft für Aquakulturanlagen in Gewässern'},\n",
       " {'searched_esco_job': 'Hilfskraft für die Ernte und den Fang von Wasserorganismen'},\n",
       " {'searched_esco_job': 'Waldarbeiter/Waldarbeiterin'},\n",
       " {'searched_esco_job': 'Produktionsarbeiter im Bereich Pflanzenbau/Produktionsarbeiterin im Bereich Pflanzenbau'},\n",
       " {'searched_esco_job': 'Gartenarbeiter/Gartenarbeiterin'},\n",
       " {'searched_esco_job': 'Gartenhilfsarbeiter/Gartenhilfsarbeiterin'},\n",
       " {'searched_esco_job': 'Abfallsortierer/Abfallsortiererin'},\n",
       " {'searched_esco_job': 'Recyclingarbeiter/Recyclingarbeiterin'},\n",
       " {'searched_esco_job': 'Müllmann/Müllfrau'},\n",
       " {'searched_esco_job': 'Straßenkehrer/Straßenkehrerin'},\n",
       " {'searched_esco_job': 'Gelegenheitsarbeiter/Gelegenheitsarbeiterin'},\n",
       " {'searched_esco_job': 'Kabinenwart/Kabinenwartin'},\n",
       " {'searched_esco_job': 'Platzanweiser/Platzanweiserin'},\n",
       " {'searched_esco_job': 'Hilfskraft im Freizeit- und Erholungsbereich'},\n",
       " {'searched_esco_job': 'Garderobenaufseher/Garderobenaufseherin'},\n",
       " {'searched_esco_job': 'Plakatierer/Plakatiererin'},\n",
       " {'searched_esco_job': 'Waschsalongehilfe/Waschsalongehilfin'},\n",
       " {'searched_esco_job': 'Fahrgeschäftsbediener/Fahrgeschäftsbedienerin'},\n",
       " {'searched_esco_job': 'Hotelportier/Hotelportierin'},\n",
       " {'searched_esco_job': 'Portier/Portière'},\n",
       " {'searched_esco_job': 'Automatenbetreuer/Automatenbetreuerin'},\n",
       " {'searched_esco_job': 'Zählerableser/Zählerableserin'},\n",
       " {'searched_esco_job': 'Straßenunterhaltungsarbeiter/Straßenunterhaltungsarbeiterin'},\n",
       " {'searched_esco_job': 'Verkehrszeichenaufsteller/Verkehrszeichenaufstellerin'},\n",
       " {'searched_esco_job': 'Wasserbauhelfer/Wasserbauhelferin'},\n",
       " {'searched_esco_job': 'Gleisbauerhelfer/Gleisbauerhelferin'},\n",
       " {'searched_esco_job': 'Drainagearbeiter/Drainagearbeiterin'},\n",
       " {'searched_esco_job': 'Straßenmarkierer/Straßenmarkiererin'},\n",
       " {'searched_esco_job': 'Warenkommissionierer/Warenkommissioniererin'}]"
      ]
     },
     "execution_count": 9,
     "metadata": {},
     "output_type": "execute_result"
    }
   ],
   "source": [
    "x"
   ]
  },
  {
   "cell_type": "code",
   "execution_count": null,
   "metadata": {},
   "outputs": [],
   "source": [
    "import pandas as pd"
   ]
  },
  {
   "cell_type": "code",
   "execution_count": null,
   "metadata": {},
   "outputs": [],
   "source": [
    "import os\n",
    "parsed_ads = pd.DataFrame(flatten_list([load_json(\"eures_overview/\"+str(x)) for x in os.listdir('eures_overview')]))"
   ]
  },
  {
   "cell_type": "code",
   "execution_count": null,
   "metadata": {},
   "outputs": [],
   "source": [
    "len(parsedads.drop_duplicates(\"url\"))"
   ]
  },
  {
   "cell_type": "code",
   "execution_count": null,
   "metadata": {},
   "outputs": [],
   "source": [
    "print(len(parsedads))\n",
    "parsedads = parsedads.drop_duplicates(\"url\")\n",
    "parsedads = parsedads.dropna()\n",
    "esco_jobs_parsed = flatten_list([x[\"esco_jobs\"] for x in tqdm(parsedads.to_dict(\"records\"))])"
   ]
  },
  {
   "cell_type": "code",
   "execution_count": null,
   "metadata": {},
   "outputs": [],
   "source": [
    "len(set(esco_jobs_parsed))"
   ]
  },
  {
   "cell_type": "code",
   "execution_count": null,
   "metadata": {},
   "outputs": [],
   "source": [
    "parsedads[\"no_escojobs\"] = parsedads[\"esco_jobs\"].apply(len)\n",
    "esco_jobs_parsed = flatten_list([x[\"esco_jobs\"] for x in tqdm(parsedads[parsedads[\"no_escojobs\"]==1].to_dict(\"records\"))])"
   ]
  },
  {
   "attachments": {},
   "cell_type": "markdown",
   "metadata": {},
   "source": [
    "# Output"
   ]
  },
  {
   "cell_type": "code",
   "execution_count": null,
   "metadata": {},
   "outputs": [],
   "source": [
    "import pandas as pd\n",
    "from _util import *"
   ]
  },
  {
   "cell_type": "code",
   "execution_count": null,
   "metadata": {},
   "outputs": [],
   "source": [
    "results = pd.DataFrame(load_json(\"../00_data/EURES/eures_overview_total.json\"))"
   ]
  },
  {
   "cell_type": "code",
   "execution_count": null,
   "metadata": {},
   "outputs": [],
   "source": [
    "results.head(1)"
   ]
  },
  {
   "cell_type": "code",
   "execution_count": null,
   "metadata": {},
   "outputs": [],
   "source": [
    "print(f\"A total of {len(results)} links to job advertisements were parsed.\")\n",
    "results = results.drop_duplicates([\"title\", \"url\"])\n",
    "print(f\"Without duplicates there are {len(results)} job ad links available.\")"
   ]
  },
  {
   "cell_type": "code",
   "execution_count": null,
   "metadata": {},
   "outputs": [],
   "source": []
  }
 ],
 "metadata": {
  "kernelspec": {
   "display_name": "careerbert",
   "language": "python",
   "name": "python3"
  },
  "language_info": {
   "codemirror_mode": {
    "name": "ipython",
    "version": 3
   },
   "file_extension": ".py",
   "mimetype": "text/x-python",
   "name": "python",
   "nbconvert_exporter": "python",
   "pygments_lexer": "ipython3",
   "version": "3.13.2"
  },
  "orig_nbformat": 4
 },
 "nbformat": 4,
 "nbformat_minor": 2
}
