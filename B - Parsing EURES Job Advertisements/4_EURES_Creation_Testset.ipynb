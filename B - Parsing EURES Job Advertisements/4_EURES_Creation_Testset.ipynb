{
 "cells": [
  {
   "attachments": {},
   "cell_type": "markdown",
   "metadata": {},
   "source": [
    "# Imports"
   ]
  },
  {
   "cell_type": "code",
   "execution_count": null,
   "metadata": {},
   "outputs": [],
   "source": [
    "from _util import * \n",
    "from selenium.webdriver.common.by import By\n",
    "from selenium.webdriver.support.wait import WebDriverWait\n",
    "from selenium.webdriver.support import expected_conditions as EC\n",
    "from _helpers_parsing import driver_setup\n",
    "from concurrent.futures import ThreadPoolExecutor"
   ]
  },
  {
   "cell_type": "code",
   "execution_count": null,
   "metadata": {},
   "outputs": [],
   "source": [
    "import pandas as pd\n",
    "import time\n",
    "from bs4 import BeautifulSoup\n",
    "import numpy as np\n",
    "from datetime import datetime\n",
    "import random\n",
    "from collections import Counter\n",
    "import os\n",
    "tqdm.pandas()\n",
    "random.seed(42)"
   ]
  },
  {
   "attachments": {},
   "cell_type": "markdown",
   "metadata": {},
   "source": [
    "# Functions"
   ]
  },
  {
   "cell_type": "code",
   "execution_count": null,
   "metadata": {},
   "outputs": [],
   "source": [
    "def get_jobdescription_eres(ads, driver, filename):\n",
    "    results = []\n",
    "    dead_links = []\n",
    "    #ads = [ad for ad in ads if ad[\"url\"] not in urls_parsed]\n",
    "    for ad in tqdm(ads):\n",
    "        driver.get(ad[\"url\"]+\"?jvDisplayLanguage=de&lang=de\")\n",
    "        try:\n",
    "            WebDriverWait(driver,2).until(EC.presence_of_element_located((By.ID, \"error-message-jv-detail\")))\n",
    "            dead_links.append(ad)\n",
    "            with open(filename+\"_deadlinks\", 'w',encoding= \"utf-8\") as fp:\n",
    "                json.dump(dead_links, fp, indent = 2, ensure_ascii=False)\n",
    "            continue\n",
    "        except:\n",
    "            pass\n",
    "        try:\n",
    "            WebDriverWait(driver, 8).until(EC.presence_of_element_located((By.ID, \"jv-details-job-description\")))\n",
    "            WebDriverWait(driver, 8).until(EC.presence_of_element_located((By.ID, \"jv-job-categories-codes\")))\n",
    "            time.sleep(0.5)\n",
    "            soup = BeautifulSoup(driver.page_source, \"html.parser\")\n",
    "        except:\n",
    "            continue\n",
    "\n",
    "        try:\n",
    "            jobtitle = soup.find(\"h1\").text\n",
    "        except:\n",
    "            jobtitle = None\n",
    "        try:\n",
    "            desc_content = (soup.find(id=\"jv-details-job-description\").contents)\n",
    "            description = \"\"\n",
    "            for i in range(len(desc_content)):\n",
    "                if desc_content[i].text != \"\":\n",
    "                    description += desc_content[i].text.replace(\"\\xa0\",\"\")\n",
    "                if i+1 < len(desc_content):\n",
    "                    if str(desc_content[i]) == \"<br/>\" and str(desc_content[i+1]) == \"<br/>\":\n",
    "                        description+= \" \\n \"\n",
    "        except:\n",
    "            description = None\n",
    "        # try:\n",
    "        #     reqs = soup.find(id=\"jv-details-job-requirements-section\").text\n",
    "        # except:\n",
    "        #     reqs = None\n",
    "        #try:\n",
    "        jobs_esco_container = soup.find(id=\"jv-job-categories-codes\")\n",
    "        jobs_esco_list = jobs_esco_container.find_all(class_=\"ecl-u-ml-2xs ng-star-inserted\")\n",
    "        #print(jobs_esco_list[0])\n",
    "        ESCO_JOBS = [job.text.replace(\"  -\",\"\").strip() for job in jobs_esco_list]\n",
    "        #except:\n",
    "            #ESCO_JOBS = None\n",
    "        ad.update({\"parsed_title\":jobtitle, \"ESCOJOB\":ESCO_JOBS, \"description\": description})\n",
    "        results.append(ad)\n",
    "        if len(results)%50 == 0:\n",
    "            with open(filename, 'w',encoding= \"utf-8\") as fp:\n",
    "                json.dump(results, fp, indent = 2, ensure_ascii=False)\n",
    "    with open(filename, 'w',encoding= \"utf-8\") as fp:\n",
    "        json.dump(results, fp, indent = 2, ensure_ascii=False)\n",
    "    driver.quit()\n",
    "    return results"
   ]
  },
  {
   "cell_type": "code",
   "execution_count": null,
   "metadata": {},
   "outputs": [],
   "source": [
    "def parse_multithreading_eres(df, urls_parsed, headless=True):\n",
    "    drivers = [driver_setup(headless) for _ in range(4)]\n",
    "    currently = \"\".join([c for c in str(datetime.now()).split('.')[0] if c.isdigit()])\n",
    "    filenames = [f\"00_data/03_output/eures_results/{currently}_eures_TESTADS{i}.json\" for i in range(1,5)]\n",
    "    print(\"Sorting out parsed ads.\")\n",
    "    urllist = df[~df[\"url\"].isin(urls_parsed)].to_dict(\"records\")\n",
    "    print(f\"Parsing {len(urllist)} ads.\")\n",
    "    #urllist = [x for x in tqdm(urllist) if x[\"url\"] not in set(urls_parsed)]\n",
    "    chunks = np.array_split(urllist, 4)\n",
    "    with ThreadPoolExecutor(max_workers=4) as executor:  \n",
    "        bucket = executor.map(get_jobdescription_eres, chunks, drivers, filenames)\n",
    "        results = [item for block in bucket for item in block]\n",
    "    write_json(f\"00_data/03_output/eures_results/{currently}_eures_TESTADS_total.json\",results)\n",
    "    return results"
   ]
  },
  {
   "cell_type": "code",
   "execution_count": null,
   "metadata": {},
   "outputs": [],
   "source": [
    "def choose_random_ads(df, k):\n",
    "    random_choices = []\n",
    "    ids_unique = df[\"esco_id\"].unique()\n",
    "    for id in tqdm(ids_unique):\n",
    "        filtered_df = df[df[\"esco_id\"] == id]\n",
    "        if len(filtered_df) <= k:\n",
    "            random_choices += filtered_df.to_dict(\"records\")\n",
    "        else:\n",
    "            random_choices += random.sample(filtered_df.to_dict(\"records\"), k)\n",
    "    return random_choices"
   ]
  },
  {
   "attachments": {},
   "cell_type": "markdown",
   "metadata": {},
   "source": [
    "# Main"
   ]
  },
  {
   "attachments": {},
   "cell_type": "markdown",
   "metadata": {},
   "source": [
    "# load overview"
   ]
  },
  {
   "cell_type": "code",
   "execution_count": null,
   "metadata": {},
   "outputs": [],
   "source": [
    "overview = pd.DataFrame(load_json(\"../00_data/EURES/eures_overview_total.json\"))\n",
    "print(len(overview))\n",
    "overview = overview.drop_duplicates([\"title\", \"url\"])\n",
    "print(len(overview))\n",
    "overview = overview[~overview[\"title\"].isnull()]\n",
    "print(len(overview))"
   ]
  },
  {
   "attachments": {},
   "cell_type": "markdown",
   "metadata": {},
   "source": [
    "## add esco ids"
   ]
  },
  {
   "cell_type": "code",
   "execution_count": null,
   "metadata": {},
   "outputs": [],
   "source": [
    "esco_lookup_dict = load_json(r\"../00_data/ESCO/esco_lookup.json\")"
   ]
  },
  {
   "cell_type": "code",
   "execution_count": null,
   "metadata": {},
   "outputs": [],
   "source": [
    "def extend_jobs(ad):\n",
    "    extended = []\n",
    "    for job in ad[\"esco_jobs\"]:\n",
    "        job_ext = dict(ad)\n",
    "        job_ext[\"esco_job\"] = job\n",
    "        try:\n",
    "            id = esco_lookup_dict[job.lower()]\n",
    "            job_ext[\"esco_id\"] = id\n",
    "        except:\n",
    "            job_ext[\"esco_id\"] = None\n",
    "            continue\n",
    "        if \".\" in id:\n",
    "            extended.append(job_ext)\n",
    "    return extended"
   ]
  },
  {
   "cell_type": "code",
   "execution_count": null,
   "metadata": {},
   "outputs": [],
   "source": [
    "ads_extended = pd.DataFrame(flatten_list(overview.progress_apply(extend_jobs, axis=1)))\n",
    "print(len(ads_extended))\n",
    "ads_extended = ads_extended[~ads_extended[\"esco_id\"].isnull()]\n",
    "print(len(ads_extended))"
   ]
  },
  {
   "cell_type": "code",
   "execution_count": null,
   "metadata": {},
   "outputs": [],
   "source": [
    "unique_ids_unparsed = list(ads_extended[\"esco_id\"].unique())"
   ]
  },
  {
   "attachments": {},
   "cell_type": "markdown",
   "metadata": {},
   "source": [
    "## load parsed ads"
   ]
  },
  {
   "cell_type": "code",
   "execution_count": null,
   "metadata": {},
   "outputs": [],
   "source": [
    "#exclude  already parsed ads in embedding dataset and deadlinks\n",
    "parsed_ads = pd.DataFrame(load_json(\"../00_data/EURES/0_pars_short_ads_final\"))\n",
    "deadlinks = load_json(\"../00_data/EURES/deadlinks_final.json\")"
   ]
  },
  {
   "cell_type": "code",
   "execution_count": null,
   "metadata": {},
   "outputs": [],
   "source": [
    "parsed_urls = list(parsed_ads[\"url\"].unique())"
   ]
  },
  {
   "cell_type": "code",
   "execution_count": null,
   "metadata": {},
   "outputs": [],
   "source": [
    "print(len(ads_extended))\n",
    "unparsed_ads_filtered = ads_extended[~ads_extended[\"url\"].isin(parsed_urls)]\n",
    "unparsed_ads_filtered = unparsed_ads_filtered[~unparsed_ads_filtered[\"url\"].isin(deadlinks)]\n",
    "len(unparsed_ads_filtered)"
   ]
  },
  {
   "cell_type": "code",
   "execution_count": null,
   "metadata": {},
   "outputs": [],
   "source": [
    "len(unparsed_ads_filtered[\"esco_id\"].unique())"
   ]
  },
  {
   "cell_type": "code",
   "execution_count": null,
   "metadata": {},
   "outputs": [],
   "source": [
    "unparsed_ads_filtered[\"no_esco_jobs\"] = unparsed_ads_filtered[\"esco_jobs\"].apply(len)"
   ]
  },
  {
   "attachments": {},
   "cell_type": "markdown",
   "metadata": {},
   "source": [
    "## RESULTS"
   ]
  },
  {
   "cell_type": "code",
   "execution_count": 5,
   "metadata": {},
   "outputs": [],
   "source": [
    "from _util import *\n",
    "import pandas as pd"
   ]
  },
  {
   "cell_type": "code",
   "execution_count": 6,
   "metadata": {},
   "outputs": [
    {
     "data": {
      "text/plain": [
       "2250"
      ]
     },
     "execution_count": 6,
     "metadata": {},
     "output_type": "execute_result"
    }
   ],
   "source": [
    "parsed_test_ads = pd.DataFrame(load_json(\"../00_data/EURES/eures_testads_final.json\"))\n",
    "len(parsed_test_ads)"
   ]
  }
 ],
 "metadata": {
  "kernelspec": {
   "display_name": "masterarbeit",
   "language": "python",
   "name": "python3"
  },
  "language_info": {
   "codemirror_mode": {
    "name": "ipython",
    "version": 3
   },
   "file_extension": ".py",
   "mimetype": "text/x-python",
   "name": "python",
   "nbconvert_exporter": "python",
   "pygments_lexer": "ipython3",
   "version": "3.11.4"
  },
  "orig_nbformat": 4,
  "vscode": {
   "interpreter": {
    "hash": "cb0bef7a9eff8501420d8e3c6496920c898020e76359dc7d7e37d89f971fe60a"
   }
  }
 },
 "nbformat": 4,
 "nbformat_minor": 2
}
