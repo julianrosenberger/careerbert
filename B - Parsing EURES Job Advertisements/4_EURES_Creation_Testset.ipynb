{
 "cells": [
  {
   "attachments": {},
   "cell_type": "markdown",
   "metadata": {},
   "source": [
    "# Imports"
   ]
  },
  {
   "cell_type": "code",
   "execution_count": null,
   "metadata": {},
   "outputs": [],
   "source": [
    "import sys\n",
    "sys.path.append('..') \n",
    "from _utils import load_json, flatten_list # Adjust path to import from parent directory"
   ]
  },
  {
   "cell_type": "code",
   "execution_count": null,
   "metadata": {},
   "outputs": [],
   "source": [
    "from tqdm import tqdm\n",
    "import random\n",
    "import pandas as pd"
   ]
  },
  {
   "cell_type": "code",
   "execution_count": null,
   "metadata": {},
   "outputs": [],
   "source": [
    "from _helpers_parsing import extend_jobs"
   ]
  },
  {
   "attachments": {},
   "cell_type": "markdown",
   "metadata": {},
   "source": [
    "# Functions"
   ]
  },
  {
   "cell_type": "code",
   "execution_count": null,
   "metadata": {},
   "outputs": [],
   "source": [
    "def choose_random_ads(df, k):\n",
    "    random_choices = []\n",
    "    ids_unique = df[\"esco_id\"].unique()\n",
    "    for id in tqdm(ids_unique):\n",
    "        filtered_df = df[df[\"esco_id\"] == id]\n",
    "        if len(filtered_df) <= k:\n",
    "            random_choices += filtered_df.to_dict(\"records\")\n",
    "        else:\n",
    "            random_choices += random.sample(filtered_df.to_dict(\"records\"), k)\n",
    "    return random_choices"
   ]
  },
  {
   "attachments": {},
   "cell_type": "markdown",
   "metadata": {},
   "source": [
    "# Main"
   ]
  },
  {
   "attachments": {},
   "cell_type": "markdown",
   "metadata": {},
   "source": [
    "# load overview"
   ]
  },
  {
   "cell_type": "code",
   "execution_count": null,
   "metadata": {},
   "outputs": [],
   "source": [
    "overview = pd.DataFrame(load_json(\"../00_data/EURES/eures_overview_total.json\"))\n",
    "print(len(overview))\n",
    "overview = overview.drop_duplicates([\"title\", \"url\"])\n",
    "print(len(overview))\n",
    "overview = overview[~overview[\"title\"].isnull()]\n",
    "print(len(overview))"
   ]
  },
  {
   "attachments": {},
   "cell_type": "markdown",
   "metadata": {},
   "source": [
    "## add esco ids"
   ]
  },
  {
   "cell_type": "code",
   "execution_count": null,
   "metadata": {},
   "outputs": [],
   "source": [
    "ads_extended = pd.DataFrame(flatten_list(overview.progress_apply(extend_jobs, axis=1)))\n",
    "print(len(ads_extended))\n",
    "ads_extended = ads_extended[~ads_extended[\"esco_id\"].isnull()]\n",
    "print(len(ads_extended))"
   ]
  },
  {
   "cell_type": "code",
   "execution_count": null,
   "metadata": {},
   "outputs": [],
   "source": [
    "unique_ids_unparsed = list(ads_extended[\"esco_id\"].unique())"
   ]
  },
  {
   "attachments": {},
   "cell_type": "markdown",
   "metadata": {},
   "source": [
    "## load parsed ads"
   ]
  },
  {
   "cell_type": "code",
   "execution_count": null,
   "metadata": {},
   "outputs": [],
   "source": [
    "#exclude  already parsed ads in embedding dataset and deadlinks\n",
    "parsed_ads = pd.DataFrame(load_json(\"../00_data/EURES/0_pars_short_ads_final\"))\n",
    "deadlinks = load_json(\"../00_data/EURES/deadlinks_final.json\")"
   ]
  },
  {
   "cell_type": "code",
   "execution_count": null,
   "metadata": {},
   "outputs": [],
   "source": [
    "parsed_urls = list(parsed_ads[\"url\"].unique())"
   ]
  },
  {
   "cell_type": "code",
   "execution_count": null,
   "metadata": {},
   "outputs": [],
   "source": [
    "print(len(ads_extended))\n",
    "unparsed_ads_filtered = ads_extended[~ads_extended[\"url\"].isin(parsed_urls)]\n",
    "unparsed_ads_filtered = unparsed_ads_filtered[~unparsed_ads_filtered[\"url\"].isin(deadlinks)]\n",
    "len(unparsed_ads_filtered)"
   ]
  },
  {
   "cell_type": "code",
   "execution_count": null,
   "metadata": {},
   "outputs": [],
   "source": [
    "len(unparsed_ads_filtered[\"esco_id\"].unique())"
   ]
  },
  {
   "cell_type": "code",
   "execution_count": null,
   "metadata": {},
   "outputs": [],
   "source": [
    "unparsed_ads_filtered[\"no_esco_jobs\"] = unparsed_ads_filtered[\"esco_jobs\"].apply(len)"
   ]
  },
  {
   "attachments": {},
   "cell_type": "markdown",
   "metadata": {},
   "source": [
    "## RESULTS"
   ]
  },
  {
   "cell_type": "code",
   "execution_count": null,
   "metadata": {},
   "outputs": [],
   "source": [
    "import pandas as pd"
   ]
  },
  {
   "cell_type": "code",
   "execution_count": null,
   "metadata": {},
   "outputs": [],
   "source": [
    "parsed_test_ads = pd.DataFrame(load_json(\"../00_data/EURES/eures_testads_final.json\"))\n",
    "len(parsed_test_ads)"
   ]
  }
 ],
 "metadata": {
  "kernelspec": {
   "display_name": "careerbert",
   "language": "python",
   "name": "python3"
  },
  "language_info": {
   "codemirror_mode": {
    "name": "ipython",
    "version": 3
   },
   "file_extension": ".py",
   "mimetype": "text/x-python",
   "name": "python",
   "nbconvert_exporter": "python",
   "pygments_lexer": "ipython3",
   "version": "3.13.2"
  },
  "orig_nbformat": 4
 },
 "nbformat": 4,
 "nbformat_minor": 2
}
