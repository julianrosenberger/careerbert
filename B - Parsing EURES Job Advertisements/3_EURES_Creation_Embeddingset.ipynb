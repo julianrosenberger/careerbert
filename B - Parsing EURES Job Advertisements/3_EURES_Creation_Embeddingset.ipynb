{
 "cells": [
  {
   "attachments": {},
   "cell_type": "markdown",
   "metadata": {},
   "source": [
    "# Imports"
   ]
  },
  {
   "cell_type": "code",
   "execution_count": 1,
   "metadata": {},
   "outputs": [],
   "source": [
    "from _util import * \n",
    "from selenium.webdriver.common.by import By\n",
    "from selenium.webdriver.support.wait import WebDriverWait\n",
    "from selenium.webdriver.support import expected_conditions as EC\n",
    "from _helpers_parsing import driver_setup\n",
    "from concurrent.futures import ThreadPoolExecutor"
   ]
  },
  {
   "cell_type": "code",
   "execution_count": 2,
   "metadata": {},
   "outputs": [],
   "source": [
    "import pandas as pd\n",
    "import time\n",
    "from bs4 import BeautifulSoup\n",
    "import numpy as np\n",
    "from datetime import datetime\n",
    "import random\n",
    "from collections import Counter\n",
    "import os\n",
    "from tqdm import tqdm\n",
    "tqdm.pandas()\n",
    "random.seed(42)"
   ]
  },
  {
   "attachments": {},
   "cell_type": "markdown",
   "metadata": {},
   "source": [
    "# Functions"
   ]
  },
  {
   "cell_type": "code",
   "execution_count": 3,
   "metadata": {},
   "outputs": [],
   "source": [
    "def get_jobdescription_eures(ads, driver, filename):\n",
    "    results = []\n",
    "    dead_links = []\n",
    "    #ads = [ad for ad in ads if ad[\"url\"] not in urls_parsed]\n",
    "    for ad in tqdm(ads):\n",
    "        driver.get(ad[\"url\"]+\"?jvDisplayLanguage=de&lang=de\")\n",
    "        try:\n",
    "            #if error message available, cancel parsing and add the link to the dead link list\n",
    "            WebDriverWait(driver,3).until(EC.presence_of_element_located((By.ID, \"error-message-jv-detail\")))\n",
    "            dead_links.append(ad)\n",
    "            with open(filename+\"_deadlinks\", 'w',encoding= \"utf-8\") as fp:\n",
    "                json.dump(dead_links, fp, indent = 2, ensure_ascii=False)\n",
    "            continue\n",
    "        except:\n",
    "            pass\n",
    "        try:\n",
    "            WebDriverWait(driver, 8).until(EC.presence_of_element_located((By.ID, \"jv-details-job-description\")))\n",
    "            WebDriverWait(driver, 8).until(EC.presence_of_element_located((By.ID, \"jv-job-categories-codes\")))\n",
    "            time.sleep(0.5)\n",
    "            soup = BeautifulSoup(driver.page_source, \"html.parser\")\n",
    "        except:\n",
    "            continue\n",
    "\n",
    "        try:\n",
    "            jobtitle = soup.find(\"h1\").text\n",
    "        except:\n",
    "            jobtitle = None\n",
    "        try:\n",
    "            desc_content = (soup.find(id=\"jv-details-job-description\").contents)\n",
    "            description = \"\"\n",
    "            for i in range(len(desc_content)):\n",
    "                if desc_content[i].text != \"\":\n",
    "                    description += desc_content[i].text.replace(\"\\xa0\",\"\")\n",
    "                if i+1 < len(desc_content):\n",
    "                    if str(desc_content[i]) == \"<br/>\" and str(desc_content[i+1]) == \"<br/>\":\n",
    "                        description+= \" \\n \"\n",
    "        except:\n",
    "            description = None\n",
    "        # try:\n",
    "        #     reqs = soup.find(id=\"jv-details-job-requirements-section\").text\n",
    "        # except:\n",
    "        #     reqs = None\n",
    "        #try:\n",
    "        jobs_esco_container = soup.find(id=\"jv-job-categories-codes\")\n",
    "        jobs_esco_list = jobs_esco_container.find_all(class_=\"ecl-u-ml-2xs ng-star-inserted\")\n",
    "        #print(jobs_esco_list[0])\n",
    "        ESCO_JOBS = [job.text.replace(\"  -\",\"\").strip() for job in jobs_esco_list]\n",
    "        #except:\n",
    "            #ESCO_JOBS = None\n",
    "        ad.update({\"parsed_title\":jobtitle, \"ESCOJOB\":ESCO_JOBS, \"description\": description})\n",
    "        results.append(ad)\n",
    "        if len(results)%50 == 0:\n",
    "            with open(filename, 'w',encoding= \"utf-8\") as fp:\n",
    "                json.dump(results, fp, indent = 2, ensure_ascii=False)\n",
    "    with open(filename, 'w',encoding= \"utf-8\") as fp:\n",
    "        json.dump(results, fp, indent = 2, ensure_ascii=False)\n",
    "    driver.quit()\n",
    "    return results"
   ]
  },
  {
   "cell_type": "code",
   "execution_count": 4,
   "metadata": {},
   "outputs": [],
   "source": [
    "def parse_multithreading_eures(df, urls_parsed, headless=True):\n",
    "    drivers = [driver_setup(headless) for _ in range(4)]\n",
    "    currently = \"\".join([c for c in str(datetime.now()).split('.')[0] if c.isdigit()])\n",
    "    filenames = [f\"../00_data/EURES/{currently}_eres_ads_{i}.json\" for i in range(1,5)]\n",
    "    print(\"Sorting out parsed ads.\")\n",
    "    urllist = df[~df[\"url\"].isin(urls_parsed)].to_dict(\"records\")\n",
    "    print(f\"Parsing {len(urllist)} ads.\")\n",
    "    #urllist = [x for x in tqdm(urllist) if x[\"url\"] not in set(urls_parsed)]\n",
    "    chunks = np.array_split(urllist, 4)\n",
    "    with ThreadPoolExecutor(max_workers=4) as executor:  \n",
    "        bucket = executor.map(get_jobdescription_eures, chunks, drivers, filenames)\n",
    "        results = [item for block in bucket for item in block]\n",
    "    write_json(f\"00_data/03_output/eures_results/{currently}_eres_ads_total.json\",results)\n",
    "    return results"
   ]
  },
  {
   "cell_type": "code",
   "execution_count": 5,
   "metadata": {},
   "outputs": [],
   "source": [
    "# def choose_random_ads(df, k):\n",
    "#     random_choices = []\n",
    "#     ids_unique = df[\"esco_id\"].unique()\n",
    "#     for id in tqdm(ids_unique):\n",
    "#         filtered_df = df[df[\"esco_id\"] == id]\n",
    "#         if len(filtered_df) <= k:\n",
    "#             random_choices += filtered_df.to_dict(\"records\")\n",
    "#         else:\n",
    "#             random_choices += random.sample(filtered_df.to_dict(\"records\"), k)\n",
    "#     return random_choices"
   ]
  },
  {
   "attachments": {},
   "cell_type": "markdown",
   "metadata": {},
   "source": [
    "# Main"
   ]
  },
  {
   "attachments": {},
   "cell_type": "markdown",
   "metadata": {},
   "source": [
    "# load overview"
   ]
  },
  {
   "cell_type": "code",
   "execution_count": 6,
   "metadata": {},
   "outputs": [],
   "source": [
    "import pandas as pd"
   ]
  },
  {
   "cell_type": "code",
   "execution_count": 7,
   "metadata": {},
   "outputs": [
    {
     "name": "stdout",
     "output_type": "stream",
     "text": [
      "212883\n",
      "161179\n",
      "161178\n"
     ]
    },
    {
     "data": {
      "text/html": [
       "<div>\n",
       "<style scoped>\n",
       "    .dataframe tbody tr th:only-of-type {\n",
       "        vertical-align: middle;\n",
       "    }\n",
       "\n",
       "    .dataframe tbody tr th {\n",
       "        vertical-align: top;\n",
       "    }\n",
       "\n",
       "    .dataframe thead th {\n",
       "        text-align: right;\n",
       "    }\n",
       "</style>\n",
       "<table border=\"1\" class=\"dataframe\">\n",
       "  <thead>\n",
       "    <tr style=\"text-align: right;\">\n",
       "      <th></th>\n",
       "      <th>searched_esco_job</th>\n",
       "      <th>title</th>\n",
       "      <th>url</th>\n",
       "      <th>esco_jobs</th>\n",
       "      <th>publication_date</th>\n",
       "    </tr>\n",
       "  </thead>\n",
       "  <tbody>\n",
       "    <tr>\n",
       "      <th>0</th>\n",
       "      <td>Wasserqualitätsanalytiker/Wasserqualitätsanaly...</td>\n",
       "      <td>Sachbearbeiter landwirtschaftlicher Gewässers...</td>\n",
       "      <td>https://ec.europa.eu/eures/portal/jv-se/jv-det...</td>\n",
       "      <td>[Wasserqualitätsanalytiker/Wasserqualitätsanal...</td>\n",
       "      <td>24.03.2023</td>\n",
       "    </tr>\n",
       "    <tr>\n",
       "      <th>1</th>\n",
       "      <td>Wasserqualitätsanalytiker/Wasserqualitätsanaly...</td>\n",
       "      <td>Sachbearbeiter landwirtschaftlicher Gewässers...</td>\n",
       "      <td>https://ec.europa.eu/eures/portal/jv-se/jv-det...</td>\n",
       "      <td>[Wasserqualitätsanalytiker/Wasserqualitätsanal...</td>\n",
       "      <td>22.03.2023</td>\n",
       "    </tr>\n",
       "  </tbody>\n",
       "</table>\n",
       "</div>"
      ],
      "text/plain": [
       "                                   searched_esco_job  \\\n",
       "0  Wasserqualitätsanalytiker/Wasserqualitätsanaly...   \n",
       "1  Wasserqualitätsanalytiker/Wasserqualitätsanaly...   \n",
       "\n",
       "                                               title  \\\n",
       "0   Sachbearbeiter landwirtschaftlicher Gewässers...   \n",
       "1   Sachbearbeiter landwirtschaftlicher Gewässers...   \n",
       "\n",
       "                                                 url  \\\n",
       "0  https://ec.europa.eu/eures/portal/jv-se/jv-det...   \n",
       "1  https://ec.europa.eu/eures/portal/jv-se/jv-det...   \n",
       "\n",
       "                                           esco_jobs publication_date  \n",
       "0  [Wasserqualitätsanalytiker/Wasserqualitätsanal...       24.03.2023  \n",
       "1  [Wasserqualitätsanalytiker/Wasserqualitätsanal...       22.03.2023  "
      ]
     },
     "execution_count": 7,
     "metadata": {},
     "output_type": "execute_result"
    }
   ],
   "source": [
    "overview = pd.DataFrame(load_json(\"../00_data/EURES/eures_overview_total.json\"))\n",
    "print(len(overview))\n",
    "overview = overview.drop_duplicates([\"title\", \"url\"])\n",
    "print(len(overview))\n",
    "overview = overview[~overview[\"title\"].isnull()]\n",
    "print(len(overview))\n",
    "overview.head(2)"
   ]
  },
  {
   "attachments": {},
   "cell_type": "markdown",
   "metadata": {},
   "source": [
    "## add esco ids"
   ]
  },
  {
   "cell_type": "code",
   "execution_count": 8,
   "metadata": {},
   "outputs": [],
   "source": [
    "esco_lookup_dict = load_json(\"../00_data/ESCO/esco_lookup.json\")"
   ]
  },
  {
   "cell_type": "code",
   "execution_count": 9,
   "metadata": {},
   "outputs": [],
   "source": [
    "# if a job advertisement has multiple esco jobs annotated --> extend to multiple rows\n",
    "# makes the data set larger with unique ads in [text & esco id]\n",
    "def extend_jobs(ad):\n",
    "    extended = []\n",
    "    for job in ad[\"esco_jobs\"]:\n",
    "        job_ext = dict(ad)\n",
    "        job_ext[\"esco_job\"] = job\n",
    "        try:\n",
    "            id = esco_lookup_dict[job.lower()]\n",
    "            job_ext[\"esco_id\"] = id\n",
    "        except:\n",
    "            job_ext[\"esco_id\"] = None\n",
    "            continue\n",
    "        if \".\" in id:\n",
    "            extended.append(job_ext)\n",
    "    return extended"
   ]
  },
  {
   "cell_type": "code",
   "execution_count": 10,
   "metadata": {},
   "outputs": [
    {
     "name": "stderr",
     "output_type": "stream",
     "text": [
      "  0%|          | 0/161178 [00:00<?, ?it/s]"
     ]
    },
    {
     "name": "stderr",
     "output_type": "stream",
     "text": [
      "100%|██████████| 161178/161178 [00:11<00:00, 14051.75it/s]\n"
     ]
    },
    {
     "name": "stdout",
     "output_type": "stream",
     "text": [
      "266177\n",
      "266177\n"
     ]
    }
   ],
   "source": [
    "# Dataset is extended to full lenght\n",
    "ads_extended = pd.DataFrame(flatten_list(overview.progress_apply(extend_jobs, axis=1)))\n",
    "print(len(ads_extended))\n",
    "ads_extended = ads_extended[~ads_extended[\"esco_id\"].isnull()]\n",
    "print(len(ads_extended))"
   ]
  },
  {
   "cell_type": "code",
   "execution_count": 11,
   "metadata": {},
   "outputs": [
    {
     "data": {
      "text/plain": [
       "1703"
      ]
     },
     "execution_count": 11,
     "metadata": {},
     "output_type": "execute_result"
    }
   ],
   "source": [
    "unique_ids_unparsed = list(ads_extended[\"esco_id\"].unique())\n",
    "len(unique_ids_unparsed)"
   ]
  },
  {
   "attachments": {},
   "cell_type": "markdown",
   "metadata": {},
   "source": [
    "## load parsed ads"
   ]
  },
  {
   "cell_type": "code",
   "execution_count": 12,
   "metadata": {},
   "outputs": [
    {
     "data": {
      "text/plain": [
       "86124"
      ]
     },
     "execution_count": 12,
     "metadata": {},
     "output_type": "execute_result"
    }
   ],
   "source": [
    "parsed_jobads = pd.DataFrame(load_json(\"../00_data/EURES/parsed_ads_final.json\"))\n",
    "len(parsed_jobads)\n",
    "desc_lookup = parsed_jobads[[\"url\",\"description\"]].drop_duplicates([\"url\", \"description\"])\n",
    "len(desc_lookup)"
   ]
  },
  {
   "cell_type": "code",
   "execution_count": 13,
   "metadata": {},
   "outputs": [
    {
     "data": {
      "text/html": [
       "<div>\n",
       "<style scoped>\n",
       "    .dataframe tbody tr th:only-of-type {\n",
       "        vertical-align: middle;\n",
       "    }\n",
       "\n",
       "    .dataframe tbody tr th {\n",
       "        vertical-align: top;\n",
       "    }\n",
       "\n",
       "    .dataframe thead th {\n",
       "        text-align: right;\n",
       "    }\n",
       "</style>\n",
       "<table border=\"1\" class=\"dataframe\">\n",
       "  <thead>\n",
       "    <tr style=\"text-align: right;\">\n",
       "      <th></th>\n",
       "      <th>searched_esco_job</th>\n",
       "      <th>title</th>\n",
       "      <th>url</th>\n",
       "      <th>esco_jobs</th>\n",
       "      <th>publication_date</th>\n",
       "      <th>esco_job</th>\n",
       "      <th>esco_id</th>\n",
       "      <th>description</th>\n",
       "      <th>has_alpha</th>\n",
       "      <th>length</th>\n",
       "      <th>count</th>\n",
       "    </tr>\n",
       "  </thead>\n",
       "  <tbody>\n",
       "    <tr>\n",
       "      <th>0</th>\n",
       "      <td>Wasserqualitätsanalytiker/Wasserqualitätsanaly...</td>\n",
       "      <td>Sachbearbeiter landwirtschaftlicher Gewässers...</td>\n",
       "      <td>https://ec.europa.eu/eures/portal/jv-se/jv-det...</td>\n",
       "      <td>[Wasserqualitätsanalytiker/Wasserqualitätsanal...</td>\n",
       "      <td>24.03.2023</td>\n",
       "      <td>Wasserqualitätsanalytiker/Wasserqualitätsanaly...</td>\n",
       "      <td>2133.12</td>\n",
       "      <td>Stellenangebotsbeschreibung: Im Landkreis Spre...</td>\n",
       "      <td>True</td>\n",
       "      <td>752.0</td>\n",
       "      <td>2</td>\n",
       "    </tr>\n",
       "    <tr>\n",
       "      <th>1</th>\n",
       "      <td>Wasserqualitätsanalytiker/Wasserqualitätsanaly...</td>\n",
       "      <td>Sachbearbeiter landwirtschaftlicher Gewässers...</td>\n",
       "      <td>https://ec.europa.eu/eures/portal/jv-se/jv-det...</td>\n",
       "      <td>[Wasserqualitätsanalytiker/Wasserqualitätsanal...</td>\n",
       "      <td>22.03.2023</td>\n",
       "      <td>Wasserqualitätsanalytiker/Wasserqualitätsanaly...</td>\n",
       "      <td>2133.12</td>\n",
       "      <td>Stellenangebotsbeschreibung: Im Landkreis Spre...</td>\n",
       "      <td>True</td>\n",
       "      <td>752.0</td>\n",
       "      <td>2</td>\n",
       "    </tr>\n",
       "    <tr>\n",
       "      <th>2</th>\n",
       "      <td>Wasserqualitätsanalytiker/Wasserqualitätsanaly...</td>\n",
       "      <td>Sachbearbeiter landwirtschaftlicher Gewässers...</td>\n",
       "      <td>https://ec.europa.eu/eures/portal/jv-se/jv-det...</td>\n",
       "      <td>[Wasserqualitätsanalytiker/Wasserqualitätsanal...</td>\n",
       "      <td>24.03.2023</td>\n",
       "      <td>Büroassistent/Büroassistentin</td>\n",
       "      <td>4110.1</td>\n",
       "      <td>Stellenangebotsbeschreibung: Im Landkreis Spre...</td>\n",
       "      <td>True</td>\n",
       "      <td>752.0</td>\n",
       "      <td>935</td>\n",
       "    </tr>\n",
       "    <tr>\n",
       "      <th>3</th>\n",
       "      <td>Wasserqualitätsanalytiker/Wasserqualitätsanaly...</td>\n",
       "      <td>Sachbearbeiter landwirtschaftlicher Gewässers...</td>\n",
       "      <td>https://ec.europa.eu/eures/portal/jv-se/jv-det...</td>\n",
       "      <td>[Wasserqualitätsanalytiker/Wasserqualitätsanal...</td>\n",
       "      <td>22.03.2023</td>\n",
       "      <td>Büroassistent/Büroassistentin</td>\n",
       "      <td>4110.1</td>\n",
       "      <td>Stellenangebotsbeschreibung: Im Landkreis Spre...</td>\n",
       "      <td>True</td>\n",
       "      <td>752.0</td>\n",
       "      <td>935</td>\n",
       "    </tr>\n",
       "    <tr>\n",
       "      <th>4</th>\n",
       "      <td>Chemieingenieur/Chemieingenieurin</td>\n",
       "      <td>Sachbearbeitung Grundwasser (Ingenieure/Ingen...</td>\n",
       "      <td>https://ec.europa.eu/eures/portal/jv-se/jv-det...</td>\n",
       "      <td>[Büroassistent/Büroassistentin, Bauingenieur/B...</td>\n",
       "      <td>24.03.2023</td>\n",
       "      <td>Büroassistent/Büroassistentin</td>\n",
       "      <td>4110.1</td>\n",
       "      <td>Stellenangebotsbeschreibung: Sachbearbeitung G...</td>\n",
       "      <td>True</td>\n",
       "      <td>6031.0</td>\n",
       "      <td>935</td>\n",
       "    </tr>\n",
       "  </tbody>\n",
       "</table>\n",
       "</div>"
      ],
      "text/plain": [
       "                                   searched_esco_job  \\\n",
       "0  Wasserqualitätsanalytiker/Wasserqualitätsanaly...   \n",
       "1  Wasserqualitätsanalytiker/Wasserqualitätsanaly...   \n",
       "2  Wasserqualitätsanalytiker/Wasserqualitätsanaly...   \n",
       "3  Wasserqualitätsanalytiker/Wasserqualitätsanaly...   \n",
       "4                  Chemieingenieur/Chemieingenieurin   \n",
       "\n",
       "                                               title  \\\n",
       "0   Sachbearbeiter landwirtschaftlicher Gewässers...   \n",
       "1   Sachbearbeiter landwirtschaftlicher Gewässers...   \n",
       "2   Sachbearbeiter landwirtschaftlicher Gewässers...   \n",
       "3   Sachbearbeiter landwirtschaftlicher Gewässers...   \n",
       "4   Sachbearbeitung Grundwasser (Ingenieure/Ingen...   \n",
       "\n",
       "                                                 url  \\\n",
       "0  https://ec.europa.eu/eures/portal/jv-se/jv-det...   \n",
       "1  https://ec.europa.eu/eures/portal/jv-se/jv-det...   \n",
       "2  https://ec.europa.eu/eures/portal/jv-se/jv-det...   \n",
       "3  https://ec.europa.eu/eures/portal/jv-se/jv-det...   \n",
       "4  https://ec.europa.eu/eures/portal/jv-se/jv-det...   \n",
       "\n",
       "                                           esco_jobs publication_date  \\\n",
       "0  [Wasserqualitätsanalytiker/Wasserqualitätsanal...       24.03.2023   \n",
       "1  [Wasserqualitätsanalytiker/Wasserqualitätsanal...       22.03.2023   \n",
       "2  [Wasserqualitätsanalytiker/Wasserqualitätsanal...       24.03.2023   \n",
       "3  [Wasserqualitätsanalytiker/Wasserqualitätsanal...       22.03.2023   \n",
       "4  [Büroassistent/Büroassistentin, Bauingenieur/B...       24.03.2023   \n",
       "\n",
       "                                            esco_job  esco_id  \\\n",
       "0  Wasserqualitätsanalytiker/Wasserqualitätsanaly...  2133.12   \n",
       "1  Wasserqualitätsanalytiker/Wasserqualitätsanaly...  2133.12   \n",
       "2                      Büroassistent/Büroassistentin   4110.1   \n",
       "3                      Büroassistent/Büroassistentin   4110.1   \n",
       "4                      Büroassistent/Büroassistentin   4110.1   \n",
       "\n",
       "                                         description  has_alpha  length  count  \n",
       "0  Stellenangebotsbeschreibung: Im Landkreis Spre...       True   752.0      2  \n",
       "1  Stellenangebotsbeschreibung: Im Landkreis Spre...       True   752.0      2  \n",
       "2  Stellenangebotsbeschreibung: Im Landkreis Spre...       True   752.0    935  \n",
       "3  Stellenangebotsbeschreibung: Im Landkreis Spre...       True   752.0    935  \n",
       "4  Stellenangebotsbeschreibung: Sachbearbeitung G...       True  6031.0    935  "
      ]
     },
     "execution_count": 13,
     "metadata": {},
     "output_type": "execute_result"
    }
   ],
   "source": [
    "parsed_jobads.head()"
   ]
  },
  {
   "attachments": {},
   "cell_type": "markdown",
   "metadata": {},
   "source": [
    "#### quality check of descriptions"
   ]
  },
  {
   "cell_type": "code",
   "execution_count": 14,
   "metadata": {},
   "outputs": [],
   "source": [
    "def alphabetic_char(description):\n",
    "    for c in description:\n",
    "        if c.isalpha():\n",
    "            return True\n",
    "    return False"
   ]
  },
  {
   "cell_type": "code",
   "execution_count": 15,
   "metadata": {},
   "outputs": [
    {
     "data": {
      "text/plain": [
       "'Stellenangebotsbeschreibung: bedienen von gästen und empfelungen miteilen'"
      ]
     },
     "execution_count": 15,
     "metadata": {},
     "output_type": "execute_result"
    }
   ],
   "source": [
    "desc_lookup[\"has_alpha\"] = desc_lookup[\"description\"].apply(alphabetic_char)\n",
    "desc_lookup[\"length\"] = desc_lookup[\"description\"].apply(len)\n",
    "desc_lookup.sort_values(by=\"length\").iloc[5][\"description\"]"
   ]
  },
  {
   "attachments": {},
   "cell_type": "markdown",
   "metadata": {},
   "source": [
    "#### merging overview with already parsed ads"
   ]
  },
  {
   "cell_type": "code",
   "execution_count": 16,
   "metadata": {},
   "outputs": [
    {
     "name": "stdout",
     "output_type": "stream",
     "text": [
      "266252\n",
      "152069\n",
      "152069\n",
      "(1700)\n"
     ]
    }
   ],
   "source": [
    "parsed_jobads = pd.merge(ads_extended,desc_lookup, on=\"url\",how=\"left\")\n",
    "print(len(parsed_jobads))\n",
    "# parsing errors in some descriptions\n",
    "parsed_jobads = parsed_jobads[~parsed_jobads[\"description\"].isna()]\n",
    "print(len(parsed_jobads))\n",
    "parsed_jobads = parsed_jobads[~parsed_jobads[\"esco_id\"].isna()]\n",
    "print(len(parsed_jobads))\n",
    "unique_ids_parsed = list(parsed_jobads[\"esco_id\"].unique())\n",
    "print(f\"({len(unique_ids_parsed)})\")"
   ]
  },
  {
   "cell_type": "code",
   "execution_count": 17,
   "metadata": {},
   "outputs": [
    {
     "name": "stdout",
     "output_type": "stream",
     "text": [
      "1703/1700\n"
     ]
    },
    {
     "data": {
      "text/html": [
       "<div>\n",
       "<style scoped>\n",
       "    .dataframe tbody tr th:only-of-type {\n",
       "        vertical-align: middle;\n",
       "    }\n",
       "\n",
       "    .dataframe tbody tr th {\n",
       "        vertical-align: top;\n",
       "    }\n",
       "\n",
       "    .dataframe thead th {\n",
       "        text-align: right;\n",
       "    }\n",
       "</style>\n",
       "<table border=\"1\" class=\"dataframe\">\n",
       "  <thead>\n",
       "    <tr style=\"text-align: right;\">\n",
       "      <th></th>\n",
       "      <th>esco_id</th>\n",
       "      <th>count</th>\n",
       "      <th>need</th>\n",
       "    </tr>\n",
       "  </thead>\n",
       "  <tbody>\n",
       "    <tr>\n",
       "      <th>0</th>\n",
       "      <td>3141.2.4</td>\n",
       "      <td>0</td>\n",
       "      <td>100</td>\n",
       "    </tr>\n",
       "    <tr>\n",
       "      <th>1</th>\n",
       "      <td>1411.2</td>\n",
       "      <td>0</td>\n",
       "      <td>100</td>\n",
       "    </tr>\n",
       "    <tr>\n",
       "      <th>2</th>\n",
       "      <td>7223.17</td>\n",
       "      <td>0</td>\n",
       "      <td>100</td>\n",
       "    </tr>\n",
       "  </tbody>\n",
       "</table>\n",
       "</div>"
      ],
      "text/plain": [
       "    esco_id  count  need\n",
       "0  3141.2.4      0   100\n",
       "1    1411.2      0   100\n",
       "2   7223.17      0   100"
      ]
     },
     "execution_count": 17,
     "metadata": {},
     "output_type": "execute_result"
    }
   ],
   "source": [
    "# check whether there are still job ads from esco jobs in the overview, which are missing in the final\n",
    "# dataset \n",
    "if len(unique_ids_unparsed) != len(unique_ids_parsed):\n",
    "    print(f\"{len(unique_ids_unparsed)}/{len(unique_ids_parsed)}\")\n",
    "    set_missing_ids = set(unique_ids_unparsed)-set(unique_ids_parsed)\n",
    "    missing_ids = []\n",
    "    for id in set_missing_ids:\n",
    "        missing_ids.append({\"esco_id\":id, \"count\":0, \"need\":100})\n",
    "    missing_ids =pd.DataFrame(missing_ids)\n",
    "missing_ids"
   ]
  },
  {
   "cell_type": "code",
   "execution_count": 18,
   "metadata": {},
   "outputs": [],
   "source": [
    "# count numbers of esco_ids, merge on overview\n",
    "counts = pd.DataFrame(parsed_jobads[\"esco_id\"].value_counts()).reset_index()\n",
    "counts.columns = [\"esco_id\",\"count\"]\n",
    "parsed_jobads = pd.merge(parsed_jobads, counts, on=\"esco_id\")"
   ]
  },
  {
   "attachments": {},
   "cell_type": "markdown",
   "metadata": {},
   "source": [
    "####  create overview over jobads which are needed"
   ]
  },
  {
   "cell_type": "code",
   "execution_count": 19,
   "metadata": {},
   "outputs": [
    {
     "name": "stdout",
     "output_type": "stream",
     "text": [
      "1015\n",
      "1018\n"
     ]
    }
   ],
   "source": [
    "in_need = counts[counts[\"count\"]<100].copy()\n",
    "in_need[\"need\"] = 100-in_need[\"count\"]\n",
    "print(len(in_need))\n",
    "in_need = pd.concat([in_need, missing_ids])\n",
    "print(len(in_need))"
   ]
  },
  {
   "cell_type": "code",
   "execution_count": 21,
   "metadata": {},
   "outputs": [
    {
     "data": {
      "text/plain": [
       "1642"
      ]
     },
     "execution_count": 21,
     "metadata": {},
     "output_type": "execute_result"
    }
   ],
   "source": [
    "# create set of urls, which have already been parsed\n",
    "parsed_urls = (set(parsed_jobads[\"url\"]))\n",
    "deadlinks = set(load_json(\"../00_data/EURES/deadlinks_final.json\"))\n",
    "len(deadlinks)"
   ]
  },
  {
   "attachments": {},
   "cell_type": "markdown",
   "metadata": {},
   "source": [
    "#### filter overview to unparsed urls"
   ]
  },
  {
   "cell_type": "code",
   "execution_count": 22,
   "metadata": {},
   "outputs": [
    {
     "name": "stdout",
     "output_type": "stream",
     "text": [
      "266177\n",
      "114183\n",
      "111610\n"
     ]
    }
   ],
   "source": [
    "# from the unparsed overview, filter out parsed urls and dead urls\n",
    "print(len(ads_extended))\n",
    "unparsed_url_df = ads_extended[~ads_extended[\"url\"].isin(parsed_urls)]\n",
    "print(len(unparsed_url_df))\n",
    "unparsed_url_df = unparsed_url_df[~unparsed_url_df[\"url\"].isin(deadlinks)]\n",
    "print(len(unparsed_url_df))"
   ]
  },
  {
   "attachments": {},
   "cell_type": "markdown",
   "metadata": {},
   "source": [
    "#### create df of urls to parse to fill needs"
   ]
  },
  {
   "cell_type": "code",
   "execution_count": 23,
   "metadata": {},
   "outputs": [
    {
     "name": "stderr",
     "output_type": "stream",
     "text": [
      "100%|██████████| 1018/1018 [00:13<00:00, 73.55it/s]\n"
     ]
    }
   ],
   "source": [
    "# for every esco_id in need, filter the unparsed_url_df and\n",
    "# if possible, get as many urls as needed\n",
    "jobads_to_parse = []\n",
    "for need in tqdm(in_need.to_dict(\"records\")):\n",
    "    filtered_need = unparsed_url_df[unparsed_url_df[\"esco_id\"]==need[\"esco_id\"]].iloc[0:need[\"need\"]].to_dict(\"records\")\n",
    "    if len(filtered_need) > 0:\n",
    "        jobads_to_parse += filtered_need"
   ]
  },
  {
   "cell_type": "code",
   "execution_count": null,
   "metadata": {},
   "outputs": [],
   "source": [
    "to_parse_df = pd.DataFrame(jobads_to_parse)\n",
    "to_parse_df"
   ]
  },
  {
   "cell_type": "code",
   "execution_count": null,
   "metadata": {},
   "outputs": [],
   "source": [
    "#results = parse_multithreading_eres(random_choices_list,list(parsed_ads[\"url\"]), headless=False)\n",
    "results = parse_multithreading_eres(to_parse_df,[], headless=False)"
   ]
  },
  {
   "attachments": {},
   "cell_type": "markdown",
   "metadata": {},
   "source": [
    "# Results "
   ]
  },
  {
   "cell_type": "code",
   "execution_count": 27,
   "metadata": {},
   "outputs": [
    {
     "data": {
      "text/plain": [
       "152071"
      ]
     },
     "execution_count": 27,
     "metadata": {},
     "output_type": "execute_result"
    }
   ],
   "source": [
    "parsed_ads = (load_json(\"../00_data/EURES/parsed_ads_final.json\"))\n",
    "len(parsed_ads)"
   ]
  }
 ],
 "metadata": {
  "kernelspec": {
   "display_name": "masterarbeit",
   "language": "python",
   "name": "python3"
  },
  "language_info": {
   "codemirror_mode": {
    "name": "ipython",
    "version": 3
   },
   "file_extension": ".py",
   "mimetype": "text/x-python",
   "name": "python",
   "nbconvert_exporter": "python",
   "pygments_lexer": "ipython3",
   "version": "3.11.4"
  },
  "orig_nbformat": 4,
  "vscode": {
   "interpreter": {
    "hash": "cb0bef7a9eff8501420d8e3c6496920c898020e76359dc7d7e37d89f971fe60a"
   }
  }
 },
 "nbformat": 4,
 "nbformat_minor": 2
}
