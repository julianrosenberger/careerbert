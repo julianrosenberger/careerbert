{
 "cells": [
  {
   "cell_type": "code",
   "execution_count": 8,
   "metadata": {},
   "outputs": [],
   "source": [
    "from _util import *\n",
    "from transformers import AutoModelForSequenceClassification, AutoTokenizer\n",
    "from transformers import pipeline"
   ]
  },
  {
   "cell_type": "code",
   "execution_count": 9,
   "metadata": {},
   "outputs": [],
   "source": [
    "modelpath = \"../00_data/Classifier/model_classification_jobgbert/\"\n",
    "model = AutoModelForSequenceClassification.from_pretrained(modelpath)\n",
    "tokenizer = AutoTokenizer.from_pretrained(modelpath)\n",
    "pipe = pipeline(\"text-classification\",model,tokenizer=tokenizer)"
   ]
  },
  {
   "cell_type": "code",
   "execution_count": 10,
   "metadata": {},
   "outputs": [],
   "source": [
    "with open(\"../00_data/Classifier/jobad_whiteboxai.txt\", \"r\") as fp:\n",
    "    jobad = fp.read()"
   ]
  },
  {
   "cell_type": "code",
   "execution_count": 11,
   "metadata": {},
   "outputs": [],
   "source": [
    "annots_jobad = []\n",
    "for paragraph in jobad.split(\"\\n\\n\"):\n",
    "    res = pipe(paragraph)[0][\"label\"]\n",
    "    #print(paragraph, res)\n",
    "    annots_jobad.append({\"text\":paragraph,\"label\":res})"
   ]
  },
  {
   "cell_type": "code",
   "execution_count": 12,
   "metadata": {},
   "outputs": [
    {
     "data": {
      "text/html": [
       "<div>\n",
       "<style scoped>\n",
       "    .dataframe tbody tr th:only-of-type {\n",
       "        vertical-align: middle;\n",
       "    }\n",
       "\n",
       "    .dataframe tbody tr th {\n",
       "        vertical-align: top;\n",
       "    }\n",
       "\n",
       "    .dataframe thead th {\n",
       "        text-align: right;\n",
       "    }\n",
       "</style>\n",
       "<table border=\"1\" class=\"dataframe\">\n",
       "  <thead>\n",
       "    <tr style=\"text-align: right;\">\n",
       "      <th></th>\n",
       "      <th>text</th>\n",
       "      <th>label</th>\n",
       "    </tr>\n",
       "  </thead>\n",
       "  <tbody>\n",
       "    <tr>\n",
       "      <th>0</th>\n",
       "      <td>Im Rahmen der KI-Nachwuchsforschergruppe “Whit...</td>\n",
       "      <td>LABEL_0</td>\n",
       "    </tr>\n",
       "    <tr>\n",
       "      <th>1</th>\n",
       "      <td>3 Promotionsstellen (E13 TV-L, 100%) im Umfang...</td>\n",
       "      <td>LABEL_0</td>\n",
       "    </tr>\n",
       "    <tr>\n",
       "      <th>2</th>\n",
       "      <td>ausgeschrieben. Bewerbungsschluss ist der 15. ...</td>\n",
       "      <td>LABEL_0</td>\n",
       "    </tr>\n",
       "    <tr>\n",
       "      <th>3</th>\n",
       "      <td></td>\n",
       "      <td>LABEL_0</td>\n",
       "    </tr>\n",
       "    <tr>\n",
       "      <th>4</th>\n",
       "      <td>Das strategische Ziel zur Etablierung der KI-N...</td>\n",
       "      <td>LABEL_0</td>\n",
       "    </tr>\n",
       "    <tr>\n",
       "      <th>5</th>\n",
       "      <td></td>\n",
       "      <td>LABEL_0</td>\n",
       "    </tr>\n",
       "    <tr>\n",
       "      <th>6</th>\n",
       "      <td>Hintergrund der Nachwuchsforschergruppe\\nDie m...</td>\n",
       "      <td>LABEL_0</td>\n",
       "    </tr>\n",
       "    <tr>\n",
       "      <th>7</th>\n",
       "      <td>Vor diesem Hintergrund beschäftigt sich die KI...</td>\n",
       "      <td>LABEL_0</td>\n",
       "    </tr>\n",
       "    <tr>\n",
       "      <th>8</th>\n",
       "      <td>Der algorithmische Strang befasst sich konkret...</td>\n",
       "      <td>LABEL_0</td>\n",
       "    </tr>\n",
       "    <tr>\n",
       "      <th>9</th>\n",
       "      <td>Im sozio-technischen Strang wird parallel eing...</td>\n",
       "      <td>LABEL_0</td>\n",
       "    </tr>\n",
       "    <tr>\n",
       "      <th>10</th>\n",
       "      <td></td>\n",
       "      <td>LABEL_0</td>\n",
       "    </tr>\n",
       "    <tr>\n",
       "      <th>11</th>\n",
       "      <td>Ihr Profil:\\nHochschulabschluss (Diplom/Master...</td>\n",
       "      <td>LABEL_1</td>\n",
       "    </tr>\n",
       "    <tr>\n",
       "      <th>12</th>\n",
       "      <td>Wir bieten:\\nAktive Beteiligung an einem zukun...</td>\n",
       "      <td>LABEL_1</td>\n",
       "    </tr>\n",
       "    <tr>\n",
       "      <th>13</th>\n",
       "      <td>Bewerbungsverfahren\\nWir haben uns das Ziel ge...</td>\n",
       "      <td>LABEL_0</td>\n",
       "    </tr>\n",
       "    <tr>\n",
       "      <th>14</th>\n",
       "      <td></td>\n",
       "      <td>LABEL_0</td>\n",
       "    </tr>\n",
       "    <tr>\n",
       "      <th>15</th>\n",
       "      <td>Zur Bewerbung fassen Sie bitte die folgenden U...</td>\n",
       "      <td>LABEL_0</td>\n",
       "    </tr>\n",
       "    <tr>\n",
       "      <th>16</th>\n",
       "      <td>Kurzes Motivationsschreiben\\nAusführlicher tab...</td>\n",
       "      <td>LABEL_1</td>\n",
       "    </tr>\n",
       "  </tbody>\n",
       "</table>\n",
       "</div>"
      ],
      "text/plain": [
       "                                                 text    label\n",
       "0   Im Rahmen der KI-Nachwuchsforschergruppe “Whit...  LABEL_0\n",
       "1   3 Promotionsstellen (E13 TV-L, 100%) im Umfang...  LABEL_0\n",
       "2   ausgeschrieben. Bewerbungsschluss ist der 15. ...  LABEL_0\n",
       "3                                                      LABEL_0\n",
       "4   Das strategische Ziel zur Etablierung der KI-N...  LABEL_0\n",
       "5                                                      LABEL_0\n",
       "6   Hintergrund der Nachwuchsforschergruppe\\nDie m...  LABEL_0\n",
       "7   Vor diesem Hintergrund beschäftigt sich die KI...  LABEL_0\n",
       "8   Der algorithmische Strang befasst sich konkret...  LABEL_0\n",
       "9   Im sozio-technischen Strang wird parallel eing...  LABEL_0\n",
       "10                                                     LABEL_0\n",
       "11  Ihr Profil:\\nHochschulabschluss (Diplom/Master...  LABEL_1\n",
       "12  Wir bieten:\\nAktive Beteiligung an einem zukun...  LABEL_1\n",
       "13  Bewerbungsverfahren\\nWir haben uns das Ziel ge...  LABEL_0\n",
       "14                                                     LABEL_0\n",
       "15  Zur Bewerbung fassen Sie bitte die folgenden U...  LABEL_0\n",
       "16  Kurzes Motivationsschreiben\\nAusführlicher tab...  LABEL_1"
      ]
     },
     "execution_count": 12,
     "metadata": {},
     "output_type": "execute_result"
    }
   ],
   "source": [
    "import pandas as pd\n",
    "pd.DataFrame(annots_jobad)"
   ]
  },
  {
   "cell_type": "code",
   "execution_count": 15,
   "metadata": {},
   "outputs": [
    {
     "name": "stdout",
     "output_type": "stream",
     "text": [
      "Ihr Profil:\n",
      "Hochschulabschluss (Diplom/Master) in einem für das Projekt einschlägigen Studiengang, z. B. Wirtschaftswissenschaften, Sozialwissenschaften, (Wirtschafts-) Informatik, (Wirtschafts-) Ingenieurwesen, Mathematik, Data Science oder verwandte Disziplinen mit einem Notendurchschnitt von mindestens gut und dem Ziel der Promotion\n",
      "Erste (studentische) Erfahrungen im Bereich des wissenschaftlichen Arbeitens und der Anwendung quantitativer, qualitativer und gestaltungsorientierter Forschungsmethoden\n",
      "Praktische Erfahrung mit Werkzeugen und Programmierungssprachen zur Durchführung von Datenanalysen und KI-Modellentwicklungen (idealerweise Python)\n",
      "Leidenschaft, Spaß und Interesse an der Lösung von wissenschaftlichen Fragestellungen im Kontext von KI, Data Science und Business Analytics\n",
      "Ein hohes Maß an Verantwortungsbewusstsein, Selbstdisziplin, Struktur, Pioniergeist und Teamfähigkeit\n",
      "Offenheit gegenüber der Zusammenarbeit mit Partnern aus Wissenschaft und Praxis, um reale Probleme zu lösen\n",
      "Sehr gute Englisch- und Deutschkenntnisse\n",
      "  Wir bieten:\n",
      "Aktive Beteiligung an einem zukunftsträchtigen und interdisziplinären Forschungsgebiet an der Schnittstelle zwischen innovativer Algorithmenentwicklung und sozio-technischer, nutzerzentrierter Anwendung und Evaluation\n",
      "Ein kumulatives Dissertationsprojekt mit einem strukturierten Promotionsprogramm und der Möglichkeit zur Ausbildung von Zusatzqualifikationen durch ein breites Angebot der FAU Erlangen-Nürnberg (z. B. über das Fortbildungszentrum Hochschullehre FZBHL)\n",
      "Arbeiten in einem jungen Team und einem gesunden Arbeitsumfeld mit gleichgesinnten, motivierten und ehrgeizigen Nachwuchswissenschaftler/innen, die auf Augenhöhe forschen und gemeinsam Ergebnisse in renommierten Journalen einreichen\n",
      "Einbettung in Deutschlands größtem Wirtschaftsinformatik-Institut am Standort Nürnberg mit insgesamt 14 Professuren und einem Zugang zu einem internationalen Netzwerk von Wissenschaftlerinnen und Wissenschaftlern für einen interdisziplinären Austausch\n",
      "Möglichkeit zur Teilnahme an internationalen Konferenzen für den fachlichen Austausch sowie zur Erweiterung des akademischen Netzwerks\n",
      "  Kurzes Motivationsschreiben\n",
      "Ausführlicher tabellarischer Lebenslauf\n",
      "Kopien der Abschlusszeugnisse\n",
      "eine akademische Arbeitsprobe (z. B. Seminararbeit oder Ausschnitt aus einer Abschlussarbeit, maximal 25 Seiten)\n"
     ]
    }
   ],
   "source": [
    "text_short = \" \".join([x[\"text\"] for x in annots_jobad if x[\"label\"] == \"LABEL_1\"])\n",
    "print(text_short)"
   ]
  }
 ],
 "metadata": {
  "kernelspec": {
   "display_name": "Python 3 (ipykernel)",
   "language": "python",
   "name": "python3"
  },
  "language_info": {
   "codemirror_mode": {
    "name": "ipython",
    "version": 3
   },
   "file_extension": ".py",
   "mimetype": "text/x-python",
   "name": "python",
   "nbconvert_exporter": "python",
   "pygments_lexer": "ipython3",
   "version": "3.10.16"
  },
  "vscode": {
   "interpreter": {
    "hash": "cb0bef7a9eff8501420d8e3c6496920c898020e76359dc7d7e37d89f971fe60a"
   }
  }
 },
 "nbformat": 4,
 "nbformat_minor": 4
}
