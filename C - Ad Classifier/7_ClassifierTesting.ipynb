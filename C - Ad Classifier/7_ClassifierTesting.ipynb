{
 "cells": [
  {
   "cell_type": "code",
   "execution_count": null,
   "metadata": {},
   "outputs": [],
   "source": [
    "# Import necessary libraries and modules\n",
    "import sys\n",
    "sys.path.append(\"..\")  # Adjust the path to include the parent directory\n",
    "from _utils import *\n",
    "from transformers import AutoModelForSequenceClassification, AutoTokenizer\n",
    "from transformers import pipeline"
   ]
  },
  {
   "cell_type": "code",
   "execution_count": null,
   "metadata": {},
   "outputs": [],
   "source": [
    "# Load the pre-trained classification model and tokenizer\n",
    "model_path = \"../00_data/Classifier/model_classification_jobgbert/\"\n",
    "model = AutoModelForSequenceClassification.from_pretrained(model_path)\n",
    "tokenizer = AutoTokenizer.from_pretrained(model_path)\n",
    "\n",
    "# Initialize a text classification pipeline\n",
    "classification_pipeline = pipeline(\"text-classification\", model, tokenizer=tokenizer)"
   ]
  },
  {
   "cell_type": "code",
   "execution_count": null,
   "metadata": {},
   "outputs": [],
   "source": [
    "# Load a job advertisement text file for testing\n",
    "with open(\"../00_data/Classifier/jobad_whiteboxai.txt\", \"r\") as file_pointer:\n",
    "    job_ad_text = file_pointer.read()"
   ]
  },
  {
   "cell_type": "code",
   "execution_count": null,
   "metadata": {},
   "outputs": [],
   "source": [
    "# Classify each paragraph in the job advertisement\n",
    "classified_paragraphs = []\n",
    "for paragraph in job_ad_text.split(\"\\n\\n\"):\n",
    "    classification_result = classification_pipeline(paragraph)[0][\"label\"]\n",
    "    # Append the paragraph and its classification label to the results\n",
    "    classified_paragraphs.append({\"text\": paragraph, \"label\": classification_result})"
   ]
  },
  {
   "cell_type": "code",
   "execution_count": null,
   "metadata": {},
   "outputs": [],
   "source": [
    "# Convert the classification results into a DataFrame for better visualization\n",
    "import pandas as pd\n",
    "classified_paragraphs_df = pd.DataFrame(classified_paragraphs)\n",
    "classified_paragraphs_df"
   ]
  },
  {
   "cell_type": "code",
   "execution_count": null,
   "metadata": {},
   "outputs": [],
   "source": [
    "# Extract and concatenate text from paragraphs classified as relevant (LABEL_1)\n",
    "relevant_text = \" \".join([entry[\"text\"] for entry in classified_paragraphs if entry[\"label\"] == \"LABEL_1\"])\n",
    "print(relevant_text)"
   ]
  }
 ],
 "metadata": {
  "kernelspec": {
   "display_name": "careerbert",
   "language": "python",
   "name": "python3"
  },
  "language_info": {
   "codemirror_mode": {
    "name": "ipython",
    "version": 3
   },
   "file_extension": ".py",
   "mimetype": "text/x-python",
   "name": "python",
   "nbconvert_exporter": "python",
   "pygments_lexer": "ipython3",
   "version": "3.13.2"
  }
 },
 "nbformat": 4,
 "nbformat_minor": 4
}
