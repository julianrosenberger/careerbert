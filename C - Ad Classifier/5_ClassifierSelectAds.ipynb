{
 "cells": [
  {
   "cell_type": "code",
   "execution_count": null,
   "metadata": {},
   "outputs": [],
   "source": [
    "# Import necessary libraries and modules\n",
    "import sys\n",
    "sys.path.append(\"..\")  # Add parent directory to the path\n",
    "from _utils import load_json\n",
    "import pandas as pd\n",
    "import random\n",
    "import srsly\n",
    "random.seed(42)  # Set random seed for reproducibility\n",
    "from tqdm import tqdm"
   ]
  },
  {
   "cell_type": "code",
   "execution_count": null,
   "metadata": {},
   "outputs": [],
   "source": [
    "# Define helper functions\n",
    "def get_combined_text(job_ad):\n",
    "    \"\"\"\n",
    "    Combine the parsed job title and description into a single text string.\n",
    "\n",
    "    Args:\n",
    "        job_ad (dict): A dictionary containing job advertisement details.\n",
    "\n",
    "    Returns:\n",
    "        str: Combined text of the job title and description.\n",
    "    \"\"\"\n",
    "    return \" \".join([job_ad[\"title_parsed\"].split(\" bei \")[0], job_ad[\"description\"]])\n",
    "\n",
    "def initialize_empty_label(job_ad):\n",
    "    \"\"\"\n",
    "    Initialize an empty list as the label for a job advertisement.\n",
    "\n",
    "    Args:\n",
    "        job_ad (dict): A dictionary containing job advertisement details.\n",
    "\n",
    "    Returns:\n",
    "        list: An empty list as the label.\n",
    "    \"\"\"\n",
    "    return []"
   ]
  },
  {
   "cell_type": "code",
   "execution_count": null,
   "metadata": {},
   "outputs": [],
   "source": [
    "def get_shortened_esco_id(esco_id, length):\n",
    "    \"\"\"\n",
    "    Shorten the ESCO ID to a specified length.\n",
    "\n",
    "    Args:\n",
    "        esco_id (str): The full ESCO ID.\n",
    "        length (int): The desired length of the shortened ESCO ID.\n",
    "\n",
    "    Returns:\n",
    "        str: The shortened ESCO ID.\n",
    "    \"\"\"\n",
    "    return esco_id[:length]"
   ]
  },
  {
   "cell_type": "code",
   "execution_count": null,
   "metadata": {},
   "outputs": [],
   "source": [
    "# Load job advertisements for classifier training\n",
    "job_ads_df = pd.DataFrame(load_json(\"../00_data/jobads_for_classifiertraining.json\"))"
   ]
  },
  {
   "cell_type": "code",
   "execution_count": null,
   "metadata": {},
   "outputs": [
    {
     "name": "stderr",
     "output_type": "stream",
     "text": [
      "100%|██████████| 256/256 [00:02<00:00, 108.10it/s]\n"
     ]
    }
   ],
   "source": [
    "# Process job advertisements to prepare for classifier training\n",
    "job_ads_df_copy = job_ads_df.copy()\n",
    "\n",
    "# Combine job title and description into a single text field\n",
    "job_ads_df_copy[\"text\"] = job_ads_df_copy.apply(get_combined_text, axis=1)\n",
    "\n",
    "# Initialize empty labels for each job advertisement\n",
    "job_ads_df_copy[\"label\"] = job_ads_df_copy.apply(initialize_empty_label, axis=1)\n",
    "\n",
    "# Shorten ESCO IDs to 4 characters for grouping\n",
    "job_ads_df_copy[\"esco_short_id\"] = job_ads_df_copy[\"esco_id\"].apply(get_shortened_esco_id, args=[4])\n",
    "\n",
    "# Group job advertisements by shortened ESCO ID and count occurrences\n",
    "grouped_ads_df = job_ads_df_copy.groupby(\"esco_short_id\").sum().reset_index()\n",
    "esco_ids = list(grouped_ads_df[\"esco_short_id\"])\n",
    "\n",
    "# Select up to 5 random job advertisements per ESCO ID\n",
    "selected_ads = []\n",
    "for esco_id in tqdm(esco_ids):\n",
    "    filtered_ads = job_ads_df_copy[job_ads_df_copy[\"esco_short_id\"] == esco_id]\n",
    "    if len(filtered_ads) <= 5:\n",
    "        selected_ads += filtered_ads[[\"text\", \"label\"]].to_dict(\"records\")\n",
    "    else:\n",
    "        selected_ads += random.sample(filtered_ads[[\"text\", \"label\"]].to_dict(\"records\"), 5)"
   ]
  },
  {
   "cell_type": "code",
   "execution_count": null,
   "metadata": {},
   "outputs": [],
   "source": [
    "# Save the selected job advertisements to a JSONL file for annotation\n",
    "srsly.write_jsonl(\"jsonl_annot_raw.jsonl\", selected_ads)"
   ]
  },
  {
   "cell_type": "markdown",
   "metadata": {},
   "source": [
    "# Further Process\n",
    "This section describes the next steps for processing the JSONL file."
   ]
  },
  {
   "cell_type": "markdown",
   "metadata": {},
   "source": [
    "1. The JSONL file was further processed with [doccano](https://github.com/doccano/doccano).\n",
    "2. A project for Named Entity Recognition (NER) was created.\n",
    "3. The relevant paragraphs were marked as \"relevant\"."
   ]
  }
 ],
 "metadata": {
  "kernelspec": {
   "display_name": "careerbert",
   "language": "python",
   "name": "python3"
  },
  "language_info": {
   "codemirror_mode": {
    "name": "ipython",
    "version": 3
   },
   "file_extension": ".py",
   "mimetype": "text/x-python",
   "name": "python",
   "nbconvert_exporter": "python",
   "pygments_lexer": "ipython3",
   "version": "3.13.2"
  }
 },
 "nbformat": 4,
 "nbformat_minor": 4
}
