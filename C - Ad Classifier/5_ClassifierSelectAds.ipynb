{
 "cells": [
  {
   "cell_type": "code",
   "execution_count": 12,
   "metadata": {},
   "outputs": [],
   "source": [
    "from _util import *\n",
    "import pandas as pd\n",
    "import random\n",
    "import srsly\n",
    "random.seed(42)\n",
    "from tqdm import tqdm"
   ]
  },
  {
   "cell_type": "code",
   "execution_count": 13,
   "metadata": {},
   "outputs": [],
   "source": [
    "def get_text (ad):\n",
    "    return \" \".join([ad[\"title_parsed\"].split(\" bei \")[0], ad[\"description\"]])\n",
    "    \n",
    "def empty_list(ad):\n",
    "    return []"
   ]
  },
  {
   "cell_type": "code",
   "execution_count": 14,
   "metadata": {},
   "outputs": [],
   "source": [
    "def get_number_esco_id(id, length):\n",
    "    id_short = id[:length]\n",
    "    return id_short"
   ]
  },
  {
   "cell_type": "code",
   "execution_count": 15,
   "metadata": {},
   "outputs": [],
   "source": [
    "jobadsdf = pd.DataFrame(load_json(\"../00_data/jobads_for_classifiertraining.json\"))"
   ]
  },
  {
   "cell_type": "code",
   "execution_count": 16,
   "metadata": {},
   "outputs": [
    {
     "name": "stderr",
     "output_type": "stream",
     "text": [
      "100%|██████████| 256/256 [00:02<00:00, 108.10it/s]\n"
     ]
    }
   ],
   "source": [
    "jobadsdf_copy = jobadsdf.copy()\n",
    "jobadsdf_copy[\"text\"] = jobadsdf_copy.apply(get_text, axis=1)\n",
    "jobadsdf_copy[\"label\"] = jobadsdf_copy.apply(empty_list, axis=1)\n",
    "jobadsdf_copy[\"esco_filtered\"] = jobadsdf_copy[\"esco_id\"].apply(get_number_esco_id, args=[4])\n",
    "grouped_df = jobadsdf_copy.groupby(\"esco_filtered\").sum().reset_index()\n",
    "escoids = list(grouped_df[\"esco_filtered\"])\n",
    "#print(len(escoids))\n",
    "random_choices = []\n",
    "for id in tqdm(escoids):\n",
    "    filtered_df = jobadsdf_copy[jobadsdf_copy[\"esco_filtered\"] == id]\n",
    "    if len(filtered_df) <= 5:\n",
    "        random_choices += filtered_df[[\"text\",\"label\"]].to_dict(\"records\")\n",
    "    else:\n",
    "        random_choices += random.sample(filtered_df[[\"text\",\"label\"]].to_dict(\"records\"), 5)"
   ]
  },
  {
   "cell_type": "code",
   "execution_count": 17,
   "metadata": {},
   "outputs": [],
   "source": [
    "srsly.write_jsonl(\"jsonl_annot_raw.jsonl\", random_choices)"
   ]
  },
  {
   "cell_type": "markdown",
   "metadata": {},
   "source": [
    "# Further process"
   ]
  },
  {
   "cell_type": "markdown",
   "metadata": {},
   "source": [
    "1. The jsonl file was further processed with [doccano](https://github.com/doccano/doccano)\n",
    "2. A project for NER was created\n",
    "3. The relevant paragraphs were marked as \"relevant\""
   ]
  }
 ],
 "metadata": {
  "kernelspec": {
   "display_name": "Python 3 (ipykernel)",
   "language": "python",
   "name": "python3"
  },
  "language_info": {
   "codemirror_mode": {
    "name": "ipython",
    "version": 3
   },
   "file_extension": ".py",
   "mimetype": "text/x-python",
   "name": "python",
   "nbconvert_exporter": "python",
   "pygments_lexer": "ipython3",
   "version": "3.10.16"
  },
  "vscode": {
   "interpreter": {
    "hash": "cb0bef7a9eff8501420d8e3c6496920c898020e76359dc7d7e37d89f971fe60a"
   }
  }
 },
 "nbformat": 4,
 "nbformat_minor": 4
}
