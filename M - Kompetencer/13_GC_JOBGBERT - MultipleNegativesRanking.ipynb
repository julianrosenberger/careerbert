{
 "cells": [
  {
   "cell_type": "markdown",
   "metadata": {
    "id": "gWOOQk0qg2Yz"
   },
   "source": [
    "# Imports"
   ]
  },
  {
   "cell_type": "code",
   "execution_count": 23,
   "metadata": {
    "colab": {
     "base_uri": "https://localhost:8080/"
    },
    "executionInfo": {
     "elapsed": 36651,
     "status": "ok",
     "timestamp": 1681799362334,
     "user": {
      "displayName": "Lukas Wolfrum",
      "userId": "10737638498661133063"
     },
     "user_tz": -120
    },
    "id": "-aOtwdg3jehe",
    "outputId": "81c4bc97-b0a0-486f-8701-ac6927b84b01"
   },
   "outputs": [],
   "source": [
    "# from google.colab import drive\n",
    "# drive.mount('/content/drive')\n",
    "# %cd /content/drive/MyDrive/TRAINING"
   ]
  },
  {
   "cell_type": "code",
   "execution_count": 24,
   "metadata": {
    "id": "y4zyVrZvV-2I"
   },
   "outputs": [],
   "source": [
    "# %%capture\n",
    "# !pip install sentence_transformers"
   ]
  },
  {
   "cell_type": "code",
   "execution_count": 1,
   "metadata": {
    "id": "AkkomPGdV3dV"
   },
   "outputs": [],
   "source": [
    "from sentence_transformers import SentenceTransformer, InputExample\n",
    "from torch.utils.data import DataLoader\n",
    "from sentence_transformers import models, losses, util\n",
    "from tqdm import tqdm\n",
    "import random\n",
    "from sentence_transformers import evaluation\n",
    "import json\n",
    "import pandas as pd\n",
    "from collections import Counter\n",
    "import os\n",
    "from sklearn.model_selection import train_test_split\n",
    "from helpers import *\n",
    "import numpy as np\n",
    "from datetime import datetime\n",
    "from sklearn.model_selection import KFold\n",
    "from transformers import set_seed\n",
    "set_seed(42)"
   ]
  },
  {
   "cell_type": "code",
   "execution_count": 2,
   "metadata": {
    "id": "722fJkSlB-VR"
   },
   "outputs": [],
   "source": [
    "def create_trainig_samples(pos_dev_samples,neg_pairs):\n",
    "  dev_set_total =[]\n",
    "  anchors = set([x[0] for x in pos_dev_samples])\n",
    "  neg_dev_samples = [x for x in neg_pairs if x[0] in anchors]\n",
    "  print(\"Creating Devset\")\n",
    "  for anchor in tqdm(anchors):\n",
    "    pos_pairs_filtered = [x[1] for x in pos_dev_samples if x[0]==anchor]\n",
    "    neg_pairs_filtered = [x[1] for x in neg_dev_samples if x[0]==anchor]\n",
    "    dev_set_total.append({\"query\":anchor,\"positive\":pos_pairs_filtered,\"negative\":neg_pairs_filtered})\n",
    "  return dev_set_total"
   ]
  },
  {
   "cell_type": "code",
   "execution_count": 3,
   "metadata": {},
   "outputs": [
    {
     "name": "stderr",
     "output_type": "stream",
     "text": [
      "100%|██████████| 6/6 [00:00<00:00,  6.05it/s]\n"
     ]
    }
   ],
   "source": [
    "data_dict = load_data_pairs()\n",
    "pos_pairs = flatten_list([data_dict[x] for x in data_dict if \"pos\" in x])\n",
    "neg_pairs = flatten_list([data_dict[x] for x in data_dict if \"neg\" in x])"
   ]
  },
  {
   "cell_type": "markdown",
   "metadata": {
    "id": "xSp9eTjdnZWD"
   },
   "source": [
    "# Variables"
   ]
  },
  {
   "cell_type": "code",
   "execution_count": 10,
   "metadata": {
    "id": "3pcrar0nWJqC"
   },
   "outputs": [],
   "source": [
    "# modelname = \"../00_data/SBERT_Models/models/jobgbert_TSDAE_epochs5\"\n",
    "# modelname = \"agne/jobgbert\"\n",
    "# modelname = \"google/rembert\"\n",
    "modelname = \"google-bert/bert-base-multilingual-cased\""
   ]
  },
  {
   "cell_type": "code",
   "execution_count": 11,
   "metadata": {
    "id": "QEF97EZFt6LY"
   },
   "outputs": [
    {
     "name": "stderr",
     "output_type": "stream",
     "text": [
      "No sentence-transformers model found with name google-bert/bert-base-multilingual-cased. Creating a new one with mean pooling.\n"
     ]
    }
   ],
   "source": [
    "model = SentenceTransformer(modelname)"
   ]
  },
  {
   "cell_type": "code",
   "execution_count": 30,
   "metadata": {
    "id": "rNJLBve_WiNK"
   },
   "outputs": [
    {
     "ename": "TypeError",
     "evalue": "",
     "output_type": "error",
     "traceback": [
      "\u001b[0;31m---------------------------------------------------------------------------\u001b[0m",
      "\u001b[0;31mTypeError\u001b[0m                                 Traceback (most recent call last)",
      "Cell \u001b[0;32mIn[30], line 6\u001b[0m\n\u001b[1;32m      4\u001b[0m   TSDAE \u001b[38;5;241m=\u001b[39m \u001b[38;5;124m\"\u001b[39m\u001b[38;5;124mwTSDAE\u001b[39m\u001b[38;5;124m\"\u001b[39m\n\u001b[1;32m      5\u001b[0m \u001b[38;5;28;01melse\u001b[39;00m:\n\u001b[0;32m----> 6\u001b[0m   \u001b[38;5;28;01mraise\u001b[39;00m \u001b[38;5;167;01mTypeError\u001b[39;00m\n",
      "\u001b[0;31mTypeError\u001b[0m: "
     ]
    }
   ],
   "source": [
    "if modelname == \"agne/jobgbert\":\n",
    "  TSDAE = \"woTSDAE\"\n",
    "elif modelname == \"../00_data/SBERT_Models/models/jobgbert_TSDAE_epochs5\":\n",
    "  TSDAE = \"wTSDAE\"\n",
    "else:\n",
    "  raise TypeError"
   ]
  },
  {
   "cell_type": "code",
   "execution_count": 6,
   "metadata": {},
   "outputs": [],
   "source": [
    "if modelname == \"google/rembert\":\n",
    "  TSDAE = \"woTSDAE\""
   ]
  },
  {
   "cell_type": "code",
   "execution_count": 12,
   "metadata": {},
   "outputs": [],
   "source": [
    "if modelname == \"google-bert/bert-base-multilingual-cased\":\n",
    "  TSDAE = \"woTSDAE\""
   ]
  },
  {
   "cell_type": "code",
   "execution_count": 13,
   "metadata": {
    "colab": {
     "base_uri": "https://localhost:8080/",
     "height": 35
    },
    "executionInfo": {
     "elapsed": 18,
     "status": "ok",
     "timestamp": 1681799404027,
     "user": {
      "displayName": "Lukas Wolfrum",
      "userId": "10737638498661133063"
     },
     "user_tz": -120
    },
    "id": "c5g4imwtpy2z",
    "outputId": "0fa97fe8-055b-462c-f42f-f7f39439dbb0"
   },
   "outputs": [
    {
     "data": {
      "text/plain": [
       "'../00_data/SBERT_Models/models/rembert_32_woTSDAE_2e-05_f10'"
      ]
     },
     "execution_count": 13,
     "metadata": {},
     "output_type": "execute_result"
    }
   ],
   "source": [
    "batch_size = 32\n",
    "lr = 2e-5\n",
    "num_epochs = 1\n",
    "fold_size = 10\n",
    "output_path = f\"../00_data/SBERT_Models/models/rembert_{batch_size}_{TSDAE}_{lr}_f{fold_size}\"\n",
    "output_path"
   ]
  },
  {
   "cell_type": "code",
   "execution_count": null,
   "metadata": {},
   "outputs": [],
   "source": [
    "batch_size = 32\n",
    "lr = 2e-5\n",
    "num_epochs = 1\n",
    "fold_size = 10\n",
    "output_path = f\"../00_data/SBERT_Models/models/consultantbert_{batch_size}_{TSDAE}_{lr}_f{fold_size}\"\n",
    "output_path"
   ]
  },
  {
   "cell_type": "code",
   "execution_count": 8,
   "metadata": {
    "id": "hWnxsnraA76J"
   },
   "outputs": [],
   "source": [
    "kf = KFold(n_splits=fold_size, random_state=42, shuffle=True)"
   ]
  },
  {
   "cell_type": "code",
   "execution_count": 9,
   "metadata": {
    "id": "Ux1alEzQBIY4"
   },
   "outputs": [
    {
     "name": "stdout",
     "output_type": "stream",
     "text": [
      "Creating Devset\n"
     ]
    },
    {
     "name": "stderr",
     "output_type": "stream",
     "text": [
      "100%|██████████| 2848/2848 [00:43<00:00, 65.24it/s]\n"
     ]
    },
    {
     "data": {
      "text/html": [
       "\n",
       "    <div>\n",
       "      \n",
       "      <progress value='3695' max='3695' style='width:300px; height:20px; vertical-align: middle;'></progress>\n",
       "      [3695/3695 45:10, Epoch 1/1]\n",
       "    </div>\n",
       "    <table border=\"1\" class=\"dataframe\">\n",
       "  <thead>\n",
       " <tr style=\"text-align: left;\">\n",
       "      <th>Step</th>\n",
       "      <th>Training Loss</th>\n",
       "      <th>Validation Loss</th>\n",
       "      <th>Map</th>\n",
       "      <th>Mrr@100</th>\n",
       "      <th>Ndcg@100</th>\n",
       "    </tr>\n",
       "  </thead>\n",
       "  <tbody>\n",
       "    <tr>\n",
       "      <td>500</td>\n",
       "      <td>2.623400</td>\n",
       "    </tr>\n",
       "    <tr>\n",
       "      <td>1000</td>\n",
       "      <td>1.750800</td>\n",
       "    </tr>\n",
       "    <tr>\n",
       "      <td>1500</td>\n",
       "      <td>1.535700</td>\n",
       "    </tr>\n",
       "    <tr>\n",
       "      <td>2000</td>\n",
       "      <td>1.380000</td>\n",
       "    </tr>\n",
       "    <tr>\n",
       "      <td>2500</td>\n",
       "      <td>1.314700</td>\n",
       "    </tr>\n",
       "    <tr>\n",
       "      <td>3000</td>\n",
       "      <td>1.237500</td>\n",
       "    </tr>\n",
       "    <tr>\n",
       "      <td>3500</td>\n",
       "      <td>1.215200</td>\n",
       "    </tr>\n",
       "    <tr>\n",
       "      <td>3695</td>\n",
       "      <td>1.215200</td>\n",
       "      <td>No log</td>\n",
       "      <td>0.671629</td>\n",
       "      <td>0.869754</td>\n",
       "      <td>0.820508</td>\n",
       "    </tr>\n",
       "  </tbody>\n",
       "</table><p>"
      ],
      "text/plain": [
       "<IPython.core.display.HTML object>"
      ]
     },
     "metadata": {},
     "output_type": "display_data"
    },
    {
     "data": {
      "application/vnd.jupyter.widget-view+json": {
       "model_id": "5fe88a7563554c7ea26bba0d1a1549e6",
       "version_major": 2,
       "version_minor": 0
      },
      "text/plain": [
       "Computing widget examples:   0%|          | 0/1 [00:00<?, ?example/s]"
      ]
     },
     "metadata": {},
     "output_type": "display_data"
    },
    {
     "data": {
      "application/vnd.jupyter.widget-view+json": {
       "model_id": "0a7c58057941400a837a959ab9cff350",
       "version_major": 2,
       "version_minor": 0
      },
      "text/plain": [
       "Batches:   0%|          | 0/45 [00:00<?, ?it/s]"
      ]
     },
     "metadata": {},
     "output_type": "display_data"
    },
    {
     "data": {
      "application/vnd.jupyter.widget-view+json": {
       "model_id": "0a96e700f4194a7da2d97b364bb8e431",
       "version_major": 2,
       "version_minor": 0
      },
      "text/plain": [
       "Batches:   0%|          | 0/10281 [00:00<?, ?it/s]"
      ]
     },
     "metadata": {},
     "output_type": "display_data"
    },
    {
     "data": {
      "application/vnd.jupyter.widget-view+json": {
       "model_id": "62b61ecb522d4986b321158b4f5fd9fb",
       "version_major": 2,
       "version_minor": 0
      },
      "text/plain": [
       "Batches:   0%|          | 0/71 [00:00<?, ?it/s]"
      ]
     },
     "metadata": {},
     "output_type": "display_data"
    },
    {
     "data": {
      "application/vnd.jupyter.widget-view+json": {
       "model_id": "324a9c46665d403080a3611b29aa4326",
       "version_major": 2,
       "version_minor": 0
      },
      "text/plain": [
       "Batches:   0%|          | 0/92 [00:00<?, ?it/s]"
      ]
     },
     "metadata": {},
     "output_type": "display_data"
    },
    {
     "data": {
      "application/vnd.jupyter.widget-view+json": {
       "model_id": "be40a29e2def441ab5cd948388ef4e42",
       "version_major": 2,
       "version_minor": 0
      },
      "text/plain": [
       "Batches:   0%|          | 0/92 [00:00<?, ?it/s]"
      ]
     },
     "metadata": {},
     "output_type": "display_data"
    },
    {
     "data": {
      "application/vnd.jupyter.widget-view+json": {
       "model_id": "3924748125f247fdbb6a596bd7c741cd",
       "version_major": 2,
       "version_minor": 0
      },
      "text/plain": [
       "Batches:   0%|          | 0/92 [00:00<?, ?it/s]"
      ]
     },
     "metadata": {},
     "output_type": "display_data"
    },
    {
     "name": "stderr",
     "output_type": "stream",
     "text": [
      "100%|██████████| 2250/2250 [00:01<00:00, 1176.09it/s]\n"
     ]
    },
    {
     "data": {
      "text/html": [
       "<div>\n",
       "<style scoped>\n",
       "    .dataframe tbody tr th:only-of-type {\n",
       "        vertical-align: middle;\n",
       "    }\n",
       "\n",
       "    .dataframe tbody tr th {\n",
       "        vertical-align: top;\n",
       "    }\n",
       "\n",
       "    .dataframe thead th {\n",
       "        text-align: right;\n",
       "    }\n",
       "</style>\n",
       "<table border=\"1\" class=\"dataframe\">\n",
       "  <thead>\n",
       "    <tr style=\"text-align: right;\">\n",
       "      <th></th>\n",
       "      <th>model</th>\n",
       "      <th>epoch</th>\n",
       "      <th>embedding_kind</th>\n",
       "      <th>MRR</th>\n",
       "      <th>missing</th>\n",
       "      <th>MRR@</th>\n",
       "      <th>training_details</th>\n",
       "    </tr>\n",
       "  </thead>\n",
       "  <tbody>\n",
       "    <tr>\n",
       "      <th>0</th>\n",
       "      <td>rembert_32_woTSDAE_2e-05_f10</td>\n",
       "      <td>0</td>\n",
       "      <td>skillsets</td>\n",
       "      <td>0.286642</td>\n",
       "      <td>0.178222</td>\n",
       "      <td>100</td>\n",
       "      <td>[20250202195054, 32, 2e-05, 11821.0, 1, 10, wo...</td>\n",
       "    </tr>\n",
       "  </tbody>\n",
       "</table>\n",
       "</div>"
      ],
      "text/plain": [
       "                          model  epoch embedding_kind       MRR   missing  \\\n",
       "0  rembert_32_woTSDAE_2e-05_f10      0      skillsets  0.286642  0.178222   \n",
       "\n",
       "   MRR@                                   training_details  \n",
       "0   100  [20250202195054, 32, 2e-05, 11821.0, 1, 10, wo...  "
      ]
     },
     "metadata": {},
     "output_type": "display_data"
    },
    {
     "name": "stdout",
     "output_type": "stream",
     "text": [
      "New best Model saved after epoch 0\n",
      "Sucessfully saved file: ../00_data/SBERT_Models/models/rembert_32_woTSDAE_2e-05_f10/model_info.json\n"
     ]
    },
    {
     "name": "stderr",
     "output_type": "stream",
     "text": [
      "100%|██████████| 2250/2250 [00:01<00:00, 1169.24it/s]\n"
     ]
    },
    {
     "data": {
      "text/html": [
       "<div>\n",
       "<style scoped>\n",
       "    .dataframe tbody tr th:only-of-type {\n",
       "        vertical-align: middle;\n",
       "    }\n",
       "\n",
       "    .dataframe tbody tr th {\n",
       "        vertical-align: top;\n",
       "    }\n",
       "\n",
       "    .dataframe thead th {\n",
       "        text-align: right;\n",
       "    }\n",
       "</style>\n",
       "<table border=\"1\" class=\"dataframe\">\n",
       "  <thead>\n",
       "    <tr style=\"text-align: right;\">\n",
       "      <th></th>\n",
       "      <th>model</th>\n",
       "      <th>epoch</th>\n",
       "      <th>embedding_kind</th>\n",
       "      <th>MRR</th>\n",
       "      <th>missing</th>\n",
       "      <th>MRR@</th>\n",
       "      <th>training_details</th>\n",
       "    </tr>\n",
       "  </thead>\n",
       "  <tbody>\n",
       "    <tr>\n",
       "      <th>0</th>\n",
       "      <td>rembert_32_woTSDAE_2e-05_f10</td>\n",
       "      <td>0</td>\n",
       "      <td>skillsets</td>\n",
       "      <td>0.286642</td>\n",
       "      <td>0.178222</td>\n",
       "      <td>100</td>\n",
       "      <td>[20250202195054, 32, 2e-05, 11821.0, 1, 10, wo...</td>\n",
       "    </tr>\n",
       "    <tr>\n",
       "      <th>1</th>\n",
       "      <td>rembert_32_woTSDAE_2e-05_f10</td>\n",
       "      <td>0</td>\n",
       "      <td>desc</td>\n",
       "      <td>0.376811</td>\n",
       "      <td>0.144444</td>\n",
       "      <td>100</td>\n",
       "      <td>[20250202195054, 32, 2e-05, 11821.0, 1, 10, wo...</td>\n",
       "    </tr>\n",
       "  </tbody>\n",
       "</table>\n",
       "</div>"
      ],
      "text/plain": [
       "                          model  epoch embedding_kind       MRR   missing  \\\n",
       "0  rembert_32_woTSDAE_2e-05_f10      0      skillsets  0.286642  0.178222   \n",
       "1  rembert_32_woTSDAE_2e-05_f10      0           desc  0.376811  0.144444   \n",
       "\n",
       "   MRR@                                   training_details  \n",
       "0   100  [20250202195054, 32, 2e-05, 11821.0, 1, 10, wo...  \n",
       "1   100  [20250202195054, 32, 2e-05, 11821.0, 1, 10, wo...  "
      ]
     },
     "metadata": {},
     "output_type": "display_data"
    },
    {
     "name": "stdout",
     "output_type": "stream",
     "text": [
      "New best Model saved after epoch 0\n",
      "Sucessfully saved file: ../00_data/SBERT_Models/models/rembert_32_woTSDAE_2e-05_f10/model_info.json\n"
     ]
    },
    {
     "name": "stderr",
     "output_type": "stream",
     "text": [
      "100%|██████████| 2250/2250 [00:01<00:00, 1186.29it/s]\n"
     ]
    },
    {
     "data": {
      "text/html": [
       "<div>\n",
       "<style scoped>\n",
       "    .dataframe tbody tr th:only-of-type {\n",
       "        vertical-align: middle;\n",
       "    }\n",
       "\n",
       "    .dataframe tbody tr th {\n",
       "        vertical-align: top;\n",
       "    }\n",
       "\n",
       "    .dataframe thead th {\n",
       "        text-align: right;\n",
       "    }\n",
       "</style>\n",
       "<table border=\"1\" class=\"dataframe\">\n",
       "  <thead>\n",
       "    <tr style=\"text-align: right;\">\n",
       "      <th></th>\n",
       "      <th>model</th>\n",
       "      <th>epoch</th>\n",
       "      <th>embedding_kind</th>\n",
       "      <th>MRR</th>\n",
       "      <th>missing</th>\n",
       "      <th>MRR@</th>\n",
       "      <th>training_details</th>\n",
       "    </tr>\n",
       "  </thead>\n",
       "  <tbody>\n",
       "    <tr>\n",
       "      <th>0</th>\n",
       "      <td>rembert_32_woTSDAE_2e-05_f10</td>\n",
       "      <td>0</td>\n",
       "      <td>skillsets</td>\n",
       "      <td>0.286642</td>\n",
       "      <td>0.178222</td>\n",
       "      <td>100</td>\n",
       "      <td>[20250202195054, 32, 2e-05, 11821.0, 1, 10, wo...</td>\n",
       "    </tr>\n",
       "    <tr>\n",
       "      <th>1</th>\n",
       "      <td>rembert_32_woTSDAE_2e-05_f10</td>\n",
       "      <td>0</td>\n",
       "      <td>desc</td>\n",
       "      <td>0.376811</td>\n",
       "      <td>0.144444</td>\n",
       "      <td>100</td>\n",
       "      <td>[20250202195054, 32, 2e-05, 11821.0, 1, 10, wo...</td>\n",
       "    </tr>\n",
       "    <tr>\n",
       "      <th>2</th>\n",
       "      <td>rembert_32_woTSDAE_2e-05_f10</td>\n",
       "      <td>0</td>\n",
       "      <td>jobtitle</td>\n",
       "      <td>0.330851</td>\n",
       "      <td>0.160000</td>\n",
       "      <td>100</td>\n",
       "      <td>[20250202195054, 32, 2e-05, 11821.0, 1, 10, wo...</td>\n",
       "    </tr>\n",
       "  </tbody>\n",
       "</table>\n",
       "</div>"
      ],
      "text/plain": [
       "                          model  epoch embedding_kind       MRR   missing  \\\n",
       "0  rembert_32_woTSDAE_2e-05_f10      0      skillsets  0.286642  0.178222   \n",
       "1  rembert_32_woTSDAE_2e-05_f10      0           desc  0.376811  0.144444   \n",
       "2  rembert_32_woTSDAE_2e-05_f10      0       jobtitle  0.330851  0.160000   \n",
       "\n",
       "   MRR@                                   training_details  \n",
       "0   100  [20250202195054, 32, 2e-05, 11821.0, 1, 10, wo...  \n",
       "1   100  [20250202195054, 32, 2e-05, 11821.0, 1, 10, wo...  \n",
       "2   100  [20250202195054, 32, 2e-05, 11821.0, 1, 10, wo...  "
      ]
     },
     "metadata": {},
     "output_type": "display_data"
    },
    {
     "name": "stdout",
     "output_type": "stream",
     "text": [
      "Creating Devset\n"
     ]
    },
    {
     "name": "stderr",
     "output_type": "stream",
     "text": [
      "100%|██████████| 2850/2850 [00:43<00:00, 65.51it/s]\n"
     ]
    },
    {
     "data": {
      "text/html": [
       "\n",
       "    <div>\n",
       "      \n",
       "      <progress value='3695' max='3695' style='width:300px; height:20px; vertical-align: middle;'></progress>\n",
       "      [3695/3695 45:22, Epoch 1/1]\n",
       "    </div>\n",
       "    <table border=\"1\" class=\"dataframe\">\n",
       "  <thead>\n",
       " <tr style=\"text-align: left;\">\n",
       "      <th>Step</th>\n",
       "      <th>Training Loss</th>\n",
       "      <th>Validation Loss</th>\n",
       "      <th>Map</th>\n",
       "      <th>Mrr@100</th>\n",
       "      <th>Ndcg@100</th>\n",
       "    </tr>\n",
       "  </thead>\n",
       "  <tbody>\n",
       "    <tr>\n",
       "      <td>500</td>\n",
       "      <td>1.059300</td>\n",
       "    </tr>\n",
       "    <tr>\n",
       "      <td>1000</td>\n",
       "      <td>0.997100</td>\n",
       "    </tr>\n",
       "    <tr>\n",
       "      <td>1500</td>\n",
       "      <td>0.971100</td>\n",
       "    </tr>\n",
       "    <tr>\n",
       "      <td>2000</td>\n",
       "      <td>0.965800</td>\n",
       "    </tr>\n",
       "    <tr>\n",
       "      <td>2500</td>\n",
       "      <td>0.993700</td>\n",
       "    </tr>\n",
       "    <tr>\n",
       "      <td>3000</td>\n",
       "      <td>0.989500</td>\n",
       "    </tr>\n",
       "    <tr>\n",
       "      <td>3500</td>\n",
       "      <td>0.993100</td>\n",
       "    </tr>\n",
       "    <tr>\n",
       "      <td>3695</td>\n",
       "      <td>0.993100</td>\n",
       "      <td>No log</td>\n",
       "      <td>0.718659</td>\n",
       "      <td>0.887589</td>\n",
       "      <td>0.848324</td>\n",
       "    </tr>\n",
       "  </tbody>\n",
       "</table><p>"
      ],
      "text/plain": [
       "<IPython.core.display.HTML object>"
      ]
     },
     "metadata": {},
     "output_type": "display_data"
    },
    {
     "data": {
      "application/vnd.jupyter.widget-view+json": {
       "model_id": "de5ca48eadf34d3f867168e6d1a40605",
       "version_major": 2,
       "version_minor": 0
      },
      "text/plain": [
       "Batches:   0%|          | 0/45 [00:00<?, ?it/s]"
      ]
     },
     "metadata": {},
     "output_type": "display_data"
    },
    {
     "data": {
      "application/vnd.jupyter.widget-view+json": {
       "model_id": "3561581c21d644b08a6f6a2c435770ce",
       "version_major": 2,
       "version_minor": 0
      },
      "text/plain": [
       "Batches:   0%|          | 0/10292 [00:00<?, ?it/s]"
      ]
     },
     "metadata": {},
     "output_type": "display_data"
    },
    {
     "data": {
      "application/vnd.jupyter.widget-view+json": {
       "model_id": "4610e094fd2f42ce96afb590ecbf3ef4",
       "version_major": 2,
       "version_minor": 0
      },
      "text/plain": [
       "Batches:   0%|          | 0/71 [00:00<?, ?it/s]"
      ]
     },
     "metadata": {},
     "output_type": "display_data"
    },
    {
     "data": {
      "application/vnd.jupyter.widget-view+json": {
       "model_id": "e780e0ced1084a50b8afc1c27b71c767",
       "version_major": 2,
       "version_minor": 0
      },
      "text/plain": [
       "Batches:   0%|          | 0/92 [00:00<?, ?it/s]"
      ]
     },
     "metadata": {},
     "output_type": "display_data"
    },
    {
     "data": {
      "application/vnd.jupyter.widget-view+json": {
       "model_id": "1b799cac903149409c54fb846caea685",
       "version_major": 2,
       "version_minor": 0
      },
      "text/plain": [
       "Batches:   0%|          | 0/92 [00:00<?, ?it/s]"
      ]
     },
     "metadata": {},
     "output_type": "display_data"
    },
    {
     "data": {
      "application/vnd.jupyter.widget-view+json": {
       "model_id": "d17bb500e1514fe8a94e236a01975fe6",
       "version_major": 2,
       "version_minor": 0
      },
      "text/plain": [
       "Batches:   0%|          | 0/92 [00:00<?, ?it/s]"
      ]
     },
     "metadata": {},
     "output_type": "display_data"
    },
    {
     "name": "stderr",
     "output_type": "stream",
     "text": [
      "100%|██████████| 2250/2250 [00:01<00:00, 1136.33it/s]\n"
     ]
    },
    {
     "data": {
      "text/html": [
       "<div>\n",
       "<style scoped>\n",
       "    .dataframe tbody tr th:only-of-type {\n",
       "        vertical-align: middle;\n",
       "    }\n",
       "\n",
       "    .dataframe tbody tr th {\n",
       "        vertical-align: top;\n",
       "    }\n",
       "\n",
       "    .dataframe thead th {\n",
       "        text-align: right;\n",
       "    }\n",
       "</style>\n",
       "<table border=\"1\" class=\"dataframe\">\n",
       "  <thead>\n",
       "    <tr style=\"text-align: right;\">\n",
       "      <th></th>\n",
       "      <th>model</th>\n",
       "      <th>epoch</th>\n",
       "      <th>embedding_kind</th>\n",
       "      <th>MRR</th>\n",
       "      <th>missing</th>\n",
       "      <th>MRR@</th>\n",
       "      <th>training_details</th>\n",
       "    </tr>\n",
       "  </thead>\n",
       "  <tbody>\n",
       "    <tr>\n",
       "      <th>0</th>\n",
       "      <td>rembert_32_woTSDAE_2e-05_f10</td>\n",
       "      <td>0</td>\n",
       "      <td>skillsets</td>\n",
       "      <td>0.286642</td>\n",
       "      <td>0.178222</td>\n",
       "      <td>100</td>\n",
       "      <td>[20250202195054, 32, 2e-05, 11821.0, 1, 10, wo...</td>\n",
       "    </tr>\n",
       "    <tr>\n",
       "      <th>1</th>\n",
       "      <td>rembert_32_woTSDAE_2e-05_f10</td>\n",
       "      <td>0</td>\n",
       "      <td>desc</td>\n",
       "      <td>0.376811</td>\n",
       "      <td>0.144444</td>\n",
       "      <td>100</td>\n",
       "      <td>[20250202195054, 32, 2e-05, 11821.0, 1, 10, wo...</td>\n",
       "    </tr>\n",
       "    <tr>\n",
       "      <th>2</th>\n",
       "      <td>rembert_32_woTSDAE_2e-05_f10</td>\n",
       "      <td>0</td>\n",
       "      <td>jobtitle</td>\n",
       "      <td>0.330851</td>\n",
       "      <td>0.160000</td>\n",
       "      <td>100</td>\n",
       "      <td>[20250202195054, 32, 2e-05, 11821.0, 1, 10, wo...</td>\n",
       "    </tr>\n",
       "    <tr>\n",
       "      <th>3</th>\n",
       "      <td>rembert_32_woTSDAE_2e-05_f10</td>\n",
       "      <td>1</td>\n",
       "      <td>skillsets</td>\n",
       "      <td>0.290252</td>\n",
       "      <td>0.180000</td>\n",
       "      <td>100</td>\n",
       "      <td>[20250202195054, 32, 2e-05, 11821.0, 1, 10, wo...</td>\n",
       "    </tr>\n",
       "  </tbody>\n",
       "</table>\n",
       "</div>"
      ],
      "text/plain": [
       "                          model  epoch embedding_kind       MRR   missing  \\\n",
       "0  rembert_32_woTSDAE_2e-05_f10      0      skillsets  0.286642  0.178222   \n",
       "1  rembert_32_woTSDAE_2e-05_f10      0           desc  0.376811  0.144444   \n",
       "2  rembert_32_woTSDAE_2e-05_f10      0       jobtitle  0.330851  0.160000   \n",
       "3  rembert_32_woTSDAE_2e-05_f10      1      skillsets  0.290252  0.180000   \n",
       "\n",
       "   MRR@                                   training_details  \n",
       "0   100  [20250202195054, 32, 2e-05, 11821.0, 1, 10, wo...  \n",
       "1   100  [20250202195054, 32, 2e-05, 11821.0, 1, 10, wo...  \n",
       "2   100  [20250202195054, 32, 2e-05, 11821.0, 1, 10, wo...  \n",
       "3   100  [20250202195054, 32, 2e-05, 11821.0, 1, 10, wo...  "
      ]
     },
     "metadata": {},
     "output_type": "display_data"
    },
    {
     "name": "stderr",
     "output_type": "stream",
     "text": [
      "100%|██████████| 2250/2250 [00:01<00:00, 1137.56it/s]\n"
     ]
    },
    {
     "data": {
      "text/html": [
       "<div>\n",
       "<style scoped>\n",
       "    .dataframe tbody tr th:only-of-type {\n",
       "        vertical-align: middle;\n",
       "    }\n",
       "\n",
       "    .dataframe tbody tr th {\n",
       "        vertical-align: top;\n",
       "    }\n",
       "\n",
       "    .dataframe thead th {\n",
       "        text-align: right;\n",
       "    }\n",
       "</style>\n",
       "<table border=\"1\" class=\"dataframe\">\n",
       "  <thead>\n",
       "    <tr style=\"text-align: right;\">\n",
       "      <th></th>\n",
       "      <th>model</th>\n",
       "      <th>epoch</th>\n",
       "      <th>embedding_kind</th>\n",
       "      <th>MRR</th>\n",
       "      <th>missing</th>\n",
       "      <th>MRR@</th>\n",
       "      <th>training_details</th>\n",
       "    </tr>\n",
       "  </thead>\n",
       "  <tbody>\n",
       "    <tr>\n",
       "      <th>0</th>\n",
       "      <td>rembert_32_woTSDAE_2e-05_f10</td>\n",
       "      <td>0</td>\n",
       "      <td>skillsets</td>\n",
       "      <td>0.286642</td>\n",
       "      <td>0.178222</td>\n",
       "      <td>100</td>\n",
       "      <td>[20250202195054, 32, 2e-05, 11821.0, 1, 10, wo...</td>\n",
       "    </tr>\n",
       "    <tr>\n",
       "      <th>1</th>\n",
       "      <td>rembert_32_woTSDAE_2e-05_f10</td>\n",
       "      <td>0</td>\n",
       "      <td>desc</td>\n",
       "      <td>0.376811</td>\n",
       "      <td>0.144444</td>\n",
       "      <td>100</td>\n",
       "      <td>[20250202195054, 32, 2e-05, 11821.0, 1, 10, wo...</td>\n",
       "    </tr>\n",
       "    <tr>\n",
       "      <th>2</th>\n",
       "      <td>rembert_32_woTSDAE_2e-05_f10</td>\n",
       "      <td>0</td>\n",
       "      <td>jobtitle</td>\n",
       "      <td>0.330851</td>\n",
       "      <td>0.160000</td>\n",
       "      <td>100</td>\n",
       "      <td>[20250202195054, 32, 2e-05, 11821.0, 1, 10, wo...</td>\n",
       "    </tr>\n",
       "    <tr>\n",
       "      <th>3</th>\n",
       "      <td>rembert_32_woTSDAE_2e-05_f10</td>\n",
       "      <td>1</td>\n",
       "      <td>skillsets</td>\n",
       "      <td>0.290252</td>\n",
       "      <td>0.180000</td>\n",
       "      <td>100</td>\n",
       "      <td>[20250202195054, 32, 2e-05, 11821.0, 1, 10, wo...</td>\n",
       "    </tr>\n",
       "    <tr>\n",
       "      <th>4</th>\n",
       "      <td>rembert_32_woTSDAE_2e-05_f10</td>\n",
       "      <td>1</td>\n",
       "      <td>desc</td>\n",
       "      <td>0.385673</td>\n",
       "      <td>0.148889</td>\n",
       "      <td>100</td>\n",
       "      <td>[20250202195054, 32, 2e-05, 11821.0, 1, 10, wo...</td>\n",
       "    </tr>\n",
       "  </tbody>\n",
       "</table>\n",
       "</div>"
      ],
      "text/plain": [
       "                          model  epoch embedding_kind       MRR   missing  \\\n",
       "0  rembert_32_woTSDAE_2e-05_f10      0      skillsets  0.286642  0.178222   \n",
       "1  rembert_32_woTSDAE_2e-05_f10      0           desc  0.376811  0.144444   \n",
       "2  rembert_32_woTSDAE_2e-05_f10      0       jobtitle  0.330851  0.160000   \n",
       "3  rembert_32_woTSDAE_2e-05_f10      1      skillsets  0.290252  0.180000   \n",
       "4  rembert_32_woTSDAE_2e-05_f10      1           desc  0.385673  0.148889   \n",
       "\n",
       "   MRR@                                   training_details  \n",
       "0   100  [20250202195054, 32, 2e-05, 11821.0, 1, 10, wo...  \n",
       "1   100  [20250202195054, 32, 2e-05, 11821.0, 1, 10, wo...  \n",
       "2   100  [20250202195054, 32, 2e-05, 11821.0, 1, 10, wo...  \n",
       "3   100  [20250202195054, 32, 2e-05, 11821.0, 1, 10, wo...  \n",
       "4   100  [20250202195054, 32, 2e-05, 11821.0, 1, 10, wo...  "
      ]
     },
     "metadata": {},
     "output_type": "display_data"
    },
    {
     "name": "stdout",
     "output_type": "stream",
     "text": [
      "New best Model saved after epoch 1\n",
      "Sucessfully saved file: ../00_data/SBERT_Models/models/rembert_32_woTSDAE_2e-05_f10/model_info.json\n"
     ]
    },
    {
     "name": "stderr",
     "output_type": "stream",
     "text": [
      "100%|██████████| 2250/2250 [00:01<00:00, 1130.92it/s]\n"
     ]
    },
    {
     "data": {
      "text/html": [
       "<div>\n",
       "<style scoped>\n",
       "    .dataframe tbody tr th:only-of-type {\n",
       "        vertical-align: middle;\n",
       "    }\n",
       "\n",
       "    .dataframe tbody tr th {\n",
       "        vertical-align: top;\n",
       "    }\n",
       "\n",
       "    .dataframe thead th {\n",
       "        text-align: right;\n",
       "    }\n",
       "</style>\n",
       "<table border=\"1\" class=\"dataframe\">\n",
       "  <thead>\n",
       "    <tr style=\"text-align: right;\">\n",
       "      <th></th>\n",
       "      <th>model</th>\n",
       "      <th>epoch</th>\n",
       "      <th>embedding_kind</th>\n",
       "      <th>MRR</th>\n",
       "      <th>missing</th>\n",
       "      <th>MRR@</th>\n",
       "      <th>training_details</th>\n",
       "    </tr>\n",
       "  </thead>\n",
       "  <tbody>\n",
       "    <tr>\n",
       "      <th>0</th>\n",
       "      <td>rembert_32_woTSDAE_2e-05_f10</td>\n",
       "      <td>0</td>\n",
       "      <td>skillsets</td>\n",
       "      <td>0.286642</td>\n",
       "      <td>0.178222</td>\n",
       "      <td>100</td>\n",
       "      <td>[20250202195054, 32, 2e-05, 11821.0, 1, 10, wo...</td>\n",
       "    </tr>\n",
       "    <tr>\n",
       "      <th>1</th>\n",
       "      <td>rembert_32_woTSDAE_2e-05_f10</td>\n",
       "      <td>0</td>\n",
       "      <td>desc</td>\n",
       "      <td>0.376811</td>\n",
       "      <td>0.144444</td>\n",
       "      <td>100</td>\n",
       "      <td>[20250202195054, 32, 2e-05, 11821.0, 1, 10, wo...</td>\n",
       "    </tr>\n",
       "    <tr>\n",
       "      <th>2</th>\n",
       "      <td>rembert_32_woTSDAE_2e-05_f10</td>\n",
       "      <td>0</td>\n",
       "      <td>jobtitle</td>\n",
       "      <td>0.330851</td>\n",
       "      <td>0.160000</td>\n",
       "      <td>100</td>\n",
       "      <td>[20250202195054, 32, 2e-05, 11821.0, 1, 10, wo...</td>\n",
       "    </tr>\n",
       "    <tr>\n",
       "      <th>3</th>\n",
       "      <td>rembert_32_woTSDAE_2e-05_f10</td>\n",
       "      <td>1</td>\n",
       "      <td>skillsets</td>\n",
       "      <td>0.290252</td>\n",
       "      <td>0.180000</td>\n",
       "      <td>100</td>\n",
       "      <td>[20250202195054, 32, 2e-05, 11821.0, 1, 10, wo...</td>\n",
       "    </tr>\n",
       "    <tr>\n",
       "      <th>4</th>\n",
       "      <td>rembert_32_woTSDAE_2e-05_f10</td>\n",
       "      <td>1</td>\n",
       "      <td>desc</td>\n",
       "      <td>0.385673</td>\n",
       "      <td>0.148889</td>\n",
       "      <td>100</td>\n",
       "      <td>[20250202195054, 32, 2e-05, 11821.0, 1, 10, wo...</td>\n",
       "    </tr>\n",
       "    <tr>\n",
       "      <th>5</th>\n",
       "      <td>rembert_32_woTSDAE_2e-05_f10</td>\n",
       "      <td>1</td>\n",
       "      <td>jobtitle</td>\n",
       "      <td>0.335263</td>\n",
       "      <td>0.175111</td>\n",
       "      <td>100</td>\n",
       "      <td>[20250202195054, 32, 2e-05, 11821.0, 1, 10, wo...</td>\n",
       "    </tr>\n",
       "  </tbody>\n",
       "</table>\n",
       "</div>"
      ],
      "text/plain": [
       "                          model  epoch embedding_kind       MRR   missing  \\\n",
       "0  rembert_32_woTSDAE_2e-05_f10      0      skillsets  0.286642  0.178222   \n",
       "1  rembert_32_woTSDAE_2e-05_f10      0           desc  0.376811  0.144444   \n",
       "2  rembert_32_woTSDAE_2e-05_f10      0       jobtitle  0.330851  0.160000   \n",
       "3  rembert_32_woTSDAE_2e-05_f10      1      skillsets  0.290252  0.180000   \n",
       "4  rembert_32_woTSDAE_2e-05_f10      1           desc  0.385673  0.148889   \n",
       "5  rembert_32_woTSDAE_2e-05_f10      1       jobtitle  0.335263  0.175111   \n",
       "\n",
       "   MRR@                                   training_details  \n",
       "0   100  [20250202195054, 32, 2e-05, 11821.0, 1, 10, wo...  \n",
       "1   100  [20250202195054, 32, 2e-05, 11821.0, 1, 10, wo...  \n",
       "2   100  [20250202195054, 32, 2e-05, 11821.0, 1, 10, wo...  \n",
       "3   100  [20250202195054, 32, 2e-05, 11821.0, 1, 10, wo...  \n",
       "4   100  [20250202195054, 32, 2e-05, 11821.0, 1, 10, wo...  \n",
       "5   100  [20250202195054, 32, 2e-05, 11821.0, 1, 10, wo...  "
      ]
     },
     "metadata": {},
     "output_type": "display_data"
    },
    {
     "name": "stdout",
     "output_type": "stream",
     "text": [
      "Creating Devset\n"
     ]
    },
    {
     "name": "stderr",
     "output_type": "stream",
     "text": [
      "100%|██████████| 2852/2852 [00:44<00:00, 64.01it/s]\n"
     ]
    },
    {
     "data": {
      "text/html": [
       "\n",
       "    <div>\n",
       "      \n",
       "      <progress value='3695' max='3695' style='width:300px; height:20px; vertical-align: middle;'></progress>\n",
       "      [3695/3695 45:20, Epoch 1/1]\n",
       "    </div>\n",
       "    <table border=\"1\" class=\"dataframe\">\n",
       "  <thead>\n",
       " <tr style=\"text-align: left;\">\n",
       "      <th>Step</th>\n",
       "      <th>Training Loss</th>\n",
       "      <th>Validation Loss</th>\n",
       "      <th>Map</th>\n",
       "      <th>Mrr@100</th>\n",
       "      <th>Ndcg@100</th>\n",
       "    </tr>\n",
       "  </thead>\n",
       "  <tbody>\n",
       "    <tr>\n",
       "      <td>500</td>\n",
       "      <td>0.901800</td>\n",
       "    </tr>\n",
       "    <tr>\n",
       "      <td>1000</td>\n",
       "      <td>0.855000</td>\n",
       "    </tr>\n",
       "    <tr>\n",
       "      <td>1500</td>\n",
       "      <td>0.825600</td>\n",
       "    </tr>\n",
       "    <tr>\n",
       "      <td>2000</td>\n",
       "      <td>0.837100</td>\n",
       "    </tr>\n",
       "    <tr>\n",
       "      <td>2500</td>\n",
       "      <td>0.863100</td>\n",
       "    </tr>\n",
       "    <tr>\n",
       "      <td>3000</td>\n",
       "      <td>0.874900</td>\n",
       "    </tr>\n",
       "    <tr>\n",
       "      <td>3500</td>\n",
       "      <td>0.890100</td>\n",
       "    </tr>\n",
       "    <tr>\n",
       "      <td>3695</td>\n",
       "      <td>0.890100</td>\n",
       "      <td>No log</td>\n",
       "      <td>0.745880</td>\n",
       "      <td>0.899958</td>\n",
       "      <td>0.864061</td>\n",
       "    </tr>\n",
       "  </tbody>\n",
       "</table><p>"
      ],
      "text/plain": [
       "<IPython.core.display.HTML object>"
      ]
     },
     "metadata": {},
     "output_type": "display_data"
    },
    {
     "data": {
      "application/vnd.jupyter.widget-view+json": {
       "model_id": "3aa3159d7d744623b0760a75dda27c2e",
       "version_major": 2,
       "version_minor": 0
      },
      "text/plain": [
       "Batches:   0%|          | 0/45 [00:00<?, ?it/s]"
      ]
     },
     "metadata": {},
     "output_type": "display_data"
    },
    {
     "data": {
      "application/vnd.jupyter.widget-view+json": {
       "model_id": "9fc79800d0ef4c1d91d422ce9f9f33dc",
       "version_major": 2,
       "version_minor": 0
      },
      "text/plain": [
       "Batches:   0%|          | 0/10286 [00:00<?, ?it/s]"
      ]
     },
     "metadata": {},
     "output_type": "display_data"
    },
    {
     "data": {
      "application/vnd.jupyter.widget-view+json": {
       "model_id": "dfef3ca95bbf4101917730f09be9a90e",
       "version_major": 2,
       "version_minor": 0
      },
      "text/plain": [
       "Batches:   0%|          | 0/71 [00:00<?, ?it/s]"
      ]
     },
     "metadata": {},
     "output_type": "display_data"
    },
    {
     "data": {
      "application/vnd.jupyter.widget-view+json": {
       "model_id": "5c7075f62ec9402194ed0106c7e801a1",
       "version_major": 2,
       "version_minor": 0
      },
      "text/plain": [
       "Batches:   0%|          | 0/92 [00:00<?, ?it/s]"
      ]
     },
     "metadata": {},
     "output_type": "display_data"
    },
    {
     "data": {
      "application/vnd.jupyter.widget-view+json": {
       "model_id": "c27cd1014878463b868a37b0ba62b2ed",
       "version_major": 2,
       "version_minor": 0
      },
      "text/plain": [
       "Batches:   0%|          | 0/92 [00:00<?, ?it/s]"
      ]
     },
     "metadata": {},
     "output_type": "display_data"
    },
    {
     "data": {
      "application/vnd.jupyter.widget-view+json": {
       "model_id": "123b9dc5972b419cb5783e16e2689ffd",
       "version_major": 2,
       "version_minor": 0
      },
      "text/plain": [
       "Batches:   0%|          | 0/92 [00:00<?, ?it/s]"
      ]
     },
     "metadata": {},
     "output_type": "display_data"
    },
    {
     "name": "stderr",
     "output_type": "stream",
     "text": [
      "100%|██████████| 2250/2250 [00:01<00:00, 1145.26it/s]\n"
     ]
    },
    {
     "data": {
      "text/html": [
       "<div>\n",
       "<style scoped>\n",
       "    .dataframe tbody tr th:only-of-type {\n",
       "        vertical-align: middle;\n",
       "    }\n",
       "\n",
       "    .dataframe tbody tr th {\n",
       "        vertical-align: top;\n",
       "    }\n",
       "\n",
       "    .dataframe thead th {\n",
       "        text-align: right;\n",
       "    }\n",
       "</style>\n",
       "<table border=\"1\" class=\"dataframe\">\n",
       "  <thead>\n",
       "    <tr style=\"text-align: right;\">\n",
       "      <th></th>\n",
       "      <th>model</th>\n",
       "      <th>epoch</th>\n",
       "      <th>embedding_kind</th>\n",
       "      <th>MRR</th>\n",
       "      <th>missing</th>\n",
       "      <th>MRR@</th>\n",
       "      <th>training_details</th>\n",
       "    </tr>\n",
       "  </thead>\n",
       "  <tbody>\n",
       "    <tr>\n",
       "      <th>0</th>\n",
       "      <td>rembert_32_woTSDAE_2e-05_f10</td>\n",
       "      <td>0</td>\n",
       "      <td>skillsets</td>\n",
       "      <td>0.286642</td>\n",
       "      <td>0.178222</td>\n",
       "      <td>100</td>\n",
       "      <td>[20250202195054, 32, 2e-05, 11821.0, 1, 10, wo...</td>\n",
       "    </tr>\n",
       "    <tr>\n",
       "      <th>1</th>\n",
       "      <td>rembert_32_woTSDAE_2e-05_f10</td>\n",
       "      <td>0</td>\n",
       "      <td>desc</td>\n",
       "      <td>0.376811</td>\n",
       "      <td>0.144444</td>\n",
       "      <td>100</td>\n",
       "      <td>[20250202195054, 32, 2e-05, 11821.0, 1, 10, wo...</td>\n",
       "    </tr>\n",
       "    <tr>\n",
       "      <th>2</th>\n",
       "      <td>rembert_32_woTSDAE_2e-05_f10</td>\n",
       "      <td>0</td>\n",
       "      <td>jobtitle</td>\n",
       "      <td>0.330851</td>\n",
       "      <td>0.160000</td>\n",
       "      <td>100</td>\n",
       "      <td>[20250202195054, 32, 2e-05, 11821.0, 1, 10, wo...</td>\n",
       "    </tr>\n",
       "    <tr>\n",
       "      <th>3</th>\n",
       "      <td>rembert_32_woTSDAE_2e-05_f10</td>\n",
       "      <td>1</td>\n",
       "      <td>skillsets</td>\n",
       "      <td>0.290252</td>\n",
       "      <td>0.180000</td>\n",
       "      <td>100</td>\n",
       "      <td>[20250202195054, 32, 2e-05, 11821.0, 1, 10, wo...</td>\n",
       "    </tr>\n",
       "    <tr>\n",
       "      <th>4</th>\n",
       "      <td>rembert_32_woTSDAE_2e-05_f10</td>\n",
       "      <td>1</td>\n",
       "      <td>desc</td>\n",
       "      <td>0.385673</td>\n",
       "      <td>0.148889</td>\n",
       "      <td>100</td>\n",
       "      <td>[20250202195054, 32, 2e-05, 11821.0, 1, 10, wo...</td>\n",
       "    </tr>\n",
       "    <tr>\n",
       "      <th>5</th>\n",
       "      <td>rembert_32_woTSDAE_2e-05_f10</td>\n",
       "      <td>1</td>\n",
       "      <td>jobtitle</td>\n",
       "      <td>0.335263</td>\n",
       "      <td>0.175111</td>\n",
       "      <td>100</td>\n",
       "      <td>[20250202195054, 32, 2e-05, 11821.0, 1, 10, wo...</td>\n",
       "    </tr>\n",
       "    <tr>\n",
       "      <th>6</th>\n",
       "      <td>rembert_32_woTSDAE_2e-05_f10</td>\n",
       "      <td>2</td>\n",
       "      <td>skillsets</td>\n",
       "      <td>0.287780</td>\n",
       "      <td>0.177778</td>\n",
       "      <td>100</td>\n",
       "      <td>[20250202195054, 32, 2e-05, 11821.0, 1, 10, wo...</td>\n",
       "    </tr>\n",
       "  </tbody>\n",
       "</table>\n",
       "</div>"
      ],
      "text/plain": [
       "                          model  epoch embedding_kind       MRR   missing  \\\n",
       "0  rembert_32_woTSDAE_2e-05_f10      0      skillsets  0.286642  0.178222   \n",
       "1  rembert_32_woTSDAE_2e-05_f10      0           desc  0.376811  0.144444   \n",
       "2  rembert_32_woTSDAE_2e-05_f10      0       jobtitle  0.330851  0.160000   \n",
       "3  rembert_32_woTSDAE_2e-05_f10      1      skillsets  0.290252  0.180000   \n",
       "4  rembert_32_woTSDAE_2e-05_f10      1           desc  0.385673  0.148889   \n",
       "5  rembert_32_woTSDAE_2e-05_f10      1       jobtitle  0.335263  0.175111   \n",
       "6  rembert_32_woTSDAE_2e-05_f10      2      skillsets  0.287780  0.177778   \n",
       "\n",
       "   MRR@                                   training_details  \n",
       "0   100  [20250202195054, 32, 2e-05, 11821.0, 1, 10, wo...  \n",
       "1   100  [20250202195054, 32, 2e-05, 11821.0, 1, 10, wo...  \n",
       "2   100  [20250202195054, 32, 2e-05, 11821.0, 1, 10, wo...  \n",
       "3   100  [20250202195054, 32, 2e-05, 11821.0, 1, 10, wo...  \n",
       "4   100  [20250202195054, 32, 2e-05, 11821.0, 1, 10, wo...  \n",
       "5   100  [20250202195054, 32, 2e-05, 11821.0, 1, 10, wo...  \n",
       "6   100  [20250202195054, 32, 2e-05, 11821.0, 1, 10, wo...  "
      ]
     },
     "metadata": {},
     "output_type": "display_data"
    },
    {
     "name": "stderr",
     "output_type": "stream",
     "text": [
      "100%|██████████| 2250/2250 [00:01<00:00, 1146.04it/s]\n"
     ]
    },
    {
     "data": {
      "text/html": [
       "<div>\n",
       "<style scoped>\n",
       "    .dataframe tbody tr th:only-of-type {\n",
       "        vertical-align: middle;\n",
       "    }\n",
       "\n",
       "    .dataframe tbody tr th {\n",
       "        vertical-align: top;\n",
       "    }\n",
       "\n",
       "    .dataframe thead th {\n",
       "        text-align: right;\n",
       "    }\n",
       "</style>\n",
       "<table border=\"1\" class=\"dataframe\">\n",
       "  <thead>\n",
       "    <tr style=\"text-align: right;\">\n",
       "      <th></th>\n",
       "      <th>model</th>\n",
       "      <th>epoch</th>\n",
       "      <th>embedding_kind</th>\n",
       "      <th>MRR</th>\n",
       "      <th>missing</th>\n",
       "      <th>MRR@</th>\n",
       "      <th>training_details</th>\n",
       "    </tr>\n",
       "  </thead>\n",
       "  <tbody>\n",
       "    <tr>\n",
       "      <th>0</th>\n",
       "      <td>rembert_32_woTSDAE_2e-05_f10</td>\n",
       "      <td>0</td>\n",
       "      <td>skillsets</td>\n",
       "      <td>0.286642</td>\n",
       "      <td>0.178222</td>\n",
       "      <td>100</td>\n",
       "      <td>[20250202195054, 32, 2e-05, 11821.0, 1, 10, wo...</td>\n",
       "    </tr>\n",
       "    <tr>\n",
       "      <th>1</th>\n",
       "      <td>rembert_32_woTSDAE_2e-05_f10</td>\n",
       "      <td>0</td>\n",
       "      <td>desc</td>\n",
       "      <td>0.376811</td>\n",
       "      <td>0.144444</td>\n",
       "      <td>100</td>\n",
       "      <td>[20250202195054, 32, 2e-05, 11821.0, 1, 10, wo...</td>\n",
       "    </tr>\n",
       "    <tr>\n",
       "      <th>2</th>\n",
       "      <td>rembert_32_woTSDAE_2e-05_f10</td>\n",
       "      <td>0</td>\n",
       "      <td>jobtitle</td>\n",
       "      <td>0.330851</td>\n",
       "      <td>0.160000</td>\n",
       "      <td>100</td>\n",
       "      <td>[20250202195054, 32, 2e-05, 11821.0, 1, 10, wo...</td>\n",
       "    </tr>\n",
       "    <tr>\n",
       "      <th>3</th>\n",
       "      <td>rembert_32_woTSDAE_2e-05_f10</td>\n",
       "      <td>1</td>\n",
       "      <td>skillsets</td>\n",
       "      <td>0.290252</td>\n",
       "      <td>0.180000</td>\n",
       "      <td>100</td>\n",
       "      <td>[20250202195054, 32, 2e-05, 11821.0, 1, 10, wo...</td>\n",
       "    </tr>\n",
       "    <tr>\n",
       "      <th>4</th>\n",
       "      <td>rembert_32_woTSDAE_2e-05_f10</td>\n",
       "      <td>1</td>\n",
       "      <td>desc</td>\n",
       "      <td>0.385673</td>\n",
       "      <td>0.148889</td>\n",
       "      <td>100</td>\n",
       "      <td>[20250202195054, 32, 2e-05, 11821.0, 1, 10, wo...</td>\n",
       "    </tr>\n",
       "    <tr>\n",
       "      <th>5</th>\n",
       "      <td>rembert_32_woTSDAE_2e-05_f10</td>\n",
       "      <td>1</td>\n",
       "      <td>jobtitle</td>\n",
       "      <td>0.335263</td>\n",
       "      <td>0.175111</td>\n",
       "      <td>100</td>\n",
       "      <td>[20250202195054, 32, 2e-05, 11821.0, 1, 10, wo...</td>\n",
       "    </tr>\n",
       "    <tr>\n",
       "      <th>6</th>\n",
       "      <td>rembert_32_woTSDAE_2e-05_f10</td>\n",
       "      <td>2</td>\n",
       "      <td>skillsets</td>\n",
       "      <td>0.287780</td>\n",
       "      <td>0.177778</td>\n",
       "      <td>100</td>\n",
       "      <td>[20250202195054, 32, 2e-05, 11821.0, 1, 10, wo...</td>\n",
       "    </tr>\n",
       "    <tr>\n",
       "      <th>7</th>\n",
       "      <td>rembert_32_woTSDAE_2e-05_f10</td>\n",
       "      <td>2</td>\n",
       "      <td>desc</td>\n",
       "      <td>0.389333</td>\n",
       "      <td>0.153333</td>\n",
       "      <td>100</td>\n",
       "      <td>[20250202195054, 32, 2e-05, 11821.0, 1, 10, wo...</td>\n",
       "    </tr>\n",
       "  </tbody>\n",
       "</table>\n",
       "</div>"
      ],
      "text/plain": [
       "                          model  epoch embedding_kind       MRR   missing  \\\n",
       "0  rembert_32_woTSDAE_2e-05_f10      0      skillsets  0.286642  0.178222   \n",
       "1  rembert_32_woTSDAE_2e-05_f10      0           desc  0.376811  0.144444   \n",
       "2  rembert_32_woTSDAE_2e-05_f10      0       jobtitle  0.330851  0.160000   \n",
       "3  rembert_32_woTSDAE_2e-05_f10      1      skillsets  0.290252  0.180000   \n",
       "4  rembert_32_woTSDAE_2e-05_f10      1           desc  0.385673  0.148889   \n",
       "5  rembert_32_woTSDAE_2e-05_f10      1       jobtitle  0.335263  0.175111   \n",
       "6  rembert_32_woTSDAE_2e-05_f10      2      skillsets  0.287780  0.177778   \n",
       "7  rembert_32_woTSDAE_2e-05_f10      2           desc  0.389333  0.153333   \n",
       "\n",
       "   MRR@                                   training_details  \n",
       "0   100  [20250202195054, 32, 2e-05, 11821.0, 1, 10, wo...  \n",
       "1   100  [20250202195054, 32, 2e-05, 11821.0, 1, 10, wo...  \n",
       "2   100  [20250202195054, 32, 2e-05, 11821.0, 1, 10, wo...  \n",
       "3   100  [20250202195054, 32, 2e-05, 11821.0, 1, 10, wo...  \n",
       "4   100  [20250202195054, 32, 2e-05, 11821.0, 1, 10, wo...  \n",
       "5   100  [20250202195054, 32, 2e-05, 11821.0, 1, 10, wo...  \n",
       "6   100  [20250202195054, 32, 2e-05, 11821.0, 1, 10, wo...  \n",
       "7   100  [20250202195054, 32, 2e-05, 11821.0, 1, 10, wo...  "
      ]
     },
     "metadata": {},
     "output_type": "display_data"
    },
    {
     "name": "stdout",
     "output_type": "stream",
     "text": [
      "New best Model saved after epoch 2\n",
      "Sucessfully saved file: ../00_data/SBERT_Models/models/rembert_32_woTSDAE_2e-05_f10/model_info.json\n"
     ]
    },
    {
     "name": "stderr",
     "output_type": "stream",
     "text": [
      "100%|██████████| 2250/2250 [00:01<00:00, 1159.36it/s]\n"
     ]
    },
    {
     "data": {
      "text/html": [
       "<div>\n",
       "<style scoped>\n",
       "    .dataframe tbody tr th:only-of-type {\n",
       "        vertical-align: middle;\n",
       "    }\n",
       "\n",
       "    .dataframe tbody tr th {\n",
       "        vertical-align: top;\n",
       "    }\n",
       "\n",
       "    .dataframe thead th {\n",
       "        text-align: right;\n",
       "    }\n",
       "</style>\n",
       "<table border=\"1\" class=\"dataframe\">\n",
       "  <thead>\n",
       "    <tr style=\"text-align: right;\">\n",
       "      <th></th>\n",
       "      <th>model</th>\n",
       "      <th>epoch</th>\n",
       "      <th>embedding_kind</th>\n",
       "      <th>MRR</th>\n",
       "      <th>missing</th>\n",
       "      <th>MRR@</th>\n",
       "      <th>training_details</th>\n",
       "    </tr>\n",
       "  </thead>\n",
       "  <tbody>\n",
       "    <tr>\n",
       "      <th>0</th>\n",
       "      <td>rembert_32_woTSDAE_2e-05_f10</td>\n",
       "      <td>0</td>\n",
       "      <td>skillsets</td>\n",
       "      <td>0.286642</td>\n",
       "      <td>0.178222</td>\n",
       "      <td>100</td>\n",
       "      <td>[20250202195054, 32, 2e-05, 11821.0, 1, 10, wo...</td>\n",
       "    </tr>\n",
       "    <tr>\n",
       "      <th>1</th>\n",
       "      <td>rembert_32_woTSDAE_2e-05_f10</td>\n",
       "      <td>0</td>\n",
       "      <td>desc</td>\n",
       "      <td>0.376811</td>\n",
       "      <td>0.144444</td>\n",
       "      <td>100</td>\n",
       "      <td>[20250202195054, 32, 2e-05, 11821.0, 1, 10, wo...</td>\n",
       "    </tr>\n",
       "    <tr>\n",
       "      <th>2</th>\n",
       "      <td>rembert_32_woTSDAE_2e-05_f10</td>\n",
       "      <td>0</td>\n",
       "      <td>jobtitle</td>\n",
       "      <td>0.330851</td>\n",
       "      <td>0.160000</td>\n",
       "      <td>100</td>\n",
       "      <td>[20250202195054, 32, 2e-05, 11821.0, 1, 10, wo...</td>\n",
       "    </tr>\n",
       "    <tr>\n",
       "      <th>3</th>\n",
       "      <td>rembert_32_woTSDAE_2e-05_f10</td>\n",
       "      <td>1</td>\n",
       "      <td>skillsets</td>\n",
       "      <td>0.290252</td>\n",
       "      <td>0.180000</td>\n",
       "      <td>100</td>\n",
       "      <td>[20250202195054, 32, 2e-05, 11821.0, 1, 10, wo...</td>\n",
       "    </tr>\n",
       "    <tr>\n",
       "      <th>4</th>\n",
       "      <td>rembert_32_woTSDAE_2e-05_f10</td>\n",
       "      <td>1</td>\n",
       "      <td>desc</td>\n",
       "      <td>0.385673</td>\n",
       "      <td>0.148889</td>\n",
       "      <td>100</td>\n",
       "      <td>[20250202195054, 32, 2e-05, 11821.0, 1, 10, wo...</td>\n",
       "    </tr>\n",
       "    <tr>\n",
       "      <th>5</th>\n",
       "      <td>rembert_32_woTSDAE_2e-05_f10</td>\n",
       "      <td>1</td>\n",
       "      <td>jobtitle</td>\n",
       "      <td>0.335263</td>\n",
       "      <td>0.175111</td>\n",
       "      <td>100</td>\n",
       "      <td>[20250202195054, 32, 2e-05, 11821.0, 1, 10, wo...</td>\n",
       "    </tr>\n",
       "    <tr>\n",
       "      <th>6</th>\n",
       "      <td>rembert_32_woTSDAE_2e-05_f10</td>\n",
       "      <td>2</td>\n",
       "      <td>skillsets</td>\n",
       "      <td>0.287780</td>\n",
       "      <td>0.177778</td>\n",
       "      <td>100</td>\n",
       "      <td>[20250202195054, 32, 2e-05, 11821.0, 1, 10, wo...</td>\n",
       "    </tr>\n",
       "    <tr>\n",
       "      <th>7</th>\n",
       "      <td>rembert_32_woTSDAE_2e-05_f10</td>\n",
       "      <td>2</td>\n",
       "      <td>desc</td>\n",
       "      <td>0.389333</td>\n",
       "      <td>0.153333</td>\n",
       "      <td>100</td>\n",
       "      <td>[20250202195054, 32, 2e-05, 11821.0, 1, 10, wo...</td>\n",
       "    </tr>\n",
       "    <tr>\n",
       "      <th>8</th>\n",
       "      <td>rembert_32_woTSDAE_2e-05_f10</td>\n",
       "      <td>2</td>\n",
       "      <td>jobtitle</td>\n",
       "      <td>0.333842</td>\n",
       "      <td>0.173778</td>\n",
       "      <td>100</td>\n",
       "      <td>[20250202195054, 32, 2e-05, 11821.0, 1, 10, wo...</td>\n",
       "    </tr>\n",
       "  </tbody>\n",
       "</table>\n",
       "</div>"
      ],
      "text/plain": [
       "                          model  epoch embedding_kind       MRR   missing  \\\n",
       "0  rembert_32_woTSDAE_2e-05_f10      0      skillsets  0.286642  0.178222   \n",
       "1  rembert_32_woTSDAE_2e-05_f10      0           desc  0.376811  0.144444   \n",
       "2  rembert_32_woTSDAE_2e-05_f10      0       jobtitle  0.330851  0.160000   \n",
       "3  rembert_32_woTSDAE_2e-05_f10      1      skillsets  0.290252  0.180000   \n",
       "4  rembert_32_woTSDAE_2e-05_f10      1           desc  0.385673  0.148889   \n",
       "5  rembert_32_woTSDAE_2e-05_f10      1       jobtitle  0.335263  0.175111   \n",
       "6  rembert_32_woTSDAE_2e-05_f10      2      skillsets  0.287780  0.177778   \n",
       "7  rembert_32_woTSDAE_2e-05_f10      2           desc  0.389333  0.153333   \n",
       "8  rembert_32_woTSDAE_2e-05_f10      2       jobtitle  0.333842  0.173778   \n",
       "\n",
       "   MRR@                                   training_details  \n",
       "0   100  [20250202195054, 32, 2e-05, 11821.0, 1, 10, wo...  \n",
       "1   100  [20250202195054, 32, 2e-05, 11821.0, 1, 10, wo...  \n",
       "2   100  [20250202195054, 32, 2e-05, 11821.0, 1, 10, wo...  \n",
       "3   100  [20250202195054, 32, 2e-05, 11821.0, 1, 10, wo...  \n",
       "4   100  [20250202195054, 32, 2e-05, 11821.0, 1, 10, wo...  \n",
       "5   100  [20250202195054, 32, 2e-05, 11821.0, 1, 10, wo...  \n",
       "6   100  [20250202195054, 32, 2e-05, 11821.0, 1, 10, wo...  \n",
       "7   100  [20250202195054, 32, 2e-05, 11821.0, 1, 10, wo...  \n",
       "8   100  [20250202195054, 32, 2e-05, 11821.0, 1, 10, wo...  "
      ]
     },
     "metadata": {},
     "output_type": "display_data"
    },
    {
     "name": "stdout",
     "output_type": "stream",
     "text": [
      "Creating Devset\n"
     ]
    },
    {
     "name": "stderr",
     "output_type": "stream",
     "text": [
      "100%|██████████| 2847/2847 [00:44<00:00, 63.66it/s]\n"
     ]
    },
    {
     "data": {
      "text/html": [
       "\n",
       "    <div>\n",
       "      \n",
       "      <progress value='2952' max='3695' style='width:300px; height:20px; vertical-align: middle;'></progress>\n",
       "      [2952/3695 28:02 < 07:03, 1.75 it/s, Epoch 0.80/1]\n",
       "    </div>\n",
       "    <table border=\"1\" class=\"dataframe\">\n",
       "  <thead>\n",
       " <tr style=\"text-align: left;\">\n",
       "      <th>Step</th>\n",
       "      <th>Training Loss</th>\n",
       "    </tr>\n",
       "  </thead>\n",
       "  <tbody>\n",
       "    <tr>\n",
       "      <td>500</td>\n",
       "      <td>0.825300</td>\n",
       "    </tr>\n",
       "    <tr>\n",
       "      <td>1000</td>\n",
       "      <td>0.763400</td>\n",
       "    </tr>\n",
       "    <tr>\n",
       "      <td>1500</td>\n",
       "      <td>0.735800</td>\n",
       "    </tr>\n",
       "    <tr>\n",
       "      <td>2000</td>\n",
       "      <td>0.767700</td>\n",
       "    </tr>\n",
       "    <tr>\n",
       "      <td>2500</td>\n",
       "      <td>0.774600</td>\n",
       "    </tr>\n",
       "  </tbody>\n",
       "</table><p>"
      ],
      "text/plain": [
       "<IPython.core.display.HTML object>"
      ]
     },
     "metadata": {},
     "output_type": "display_data"
    },
    {
     "ename": "KeyboardInterrupt",
     "evalue": "",
     "output_type": "error",
     "traceback": [
      "\u001b[0;31m---------------------------------------------------------------------------\u001b[0m",
      "\u001b[0;31mKeyboardInterrupt\u001b[0m                         Traceback (most recent call last)",
      "Cell \u001b[0;32mIn[9], line 21\u001b[0m\n\u001b[1;32m     18\u001b[0m evaluator \u001b[38;5;241m=\u001b[39m evaluation\u001b[38;5;241m.\u001b[39mRerankingEvaluator(dev_set_total,at_k\u001b[38;5;241m=\u001b[39m\u001b[38;5;241m100\u001b[39m,show_progress_bar\u001b[38;5;241m=\u001b[39m\u001b[38;5;28;01mTrue\u001b[39;00m)\n\u001b[1;32m     19\u001b[0m \u001b[38;5;66;03m# train the model \u001b[39;00m\n\u001b[0;32m---> 21\u001b[0m \u001b[43mmodel\u001b[49m\u001b[38;5;241;43m.\u001b[39;49m\u001b[43mfit\u001b[49m\u001b[43m(\u001b[49m\u001b[43mtrain_objectives\u001b[49m\u001b[38;5;241;43m=\u001b[39;49m\u001b[43m[\u001b[49m\u001b[43m(\u001b[49m\u001b[43mtrain_dataloader\u001b[49m\u001b[43m,\u001b[49m\u001b[43m \u001b[49m\u001b[43mtrain_loss\u001b[49m\u001b[43m)\u001b[49m\u001b[43m]\u001b[49m\u001b[43m,\u001b[49m\n\u001b[1;32m     22\u001b[0m \u001b[43m  \u001b[49m\u001b[43mepochs\u001b[49m\u001b[38;5;241;43m=\u001b[39;49m\u001b[43mnum_epochs\u001b[49m\u001b[43m,\u001b[49m\n\u001b[1;32m     23\u001b[0m \u001b[43m  \u001b[49m\u001b[43mwarmup_steps\u001b[49m\u001b[38;5;241;43m=\u001b[39;49m\u001b[43mwarmup\u001b[49m\u001b[43m,\u001b[49m\n\u001b[1;32m     24\u001b[0m \u001b[43m  \u001b[49m\u001b[43mevaluator\u001b[49m\u001b[38;5;241;43m=\u001b[39;49m\u001b[43mevaluator\u001b[49m\u001b[43m,\u001b[49m\n\u001b[1;32m     25\u001b[0m \u001b[43m  \u001b[49m\u001b[43mcheckpoint_path\u001b[49m\u001b[38;5;241;43m=\u001b[39;49m\u001b[38;5;124;43m\"\u001b[39;49m\u001b[38;5;124;43m./model_checkpoints\u001b[39;49m\u001b[38;5;124;43m\"\u001b[39;49m\u001b[43m,\u001b[49m\u001b[43m  \u001b[49m\u001b[38;5;66;43;03m# Changed path\u001b[39;49;00m\n\u001b[1;32m     26\u001b[0m \u001b[43m  \u001b[49m\u001b[43mcheckpoint_save_total_limit\u001b[49m\u001b[38;5;241;43m=\u001b[39;49m\u001b[38;5;241;43m1\u001b[39;49m\u001b[43m,\u001b[49m\n\u001b[1;32m     27\u001b[0m \u001b[43m  \u001b[49m\u001b[38;5;66;43;03m#save_best_model = True,\u001b[39;49;00m\n\u001b[1;32m     28\u001b[0m \u001b[43m  \u001b[49m\u001b[43moptimizer_params\u001b[49m\u001b[38;5;241;43m=\u001b[39;49m\u001b[43m{\u001b[49m\u001b[38;5;124;43m'\u001b[39;49m\u001b[38;5;124;43mlr\u001b[39;49m\u001b[38;5;124;43m'\u001b[39;49m\u001b[43m:\u001b[49m\u001b[43mlr\u001b[49m\u001b[43m}\u001b[49m\u001b[43m,\u001b[49m\n\u001b[1;32m     29\u001b[0m \u001b[43m  \u001b[49m\u001b[43mcheckpoint_save_steps\u001b[49m\u001b[43m \u001b[49m\u001b[38;5;241;43m=\u001b[39;49m\u001b[43m \u001b[49m\u001b[38;5;241;43m1000\u001b[39;49m\u001b[43m,\u001b[49m\n\u001b[1;32m     30\u001b[0m \u001b[43m  \u001b[49m\u001b[43moutput_path\u001b[49m\u001b[38;5;241;43m=\u001b[39;49m\u001b[43m \u001b[49m\u001b[43moutput_path\u001b[49m\u001b[43m,\u001b[49m\n\u001b[1;32m     31\u001b[0m \u001b[43m\u001b[49m\u001b[43m)\u001b[49m\n\u001b[1;32m     32\u001b[0m \u001b[38;5;66;03m# load the test ads and encode them with the current model\u001b[39;00m\n\u001b[1;32m     33\u001b[0m testads \u001b[38;5;241m=\u001b[39m pd\u001b[38;5;241m.\u001b[39mDataFrame(load_json(\u001b[38;5;124m\"\u001b[39m\u001b[38;5;124m../00_data/EURES/eures_testads_final_short.json\u001b[39m\u001b[38;5;124m\"\u001b[39m))\n",
      "File \u001b[0;32m~/miniconda3/envs/careerbert/lib/python3.10/site-packages/sentence_transformers/fit_mixin.py:378\u001b[0m, in \u001b[0;36mFitMixin.fit\u001b[0;34m(self, train_objectives, evaluator, epochs, steps_per_epoch, scheduler, warmup_steps, optimizer_class, optimizer_params, weight_decay, evaluation_steps, output_path, save_best_model, max_grad_norm, use_amp, callback, show_progress_bar, checkpoint_path, checkpoint_save_steps, checkpoint_save_total_limit)\u001b[0m\n\u001b[1;32m    375\u001b[0m \u001b[38;5;28;01mif\u001b[39;00m output_path \u001b[38;5;129;01mis\u001b[39;00m \u001b[38;5;129;01mnot\u001b[39;00m \u001b[38;5;28;01mNone\u001b[39;00m:\n\u001b[1;32m    376\u001b[0m     trainer\u001b[38;5;241m.\u001b[39madd_callback(SaveModelCallback(output_path, evaluator, save_best_model))\n\u001b[0;32m--> 378\u001b[0m \u001b[43mtrainer\u001b[49m\u001b[38;5;241;43m.\u001b[39;49m\u001b[43mtrain\u001b[49m\u001b[43m(\u001b[49m\u001b[43m)\u001b[49m\n",
      "File \u001b[0;32m~/miniconda3/envs/careerbert/lib/python3.10/site-packages/transformers/trainer.py:2164\u001b[0m, in \u001b[0;36mTrainer.train\u001b[0;34m(self, resume_from_checkpoint, trial, ignore_keys_for_eval, **kwargs)\u001b[0m\n\u001b[1;32m   2162\u001b[0m         hf_hub_utils\u001b[38;5;241m.\u001b[39menable_progress_bars()\n\u001b[1;32m   2163\u001b[0m \u001b[38;5;28;01melse\u001b[39;00m:\n\u001b[0;32m-> 2164\u001b[0m     \u001b[38;5;28;01mreturn\u001b[39;00m \u001b[43minner_training_loop\u001b[49m\u001b[43m(\u001b[49m\n\u001b[1;32m   2165\u001b[0m \u001b[43m        \u001b[49m\u001b[43margs\u001b[49m\u001b[38;5;241;43m=\u001b[39;49m\u001b[43margs\u001b[49m\u001b[43m,\u001b[49m\n\u001b[1;32m   2166\u001b[0m \u001b[43m        \u001b[49m\u001b[43mresume_from_checkpoint\u001b[49m\u001b[38;5;241;43m=\u001b[39;49m\u001b[43mresume_from_checkpoint\u001b[49m\u001b[43m,\u001b[49m\n\u001b[1;32m   2167\u001b[0m \u001b[43m        \u001b[49m\u001b[43mtrial\u001b[49m\u001b[38;5;241;43m=\u001b[39;49m\u001b[43mtrial\u001b[49m\u001b[43m,\u001b[49m\n\u001b[1;32m   2168\u001b[0m \u001b[43m        \u001b[49m\u001b[43mignore_keys_for_eval\u001b[49m\u001b[38;5;241;43m=\u001b[39;49m\u001b[43mignore_keys_for_eval\u001b[49m\u001b[43m,\u001b[49m\n\u001b[1;32m   2169\u001b[0m \u001b[43m    \u001b[49m\u001b[43m)\u001b[49m\n",
      "File \u001b[0;32m~/miniconda3/envs/careerbert/lib/python3.10/site-packages/transformers/trainer.py:2473\u001b[0m, in \u001b[0;36mTrainer._inner_training_loop\u001b[0;34m(self, batch_size, args, resume_from_checkpoint, trial, ignore_keys_for_eval)\u001b[0m\n\u001b[1;32m   2471\u001b[0m update_step \u001b[38;5;241m+\u001b[39m\u001b[38;5;241m=\u001b[39m \u001b[38;5;241m1\u001b[39m\n\u001b[1;32m   2472\u001b[0m num_batches \u001b[38;5;241m=\u001b[39m args\u001b[38;5;241m.\u001b[39mgradient_accumulation_steps \u001b[38;5;28;01mif\u001b[39;00m update_step \u001b[38;5;241m!=\u001b[39m (total_updates \u001b[38;5;241m-\u001b[39m \u001b[38;5;241m1\u001b[39m) \u001b[38;5;28;01melse\u001b[39;00m remainder\n\u001b[0;32m-> 2473\u001b[0m batch_samples, num_items_in_batch \u001b[38;5;241m=\u001b[39m \u001b[38;5;28;43mself\u001b[39;49m\u001b[38;5;241;43m.\u001b[39;49m\u001b[43mget_batch_samples\u001b[49m\u001b[43m(\u001b[49m\u001b[43mepoch_iterator\u001b[49m\u001b[43m,\u001b[49m\u001b[43m \u001b[49m\u001b[43mnum_batches\u001b[49m\u001b[43m)\u001b[49m\n\u001b[1;32m   2474\u001b[0m \u001b[38;5;28;01mfor\u001b[39;00m i, inputs \u001b[38;5;129;01min\u001b[39;00m \u001b[38;5;28menumerate\u001b[39m(batch_samples):\n\u001b[1;32m   2475\u001b[0m     step \u001b[38;5;241m+\u001b[39m\u001b[38;5;241m=\u001b[39m \u001b[38;5;241m1\u001b[39m\n",
      "File \u001b[0;32m~/miniconda3/envs/careerbert/lib/python3.10/site-packages/transformers/trainer.py:5130\u001b[0m, in \u001b[0;36mTrainer.get_batch_samples\u001b[0;34m(self, epoch_iterator, num_batches)\u001b[0m\n\u001b[1;32m   5128\u001b[0m \u001b[38;5;28;01mfor\u001b[39;00m _ \u001b[38;5;129;01min\u001b[39;00m \u001b[38;5;28mrange\u001b[39m(num_batches):\n\u001b[1;32m   5129\u001b[0m     \u001b[38;5;28;01mtry\u001b[39;00m:\n\u001b[0;32m-> 5130\u001b[0m         batch_samples \u001b[38;5;241m+\u001b[39m\u001b[38;5;241m=\u001b[39m [\u001b[38;5;28;43mnext\u001b[39;49m\u001b[43m(\u001b[49m\u001b[43mepoch_iterator\u001b[49m\u001b[43m)\u001b[49m]\n\u001b[1;32m   5131\u001b[0m     \u001b[38;5;28;01mexcept\u001b[39;00m \u001b[38;5;167;01mStopIteration\u001b[39;00m:\n\u001b[1;32m   5132\u001b[0m         \u001b[38;5;28;01mbreak\u001b[39;00m\n",
      "File \u001b[0;32m~/miniconda3/envs/careerbert/lib/python3.10/site-packages/accelerate/data_loader.py:561\u001b[0m, in \u001b[0;36mDataLoaderShard.__iter__\u001b[0;34m(self)\u001b[0m\n\u001b[1;32m    558\u001b[0m \u001b[38;5;28;01mtry\u001b[39;00m:\n\u001b[1;32m    559\u001b[0m     \u001b[38;5;66;03m# But we still move it to the device so it is done before `StopIteration` is reached\u001b[39;00m\n\u001b[1;32m    560\u001b[0m     \u001b[38;5;28;01mif\u001b[39;00m \u001b[38;5;28mself\u001b[39m\u001b[38;5;241m.\u001b[39mdevice \u001b[38;5;129;01mis\u001b[39;00m \u001b[38;5;129;01mnot\u001b[39;00m \u001b[38;5;28;01mNone\u001b[39;00m:\n\u001b[0;32m--> 561\u001b[0m         current_batch \u001b[38;5;241m=\u001b[39m \u001b[43msend_to_device\u001b[49m\u001b[43m(\u001b[49m\u001b[43mcurrent_batch\u001b[49m\u001b[43m,\u001b[49m\u001b[43m \u001b[49m\u001b[38;5;28;43mself\u001b[39;49m\u001b[38;5;241;43m.\u001b[39;49m\u001b[43mdevice\u001b[49m\u001b[43m,\u001b[49m\u001b[43m \u001b[49m\u001b[43mnon_blocking\u001b[49m\u001b[38;5;241;43m=\u001b[39;49m\u001b[38;5;28;43mself\u001b[39;49m\u001b[38;5;241;43m.\u001b[39;49m\u001b[43m_non_blocking\u001b[49m\u001b[43m)\u001b[49m\n\u001b[1;32m    562\u001b[0m     \u001b[38;5;28mself\u001b[39m\u001b[38;5;241m.\u001b[39m_update_state_dict()\n\u001b[1;32m    563\u001b[0m     next_batch \u001b[38;5;241m=\u001b[39m \u001b[38;5;28mnext\u001b[39m(dataloader_iter)\n",
      "File \u001b[0;32m~/miniconda3/envs/careerbert/lib/python3.10/site-packages/accelerate/utils/operations.py:184\u001b[0m, in \u001b[0;36msend_to_device\u001b[0;34m(tensor, device, non_blocking, skip_keys)\u001b[0m\n\u001b[1;32m    181\u001b[0m     \u001b[38;5;28;01melif\u001b[39;00m skip_keys \u001b[38;5;129;01mis\u001b[39;00m \u001b[38;5;28;01mNone\u001b[39;00m:\n\u001b[1;32m    182\u001b[0m         skip_keys \u001b[38;5;241m=\u001b[39m []\n\u001b[1;32m    183\u001b[0m     \u001b[38;5;28;01mreturn\u001b[39;00m \u001b[38;5;28mtype\u001b[39m(tensor)(\n\u001b[0;32m--> 184\u001b[0m         {\n\u001b[1;32m    185\u001b[0m             k: t \u001b[38;5;28;01mif\u001b[39;00m k \u001b[38;5;129;01min\u001b[39;00m skip_keys \u001b[38;5;28;01melse\u001b[39;00m send_to_device(t, device, non_blocking\u001b[38;5;241m=\u001b[39mnon_blocking, skip_keys\u001b[38;5;241m=\u001b[39mskip_keys)\n\u001b[1;32m    186\u001b[0m             \u001b[38;5;28;01mfor\u001b[39;00m k, t \u001b[38;5;129;01min\u001b[39;00m tensor\u001b[38;5;241m.\u001b[39mitems()\n\u001b[1;32m    187\u001b[0m         }\n\u001b[1;32m    188\u001b[0m     )\n\u001b[1;32m    189\u001b[0m \u001b[38;5;28;01melse\u001b[39;00m:\n\u001b[1;32m    190\u001b[0m     \u001b[38;5;28;01mreturn\u001b[39;00m tensor\n",
      "File \u001b[0;32m~/miniconda3/envs/careerbert/lib/python3.10/site-packages/accelerate/utils/operations.py:185\u001b[0m, in \u001b[0;36m<dictcomp>\u001b[0;34m(.0)\u001b[0m\n\u001b[1;32m    181\u001b[0m     \u001b[38;5;28;01melif\u001b[39;00m skip_keys \u001b[38;5;129;01mis\u001b[39;00m \u001b[38;5;28;01mNone\u001b[39;00m:\n\u001b[1;32m    182\u001b[0m         skip_keys \u001b[38;5;241m=\u001b[39m []\n\u001b[1;32m    183\u001b[0m     \u001b[38;5;28;01mreturn\u001b[39;00m \u001b[38;5;28mtype\u001b[39m(tensor)(\n\u001b[1;32m    184\u001b[0m         {\n\u001b[0;32m--> 185\u001b[0m             k: t \u001b[38;5;28;01mif\u001b[39;00m k \u001b[38;5;129;01min\u001b[39;00m skip_keys \u001b[38;5;28;01melse\u001b[39;00m \u001b[43msend_to_device\u001b[49m\u001b[43m(\u001b[49m\u001b[43mt\u001b[49m\u001b[43m,\u001b[49m\u001b[43m \u001b[49m\u001b[43mdevice\u001b[49m\u001b[43m,\u001b[49m\u001b[43m \u001b[49m\u001b[43mnon_blocking\u001b[49m\u001b[38;5;241;43m=\u001b[39;49m\u001b[43mnon_blocking\u001b[49m\u001b[43m,\u001b[49m\u001b[43m \u001b[49m\u001b[43mskip_keys\u001b[49m\u001b[38;5;241;43m=\u001b[39;49m\u001b[43mskip_keys\u001b[49m\u001b[43m)\u001b[49m\n\u001b[1;32m    186\u001b[0m             \u001b[38;5;28;01mfor\u001b[39;00m k, t \u001b[38;5;129;01min\u001b[39;00m tensor\u001b[38;5;241m.\u001b[39mitems()\n\u001b[1;32m    187\u001b[0m         }\n\u001b[1;32m    188\u001b[0m     )\n\u001b[1;32m    189\u001b[0m \u001b[38;5;28;01melse\u001b[39;00m:\n\u001b[1;32m    190\u001b[0m     \u001b[38;5;28;01mreturn\u001b[39;00m tensor\n",
      "File \u001b[0;32m~/miniconda3/envs/careerbert/lib/python3.10/site-packages/accelerate/utils/operations.py:156\u001b[0m, in \u001b[0;36msend_to_device\u001b[0;34m(tensor, device, non_blocking, skip_keys)\u001b[0m\n\u001b[1;32m    154\u001b[0m     device \u001b[38;5;241m=\u001b[39m \u001b[38;5;124m\"\u001b[39m\u001b[38;5;124mxpu:0\u001b[39m\u001b[38;5;124m\"\u001b[39m\n\u001b[1;32m    155\u001b[0m \u001b[38;5;28;01mtry\u001b[39;00m:\n\u001b[0;32m--> 156\u001b[0m     \u001b[38;5;28;01mreturn\u001b[39;00m \u001b[43mtensor\u001b[49m\u001b[38;5;241;43m.\u001b[39;49m\u001b[43mto\u001b[49m\u001b[43m(\u001b[49m\u001b[43mdevice\u001b[49m\u001b[43m,\u001b[49m\u001b[43m \u001b[49m\u001b[43mnon_blocking\u001b[49m\u001b[38;5;241;43m=\u001b[39;49m\u001b[43mnon_blocking\u001b[49m\u001b[43m)\u001b[49m\n\u001b[1;32m    157\u001b[0m \u001b[38;5;28;01mexcept\u001b[39;00m \u001b[38;5;167;01mTypeError\u001b[39;00m:  \u001b[38;5;66;03m# .to() doesn't accept non_blocking as kwarg\u001b[39;00m\n\u001b[1;32m    158\u001b[0m     \u001b[38;5;28;01mreturn\u001b[39;00m tensor\u001b[38;5;241m.\u001b[39mto(device)\n",
      "\u001b[0;31mKeyboardInterrupt\u001b[0m: "
     ]
    }
   ],
   "source": [
    "MRR = []\n",
    "MRR_AT = 100\n",
    "training_start = \"\".join([c for c in str(datetime.now()).split('.')[0] if c.isdigit()])\n",
    "max_MRR = 0\n",
    "\n",
    "for epoch, (train_index, dev_index) in enumerate(kf.split(pos_pairs)):\n",
    "\n",
    "  pos_train_samples = [pos_pairs[i] for i in train_index]\n",
    "  pos_dev_samples = [pos_pairs[i] for i in dev_index]\n",
    "  warmup = len(pos_train_samples)*0.1\n",
    " \n",
    "  dev_set_total = create_trainig_samples(pos_dev_samples,neg_pairs)\n",
    "  train_examples = []\n",
    "  for item in pos_train_samples:\n",
    "    train_examples.append(InputExample(texts=[item[0], item[1]]))\n",
    "  train_dataloader = DataLoader(train_examples, shuffle=True, batch_size=batch_size)\n",
    "  train_loss = losses.MultipleNegativesRankingLoss(model)\n",
    "  evaluator = evaluation.RerankingEvaluator(dev_set_total,at_k=100,show_progress_bar=True)\n",
    "  # train the model \n",
    "  \n",
    "  model.fit(train_objectives=[(train_dataloader, train_loss)],\n",
    "    epochs=num_epochs,\n",
    "    warmup_steps=warmup,\n",
    "    evaluator=evaluator,\n",
    "    checkpoint_path=\"./model_checkpoints\",  # Changed path\n",
    "    checkpoint_save_total_limit=1,\n",
    "    #save_best_model = True,\n",
    "    optimizer_params={'lr':lr},\n",
    "    checkpoint_save_steps = 1000,\n",
    "    output_path= output_path,\n",
    "  )\n",
    "  # load the test ads and encode them with the current model\n",
    "  testads = pd.DataFrame(load_json(\"../00_data/EURES/eures_testads_final_short.json\"))\n",
    "  encodings_short = model.encode(list(testads[\"short_texts\"]), show_progress_bar=True)\n",
    "  testads[\"embeddings_short\"] = encodings_short.tolist()\n",
    "  embeddings = encode_jobs(model)\n",
    "\n",
    "  # make evaluation\n",
    "  similarities = {}\n",
    "  for k in embeddings:\n",
    "    similarities[k] = (util.cos_sim(testads[\"embeddings_short\"],embeddings[k][\"embeddings\"]))\n",
    "  for k in similarities.keys():\n",
    "    ranks = []\n",
    "    missing = 0\n",
    "    simdf = pd.DataFrame(similarities[k],columns=embeddings[k][\"esco_id\"], index=testads[\"esco_id\"])\n",
    "    for i in tqdm(range(len(simdf))):\n",
    "      id = simdf.iloc[i].name\n",
    "      series = simdf.iloc[i].sort_values(ascending=False).reset_index()\n",
    "      #print(series)\n",
    "      rank = (series[series[\"index\"]==id].index.item()+1)\n",
    "      #print(rank)\n",
    "      if rank > MRR_AT:\n",
    "        missing +=1\n",
    "        ranks.append(0)\n",
    "      else:\n",
    "        ranks.append(1/rank)\n",
    "    missing = missing/len(simdf)\n",
    "    current_run = {\"model\":output_path.split(\"/\")[-1],\"epoch\":epoch,\n",
    "                   \"embedding_kind\":k, \"MRR\":np.mean(ranks),\n",
    "                   \"missing\":missing, \"MRR@\":MRR_AT,\n",
    "                   \"training_details\":[training_start, batch_size, lr, warmup, num_epochs, fold_size, TSDAE]}\n",
    "    MRR.append(current_run)\n",
    "    df = pd.DataFrame(MRR)\n",
    "    display(df)\n",
    "    # safe model separately, if new model has higher MRR than best model before \n",
    "    if np.mean(ranks) > max_MRR:\n",
    "      print(f\"New best Model saved after epoch {epoch}\")\n",
    "      max_MRR = np.mean(ranks)\n",
    "      best_model_to_save = model\n",
    "      best_model_to_save.save(f\"{output_path}_best\")\n",
    "      write_json(f\"{output_path}/model_info.json\",current_run)\n",
    "    df.to_excel(f\"{output_path}/eval/{training_start}_trainig_details.xlsx\")\n",
    "best_model_to_save.save(f\"{output_path}\")"
   ]
  }
 ],
 "metadata": {
  "accelerator": "GPU",
  "colab": {
   "authorship_tag": "ABX9TyPOVltfMm9syHPl4fxxi3lm",
   "gpuClass": "premium",
   "provenance": []
  },
  "gpuClass": "premium",
  "kernelspec": {
   "display_name": "careerbert",
   "language": "python",
   "name": "python3"
  },
  "language_info": {
   "codemirror_mode": {
    "name": "ipython",
    "version": 3
   },
   "file_extension": ".py",
   "mimetype": "text/x-python",
   "name": "python",
   "nbconvert_exporter": "python",
   "pygments_lexer": "ipython3",
   "version": "3.10.16"
  }
 },
 "nbformat": 4,
 "nbformat_minor": 4
}
